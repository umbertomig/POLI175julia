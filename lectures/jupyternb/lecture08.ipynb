{
 "cells": [
  {
   "cell_type": "markdown",
   "id": "243e38f9",
   "metadata": {
    "slideshow": {
     "slide_type": "slide"
    }
   },
   "source": [
    "# POLI 175 - Lecture 08\n",
    "\n",
    "## Classification"
   ]
  },
  {
   "cell_type": "markdown",
   "id": "fd4233b5",
   "metadata": {
    "slideshow": {
     "slide_type": "slide"
    }
   },
   "source": [
    "## Classification\n",
    "\n",
    "Loading packages:"
   ]
  },
  {
   "cell_type": "code",
   "execution_count": null,
   "id": "cd13c02d",
   "metadata": {
    "slideshow": {
     "slide_type": "-"
    }
   },
   "outputs": [],
   "source": [
    "# If needed\n",
    "using Pkg\n",
    "Pkg.add(\"Missings\")\n",
    "Pkg.add(\"StatsAPI\")\n",
    "Pkg.add(\"FreqTables\")\n",
    "Pkg.add(\"EvalMetrics\")\n",
    "Pkg.update()"
   ]
  },
  {
   "cell_type": "markdown",
   "id": "53ddee21",
   "metadata": {
    "slideshow": {
     "slide_type": "slide"
    }
   },
   "source": [
    "## Classification\n",
    "\n",
    "Loading packages:"
   ]
  },
  {
   "cell_type": "code",
   "execution_count": null,
   "id": "a31ca894",
   "metadata": {
    "slideshow": {
     "slide_type": "-"
    }
   },
   "outputs": [],
   "source": [
    "## Loading the packages\n",
    "using CSV, DataFrames, Plots, GLM, StatsBase, Random\n",
    "using LaTeXStrings, StatsPlots, Lowess, Gadfly, RegressionTables\n",
    "using CovarianceMatrices, Econometrics, LinearAlgebra, MixedModelsExtras\n",
    "using Missings, StatsAPI, FreqTables, EvalMetrics\n",
    "\n",
    "# Auxiliar function\n",
    "function pairplot(df)\n",
    "    _, cols = size(df)\n",
    "    plots = []\n",
    "    for row = 1:cols, col = 1:cols\n",
    "        push!(\n",
    "            plots,\n",
    "            scatter(\n",
    "                df[:, row],\n",
    "                df[:, col],\n",
    "                xtickfont = font(4),\n",
    "                ytickfont = font(4),\n",
    "                legend = false,\n",
    "            ),\n",
    "        )\n",
    "    end\n",
    "    Plots.plot(plots..., layout = (cols, cols))\n",
    "end"
   ]
  },
  {
   "cell_type": "markdown",
   "id": "20de95f7",
   "metadata": {
    "slideshow": {
     "slide_type": "slide"
    }
   },
   "source": [
    "# Classification"
   ]
  },
  {
   "cell_type": "markdown",
   "id": "bf49db3f",
   "metadata": {
    "slideshow": {
     "slide_type": "slide"
    }
   },
   "source": [
    "## Classification\n",
    "\n",
    "Linear regression is great! But it assumes we want to predict a continuous target variable.\n",
    "\n",
    "There are situations when our target is qualitative.\n",
    "\n",
    "**Examples:**\n",
    "\n",
    "1. Whether a country default its debt obligations?\n",
    "\n",
    "1. Whether a person voted Republican, Democrat, Independent, voted for a different party, or did not turnout to vote?\n",
    "\n",
    "1. What determines the number of FOI requests that a given public office receives every day?\n",
    "\n",
    "1. Is a country expected to meet, exceed, or not meet the Paris Treaty Nationally Determined Contributions?\n",
    "\n",
    "All these questions are qualitative in nature."
   ]
  },
  {
   "cell_type": "markdown",
   "id": "78f7e48c",
   "metadata": {
    "slideshow": {
     "slide_type": "slide"
    }
   },
   "source": [
    "## Running Example\n",
    "\n",
    "### [Chile Survey](https://en.wikipedia.org/wiki/Chile)\n",
    "\n",
    "In 1988, the [Chilean Dictator](https://en.wikipedia.org/wiki/Military_dictatorship_of_Chile) [Augusto Pinochet](https://en.wikipedia.org/wiki/Augusto_Pinochet) conducted a [referendum to whether he should step out](https://en.wikipedia.org/wiki/1988_Chilean_presidential_referendum).\n",
    "\n",
    "The [FLACSO](https://en.wikipedia.org/wiki/Latin_American_Faculty_of_Social_Sciences) in Chile conducted a surver on 2700 respondents. We are going to build a model to predict their voting intentions.\n",
    "\n",
    "| **Variable** | **Meaning** |\n",
    "|:---:|---|\n",
    "| region | A factor with levels:<br>- `C`, Central; <br>- `M`, Metropolitan Santiago area; <br>- `N`, North; <br>- `S`, South; <br>- `SA`, city of Santiago. |\n",
    "| population | The population size of respondent's community. |\n",
    "| sex | A factor with levels: <br>- `F`, female; <br>- `M`, male. |\n",
    "| age | The respondent's age in years. |\n",
    "| education | A factor with levels: <br>- `P`, Primary; <br>- `S`, Secondary; <br>- `PS`, Post-secondary. |\n",
    "| income | The respondent's monthly income, in Pesos. |\n",
    "| statusquo | A scale of support for the status-quo. |\n",
    "| vote | A factor with levels: <br>- `A`, will abstain; <br>- `N`, will vote no (against Pinochet);<br>- `U`, is undecided; <br>- `Y`, will vote yes (for Pinochet). |"
   ]
  },
  {
   "cell_type": "markdown",
   "id": "39b8c9b7",
   "metadata": {
    "slideshow": {
     "slide_type": "slide"
    }
   },
   "source": [
    "## Chile Survey"
   ]
  },
  {
   "cell_type": "code",
   "execution_count": null,
   "id": "4704653f",
   "metadata": {
    "slideshow": {
     "slide_type": "-"
    }
   },
   "outputs": [],
   "source": [
    "## Loading the data\n",
    "chile = CSV.read(\n",
    "    download(\"https://raw.githubusercontent.com/umbertomig/POLI175julia/main/data/chilesurvey.csv\"), \n",
    "    DataFrame,\n",
    "    missingstring = [\"NA\"]\n",
    "); dropmissing!(chile)\n",
    "chile.voteyes = ifelse.(chile.vote .== \"Y\", 1, 0)\n",
    "first(chile, 3)"
   ]
  },
  {
   "cell_type": "markdown",
   "id": "1ef73891",
   "metadata": {
    "slideshow": {
     "slide_type": "slide"
    }
   },
   "source": [
    "## Book's Example\n",
    "\n",
    "Probability of voting `yes` (favor of Pinochet remain in power for eight more years), conditional on how satisfied the person is with things as they are:"
   ]
  },
  {
   "cell_type": "code",
   "execution_count": null,
   "id": "2a3066cc",
   "metadata": {},
   "outputs": [],
   "source": [
    "dat = DataFrame(statusquo = collect(range(-3, stop = 3, length = 100)));"
   ]
  },
  {
   "cell_type": "code",
   "execution_count": null,
   "id": "0ebd268c",
   "metadata": {},
   "outputs": [],
   "source": [
    "Gadfly.plot(\n",
    "    x = chile.statusquo, y = chile.voteyes, Stat.y_jitter(range = 0.2), Geom.point,\n",
    "    Guide.xlabel(\"Status Quo Preference\"), Guide.ylabel(\"Vote for Pinochet\"),\n",
    "    layer(x = dat.statusquo, y = predict(glm(@formula(voteyes ~ statusquo), chile, Binomial(), LogitLink()), dat), Geom.line, color = [colorant\"red\"], order = 2),\n",
    "    layer(x = dat.statusquo, y = predict(lm(@formula(voteyes ~ statusquo), chile), dat), Geom.line, color = [colorant\"blue\"], order = 3)\n",
    ")"
   ]
  },
  {
   "cell_type": "markdown",
   "id": "58ebd7dd",
   "metadata": {
    "slideshow": {
     "slide_type": "slide"
    }
   },
   "source": [
    "## Logistic Regression\n",
    "\n",
    "[Logistic Regression](https://en.wikipedia.org/wiki/Logistic_regression) belongs to a class of models called [Generalized Linear Models](https://en.wikipedia.org/wiki/Generalized_linear_model) (or GLM for short).\n",
    "\n",
    "GLM, in a nutshell (and in a proudly lazy definition) is an expansion of Linear Model that assumes:\n",
    "- A Linear Relationship in part of the model\n",
    "- But then applies a non-linear transformation to the response variable.\n",
    "\n",
    "The non-linear transformation is called `link function`. Many link functions around (check [here](https://en.wikipedia.org/wiki/Generalized_linear_model) for various link functions).\n",
    "\n",
    "The link function will determine which types of models we run.\n",
    "\n",
    "When the outcome variable is binary, we may use `Logistic` or `Probit` links."
   ]
  },
  {
   "cell_type": "markdown",
   "id": "934d97c8",
   "metadata": {
    "slideshow": {
     "slide_type": "slide"
    }
   },
   "source": [
    "## Logistic Regression\n",
    "\n",
    "In a regression, we are investigating something along the lines of:\n",
    "\n",
    "$$ \\mathbb{E}[Y | X] \\ = \\ \\beta_0 + \\beta_1 X $$\n",
    "\n",
    "But when the outcome is binary we would like to get:\n",
    "\n",
    "$$ \\mathbb{E}[Y | X] \\ = \\ \\mathbb{P}(Y = 1 | X) $$\n",
    "\n",
    "And the Logistic link is nothing but:\n",
    "\n",
    "$$ \\mathbb{P}(Y = 1 | X) \\ = \\ \\dfrac{e^{(\\beta_0 + \\beta_1X)}}{1 + e^{(\\beta_0 + \\beta_1X)}} \\ = \\ \\dfrac{1}{1 + e^{-(\\beta_0 + \\beta_1X)}} $$"
   ]
  },
  {
   "cell_type": "markdown",
   "id": "afb6cf25",
   "metadata": {
    "slideshow": {
     "slide_type": "slide"
    }
   },
   "source": [
    "## Logistic Regression\n",
    "\n",
    "With a bit of manipulation, we get to something called odds ratio:\n",
    "\n",
    "$$ \\dfrac{\\mathbb{P}(Y = 1 | X)}{\\mathbb{P}(Y = 0 | X)} \\ = \\ \\dfrac{\\mathbb{P}(Y = 1 | X)}{1 - \\mathbb{P}(Y = 1 | X)} \\ = \\ e^{(\\beta_0 + \\beta_1X)} $$\n",
    "\n",
    "And logging the thing gets rid of the Euler constant:\n",
    "\n",
    "$$ \\log \\left( \\dfrac{\\mathbb{P}(Y = 1 | X)}{1 - \\mathbb{P}(Y = 1 | X)}\\right) \\ = \\ \\beta_0 + \\beta_1X $$\n",
    "\n",
    "And this is the [Logit Link](https://en.wikipedia.org/wiki/Logistic_regression)."
   ]
  },
  {
   "cell_type": "markdown",
   "id": "f1324852",
   "metadata": {
    "slideshow": {
     "slide_type": "slide"
    }
   },
   "source": [
    "## Logistic Regression\n",
    "\n",
    "Little detour to talk about odd ratios:\n",
    "\n",
    "- Note the odd ratio: $\\dfrac{\\mathbb{P}(Y = 1 | X)}{1 - \\mathbb{P}(Y = 1 | X)}$\n",
    "\n",
    "- It is a ratio between the chance of $Y = 1$ divided by the chance of $Y = 0$.\n",
    "\n",
    "- Since probabilities are between zero and one, the ratio is always between $(0, \\infty)$.\n",
    "\n",
    "Example:\n",
    "\n",
    "- If based on characteristics, two in every ten people vote for Pinochet, $\\mathbb{P}(Y = 1 | X = \\text{some characs.}) = 0.2$ and the odds ratio is $1/4$.\n",
    "\n",
    "- If based on other set of characteristics, nine out of ten people vote for Pinochet, $\\mathbb{P}(Y = 1 | X = \\text{some other characs.}) = 0.9$ and the odds ratio is $9$.\n",
    "\n",
    "One is the number that *does not change the ratios*.\n"
   ]
  },
  {
   "cell_type": "markdown",
   "id": "fe946ad8",
   "metadata": {
    "slideshow": {
     "slide_type": "slide"
    }
   },
   "source": [
    "## Logistic Regression\n",
    "\n",
    "Little other detour to talk about the coefficients:\n",
    "\n",
    "In linear regression, changes in one unit of $x_i$ changes your target variable in $\\beta_i$ units, on average.\n",
    "\n",
    "In logistic regression, changes in one unit of $x_i$ changes **the log odds** of your target variable in $\\beta_i$ units, on average.\n",
    "\n",
    "- Multiplies the odds by $e^{\\beta_i}$! This is **not** a straight line!\n",
    "\n",
    "- Easy proxy (does not work for interaction terms): \n",
    "    + When $\\beta_1$ is **positive**, it **increases** the $\\mathbb{P}(Y = 1 | X)$\n",
    "    + When $\\beta_1$ is **negative**, it **decreases** the $\\mathbb{P}(Y = 1 | X)$\n",
    "    \n",
    "Try to compute the partial derivatives on $X$ and you will see the complications!"
   ]
  },
  {
   "cell_type": "markdown",
   "id": "9494c01e",
   "metadata": {
    "slideshow": {
     "slide_type": "slide"
    }
   },
   "source": [
    "## Logistic Regression\n",
    "\n",
    "Technical:\n",
    "\n",
    "1. The estimation is through [maximizing the likelihood function](https://en.wikipedia.org/wiki/Likelihood_function).<br> This is outside the scope of the course, but an interesting topic to learn in an advanced course.<br> <br> \n",
    "\n",
    "\n",
    "2. The hypothesis test for the coefficient's significance in here is a Z-test (based on the Normal distribution). <br> Null Hypothesis: $$H_0: \\beta_i = 0 \\quad \\text{ or alternatively, } \\quad H_0: e^{\\beta_i} = 1$$<br> <br> \n",
    "\n",
    "\n",
    "3. Making predictions: Just insert the predicted $\\hat{\\beta}$s on the equation.\n",
    "    \n",
    "$$ \\hat{p}(X) \\ = \\ \\dfrac{e^{\\hat{\\beta}_0 + \\hat{\\beta}_1 X}}{1 + e^{\\hat{\\beta}_0 + \\hat{\\beta}_1 X}} $$"
   ]
  },
  {
   "cell_type": "markdown",
   "id": "bd4ecbe7",
   "metadata": {
    "slideshow": {
     "slide_type": "slide"
    }
   },
   "source": [
    "## Logistic Regression\n",
    "\n",
    "Fitting a Linear Regression using Julia GLM package. Note the syntax:\n",
    "\n",
    "```julia\n",
    "glm(\n",
    "    @formula(target ~ feature1 + feature2 + ... + featureK), \n",
    "    dataset, \n",
    "    distr = Binomial(),\n",
    "    link = LogitLink()\n",
    ")\n",
    "```"
   ]
  },
  {
   "cell_type": "code",
   "execution_count": null,
   "id": "a0f0b79e",
   "metadata": {
    "slideshow": {
     "slide_type": "-"
    }
   },
   "outputs": [],
   "source": [
    "modlog = glm(@formula(voteyes ~ age), chile, Binomial(), LogitLink())"
   ]
  },
  {
   "cell_type": "markdown",
   "id": "7f69b6d4",
   "metadata": {},
   "source": [
    "What is happening here? Let us interpret some of the results."
   ]
  },
  {
   "cell_type": "markdown",
   "id": "a8870963",
   "metadata": {
    "slideshow": {
     "slide_type": "slide"
    }
   },
   "source": [
    "## Logistic Regression\n",
    "\n",
    "Compare with a linear regression:"
   ]
  },
  {
   "cell_type": "code",
   "execution_count": null,
   "id": "6bab91d3",
   "metadata": {
    "scrolled": true,
    "slideshow": {
     "slide_type": "-"
    }
   },
   "outputs": [],
   "source": [
    "# Linear Model\n",
    "modlin = lm(@formula(voteyes ~ age), chile)\n",
    "regtable(modlin, modlog)"
   ]
  },
  {
   "cell_type": "markdown",
   "id": "7da464ed",
   "metadata": {},
   "source": [
    "What is happening here? Let us interpret some of the results for both models."
   ]
  },
  {
   "cell_type": "markdown",
   "id": "cbf9982d",
   "metadata": {
    "slideshow": {
     "slide_type": "slide"
    }
   },
   "source": [
    "## Logistic Regression\n",
    "\n",
    "Column 1: [Linear Probability Model](https://en.wikipedia.org/wiki/Linear_probability_model)\n",
    "\n",
    "Column 2: [Logistic Model](https://en.wikipedia.org/wiki/Logistic_regression)\n",
    "\n",
    "Column 3: [Probit Model](https://en.wikipedia.org/wiki/Probit_model)\n",
    "\n",
    "And there are other links that we may use."
   ]
  },
  {
   "cell_type": "code",
   "execution_count": null,
   "id": "840c8d2e",
   "metadata": {
    "slideshow": {
     "slide_type": "fragment"
    }
   },
   "outputs": [],
   "source": [
    "modpro = glm(@formula(voteyes ~ age), chile, Binomial(), ProbitLink())\n",
    "regtable(modlin, modlog, modpro)"
   ]
  },
  {
   "cell_type": "markdown",
   "id": "b98bb93e",
   "metadata": {
    "slideshow": {
     "slide_type": "slide"
    }
   },
   "source": [
    "## Logistic Regression\n",
    "\n",
    "We can easily fit multivariate regressions:\n",
    "\n",
    "Model 1: [Linear Probability Model](https://en.wikipedia.org/wiki/Linear_probability_model)\n",
    "\n",
    "Model 2: [Logistic Model](https://en.wikipedia.org/wiki/Logistic_regression)\n",
    "\n",
    "Model 3: [Probit Model](https://en.wikipedia.org/wiki/Probit_model)"
   ]
  },
  {
   "cell_type": "code",
   "execution_count": null,
   "id": "247274f0",
   "metadata": {
    "slideshow": {
     "slide_type": "fragment"
    }
   },
   "outputs": [],
   "source": [
    "modlin2 = lm(@formula(voteyes ~ region + log(population) + sex + age + education + log(income)), chile);\n",
    "modlog2 = glm(@formula(voteyes ~ region + log(population) + sex + age + education + log(income)), chile, Binomial(), LogitLink());\n",
    "modpro2 = glm(@formula(voteyes ~ region + log(population) + sex + age + education + log(income)), chile, Binomial(), ProbitLink());"
   ]
  },
  {
   "cell_type": "markdown",
   "id": "01bee721",
   "metadata": {
    "slideshow": {
     "slide_type": "slide"
    }
   },
   "source": [
    "## Logistic Regression\n",
    "\n",
    "Now with a pretty table:"
   ]
  },
  {
   "cell_type": "code",
   "execution_count": null,
   "id": "025808e4",
   "metadata": {},
   "outputs": [],
   "source": [
    "regtable(modlin2, modlog2, modpro2; \n",
    "    groups = [\"Linear\", \"Logistic\", \"Probit\"],\n",
    "    number_regressions = false,\n",
    "    labels = Dict(\"voteyes\" => \"Vote for Pinochet\", \"(Intercept)\" => \"Constant\", \"region: M\" => \"Region = Santiago Metro\",\n",
    "        \"region: N\" => \"Region = North\", \"region: S\" => \"Region = South\", \n",
    "        \"region: SA\" => \"Region = Santiago City\", \"log(population)\" => \"Log District Population\",\n",
    "        \"sex: M\" => \"Male\", \"age\" => \"Age\", \"education: PS\" => \"Post-Secondary Education\",\n",
    "        \"education: S\" => \"Secondary Education\", \"log(income)\" => \"Log District Income\"\n",
    "    )\n",
    ")"
   ]
  },
  {
   "cell_type": "markdown",
   "id": "08b9619f",
   "metadata": {
    "slideshow": {
     "slide_type": "slide"
    }
   },
   "source": [
    "## Logistic Regression\n",
    "\n",
    "The predicted values are probabilities:"
   ]
  },
  {
   "cell_type": "code",
   "execution_count": null,
   "id": "0fffa64a",
   "metadata": {
    "slideshow": {
     "slide_type": "fragment"
    }
   },
   "outputs": [],
   "source": [
    "Gadfly.plot(\n",
    "    x = predict(modlog2), \n",
    "    Geom.histogram, \n",
    "    color = ifelse.(predict(modlog2).>0.5, \"Predict Yes\", \"Predict No\"),\n",
    "    Guide.xlabel(\"Predicted Probabilities\")\n",
    ")"
   ]
  },
  {
   "cell_type": "markdown",
   "id": "84bb9a1f",
   "metadata": {
    "slideshow": {
     "slide_type": "slide"
    }
   },
   "source": [
    "## Logistic Regression\n",
    "\n",
    "Let's look at the coefficients. Those are log odds ratio:"
   ]
  },
  {
   "cell_type": "code",
   "execution_count": null,
   "id": "4482614c",
   "metadata": {
    "slideshow": {
     "slide_type": "fragment"
    }
   },
   "outputs": [],
   "source": [
    "## Parameters\n",
    "println(modlog2)\n",
    "println(coef(modlog2))"
   ]
  },
  {
   "cell_type": "markdown",
   "id": "d7e8f89d",
   "metadata": {
    "slideshow": {
     "slide_type": "slide"
    }
   },
   "source": [
    "## Logistic Regression\n",
    "\n",
    "To make them odds ratio, we exponentiate."
   ]
  },
  {
   "cell_type": "code",
   "execution_count": null,
   "id": "c2e6fdb3",
   "metadata": {
    "slideshow": {
     "slide_type": "fragment"
    }
   },
   "outputs": [],
   "source": [
    "## Parameters\n",
    "println(modlog2)\n",
    "println(exp.(coef(modlog2)))"
   ]
  },
  {
   "cell_type": "markdown",
   "id": "8561ca47",
   "metadata": {
    "slideshow": {
     "slide_type": "slide"
    }
   },
   "source": [
    "## Logistic Regression\n",
    "\n",
    "**The interaction term**: \n",
    "\n",
    "We found in the previous models that:\n",
    "\n",
    "1. The higher the district's population, the lower the chance of supporting Pinochet\n",
    "1. The higher the district's income, the higher the chance of voting for Pinochet\n",
    "\n",
    "The first result relates with people living in cities preferring democracy; the second results relate to people that are benefiting financially from the status quo preferring to keep things as they are.\n",
    "\n",
    "But how about a rich person that lives in a city? In the US analogy, thing of billionaire democrat. She supports the democrats even though she may be benefiting from things they are.\n",
    "\n",
    "Conversely, how about a poor person that lives in a village? It could be that the person is not benefiting from things they are, but she favors Pinochet for conservative issues.\n",
    "\n",
    "Let us prepare a situation where population stays fixed on one of three values: 25th percentile (small villages), median (median-density districts), 75th percentile (more dense districts); and income varying from zero to one million pesos.\n",
    "\n",
    "This should give an idea of how population and income jointly affect the probability of voting for Pinochet."
   ]
  },
  {
   "cell_type": "code",
   "execution_count": null,
   "id": "1d66cf5a",
   "metadata": {},
   "outputs": [],
   "source": [
    "# Auxiliary variables\n",
    "chile.pop100k = chile.population / 100000;\n",
    "chile.inc1mi = chile.income / 1000000;"
   ]
  },
  {
   "cell_type": "code",
   "execution_count": null,
   "id": "4b93ad5b",
   "metadata": {},
   "outputs": [],
   "source": [
    "# Three interactions between a fixed income and a varying population\n",
    "newdat_popq1 = DataFrame(\n",
    "    pop100k = repeat([quantile(chile.pop100k, 0.25)], 100), \n",
    "    inc1mi = collect(range(0.0, stop = 1.0, length = 100))\n",
    ");\n",
    "newdat_popmed = DataFrame(\n",
    "    pop100k = repeat([median(chile.pop100k)], 100), \n",
    "    inc1mi = collect(range(0.0, stop = 1.0, length = 100))\n",
    ");\n",
    "newdat_popq3 = DataFrame(\n",
    "    pop100k = repeat([quantile(chile.pop100k, 0.75)], 100), \n",
    "    inc1mi = collect(range(0.0, stop = 1.0, length = 100))\n",
    ");"
   ]
  },
  {
   "cell_type": "markdown",
   "id": "95b42e11",
   "metadata": {
    "slideshow": {
     "slide_type": "slide"
    }
   },
   "source": [
    "## Logistic Regression\n",
    "\n",
    "**The interaction term**: \n",
    "\n",
    "In a linear regression:"
   ]
  },
  {
   "cell_type": "code",
   "execution_count": null,
   "id": "7d1f02af",
   "metadata": {
    "slideshow": {
     "slide_type": "fragment"
    }
   },
   "outputs": [],
   "source": [
    "## Parameters\n",
    "modlin3 = lm(@formula(voteyes ~ pop100k * inc1mi ), chile)\n",
    "regtable(modlin3; \n",
    "    number_regressions = false,\n",
    "    labels = Dict(\n",
    "        \"voteyes\" => \"Vote for Pinochet\", \n",
    "        \"(Intercept)\" => \"Constant\", \n",
    "        \"pop100k\" => \"Population (100k people)\",\n",
    "        \"inc1mi\" => \"Income (1 million pesos)\",\n",
    "        \"pop100k & inc1mi\" => \"Population x Income\"\n",
    "    )\n",
    ")"
   ]
  },
  {
   "cell_type": "markdown",
   "id": "64dfbf01",
   "metadata": {
    "slideshow": {
     "slide_type": "slide"
    }
   },
   "source": [
    "## Logistic Regression\n",
    "\n",
    "**The interaction term**:\n",
    "\n",
    "And here is how the interaction term affects the results:"
   ]
  },
  {
   "cell_type": "code",
   "execution_count": null,
   "id": "bb8c9329",
   "metadata": {},
   "outputs": [],
   "source": [
    "Gadfly.plot(x = newdat_popq1.inc1mi, y=predict(modlin3, newdat_popq1), Geom.line, color = [\"Population (Q1)\"],\n",
    "    layer(x = newdat_popmed.inc1mi, y=predict(modlin3, newdat_popmed), Geom.line, color = [\"Population (median)\"]),\n",
    "    layer(x = newdat_popq3.inc1mi, y=predict(modlin3, newdat_popq3), Geom.line, color = [\"Population (Q3)\"]),\n",
    "    Guide.xlabel(\"Income\"),\n",
    "    Guide.ylabel(\"Chance of Voting for Pinochet\"),\n",
    "    Guide.title(\"Linear Probability Model\") \n",
    ")"
   ]
  },
  {
   "cell_type": "markdown",
   "id": "4262a1b3",
   "metadata": {},
   "source": [
    "Note the ***linearity*** of the interaction effect. Note also the effects of extrapolating."
   ]
  },
  {
   "cell_type": "markdown",
   "id": "a0af5a52",
   "metadata": {
    "slideshow": {
     "slide_type": "slide"
    }
   },
   "source": [
    "## Logistic Regression\n",
    "\n",
    "**The interaction term**: \n",
    "\n",
    "In the logistic regression, you need to use a plot called [interactive effects plot](). If you are curious, [here is a good theoretical explanation, with Stata examples](https://stats.oarc.ucla.edu/stata/seminars/deciphering-interactions-in-logistic-regression/)."
   ]
  },
  {
   "cell_type": "code",
   "execution_count": null,
   "id": "924db58d",
   "metadata": {
    "slideshow": {
     "slide_type": "fragment"
    }
   },
   "outputs": [],
   "source": [
    "## Parameters\n",
    "modlog3 = glm(@formula(voteyes ~ pop100k * inc1mi), chile, Binomial(), LogitLink())\n",
    "regtable(modlog3; \n",
    "    number_regressions = false,\n",
    "    labels = Dict(\n",
    "        \"voteyes\" => \"Vote for Pinochet\", \n",
    "        \"(Intercept)\" => \"Constant\", \n",
    "        \"pop100k\" => \"Population (100k people)\",\n",
    "        \"inc1mi\" => \"Income (1 million pesos)\",\n",
    "        \"pop100k & inc1mi\" => \"Population x Income\"\n",
    "    )\n",
    ")"
   ]
  },
  {
   "cell_type": "markdown",
   "id": "fda4e3ca",
   "metadata": {
    "slideshow": {
     "slide_type": "slide"
    }
   },
   "source": [
    "## Logistic Regression\n",
    "\n",
    "**The interaction term**:\n",
    "\n",
    "Note now the ***non-linearity*** of the interaction effect:"
   ]
  },
  {
   "cell_type": "code",
   "execution_count": null,
   "id": "37a22728",
   "metadata": {},
   "outputs": [],
   "source": [
    "Gadfly.plot(x = newdat_popq1.inc1mi, y=predict(modlog3, newdat_popq1), Geom.line, color = [\"Population (Q1)\"],\n",
    "    layer(x = newdat_popmed.inc1mi, y=predict(modlog3, newdat_popmed), Geom.line, color = [\"Population (median)\"]),\n",
    "    layer(x = newdat_popq3.inc1mi, y=predict(modlog3, newdat_popq3), Geom.line, color = [\"Population (Q3)\"]),\n",
    "    Guide.xlabel(\"Income\"),\n",
    "    Guide.ylabel(\"Chance of Voting for Pinochet\"),\n",
    "    Guide.title(\"Logistic Model\") \n",
    ")"
   ]
  },
  {
   "cell_type": "markdown",
   "id": "b441c2f4",
   "metadata": {
    "slideshow": {
     "slide_type": "slide"
    }
   },
   "source": [
    "## Logistic Regression\n",
    "\n",
    "In generalized linear models where the link function is not the identity function (i.e., not a linear regression), you need to be careful when interpreting and using interactions.\n",
    "\n",
    "In linear models, it is straightforward.\n",
    "\n",
    "In all models, it involves taking a partial derivative of the conditional expectation function that we fit in the training stage.\n",
    "\n",
    "A catch is: This discussion matters more if you care about interpreting your model. For prediction, it does not matter that much.\n",
    "\n",
    "***But what matters for prediction?***"
   ]
  },
  {
   "cell_type": "markdown",
   "id": "cdc4243c",
   "metadata": {
    "slideshow": {
     "slide_type": "slide"
    }
   },
   "source": [
    "## Logistic Regression\n",
    "\n",
    "### Prediction\n",
    "\n",
    "Suppose that we are an investment firm that will invest in Chile only if democracy wins.\n",
    "\n",
    "Because the plebiscite did not happened, uncertainty may bring its own gains. Thus, it may be better to invest *before* the results.\n",
    "\n",
    "All we have is this dataset. So, how much we predict modeling the vote for pinochet using these variables?\n",
    "\n",
    "Let us model vote for Pinochet using the following variables: `log(income)`, `log(population)`, and `age`."
   ]
  },
  {
   "cell_type": "code",
   "execution_count": null,
   "id": "bfbfc4ef",
   "metadata": {
    "scrolled": false
   },
   "outputs": [],
   "source": [
    "modlog4 = glm(@formula(voteyes ~ log(population) + log(income) + age), chile, Binomial(), LogitLink())"
   ]
  },
  {
   "cell_type": "markdown",
   "id": "b6a72d56",
   "metadata": {},
   "source": [
    "How well is this model doing?"
   ]
  },
  {
   "cell_type": "markdown",
   "id": "07ad31ab",
   "metadata": {
    "slideshow": {
     "slide_type": "slide"
    }
   },
   "source": [
    "## Logistic Regression\n",
    "\n",
    "### Prediction\n",
    "\n",
    "We have significance, and we may think: pretty well! But like the $R^2$ for linear regressions, we need something that works similar in here.\n",
    "\n",
    "Let us start checking how people voted:"
   ]
  },
  {
   "cell_type": "code",
   "execution_count": null,
   "id": "43078296",
   "metadata": {
    "scrolled": true
   },
   "outputs": [],
   "source": [
    "freqtable(chile.voteyes)"
   ]
  },
  {
   "cell_type": "code",
   "execution_count": null,
   "id": "50d85b1e",
   "metadata": {},
   "outputs": [],
   "source": [
    "proptable(chile.voteyes)"
   ]
  },
  {
   "cell_type": "markdown",
   "id": "1646e602",
   "metadata": {},
   "source": [
    "And if you were to guess, what would that guess be? ***This is our benchmark!***"
   ]
  },
  {
   "cell_type": "markdown",
   "id": "c28fab4d",
   "metadata": {
    "slideshow": {
     "slide_type": "slide"
    }
   },
   "source": [
    "## Logistic Regression\n",
    "\n",
    "### Prediction\n",
    "\n",
    "Now let us look at our model. \n",
    "\n",
    "For simplicity, we will say that if the model gives more than 0.5 chance of favoring Pinochet, the person voted in favor. Otherwise, the person voted against."
   ]
  },
  {
   "cell_type": "code",
   "execution_count": null,
   "id": "2eb55ea3",
   "metadata": {},
   "outputs": [],
   "source": [
    "Gadfly.plot(\n",
    "    x = predict(modlog4), \n",
    "    Geom.histogram, \n",
    "    color = ifelse.(predict(modlog4).>0.5, \"Predict Yes\", \"Predict No\"),\n",
    "    Guide.xlabel(\"Predicted Probabilities\")\n",
    ")"
   ]
  },
  {
   "cell_type": "markdown",
   "id": "b52d1cc1",
   "metadata": {
    "slideshow": {
     "slide_type": "slide"
    }
   },
   "source": [
    "## Logistic Regression\n",
    "\n",
    "### Prediction\n",
    "\n",
    "Now let us look at our model. \n",
    "\n",
    "For simplicity, we will say that if the model gives more than 0.5 chance of favoring Pinochet, the person voted in favor. Otherwise, the person voted against."
   ]
  },
  {
   "cell_type": "code",
   "execution_count": null,
   "id": "87c30d8f",
   "metadata": {},
   "outputs": [],
   "source": [
    "predicted_vote = ifelse.(predict(modlog4) .> 0.5, 1, 0);"
   ]
  },
  {
   "cell_type": "code",
   "execution_count": null,
   "id": "59e189c4",
   "metadata": {},
   "outputs": [],
   "source": [
    "freqtable(predicted_vote)"
   ]
  },
  {
   "cell_type": "code",
   "execution_count": null,
   "id": "81d7d107",
   "metadata": {},
   "outputs": [],
   "source": [
    "proptable(predicted_vote)"
   ]
  },
  {
   "cell_type": "markdown",
   "id": "8aafeba1",
   "metadata": {},
   "source": [
    "Are we doing better than chance? How can we know that?"
   ]
  },
  {
   "cell_type": "markdown",
   "id": "f40bb5c6",
   "metadata": {
    "slideshow": {
     "slide_type": "slide"
    }
   },
   "source": [
    "## Logistic Regression\n",
    "\n",
    "### Prediction\n",
    "\n",
    "[**Confusion Matrix**](https://en.wikipedia.org/wiki/Confusion_matrix)\n",
    "\n",
    "A confusion matrix is simply a display of the ground truth (rows) x the model's prediction (columns).\n",
    "\n",
    "![confm](https://github.com/umbertomig/POLI175julia/blob/c9b0555e3e97778495bee72746aee43ddf3226d7/img/confm_wikipedia.png?raw=true)"
   ]
  },
  {
   "cell_type": "code",
   "execution_count": null,
   "id": "708c43ea",
   "metadata": {
    "scrolled": true
   },
   "outputs": [],
   "source": [
    "freqtable(chile.voteyes, predicted_vote)"
   ]
  },
  {
   "cell_type": "markdown",
   "id": "fdfd584c",
   "metadata": {
    "slideshow": {
     "slide_type": "slide"
    }
   },
   "source": [
    "### Prediction\n",
    "\n",
    "[**Confusion Matrix**](https://en.wikipedia.org/wiki/Confusion_matrix)\n",
    "\n",
    "|  | **Predicted: 0** | **Predicted: 1** |\n",
    "|---|---|---|\n",
    "| **Actual: 0** | True Negative (tn) | False Positive (fp) |\n",
    "| **Actual: 1** | False Negative (fn) | True Positive (tp) |\n",
    "\n",
    "[**Accuracy:**](https://en.wikipedia.org/wiki/Evaluation_of_binary_classifiers) $$\\dfrac{\\text{correct predictions}}{\\text{total observations}} \\ = \\ \\dfrac{tp + tn}{tp + tn + fp + fn}$$\n",
    "\n",
    "- High accuracy: lots of correct predictions!"
   ]
  },
  {
   "cell_type": "markdown",
   "id": "f83c7f89",
   "metadata": {
    "slideshow": {
     "slide_type": "slide"
    }
   },
   "source": [
    "### Measuring Performance\n",
    "\n",
    "[**Confusion Matrix**](https://en.wikipedia.org/wiki/Confusion_matrix)\n",
    "\n",
    "|  | **Predicted: 0** | **Predicted: 1** |\n",
    "|---|---|---|\n",
    "| **Actual: 0** | True Negative (tn) | False Positive (fp) |\n",
    "| **Actual: 1** | False Negative (fn) | True Positive (tp) |\n",
    "\n",
    "[**Precision**](https://en.wikipedia.org/wiki/Precision_and_recall): $$\\dfrac{\\text{true positives}}{\\text{total predicted positive}} \\ = \\ \\dfrac{tp}{tp + fp}$$\n",
    "\n",
    "- High precision: low false-positive rates.\n"
   ]
  },
  {
   "cell_type": "markdown",
   "id": "73fe6d80",
   "metadata": {
    "slideshow": {
     "slide_type": "slide"
    }
   },
   "source": [
    "### Measuring Performance\n",
    "\n",
    "[**Confusion Matrix**](https://en.wikipedia.org/wiki/Confusion_matrix)\n",
    "\n",
    "|  | **Predicted: 0** | **Predicted: 1** |\n",
    "|---|---|---|\n",
    "| **Actual: 0** | True Negative (tn) | False Positive (fp) |\n",
    "| **Actual: 1** | False Negative (fn) | True Positive (tp) |\n",
    "\n",
    "[**Recall**](https://en.wikipedia.org/wiki/Precision_and_recall): $$\\dfrac{\\text{true positives}}{\\text{total actual positive}} \\ = \\ \\dfrac{tp}{tp + fn}$$\n",
    "\n",
    "- High recall: low false-negative rates.\n"
   ]
  },
  {
   "cell_type": "markdown",
   "id": "9d65376f",
   "metadata": {
    "slideshow": {
     "slide_type": "slide"
    }
   },
   "source": [
    "### Measuring Performance\n",
    "\n",
    "[**Confusion Matrix**](https://en.wikipedia.org/wiki/Confusion_matrix)\n",
    "\n",
    "|  | **Predicted: 0** | **Predicted: 1** |\n",
    "|---|---|---|\n",
    "| **Actual: 0** | True Negative (tn) | False Positive (fp) |\n",
    "| **Actual: 1** | False Negative (fn) | True Positive (tp) |\n",
    "\n",
    "[**Precision**](https://en.wikipedia.org/wiki/Precision_and_recall): $$\\dfrac{\\text{true positives}}{\\text{total predicted positive}} \\ = \\ \\dfrac{tp}{tp + fp}$$\n",
    "\n",
    "[**Recall**](https://en.wikipedia.org/wiki/Precision_and_recall): $$\\dfrac{\\text{true positives}}{\\text{total actual positive}} \\ = \\ \\dfrac{tp}{tp + fn}$$\n",
    "\n",
    "[**F1-Score**](https://en.wikipedia.org/wiki/F-score):\n",
    "\n",
    "$$ \\text{F1} \\ = \\ 2 \\times \\dfrac{\\text{precision} \\times \\text{recall}}{\\text{precision} + \\text{recall}}  \\ = \\ \\dfrac{2 \\ tp}{2 \\ tp + fp + fn} $$"
   ]
  },
  {
   "cell_type": "markdown",
   "id": "c0258f94",
   "metadata": {
    "slideshow": {
     "slide_type": "slide"
    }
   },
   "source": [
    "## Logistic Regression\n",
    "\n",
    "### Prediction\n",
    "\n",
    "[**Confusion Matrix**](https://en.wikipedia.org/wiki/Confusion_matrix)"
   ]
  },
  {
   "cell_type": "code",
   "execution_count": null,
   "id": "7a9a1279",
   "metadata": {
    "scrolled": true
   },
   "outputs": [],
   "source": [
    "conf_mat = ConfusionMatrix(chile.voteyes, predicted_vote)"
   ]
  },
  {
   "cell_type": "code",
   "execution_count": null,
   "id": "89bcc089",
   "metadata": {},
   "outputs": [],
   "source": [
    "accuracy(conf_mat)"
   ]
  },
  {
   "cell_type": "code",
   "execution_count": null,
   "id": "2bede6c3",
   "metadata": {},
   "outputs": [],
   "source": [
    "precision(conf_mat)"
   ]
  },
  {
   "cell_type": "markdown",
   "id": "f77cf53f",
   "metadata": {
    "slideshow": {
     "slide_type": "slide"
    }
   },
   "source": [
    "## Logistic Regression\n",
    "\n",
    "### Prediction\n",
    "\n",
    "[**Confusion Matrix**](https://en.wikipedia.org/wiki/Confusion_matrix)"
   ]
  },
  {
   "cell_type": "code",
   "execution_count": null,
   "id": "446beefa",
   "metadata": {},
   "outputs": [],
   "source": [
    "recall(conf_mat)"
   ]
  },
  {
   "cell_type": "code",
   "execution_count": null,
   "id": "d23d4482",
   "metadata": {},
   "outputs": [],
   "source": [
    "f1_score(conf_mat)"
   ]
  },
  {
   "cell_type": "markdown",
   "id": "a3898291",
   "metadata": {
    "slideshow": {
     "slide_type": "slide"
    }
   },
   "source": [
    "## Logistic Regression\n",
    "\n",
    "### Prediction\n",
    "\n",
    "[**ROC Curve**](https://en.wikipedia.org/wiki/Receiver_operating_characteristic): Plots the true positive rates x false positive rates at each threshold.\n",
    "\n",
    "The higher the area covered by the blue part (AUC, i.e., area under the curve), the better."
   ]
  },
  {
   "cell_type": "code",
   "execution_count": null,
   "id": "0f0e4d90",
   "metadata": {},
   "outputs": [],
   "source": [
    "rocplot(chile.voteyes, \n",
    "    predict(modlog4), \n",
    "    label = \"vote ~ log(pop) + log(inc) + age\", \n",
    "    diagonal = true)"
   ]
  },
  {
   "cell_type": "markdown",
   "id": "f5f20c1a",
   "metadata": {
    "slideshow": {
     "slide_type": "slide"
    }
   },
   "source": [
    "## Why not run a Linear Regression?\n",
    "\n",
    "You could ask this very valid question. And my answer here differs a bit from the book.\n",
    "\n",
    "**Suggestion 01:**\n",
    "\n",
    "If you want to **measure a treatment effect**, or any other fitting where **explanation trumps prediction**, go with the linear regression.\n",
    "- Easy to explain to a lay audience.\n",
    "\n",
    "- Good polynomial expansion around the ATE.\n",
    "\n",
    "- But there is a need for a careful design (in Causal Inference, the design is more important than the statistical method!).\n",
    "\n",
    "- Interaction terms are just partial derivatives of the fitted equation (no partial of the link function using chain rule)."
   ]
  },
  {
   "cell_type": "markdown",
   "id": "91c7202c",
   "metadata": {
    "slideshow": {
     "slide_type": "slide"
    }
   },
   "source": [
    "## Why not run a Linear Regression?\n",
    "\n",
    "**Suggestion 02:**\n",
    "\n",
    "If you want to **predict outcomes**, go with a classification model appropriate for your target variable unit.\n",
    "\n",
    "- You are not going to do `weird` prediction.\n",
    "\n",
    "- You have a marginal efficiency gain (in terms of Standard Errors).\n",
    "\n",
    "- If you have an ordered target variable, your model does *look like more meaningful*.\n",
    "\n",
    "- You should be careful when interpreting interaction terms."
   ]
  },
  {
   "cell_type": "markdown",
   "id": "9a176fbc",
   "metadata": {
    "slideshow": {
     "slide_type": "slide"
    }
   },
   "source": [
    "## Why not run a Linear Regression?\n",
    "\n",
    "**Suggestion 03:**\n",
    "\n",
    "Be **careful when you have discrete nominal variation in your target variable**:\n",
    "\n",
    "- Binary outcome: Linear Regression and Linear Discriminant Analysis are the same.\n",
    "\n",
    "- Three or more categories, like the `vote` in the Chilean dataset messes up badly with things."
   ]
  },
  {
   "cell_type": "markdown",
   "id": "d8eace45",
   "metadata": {
    "slideshow": {
     "slide_type": "slide"
    }
   },
   "source": [
    "# Questions?"
   ]
  },
  {
   "cell_type": "markdown",
   "id": "22d252e9",
   "metadata": {
    "slideshow": {
     "slide_type": "slide"
    }
   },
   "source": [
    "# See you next class\n"
   ]
  }
 ],
 "metadata": {
  "celltoolbar": "Slideshow",
  "kernelspec": {
   "display_name": "Julia 1.9.2",
   "language": "julia",
   "name": "julia-1.9"
  },
  "language_info": {
   "file_extension": ".jl",
   "mimetype": "application/julia",
   "name": "julia",
   "version": "1.9.2"
  }
 },
 "nbformat": 4,
 "nbformat_minor": 5
}
