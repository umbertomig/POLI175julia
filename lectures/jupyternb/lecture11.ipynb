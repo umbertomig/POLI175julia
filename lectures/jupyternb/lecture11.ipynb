{
 "cells": [
  {
   "cell_type": "markdown",
   "id": "243e38f9",
   "metadata": {
    "slideshow": {
     "slide_type": "slide"
    }
   },
   "source": [
    "# POLI 175 - Lecture 11\n",
    "\n",
    "## Regularization"
   ]
  },
  {
   "cell_type": "markdown",
   "id": "491f04a2",
   "metadata": {
    "slideshow": {
     "slide_type": "slide"
    }
   },
   "source": [
    "## Adding new package"
   ]
  },
  {
   "cell_type": "code",
   "execution_count": 18,
   "id": "d828f810",
   "metadata": {},
   "outputs": [
    {
     "name": "stderr",
     "output_type": "stream",
     "text": [
      "\u001b[32m\u001b[1m   Resolving\u001b[22m\u001b[39m package versions...\n",
      "\u001b[32m\u001b[1m  No Changes\u001b[22m\u001b[39m to `~/.julia/environments/v1.9/Project.toml`\n",
      "\u001b[32m\u001b[1m  No Changes\u001b[22m\u001b[39m to `~/.julia/environments/v1.9/Manifest.toml`\n"
     ]
    }
   ],
   "source": [
    "using Pkg\n",
    "Pkg.add(\"MLJModels\")"
   ]
  },
  {
   "cell_type": "markdown",
   "id": "bb985516",
   "metadata": {
    "slideshow": {
     "slide_type": "slide"
    }
   },
   "source": [
    "## Class Examples\n",
    "\n",
    "1. Education expenditure dataset\n",
    "\n",
    "1. Pinochet voting dataset\n",
    "\n",
    "Let us load them all:"
   ]
  },
  {
   "cell_type": "code",
   "execution_count": 19,
   "id": "b55c5cf0",
   "metadata": {
    "slideshow": {
     "slide_type": "-"
    }
   },
   "outputs": [
    {
     "data": {
      "text/plain": [
       "onehot! (generic function with 2 methods)"
      ]
     },
     "execution_count": 19,
     "metadata": {},
     "output_type": "execute_result"
    }
   ],
   "source": [
    "## Packages Here\n",
    "using DataFrames\n",
    "using MLJ, MLJIteration\n",
    "import MLJLinearModels, MLJBase, MLJModels\n",
    "import MultivariateStats, MLJMultivariateStatsInterface\n",
    "import CSV, Plots, GLM, StatsBase, Random\n",
    "import LaTeXStrings, StatsPlots, Lowess, Gadfly, RegressionTables\n",
    "import CovarianceMatrices, Econometrics, LinearAlgebra, MixedModelsExtras\n",
    "import Missings, StatsAPI, FreqTables, EvalMetrics\n",
    "import NearestNeighborModels\n",
    "\n",
    "# Adapted from @xiaodaigh: https://github.com/xiaodaigh/DataConvenience.jl\n",
    "function onehot!(df::AbstractDataFrame, \n",
    "        col, cate = sort(unique(df[!, col])); \n",
    "        outnames = Symbol.(col, :_, cate))\n",
    "    transform!(df, @. col => ByRow(isequal(cate)) .=> outnames)\n",
    "end"
   ]
  },
  {
   "cell_type": "markdown",
   "id": "79543cb5",
   "metadata": {
    "slideshow": {
     "slide_type": "slide"
    }
   },
   "source": [
    "## Class Examples"
   ]
  },
  {
   "cell_type": "code",
   "execution_count": 20,
   "id": "4704653f",
   "metadata": {
    "slideshow": {
     "slide_type": "-"
    }
   },
   "outputs": [
    {
     "data": {
      "text/html": [
       "<div><div style = \"float: left;\"><span>3×13 DataFrame</span></div><div style = \"clear: both;\"></div></div><div class = \"data-frame\" style = \"overflow-x: scroll;\"><table class = \"data-frame\" style = \"margin-bottom: 6px;\"><thead><tr class = \"header\"><th class = \"rowNumber\" style = \"font-weight: bold; text-align: right;\">Row</th><th style = \"text-align: left;\">population</th><th style = \"text-align: left;\">age</th><th style = \"text-align: left;\">income</th><th style = \"text-align: left;\">statusquo</th><th style = \"text-align: left;\">vote</th><th style = \"text-align: left;\">voteyes</th><th style = \"text-align: left;\">region_M</th><th style = \"text-align: left;\">region_N</th><th style = \"text-align: left;\">region_S</th><th style = \"text-align: left;\">region_SA</th><th style = \"text-align: left;\">education_PS</th><th style = \"text-align: left;\">education_S</th><th style = \"text-align: left;\">sex_F</th></tr><tr class = \"subheader headerLastRow\"><th class = \"rowNumber\" style = \"font-weight: bold; text-align: right;\"></th><th title = \"Int64\" style = \"text-align: left;\">Int64</th><th title = \"Int64\" style = \"text-align: left;\">Int64</th><th title = \"Int64\" style = \"text-align: left;\">Int64</th><th title = \"Float64\" style = \"text-align: left;\">Float64</th><th title = \"InlineStrings.String1\" style = \"text-align: left;\">String1</th><th title = \"Int64\" style = \"text-align: left;\">Int64</th><th title = \"Bool\" style = \"text-align: left;\">Bool</th><th title = \"Bool\" style = \"text-align: left;\">Bool</th><th title = \"Bool\" style = \"text-align: left;\">Bool</th><th title = \"Bool\" style = \"text-align: left;\">Bool</th><th title = \"Bool\" style = \"text-align: left;\">Bool</th><th title = \"Bool\" style = \"text-align: left;\">Bool</th><th title = \"Bool\" style = \"text-align: left;\">Bool</th></tr></thead><tbody><tr><td class = \"rowNumber\" style = \"font-weight: bold; text-align: right;\">1</td><td style = \"text-align: right;\">175000</td><td style = \"text-align: right;\">65</td><td style = \"text-align: right;\">35000</td><td style = \"text-align: right;\">1.0082</td><td style = \"text-align: left;\">Y</td><td style = \"text-align: right;\">1</td><td style = \"text-align: right;\">false</td><td style = \"text-align: right;\">true</td><td style = \"text-align: right;\">false</td><td style = \"text-align: right;\">false</td><td style = \"text-align: right;\">false</td><td style = \"text-align: right;\">false</td><td style = \"text-align: right;\">false</td></tr><tr><td class = \"rowNumber\" style = \"font-weight: bold; text-align: right;\">2</td><td style = \"text-align: right;\">175000</td><td style = \"text-align: right;\">29</td><td style = \"text-align: right;\">7500</td><td style = \"text-align: right;\">-1.29617</td><td style = \"text-align: left;\">N</td><td style = \"text-align: right;\">0</td><td style = \"text-align: right;\">false</td><td style = \"text-align: right;\">true</td><td style = \"text-align: right;\">false</td><td style = \"text-align: right;\">false</td><td style = \"text-align: right;\">true</td><td style = \"text-align: right;\">false</td><td style = \"text-align: right;\">false</td></tr><tr><td class = \"rowNumber\" style = \"font-weight: bold; text-align: right;\">3</td><td style = \"text-align: right;\">175000</td><td style = \"text-align: right;\">38</td><td style = \"text-align: right;\">15000</td><td style = \"text-align: right;\">1.23072</td><td style = \"text-align: left;\">Y</td><td style = \"text-align: right;\">1</td><td style = \"text-align: right;\">false</td><td style = \"text-align: right;\">true</td><td style = \"text-align: right;\">false</td><td style = \"text-align: right;\">false</td><td style = \"text-align: right;\">false</td><td style = \"text-align: right;\">false</td><td style = \"text-align: right;\">true</td></tr></tbody></table></div>"
      ],
      "text/latex": [
       "\\begin{tabular}{r|cccccccccc}\n",
       "\t& population & age & income & statusquo & vote & voteyes & region\\_M & region\\_N & region\\_S & \\\\\n",
       "\t\\hline\n",
       "\t& Int64 & Int64 & Int64 & Float64 & String1 & Int64 & Bool & Bool & Bool & \\\\\n",
       "\t\\hline\n",
       "\t1 & 175000 & 65 & 35000 & 1.0082 & Y & 1 & 0 & 1 & 0 & $\\dots$ \\\\\n",
       "\t2 & 175000 & 29 & 7500 & -1.29617 & N & 0 & 0 & 1 & 0 & $\\dots$ \\\\\n",
       "\t3 & 175000 & 38 & 15000 & 1.23072 & Y & 1 & 0 & 1 & 0 & $\\dots$ \\\\\n",
       "\\end{tabular}\n"
      ],
      "text/plain": [
       "\u001b[1m3×13 DataFrame\u001b[0m\n",
       "\u001b[1m Row \u001b[0m│\u001b[1m population \u001b[0m\u001b[1m age   \u001b[0m\u001b[1m income \u001b[0m\u001b[1m statusquo \u001b[0m\u001b[1m vote    \u001b[0m\u001b[1m voteyes \u001b[0m\u001b[1m region_M \u001b[0m\u001b[1m regio\u001b[0m ⋯\n",
       "     │\u001b[90m Int64      \u001b[0m\u001b[90m Int64 \u001b[0m\u001b[90m Int64  \u001b[0m\u001b[90m Float64   \u001b[0m\u001b[90m String1 \u001b[0m\u001b[90m Int64   \u001b[0m\u001b[90m Bool     \u001b[0m\u001b[90m Bool \u001b[0m ⋯\n",
       "─────┼──────────────────────────────────────────────────────────────────────────\n",
       "   1 │     175000     65   35000    1.0082   Y              1     false      t ⋯\n",
       "   2 │     175000     29    7500   -1.29617  N              0     false      t\n",
       "   3 │     175000     38   15000    1.23072  Y              1     false      t\n",
       "\u001b[36m                                                               6 columns omitted\u001b[0m"
      ]
     },
     "execution_count": 20,
     "metadata": {},
     "output_type": "execute_result"
    }
   ],
   "source": [
    "## Loading the data\n",
    "chile = CSV.read(\n",
    "    download(\"https://raw.githubusercontent.com/umbertomig/POLI175julia/main/data/chilesurvey.csv\"), \n",
    "    DataFrame,\n",
    "    missingstring = [\"NA\"]\n",
    "); dropmissing!(chile)\n",
    "chile.voteyes = ifelse.(chile.vote .== \"Y\", 1, 0)\n",
    "\n",
    "# One-hot encoding (we will learn a better way to do it later)\n",
    "onehot!(chile, :region);\n",
    "onehot!(chile, :education);\n",
    "onehot!(chile, :sex);\n",
    "\n",
    "# Drop reference categories\n",
    "select!(chile, Not(:region, :sex, :education, :region_C, :education_P, :sex_M))\n",
    "\n",
    "# Checking\n",
    "first(chile, 3)"
   ]
  },
  {
   "cell_type": "markdown",
   "id": "c00f69ff",
   "metadata": {
    "slideshow": {
     "slide_type": "slide"
    }
   },
   "source": [
    "## Class Examples"
   ]
  },
  {
   "cell_type": "code",
   "execution_count": 21,
   "id": "b696a377",
   "metadata": {
    "slideshow": {
     "slide_type": "-"
    }
   },
   "outputs": [
    {
     "data": {
      "text/html": [
       "<div><div style = \"float: left;\"><span>3×5 DataFrame</span></div><div style = \"clear: both;\"></div></div><div class = \"data-frame\" style = \"overflow-x: scroll;\"><table class = \"data-frame\" style = \"margin-bottom: 6px;\"><thead><tr class = \"header\"><th class = \"rowNumber\" style = \"font-weight: bold; text-align: right;\">Row</th><th style = \"text-align: left;\">states</th><th style = \"text-align: left;\">educ_log</th><th style = \"text-align: left;\">income_log</th><th style = \"text-align: left;\">urban_log</th><th style = \"text-align: left;\">young_log</th></tr><tr class = \"subheader headerLastRow\"><th class = \"rowNumber\" style = \"font-weight: bold; text-align: right;\"></th><th title = \"InlineStrings.String3\" style = \"text-align: left;\">String3</th><th title = \"Float64\" style = \"text-align: left;\">Float64</th><th title = \"Float64\" style = \"text-align: left;\">Float64</th><th title = \"Float64\" style = \"text-align: left;\">Float64</th><th title = \"Float64\" style = \"text-align: left;\">Float64</th></tr></thead><tbody><tr><td class = \"rowNumber\" style = \"font-weight: bold; text-align: right;\">1</td><td style = \"text-align: left;\">ME</td><td style = \"text-align: right;\">5.24175</td><td style = \"text-align: right;\">7.94591</td><td style = \"text-align: right;\">6.23048</td><td style = \"text-align: right;\">5.85993</td></tr><tr><td class = \"rowNumber\" style = \"font-weight: bold; text-align: right;\">2</td><td style = \"text-align: left;\">NH</td><td style = \"text-align: right;\">5.1299</td><td style = \"text-align: right;\">8.08918</td><td style = \"text-align: right;\">6.33505</td><td style = \"text-align: right;\">5.84615</td></tr><tr><td class = \"rowNumber\" style = \"font-weight: bold; text-align: right;\">3</td><td style = \"text-align: left;\">VT</td><td style = \"text-align: right;\">5.43808</td><td style = \"text-align: right;\">8.03008</td><td style = \"text-align: right;\">5.77455</td><td style = \"text-align: right;\">5.85364</td></tr></tbody></table></div>"
      ],
      "text/latex": [
       "\\begin{tabular}{r|ccccc}\n",
       "\t& states & educ\\_log & income\\_log & urban\\_log & young\\_log\\\\\n",
       "\t\\hline\n",
       "\t& String3 & Float64 & Float64 & Float64 & Float64\\\\\n",
       "\t\\hline\n",
       "\t1 & ME & 5.24175 & 7.94591 & 6.23048 & 5.85993 \\\\\n",
       "\t2 & NH & 5.1299 & 8.08918 & 6.33505 & 5.84615 \\\\\n",
       "\t3 & VT & 5.43808 & 8.03008 & 5.77455 & 5.85364 \\\\\n",
       "\\end{tabular}\n"
      ],
      "text/plain": [
       "\u001b[1m3×5 DataFrame\u001b[0m\n",
       "\u001b[1m Row \u001b[0m│\u001b[1m states  \u001b[0m\u001b[1m educ_log \u001b[0m\u001b[1m income_log \u001b[0m\u001b[1m urban_log \u001b[0m\u001b[1m young_log \u001b[0m\n",
       "     │\u001b[90m String3 \u001b[0m\u001b[90m Float64  \u001b[0m\u001b[90m Float64    \u001b[0m\u001b[90m Float64   \u001b[0m\u001b[90m Float64   \u001b[0m\n",
       "─────┼─────────────────────────────────────────────────────\n",
       "   1 │ ME        5.24175     7.94591    6.23048    5.85993\n",
       "   2 │ NH        5.1299      8.08918    6.33505    5.84615\n",
       "   3 │ VT        5.43808     8.03008    5.77455    5.85364"
      ]
     },
     "execution_count": 21,
     "metadata": {},
     "output_type": "execute_result"
    }
   ],
   "source": [
    "## Education Expenditure Dataset\n",
    "educ = CSV.read(download(\"https://raw.githubusercontent.com/umbertomig/POLI175julia/main/data/educexp.csv\"), DataFrame)\n",
    "\n",
    "# Processing\n",
    "educ.educ_log = log.(educ.education);\n",
    "educ.income_log = log.(educ.income)\n",
    "educ.urban_log = log.(educ.urban)\n",
    "educ.young_log = log.(educ.young)\n",
    "\n",
    "# Drop reference categories\n",
    "select!(educ, Not(:education, :income, :urban, :urban, :young))\n",
    "\n",
    "# Checking\n",
    "first(educ, 3)"
   ]
  },
  {
   "cell_type": "markdown",
   "id": "439bf4a1",
   "metadata": {
    "slideshow": {
     "slide_type": "slide"
    }
   },
   "source": [
    "## Class Examples\n",
    "\n",
    "Now, let's go crazy: Add lots of polynomials to our model!"
   ]
  },
  {
   "cell_type": "code",
   "execution_count": 22,
   "id": "638c928d",
   "metadata": {
    "slideshow": {
     "slide_type": "-"
    }
   },
   "outputs": [
    {
     "data": {
      "text/html": [
       "<div><div style = \"float: left;\"><span>3×12 DataFrame</span></div><div style = \"clear: both;\"></div></div><div class = \"data-frame\" style = \"overflow-x: scroll;\"><table class = \"data-frame\" style = \"margin-bottom: 6px;\"><thead><tr class = \"header\"><th class = \"rowNumber\" style = \"font-weight: bold; text-align: right;\">Row</th><th style = \"text-align: left;\">income_log</th><th style = \"text-align: left;\">urban_log</th><th style = \"text-align: left;\">young_log</th><th style = \"text-align: left;\">income_log_square</th><th style = \"text-align: left;\">urban_log_square</th><th style = \"text-align: left;\">young_log_square</th><th style = \"text-align: left;\">income_log_cube</th><th style = \"text-align: left;\">urban_log_cube</th><th style = \"text-align: left;\">young_log_cube</th><th style = \"text-align: left;\">income_log_4th</th><th style = \"text-align: left;\">urban_log_4th</th><th style = \"text-align: left;\">young_log_4th</th></tr><tr class = \"subheader headerLastRow\"><th class = \"rowNumber\" style = \"font-weight: bold; text-align: right;\"></th><th title = \"Float64\" style = \"text-align: left;\">Float64</th><th title = \"Float64\" style = \"text-align: left;\">Float64</th><th title = \"Float64\" style = \"text-align: left;\">Float64</th><th title = \"Float64\" style = \"text-align: left;\">Float64</th><th title = \"Float64\" style = \"text-align: left;\">Float64</th><th title = \"Float64\" style = \"text-align: left;\">Float64</th><th title = \"Float64\" style = \"text-align: left;\">Float64</th><th title = \"Float64\" style = \"text-align: left;\">Float64</th><th title = \"Float64\" style = \"text-align: left;\">Float64</th><th title = \"Float64\" style = \"text-align: left;\">Float64</th><th title = \"Float64\" style = \"text-align: left;\">Float64</th><th title = \"Float64\" style = \"text-align: left;\">Float64</th></tr></thead><tbody><tr><td class = \"rowNumber\" style = \"font-weight: bold; text-align: right;\">1</td><td style = \"text-align: right;\">7.94591</td><td style = \"text-align: right;\">6.23048</td><td style = \"text-align: right;\">5.85993</td><td style = \"text-align: right;\">63.1375</td><td style = \"text-align: right;\">38.8189</td><td style = \"text-align: right;\">34.3388</td><td style = \"text-align: right;\">501.685</td><td style = \"text-align: right;\">241.86</td><td style = \"text-align: right;\">201.223</td><td style = \"text-align: right;\">3986.34</td><td style = \"text-align: right;\">1506.91</td><td style = \"text-align: right;\">1179.15</td></tr><tr><td class = \"rowNumber\" style = \"font-weight: bold; text-align: right;\">2</td><td style = \"text-align: right;\">8.08918</td><td style = \"text-align: right;\">6.33505</td><td style = \"text-align: right;\">5.84615</td><td style = \"text-align: right;\">65.4348</td><td style = \"text-align: right;\">40.1329</td><td style = \"text-align: right;\">34.1775</td><td style = \"text-align: right;\">529.313</td><td style = \"text-align: right;\">254.244</td><td style = \"text-align: right;\">199.807</td><td style = \"text-align: right;\">4281.71</td><td style = \"text-align: right;\">1610.65</td><td style = \"text-align: right;\">1168.1</td></tr><tr><td class = \"rowNumber\" style = \"font-weight: bold; text-align: right;\">3</td><td style = \"text-align: right;\">8.03008</td><td style = \"text-align: right;\">5.77455</td><td style = \"text-align: right;\">5.85364</td><td style = \"text-align: right;\">64.4823</td><td style = \"text-align: right;\">33.3454</td><td style = \"text-align: right;\">34.2651</td><td style = \"text-align: right;\">517.798</td><td style = \"text-align: right;\">192.555</td><td style = \"text-align: right;\">200.575</td><td style = \"text-align: right;\">4157.96</td><td style = \"text-align: right;\">1111.92</td><td style = \"text-align: right;\">1174.1</td></tr></tbody></table></div>"
      ],
      "text/latex": [
       "\\begin{tabular}{r|ccccccc}\n",
       "\t& income\\_log & urban\\_log & young\\_log & income\\_log\\_square & urban\\_log\\_square & young\\_log\\_square & \\\\\n",
       "\t\\hline\n",
       "\t& Float64 & Float64 & Float64 & Float64 & Float64 & Float64 & \\\\\n",
       "\t\\hline\n",
       "\t1 & 7.94591 & 6.23048 & 5.85993 & 63.1375 & 38.8189 & 34.3388 & $\\dots$ \\\\\n",
       "\t2 & 8.08918 & 6.33505 & 5.84615 & 65.4348 & 40.1329 & 34.1775 & $\\dots$ \\\\\n",
       "\t3 & 8.03008 & 5.77455 & 5.85364 & 64.4823 & 33.3454 & 34.2651 & $\\dots$ \\\\\n",
       "\\end{tabular}\n"
      ],
      "text/plain": [
       "\u001b[1m3×12 DataFrame\u001b[0m\n",
       "\u001b[1m Row \u001b[0m│\u001b[1m income_log \u001b[0m\u001b[1m urban_log \u001b[0m\u001b[1m young_log \u001b[0m\u001b[1m income_log_square \u001b[0m\u001b[1m urban_log_square \u001b[0m\u001b[1m \u001b[0m ⋯\n",
       "     │\u001b[90m Float64    \u001b[0m\u001b[90m Float64   \u001b[0m\u001b[90m Float64   \u001b[0m\u001b[90m Float64           \u001b[0m\u001b[90m Float64          \u001b[0m\u001b[90m \u001b[0m ⋯\n",
       "─────┼──────────────────────────────────────────────────────────────────────────\n",
       "   1 │    7.94591    6.23048    5.85993            63.1375           38.8189   ⋯\n",
       "   2 │    8.08918    6.33505    5.84615            65.4348           40.1329\n",
       "   3 │    8.03008    5.77455    5.85364            64.4823           33.3454\n",
       "\u001b[36m                                                               7 columns omitted\u001b[0m"
      ]
     },
     "execution_count": 22,
     "metadata": {},
     "output_type": "execute_result"
    }
   ],
   "source": [
    "## Education Expenditure Dataset\n",
    "educ.income_log_square = educ.income_log .^ 2\n",
    "educ.urban_log_square = educ.urban_log .^ 2\n",
    "educ.young_log_square = educ.young_log .^ 2\n",
    "educ.income_log_cube = educ.income_log .^ 3\n",
    "educ.urban_log_cube = educ.urban_log .^ 3\n",
    "educ.young_log_cube = educ.young_log .^ 3\n",
    "educ.income_log_4th = educ.income_log .^ 4\n",
    "educ.urban_log_4th = educ.urban_log .^ 4\n",
    "educ.young_log_4th = educ.young_log .^ 4\n",
    "\n",
    "educ_y, educ_X = unpack(\n",
    "    educ[:, Not(:states)],\n",
    "    ==(:educ_log);\n",
    "    :educ_log => Continuous, \n",
    "    :income_log => Continuous,\n",
    "    :urban_log => Continuous,\n",
    "    :young_log => Continuous,\n",
    "    :income_log_square => Continuous,\n",
    "    :urban_log_square => Continuous,\n",
    "    :young_log_square => Continuous,\n",
    "    :income_log_cube => Continuous,\n",
    "    :urban_log_cube => Continuous,\n",
    "    :young_log_cube => Continuous,\n",
    "    :income_log_4th => Continuous,\n",
    "    :urban_log_4th => Continuous,\n",
    "    :young_log_4th => Continuous,\n",
    ");    \n",
    "\n",
    "# Checking\n",
    "first(educ_X, 3)"
   ]
  },
  {
   "cell_type": "markdown",
   "id": "6b72f2f6",
   "metadata": {
    "slideshow": {
     "slide_type": "slide"
    }
   },
   "source": [
    "# Linear Model Regularization\n",
    "\n",
    "In this class, we are going to focus on two of the most used methods for model selection:\n",
    "- **Ridge**\n",
    "- **Lasso**\n",
    "\n",
    "These methods are different from the subset selection in special ways:\n",
    "- They are meant to \"*shrink*\" the coefficients toward zero!\n",
    "\n",
    "It may be counter-intuitive, but these methods are great tools to reduce the variance of the estimates (recall the bias-variance trade-offs)."
   ]
  },
  {
   "cell_type": "markdown",
   "id": "266e9a46",
   "metadata": {
    "slideshow": {
     "slide_type": "slide"
    }
   },
   "source": [
    "# Ridge Regression\n",
    "\n",
    "## Ridge Regression\n",
    "\n",
    "Instead of minimizing the RSS, one minimizes:\n",
    "\n",
    "$$ \\text{Residual Sum of Squares} + \\underbrace{\\lambda \\ \\sum_{j=1}^p\\beta_j^2}_{\\text{shrinkage penalty}} $$\n",
    "\n",
    "The $\\lambda \\geq 0$ parameters is called *tuning parameter*. \n",
    "\n",
    "Selecting a good $\\lambda$ is crucial for a good set of estimates."
   ]
  },
  {
   "cell_type": "code",
   "execution_count": 23,
   "id": "51567587",
   "metadata": {},
   "outputs": [
    {
     "data": {
      "text/plain": [
       "CV(\n",
       "  nfolds = 4, \n",
       "  shuffle = true, \n",
       "  rng = Random.MersenneTwister(5624957))"
      ]
     },
     "execution_count": 23,
     "metadata": {},
     "output_type": "execute_result"
    }
   ],
   "source": [
    "## 4-Fold CV\n",
    "cv4 = CV(nfolds = 4, rng = 5624957)"
   ]
  },
  {
   "cell_type": "markdown",
   "id": "f0adff2b",
   "metadata": {
    "slideshow": {
     "slide_type": "slide"
    }
   },
   "source": [
    "# Ridge Regression\n",
    "\n",
    "## Ridge Regression in Julia"
   ]
  },
  {
   "cell_type": "code",
   "execution_count": 33,
   "id": "ed3214eb",
   "metadata": {
    "slideshow": {
     "slide_type": "-"
    }
   },
   "outputs": [
    {
     "data": {
      "text/plain": [
       "RidgeRegressor(\n",
       "  lambda = 1.1, \n",
       "  fit_intercept = true, \n",
       "  penalize_intercept = false, \n",
       "  scale_penalty_with_samples = true, \n",
       "  solver = nothing)"
      ]
     },
     "execution_count": 33,
     "metadata": {},
     "output_type": "execute_result"
    }
   ],
   "source": [
    "## Ridge Regression (instantiate)\n",
    "ridge = MLJLinearModels.RidgeRegressor(lambda = 1.1)"
   ]
  },
  {
   "cell_type": "markdown",
   "id": "57336dbf",
   "metadata": {
    "slideshow": {
     "slide_type": "slide"
    }
   },
   "source": [
    "# Ridge Regression\n",
    "\n",
    "## Ridge Regression in Julia"
   ]
  },
  {
   "cell_type": "code",
   "execution_count": 34,
   "id": "d6efef33",
   "metadata": {},
   "outputs": [
    {
     "data": {
      "text/plain": [
       "PerformanceEvaluation object with these fields:\n",
       "  model, measure, operation, measurement, per_fold,\n",
       "  per_observation, fitted_params_per_fold,\n",
       "  report_per_fold, train_test_rows, resampling, repeats\n",
       "Extract:\n",
       "┌────────────────────────┬───────────┬─────────────┬─────────┬──────────────────\n",
       "│\u001b[22m measure                \u001b[0m│\u001b[22m operation \u001b[0m│\u001b[22m measurement \u001b[0m│\u001b[22m 1.96*SE \u001b[0m│\u001b[22m per_fold       \u001b[0m ⋯\n",
       "├────────────────────────┼───────────┼─────────────┼─────────┼──────────────────\n",
       "│ RootMeanSquaredError() │ predict   │ 0.143       │ 0.0225  │ [0.135, 0.155,  ⋯\n",
       "│ LPLoss(                │ predict   │ 0.0203      │ 0.00619 │ [0.0181, 0.024, ⋯\n",
       "│   p = 2)               │           │             │         │                 ⋯\n",
       "│ RSquared()             │ predict   │ 0.364       │ 0.497   │ [0.619, -0.174, ⋯\n",
       "└────────────────────────┴───────────┴─────────────┴─────────┴──────────────────\n",
       "\u001b[36m                                                                1 column omitted\u001b[0m\n"
      ]
     },
     "execution_count": 34,
     "metadata": {},
     "output_type": "execute_result"
    }
   ],
   "source": [
    "evaluate(ridge, \n",
    "    educ_X, \n",
    "    educ_y, \n",
    "    resampling = cv4,\n",
    "    measure = [rms, l2, rsq], \n",
    "    verbosity = 0)"
   ]
  },
  {
   "cell_type": "markdown",
   "id": "f5972f79",
   "metadata": {
    "slideshow": {
     "slide_type": "slide"
    }
   },
   "source": [
    "# Ridge Regression\n",
    "\n",
    "## Ridge Regression in Julia"
   ]
  },
  {
   "cell_type": "code",
   "execution_count": 35,
   "id": "466b0dfb",
   "metadata": {},
   "outputs": [
    {
     "name": "stderr",
     "output_type": "stream",
     "text": [
      "\u001b[36m\u001b[1m[ \u001b[22m\u001b[39m\u001b[36m\u001b[1mInfo: \u001b[22m\u001b[39mTraining machine(RidgeRegressor(lambda = 1.1, …), …).\n",
      "\u001b[36m\u001b[1m┌ \u001b[22m\u001b[39m\u001b[36m\u001b[1mInfo: \u001b[22m\u001b[39mSolver: MLJLinearModels.Analytical\n",
      "\u001b[36m\u001b[1m│ \u001b[22m\u001b[39m  iterative: Bool false\n",
      "\u001b[36m\u001b[1m└ \u001b[22m\u001b[39m  max_inner: Int64 200\n"
     ]
    },
    {
     "data": {
      "text/plain": [
       "(coefs = [:income_log => 0.0001938614453657547, :urban_log => -9.930350801419571e-5, :young_log => -2.8916895544529442e-5, :income_log_square => 0.0020754452837817607, :urban_log_square => -0.0008172682730275851, :young_log_square => -0.00021897172033659906, :income_log_cube => 0.01248357269781201, :urban_log_cube => -0.003781046851971933, :young_log_cube => -0.000856728047262753, :income_log_4th => -0.0005787286363908233, :urban_log_4th => 0.00019411956103879537, :young_log_4th => 0.0017618021164507865],\n",
       " intercept = -0.19011849054925398,)"
      ]
     },
     "execution_count": 35,
     "metadata": {},
     "output_type": "execute_result"
    }
   ],
   "source": [
    "## Parameters\n",
    "machine1 = machine(ridge, educ_X, educ_y)\n",
    "fit!(machine1)\n",
    "fitted_params(machine1)"
   ]
  },
  {
   "cell_type": "code",
   "execution_count": 27,
   "id": "37e8210b",
   "metadata": {},
   "outputs": [
    {
     "name": "stderr",
     "output_type": "stream",
     "text": [
      "\u001b[36m\u001b[1m[ \u001b[22m\u001b[39m\u001b[36m\u001b[1mInfo: \u001b[22m\u001b[39mTraining machine(LinearRegressor(fit_intercept = true, …), …).\n",
      "\u001b[36m\u001b[1m┌ \u001b[22m\u001b[39m\u001b[36m\u001b[1mInfo: \u001b[22m\u001b[39mSolver: MLJLinearModels.Analytical\n",
      "\u001b[36m\u001b[1m│ \u001b[22m\u001b[39m  iterative: Bool false\n",
      "\u001b[36m\u001b[1m└ \u001b[22m\u001b[39m  max_inner: Int64 200\n"
     ]
    },
    {
     "data": {
      "text/plain": [
       "(coefs = [:income_log => 5491.685110506905, :urban_log => -5182.951483977237, :young_log => 203796.67288586378, :income_log_square => -1071.267550317659, :urban_log_square => 1241.461648527421, :young_log_square => -52466.09081907871, :income_log_cube => 92.83470022410806, :urban_log_cube => -132.02141910048752, :young_log_cube => 6000.291944567464, :income_log_4th => -3.014604876144366, :urban_log_4th => 5.2588947129884716, :young_log_4th => -257.21322365141253],\n",
       " intercept = -299159.5494253556,)"
      ]
     },
     "execution_count": 27,
     "metadata": {},
     "output_type": "execute_result"
    }
   ],
   "source": [
    "machine2 = machine(MLJLinearModels.LinearRegressor(), educ_X, educ_y)\n",
    "fit!(machine2)\n",
    "fitted_params(machine2)"
   ]
  },
  {
   "cell_type": "markdown",
   "id": "33edcd3c",
   "metadata": {
    "slideshow": {
     "slide_type": "slide"
    }
   },
   "source": [
    "## Ridge Regression\n",
    "\n",
    "$\\lambda = 0$ is the same as the least square regression.\n",
    "\n",
    "As $\\lambda$ grows, the shrinkage penalty increases, and the ridge coefficients approach zero.\n",
    "\n",
    "**Caveat 1**: The scale of the variable influences the results.\n",
    "\n",
    "In a OLS (standard least square regression), when you multiply $x_j$ by $c \\neq 0$, you divide $\\beta_j$ by $\\dfrac{1}{c}$.\n",
    "\n",
    "Example: If you measure GDP in USD vs Millions of USD changes the ridge regression coefficient significantly.\n",
    "\n",
    "**Suggestion**: Standardize the variables before running the regression"
   ]
  },
  {
   "cell_type": "markdown",
   "id": "dd71f8d0",
   "metadata": {
    "slideshow": {
     "slide_type": "slide"
    }
   },
   "source": [
    "## Ridge Regression\n",
    "\n",
    "### Standardization\n",
    "\n",
    "Let a variable $x_j$. Then, the standardized variable $z_j$ is obtained by:\n",
    "1. Subtracting the mean of the variable $x_j$ ($\\overline{x}_j$) and then,\n",
    "2. Dividing the result by the standard deviation ($\\sigma_{x_j}$) of the variable $x_j$.\n",
    "\n",
    "$$ z_j \\ = \\ \\dfrac{x_j - \\overline{x}_j}{\\sigma_{x_j}} $$\n",
    "\n",
    "The resulting variable $z_j$ has mean zero, variance one, and has no unit!\n",
    "\n",
    "Variations of one unit are called *deviations*: In a regression with a standardized variable, we say that $\\beta_j$ would represent a variation on average $y$ when we increase $z_j$ by one standard-deviation.\n",
    "\n",
    "This is a great practice for prediction, but in general, be mindful about the unit of your data.\n",
    "\n",
    "**Again:** In a standard least square regression, when you multiply $x_j$ by $c \\neq 0$, you divide $\\beta_j$ by $\\dfrac{1}{c}$."
   ]
  },
  {
   "cell_type": "markdown",
   "id": "e429146a",
   "metadata": {
    "slideshow": {
     "slide_type": "slide"
    }
   },
   "source": [
    "## Ridge Regression\n",
    "\n",
    "### Standardization"
   ]
  },
  {
   "cell_type": "code",
   "execution_count": 36,
   "id": "4b2621d5",
   "metadata": {
    "slideshow": {
     "slide_type": "-"
    }
   },
   "outputs": [
    {
     "name": "stderr",
     "output_type": "stream",
     "text": [
      "\u001b[36m\u001b[1m[ \u001b[22m\u001b[39m\u001b[36m\u001b[1mInfo: \u001b[22m\u001b[39mTraining machine(Standardizer(features = Symbol[], …), …).\n"
     ]
    },
    {
     "data": {
      "text/html": [
       "<div><div style = \"float: left;\"><span>3×12 DataFrame</span></div><div style = \"clear: both;\"></div></div><div class = \"data-frame\" style = \"overflow-x: scroll;\"><table class = \"data-frame\" style = \"margin-bottom: 6px;\"><thead><tr class = \"header\"><th class = \"rowNumber\" style = \"font-weight: bold; text-align: right;\">Row</th><th style = \"text-align: left;\">income_log</th><th style = \"text-align: left;\">urban_log</th><th style = \"text-align: left;\">young_log</th><th style = \"text-align: left;\">income_log_square</th><th style = \"text-align: left;\">urban_log_square</th><th style = \"text-align: left;\">young_log_square</th><th style = \"text-align: left;\">income_log_cube</th><th style = \"text-align: left;\">urban_log_cube</th><th style = \"text-align: left;\">young_log_cube</th><th style = \"text-align: left;\">income_log_4th</th><th style = \"text-align: left;\">urban_log_4th</th><th style = \"text-align: left;\">young_log_4th</th></tr><tr class = \"subheader headerLastRow\"><th class = \"rowNumber\" style = \"font-weight: bold; text-align: right;\"></th><th title = \"Float64\" style = \"text-align: left;\">Float64</th><th title = \"Float64\" style = \"text-align: left;\">Float64</th><th title = \"Float64\" style = \"text-align: left;\">Float64</th><th title = \"Float64\" style = \"text-align: left;\">Float64</th><th title = \"Float64\" style = \"text-align: left;\">Float64</th><th title = \"Float64\" style = \"text-align: left;\">Float64</th><th title = \"Float64\" style = \"text-align: left;\">Float64</th><th title = \"Float64\" style = \"text-align: left;\">Float64</th><th title = \"Float64\" style = \"text-align: left;\">Float64</th><th title = \"Float64\" style = \"text-align: left;\">Float64</th><th title = \"Float64\" style = \"text-align: left;\">Float64</th><th title = \"Float64\" style = \"text-align: left;\">Float64</th></tr></thead><tbody><tr><td class = \"rowNumber\" style = \"font-weight: bold; text-align: right;\">1</td><td style = \"text-align: right;\">7.94591</td><td style = \"text-align: right;\">6.23048</td><td style = \"text-align: right;\">5.85993</td><td style = \"text-align: right;\">63.1375</td><td style = \"text-align: right;\">38.8189</td><td style = \"text-align: right;\">34.3388</td><td style = \"text-align: right;\">501.685</td><td style = \"text-align: right;\">241.86</td><td style = \"text-align: right;\">201.223</td><td style = \"text-align: right;\">3986.34</td><td style = \"text-align: right;\">1506.91</td><td style = \"text-align: right;\">1179.15</td></tr><tr><td class = \"rowNumber\" style = \"font-weight: bold; text-align: right;\">2</td><td style = \"text-align: right;\">8.08918</td><td style = \"text-align: right;\">6.33505</td><td style = \"text-align: right;\">5.84615</td><td style = \"text-align: right;\">65.4348</td><td style = \"text-align: right;\">40.1329</td><td style = \"text-align: right;\">34.1775</td><td style = \"text-align: right;\">529.313</td><td style = \"text-align: right;\">254.244</td><td style = \"text-align: right;\">199.807</td><td style = \"text-align: right;\">4281.71</td><td style = \"text-align: right;\">1610.65</td><td style = \"text-align: right;\">1168.1</td></tr><tr><td class = \"rowNumber\" style = \"font-weight: bold; text-align: right;\">3</td><td style = \"text-align: right;\">8.03008</td><td style = \"text-align: right;\">5.77455</td><td style = \"text-align: right;\">5.85364</td><td style = \"text-align: right;\">64.4823</td><td style = \"text-align: right;\">33.3454</td><td style = \"text-align: right;\">34.2651</td><td style = \"text-align: right;\">517.798</td><td style = \"text-align: right;\">192.555</td><td style = \"text-align: right;\">200.575</td><td style = \"text-align: right;\">4157.96</td><td style = \"text-align: right;\">1111.92</td><td style = \"text-align: right;\">1174.1</td></tr></tbody></table></div>"
      ],
      "text/latex": [
       "\\begin{tabular}{r|ccccccc}\n",
       "\t& income\\_log & urban\\_log & young\\_log & income\\_log\\_square & urban\\_log\\_square & young\\_log\\_square & \\\\\n",
       "\t\\hline\n",
       "\t& Float64 & Float64 & Float64 & Float64 & Float64 & Float64 & \\\\\n",
       "\t\\hline\n",
       "\t1 & 7.94591 & 6.23048 & 5.85993 & 63.1375 & 38.8189 & 34.3388 & $\\dots$ \\\\\n",
       "\t2 & 8.08918 & 6.33505 & 5.84615 & 65.4348 & 40.1329 & 34.1775 & $\\dots$ \\\\\n",
       "\t3 & 8.03008 & 5.77455 & 5.85364 & 64.4823 & 33.3454 & 34.2651 & $\\dots$ \\\\\n",
       "\\end{tabular}\n"
      ],
      "text/plain": [
       "\u001b[1m3×12 DataFrame\u001b[0m\n",
       "\u001b[1m Row \u001b[0m│\u001b[1m income_log \u001b[0m\u001b[1m urban_log \u001b[0m\u001b[1m young_log \u001b[0m\u001b[1m income_log_square \u001b[0m\u001b[1m urban_log_square \u001b[0m\u001b[1m \u001b[0m ⋯\n",
       "     │\u001b[90m Float64    \u001b[0m\u001b[90m Float64   \u001b[0m\u001b[90m Float64   \u001b[0m\u001b[90m Float64           \u001b[0m\u001b[90m Float64          \u001b[0m\u001b[90m \u001b[0m ⋯\n",
       "─────┼──────────────────────────────────────────────────────────────────────────\n",
       "   1 │    7.94591    6.23048    5.85993            63.1375           38.8189   ⋯\n",
       "   2 │    8.08918    6.33505    5.84615            65.4348           40.1329\n",
       "   3 │    8.03008    5.77455    5.85364            64.4823           33.3454\n",
       "\u001b[36m                                                               7 columns omitted\u001b[0m"
      ]
     },
     "execution_count": 36,
     "metadata": {},
     "output_type": "execute_result"
    }
   ],
   "source": [
    "## Standardizing the X variables\n",
    "scaler = MLJModels.Standardizer();\n",
    "educ_X_std = MLJModels.transform(fit!(machine(scaler, educ_X)), educ_X);\n",
    "first(educ_X, 3)"
   ]
  },
  {
   "cell_type": "code",
   "execution_count": 37,
   "id": "9b946920",
   "metadata": {},
   "outputs": [
    {
     "data": {
      "text/html": [
       "<div><div style = \"float: left;\"><span>3×12 DataFrame</span></div><div style = \"clear: both;\"></div></div><div class = \"data-frame\" style = \"overflow-x: scroll;\"><table class = \"data-frame\" style = \"margin-bottom: 6px;\"><thead><tr class = \"header\"><th class = \"rowNumber\" style = \"font-weight: bold; text-align: right;\">Row</th><th style = \"text-align: left;\">income_log</th><th style = \"text-align: left;\">urban_log</th><th style = \"text-align: left;\">young_log</th><th style = \"text-align: left;\">income_log_square</th><th style = \"text-align: left;\">urban_log_square</th><th style = \"text-align: left;\">young_log_square</th><th style = \"text-align: left;\">income_log_cube</th><th style = \"text-align: left;\">urban_log_cube</th><th style = \"text-align: left;\">young_log_cube</th><th style = \"text-align: left;\">income_log_4th</th><th style = \"text-align: left;\">urban_log_4th</th><th style = \"text-align: left;\">young_log_4th</th></tr><tr class = \"subheader headerLastRow\"><th class = \"rowNumber\" style = \"font-weight: bold; text-align: right;\"></th><th title = \"Float64\" style = \"text-align: left;\">Float64</th><th title = \"Float64\" style = \"text-align: left;\">Float64</th><th title = \"Float64\" style = \"text-align: left;\">Float64</th><th title = \"Float64\" style = \"text-align: left;\">Float64</th><th title = \"Float64\" style = \"text-align: left;\">Float64</th><th title = \"Float64\" style = \"text-align: left;\">Float64</th><th title = \"Float64\" style = \"text-align: left;\">Float64</th><th title = \"Float64\" style = \"text-align: left;\">Float64</th><th title = \"Float64\" style = \"text-align: left;\">Float64</th><th title = \"Float64\" style = \"text-align: left;\">Float64</th><th title = \"Float64\" style = \"text-align: left;\">Float64</th><th title = \"Float64\" style = \"text-align: left;\">Float64</th></tr></thead><tbody><tr><td class = \"rowNumber\" style = \"font-weight: bold; text-align: right;\">1</td><td style = \"text-align: right;\">-0.66766</td><td style = \"text-align: right;\">-0.987876</td><td style = \"text-align: right;\">-0.324325</td><td style = \"text-align: right;\">-0.674958</td><td style = \"text-align: right;\">-0.999383</td><td style = \"text-align: right;\">-0.327454</td><td style = \"text-align: right;\">-0.681938</td><td style = \"text-align: right;\">-1.00939</td><td style = \"text-align: right;\">-0.330514</td><td style = \"text-align: right;\">-0.688598</td><td style = \"text-align: right;\">-1.01794</td><td style = \"text-align: right;\">-0.333504</td></tr><tr><td class = \"rowNumber\" style = \"font-weight: bold; text-align: right;\">2</td><td style = \"text-align: right;\">0.144252</td><td style = \"text-align: right;\">-0.559031</td><td style = \"text-align: right;\">-0.537359</td><td style = \"text-align: right;\">0.134041</td><td style = \"text-align: right;\">-0.578223</td><td style = \"text-align: right;\">-0.538393</td><td style = \"text-align: right;\">0.123751</td><td style = \"text-align: right;\">-0.596509</td><td style = \"text-align: right;\">-0.539337</td><td style = \"text-align: right;\">0.113395</td><td style = \"text-align: right;\">-0.613857</td><td style = \"text-align: right;\">-0.540191</td></tr><tr><td class = \"rowNumber\" style = \"font-weight: bold; text-align: right;\">3</td><td style = \"text-align: right;\">-0.190629</td><td style = \"text-align: right;\">-2.85761</td><td style = \"text-align: right;\">-0.421601</td><td style = \"text-align: right;\">-0.201391</td><td style = \"text-align: right;\">-2.7537</td><td style = \"text-align: right;\">-0.423835</td><td style = \"text-align: right;\">-0.212054</td><td style = \"text-align: right;\">-2.65328</td><td style = \"text-align: right;\">-0.425989</td><td style = \"text-align: right;\">-0.22261</td><td style = \"text-align: right;\">-2.55642</td><td style = \"text-align: right;\">-0.428063</td></tr></tbody></table></div>"
      ],
      "text/latex": [
       "\\begin{tabular}{r|ccccccc}\n",
       "\t& income\\_log & urban\\_log & young\\_log & income\\_log\\_square & urban\\_log\\_square & young\\_log\\_square & \\\\\n",
       "\t\\hline\n",
       "\t& Float64 & Float64 & Float64 & Float64 & Float64 & Float64 & \\\\\n",
       "\t\\hline\n",
       "\t1 & -0.66766 & -0.987876 & -0.324325 & -0.674958 & -0.999383 & -0.327454 & $\\dots$ \\\\\n",
       "\t2 & 0.144252 & -0.559031 & -0.537359 & 0.134041 & -0.578223 & -0.538393 & $\\dots$ \\\\\n",
       "\t3 & -0.190629 & -2.85761 & -0.421601 & -0.201391 & -2.7537 & -0.423835 & $\\dots$ \\\\\n",
       "\\end{tabular}\n"
      ],
      "text/plain": [
       "\u001b[1m3×12 DataFrame\u001b[0m\n",
       "\u001b[1m Row \u001b[0m│\u001b[1m income_log \u001b[0m\u001b[1m urban_log \u001b[0m\u001b[1m young_log \u001b[0m\u001b[1m income_log_square \u001b[0m\u001b[1m urban_log_square \u001b[0m\u001b[1m \u001b[0m ⋯\n",
       "     │\u001b[90m Float64    \u001b[0m\u001b[90m Float64   \u001b[0m\u001b[90m Float64   \u001b[0m\u001b[90m Float64           \u001b[0m\u001b[90m Float64          \u001b[0m\u001b[90m \u001b[0m ⋯\n",
       "─────┼──────────────────────────────────────────────────────────────────────────\n",
       "   1 │  -0.66766   -0.987876  -0.324325          -0.674958         -0.999383   ⋯\n",
       "   2 │   0.144252  -0.559031  -0.537359           0.134041         -0.578223\n",
       "   3 │  -0.190629  -2.85761   -0.421601          -0.201391         -2.7537\n",
       "\u001b[36m                                                               7 columns omitted\u001b[0m"
      ]
     },
     "execution_count": 37,
     "metadata": {},
     "output_type": "execute_result"
    }
   ],
   "source": [
    "first(educ_X_std, 3)"
   ]
  },
  {
   "cell_type": "markdown",
   "id": "d28cbc99",
   "metadata": {
    "slideshow": {
     "slide_type": "slide"
    }
   },
   "source": [
    "## Ridge Regression\n",
    "\n",
    "The best way to do it:"
   ]
  },
  {
   "cell_type": "code",
   "execution_count": 38,
   "id": "97bb6144",
   "metadata": {
    "slideshow": {
     "slide_type": "slide"
    }
   },
   "outputs": [
    {
     "data": {
      "text/plain": [
       "PerformanceEvaluation object with these fields:\n",
       "  model, measure, operation, measurement, per_fold,\n",
       "  per_observation, fitted_params_per_fold,\n",
       "  report_per_fold, train_test_rows, resampling, repeats\n",
       "Extract:\n",
       "┌────────────────────────┬───────────┬─────────────┬─────────┬──────────────────\n",
       "│\u001b[22m measure                \u001b[0m│\u001b[22m operation \u001b[0m│\u001b[22m measurement \u001b[0m│\u001b[22m 1.96*SE \u001b[0m│\u001b[22m per_fold       \u001b[0m ⋯\n",
       "├────────────────────────┼───────────┼─────────────┼─────────┼──────────────────\n",
       "│ RootMeanSquaredError() │ predict   │ 0.152       │ 0.0162  │ [0.161, 0.141,  ⋯\n",
       "│ LPLoss(                │ predict   │ 0.0231      │ 0.00489 │ [0.0259, 0.0199 ⋯\n",
       "│   p = 2)               │           │             │         │                 ⋯\n",
       "│ RSquared()             │ predict   │ 0.498       │ 0.163   │ [0.552, 0.286,  ⋯\n",
       "└────────────────────────┴───────────┴─────────────┴─────────┴──────────────────\n",
       "\u001b[36m                                                                1 column omitted\u001b[0m\n"
      ]
     },
     "execution_count": 38,
     "metadata": {},
     "output_type": "execute_result"
    }
   ],
   "source": [
    "## Ridge Regression (greatly done)\n",
    "evaluate(ridge, \n",
    "    educ_X_std, \n",
    "    educ_y, \n",
    "    resampling = cv4,\n",
    "    measure = [rms, l2, rsq], \n",
    "    verbosity = 0)"
   ]
  },
  {
   "cell_type": "markdown",
   "id": "43173a8a",
   "metadata": {
    "slideshow": {
     "slide_type": "slide"
    }
   },
   "source": [
    "## Ridge Regression\n",
    "\n",
    "**Caveat 2**: The ridge regression produces a different set of parameter for each $\\lambda$.\n",
    "- $\\widehat{\\beta}_{\\lambda}^{R}$\n",
    "\n",
    "Also note that the intercept ($\\beta_0$) is not considered.\n",
    "\n",
    "- We do not want to shrink the mean of $y_i$ when $x_{ij} = 0$ for all $j$.\n",
    "\n",
    "- And if we standardize the variables, then the intercept will be $\\widehat{\\beta}_0 = \\overline{y}$."
   ]
  },
  {
   "cell_type": "markdown",
   "id": "36ae8ab3",
   "metadata": {
    "slideshow": {
     "slide_type": "slide"
    }
   },
   "source": [
    "## Ridge Regression\n",
    "\n",
    "![img](https://github.com/umbertomig/POLI175julia/blob/c9b0555e3e97778495bee72746aee43ddf3226d7/img/ridge1.png?raw=true)"
   ]
  },
  {
   "cell_type": "markdown",
   "id": "85cd4cbe",
   "metadata": {
    "slideshow": {
     "slide_type": "slide"
    }
   },
   "source": [
    "## Ridge Regression\n",
    "\n",
    "Advantage: the *non-obvious* advantage is that as $\\lambda$ increses, the flexibility of the model decreases.\n",
    "\n",
    "This decreases variance (but increase bias).\n",
    "\n",
    "This may be \"optimized\": You may find the optimal bias-variance trade-off by manipulating $\\lambda$."
   ]
  },
  {
   "cell_type": "markdown",
   "id": "87217f23",
   "metadata": {
    "slideshow": {
     "slide_type": "slide"
    }
   },
   "source": [
    "## Ridge Regression\n",
    "\n",
    "Specially important when $p$ is close to $n$ (number of predictors is close to the number of cases).\n",
    "- This is called *high dimensional data*.\n",
    "\n",
    "If $p > n$, then ridge does very well. This case would have a very high variance.\n",
    "\n",
    "And it is *way* better than *best subset selection*: you fit just one model:\n",
    "- In practice, as many as the different $\\lambda$s.\n",
    "- There are algorithms to solve efficiently for all $\\lambda$s, which means that it may be more efficient than best, forward, and backward stepwise selection."
   ]
  },
  {
   "cell_type": "markdown",
   "id": "f5b281b3",
   "metadata": {
    "slideshow": {
     "slide_type": "slide"
    }
   },
   "source": [
    "## Ridge Regression (the book calls the regularization parameter $\\lambda$) \n",
    "\n",
    "![img](https://github.com/umbertomig/POLI175julia/blob/c9b0555e3e97778495bee72746aee43ddf3226d7/img/ridge2.png?raw=true)"
   ]
  },
  {
   "cell_type": "markdown",
   "id": "e341490e",
   "metadata": {
    "slideshow": {
     "slide_type": "slide"
    }
   },
   "source": [
    "\n",
    "# Cross-Validation\n",
    "\n",
    "## Cross-Validation\n",
    "\n",
    "To select the tuning parameters you can use cross-validation.\n",
    "\n",
    "The idea is to search through a grid of tuning parameter candidates, selecting the one that does best in the cross-validation.\n",
    "\n",
    "It is indeed a very straight-forward idea, if you think about it."
   ]
  },
  {
   "cell_type": "markdown",
   "id": "bd0aa375",
   "metadata": {
    "slideshow": {
     "slide_type": "slide"
    }
   },
   "source": [
    "## Cross-Validation\n",
    "\n",
    "![img](https://github.com/umbertomig/POLI175julia/blob/c9b0555e3e97778495bee72746aee43ddf3226d7/img/cvridge.png?raw=true)"
   ]
  },
  {
   "cell_type": "markdown",
   "id": "0eafc698",
   "metadata": {
    "slideshow": {
     "slide_type": "slide"
    }
   },
   "source": [
    "# Lasso Regression"
   ]
  },
  {
   "cell_type": "markdown",
   "id": "05794a41",
   "metadata": {
    "slideshow": {
     "slide_type": "slide"
    }
   },
   "source": [
    "# Lasso Regression\n",
    "\n",
    "Ridge regression has one disadvantage: it always include $p$ predictors.\n",
    "\n",
    "The shrinkage never sets coefficients to be exactly zero (that is, be removed from the prediction).\n",
    "\n",
    "This could potentially make subset selection better than ridge."
   ]
  },
  {
   "cell_type": "markdown",
   "id": "f697d9d7",
   "metadata": {
    "slideshow": {
     "slide_type": "slide"
    }
   },
   "source": [
    "## Lasso Regression\n",
    "\n",
    "But one alternative, using the same principles as the ridge regression is the **Lasso** Regression.\n",
    "\n",
    "In the lasso regression, the objective function becomes:\n",
    "\n",
    "$$ \\text{Residual Sum of Squares} + \\lambda \\sum_{j=1}^p|\\beta_j| $$\n",
    "\n",
    "Does the same as ridge: the larger the $\\lambda$, the more the *shrinkage*."
   ]
  },
  {
   "cell_type": "markdown",
   "id": "ec711f60",
   "metadata": {
    "slideshow": {
     "slide_type": "slide"
    }
   },
   "source": [
    "## Lasso Regression\n",
    "\n",
    "Unlike ridge, for some values of $\\lambda$, **Lasso** actually force coefficients to be exactly equal to zero.\n",
    "\n",
    "Thus, **Lasso** performs variable selection, much like the subset selection models we have seen.\n",
    "\n",
    "**Side-effect**: Makes models easier to interpret!\n",
    "\n",
    "- Yields *sparse* models: models that only involve a subset of the variables.\n",
    "    \n",
    "Like ridge, selecting a good $\\lambda$ is critical."
   ]
  },
  {
   "cell_type": "markdown",
   "id": "8d3ce774",
   "metadata": {
    "slideshow": {
     "slide_type": "slide"
    }
   },
   "source": [
    "# Lasso Regression\n",
    "\n",
    "## Lasso Regression in Julia"
   ]
  },
  {
   "cell_type": "code",
   "execution_count": 47,
   "id": "4efd06c9",
   "metadata": {
    "slideshow": {
     "slide_type": "-"
    }
   },
   "outputs": [
    {
     "data": {
      "text/plain": [
       "LassoRegressor(\n",
       "  lambda = 1.1, \n",
       "  fit_intercept = true, \n",
       "  penalize_intercept = false, \n",
       "  scale_penalty_with_samples = true, \n",
       "  solver = nothing)"
      ]
     },
     "execution_count": 47,
     "metadata": {},
     "output_type": "execute_result"
    }
   ],
   "source": [
    "## Lasso Regression (instantiate)\n",
    "lasso = MLJLinearModels.LassoRegressor(lambda = 1.1)"
   ]
  },
  {
   "cell_type": "markdown",
   "id": "532f6e04",
   "metadata": {
    "slideshow": {
     "slide_type": "slide"
    }
   },
   "source": [
    "# Lasso Regression\n",
    "\n",
    "## Lasso Regression in Julia"
   ]
  },
  {
   "cell_type": "code",
   "execution_count": 43,
   "id": "1738d0f9",
   "metadata": {},
   "outputs": [
    {
     "data": {
      "text/plain": [
       "PerformanceEvaluation object with these fields:\n",
       "  model, measure, operation, measurement, per_fold,\n",
       "  per_observation, fitted_params_per_fold,\n",
       "  report_per_fold, train_test_rows, resampling, repeats\n",
       "Extract:\n",
       "┌────────────────────────┬───────────┬─────────────┬─────────┬──────────────────\n",
       "│\u001b[22m measure                \u001b[0m│\u001b[22m operation \u001b[0m│\u001b[22m measurement \u001b[0m│\u001b[22m 1.96*SE \u001b[0m│\u001b[22m per_fold       \u001b[0m ⋯\n",
       "├────────────────────────┼───────────┼─────────────┼─────────┼──────────────────\n",
       "│ RootMeanSquaredError() │ predict   │ 0.414       │ 0.055   │ [0.452, 0.368,  ⋯\n",
       "│ LPLoss(                │ predict   │ 0.171       │ 0.0452  │ [0.205, 0.135,  ⋯\n",
       "│   p = 2)               │           │             │         │                 ⋯\n",
       "│ RSquared()             │ predict   │ -2.96       │ 1.66    │ [-4.48, -1.06,  ⋯\n",
       "└────────────────────────┴───────────┴─────────────┴─────────┴──────────────────\n",
       "\u001b[36m                                                                1 column omitted\u001b[0m\n"
      ]
     },
     "execution_count": 43,
     "metadata": {},
     "output_type": "execute_result"
    }
   ],
   "source": [
    "evaluate(lasso, \n",
    "    educ_X, \n",
    "    educ_y, \n",
    "    resampling = cv4,\n",
    "    measure = [rms, l2, rsq], \n",
    "    verbosity = 0)"
   ]
  },
  {
   "cell_type": "markdown",
   "id": "a20415c6",
   "metadata": {
    "slideshow": {
     "slide_type": "slide"
    }
   },
   "source": [
    "# Lasso Regression\n",
    "\n",
    "## Lasso Regression in Julia"
   ]
  },
  {
   "cell_type": "code",
   "execution_count": 44,
   "id": "3b6d0cc1",
   "metadata": {
    "scrolled": true
   },
   "outputs": [
    {
     "name": "stderr",
     "output_type": "stream",
     "text": [
      "\u001b[36m\u001b[1m[ \u001b[22m\u001b[39m\u001b[36m\u001b[1mInfo: \u001b[22m\u001b[39mTraining machine(LassoRegressor(lambda = 1000.0, …), …).\n",
      "\u001b[36m\u001b[1m┌ \u001b[22m\u001b[39m\u001b[36m\u001b[1mInfo: \u001b[22m\u001b[39mSolver: MLJLinearModels.ProxGrad\n",
      "\u001b[36m\u001b[1m│ \u001b[22m\u001b[39m  accel: Bool true\n",
      "\u001b[36m\u001b[1m│ \u001b[22m\u001b[39m  max_iter: Int64 1000\n",
      "\u001b[36m\u001b[1m│ \u001b[22m\u001b[39m  tol: Float64 0.0001\n",
      "\u001b[36m\u001b[1m│ \u001b[22m\u001b[39m  max_inner: Int64 100\n",
      "\u001b[36m\u001b[1m│ \u001b[22m\u001b[39m  beta: Float64 0.8\n",
      "\u001b[36m\u001b[1m└ \u001b[22m\u001b[39m  gram: Bool false\n"
     ]
    },
    {
     "data": {
      "text/plain": [
       "(coefs = [:income_log => 0.0, :urban_log => 0.0, :young_log => 0.0, :income_log_square => 0.0, :urban_log_square => 0.0, :young_log_square => 0.0, :income_log_cube => 0.0, :urban_log_cube => 0.0, :young_log_cube => 0.0, :income_log_4th => 0.0011781991399936443, :urban_log_4th => 0.0, :young_log_4th => 0.0],\n",
       " intercept = 9.124195115236468e-7,)"
      ]
     },
     "execution_count": 44,
     "metadata": {},
     "output_type": "execute_result"
    }
   ],
   "source": [
    "## Lasso Parameters\n",
    "machine2 = machine(lasso, educ_X, educ_y)\n",
    "fit!(machine2)\n",
    "fitted_params(machine2)"
   ]
  },
  {
   "cell_type": "code",
   "execution_count": 16,
   "id": "51359361",
   "metadata": {},
   "outputs": [
    {
     "data": {
      "text/plain": [
       "(coefs = [:income_log => 0.0001938614453657547, :urban_log => -9.930350801419571e-5, :young_log => -2.8916895544529442e-5, :income_log_square => 0.0020754452837817607, :urban_log_square => -0.0008172682730275851, :young_log_square => -0.00021897172033659906, :income_log_cube => 0.01248357269781201, :urban_log_cube => -0.003781046851971933, :young_log_cube => -0.000856728047262753, :income_log_4th => -0.0005787286363908233, :urban_log_4th => 0.00019411956103879537, :young_log_4th => 0.0017618021164507865],\n",
       " intercept = -0.19011849054925398,)"
      ]
     },
     "execution_count": 16,
     "metadata": {},
     "output_type": "execute_result"
    }
   ],
   "source": [
    "## Ridge Parameters\n",
    "fitted_params(machine1)"
   ]
  },
  {
   "cell_type": "markdown",
   "id": "ed693e79",
   "metadata": {
    "slideshow": {
     "slide_type": "slide"
    }
   },
   "source": [
    "# Lasso Regression\n",
    "\n",
    "## Lasso Regression in Julia"
   ]
  },
  {
   "cell_type": "code",
   "execution_count": 54,
   "id": "07f96688",
   "metadata": {
    "scrolled": true
   },
   "outputs": [
    {
     "name": "stderr",
     "output_type": "stream",
     "text": [
      "\u001b[36m\u001b[1m[ \u001b[22m\u001b[39m\u001b[36m\u001b[1mInfo: \u001b[22m\u001b[39mTraining machine(LassoRegressor(lambda = 0.01, …), …).\n",
      "\u001b[36m\u001b[1m┌ \u001b[22m\u001b[39m\u001b[36m\u001b[1mInfo: \u001b[22m\u001b[39mSolver: MLJLinearModels.ProxGrad\n",
      "\u001b[36m\u001b[1m│ \u001b[22m\u001b[39m  accel: Bool true\n",
      "\u001b[36m\u001b[1m│ \u001b[22m\u001b[39m  max_iter: Int64 1000\n",
      "\u001b[36m\u001b[1m│ \u001b[22m\u001b[39m  tol: Float64 0.0001\n",
      "\u001b[36m\u001b[1m│ \u001b[22m\u001b[39m  max_inner: Int64 100\n",
      "\u001b[36m\u001b[1m│ \u001b[22m\u001b[39m  beta: Float64 0.8\n",
      "\u001b[36m\u001b[1m└ \u001b[22m\u001b[39m  gram: Bool false\n"
     ]
    },
    {
     "data": {
      "text/plain": [
       "(coefs = [:income_log => 0.1939668465318225, :urban_log => -0.03906820937405762, :young_log => 0.0, :income_log_square => 0.0, :urban_log_square => -0.0006708201024971472, :young_log_square => 0.0, :income_log_cube => 0.0, :urban_log_cube => -0.0003040293652511153, :young_log_cube => 0.00035077161164430697, :income_log_4th => 0.0, :urban_log_4th => -7.944699145649931e-5, :young_log_4th => 0.0766495988405259],\n",
       " intercept = 5.253605704566857,)"
      ]
     },
     "execution_count": 54,
     "metadata": {},
     "output_type": "execute_result"
    }
   ],
   "source": [
    "## Your turn: Run the Lasso Regression with the Standardized data\n",
    "lasso = MLJLinearModels.LassoRegressor(lambda = 0.01)\n",
    "machine3 = machine(lasso, educ_X_std, educ_y)\n",
    "fit!(machine3)\n",
    "fitted_params(machine3)"
   ]
  },
  {
   "cell_type": "markdown",
   "id": "10333971",
   "metadata": {
    "slideshow": {
     "slide_type": "slide"
    }
   },
   "source": [
    "## Lasso\n",
    "\n",
    "![img](https://github.com/umbertomig/POLI175julia/blob/c9b0555e3e97778495bee72746aee43ddf3226d7/img/lasso1.png?raw=true)"
   ]
  },
  {
   "cell_type": "markdown",
   "id": "64bd57b5",
   "metadata": {
    "slideshow": {
     "slide_type": "slide"
    }
   },
   "source": [
    "## Lasso x Ridge Regression\n",
    "\n",
    "Selection property of lasso: \n",
    "\n",
    "- Lasso and ridge are equivalent to a constraint on the shape of the acceptable parameter space.\n",
    "\n",
    "- But the \"diamond shape\" of lasso makes it shrinks some coefficients towards zero.\n",
    "\n",
    "![img](https://github.com/umbertomig/POLI175julia/blob/c9b0555e3e97778495bee72746aee43ddf3226d7/img/lassovsridge3.png?raw=true)"
   ]
  },
  {
   "cell_type": "markdown",
   "id": "fe5f488f",
   "metadata": {
    "slideshow": {
     "slide_type": "slide"
    }
   },
   "source": [
    "## Lasso x Ridge Regression (the book calls the regularization parameter $\\lambda$) \n",
    "\n",
    "Lasso performs similarly to ridge in most cases. In these cases, I'd say that lasso is better:\n",
    "\n",
    "- Reduces the complexity in the model.\n",
    "\n",
    "![img](https://github.com/umbertomig/POLI175julia/blob/c9b0555e3e97778495bee72746aee43ddf3226d7/img/lassovsridge1.png?raw=true)"
   ]
  },
  {
   "cell_type": "markdown",
   "id": "1a9c8d08",
   "metadata": {
    "slideshow": {
     "slide_type": "slide"
    }
   },
   "source": [
    "## Lasso x Ridge Regression\n",
    "\n",
    "But when all coefficients are different from zero, then ridge is better.\n",
    "\n",
    "![img](https://github.com/umbertomig/POLI175julia/blob/c9b0555e3e97778495bee72746aee43ddf3226d7/img/lassovsridge2.png?raw=true)"
   ]
  },
  {
   "cell_type": "markdown",
   "id": "405961b4",
   "metadata": {
    "slideshow": {
     "slide_type": "slide"
    }
   },
   "source": [
    "## Lasso x Ridge Regression\n",
    "\n",
    "To summarize, none is better in all situations.\n",
    "\n",
    "- But you should know now that this is true for most ML algorithms.\n",
    "\n",
    "You may need to search which model is better.\n",
    "\n",
    "Moreover, finding $\\lambda$ is also a big deal. Cross-Validation can help us with that!"
   ]
  },
  {
   "cell_type": "markdown",
   "id": "d8eace45",
   "metadata": {
    "slideshow": {
     "slide_type": "slide"
    }
   },
   "source": [
    "# Questions?"
   ]
  },
  {
   "cell_type": "markdown",
   "id": "22d252e9",
   "metadata": {
    "slideshow": {
     "slide_type": "slide"
    }
   },
   "source": [
    "# See you next class\n"
   ]
  }
 ],
 "metadata": {
  "celltoolbar": "Slideshow",
  "kernelspec": {
   "display_name": "Julia 1.9.2",
   "language": "julia",
   "name": "julia-1.9"
  },
  "language_info": {
   "file_extension": ".jl",
   "mimetype": "application/julia",
   "name": "julia",
   "version": "1.9.2"
  }
 },
 "nbformat": 4,
 "nbformat_minor": 5
}
