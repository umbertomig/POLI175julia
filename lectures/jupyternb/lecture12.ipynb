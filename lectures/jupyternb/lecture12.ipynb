{
 "cells": [
  {
   "cell_type": "markdown",
   "id": "243e38f9",
   "metadata": {
    "slideshow": {
     "slide_type": "slide"
    }
   },
   "source": [
    "# POLI 175 - Lecture 12\n",
    "\n",
    "## KNN (some more) and Non-linearity"
   ]
  },
  {
   "cell_type": "markdown",
   "id": "bb985516",
   "metadata": {
    "slideshow": {
     "slide_type": "slide"
    }
   },
   "source": [
    "## Class Examples\n",
    "\n",
    "1. Education expenditure dataset\n",
    "\n",
    "1. Pinochet voting dataset\n",
    "\n",
    "Let us load them all:"
   ]
  },
  {
   "cell_type": "code",
   "execution_count": 2,
   "id": "b55c5cf0",
   "metadata": {
    "slideshow": {
     "slide_type": "-"
    }
   },
   "outputs": [
    {
     "data": {
      "text/plain": [
       "onehot! (generic function with 2 methods)"
      ]
     },
     "execution_count": 2,
     "metadata": {},
     "output_type": "execute_result"
    }
   ],
   "source": [
    "## Packages Here\n",
    "using DataFrames\n",
    "using MLJ, MLJIteration\n",
    "import MLJLinearModels, MLJBase, MLJModels\n",
    "import MultivariateStats, MLJMultivariateStatsInterface\n",
    "import CSV, Plots, GLM, StatsBase, Random\n",
    "import LaTeXStrings, StatsPlots, Lowess, Gadfly, RegressionTables\n",
    "import CovarianceMatrices, Econometrics, LinearAlgebra, MixedModelsExtras\n",
    "import Missings, StatsAPI, FreqTables, EvalMetrics\n",
    "import NearestNeighborModels\n",
    "\n",
    "# Adapted from @xiaodaigh: https://github.com/xiaodaigh/DataConvenience.jl\n",
    "function onehot!(df::AbstractDataFrame, \n",
    "        col, cate = sort(unique(df[!, col])); \n",
    "        outnames = Symbol.(col, :_, cate))\n",
    "    transform!(df, @. col => ByRow(isequal(cate)) .=> outnames)\n",
    "end"
   ]
  },
  {
   "cell_type": "markdown",
   "id": "79543cb5",
   "metadata": {
    "slideshow": {
     "slide_type": "slide"
    }
   },
   "source": [
    "## Class Examples"
   ]
  },
  {
   "cell_type": "code",
   "execution_count": 3,
   "id": "4704653f",
   "metadata": {
    "slideshow": {
     "slide_type": "-"
    }
   },
   "outputs": [
    {
     "data": {
      "text/html": [
       "<div><div style = \"float: left;\"><span>3×11 DataFrame</span></div><div style = \"clear: both;\"></div></div><div class = \"data-frame\" style = \"overflow-x: scroll;\"><table class = \"data-frame\" style = \"margin-bottom: 6px;\"><thead><tr class = \"header\"><th class = \"rowNumber\" style = \"font-weight: bold; text-align: right;\">Row</th><th style = \"text-align: left;\">age</th><th style = \"text-align: left;\">statusquo</th><th style = \"text-align: left;\">vote</th><th style = \"text-align: left;\">voteyes</th><th style = \"text-align: left;\">region_M</th><th style = \"text-align: left;\">region_N</th><th style = \"text-align: left;\">region_S</th><th style = \"text-align: left;\">region_SA</th><th style = \"text-align: left;\">education_PS</th><th style = \"text-align: left;\">education_S</th><th style = \"text-align: left;\">sex_F</th></tr><tr class = \"subheader headerLastRow\"><th class = \"rowNumber\" style = \"font-weight: bold; text-align: right;\"></th><th title = \"Int64\" style = \"text-align: left;\">Int64</th><th title = \"Float64\" style = \"text-align: left;\">Float64</th><th title = \"InlineStrings.String1\" style = \"text-align: left;\">String1</th><th title = \"Int64\" style = \"text-align: left;\">Int64</th><th title = \"Bool\" style = \"text-align: left;\">Bool</th><th title = \"Bool\" style = \"text-align: left;\">Bool</th><th title = \"Bool\" style = \"text-align: left;\">Bool</th><th title = \"Bool\" style = \"text-align: left;\">Bool</th><th title = \"Bool\" style = \"text-align: left;\">Bool</th><th title = \"Bool\" style = \"text-align: left;\">Bool</th><th title = \"Bool\" style = \"text-align: left;\">Bool</th></tr></thead><tbody><tr><td class = \"rowNumber\" style = \"font-weight: bold; text-align: right;\">1</td><td style = \"text-align: right;\">65</td><td style = \"text-align: right;\">1.0082</td><td style = \"text-align: left;\">Y</td><td style = \"text-align: right;\">1</td><td style = \"text-align: right;\">false</td><td style = \"text-align: right;\">true</td><td style = \"text-align: right;\">false</td><td style = \"text-align: right;\">false</td><td style = \"text-align: right;\">false</td><td style = \"text-align: right;\">false</td><td style = \"text-align: right;\">false</td></tr><tr><td class = \"rowNumber\" style = \"font-weight: bold; text-align: right;\">2</td><td style = \"text-align: right;\">29</td><td style = \"text-align: right;\">-1.29617</td><td style = \"text-align: left;\">N</td><td style = \"text-align: right;\">0</td><td style = \"text-align: right;\">false</td><td style = \"text-align: right;\">true</td><td style = \"text-align: right;\">false</td><td style = \"text-align: right;\">false</td><td style = \"text-align: right;\">true</td><td style = \"text-align: right;\">false</td><td style = \"text-align: right;\">false</td></tr><tr><td class = \"rowNumber\" style = \"font-weight: bold; text-align: right;\">3</td><td style = \"text-align: right;\">38</td><td style = \"text-align: right;\">1.23072</td><td style = \"text-align: left;\">Y</td><td style = \"text-align: right;\">1</td><td style = \"text-align: right;\">false</td><td style = \"text-align: right;\">true</td><td style = \"text-align: right;\">false</td><td style = \"text-align: right;\">false</td><td style = \"text-align: right;\">false</td><td style = \"text-align: right;\">false</td><td style = \"text-align: right;\">true</td></tr></tbody></table></div>"
      ],
      "text/latex": [
       "\\begin{tabular}{r|cccccccccc}\n",
       "\t& age & statusquo & vote & voteyes & region\\_M & region\\_N & region\\_S & region\\_SA & education\\_PS & \\\\\n",
       "\t\\hline\n",
       "\t& Int64 & Float64 & String1 & Int64 & Bool & Bool & Bool & Bool & Bool & \\\\\n",
       "\t\\hline\n",
       "\t1 & 65 & 1.0082 & Y & 1 & 0 & 1 & 0 & 0 & 0 & $\\dots$ \\\\\n",
       "\t2 & 29 & -1.29617 & N & 0 & 0 & 1 & 0 & 0 & 1 & $\\dots$ \\\\\n",
       "\t3 & 38 & 1.23072 & Y & 1 & 0 & 1 & 0 & 0 & 0 & $\\dots$ \\\\\n",
       "\\end{tabular}\n"
      ],
      "text/plain": [
       "\u001b[1m3×11 DataFrame\u001b[0m\n",
       "\u001b[1m Row \u001b[0m│\u001b[1m age   \u001b[0m\u001b[1m statusquo \u001b[0m\u001b[1m vote    \u001b[0m\u001b[1m voteyes \u001b[0m\u001b[1m region_M \u001b[0m\u001b[1m region_N \u001b[0m\u001b[1m region_S \u001b[0m\u001b[1m regio\u001b[0m ⋯\n",
       "     │\u001b[90m Int64 \u001b[0m\u001b[90m Float64   \u001b[0m\u001b[90m String1 \u001b[0m\u001b[90m Int64   \u001b[0m\u001b[90m Bool     \u001b[0m\u001b[90m Bool     \u001b[0m\u001b[90m Bool     \u001b[0m\u001b[90m Bool \u001b[0m ⋯\n",
       "─────┼──────────────────────────────────────────────────────────────────────────\n",
       "   1 │    65    1.0082   Y              1     false      true     false      f ⋯\n",
       "   2 │    29   -1.29617  N              0     false      true     false      f\n",
       "   3 │    38    1.23072  Y              1     false      true     false      f\n",
       "\u001b[36m                                                               4 columns omitted\u001b[0m"
      ]
     },
     "execution_count": 3,
     "metadata": {},
     "output_type": "execute_result"
    }
   ],
   "source": [
    "## Loading the data\n",
    "chile = CSV.read(\n",
    "    download(\"https://raw.githubusercontent.com/umbertomig/POLI175julia/main/data/chilesurvey.csv\"), \n",
    "    DataFrame,\n",
    "    missingstring = [\"NA\"]\n",
    "); dropmissing!(chile)\n",
    "chile.voteyes = ifelse.(chile.vote .== \"Y\", 1, 0)\n",
    "\n",
    "# One-hot encoding (we will learn a better way to do it later)\n",
    "onehot!(chile, :region);\n",
    "onehot!(chile, :education);\n",
    "onehot!(chile, :sex);\n",
    "\n",
    "# Drop reference categories\n",
    "select!(chile, Not(:region, :income, :population, :sex, :education, :region_C, :education_P, :sex_M))\n",
    "\n",
    "# Checking\n",
    "first(chile, 3)"
   ]
  },
  {
   "cell_type": "markdown",
   "id": "c00f69ff",
   "metadata": {
    "slideshow": {
     "slide_type": "slide"
    }
   },
   "source": [
    "## Class Examples"
   ]
  },
  {
   "cell_type": "code",
   "execution_count": 62,
   "id": "b696a377",
   "metadata": {
    "slideshow": {
     "slide_type": "-"
    }
   },
   "outputs": [
    {
     "data": {
      "text/html": [
       "<div><div style = \"float: left;\"><span>3×9 DataFrame</span></div><div style = \"clear: both;\"></div></div><div class = \"data-frame\" style = \"overflow-x: scroll;\"><table class = \"data-frame\" style = \"margin-bottom: 6px;\"><thead><tr class = \"header\"><th class = \"rowNumber\" style = \"font-weight: bold; text-align: right;\">Row</th><th style = \"text-align: left;\">education</th><th style = \"text-align: left;\">income</th><th style = \"text-align: left;\">young</th><th style = \"text-align: left;\">urban</th><th style = \"text-align: left;\">states</th><th style = \"text-align: left;\">educ_log</th><th style = \"text-align: left;\">income_log</th><th style = \"text-align: left;\">urban_log</th><th style = \"text-align: left;\">young_log</th></tr><tr class = \"subheader headerLastRow\"><th class = \"rowNumber\" style = \"font-weight: bold; text-align: right;\"></th><th title = \"Int64\" style = \"text-align: left;\">Int64</th><th title = \"Int64\" style = \"text-align: left;\">Int64</th><th title = \"Float64\" style = \"text-align: left;\">Float64</th><th title = \"Int64\" style = \"text-align: left;\">Int64</th><th title = \"InlineStrings.String3\" style = \"text-align: left;\">String3</th><th title = \"Float64\" style = \"text-align: left;\">Float64</th><th title = \"Float64\" style = \"text-align: left;\">Float64</th><th title = \"Float64\" style = \"text-align: left;\">Float64</th><th title = \"Float64\" style = \"text-align: left;\">Float64</th></tr></thead><tbody><tr><td class = \"rowNumber\" style = \"font-weight: bold; text-align: right;\">1</td><td style = \"text-align: right;\">189</td><td style = \"text-align: right;\">2824</td><td style = \"text-align: right;\">350.7</td><td style = \"text-align: right;\">508</td><td style = \"text-align: left;\">ME</td><td style = \"text-align: right;\">5.24175</td><td style = \"text-align: right;\">7.94591</td><td style = \"text-align: right;\">6.23048</td><td style = \"text-align: right;\">5.85993</td></tr><tr><td class = \"rowNumber\" style = \"font-weight: bold; text-align: right;\">2</td><td style = \"text-align: right;\">169</td><td style = \"text-align: right;\">3259</td><td style = \"text-align: right;\">345.9</td><td style = \"text-align: right;\">564</td><td style = \"text-align: left;\">NH</td><td style = \"text-align: right;\">5.1299</td><td style = \"text-align: right;\">8.08918</td><td style = \"text-align: right;\">6.33505</td><td style = \"text-align: right;\">5.84615</td></tr><tr><td class = \"rowNumber\" style = \"font-weight: bold; text-align: right;\">3</td><td style = \"text-align: right;\">230</td><td style = \"text-align: right;\">3072</td><td style = \"text-align: right;\">348.5</td><td style = \"text-align: right;\">322</td><td style = \"text-align: left;\">VT</td><td style = \"text-align: right;\">5.43808</td><td style = \"text-align: right;\">8.03008</td><td style = \"text-align: right;\">5.77455</td><td style = \"text-align: right;\">5.85364</td></tr></tbody></table></div>"
      ],
      "text/latex": [
       "\\begin{tabular}{r|ccccccccc}\n",
       "\t& education & income & young & urban & states & educ\\_log & income\\_log & urban\\_log & young\\_log\\\\\n",
       "\t\\hline\n",
       "\t& Int64 & Int64 & Float64 & Int64 & String3 & Float64 & Float64 & Float64 & Float64\\\\\n",
       "\t\\hline\n",
       "\t1 & 189 & 2824 & 350.7 & 508 & ME & 5.24175 & 7.94591 & 6.23048 & 5.85993 \\\\\n",
       "\t2 & 169 & 3259 & 345.9 & 564 & NH & 5.1299 & 8.08918 & 6.33505 & 5.84615 \\\\\n",
       "\t3 & 230 & 3072 & 348.5 & 322 & VT & 5.43808 & 8.03008 & 5.77455 & 5.85364 \\\\\n",
       "\\end{tabular}\n"
      ],
      "text/plain": [
       "\u001b[1m3×9 DataFrame\u001b[0m\n",
       "\u001b[1m Row \u001b[0m│\u001b[1m education \u001b[0m\u001b[1m income \u001b[0m\u001b[1m young   \u001b[0m\u001b[1m urban \u001b[0m\u001b[1m states  \u001b[0m\u001b[1m educ_log \u001b[0m\u001b[1m income_log \u001b[0m\u001b[1m urban\u001b[0m ⋯\n",
       "     │\u001b[90m Int64     \u001b[0m\u001b[90m Int64  \u001b[0m\u001b[90m Float64 \u001b[0m\u001b[90m Int64 \u001b[0m\u001b[90m String3 \u001b[0m\u001b[90m Float64  \u001b[0m\u001b[90m Float64    \u001b[0m\u001b[90m Float\u001b[0m ⋯\n",
       "─────┼──────────────────────────────────────────────────────────────────────────\n",
       "   1 │       189    2824    350.7    508  ME        5.24175     7.94591    6.2 ⋯\n",
       "   2 │       169    3259    345.9    564  NH        5.1299      8.08918    6.3\n",
       "   3 │       230    3072    348.5    322  VT        5.43808     8.03008    5.7\n",
       "\u001b[36m                                                               2 columns omitted\u001b[0m"
      ]
     },
     "execution_count": 62,
     "metadata": {},
     "output_type": "execute_result"
    }
   ],
   "source": [
    "## Education Expenditure Dataset\n",
    "educ = CSV.read(download(\"https://raw.githubusercontent.com/umbertomig/POLI175julia/main/data/educexp.csv\"), DataFrame)\n",
    "\n",
    "# Processing\n",
    "educ.educ_log = log.(educ.education);\n",
    "educ.income_log = log.(educ.income)\n",
    "educ.urban_log = log.(educ.urban)\n",
    "educ.young_log = log.(educ.young)\n",
    "\n",
    "# Checking\n",
    "first(educ, 3)"
   ]
  },
  {
   "cell_type": "markdown",
   "id": "439bf4a1",
   "metadata": {
    "slideshow": {
     "slide_type": "slide"
    }
   },
   "source": [
    "## Class Examples\n",
    "\n",
    "Now, let's go crazy: Add lots of polynomials to our model!"
   ]
  },
  {
   "cell_type": "code",
   "execution_count": 5,
   "id": "638c928d",
   "metadata": {
    "slideshow": {
     "slide_type": "-"
    }
   },
   "outputs": [
    {
     "data": {
      "text/html": [
       "<div><div style = \"float: left;\"><span>3×12 DataFrame</span></div><div style = \"clear: both;\"></div></div><div class = \"data-frame\" style = \"overflow-x: scroll;\"><table class = \"data-frame\" style = \"margin-bottom: 6px;\"><thead><tr class = \"header\"><th class = \"rowNumber\" style = \"font-weight: bold; text-align: right;\">Row</th><th style = \"text-align: left;\">income_log</th><th style = \"text-align: left;\">urban_log</th><th style = \"text-align: left;\">young_log</th><th style = \"text-align: left;\">income_log_square</th><th style = \"text-align: left;\">urban_log_square</th><th style = \"text-align: left;\">young_log_square</th><th style = \"text-align: left;\">income_log_cube</th><th style = \"text-align: left;\">urban_log_cube</th><th style = \"text-align: left;\">young_log_cube</th><th style = \"text-align: left;\">income_log_4th</th><th style = \"text-align: left;\">urban_log_4th</th><th style = \"text-align: left;\">young_log_4th</th></tr><tr class = \"subheader headerLastRow\"><th class = \"rowNumber\" style = \"font-weight: bold; text-align: right;\"></th><th title = \"Float64\" style = \"text-align: left;\">Float64</th><th title = \"Float64\" style = \"text-align: left;\">Float64</th><th title = \"Float64\" style = \"text-align: left;\">Float64</th><th title = \"Float64\" style = \"text-align: left;\">Float64</th><th title = \"Float64\" style = \"text-align: left;\">Float64</th><th title = \"Float64\" style = \"text-align: left;\">Float64</th><th title = \"Float64\" style = \"text-align: left;\">Float64</th><th title = \"Float64\" style = \"text-align: left;\">Float64</th><th title = \"Float64\" style = \"text-align: left;\">Float64</th><th title = \"Float64\" style = \"text-align: left;\">Float64</th><th title = \"Float64\" style = \"text-align: left;\">Float64</th><th title = \"Float64\" style = \"text-align: left;\">Float64</th></tr></thead><tbody><tr><td class = \"rowNumber\" style = \"font-weight: bold; text-align: right;\">1</td><td style = \"text-align: right;\">7.94591</td><td style = \"text-align: right;\">6.23048</td><td style = \"text-align: right;\">5.85993</td><td style = \"text-align: right;\">63.1375</td><td style = \"text-align: right;\">38.8189</td><td style = \"text-align: right;\">34.3388</td><td style = \"text-align: right;\">501.685</td><td style = \"text-align: right;\">241.86</td><td style = \"text-align: right;\">201.223</td><td style = \"text-align: right;\">3986.34</td><td style = \"text-align: right;\">1506.91</td><td style = \"text-align: right;\">1179.15</td></tr><tr><td class = \"rowNumber\" style = \"font-weight: bold; text-align: right;\">2</td><td style = \"text-align: right;\">8.08918</td><td style = \"text-align: right;\">6.33505</td><td style = \"text-align: right;\">5.84615</td><td style = \"text-align: right;\">65.4348</td><td style = \"text-align: right;\">40.1329</td><td style = \"text-align: right;\">34.1775</td><td style = \"text-align: right;\">529.313</td><td style = \"text-align: right;\">254.244</td><td style = \"text-align: right;\">199.807</td><td style = \"text-align: right;\">4281.71</td><td style = \"text-align: right;\">1610.65</td><td style = \"text-align: right;\">1168.1</td></tr><tr><td class = \"rowNumber\" style = \"font-weight: bold; text-align: right;\">3</td><td style = \"text-align: right;\">8.03008</td><td style = \"text-align: right;\">5.77455</td><td style = \"text-align: right;\">5.85364</td><td style = \"text-align: right;\">64.4823</td><td style = \"text-align: right;\">33.3454</td><td style = \"text-align: right;\">34.2651</td><td style = \"text-align: right;\">517.798</td><td style = \"text-align: right;\">192.555</td><td style = \"text-align: right;\">200.575</td><td style = \"text-align: right;\">4157.96</td><td style = \"text-align: right;\">1111.92</td><td style = \"text-align: right;\">1174.1</td></tr></tbody></table></div>"
      ],
      "text/latex": [
       "\\begin{tabular}{r|ccccccc}\n",
       "\t& income\\_log & urban\\_log & young\\_log & income\\_log\\_square & urban\\_log\\_square & young\\_log\\_square & \\\\\n",
       "\t\\hline\n",
       "\t& Float64 & Float64 & Float64 & Float64 & Float64 & Float64 & \\\\\n",
       "\t\\hline\n",
       "\t1 & 7.94591 & 6.23048 & 5.85993 & 63.1375 & 38.8189 & 34.3388 & $\\dots$ \\\\\n",
       "\t2 & 8.08918 & 6.33505 & 5.84615 & 65.4348 & 40.1329 & 34.1775 & $\\dots$ \\\\\n",
       "\t3 & 8.03008 & 5.77455 & 5.85364 & 64.4823 & 33.3454 & 34.2651 & $\\dots$ \\\\\n",
       "\\end{tabular}\n"
      ],
      "text/plain": [
       "\u001b[1m3×12 DataFrame\u001b[0m\n",
       "\u001b[1m Row \u001b[0m│\u001b[1m income_log \u001b[0m\u001b[1m urban_log \u001b[0m\u001b[1m young_log \u001b[0m\u001b[1m income_log_square \u001b[0m\u001b[1m urban_log_square \u001b[0m\u001b[1m \u001b[0m ⋯\n",
       "     │\u001b[90m Float64    \u001b[0m\u001b[90m Float64   \u001b[0m\u001b[90m Float64   \u001b[0m\u001b[90m Float64           \u001b[0m\u001b[90m Float64          \u001b[0m\u001b[90m \u001b[0m ⋯\n",
       "─────┼──────────────────────────────────────────────────────────────────────────\n",
       "   1 │    7.94591    6.23048    5.85993            63.1375           38.8189   ⋯\n",
       "   2 │    8.08918    6.33505    5.84615            65.4348           40.1329\n",
       "   3 │    8.03008    5.77455    5.85364            64.4823           33.3454\n",
       "\u001b[36m                                                               7 columns omitted\u001b[0m"
      ]
     },
     "execution_count": 5,
     "metadata": {},
     "output_type": "execute_result"
    }
   ],
   "source": [
    "## Education Expenditure Dataset\n",
    "educ.income_log_square = educ.income_log .^ 2\n",
    "educ.urban_log_square = educ.urban_log .^ 2\n",
    "educ.young_log_square = educ.young_log .^ 2\n",
    "educ.income_log_cube = educ.income_log .^ 3\n",
    "educ.urban_log_cube = educ.urban_log .^ 3\n",
    "educ.young_log_cube = educ.young_log .^ 3\n",
    "educ.income_log_4th = educ.income_log .^ 4\n",
    "educ.urban_log_4th = educ.urban_log .^ 4\n",
    "educ.young_log_4th = educ.young_log .^ 4\n",
    "\n",
    "educ_y, educ_X = unpack(\n",
    "    educ[:, Not(:states)],\n",
    "    ==(:educ_log);\n",
    "    :educ_log => Continuous, \n",
    "    :income_log => Continuous,\n",
    "    :urban_log => Continuous,\n",
    "    :young_log => Continuous,\n",
    "    :income_log_square => Continuous,\n",
    "    :urban_log_square => Continuous,\n",
    "    :young_log_square => Continuous,\n",
    "    :income_log_cube => Continuous,\n",
    "    :urban_log_cube => Continuous,\n",
    "    :young_log_cube => Continuous,\n",
    "    :income_log_4th => Continuous,\n",
    "    :urban_log_4th => Continuous,\n",
    "    :young_log_4th => Continuous,\n",
    ");    \n",
    "\n",
    "# Checking\n",
    "first(educ_X, 3)"
   ]
  },
  {
   "cell_type": "markdown",
   "id": "e8e97dd5",
   "metadata": {
    "slideshow": {
     "slide_type": "slide"
    }
   },
   "source": [
    "## Classification\n",
    "\n",
    "### K-Nearest Neighbors Classifier\n",
    "\n",
    "Little detour back to talk about a good algorithm for classification (also very intuitive).\n",
    "\n",
    "Given an integer $K$, and a test observation, it says that:\n",
    "\n",
    "$$ \\mathbb{P}(Y = j| X = x_0) \\ = \\ \\dfrac{1}{K}\\sum_{i \\in N_0} I(y_i = j) $$\n",
    "\n",
    "Meaning: classify the observation based on the class of the closest $K$ obs:\n",
    "- The one more frequent is the winner.\n",
    "    \n",
    "*Closest*: Idea of a metric."
   ]
  },
  {
   "cell_type": "markdown",
   "id": "b2cc8989",
   "metadata": {
    "slideshow": {
     "slide_type": "slide"
    }
   },
   "source": [
    "## Classification\n",
    "\n",
    "### K-Nearest Neighbors Classifier\n",
    "\n",
    "![img](https://github.com/umbertomig/POLI175julia/blob/c9b0555e3e97778495bee72746aee43ddf3226d7/img/knn1.png?raw=true)"
   ]
  },
  {
   "cell_type": "markdown",
   "id": "6f917d93",
   "metadata": {
    "slideshow": {
     "slide_type": "slide"
    }
   },
   "source": [
    "## Classification\n",
    "\n",
    "### K-Nearest Neighbors Classifier\n",
    "\n",
    "![img](https://github.com/umbertomig/POLI175julia/blob/c9b0555e3e97778495bee72746aee43ddf3226d7/img/knn2.png?raw=true)"
   ]
  },
  {
   "cell_type": "markdown",
   "id": "bc903da8",
   "metadata": {
    "slideshow": {
     "slide_type": "slide"
    }
   },
   "source": [
    "## Classification\n",
    "\n",
    "### K-Nearest Neighbors Classifier\n",
    "\n",
    "We are going to classify all the types of votes we have in the dataset."
   ]
  },
  {
   "cell_type": "code",
   "execution_count": 11,
   "id": "9eacec81",
   "metadata": {
    "slideshow": {
     "slide_type": "-"
    }
   },
   "outputs": [],
   "source": [
    "y, X = unpack(\n",
    "    chile,\n",
    "    ==(:vote),\n",
    "    !=(:voteyes),\n",
    "    c -> true;\n",
    "    :vote         => Multiclass,\n",
    "    :income_log   => Continuous,\n",
    "    :pop_log      => Continuous,\n",
    "    :age          => Continuous,\n",
    "    :statusquo    => Continuous,\n",
    "    :region_M     => Multiclass,\n",
    "    :region_N     => Multiclass,\n",
    "    :region_S     => Multiclass,\n",
    "    :region_SA    => Multiclass,\n",
    "    :sex_F        => Multiclass,\n",
    "    :education_S  => Multiclass,\n",
    "    :education_PS => Multiclass,\n",
    ");"
   ]
  },
  {
   "cell_type": "markdown",
   "id": "4dd1ae69",
   "metadata": {
    "slideshow": {
     "slide_type": "slide"
    }
   },
   "source": [
    "## Classification\n",
    "\n",
    "### K-Nearest Neighbors Classifier"
   ]
  },
  {
   "cell_type": "code",
   "execution_count": 13,
   "id": "dac44b03",
   "metadata": {
    "scrolled": true
   },
   "outputs": [
    {
     "data": {
      "text/plain": [
       "4-element Named Vector{Int64}\n",
       "Dim1  │ \n",
       "──────┼────\n",
       "A     │ 177\n",
       "N     │ 867\n",
       "U     │ 551\n",
       "Y     │ 836"
      ]
     },
     "execution_count": 13,
     "metadata": {},
     "output_type": "execute_result"
    }
   ],
   "source": [
    "FreqTables.freqtable(y)"
   ]
  },
  {
   "cell_type": "code",
   "execution_count": 12,
   "id": "a7efd68e",
   "metadata": {},
   "outputs": [
    {
     "data": {
      "text/html": [
       "<div><div style = \"float: left;\"><span>3×9 DataFrame</span></div><div style = \"clear: both;\"></div></div><div class = \"data-frame\" style = \"overflow-x: scroll;\"><table class = \"data-frame\" style = \"margin-bottom: 6px;\"><thead><tr class = \"header\"><th class = \"rowNumber\" style = \"font-weight: bold; text-align: right;\">Row</th><th style = \"text-align: left;\">age</th><th style = \"text-align: left;\">statusquo</th><th style = \"text-align: left;\">region_M</th><th style = \"text-align: left;\">region_N</th><th style = \"text-align: left;\">region_S</th><th style = \"text-align: left;\">region_SA</th><th style = \"text-align: left;\">education_PS</th><th style = \"text-align: left;\">education_S</th><th style = \"text-align: left;\">sex_F</th></tr><tr class = \"subheader headerLastRow\"><th class = \"rowNumber\" style = \"font-weight: bold; text-align: right;\"></th><th title = \"Float64\" style = \"text-align: left;\">Float64</th><th title = \"Float64\" style = \"text-align: left;\">Float64</th><th title = \"CategoricalArrays.CategoricalValue{Bool, UInt32}\" style = \"text-align: left;\">Cat…</th><th title = \"CategoricalArrays.CategoricalValue{Bool, UInt32}\" style = \"text-align: left;\">Cat…</th><th title = \"CategoricalArrays.CategoricalValue{Bool, UInt32}\" style = \"text-align: left;\">Cat…</th><th title = \"CategoricalArrays.CategoricalValue{Bool, UInt32}\" style = \"text-align: left;\">Cat…</th><th title = \"CategoricalArrays.CategoricalValue{Bool, UInt32}\" style = \"text-align: left;\">Cat…</th><th title = \"CategoricalArrays.CategoricalValue{Bool, UInt32}\" style = \"text-align: left;\">Cat…</th><th title = \"CategoricalArrays.CategoricalValue{Bool, UInt32}\" style = \"text-align: left;\">Cat…</th></tr></thead><tbody><tr><td class = \"rowNumber\" style = \"font-weight: bold; text-align: right;\">1</td><td style = \"text-align: right;\">65.0</td><td style = \"text-align: right;\">1.0082</td><td style = \"text-align: left;\">false</td><td style = \"text-align: left;\">true</td><td style = \"text-align: left;\">false</td><td style = \"text-align: left;\">false</td><td style = \"text-align: left;\">false</td><td style = \"text-align: left;\">false</td><td style = \"text-align: left;\">false</td></tr><tr><td class = \"rowNumber\" style = \"font-weight: bold; text-align: right;\">2</td><td style = \"text-align: right;\">29.0</td><td style = \"text-align: right;\">-1.29617</td><td style = \"text-align: left;\">false</td><td style = \"text-align: left;\">true</td><td style = \"text-align: left;\">false</td><td style = \"text-align: left;\">false</td><td style = \"text-align: left;\">true</td><td style = \"text-align: left;\">false</td><td style = \"text-align: left;\">false</td></tr><tr><td class = \"rowNumber\" style = \"font-weight: bold; text-align: right;\">3</td><td style = \"text-align: right;\">38.0</td><td style = \"text-align: right;\">1.23072</td><td style = \"text-align: left;\">false</td><td style = \"text-align: left;\">true</td><td style = \"text-align: left;\">false</td><td style = \"text-align: left;\">false</td><td style = \"text-align: left;\">false</td><td style = \"text-align: left;\">false</td><td style = \"text-align: left;\">true</td></tr></tbody></table></div>"
      ],
      "text/latex": [
       "\\begin{tabular}{r|ccccccccc}\n",
       "\t& age & statusquo & region\\_M & region\\_N & region\\_S & region\\_SA & education\\_PS & education\\_S & \\\\\n",
       "\t\\hline\n",
       "\t& Float64 & Float64 & Cat… & Cat… & Cat… & Cat… & Cat… & Cat… & \\\\\n",
       "\t\\hline\n",
       "\t1 & 65.0 & 1.0082 & false & true & false & false & false & false & $\\dots$ \\\\\n",
       "\t2 & 29.0 & -1.29617 & false & true & false & false & true & false & $\\dots$ \\\\\n",
       "\t3 & 38.0 & 1.23072 & false & true & false & false & false & false & $\\dots$ \\\\\n",
       "\\end{tabular}\n"
      ],
      "text/plain": [
       "\u001b[1m3×9 DataFrame\u001b[0m\n",
       "\u001b[1m Row \u001b[0m│\u001b[1m age     \u001b[0m\u001b[1m statusquo \u001b[0m\u001b[1m region_M \u001b[0m\u001b[1m region_N \u001b[0m\u001b[1m region_S \u001b[0m\u001b[1m region_SA \u001b[0m\u001b[1m education_\u001b[0m ⋯\n",
       "     │\u001b[90m Float64 \u001b[0m\u001b[90m Float64   \u001b[0m\u001b[90m Cat…     \u001b[0m\u001b[90m Cat…     \u001b[0m\u001b[90m Cat…     \u001b[0m\u001b[90m Cat…      \u001b[0m\u001b[90m Cat…      \u001b[0m ⋯\n",
       "─────┼──────────────────────────────────────────────────────────────────────────\n",
       "   1 │    65.0    1.0082   false     true      false     false      false      ⋯\n",
       "   2 │    29.0   -1.29617  false     true      false     false      true\n",
       "   3 │    38.0    1.23072  false     true      false     false      false\n",
       "\u001b[36m                                                               3 columns omitted\u001b[0m"
      ]
     },
     "execution_count": 12,
     "metadata": {},
     "output_type": "execute_result"
    }
   ],
   "source": [
    "first(X, 3)"
   ]
  },
  {
   "cell_type": "markdown",
   "id": "da45d28b",
   "metadata": {
    "slideshow": {
     "slide_type": "slide"
    }
   },
   "source": [
    "## Classification\n",
    "\n",
    "### K-Nearest Neighbors Classifier\n",
    "\n",
    "The first thing we do is to perform a train-test split.\n",
    "\n",
    "```julia\n",
    "(X_train, X_test), (y_train, y_test) = partition(\n",
    "    (X, y),        ## Data (features, targets)\n",
    "    0.8,           ## Fraction of the data (80% training)\n",
    "    rng = 8574085, ## Random Seed\n",
    "    multi = true,  ## multi: adding features and targets same object\n",
    "    stratify = y   ## Stratify by the target (good to aviod having imbalances)\n",
    ");\n",
    "```"
   ]
  },
  {
   "cell_type": "code",
   "execution_count": 14,
   "id": "2d4871d6",
   "metadata": {
    "slideshow": {
     "slide_type": "-"
    }
   },
   "outputs": [
    {
     "data": {
      "text/plain": [
       "((\u001b[1m1946×9 DataFrame\u001b[0m\n",
       "\u001b[1m  Row \u001b[0m│\u001b[1m age     \u001b[0m\u001b[1m statusquo \u001b[0m\u001b[1m region_M \u001b[0m\u001b[1m region_N \u001b[0m\u001b[1m region_S \u001b[0m\u001b[1m region_SA \u001b[0m\u001b[1m education\u001b[0m ⋯\n",
       "      │\u001b[90m Float64 \u001b[0m\u001b[90m Float64   \u001b[0m\u001b[90m Cat…     \u001b[0m\u001b[90m Cat…     \u001b[0m\u001b[90m Cat…     \u001b[0m\u001b[90m Cat…      \u001b[0m\u001b[90m Cat…     \u001b[0m ⋯\n",
       "──────┼─────────────────────────────────────────────────────────────────────────\n",
       "    1 │    22.0   -0.80408  false     false     false     false      false     ⋯\n",
       "    2 │    58.0   -1.29617  false     false     false     true       true\n",
       "    3 │    44.0   -1.03566  false     false     false     false      false\n",
       "    4 │    58.0   -1.29617  false     false     true      false      false\n",
       "    5 │    45.0   -0.41564  false     false     true      false      false     ⋯\n",
       "    6 │    39.0    0.75719  false     true      false     false      false\n",
       "    7 │    28.0    0.13858  false     false     true      false      false\n",
       "    8 │    44.0    0.47231  false     false     false     true       true\n",
       "    9 │    63.0   -0.84928  false     false     false     false      false     ⋯\n",
       "   10 │    62.0    1.12272  false     false     true      false      false\n",
       "   11 │    37.0   -0.3003   false     false     false     true       false\n",
       "  ⋮   │    ⋮         ⋮         ⋮         ⋮         ⋮          ⋮           ⋮    ⋱\n",
       " 1937 │    26.0   -1.14952  false     false     false     true       false\n",
       " 1938 │    25.0    1.43653  false     false     false     true       false     ⋯\n",
       " 1939 │    60.0   -0.78119  false     false     false     false      false\n",
       " 1940 │    66.0    0.40663  false     false     true      false      false\n",
       " 1941 │    40.0   -0.08067  false     false     false     false      false\n",
       " 1942 │    44.0   -1.2204   false     false     false     true       false     ⋯\n",
       " 1943 │    42.0   -0.62392  false     false     false     true       false\n",
       " 1944 │    70.0    1.39831  false     false     false     false      false\n",
       " 1945 │    60.0    0.6589   false     false     true      false      false\n",
       " 1946 │    45.0   -1.00115  false     false     false     true       false     ⋯\n",
       "\u001b[36m                                                 3 columns and 1925 rows omitted\u001b[0m, \u001b[1m485×9 DataFrame\u001b[0m\n",
       "\u001b[1m Row \u001b[0m│\u001b[1m age     \u001b[0m\u001b[1m statusquo \u001b[0m\u001b[1m region_M \u001b[0m\u001b[1m region_N \u001b[0m\u001b[1m region_S \u001b[0m\u001b[1m region_SA \u001b[0m\u001b[1m education_\u001b[0m ⋯\n",
       "     │\u001b[90m Float64 \u001b[0m\u001b[90m Float64   \u001b[0m\u001b[90m Cat…     \u001b[0m\u001b[90m Cat…     \u001b[0m\u001b[90m Cat…     \u001b[0m\u001b[90m Cat…      \u001b[0m\u001b[90m Cat…      \u001b[0m ⋯\n",
       "─────┼──────────────────────────────────────────────────────────────────────────\n",
       "   1 │    24.0    0.75867  false     false     true      false      true       ⋯\n",
       "   2 │    19.0    0.72102  false     true      false     false      false\n",
       "   3 │    35.0   -1.29617  false     false     false     false      true\n",
       "   4 │    37.0   -0.61342  false     false     true      false      true\n",
       "   5 │    48.0   -0.69361  false     false     false     true       false      ⋯\n",
       "   6 │    26.0   -1.03006  false     true      false     false      false\n",
       "   7 │    67.0    1.54808  false     false     false     true       false\n",
       "   8 │    23.0   -0.78492  false     false     true      false      false\n",
       "   9 │    24.0   -0.89647  false     true      false     false      true       ⋯\n",
       "  10 │    60.0    1.3094   false     false     false     false      false\n",
       "  11 │    56.0   -1.29617  false     false     false     true       false\n",
       "  ⋮  │    ⋮         ⋮         ⋮         ⋮         ⋮          ⋮           ⋮     ⋱\n",
       " 476 │    31.0    1.6051   false     false     false     true       false\n",
       " 477 │    23.0   -1.30366  false     true      false     false      false      ⋯\n",
       " 478 │    55.0   -1.29617  false     false     false     true       false\n",
       " 479 │    36.0    0.2074   false     false     false     false      false\n",
       " 480 │    53.0   -1.29617  false     true      false     false      false\n",
       " 481 │    30.0    1.24478  false     false     false     true       false      ⋯\n",
       " 482 │    30.0   -0.45937  false     false     false     true       false\n",
       " 483 │    70.0    0.07535  false     false     false     true       true\n",
       " 484 │    33.0   -0.86276  false     false     false     true       true\n",
       " 485 │    54.0   -1.30296  false     false     false     true       false      ⋯\n",
       "\u001b[36m                                                  3 columns and 464 rows omitted\u001b[0m), (CategoricalArrays.CategoricalValue{InlineStrings.String1, UInt32}[InlineStrings.String1(\"N\"), InlineStrings.String1(\"N\"), InlineStrings.String1(\"N\"), InlineStrings.String1(\"N\"), InlineStrings.String1(\"U\"), InlineStrings.String1(\"Y\"), InlineStrings.String1(\"U\"), InlineStrings.String1(\"Y\"), InlineStrings.String1(\"N\"), InlineStrings.String1(\"Y\")  …  InlineStrings.String1(\"N\"), InlineStrings.String1(\"Y\"), InlineStrings.String1(\"N\"), InlineStrings.String1(\"A\"), InlineStrings.String1(\"U\"), InlineStrings.String1(\"N\"), InlineStrings.String1(\"Y\"), InlineStrings.String1(\"Y\"), InlineStrings.String1(\"U\"), InlineStrings.String1(\"A\")], CategoricalArrays.CategoricalValue{InlineStrings.String1, UInt32}[InlineStrings.String1(\"U\"), InlineStrings.String1(\"A\"), InlineStrings.String1(\"N\"), InlineStrings.String1(\"N\"), InlineStrings.String1(\"U\"), InlineStrings.String1(\"N\"), InlineStrings.String1(\"Y\"), InlineStrings.String1(\"A\"), InlineStrings.String1(\"N\"), InlineStrings.String1(\"Y\")  …  InlineStrings.String1(\"U\"), InlineStrings.String1(\"N\"), InlineStrings.String1(\"A\"), InlineStrings.String1(\"A\"), InlineStrings.String1(\"N\"), InlineStrings.String1(\"Y\"), InlineStrings.String1(\"U\"), InlineStrings.String1(\"U\"), InlineStrings.String1(\"N\"), InlineStrings.String1(\"U\")]))"
      ]
     },
     "execution_count": 14,
     "metadata": {},
     "output_type": "execute_result"
    }
   ],
   "source": [
    "## Creating the train-test split:\n",
    "(X_train, X_test), (y_train, y_test) = partition((X, y), 0.8, rng = 8574085, multi=true, stratify = y)"
   ]
  },
  {
   "cell_type": "markdown",
   "id": "bd13f362",
   "metadata": {
    "slideshow": {
     "slide_type": "slide"
    }
   },
   "source": [
    "## Classification\n",
    "\n",
    "### K-Nearest Neighbors Classifier\n",
    "\n",
    "Cross-Validating Procedure:\n",
    "\n",
    "```julia\n",
    "# 3-Fold CV\n",
    "cv3 = CV(\n",
    "    nfolds = 3,  ## Number of cross-validating folds\n",
    "    rng = 45321  ## Random seed\n",
    ");\n",
    "```"
   ]
  },
  {
   "cell_type": "code",
   "execution_count": 15,
   "id": "e74ef717",
   "metadata": {
    "scrolled": false,
    "slideshow": {
     "slide_type": "-"
    }
   },
   "outputs": [],
   "source": [
    "# 3-Fold CV\n",
    "cv3 = CV(\n",
    "    nfolds = 3,  ## Number of cross-validating folds\n",
    "    rng = 45321  ## Random seed\n",
    ");"
   ]
  },
  {
   "cell_type": "markdown",
   "id": "0ecbcc70",
   "metadata": {
    "slideshow": {
     "slide_type": "slide"
    }
   },
   "source": [
    "## Classification\n",
    "\n",
    "### K-Nearest Neighbors Classifier\n",
    "\n",
    "Now, let us fit a 10-Nearest Neighborhood model. It takes the 10 observations around each point, and classify it based on these neighbors' classes.\n",
    "\n",
    "```julia\n",
    "## Instantiate the Model\n",
    "knn = NearestNeighborModels.KNNClassifier(K = 10) \n",
    "\n",
    "## Evaluate the Model\n",
    "evaluate(knn,                      ## Model\n",
    "    X_train,                       ## Training features set\n",
    "    y_train,                       ## Training target set\n",
    "    resampling = cv3,              ## Resampling strategy (in this case, 3-Fold CV\n",
    "    measure = [accuracy, f1score], ## Measures\n",
    "    verbosity = 0\n",
    ")\n",
    "```"
   ]
  },
  {
   "cell_type": "code",
   "execution_count": 19,
   "id": "592d8a2c",
   "metadata": {
    "slideshow": {
     "slide_type": "-"
    }
   },
   "outputs": [
    {
     "name": "stderr",
     "output_type": "stream",
     "text": [
      "\u001b[33m\u001b[1m┌ \u001b[22m\u001b[39m\u001b[33m\u001b[1mWarning: \u001b[22m\u001b[39mThe number and/or types of data arguments do not match what the specified model\n",
      "\u001b[33m\u001b[1m│ \u001b[22m\u001b[39msupports. Suppress this type check by specifying `scitype_check_level=0`.\n",
      "\u001b[33m\u001b[1m│ \u001b[22m\u001b[39m\n",
      "\u001b[33m\u001b[1m│ \u001b[22m\u001b[39mRun `@doc NearestNeighborModels.KNNClassifier` to learn more about your model's requirements.\n",
      "\u001b[33m\u001b[1m│ \u001b[22m\u001b[39m\n",
      "\u001b[33m\u001b[1m│ \u001b[22m\u001b[39mCommonly, but non exclusively, supervised models are constructed using the syntax\n",
      "\u001b[33m\u001b[1m│ \u001b[22m\u001b[39m`machine(model, X, y)` or `machine(model, X, y, w)` while most other models are\n",
      "\u001b[33m\u001b[1m│ \u001b[22m\u001b[39mconstructed with `machine(model, X)`.  Here `X` are features, `y` a target, and `w`\n",
      "\u001b[33m\u001b[1m│ \u001b[22m\u001b[39msample or class weights.\n",
      "\u001b[33m\u001b[1m│ \u001b[22m\u001b[39m\n",
      "\u001b[33m\u001b[1m│ \u001b[22m\u001b[39mIn general, data in `machine(model, data...)` is expected to satisfy\n",
      "\u001b[33m\u001b[1m│ \u001b[22m\u001b[39m\n",
      "\u001b[33m\u001b[1m│ \u001b[22m\u001b[39m    scitype(data) <: MLJ.fit_data_scitype(model)\n",
      "\u001b[33m\u001b[1m│ \u001b[22m\u001b[39m\n",
      "\u001b[33m\u001b[1m│ \u001b[22m\u001b[39mIn the present case:\n",
      "\u001b[33m\u001b[1m│ \u001b[22m\u001b[39m\n",
      "\u001b[33m\u001b[1m│ \u001b[22m\u001b[39mscitype(data) = Tuple{Table{Union{AbstractVector{Continuous}, AbstractVector{Multiclass{2}}}}, AbstractVector{Multiclass{4}}}\n",
      "\u001b[33m\u001b[1m│ \u001b[22m\u001b[39m\n",
      "\u001b[33m\u001b[1m│ \u001b[22m\u001b[39mfit_data_scitype(model) = Union{Tuple{Table{<:AbstractVector{<:Continuous}}, AbstractVector{<:Finite}}, Tuple{Table{<:AbstractVector{<:Continuous}}, AbstractVector{<:Finite}, AbstractVector{<:Union{Continuous, Count}}}}\n",
      "\u001b[33m\u001b[1m└ \u001b[22m\u001b[39m\u001b[90m@ MLJBase ~/.julia/packages/MLJBase/mIaqI/src/machines.jl:231\u001b[39m\n"
     ]
    },
    {
     "data": {
      "text/plain": [
       "PerformanceEvaluation object with these fields:\n",
       "  model, measure, operation, measurement, per_fold,\n",
       "  per_observation, fitted_params_per_fold,\n",
       "  report_per_fold, train_test_rows, resampling, repeats\n",
       "Extract:\n",
       "┌────────────┬──────────────┬─────────────┬─────────┬───────────────────────┐\n",
       "│\u001b[22m measure    \u001b[0m│\u001b[22m operation    \u001b[0m│\u001b[22m measurement \u001b[0m│\u001b[22m 1.96*SE \u001b[0m│\u001b[22m per_fold              \u001b[0m│\n",
       "├────────────┼──────────────┼─────────────┼─────────┼───────────────────────┤\n",
       "│ Accuracy() │ predict_mode │ 0.637       │ 0.00819 │ [0.633, 0.633, 0.644] │\n",
       "└────────────┴──────────────┴─────────────┴─────────┴───────────────────────┘\n"
      ]
     },
     "execution_count": 19,
     "metadata": {},
     "output_type": "execute_result"
    }
   ],
   "source": [
    "## Instantiate the Model\n",
    "knn = NearestNeighborModels.KNNClassifier(K = 10) \n",
    "\n",
    "## Evaluate the Model\n",
    "evaluate(knn,\n",
    "    X_train,\n",
    "    y_train,\n",
    "    resampling = cv3,\n",
    "    measure = [accuracy],\n",
    "    verbosity = 0\n",
    ")"
   ]
  },
  {
   "cell_type": "markdown",
   "id": "7662023e",
   "metadata": {
    "slideshow": {
     "slide_type": "slide"
    }
   },
   "source": [
    "## Classification\n",
    "\n",
    "### K-Nearest Neighbors Classifier\n",
    "\n",
    "To check the accuracy:\n",
    "\n",
    "```julia\n",
    "## Fit a machine on the training set\n",
    "mach1 = machine(knn, X_train, y_train);\n",
    "MLJ.fit!(mach1);\n",
    "\n",
    "## Predict results on the testing set\n",
    "ypred_mode = MLJ.predict_mode(mach1, X_test);\n",
    "\n",
    "## Check accuracy in the testing set\n",
    "accuracy(y_test, ypred_mode)\n",
    "```\n",
    "\n",
    "This strategy is the *training-validation-testing* strategy."
   ]
  },
  {
   "cell_type": "code",
   "execution_count": 21,
   "id": "8adefb81",
   "metadata": {},
   "outputs": [
    {
     "name": "stderr",
     "output_type": "stream",
     "text": [
      "\u001b[33m\u001b[1m┌ \u001b[22m\u001b[39m\u001b[33m\u001b[1mWarning: \u001b[22m\u001b[39mThe number and/or types of data arguments do not match what the specified model\n",
      "\u001b[33m\u001b[1m│ \u001b[22m\u001b[39msupports. Suppress this type check by specifying `scitype_check_level=0`.\n",
      "\u001b[33m\u001b[1m│ \u001b[22m\u001b[39m\n",
      "\u001b[33m\u001b[1m│ \u001b[22m\u001b[39mRun `@doc NearestNeighborModels.KNNClassifier` to learn more about your model's requirements.\n",
      "\u001b[33m\u001b[1m│ \u001b[22m\u001b[39m\n",
      "\u001b[33m\u001b[1m│ \u001b[22m\u001b[39mCommonly, but non exclusively, supervised models are constructed using the syntax\n",
      "\u001b[33m\u001b[1m│ \u001b[22m\u001b[39m`machine(model, X, y)` or `machine(model, X, y, w)` while most other models are\n",
      "\u001b[33m\u001b[1m│ \u001b[22m\u001b[39mconstructed with `machine(model, X)`.  Here `X` are features, `y` a target, and `w`\n",
      "\u001b[33m\u001b[1m│ \u001b[22m\u001b[39msample or class weights.\n",
      "\u001b[33m\u001b[1m│ \u001b[22m\u001b[39m\n",
      "\u001b[33m\u001b[1m│ \u001b[22m\u001b[39mIn general, data in `machine(model, data...)` is expected to satisfy\n",
      "\u001b[33m\u001b[1m│ \u001b[22m\u001b[39m\n",
      "\u001b[33m\u001b[1m│ \u001b[22m\u001b[39m    scitype(data) <: MLJ.fit_data_scitype(model)\n",
      "\u001b[33m\u001b[1m│ \u001b[22m\u001b[39m\n",
      "\u001b[33m\u001b[1m│ \u001b[22m\u001b[39mIn the present case:\n",
      "\u001b[33m\u001b[1m│ \u001b[22m\u001b[39m\n",
      "\u001b[33m\u001b[1m│ \u001b[22m\u001b[39mscitype(data) = Tuple{Table{Union{AbstractVector{Continuous}, AbstractVector{Multiclass{2}}}}, AbstractVector{Multiclass{4}}}\n",
      "\u001b[33m\u001b[1m│ \u001b[22m\u001b[39m\n",
      "\u001b[33m\u001b[1m│ \u001b[22m\u001b[39mfit_data_scitype(model) = Union{Tuple{Table{<:AbstractVector{<:Continuous}}, AbstractVector{<:Finite}}, Tuple{Table{<:AbstractVector{<:Continuous}}, AbstractVector{<:Finite}, AbstractVector{<:Union{Continuous, Count}}}}\n",
      "\u001b[33m\u001b[1m└ \u001b[22m\u001b[39m\u001b[90m@ MLJBase ~/.julia/packages/MLJBase/mIaqI/src/machines.jl:231\u001b[39m\n",
      "\u001b[36m\u001b[1m[ \u001b[22m\u001b[39m\u001b[36m\u001b[1mInfo: \u001b[22m\u001b[39mTraining machine(KNNClassifier(K = 10, …), …).\n"
     ]
    }
   ],
   "source": [
    "mach1 = machine(knn, X_train, y_train);\n",
    "MLJ.fit!(mach1);\n",
    "ypred_mode = MLJ.predict_mode(mach1, X_test);"
   ]
  },
  {
   "cell_type": "code",
   "execution_count": 22,
   "id": "cfe5022f",
   "metadata": {
    "scrolled": true
   },
   "outputs": [
    {
     "data": {
      "text/plain": [
       "0.6474226804123712"
      ]
     },
     "execution_count": 22,
     "metadata": {},
     "output_type": "execute_result"
    }
   ],
   "source": [
    "# Accuracy\n",
    "accuracy(y_test, ypred_mode)"
   ]
  },
  {
   "cell_type": "markdown",
   "id": "b700d9a3",
   "metadata": {
    "slideshow": {
     "slide_type": "slide"
    }
   },
   "source": [
    "## Classification\n",
    "\n",
    "### K-Nearest Neighbors Classifier\n",
    "\n",
    "And the Testing-Set confusion matrix now looks interesting:"
   ]
  },
  {
   "cell_type": "code",
   "execution_count": 108,
   "id": "9ef93c64",
   "metadata": {
    "scrolled": true
   },
   "outputs": [
    {
     "ename": "LoadError",
     "evalue": "DimensionMismatch: Encountered two objects with observation counts of 485 and 10 which needed to match but don't. ",
     "output_type": "error",
     "traceback": [
      "DimensionMismatch: Encountered two objects with observation counts of 485 and 10 which needed to match but don't. ",
      "",
      "Stacktrace:",
      " [1] check_numobs",
      "   @ ~/.julia/packages/StatisticalMeasuresBase/7euvM/src/tools_for_implementers.jl:108 [inlined]",
      " [2] _call",
      "   @ ~/.julia/packages/StatisticalMeasuresBase/7euvM/src/fussy_measure.jl:42 [inlined]",
      " [3] call",
      "   @ ~/.julia/packages/StatisticalMeasuresBase/7euvM/src/fussy_measure.jl:60 [inlined]",
      " [4] (::StatisticalMeasuresBase.FussyMeasure{StatisticalMeasuresBase.RobustMeasure{StatisticalMeasures._ConfusionMatrix{Nothing}}, Nothing})(arg::CategoricalArrays.CategoricalVector{InlineStrings.String1, UInt32, InlineStrings.String1, CategoricalArrays.CategoricalValue{InlineStrings.String1, UInt32}, Union{}}, args::Vector{Float64})",
      "   @ StatisticalMeasuresBase ~/.julia/packages/StatisticalMeasuresBase/7euvM/src/wrappers.jl:26",
      " [5] top-level scope",
      "   @ In[108]:1"
     ]
    }
   ],
   "source": [
    "confusion_matrix(ypred_mode, y_test) "
   ]
  },
  {
   "cell_type": "markdown",
   "id": "760a9553",
   "metadata": {
    "slideshow": {
     "slide_type": "slide"
    }
   },
   "source": [
    "## Classification\n",
    "\n",
    "### K-Nearest Neighbors Classifier\n",
    "\n",
    "**Grid Search**\n",
    "\n",
    "One last thing we do is to search for the best $K$ that maximizes (minimizes) some measure of interest. This is called Grid-Search.\n",
    "\n",
    "1. Instantiate the model\n",
    "1. Create the range of parameters to be searched\n",
    "1. Instantiate the self-tuning model (this creates a model that searches for the best hyperparameters automatically)\n",
    "1. Fit the machine\n",
    "\n",
    "Let us run this step-by-step."
   ]
  },
  {
   "cell_type": "code",
   "execution_count": 109,
   "id": "fc48e235",
   "metadata": {},
   "outputs": [
    {
     "data": {
      "text/plain": [
       "KNNClassifier(\n",
       "  K = 5, \n",
       "  algorithm = :kdtree, \n",
       "  metric = Distances.Euclidean(0.0), \n",
       "  leafsize = 10, \n",
       "  reorder = true, \n",
       "  weights = NearestNeighborModels.Uniform())"
      ]
     },
     "execution_count": 109,
     "metadata": {},
     "output_type": "execute_result"
    }
   ],
   "source": [
    "# Instantiate tuning KNN model\n",
    "knn = NearestNeighborModels.KNNClassifier()"
   ]
  },
  {
   "cell_type": "markdown",
   "id": "6baf273b",
   "metadata": {
    "slideshow": {
     "slide_type": "slide"
    }
   },
   "source": [
    "## Classification\n",
    "\n",
    "### K-Nearest Neighbors Classifier\n",
    "\n",
    "**Grid Search**"
   ]
  },
  {
   "cell_type": "code",
   "execution_count": 110,
   "id": "ad70e8ae",
   "metadata": {},
   "outputs": [
    {
     "data": {
      "text/plain": [
       "NumericRange(5 ≤ K ≤ 55; origin=30.0, unit=25.0)"
      ]
     },
     "execution_count": 110,
     "metadata": {},
     "output_type": "execute_result"
    }
   ],
   "source": [
    "# Instantiate the range of K for our search 5 to 55\n",
    "Ktune = range(knn, :K, lower=5, upper=55)"
   ]
  },
  {
   "cell_type": "markdown",
   "id": "d69f0e31",
   "metadata": {
    "slideshow": {
     "slide_type": "slide"
    }
   },
   "source": [
    "## Classification\n",
    "\n",
    "### K-Nearest Neighbors Classifier\n",
    "\n",
    "**Grid Search**"
   ]
  },
  {
   "cell_type": "code",
   "execution_count": 111,
   "id": "6dbaff01",
   "metadata": {
    "scrolled": true,
    "tags": []
   },
   "outputs": [
    {
     "data": {
      "text/plain": [
       "ProbabilisticTunedModel(\n",
       "  model = KNNClassifier(\n",
       "        K = 5, \n",
       "        algorithm = :kdtree, \n",
       "        metric = Distances.Euclidean(0.0), \n",
       "        leafsize = 10, \n",
       "        reorder = true, \n",
       "        weights = NearestNeighborModels.Uniform()), \n",
       "  tuning = Grid(\n",
       "        goal = nothing, \n",
       "        resolution = 25, \n",
       "        shuffle = true, \n",
       "        rng = Random.MersenneTwister(598745978)), \n",
       "  resampling = CV(\n",
       "        nfolds = 3, \n",
       "        shuffle = true, \n",
       "        rng = Random.MersenneTwister(45321, (0, 1002, 0, 453))), \n",
       "  measure = Accuracy(), \n",
       "  weights = nothing, \n",
       "  class_weights = nothing, \n",
       "  operation = nothing, \n",
       "  range = NumericRange(5 ≤ K ≤ 55; origin=30.0, unit=25.0), \n",
       "  selection_heuristic = MLJTuning.NaiveSelection(nothing), \n",
       "  train_best = true, \n",
       "  repeats = 1, \n",
       "  n = nothing, \n",
       "  acceleration = CPU1{Nothing}(nothing), \n",
       "  acceleration_resampling = CPU1{Nothing}(nothing), \n",
       "  check_measure = true, \n",
       "  cache = true)"
      ]
     },
     "execution_count": 111,
     "metadata": {},
     "output_type": "execute_result"
    }
   ],
   "source": [
    "# Instantiate the Self-Tuning Model\n",
    "self_tuning_knn = TunedModel(\n",
    "    model = knn,            ## Model\n",
    "    resampling = cv3,       ## Resampling strategy (use our 3-Fold CV)\n",
    "    tuning = Grid(          ## Tuning method\n",
    "        resolution = 25,       ## Tuning resolution (how to divide the range of searched parameters)\n",
    "        rng = 598745978        ## Random seed\n",
    "    ),\n",
    "    range = Ktune,          ## Hyperparameter to be tuned\n",
    "    measure = accuracy      ## Measure to focus when tuning the hyperparameter\n",
    ")"
   ]
  },
  {
   "cell_type": "markdown",
   "id": "bbbe8a9a",
   "metadata": {
    "slideshow": {
     "slide_type": "slide"
    }
   },
   "source": [
    "## Classification\n",
    "\n",
    "### K-Nearest Neighbors Classifier\n",
    "\n",
    "**Grid Search**"
   ]
  },
  {
   "cell_type": "code",
   "execution_count": 112,
   "id": "4eff10f0",
   "metadata": {},
   "outputs": [
    {
     "name": "stderr",
     "output_type": "stream",
     "text": [
      "\u001b[36m\u001b[1m[ \u001b[22m\u001b[39m\u001b[36m\u001b[1mInfo: \u001b[22m\u001b[39mTraining machine(ProbabilisticTunedModel(model = KNNClassifier(K = 5, …), …), …).\n",
      "\u001b[36m\u001b[1m[ \u001b[22m\u001b[39m\u001b[36m\u001b[1mInfo: \u001b[22m\u001b[39mAttempting to evaluate 25 models.\n",
      "\u001b[33mEvaluating over 25 metamodels:   0%[>                        ]  ETA: N/A\u001b[39m\u001b[33m\u001b[1m┌ \u001b[22m\u001b[39m\u001b[33m\u001b[1mWarning: \u001b[22m\u001b[39mThe number and/or types of data arguments do not match what the specified model\n",
      "\u001b[33m\u001b[1m│ \u001b[22m\u001b[39msupports. Suppress this type check by specifying `scitype_check_level=0`.\n",
      "\u001b[33m\u001b[1m│ \u001b[22m\u001b[39m\n",
      "\u001b[33m\u001b[1m│ \u001b[22m\u001b[39mRun `@doc NearestNeighborModels.KNNClassifier` to learn more about your model's requirements.\n",
      "\u001b[33m\u001b[1m│ \u001b[22m\u001b[39m\n",
      "\u001b[33m\u001b[1m│ \u001b[22m\u001b[39mCommonly, but non exclusively, supervised models are constructed using the syntax\n",
      "\u001b[33m\u001b[1m│ \u001b[22m\u001b[39m`machine(model, X, y)` or `machine(model, X, y, w)` while most other models are\n",
      "\u001b[33m\u001b[1m│ \u001b[22m\u001b[39mconstructed with `machine(model, X)`.  Here `X` are features, `y` a target, and `w`\n",
      "\u001b[33m\u001b[1m│ \u001b[22m\u001b[39msample or class weights.\n",
      "\u001b[33m\u001b[1m│ \u001b[22m\u001b[39m\n",
      "\u001b[33m\u001b[1m│ \u001b[22m\u001b[39mIn general, data in `machine(model, data...)` is expected to satisfy\n",
      "\u001b[33m\u001b[1m│ \u001b[22m\u001b[39m\n",
      "\u001b[33m\u001b[1m│ \u001b[22m\u001b[39m    scitype(data) <: MLJ.fit_data_scitype(model)\n",
      "\u001b[33m\u001b[1m│ \u001b[22m\u001b[39m\n",
      "\u001b[33m\u001b[1m│ \u001b[22m\u001b[39mIn the present case:\n",
      "\u001b[33m\u001b[1m│ \u001b[22m\u001b[39m\n",
      "\u001b[33m\u001b[1m│ \u001b[22m\u001b[39mscitype(data) = Tuple{Table{AbstractVector{Continuous}}, AbstractVector{Continuous}}\n",
      "\u001b[33m\u001b[1m│ \u001b[22m\u001b[39m\n",
      "\u001b[33m\u001b[1m│ \u001b[22m\u001b[39mfit_data_scitype(model) = Union{Tuple{Table{<:AbstractVector{<:Continuous}}, AbstractVector{<:Finite}}, Tuple{Table{<:AbstractVector{<:Continuous}}, AbstractVector{<:Finite}, AbstractVector{<:Union{Continuous, Count}}}}\n",
      "\u001b[33m\u001b[1m└ \u001b[22m\u001b[39m\u001b[90m@ MLJBase ~/.julia/packages/MLJBase/mIaqI/src/machines.jl:231\u001b[39m\n",
      "\u001b[91m\u001b[1m┌ \u001b[22m\u001b[39m\u001b[91m\u001b[1mError: \u001b[22m\u001b[39mProblem fitting the machine machine(Resampler(model = KNNClassifier(K = 26, …), …), …). \n",
      "\u001b[91m\u001b[1m└ \u001b[22m\u001b[39m\u001b[90m@ MLJBase ~/.julia/packages/MLJBase/mIaqI/src/machines.jl:683\u001b[39m\n",
      "\u001b[36m\u001b[1m[ \u001b[22m\u001b[39m\u001b[36m\u001b[1mInfo: \u001b[22m\u001b[39mRunning type checks... \n",
      "\u001b[36m\u001b[1m[ \u001b[22m\u001b[39m\u001b[36m\u001b[1mInfo: \u001b[22m\u001b[39mType checks okay. \n",
      "\u001b[91m\u001b[1m┌ \u001b[22m\u001b[39m\u001b[91m\u001b[1mError: \u001b[22m\u001b[39mProblem fitting the machine machine(ProbabilisticTunedModel(model = KNNClassifier(K = 5, …), …), …). \n",
      "\u001b[91m\u001b[1m└ \u001b[22m\u001b[39m\u001b[90m@ MLJBase ~/.julia/packages/MLJBase/mIaqI/src/machines.jl:683\u001b[39m\n",
      "\u001b[36m\u001b[1m[ \u001b[22m\u001b[39m\u001b[36m\u001b[1mInfo: \u001b[22m\u001b[39mRunning type checks... \n",
      "\u001b[33m\u001b[1m┌ \u001b[22m\u001b[39m\u001b[33m\u001b[1mWarning: \u001b[22m\u001b[39mThe number and/or types of data arguments do not match what the specified model\n",
      "\u001b[33m\u001b[1m│ \u001b[22m\u001b[39msupports. Suppress this type check by specifying `scitype_check_level=0`.\n",
      "\u001b[33m\u001b[1m│ \u001b[22m\u001b[39m\n",
      "\u001b[33m\u001b[1m│ \u001b[22m\u001b[39mRun `@doc MLJTuning.ProbabilisticTunedModel` to learn more about your model's requirements.\n",
      "\u001b[33m\u001b[1m│ \u001b[22m\u001b[39m\n",
      "\u001b[33m\u001b[1m│ \u001b[22m\u001b[39mCommonly, but non exclusively, supervised models are constructed using the syntax\n",
      "\u001b[33m\u001b[1m│ \u001b[22m\u001b[39m`machine(model, X, y)` or `machine(model, X, y, w)` while most other models are\n",
      "\u001b[33m\u001b[1m│ \u001b[22m\u001b[39mconstructed with `machine(model, X)`.  Here `X` are features, `y` a target, and `w`\n",
      "\u001b[33m\u001b[1m│ \u001b[22m\u001b[39msample or class weights.\n",
      "\u001b[33m\u001b[1m│ \u001b[22m\u001b[39m\n",
      "\u001b[33m\u001b[1m│ \u001b[22m\u001b[39mIn general, data in `machine(model, data...)` is expected to satisfy\n",
      "\u001b[33m\u001b[1m│ \u001b[22m\u001b[39m\n",
      "\u001b[33m\u001b[1m│ \u001b[22m\u001b[39m    scitype(data) <: MLJ.fit_data_scitype(model)\n",
      "\u001b[33m\u001b[1m│ \u001b[22m\u001b[39m\n",
      "\u001b[33m\u001b[1m│ \u001b[22m\u001b[39mIn the present case:\n",
      "\u001b[33m\u001b[1m│ \u001b[22m\u001b[39m\n",
      "\u001b[33m\u001b[1m│ \u001b[22m\u001b[39mscitype(data) = Tuple{Table{AbstractVector{Continuous}}, AbstractVector{Continuous}}\n",
      "\u001b[33m\u001b[1m│ \u001b[22m\u001b[39m\n",
      "\u001b[33m\u001b[1m│ \u001b[22m\u001b[39mfit_data_scitype(model) = Union{Tuple{Table{<:AbstractVector{<:Continuous}}, AbstractVector{<:Finite}}, Tuple{Table{<:AbstractVector{<:Continuous}}, AbstractVector{<:Finite}, AbstractVector{<:Union{Continuous, Count}}}}\n",
      "\u001b[33m\u001b[1m└ \u001b[22m\u001b[39m\u001b[90m@ MLJBase ~/.julia/packages/MLJBase/mIaqI/src/machines.jl:231\u001b[39m\n",
      "\u001b[36m\u001b[1m[ \u001b[22m\u001b[39m\u001b[36m\u001b[1mInfo: \u001b[22m\u001b[39mIt seems an upstream node in a learning network is providing data of incompatible scitype. See above. \n"
     ]
    },
    {
     "ename": "LoadError",
     "evalue": "ArgumentError: \nobservation scitype of target = `Continuous` but (Accuracy()) only supports `Union{Missing, Finite}`.\nTo override measure checks, set check_measure=false. ",
     "output_type": "error",
     "traceback": [
      "ArgumentError: \nobservation scitype of target = `Continuous` but (Accuracy()) only supports `Union{Missing, Finite}`.\nTo override measure checks, set check_measure=false. ",
      "",
      "Stacktrace:",
      "  [1] _check_measure(measure::StatisticalMeasuresBase.RobustMeasure{StatisticalMeasuresBase.FussyMeasure{StatisticalMeasuresBase.RobustMeasure{StatisticalMeasuresBase.Multimeasure{StatisticalMeasuresBase.SupportsMissingsMeasure{StatisticalMeasures.AccuracyOnScalars}, Nothing, StatisticalMeasuresBase.Mean, typeof(identity)}}, Nothing}}, operation::Function, model::NearestNeighborModels.KNNClassifier, y::Vector{Float64})",
      "    @ MLJBase ~/.julia/packages/MLJBase/mIaqI/src/resampling.jl:641",
      "  [2] (::MLJBase.var\"#259#260\"{Vector{StatisticalMeasuresBase.RobustMeasure{StatisticalMeasuresBase.FussyMeasure{StatisticalMeasuresBase.RobustMeasure{StatisticalMeasuresBase.Multimeasure{StatisticalMeasuresBase.SupportsMissingsMeasure{StatisticalMeasures.AccuracyOnScalars}, Nothing, StatisticalMeasuresBase.Mean, typeof(identity)}}, Nothing}}}, Vector{typeof(predict_mode)}, NearestNeighborModels.KNNClassifier, Vector{Float64}})(j::Int64)",
      "    @ MLJBase ~/.julia/packages/MLJBase/mIaqI/src/resampling.jl:668",
      "  [3] _all(f::MLJBase.var\"#259#260\"{Vector{StatisticalMeasuresBase.RobustMeasure{StatisticalMeasuresBase.FussyMeasure{StatisticalMeasuresBase.RobustMeasure{StatisticalMeasuresBase.Multimeasure{StatisticalMeasuresBase.SupportsMissingsMeasure{StatisticalMeasures.AccuracyOnScalars}, Nothing, StatisticalMeasuresBase.Mean, typeof(identity)}}, Nothing}}}, Vector{typeof(predict_mode)}, NearestNeighborModels.KNNClassifier, Vector{Float64}}, itr::Base.OneTo{Int64}, #unused#::Colon)",
      "    @ Base ./reduce.jl:1283",
      "  [4] all(f::Function, a::Base.OneTo{Int64}; dims::Function)",
      "    @ Base ./reducedim.jl:1007",
      "  [5] all",
      "    @ ./reducedim.jl:1007 [inlined]",
      "  [6] _check_measures",
      "    @ ~/.julia/packages/MLJBase/mIaqI/src/resampling.jl:667 [inlined]",
      "  [7] _check_weights_measures(weights::Nothing, class_weights::Nothing, measures::Vector{StatisticalMeasuresBase.RobustMeasure{StatisticalMeasuresBase.FussyMeasure{StatisticalMeasuresBase.RobustMeasure{StatisticalMeasuresBase.Multimeasure{StatisticalMeasuresBase.SupportsMissingsMeasure{StatisticalMeasures.AccuracyOnScalars}, Nothing, StatisticalMeasuresBase.Mean, typeof(identity)}}, Nothing}}}, mach::Machine{NearestNeighborModels.KNNClassifier, true}, operations::Vector{typeof(predict_mode)}, verbosity::Int64, check_measure::Bool)",
      "    @ MLJBase ~/.julia/packages/MLJBase/mIaqI/src/resampling.jl:717",
      "  [8] fit(::Resampler{CV, Nothing}, ::Int64, ::DataFrame, ::Vector{Float64})",
      "    @ MLJBase ~/.julia/packages/MLJBase/mIaqI/src/resampling.jl:1523",
      "  [9] fit_only!(mach::Machine{Resampler{CV, Nothing}, false}; rows::Nothing, verbosity::Int64, force::Bool, composite::Nothing)",
      "    @ MLJBase ~/.julia/packages/MLJBase/mIaqI/src/machines.jl:681",
      " [10] fit_only!",
      "    @ ~/.julia/packages/MLJBase/mIaqI/src/machines.jl:607 [inlined]",
      " [11] #fit!#63",
      "    @ ~/.julia/packages/MLJBase/mIaqI/src/machines.jl:778 [inlined]",
      " [12] fit!",
      "    @ ~/.julia/packages/MLJBase/mIaqI/src/machines.jl:775 [inlined]",
      " [13] event!(metamodel::NearestNeighborModels.KNNClassifier, resampling_machine::Machine{Resampler{CV, Nothing}, false}, verbosity::Int64, tuning::Grid, history::Nothing, state::NamedTuple{(:models, :fields, :parameter_scales, :models_delivered), Tuple{Vector{NearestNeighborModels.KNNClassifier}, Vector{Symbol}, Vector{Symbol}, Bool}})",
      "    @ MLJTuning ~/.julia/packages/MLJTuning/drqMP/src/tuned_models.jl:438",
      " [14] #36",
      "    @ ~/.julia/packages/MLJTuning/drqMP/src/tuned_models.jl:476 [inlined]",
      " [15] iterate",
      "    @ ./generator.jl:47 [inlined]",
      " [16] _collect(c::Vector{NearestNeighborModels.KNNClassifier}, itr::Base.Generator{Vector{NearestNeighborModels.KNNClassifier}, MLJTuning.var\"#36#37\"{Machine{Resampler{CV, Nothing}, false}, Int64, Grid, Nothing, NamedTuple{(:models, :fields, :parameter_scales, :models_delivered), Tuple{Vector{NearestNeighborModels.KNNClassifier}, Vector{Symbol}, Vector{Symbol}, Bool}}, ProgressMeter.Progress}}, #unused#::Base.EltypeUnknown, isz::Base.HasShape{1})",
      "    @ Base ./array.jl:802",
      " [17] collect_similar",
      "    @ ./array.jl:711 [inlined]",
      " [18] map",
      "    @ ./abstractarray.jl:3261 [inlined]",
      " [19] assemble_events!(metamodels::Vector{NearestNeighborModels.KNNClassifier}, resampling_machine::Machine{Resampler{CV, Nothing}, false}, verbosity::Int64, tuning::Grid, history::Nothing, state::NamedTuple{(:models, :fields, :parameter_scales, :models_delivered), Tuple{Vector{NearestNeighborModels.KNNClassifier}, Vector{Symbol}, Vector{Symbol}, Bool}}, acceleration::CPU1{Nothing})",
      "    @ MLJTuning ~/.julia/packages/MLJTuning/drqMP/src/tuned_models.jl:475",
      " [20] build!(history::Nothing, n::Int64, tuning::Grid, model::NearestNeighborModels.KNNClassifier, model_buffer::Channel{Any}, state::NamedTuple{(:models, :fields, :parameter_scales, :models_delivered), Tuple{Vector{NearestNeighborModels.KNNClassifier}, Vector{Symbol}, Vector{Symbol}, Bool}}, verbosity::Int64, acceleration::CPU1{Nothing}, resampling_machine::Machine{Resampler{CV, Nothing}, false})",
      "    @ MLJTuning ~/.julia/packages/MLJTuning/drqMP/src/tuned_models.jl:669",
      " [21] fit(::MLJTuning.ProbabilisticTunedModel{Grid, NearestNeighborModels.KNNClassifier}, ::Int64, ::DataFrame, ::Vector{Float64})",
      "    @ MLJTuning ~/.julia/packages/MLJTuning/drqMP/src/tuned_models.jl:749",
      " [22] fit_only!(mach::Machine{MLJTuning.ProbabilisticTunedModel{Grid, NearestNeighborModels.KNNClassifier}, false}; rows::Nothing, verbosity::Int64, force::Bool, composite::Nothing)",
      "    @ MLJBase ~/.julia/packages/MLJBase/mIaqI/src/machines.jl:681",
      " [23] fit_only!",
      "    @ ~/.julia/packages/MLJBase/mIaqI/src/machines.jl:607 [inlined]",
      " [24] #fit!#63",
      "    @ ~/.julia/packages/MLJBase/mIaqI/src/machines.jl:778 [inlined]",
      " [25] fit!(mach::Machine{MLJTuning.ProbabilisticTunedModel{Grid, NearestNeighborModels.KNNClassifier}, false})",
      "    @ MLJBase ~/.julia/packages/MLJBase/mIaqI/src/machines.jl:775",
      " [26] top-level scope",
      "    @ In[112]:3"
     ]
    }
   ],
   "source": [
    "# Fitting the self-tuning machine\n",
    "mach2 = machine(self_tuning_knn, X_train, y_train, scitype_check_level = 0);\n",
    "MLJ.fit!(mach2);"
   ]
  },
  {
   "cell_type": "markdown",
   "id": "58c9abf5",
   "metadata": {
    "slideshow": {
     "slide_type": "slide"
    }
   },
   "source": [
    "## Classification\n",
    "\n",
    "### K-Nearest Neighbors Classifier\n",
    "\n",
    "**Grid Search**"
   ]
  },
  {
   "cell_type": "code",
   "execution_count": 113,
   "id": "ce0691ab",
   "metadata": {},
   "outputs": [
    {
     "ename": "LoadError",
     "evalue": "MethodError: no method matching merge()\n\n\u001b[0mClosest candidates are:\n\u001b[0m  merge(\u001b[91m::DataFrameRow\u001b[39m)\n\u001b[0m\u001b[90m   @\u001b[39m \u001b[33mDataFrames\u001b[39m \u001b[90m~/.julia/packages/DataFrames/58MUJ/src/dataframerow/\u001b[39m\u001b[90m\u001b[4mdataframerow.jl:445\u001b[24m\u001b[39m\n\u001b[0m  merge(\u001b[91m::DataFrameRow\u001b[39m, \u001b[91m::Base.Pairs\u001b[39m)\n\u001b[0m\u001b[90m   @\u001b[39m \u001b[33mDataFrames\u001b[39m \u001b[90m~/.julia/packages/DataFrames/58MUJ/src/dataframerow/\u001b[39m\u001b[90m\u001b[4mdataframerow.jl:449\u001b[24m\u001b[39m\n\u001b[0m  merge(\u001b[91m::DataFrameRow\u001b[39m, \u001b[91m::DataFrameRow\u001b[39m)\n\u001b[0m\u001b[90m   @\u001b[39m \u001b[33mDataFrames\u001b[39m \u001b[90m~/.julia/packages/DataFrames/58MUJ/src/dataframerow/\u001b[39m\u001b[90m\u001b[4mdataframerow.jl:448\u001b[24m\u001b[39m\n\u001b[0m  ...\n",
     "output_type": "error",
     "traceback": [
      "MethodError: no method matching merge()\n\n\u001b[0mClosest candidates are:\n\u001b[0m  merge(\u001b[91m::DataFrameRow\u001b[39m)\n\u001b[0m\u001b[90m   @\u001b[39m \u001b[33mDataFrames\u001b[39m \u001b[90m~/.julia/packages/DataFrames/58MUJ/src/dataframerow/\u001b[39m\u001b[90m\u001b[4mdataframerow.jl:445\u001b[24m\u001b[39m\n\u001b[0m  merge(\u001b[91m::DataFrameRow\u001b[39m, \u001b[91m::Base.Pairs\u001b[39m)\n\u001b[0m\u001b[90m   @\u001b[39m \u001b[33mDataFrames\u001b[39m \u001b[90m~/.julia/packages/DataFrames/58MUJ/src/dataframerow/\u001b[39m\u001b[90m\u001b[4mdataframerow.jl:449\u001b[24m\u001b[39m\n\u001b[0m  merge(\u001b[91m::DataFrameRow\u001b[39m, \u001b[91m::DataFrameRow\u001b[39m)\n\u001b[0m\u001b[90m   @\u001b[39m \u001b[33mDataFrames\u001b[39m \u001b[90m~/.julia/packages/DataFrames/58MUJ/src/dataframerow/\u001b[39m\u001b[90m\u001b[4mdataframerow.jl:448\u001b[24m\u001b[39m\n\u001b[0m  ...\n",
      "",
      "Stacktrace:",
      "  [1] report(model::Nothing, report_given_method::LittleDict{Symbol, Any, Vector{Symbol}, Vector{Any}})",
      "    @ MLJModelInterface ~/.julia/packages/MLJModelInterface/c7DnS/src/model_api.jl:238",
      "  [2] report(mach::Machine{MLJTuning.ProbabilisticTunedModel{Grid, NearestNeighborModels.KNNClassifier}, false})",
      "    @ MLJBase ~/.julia/packages/MLJBase/mIaqI/src/machines.jl:864",
      "  [3] macro expansion",
      "    @ ~/.julia/packages/MLJTuning/drqMP/src/plotrecipes.jl:2 [inlined]",
      "  [4] apply_recipe(plotattributes::AbstractDict{Symbol, Any}, mach::Machine{<:Union{MLJTuning.DeterministicTunedModel{T, M}, MLJTuning.ProbabilisticTunedModel{T, M}} where {T, M}})",
      "    @ MLJTuning ~/.julia/packages/RecipesBase/BRe07/src/RecipesBase.jl:300",
      "  [5] _process_userrecipes!(plt::Any, plotattributes::Any, args::Any)",
      "    @ RecipesPipeline ~/.julia/packages/RecipesPipeline/BGM3l/src/user_recipe.jl:38",
      "  [6] recipe_pipeline!(plt::Any, plotattributes::Any, args::Any)",
      "    @ RecipesPipeline ~/.julia/packages/RecipesPipeline/BGM3l/src/RecipesPipeline.jl:72",
      "  [7] _plot!(plt::Plots.Plot, plotattributes::Any, args::Any)",
      "    @ Plots ~/.julia/packages/Plots/sxUvK/src/plot.jl:223",
      "  [8] #plot#188",
      "    @ ~/.julia/packages/Plots/sxUvK/src/plot.jl:102 [inlined]",
      "  [9] plot(args::Any)",
      "    @ Plots ~/.julia/packages/Plots/sxUvK/src/plot.jl:93",
      " [10] top-level scope",
      "    @ In[113]:2"
     ]
    }
   ],
   "source": [
    "# The plot\n",
    "Plots.plot(mach2)"
   ]
  },
  {
   "cell_type": "markdown",
   "id": "9a0bc16e",
   "metadata": {
    "slideshow": {
     "slide_type": "slide"
    }
   },
   "source": [
    "## Classification\n",
    "\n",
    "### K-Nearest Neighbors Classifier\n",
    "\n",
    "**Grid Search**"
   ]
  },
  {
   "cell_type": "code",
   "execution_count": 114,
   "id": "fea1cc03",
   "metadata": {},
   "outputs": [
    {
     "ename": "LoadError",
     "evalue": "machine(ProbabilisticTunedModel(model = KNNClassifier(K = 5, …), …), …) has not been trained. Call `fit!` on the machine, or, if you meant to create a learning network `Node`, use the syntax `node(fitted_params, mach::Machine)`. ",
     "output_type": "error",
     "traceback": [
      "machine(ProbabilisticTunedModel(model = KNNClassifier(K = 5, …), …), …) has not been trained. Call `fit!` on the machine, or, if you meant to create a learning network `Node`, use the syntax `node(fitted_params, mach::Machine)`. ",
      "",
      "Stacktrace:",
      " [1] fitted_params(mach::Machine{MLJTuning.ProbabilisticTunedModel{Grid, NearestNeighborModels.KNNClassifier}, false})",
      "   @ MLJBase ~/.julia/packages/MLJBase/mIaqI/src/machines.jl:822",
      " [2] top-level scope",
      "   @ In[114]:2"
     ]
    }
   ],
   "source": [
    "# Best Model parameters (not needed)\n",
    "fitted_params(mach2).best_model"
   ]
  },
  {
   "cell_type": "markdown",
   "id": "af2c5c91",
   "metadata": {
    "slideshow": {
     "slide_type": "slide"
    }
   },
   "source": [
    "## Classification\n",
    "\n",
    "### K-Nearest Neighbors Classifier\n",
    "\n",
    "**Grid Search**"
   ]
  },
  {
   "cell_type": "code",
   "execution_count": 115,
   "id": "7ad5840d",
   "metadata": {},
   "outputs": [
    {
     "ename": "LoadError",
     "evalue": "machine(ProbabilisticTunedModel(model = KNNClassifier(K = 5, …), …), …) has not been trained. ",
     "output_type": "error",
     "traceback": [
      "machine(ProbabilisticTunedModel(model = KNNClassifier(K = 5, …), …), …) has not been trained. ",
      "",
      "Stacktrace:",
      " [1] _check_and_fit_if_warranted!(mach::Machine{MLJTuning.ProbabilisticTunedModel{Grid, NearestNeighborModels.KNNClassifier}, false})",
      "   @ MLJBase ~/.julia/packages/MLJBase/mIaqI/src/operations.jl:119",
      " [2] predict_mode(mach::Machine{MLJTuning.ProbabilisticTunedModel{Grid, NearestNeighborModels.KNNClassifier}, false}, Xraw::DataFrame)",
      "   @ MLJBase ~/.julia/packages/MLJBase/mIaqI/src/operations.jl:131",
      " [3] top-level scope",
      "   @ In[115]:2"
     ]
    }
   ],
   "source": [
    "# Predicted accuracy of best model on testing set\n",
    "ypred_mode2 = MLJ.predict_mode(mach2, X_test);\n",
    "accuracy(y_test, ypred_mode2)"
   ]
  },
  {
   "cell_type": "code",
   "execution_count": 116,
   "id": "98fcd48d",
   "metadata": {},
   "outputs": [
    {
     "ename": "LoadError",
     "evalue": "DimensionMismatch: Encountered two objects with observation counts of 485 and 10 which needed to match but don't. ",
     "output_type": "error",
     "traceback": [
      "DimensionMismatch: Encountered two objects with observation counts of 485 and 10 which needed to match but don't. ",
      "",
      "Stacktrace:",
      " [1] check_numobs",
      "   @ ~/.julia/packages/StatisticalMeasuresBase/7euvM/src/tools_for_implementers.jl:108 [inlined]",
      " [2] _call",
      "   @ ~/.julia/packages/StatisticalMeasuresBase/7euvM/src/fussy_measure.jl:42 [inlined]",
      " [3] call",
      "   @ ~/.julia/packages/StatisticalMeasuresBase/7euvM/src/fussy_measure.jl:60 [inlined]",
      " [4] (::StatisticalMeasuresBase.FussyMeasure{StatisticalMeasuresBase.RobustMeasure{StatisticalMeasures._ConfusionMatrix{Nothing}}, Nothing})(arg::CategoricalArrays.CategoricalVector{InlineStrings.String1, UInt32, InlineStrings.String1, CategoricalArrays.CategoricalValue{InlineStrings.String1, UInt32}, Union{}}, args::Vector{Float64})",
      "   @ StatisticalMeasuresBase ~/.julia/packages/StatisticalMeasuresBase/7euvM/src/wrappers.jl:26",
      " [5] top-level scope",
      "   @ In[116]:1"
     ]
    }
   ],
   "source": [
    "confusion_matrix(ypred_mode2, y_test) "
   ]
  },
  {
   "cell_type": "markdown",
   "id": "ddff4343",
   "metadata": {
    "slideshow": {
     "slide_type": "slide"
    }
   },
   "source": [
    "## Beyond Linearity"
   ]
  },
  {
   "cell_type": "markdown",
   "id": "bff5a223",
   "metadata": {
    "slideshow": {
     "slide_type": "slide"
    }
   },
   "source": [
    "## Beyond Linearity\n",
    "\n",
    "So far, we have focused on linear models.\n",
    "\n",
    "Most of the time, linear approximations are excellent:\n",
    "- Easy to interpret\n",
    "- Easy to run\n",
    "\n",
    "And all the GLM flavors afford lots of flexibility regarding how we deal with data.\n",
    "\n",
    "In the following two lectures, we relax the linearity assumption but keep it as simple as possible."
   ]
  },
  {
   "cell_type": "markdown",
   "id": "797cddd0",
   "metadata": {
    "slideshow": {
     "slide_type": "slide"
    }
   },
   "source": [
    "## Polynomial Regression\n",
    "\n",
    "Expands the default model ($y_i = \\beta_0 + \\beta_1x_i + \\varepsilon_i$) to consider a polynomial $d$:\n",
    "\n",
    "$$ y_i = \\beta_0 + \\beta_1x_i + \\beta_2x_i^2 +\\cdots + \\beta_dx_i^d + \\varepsilon_i $$\n",
    "                     \n",
    "Lots of flexibility here, but we seldom use $d>4$ because then it gets *excessively* flexible.\n",
    "\n",
    "Prediction very straightforward:\n",
    "\n",
    "$$ \\hat{f}(x_0) = \\hat{\\beta}_0 + \\hat{\\beta}_1x_0 + \\hat{\\beta}_2x_0^2 +\\cdots + \\hat{\\beta}_dx_0^d $$"
   ]
  },
  {
   "cell_type": "markdown",
   "id": "21a35d11",
   "metadata": {
    "slideshow": {
     "slide_type": "slide"
    }
   },
   "source": [
    "## Polynomial Regression\n",
    "\n",
    "![img](https://github.com/umbertomig/POLI175julia/blob/c9b0555e3e97778495bee72746aee43ddf3226d7/img/polyreg1.png?raw=true)"
   ]
  },
  {
   "cell_type": "markdown",
   "id": "ea01a5a8",
   "metadata": {
    "slideshow": {
     "slide_type": "slide"
    }
   },
   "source": [
    "## Polynomial Regression\n",
    "\n",
    "Let us try to explain `education` expenditure using per capita `income`."
   ]
  },
  {
   "cell_type": "code",
   "execution_count": 117,
   "id": "372ddcb2",
   "metadata": {},
   "outputs": [
    {
     "data": {
      "text/html": [
       "<div><div style = \"float: left;\"><span>3×9 DataFrame</span></div><div style = \"clear: both;\"></div></div><div class = \"data-frame\" style = \"overflow-x: scroll;\"><table class = \"data-frame\" style = \"margin-bottom: 6px;\"><thead><tr class = \"header\"><th class = \"rowNumber\" style = \"font-weight: bold; text-align: right;\">Row</th><th style = \"text-align: left;\">education</th><th style = \"text-align: left;\">income</th><th style = \"text-align: left;\">young</th><th style = \"text-align: left;\">urban</th><th style = \"text-align: left;\">states</th><th style = \"text-align: left;\">educ_log</th><th style = \"text-align: left;\">income_log</th><th style = \"text-align: left;\">urban_log</th><th style = \"text-align: left;\">young_log</th></tr><tr class = \"subheader headerLastRow\"><th class = \"rowNumber\" style = \"font-weight: bold; text-align: right;\"></th><th title = \"Int64\" style = \"text-align: left;\">Int64</th><th title = \"Int64\" style = \"text-align: left;\">Int64</th><th title = \"Float64\" style = \"text-align: left;\">Float64</th><th title = \"Int64\" style = \"text-align: left;\">Int64</th><th title = \"InlineStrings.String3\" style = \"text-align: left;\">String3</th><th title = \"Float64\" style = \"text-align: left;\">Float64</th><th title = \"Float64\" style = \"text-align: left;\">Float64</th><th title = \"Float64\" style = \"text-align: left;\">Float64</th><th title = \"Float64\" style = \"text-align: left;\">Float64</th></tr></thead><tbody><tr><td class = \"rowNumber\" style = \"font-weight: bold; text-align: right;\">1</td><td style = \"text-align: right;\">189</td><td style = \"text-align: right;\">2824</td><td style = \"text-align: right;\">350.7</td><td style = \"text-align: right;\">508</td><td style = \"text-align: left;\">ME</td><td style = \"text-align: right;\">5.24175</td><td style = \"text-align: right;\">7.94591</td><td style = \"text-align: right;\">6.23048</td><td style = \"text-align: right;\">5.85993</td></tr><tr><td class = \"rowNumber\" style = \"font-weight: bold; text-align: right;\">2</td><td style = \"text-align: right;\">169</td><td style = \"text-align: right;\">3259</td><td style = \"text-align: right;\">345.9</td><td style = \"text-align: right;\">564</td><td style = \"text-align: left;\">NH</td><td style = \"text-align: right;\">5.1299</td><td style = \"text-align: right;\">8.08918</td><td style = \"text-align: right;\">6.33505</td><td style = \"text-align: right;\">5.84615</td></tr><tr><td class = \"rowNumber\" style = \"font-weight: bold; text-align: right;\">3</td><td style = \"text-align: right;\">230</td><td style = \"text-align: right;\">3072</td><td style = \"text-align: right;\">348.5</td><td style = \"text-align: right;\">322</td><td style = \"text-align: left;\">VT</td><td style = \"text-align: right;\">5.43808</td><td style = \"text-align: right;\">8.03008</td><td style = \"text-align: right;\">5.77455</td><td style = \"text-align: right;\">5.85364</td></tr></tbody></table></div>"
      ],
      "text/latex": [
       "\\begin{tabular}{r|ccccccccc}\n",
       "\t& education & income & young & urban & states & educ\\_log & income\\_log & urban\\_log & young\\_log\\\\\n",
       "\t\\hline\n",
       "\t& Int64 & Int64 & Float64 & Int64 & String3 & Float64 & Float64 & Float64 & Float64\\\\\n",
       "\t\\hline\n",
       "\t1 & 189 & 2824 & 350.7 & 508 & ME & 5.24175 & 7.94591 & 6.23048 & 5.85993 \\\\\n",
       "\t2 & 169 & 3259 & 345.9 & 564 & NH & 5.1299 & 8.08918 & 6.33505 & 5.84615 \\\\\n",
       "\t3 & 230 & 3072 & 348.5 & 322 & VT & 5.43808 & 8.03008 & 5.77455 & 5.85364 \\\\\n",
       "\\end{tabular}\n"
      ],
      "text/plain": [
       "\u001b[1m3×9 DataFrame\u001b[0m\n",
       "\u001b[1m Row \u001b[0m│\u001b[1m education \u001b[0m\u001b[1m income \u001b[0m\u001b[1m young   \u001b[0m\u001b[1m urban \u001b[0m\u001b[1m states  \u001b[0m\u001b[1m educ_log \u001b[0m\u001b[1m income_log \u001b[0m\u001b[1m urban\u001b[0m ⋯\n",
       "     │\u001b[90m Int64     \u001b[0m\u001b[90m Int64  \u001b[0m\u001b[90m Float64 \u001b[0m\u001b[90m Int64 \u001b[0m\u001b[90m String3 \u001b[0m\u001b[90m Float64  \u001b[0m\u001b[90m Float64    \u001b[0m\u001b[90m Float\u001b[0m ⋯\n",
       "─────┼──────────────────────────────────────────────────────────────────────────\n",
       "   1 │       189    2824    350.7    508  ME        5.24175     7.94591    6.2 ⋯\n",
       "   2 │       169    3259    345.9    564  NH        5.1299      8.08918    6.3\n",
       "   3 │       230    3072    348.5    322  VT        5.43808     8.03008    5.7\n",
       "\u001b[36m                                                               2 columns omitted\u001b[0m"
      ]
     },
     "execution_count": 117,
     "metadata": {},
     "output_type": "execute_result"
    }
   ],
   "source": [
    "# Checking\n",
    "first(educ, 3)"
   ]
  },
  {
   "cell_type": "markdown",
   "id": "d33c0d22",
   "metadata": {
    "slideshow": {
     "slide_type": "slide"
    }
   },
   "source": [
    "## Polynomial Regression\n",
    "\n",
    "Let us try to explain `education` expenditure using per capita `income`."
   ]
  },
  {
   "cell_type": "code",
   "execution_count": 118,
   "id": "cac4f298",
   "metadata": {},
   "outputs": [],
   "source": [
    "educaux = educ[:, [\"education\", \"income\"]];\n",
    "educaux.income2 = educaux.income .^ 2;\n",
    "educaux.income3 = educaux.income .^ 3;\n",
    "educaux.income4 = educaux.income .^ 4;\n",
    "educaux.income5 = educaux.income .^ 5;\n",
    "educaux.income6 = educaux.income .^ 6;"
   ]
  },
  {
   "cell_type": "code",
   "execution_count": 119,
   "id": "8c2534ce",
   "metadata": {},
   "outputs": [],
   "source": [
    "y, X = unpack(\n",
    "    educaux, ## Variables we need\n",
    "    ==(:education);                        ## Target (all else features...)\n",
    "    :education   => Continuous,            ## Var types\n",
    "    :income      => Continuous,\n",
    "    :income2     => Continuous,\n",
    "    :income3     => Continuous,\n",
    "    :income4     => Continuous,\n",
    "    :income5     => Continuous,\n",
    "    :income6     => Continuous,\n",
    ");"
   ]
  },
  {
   "cell_type": "markdown",
   "id": "96e4077a",
   "metadata": {
    "slideshow": {
     "slide_type": "slide"
    }
   },
   "source": [
    "## Polynomial Regression"
   ]
  },
  {
   "cell_type": "code",
   "execution_count": 120,
   "id": "07d0ecf6",
   "metadata": {},
   "outputs": [
    {
     "data": {
      "text/plain": [
       "LinearRegressor(\n",
       "  fit_intercept = true, \n",
       "  solver = nothing)"
      ]
     },
     "execution_count": 120,
     "metadata": {},
     "output_type": "execute_result"
    }
   ],
   "source": [
    "linreg = MLJLinearModels.LinearRegressor()"
   ]
  },
  {
   "cell_type": "code",
   "execution_count": 121,
   "id": "a8fb005b",
   "metadata": {},
   "outputs": [],
   "source": [
    "# 3-Fold CV\n",
    "cv3 = CV(\n",
    "    nfolds = 3,  ## Number of cross-validating folds\n",
    "    rng = 45321  ## Random seed\n",
    ");"
   ]
  },
  {
   "cell_type": "markdown",
   "id": "e57636f9",
   "metadata": {
    "slideshow": {
     "slide_type": "slide"
    }
   },
   "source": [
    "## Polynomial Regression"
   ]
  },
  {
   "cell_type": "code",
   "execution_count": 122,
   "id": "fde532b3",
   "metadata": {},
   "outputs": [
    {
     "name": "stdout",
     "output_type": "stream",
     "text": [
      "PerformanceEvaluation(1360.0, 36.8)\n",
      "PerformanceEvaluation(1380.0, 37.1)\n",
      "PerformanceEvaluation(1360.0, 36.9)\n",
      "PerformanceEvaluation(1430.0, 37.8)\n",
      "PerformanceEvaluation(1340.0, 36.6)\n",
      "PerformanceEvaluation(1700.0, 41.2)\n"
     ]
    }
   ],
   "source": [
    "## Evaluate the Model\n",
    "vars = Vector{String}()\n",
    "for i in (\"income\", \"income2\", \"income3\", \"income4\", \"income5\", \"income6\")\n",
    "    push!(vars, i)\n",
    "    println(\n",
    "        evaluate(linreg,                   ## Model\n",
    "            X[:, vars],                    ## Training features set\n",
    "            y,                             ## Training target set\n",
    "            resampling = cv3,              ## Resampling strategy (in this case, 3-Fold CV)\n",
    "            measure = [l2, rmse],          ## Measures\n",
    "            verbosity = 0)\n",
    "    )\n",
    "end"
   ]
  },
  {
   "cell_type": "markdown",
   "id": "32e4aae4",
   "metadata": {},
   "source": [
    "I view the linear regression as the best for this relationship."
   ]
  },
  {
   "cell_type": "markdown",
   "id": "6bc6da77",
   "metadata": {
    "slideshow": {
     "slide_type": "slide"
    }
   },
   "source": [
    "## Polynomial Regression\n",
    "\n",
    "**Your turn:** Do the same with the proportion of young."
   ]
  },
  {
   "cell_type": "code",
   "execution_count": null,
   "id": "db45c51f",
   "metadata": {},
   "outputs": [],
   "source": [
    "# Your code here"
   ]
  },
  {
   "cell_type": "markdown",
   "id": "05794a41",
   "metadata": {
    "slideshow": {
     "slide_type": "slide"
    }
   },
   "source": [
    "## Basis Functions\n",
    "\n",
    "Family of transformations $b_i(X)$ such that, instead of fitting a regression model in $X$, we fit:\n",
    "\n",
    "$$ y_i \\ = \\ \\beta_0 + \\beta_1b_1(x_i) + \\beta_2b_2(x_i) + \\cdots + \\beta_kb_k(x_i) + \\varepsilon_i $$\n",
    "\n",
    "In this sense:\n",
    "- Polynomial Regression: $b_j(x_i) = x_i^j$\n",
    "- Constant-piecewise Regression: $b_j(x_i) = C_j(x_i) = I(c_j \\leq X < c_{j+1})$\n",
    "    \n",
    "Meaning: they are cases of a broader set of basis functions."
   ]
  },
  {
   "cell_type": "markdown",
   "id": "f697d9d7",
   "metadata": {
    "slideshow": {
     "slide_type": "slide"
    }
   },
   "source": [
    "## Basis Functions\n",
    "\n",
    "Cases:\n",
    "\n",
    "- [Piecewise Constant Regression](https://en.wikipedia.org/wiki/Step_function)\n",
    "- [Fourier series](https://en.wikipedia.org/wiki/Fourier_series)\n",
    "- [Splines](https://en.wikipedia.org/wiki/Spline_(mathematics))\n",
    "- [GAMs](https://en.wikipedia.org/wiki/Generalized_additive_model)\n",
    "    \n",
    "We are going to study a few of these in the next lecture."
   ]
  },
  {
   "cell_type": "markdown",
   "id": "d8eace45",
   "metadata": {
    "slideshow": {
     "slide_type": "slide"
    }
   },
   "source": [
    "# Questions?"
   ]
  },
  {
   "cell_type": "markdown",
   "id": "22d252e9",
   "metadata": {
    "slideshow": {
     "slide_type": "slide"
    }
   },
   "source": [
    "# See you next class\n"
   ]
  }
 ],
 "metadata": {
  "celltoolbar": "Slideshow",
  "kernelspec": {
   "display_name": "Julia 1.9.2",
   "language": "julia",
   "name": "julia-1.9"
  },
  "language_info": {
   "file_extension": ".jl",
   "mimetype": "application/julia",
   "name": "julia",
   "version": "1.9.2"
  }
 },
 "nbformat": 4,
 "nbformat_minor": 5
}
