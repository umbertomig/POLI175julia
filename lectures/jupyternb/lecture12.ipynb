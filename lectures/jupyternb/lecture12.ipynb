{
 "cells": [
  {
   "cell_type": "markdown",
   "id": "243e38f9",
   "metadata": {
    "slideshow": {
     "slide_type": "slide"
    }
   },
   "source": [
    "# POLI 175 - Lecture 12\n",
    "\n",
    "## KNN (some more) and Non-linearity"
   ]
  },
  {
   "cell_type": "markdown",
   "id": "bb985516",
   "metadata": {
    "slideshow": {
     "slide_type": "slide"
    }
   },
   "source": [
    "## Class Examples\n",
    "\n",
    "1. Education expenditure dataset\n",
    "\n",
    "1. Pinochet voting dataset\n",
    "\n",
    "Let us load them all:"
   ]
  },
  {
   "cell_type": "code",
   "execution_count": 1,
   "id": "b55c5cf0",
   "metadata": {
    "slideshow": {
     "slide_type": "-"
    }
   },
   "outputs": [
    {
     "data": {
      "text/plain": [
       "onehot! (generic function with 2 methods)"
      ]
     },
     "execution_count": 1,
     "metadata": {},
     "output_type": "execute_result"
    }
   ],
   "source": [
    "## Packages Here\n",
    "using DataFrames\n",
    "using MLJ, MLJIteration\n",
    "import MLJLinearModels, MLJBase, MLJModels\n",
    "import MultivariateStats, MLJMultivariateStatsInterface\n",
    "import CSV, Plots, GLM, StatsBase, Random\n",
    "import LaTeXStrings, StatsPlots, Lowess, Gadfly, RegressionTables\n",
    "import CovarianceMatrices, Econometrics, LinearAlgebra, MixedModelsExtras\n",
    "import Missings, StatsAPI, FreqTables, EvalMetrics\n",
    "import NearestNeighborModels\n",
    "\n",
    "# Adapted from @xiaodaigh: https://github.com/xiaodaigh/DataConvenience.jl\n",
    "function onehot!(df::AbstractDataFrame, \n",
    "        col, cate = sort(unique(df[!, col])); \n",
    "        outnames = Symbol.(col, :_, cate))\n",
    "    transform!(df, @. col => ByRow(isequal(cate)) .=> outnames)\n",
    "end"
   ]
  },
  {
   "cell_type": "markdown",
   "id": "79543cb5",
   "metadata": {
    "slideshow": {
     "slide_type": "slide"
    }
   },
   "source": [
    "## Class Examples"
   ]
  },
  {
   "cell_type": "code",
   "execution_count": 2,
   "id": "4704653f",
   "metadata": {
    "slideshow": {
     "slide_type": "-"
    }
   },
   "outputs": [
    {
     "data": {
      "text/html": [
       "<div><div style = \"float: left;\"><span>3×11 DataFrame</span></div><div style = \"clear: both;\"></div></div><div class = \"data-frame\" style = \"overflow-x: scroll;\"><table class = \"data-frame\" style = \"margin-bottom: 6px;\"><thead><tr class = \"header\"><th class = \"rowNumber\" style = \"font-weight: bold; text-align: right;\">Row</th><th style = \"text-align: left;\">age</th><th style = \"text-align: left;\">statusquo</th><th style = \"text-align: left;\">vote</th><th style = \"text-align: left;\">voteyes</th><th style = \"text-align: left;\">region_M</th><th style = \"text-align: left;\">region_N</th><th style = \"text-align: left;\">region_S</th><th style = \"text-align: left;\">region_SA</th><th style = \"text-align: left;\">education_PS</th><th style = \"text-align: left;\">education_S</th><th style = \"text-align: left;\">sex_F</th></tr><tr class = \"subheader headerLastRow\"><th class = \"rowNumber\" style = \"font-weight: bold; text-align: right;\"></th><th title = \"Int64\" style = \"text-align: left;\">Int64</th><th title = \"Float64\" style = \"text-align: left;\">Float64</th><th title = \"InlineStrings.String1\" style = \"text-align: left;\">String1</th><th title = \"Int64\" style = \"text-align: left;\">Int64</th><th title = \"Bool\" style = \"text-align: left;\">Bool</th><th title = \"Bool\" style = \"text-align: left;\">Bool</th><th title = \"Bool\" style = \"text-align: left;\">Bool</th><th title = \"Bool\" style = \"text-align: left;\">Bool</th><th title = \"Bool\" style = \"text-align: left;\">Bool</th><th title = \"Bool\" style = \"text-align: left;\">Bool</th><th title = \"Bool\" style = \"text-align: left;\">Bool</th></tr></thead><tbody><tr><td class = \"rowNumber\" style = \"font-weight: bold; text-align: right;\">1</td><td style = \"text-align: right;\">65</td><td style = \"text-align: right;\">1.0082</td><td style = \"text-align: left;\">Y</td><td style = \"text-align: right;\">1</td><td style = \"text-align: right;\">false</td><td style = \"text-align: right;\">true</td><td style = \"text-align: right;\">false</td><td style = \"text-align: right;\">false</td><td style = \"text-align: right;\">false</td><td style = \"text-align: right;\">false</td><td style = \"text-align: right;\">false</td></tr><tr><td class = \"rowNumber\" style = \"font-weight: bold; text-align: right;\">2</td><td style = \"text-align: right;\">29</td><td style = \"text-align: right;\">-1.29617</td><td style = \"text-align: left;\">N</td><td style = \"text-align: right;\">0</td><td style = \"text-align: right;\">false</td><td style = \"text-align: right;\">true</td><td style = \"text-align: right;\">false</td><td style = \"text-align: right;\">false</td><td style = \"text-align: right;\">true</td><td style = \"text-align: right;\">false</td><td style = \"text-align: right;\">false</td></tr><tr><td class = \"rowNumber\" style = \"font-weight: bold; text-align: right;\">3</td><td style = \"text-align: right;\">38</td><td style = \"text-align: right;\">1.23072</td><td style = \"text-align: left;\">Y</td><td style = \"text-align: right;\">1</td><td style = \"text-align: right;\">false</td><td style = \"text-align: right;\">true</td><td style = \"text-align: right;\">false</td><td style = \"text-align: right;\">false</td><td style = \"text-align: right;\">false</td><td style = \"text-align: right;\">false</td><td style = \"text-align: right;\">true</td></tr></tbody></table></div>"
      ],
      "text/latex": [
       "\\begin{tabular}{r|cccccccccc}\n",
       "\t& age & statusquo & vote & voteyes & region\\_M & region\\_N & region\\_S & region\\_SA & education\\_PS & \\\\\n",
       "\t\\hline\n",
       "\t& Int64 & Float64 & String1 & Int64 & Bool & Bool & Bool & Bool & Bool & \\\\\n",
       "\t\\hline\n",
       "\t1 & 65 & 1.0082 & Y & 1 & 0 & 1 & 0 & 0 & 0 & $\\dots$ \\\\\n",
       "\t2 & 29 & -1.29617 & N & 0 & 0 & 1 & 0 & 0 & 1 & $\\dots$ \\\\\n",
       "\t3 & 38 & 1.23072 & Y & 1 & 0 & 1 & 0 & 0 & 0 & $\\dots$ \\\\\n",
       "\\end{tabular}\n"
      ],
      "text/plain": [
       "\u001b[1m3×11 DataFrame\u001b[0m\n",
       "\u001b[1m Row \u001b[0m│\u001b[1m age   \u001b[0m\u001b[1m statusquo \u001b[0m\u001b[1m vote    \u001b[0m\u001b[1m voteyes \u001b[0m\u001b[1m region_M \u001b[0m\u001b[1m region_N \u001b[0m\u001b[1m region_S \u001b[0m\u001b[1m regio\u001b[0m ⋯\n",
       "     │\u001b[90m Int64 \u001b[0m\u001b[90m Float64   \u001b[0m\u001b[90m String1 \u001b[0m\u001b[90m Int64   \u001b[0m\u001b[90m Bool     \u001b[0m\u001b[90m Bool     \u001b[0m\u001b[90m Bool     \u001b[0m\u001b[90m Bool \u001b[0m ⋯\n",
       "─────┼──────────────────────────────────────────────────────────────────────────\n",
       "   1 │    65    1.0082   Y              1     false      true     false      f ⋯\n",
       "   2 │    29   -1.29617  N              0     false      true     false      f\n",
       "   3 │    38    1.23072  Y              1     false      true     false      f\n",
       "\u001b[36m                                                               4 columns omitted\u001b[0m"
      ]
     },
     "execution_count": 2,
     "metadata": {},
     "output_type": "execute_result"
    }
   ],
   "source": [
    "## Loading the data\n",
    "chile = CSV.read(\n",
    "    download(\"https://raw.githubusercontent.com/umbertomig/POLI175julia/main/data/chilesurvey.csv\"), \n",
    "    DataFrame,\n",
    "    missingstring = [\"NA\"]\n",
    "); dropmissing!(chile)\n",
    "chile.voteyes = ifelse.(chile.vote .== \"Y\", 1, 0)\n",
    "\n",
    "# One-hot encoding (we will learn a better way to do it later)\n",
    "onehot!(chile, :region);\n",
    "onehot!(chile, :education);\n",
    "onehot!(chile, :sex);\n",
    "\n",
    "# Drop reference categories\n",
    "select!(chile, Not(:region, :income, :population, :sex, :education, :region_C, :education_P, :sex_M))\n",
    "\n",
    "# Checking\n",
    "first(chile, 3)"
   ]
  },
  {
   "cell_type": "markdown",
   "id": "c00f69ff",
   "metadata": {
    "slideshow": {
     "slide_type": "slide"
    }
   },
   "source": [
    "## Class Examples"
   ]
  },
  {
   "cell_type": "code",
   "execution_count": 3,
   "id": "b696a377",
   "metadata": {
    "slideshow": {
     "slide_type": "-"
    }
   },
   "outputs": [
    {
     "data": {
      "text/html": [
       "<div><div style = \"float: left;\"><span>3×9 DataFrame</span></div><div style = \"clear: both;\"></div></div><div class = \"data-frame\" style = \"overflow-x: scroll;\"><table class = \"data-frame\" style = \"margin-bottom: 6px;\"><thead><tr class = \"header\"><th class = \"rowNumber\" style = \"font-weight: bold; text-align: right;\">Row</th><th style = \"text-align: left;\">education</th><th style = \"text-align: left;\">income</th><th style = \"text-align: left;\">young</th><th style = \"text-align: left;\">urban</th><th style = \"text-align: left;\">states</th><th style = \"text-align: left;\">educ_log</th><th style = \"text-align: left;\">income_log</th><th style = \"text-align: left;\">urban_log</th><th style = \"text-align: left;\">young_log</th></tr><tr class = \"subheader headerLastRow\"><th class = \"rowNumber\" style = \"font-weight: bold; text-align: right;\"></th><th title = \"Int64\" style = \"text-align: left;\">Int64</th><th title = \"Int64\" style = \"text-align: left;\">Int64</th><th title = \"Float64\" style = \"text-align: left;\">Float64</th><th title = \"Int64\" style = \"text-align: left;\">Int64</th><th title = \"InlineStrings.String3\" style = \"text-align: left;\">String3</th><th title = \"Float64\" style = \"text-align: left;\">Float64</th><th title = \"Float64\" style = \"text-align: left;\">Float64</th><th title = \"Float64\" style = \"text-align: left;\">Float64</th><th title = \"Float64\" style = \"text-align: left;\">Float64</th></tr></thead><tbody><tr><td class = \"rowNumber\" style = \"font-weight: bold; text-align: right;\">1</td><td style = \"text-align: right;\">189</td><td style = \"text-align: right;\">2824</td><td style = \"text-align: right;\">350.7</td><td style = \"text-align: right;\">508</td><td style = \"text-align: left;\">ME</td><td style = \"text-align: right;\">5.24175</td><td style = \"text-align: right;\">7.94591</td><td style = \"text-align: right;\">6.23048</td><td style = \"text-align: right;\">5.85993</td></tr><tr><td class = \"rowNumber\" style = \"font-weight: bold; text-align: right;\">2</td><td style = \"text-align: right;\">169</td><td style = \"text-align: right;\">3259</td><td style = \"text-align: right;\">345.9</td><td style = \"text-align: right;\">564</td><td style = \"text-align: left;\">NH</td><td style = \"text-align: right;\">5.1299</td><td style = \"text-align: right;\">8.08918</td><td style = \"text-align: right;\">6.33505</td><td style = \"text-align: right;\">5.84615</td></tr><tr><td class = \"rowNumber\" style = \"font-weight: bold; text-align: right;\">3</td><td style = \"text-align: right;\">230</td><td style = \"text-align: right;\">3072</td><td style = \"text-align: right;\">348.5</td><td style = \"text-align: right;\">322</td><td style = \"text-align: left;\">VT</td><td style = \"text-align: right;\">5.43808</td><td style = \"text-align: right;\">8.03008</td><td style = \"text-align: right;\">5.77455</td><td style = \"text-align: right;\">5.85364</td></tr></tbody></table></div>"
      ],
      "text/latex": [
       "\\begin{tabular}{r|ccccccccc}\n",
       "\t& education & income & young & urban & states & educ\\_log & income\\_log & urban\\_log & young\\_log\\\\\n",
       "\t\\hline\n",
       "\t& Int64 & Int64 & Float64 & Int64 & String3 & Float64 & Float64 & Float64 & Float64\\\\\n",
       "\t\\hline\n",
       "\t1 & 189 & 2824 & 350.7 & 508 & ME & 5.24175 & 7.94591 & 6.23048 & 5.85993 \\\\\n",
       "\t2 & 169 & 3259 & 345.9 & 564 & NH & 5.1299 & 8.08918 & 6.33505 & 5.84615 \\\\\n",
       "\t3 & 230 & 3072 & 348.5 & 322 & VT & 5.43808 & 8.03008 & 5.77455 & 5.85364 \\\\\n",
       "\\end{tabular}\n"
      ],
      "text/plain": [
       "\u001b[1m3×9 DataFrame\u001b[0m\n",
       "\u001b[1m Row \u001b[0m│\u001b[1m education \u001b[0m\u001b[1m income \u001b[0m\u001b[1m young   \u001b[0m\u001b[1m urban \u001b[0m\u001b[1m states  \u001b[0m\u001b[1m educ_log \u001b[0m\u001b[1m income_log \u001b[0m\u001b[1m urban\u001b[0m ⋯\n",
       "     │\u001b[90m Int64     \u001b[0m\u001b[90m Int64  \u001b[0m\u001b[90m Float64 \u001b[0m\u001b[90m Int64 \u001b[0m\u001b[90m String3 \u001b[0m\u001b[90m Float64  \u001b[0m\u001b[90m Float64    \u001b[0m\u001b[90m Float\u001b[0m ⋯\n",
       "─────┼──────────────────────────────────────────────────────────────────────────\n",
       "   1 │       189    2824    350.7    508  ME        5.24175     7.94591    6.2 ⋯\n",
       "   2 │       169    3259    345.9    564  NH        5.1299      8.08918    6.3\n",
       "   3 │       230    3072    348.5    322  VT        5.43808     8.03008    5.7\n",
       "\u001b[36m                                                               2 columns omitted\u001b[0m"
      ]
     },
     "execution_count": 3,
     "metadata": {},
     "output_type": "execute_result"
    }
   ],
   "source": [
    "## Education Expenditure Dataset\n",
    "educ = CSV.read(download(\"https://raw.githubusercontent.com/umbertomig/POLI175julia/main/data/educexp.csv\"), DataFrame)\n",
    "\n",
    "# Processing\n",
    "educ.educ_log = log.(educ.education);\n",
    "educ.income_log = log.(educ.income)\n",
    "educ.urban_log = log.(educ.urban)\n",
    "educ.young_log = log.(educ.young)\n",
    "\n",
    "# Checking\n",
    "first(educ, 3)"
   ]
  },
  {
   "cell_type": "markdown",
   "id": "439bf4a1",
   "metadata": {
    "slideshow": {
     "slide_type": "slide"
    }
   },
   "source": [
    "## Class Examples\n",
    "\n",
    "Now, let's go crazy: Add lots of polynomials to our model!"
   ]
  },
  {
   "cell_type": "code",
   "execution_count": 4,
   "id": "638c928d",
   "metadata": {
    "slideshow": {
     "slide_type": "-"
    }
   },
   "outputs": [
    {
     "data": {
      "text/html": [
       "<div><div style = \"float: left;\"><span>3×16 DataFrame</span></div><div style = \"clear: both;\"></div></div><div class = \"data-frame\" style = \"overflow-x: scroll;\"><table class = \"data-frame\" style = \"margin-bottom: 6px;\"><thead><tr class = \"header\"><th class = \"rowNumber\" style = \"font-weight: bold; text-align: right;\">Row</th><th style = \"text-align: left;\">education</th><th style = \"text-align: left;\">income</th><th style = \"text-align: left;\">young</th><th style = \"text-align: left;\">urban</th><th style = \"text-align: left;\">income_log</th><th style = \"text-align: left;\">urban_log</th><th style = \"text-align: left;\">young_log</th><th style = \"text-align: left;\">income_log_square</th><th style = \"text-align: left;\">urban_log_square</th><th style = \"text-align: left;\">young_log_square</th><th style = \"text-align: left;\">income_log_cube</th><th style = \"text-align: left;\">urban_log_cube</th><th style = \"text-align: left;\">young_log_cube</th><th style = \"text-align: left;\">income_log_4th</th><th style = \"text-align: left;\">urban_log_4th</th><th style = \"text-align: left;\">young_log_4th</th></tr><tr class = \"subheader headerLastRow\"><th class = \"rowNumber\" style = \"font-weight: bold; text-align: right;\"></th><th title = \"Int64\" style = \"text-align: left;\">Int64</th><th title = \"Int64\" style = \"text-align: left;\">Int64</th><th title = \"Float64\" style = \"text-align: left;\">Float64</th><th title = \"Int64\" style = \"text-align: left;\">Int64</th><th title = \"Float64\" style = \"text-align: left;\">Float64</th><th title = \"Float64\" style = \"text-align: left;\">Float64</th><th title = \"Float64\" style = \"text-align: left;\">Float64</th><th title = \"Float64\" style = \"text-align: left;\">Float64</th><th title = \"Float64\" style = \"text-align: left;\">Float64</th><th title = \"Float64\" style = \"text-align: left;\">Float64</th><th title = \"Float64\" style = \"text-align: left;\">Float64</th><th title = \"Float64\" style = \"text-align: left;\">Float64</th><th title = \"Float64\" style = \"text-align: left;\">Float64</th><th title = \"Float64\" style = \"text-align: left;\">Float64</th><th title = \"Float64\" style = \"text-align: left;\">Float64</th><th title = \"Float64\" style = \"text-align: left;\">Float64</th></tr></thead><tbody><tr><td class = \"rowNumber\" style = \"font-weight: bold; text-align: right;\">1</td><td style = \"text-align: right;\">189</td><td style = \"text-align: right;\">2824</td><td style = \"text-align: right;\">350.7</td><td style = \"text-align: right;\">508</td><td style = \"text-align: right;\">7.94591</td><td style = \"text-align: right;\">6.23048</td><td style = \"text-align: right;\">5.85993</td><td style = \"text-align: right;\">63.1375</td><td style = \"text-align: right;\">38.8189</td><td style = \"text-align: right;\">34.3388</td><td style = \"text-align: right;\">501.685</td><td style = \"text-align: right;\">241.86</td><td style = \"text-align: right;\">201.223</td><td style = \"text-align: right;\">3986.34</td><td style = \"text-align: right;\">1506.91</td><td style = \"text-align: right;\">1179.15</td></tr><tr><td class = \"rowNumber\" style = \"font-weight: bold; text-align: right;\">2</td><td style = \"text-align: right;\">169</td><td style = \"text-align: right;\">3259</td><td style = \"text-align: right;\">345.9</td><td style = \"text-align: right;\">564</td><td style = \"text-align: right;\">8.08918</td><td style = \"text-align: right;\">6.33505</td><td style = \"text-align: right;\">5.84615</td><td style = \"text-align: right;\">65.4348</td><td style = \"text-align: right;\">40.1329</td><td style = \"text-align: right;\">34.1775</td><td style = \"text-align: right;\">529.313</td><td style = \"text-align: right;\">254.244</td><td style = \"text-align: right;\">199.807</td><td style = \"text-align: right;\">4281.71</td><td style = \"text-align: right;\">1610.65</td><td style = \"text-align: right;\">1168.1</td></tr><tr><td class = \"rowNumber\" style = \"font-weight: bold; text-align: right;\">3</td><td style = \"text-align: right;\">230</td><td style = \"text-align: right;\">3072</td><td style = \"text-align: right;\">348.5</td><td style = \"text-align: right;\">322</td><td style = \"text-align: right;\">8.03008</td><td style = \"text-align: right;\">5.77455</td><td style = \"text-align: right;\">5.85364</td><td style = \"text-align: right;\">64.4823</td><td style = \"text-align: right;\">33.3454</td><td style = \"text-align: right;\">34.2651</td><td style = \"text-align: right;\">517.798</td><td style = \"text-align: right;\">192.555</td><td style = \"text-align: right;\">200.575</td><td style = \"text-align: right;\">4157.96</td><td style = \"text-align: right;\">1111.92</td><td style = \"text-align: right;\">1174.1</td></tr></tbody></table></div>"
      ],
      "text/latex": [
       "\\begin{tabular}{r|ccccccccc}\n",
       "\t& education & income & young & urban & income\\_log & urban\\_log & young\\_log & income\\_log\\_square & \\\\\n",
       "\t\\hline\n",
       "\t& Int64 & Int64 & Float64 & Int64 & Float64 & Float64 & Float64 & Float64 & \\\\\n",
       "\t\\hline\n",
       "\t1 & 189 & 2824 & 350.7 & 508 & 7.94591 & 6.23048 & 5.85993 & 63.1375 & $\\dots$ \\\\\n",
       "\t2 & 169 & 3259 & 345.9 & 564 & 8.08918 & 6.33505 & 5.84615 & 65.4348 & $\\dots$ \\\\\n",
       "\t3 & 230 & 3072 & 348.5 & 322 & 8.03008 & 5.77455 & 5.85364 & 64.4823 & $\\dots$ \\\\\n",
       "\\end{tabular}\n"
      ],
      "text/plain": [
       "\u001b[1m3×16 DataFrame\u001b[0m\n",
       "\u001b[1m Row \u001b[0m│\u001b[1m education \u001b[0m\u001b[1m income \u001b[0m\u001b[1m young   \u001b[0m\u001b[1m urban \u001b[0m\u001b[1m income_log \u001b[0m\u001b[1m urban_log \u001b[0m\u001b[1m young_log \u001b[0m\u001b[1m in\u001b[0m ⋯\n",
       "     │\u001b[90m Int64     \u001b[0m\u001b[90m Int64  \u001b[0m\u001b[90m Float64 \u001b[0m\u001b[90m Int64 \u001b[0m\u001b[90m Float64    \u001b[0m\u001b[90m Float64   \u001b[0m\u001b[90m Float64   \u001b[0m\u001b[90m Fl\u001b[0m ⋯\n",
       "─────┼──────────────────────────────────────────────────────────────────────────\n",
       "   1 │       189    2824    350.7    508     7.94591    6.23048    5.85993     ⋯\n",
       "   2 │       169    3259    345.9    564     8.08918    6.33505    5.84615\n",
       "   3 │       230    3072    348.5    322     8.03008    5.77455    5.85364\n",
       "\u001b[36m                                                               9 columns omitted\u001b[0m"
      ]
     },
     "execution_count": 4,
     "metadata": {},
     "output_type": "execute_result"
    }
   ],
   "source": [
    "## Education Expenditure Dataset\n",
    "educ.income_log_square = educ.income_log .^ 2\n",
    "educ.urban_log_square = educ.urban_log .^ 2\n",
    "educ.young_log_square = educ.young_log .^ 2\n",
    "educ.income_log_cube = educ.income_log .^ 3\n",
    "educ.urban_log_cube = educ.urban_log .^ 3\n",
    "educ.young_log_cube = educ.young_log .^ 3\n",
    "educ.income_log_4th = educ.income_log .^ 4\n",
    "educ.urban_log_4th = educ.urban_log .^ 4\n",
    "educ.young_log_4th = educ.young_log .^ 4\n",
    "\n",
    "educ_y, educ_X = unpack(\n",
    "    educ[:, Not(:states)],\n",
    "    ==(:educ_log);\n",
    "    :educ_log => Continuous, \n",
    "    :income_log => Continuous,\n",
    "    :urban_log => Continuous,\n",
    "    :young_log => Continuous,\n",
    "    :income_log_square => Continuous,\n",
    "    :urban_log_square => Continuous,\n",
    "    :young_log_square => Continuous,\n",
    "    :income_log_cube => Continuous,\n",
    "    :urban_log_cube => Continuous,\n",
    "    :young_log_cube => Continuous,\n",
    "    :income_log_4th => Continuous,\n",
    "    :urban_log_4th => Continuous,\n",
    "    :young_log_4th => Continuous,\n",
    ");    \n",
    "\n",
    "# Checking\n",
    "first(educ_X, 3)"
   ]
  },
  {
   "cell_type": "markdown",
   "id": "e8e97dd5",
   "metadata": {
    "slideshow": {
     "slide_type": "slide"
    }
   },
   "source": [
    "## Classification\n",
    "\n",
    "### K-Nearest Neighbors Classifier\n",
    "\n",
    "Little detour back to talk about a good algorithm for classification (also very intuitive).\n",
    "\n",
    "Given an integer $K$, and a test observation, it says that:\n",
    "\n",
    "$$ \\mathbb{P}(Y = j| X = x_0) \\ = \\ \\dfrac{1}{K}\\sum_{i \\in N_0} I(y_i = j) $$\n",
    "\n",
    "Meaning: classify the observation based on the class of the closest $K$ obs:\n",
    "- The one more frequent is the winner.\n",
    "    \n",
    "*Closest*: Idea of a metric."
   ]
  },
  {
   "cell_type": "markdown",
   "id": "b2cc8989",
   "metadata": {
    "slideshow": {
     "slide_type": "slide"
    }
   },
   "source": [
    "## Classification\n",
    "\n",
    "### K-Nearest Neighbors Classifier\n",
    "\n",
    "![img](https://github.com/umbertomig/POLI175julia/blob/c9b0555e3e97778495bee72746aee43ddf3226d7/img/knn1.png?raw=true)"
   ]
  },
  {
   "cell_type": "markdown",
   "id": "6f917d93",
   "metadata": {
    "slideshow": {
     "slide_type": "slide"
    }
   },
   "source": [
    "## Classification\n",
    "\n",
    "### K-Nearest Neighbors Classifier\n",
    "\n",
    "![img](https://github.com/umbertomig/POLI175julia/blob/c9b0555e3e97778495bee72746aee43ddf3226d7/img/knn2.png?raw=true)"
   ]
  },
  {
   "cell_type": "markdown",
   "id": "c5bd3cb3",
   "metadata": {
    "slideshow": {
     "slide_type": "slide"
    }
   },
   "source": [
    "## Classification\n",
    "\n",
    "### K-Nearest Neighbors Classifier\n",
    "\n",
    "We are going to classify all the types of votes we have in the dataset."
   ]
  },
  {
   "cell_type": "code",
   "execution_count": 5,
   "id": "9eacec81",
   "metadata": {
    "slideshow": {
     "slide_type": "-"
    }
   },
   "outputs": [],
   "source": [
    "y, X = unpack(\n",
    "    chile,\n",
    "    ==(:vote),\n",
    "    !=(:voteyes),\n",
    "    c -> true;\n",
    "    :vote         => Multiclass,\n",
    "    :income_log   => Continuous,\n",
    "    :pop_log      => Continuous,\n",
    "    :age          => Continuous,\n",
    "    :statusquo    => Continuous,\n",
    "    :region_M     => Multiclass,\n",
    "    :region_N     => Multiclass,\n",
    "    :region_S     => Multiclass,\n",
    "    :region_SA    => Multiclass,\n",
    "    :sex_F        => Multiclass,\n",
    "    :education_S  => Multiclass,\n",
    "    :education_PS => Multiclass,\n",
    ");"
   ]
  },
  {
   "cell_type": "markdown",
   "id": "bfda5479",
   "metadata": {
    "slideshow": {
     "slide_type": "slide"
    }
   },
   "source": [
    "## Classification\n",
    "\n",
    "### K-Nearest Neighbors Classifier"
   ]
  },
  {
   "cell_type": "code",
   "execution_count": 12,
   "id": "6b1e2527",
   "metadata": {
    "scrolled": true
   },
   "outputs": [
    {
     "data": {
      "text/plain": [
       "4-element Named Vector{Int64}\n",
       "Dim1  │ \n",
       "──────┼────\n",
       "A     │ 177\n",
       "N     │ 867\n",
       "U     │ 551\n",
       "Y     │ 836"
      ]
     },
     "execution_count": 12,
     "metadata": {},
     "output_type": "execute_result"
    }
   ],
   "source": [
    "FreqTables.freqtable(y)"
   ]
  },
  {
   "cell_type": "code",
   "execution_count": 7,
   "id": "f1111c8c",
   "metadata": {},
   "outputs": [
    {
     "data": {
      "text/html": [
       "<div><div style = \"float: left;\"><span>3×9 DataFrame</span></div><div style = \"clear: both;\"></div></div><div class = \"data-frame\" style = \"overflow-x: scroll;\"><table class = \"data-frame\" style = \"margin-bottom: 6px;\"><thead><tr class = \"header\"><th class = \"rowNumber\" style = \"font-weight: bold; text-align: right;\">Row</th><th style = \"text-align: left;\">age</th><th style = \"text-align: left;\">statusquo</th><th style = \"text-align: left;\">region_M</th><th style = \"text-align: left;\">region_N</th><th style = \"text-align: left;\">region_S</th><th style = \"text-align: left;\">region_SA</th><th style = \"text-align: left;\">education_PS</th><th style = \"text-align: left;\">education_S</th><th style = \"text-align: left;\">sex_F</th></tr><tr class = \"subheader headerLastRow\"><th class = \"rowNumber\" style = \"font-weight: bold; text-align: right;\"></th><th title = \"Float64\" style = \"text-align: left;\">Float64</th><th title = \"Float64\" style = \"text-align: left;\">Float64</th><th title = \"CategoricalArrays.CategoricalValue{Bool, UInt32}\" style = \"text-align: left;\">Cat…</th><th title = \"CategoricalArrays.CategoricalValue{Bool, UInt32}\" style = \"text-align: left;\">Cat…</th><th title = \"CategoricalArrays.CategoricalValue{Bool, UInt32}\" style = \"text-align: left;\">Cat…</th><th title = \"CategoricalArrays.CategoricalValue{Bool, UInt32}\" style = \"text-align: left;\">Cat…</th><th title = \"CategoricalArrays.CategoricalValue{Bool, UInt32}\" style = \"text-align: left;\">Cat…</th><th title = \"CategoricalArrays.CategoricalValue{Bool, UInt32}\" style = \"text-align: left;\">Cat…</th><th title = \"CategoricalArrays.CategoricalValue{Bool, UInt32}\" style = \"text-align: left;\">Cat…</th></tr></thead><tbody><tr><td class = \"rowNumber\" style = \"font-weight: bold; text-align: right;\">1</td><td style = \"text-align: right;\">65.0</td><td style = \"text-align: right;\">1.0082</td><td style = \"text-align: left;\">false</td><td style = \"text-align: left;\">true</td><td style = \"text-align: left;\">false</td><td style = \"text-align: left;\">false</td><td style = \"text-align: left;\">false</td><td style = \"text-align: left;\">false</td><td style = \"text-align: left;\">false</td></tr><tr><td class = \"rowNumber\" style = \"font-weight: bold; text-align: right;\">2</td><td style = \"text-align: right;\">29.0</td><td style = \"text-align: right;\">-1.29617</td><td style = \"text-align: left;\">false</td><td style = \"text-align: left;\">true</td><td style = \"text-align: left;\">false</td><td style = \"text-align: left;\">false</td><td style = \"text-align: left;\">true</td><td style = \"text-align: left;\">false</td><td style = \"text-align: left;\">false</td></tr><tr><td class = \"rowNumber\" style = \"font-weight: bold; text-align: right;\">3</td><td style = \"text-align: right;\">38.0</td><td style = \"text-align: right;\">1.23072</td><td style = \"text-align: left;\">false</td><td style = \"text-align: left;\">true</td><td style = \"text-align: left;\">false</td><td style = \"text-align: left;\">false</td><td style = \"text-align: left;\">false</td><td style = \"text-align: left;\">false</td><td style = \"text-align: left;\">true</td></tr></tbody></table></div>"
      ],
      "text/latex": [
       "\\begin{tabular}{r|ccccccccc}\n",
       "\t& age & statusquo & region\\_M & region\\_N & region\\_S & region\\_SA & education\\_PS & education\\_S & \\\\\n",
       "\t\\hline\n",
       "\t& Float64 & Float64 & Cat… & Cat… & Cat… & Cat… & Cat… & Cat… & \\\\\n",
       "\t\\hline\n",
       "\t1 & 65.0 & 1.0082 & false & true & false & false & false & false & $\\dots$ \\\\\n",
       "\t2 & 29.0 & -1.29617 & false & true & false & false & true & false & $\\dots$ \\\\\n",
       "\t3 & 38.0 & 1.23072 & false & true & false & false & false & false & $\\dots$ \\\\\n",
       "\\end{tabular}\n"
      ],
      "text/plain": [
       "\u001b[1m3×9 DataFrame\u001b[0m\n",
       "\u001b[1m Row \u001b[0m│\u001b[1m age     \u001b[0m\u001b[1m statusquo \u001b[0m\u001b[1m region_M \u001b[0m\u001b[1m region_N \u001b[0m\u001b[1m region_S \u001b[0m\u001b[1m region_SA \u001b[0m\u001b[1m education_\u001b[0m ⋯\n",
       "     │\u001b[90m Float64 \u001b[0m\u001b[90m Float64   \u001b[0m\u001b[90m Cat…     \u001b[0m\u001b[90m Cat…     \u001b[0m\u001b[90m Cat…     \u001b[0m\u001b[90m Cat…      \u001b[0m\u001b[90m Cat…      \u001b[0m ⋯\n",
       "─────┼──────────────────────────────────────────────────────────────────────────\n",
       "   1 │    65.0    1.0082   false     true      false     false      false      ⋯\n",
       "   2 │    29.0   -1.29617  false     true      false     false      true\n",
       "   3 │    38.0    1.23072  false     true      false     false      false\n",
       "\u001b[36m                                                               3 columns omitted\u001b[0m"
      ]
     },
     "execution_count": 7,
     "metadata": {},
     "output_type": "execute_result"
    }
   ],
   "source": [
    "first(X, 3)"
   ]
  },
  {
   "cell_type": "markdown",
   "id": "68dc8491",
   "metadata": {
    "slideshow": {
     "slide_type": "slide"
    }
   },
   "source": [
    "## Classification\n",
    "\n",
    "### K-Nearest Neighbors Classifier\n",
    "\n",
    "The first thing we do is to perform a train-test split.\n",
    "\n",
    "```julia\n",
    "(X_train, X_test), (y_train, y_test) = partition(\n",
    "    (X, y),        ## Data (features, targets)\n",
    "    0.8,           ## Fraction of the data (80% training)\n",
    "    rng = 8574085, ## Random Seed\n",
    "    multi = true,  ## multi: adding features and targets same object\n",
    "    stratify = y   ## Stratify by the target (good to aviod having imbalances)\n",
    ");\n",
    "```"
   ]
  },
  {
   "cell_type": "code",
   "execution_count": 8,
   "id": "2d4871d6",
   "metadata": {
    "slideshow": {
     "slide_type": "-"
    }
   },
   "outputs": [
    {
     "data": {
      "text/plain": [
       "((\u001b[1m1946×9 DataFrame\u001b[0m\n",
       "\u001b[1m  Row \u001b[0m│\u001b[1m age     \u001b[0m\u001b[1m statusquo \u001b[0m\u001b[1m region_M \u001b[0m\u001b[1m region_N \u001b[0m\u001b[1m region_S \u001b[0m\u001b[1m region_SA \u001b[0m\u001b[1m education\u001b[0m ⋯\n",
       "      │\u001b[90m Float64 \u001b[0m\u001b[90m Float64   \u001b[0m\u001b[90m Cat…     \u001b[0m\u001b[90m Cat…     \u001b[0m\u001b[90m Cat…     \u001b[0m\u001b[90m Cat…      \u001b[0m\u001b[90m Cat…     \u001b[0m ⋯\n",
       "──────┼─────────────────────────────────────────────────────────────────────────\n",
       "    1 │    22.0   -0.80408  false     false     false     false      false     ⋯\n",
       "    2 │    58.0   -1.29617  false     false     false     true       true\n",
       "    3 │    44.0   -1.03566  false     false     false     false      false\n",
       "    4 │    58.0   -1.29617  false     false     true      false      false\n",
       "    5 │    45.0   -0.41564  false     false     true      false      false     ⋯\n",
       "    6 │    39.0    0.75719  false     true      false     false      false\n",
       "    7 │    28.0    0.13858  false     false     true      false      false\n",
       "    8 │    44.0    0.47231  false     false     false     true       true\n",
       "    9 │    63.0   -0.84928  false     false     false     false      false     ⋯\n",
       "   10 │    62.0    1.12272  false     false     true      false      false\n",
       "   11 │    37.0   -0.3003   false     false     false     true       false\n",
       "  ⋮   │    ⋮         ⋮         ⋮         ⋮         ⋮          ⋮           ⋮    ⋱\n",
       " 1937 │    26.0   -1.14952  false     false     false     true       false\n",
       " 1938 │    25.0    1.43653  false     false     false     true       false     ⋯\n",
       " 1939 │    60.0   -0.78119  false     false     false     false      false\n",
       " 1940 │    66.0    0.40663  false     false     true      false      false\n",
       " 1941 │    40.0   -0.08067  false     false     false     false      false\n",
       " 1942 │    44.0   -1.2204   false     false     false     true       false     ⋯\n",
       " 1943 │    42.0   -0.62392  false     false     false     true       false\n",
       " 1944 │    70.0    1.39831  false     false     false     false      false\n",
       " 1945 │    60.0    0.6589   false     false     true      false      false\n",
       " 1946 │    45.0   -1.00115  false     false     false     true       false     ⋯\n",
       "\u001b[36m                                                 3 columns and 1925 rows omitted\u001b[0m, \u001b[1m485×9 DataFrame\u001b[0m\n",
       "\u001b[1m Row \u001b[0m│\u001b[1m age     \u001b[0m\u001b[1m statusquo \u001b[0m\u001b[1m region_M \u001b[0m\u001b[1m region_N \u001b[0m\u001b[1m region_S \u001b[0m\u001b[1m region_SA \u001b[0m\u001b[1m education_\u001b[0m ⋯\n",
       "     │\u001b[90m Float64 \u001b[0m\u001b[90m Float64   \u001b[0m\u001b[90m Cat…     \u001b[0m\u001b[90m Cat…     \u001b[0m\u001b[90m Cat…     \u001b[0m\u001b[90m Cat…      \u001b[0m\u001b[90m Cat…      \u001b[0m ⋯\n",
       "─────┼──────────────────────────────────────────────────────────────────────────\n",
       "   1 │    24.0    0.75867  false     false     true      false      true       ⋯\n",
       "   2 │    19.0    0.72102  false     true      false     false      false\n",
       "   3 │    35.0   -1.29617  false     false     false     false      true\n",
       "   4 │    37.0   -0.61342  false     false     true      false      true\n",
       "   5 │    48.0   -0.69361  false     false     false     true       false      ⋯\n",
       "   6 │    26.0   -1.03006  false     true      false     false      false\n",
       "   7 │    67.0    1.54808  false     false     false     true       false\n",
       "   8 │    23.0   -0.78492  false     false     true      false      false\n",
       "   9 │    24.0   -0.89647  false     true      false     false      true       ⋯\n",
       "  10 │    60.0    1.3094   false     false     false     false      false\n",
       "  11 │    56.0   -1.29617  false     false     false     true       false\n",
       "  ⋮  │    ⋮         ⋮         ⋮         ⋮         ⋮          ⋮           ⋮     ⋱\n",
       " 476 │    31.0    1.6051   false     false     false     true       false\n",
       " 477 │    23.0   -1.30366  false     true      false     false      false      ⋯\n",
       " 478 │    55.0   -1.29617  false     false     false     true       false\n",
       " 479 │    36.0    0.2074   false     false     false     false      false\n",
       " 480 │    53.0   -1.29617  false     true      false     false      false\n",
       " 481 │    30.0    1.24478  false     false     false     true       false      ⋯\n",
       " 482 │    30.0   -0.45937  false     false     false     true       false\n",
       " 483 │    70.0    0.07535  false     false     false     true       true\n",
       " 484 │    33.0   -0.86276  false     false     false     true       true\n",
       " 485 │    54.0   -1.30296  false     false     false     true       false      ⋯\n",
       "\u001b[36m                                                  3 columns and 464 rows omitted\u001b[0m), (CategoricalArrays.CategoricalValue{InlineStrings.String1, UInt32}[InlineStrings.String1(\"N\"), InlineStrings.String1(\"N\"), InlineStrings.String1(\"N\"), InlineStrings.String1(\"N\"), InlineStrings.String1(\"U\"), InlineStrings.String1(\"Y\"), InlineStrings.String1(\"U\"), InlineStrings.String1(\"Y\"), InlineStrings.String1(\"N\"), InlineStrings.String1(\"Y\")  …  InlineStrings.String1(\"N\"), InlineStrings.String1(\"Y\"), InlineStrings.String1(\"N\"), InlineStrings.String1(\"A\"), InlineStrings.String1(\"U\"), InlineStrings.String1(\"N\"), InlineStrings.String1(\"Y\"), InlineStrings.String1(\"Y\"), InlineStrings.String1(\"U\"), InlineStrings.String1(\"A\")], CategoricalArrays.CategoricalValue{InlineStrings.String1, UInt32}[InlineStrings.String1(\"U\"), InlineStrings.String1(\"A\"), InlineStrings.String1(\"N\"), InlineStrings.String1(\"N\"), InlineStrings.String1(\"U\"), InlineStrings.String1(\"N\"), InlineStrings.String1(\"Y\"), InlineStrings.String1(\"A\"), InlineStrings.String1(\"N\"), InlineStrings.String1(\"Y\")  …  InlineStrings.String1(\"U\"), InlineStrings.String1(\"N\"), InlineStrings.String1(\"A\"), InlineStrings.String1(\"A\"), InlineStrings.String1(\"N\"), InlineStrings.String1(\"Y\"), InlineStrings.String1(\"U\"), InlineStrings.String1(\"U\"), InlineStrings.String1(\"N\"), InlineStrings.String1(\"U\")]))"
      ]
     },
     "execution_count": 8,
     "metadata": {},
     "output_type": "execute_result"
    }
   ],
   "source": [
    "## Creating the train-test split:\n",
    "(X_train, X_test), (y_train, y_test) = partition((X, y), 0.8, rng = 8574085, multi=true, stratify = y)"
   ]
  },
  {
   "cell_type": "markdown",
   "id": "deedea1e",
   "metadata": {
    "slideshow": {
     "slide_type": "slide"
    }
   },
   "source": [
    "## Classification\n",
    "\n",
    "### K-Nearest Neighbors Classifier\n",
    "\n",
    "Cross-Validating Procedure:\n",
    "\n",
    "```julia\n",
    "# 3-Fold CV\n",
    "cv3 = CV(\n",
    "    nfolds = 3,  ## Number of cross-validating folds\n",
    "    rng = 45321  ## Random seed\n",
    ");\n",
    "```"
   ]
  },
  {
   "cell_type": "code",
   "execution_count": 9,
   "id": "e74ef717",
   "metadata": {
    "scrolled": false,
    "slideshow": {
     "slide_type": "-"
    }
   },
   "outputs": [],
   "source": [
    "# 3-Fold CV\n",
    "cv3 = CV(\n",
    "    nfolds = 3,  ## Number of cross-validating folds\n",
    "    rng = 45321  ## Random seed\n",
    ");"
   ]
  },
  {
   "cell_type": "markdown",
   "id": "5480684f",
   "metadata": {
    "slideshow": {
     "slide_type": "slide"
    }
   },
   "source": [
    "## Classification\n",
    "\n",
    "### K-Nearest Neighbors Classifier\n",
    "\n",
    "Now, let us fit a 10-Nearest Neighborhood model. It takes the 10 observations around each point, and classify it based on these neighbors' classes.\n",
    "\n",
    "```julia\n",
    "## Instantiate the Model\n",
    "knn = NearestNeighborModels.KNNClassifier(K = 10) \n",
    "\n",
    "## Evaluate the Model\n",
    "evaluate(knn,                      ## Model\n",
    "    X_train,                       ## Training features set\n",
    "    y_train,                       ## Training target set\n",
    "    resampling = cv3,              ## Resampling strategy (in this case, 3-Fold CV\n",
    "    measure = [accuracy, f1score], ## Measures\n",
    "    verbosity = 0\n",
    ")\n",
    "```"
   ]
  },
  {
   "cell_type": "code",
   "execution_count": 10,
   "id": "592d8a2c",
   "metadata": {
    "slideshow": {
     "slide_type": "-"
    }
   },
   "outputs": [
    {
     "name": "stderr",
     "output_type": "stream",
     "text": [
      "\u001b[33m\u001b[1m┌ \u001b[22m\u001b[39m\u001b[33m\u001b[1mWarning: \u001b[22m\u001b[39mThe number and/or types of data arguments do not match what the specified model\n",
      "\u001b[33m\u001b[1m│ \u001b[22m\u001b[39msupports. Suppress this type check by specifying `scitype_check_level=0`.\n",
      "\u001b[33m\u001b[1m│ \u001b[22m\u001b[39m\n",
      "\u001b[33m\u001b[1m│ \u001b[22m\u001b[39mRun `@doc NearestNeighborModels.KNNClassifier` to learn more about your model's requirements.\n",
      "\u001b[33m\u001b[1m│ \u001b[22m\u001b[39m\n",
      "\u001b[33m\u001b[1m│ \u001b[22m\u001b[39mCommonly, but non exclusively, supervised models are constructed using the syntax\n",
      "\u001b[33m\u001b[1m│ \u001b[22m\u001b[39m`machine(model, X, y)` or `machine(model, X, y, w)` while most other models are\n",
      "\u001b[33m\u001b[1m│ \u001b[22m\u001b[39mconstructed with `machine(model, X)`.  Here `X` are features, `y` a target, and `w`\n",
      "\u001b[33m\u001b[1m│ \u001b[22m\u001b[39msample or class weights.\n",
      "\u001b[33m\u001b[1m│ \u001b[22m\u001b[39m\n",
      "\u001b[33m\u001b[1m│ \u001b[22m\u001b[39mIn general, data in `machine(model, data...)` is expected to satisfy\n",
      "\u001b[33m\u001b[1m│ \u001b[22m\u001b[39m\n",
      "\u001b[33m\u001b[1m│ \u001b[22m\u001b[39m    scitype(data) <: MLJ.fit_data_scitype(model)\n",
      "\u001b[33m\u001b[1m│ \u001b[22m\u001b[39m\n",
      "\u001b[33m\u001b[1m│ \u001b[22m\u001b[39mIn the present case:\n",
      "\u001b[33m\u001b[1m│ \u001b[22m\u001b[39m\n",
      "\u001b[33m\u001b[1m│ \u001b[22m\u001b[39mscitype(data) = Tuple{Table{Union{AbstractVector{Continuous}, AbstractVector{Multiclass{2}}}}, AbstractVector{Multiclass{4}}}\n",
      "\u001b[33m\u001b[1m│ \u001b[22m\u001b[39m\n",
      "\u001b[33m\u001b[1m│ \u001b[22m\u001b[39mfit_data_scitype(model) = Union{Tuple{Table{<:AbstractVector{<:Continuous}}, AbstractVector{<:Finite}}, Tuple{Table{<:AbstractVector{<:Continuous}}, AbstractVector{<:Finite}, AbstractVector{<:Union{Continuous, Count}}}}\n",
      "\u001b[33m\u001b[1m└ \u001b[22m\u001b[39m\u001b[90m@ MLJBase ~/.julia/packages/MLJBase/mIaqI/src/machines.jl:231\u001b[39m\n"
     ]
    },
    {
     "data": {
      "text/plain": [
       "PerformanceEvaluation object with these fields:\n",
       "  model, measure, operation, measurement, per_fold,\n",
       "  per_observation, fitted_params_per_fold,\n",
       "  report_per_fold, train_test_rows, resampling, repeats\n",
       "Extract:\n",
       "┌────────────┬──────────────┬─────────────┬─────────┬───────────────────────┐\n",
       "│\u001b[22m measure    \u001b[0m│\u001b[22m operation    \u001b[0m│\u001b[22m measurement \u001b[0m│\u001b[22m 1.96*SE \u001b[0m│\u001b[22m per_fold              \u001b[0m│\n",
       "├────────────┼──────────────┼─────────────┼─────────┼───────────────────────┤\n",
       "│ Accuracy() │ predict_mode │ 0.63        │ 0.0349  │ [0.606, 0.629, 0.656] │\n",
       "└────────────┴──────────────┴─────────────┴─────────┴───────────────────────┘\n"
      ]
     },
     "execution_count": 10,
     "metadata": {},
     "output_type": "execute_result"
    }
   ],
   "source": [
    "## Instantiate the Model\n",
    "knn = NearestNeighborModels.KNNClassifier(K = 10) \n",
    "\n",
    "## Evaluate the Model\n",
    "evaluate(knn, X_train, y_train, resampling = cv3, measure = [accuracy], verbosity = 0)"
   ]
  },
  {
   "cell_type": "markdown",
   "id": "2a567235",
   "metadata": {
    "slideshow": {
     "slide_type": "slide"
    }
   },
   "source": [
    "## Classification\n",
    "\n",
    "### K-Nearest Neighbors Classifier\n",
    "\n",
    "To check the accuracy:\n",
    "\n",
    "```julia\n",
    "## Fit a machine on the training set\n",
    "mach1 = machine(knn, X_train, y_train);\n",
    "MLJ.fit!(mach1);\n",
    "\n",
    "## Predict results on the testing set\n",
    "ypred_mode = MLJ.predict_mode(mach1, X_test);\n",
    "\n",
    "## Check accuracy in the testing set\n",
    "accuracy(y_test, ypred_mode)\n",
    "```\n",
    "\n",
    "This strategy is the *training-validation-testing* strategy."
   ]
  },
  {
   "cell_type": "code",
   "execution_count": 13,
   "id": "8adefb81",
   "metadata": {},
   "outputs": [
    {
     "name": "stderr",
     "output_type": "stream",
     "text": [
      "\u001b[33m\u001b[1m┌ \u001b[22m\u001b[39m\u001b[33m\u001b[1mWarning: \u001b[22m\u001b[39mThe number and/or types of data arguments do not match what the specified model\n",
      "\u001b[33m\u001b[1m│ \u001b[22m\u001b[39msupports. Suppress this type check by specifying `scitype_check_level=0`.\n",
      "\u001b[33m\u001b[1m│ \u001b[22m\u001b[39m\n",
      "\u001b[33m\u001b[1m│ \u001b[22m\u001b[39mRun `@doc NearestNeighborModels.KNNClassifier` to learn more about your model's requirements.\n",
      "\u001b[33m\u001b[1m│ \u001b[22m\u001b[39m\n",
      "\u001b[33m\u001b[1m│ \u001b[22m\u001b[39mCommonly, but non exclusively, supervised models are constructed using the syntax\n",
      "\u001b[33m\u001b[1m│ \u001b[22m\u001b[39m`machine(model, X, y)` or `machine(model, X, y, w)` while most other models are\n",
      "\u001b[33m\u001b[1m│ \u001b[22m\u001b[39mconstructed with `machine(model, X)`.  Here `X` are features, `y` a target, and `w`\n",
      "\u001b[33m\u001b[1m│ \u001b[22m\u001b[39msample or class weights.\n",
      "\u001b[33m\u001b[1m│ \u001b[22m\u001b[39m\n",
      "\u001b[33m\u001b[1m│ \u001b[22m\u001b[39mIn general, data in `machine(model, data...)` is expected to satisfy\n",
      "\u001b[33m\u001b[1m│ \u001b[22m\u001b[39m\n",
      "\u001b[33m\u001b[1m│ \u001b[22m\u001b[39m    scitype(data) <: MLJ.fit_data_scitype(model)\n",
      "\u001b[33m\u001b[1m│ \u001b[22m\u001b[39m\n",
      "\u001b[33m\u001b[1m│ \u001b[22m\u001b[39mIn the present case:\n",
      "\u001b[33m\u001b[1m│ \u001b[22m\u001b[39m\n",
      "\u001b[33m\u001b[1m│ \u001b[22m\u001b[39mscitype(data) = Tuple{Table{Union{AbstractVector{Continuous}, AbstractVector{Multiclass{2}}}}, AbstractVector{Multiclass{4}}}\n",
      "\u001b[33m\u001b[1m│ \u001b[22m\u001b[39m\n",
      "\u001b[33m\u001b[1m│ \u001b[22m\u001b[39mfit_data_scitype(model) = Union{Tuple{Table{<:AbstractVector{<:Continuous}}, AbstractVector{<:Finite}}, Tuple{Table{<:AbstractVector{<:Continuous}}, AbstractVector{<:Finite}, AbstractVector{<:Union{Continuous, Count}}}}\n",
      "\u001b[33m\u001b[1m└ \u001b[22m\u001b[39m\u001b[90m@ MLJBase ~/.julia/packages/MLJBase/mIaqI/src/machines.jl:231\u001b[39m\n",
      "\u001b[36m\u001b[1m[ \u001b[22m\u001b[39m\u001b[36m\u001b[1mInfo: \u001b[22m\u001b[39mTraining machine(KNNClassifier(K = 10, …), …).\n"
     ]
    }
   ],
   "source": [
    "mach1 = machine(knn, X_train, y_train);\n",
    "MLJ.fit!(mach1);"
   ]
  },
  {
   "cell_type": "code",
   "execution_count": 14,
   "id": "cfe5022f",
   "metadata": {
    "scrolled": true
   },
   "outputs": [
    {
     "data": {
      "text/plain": [
       "0.6474226804123712"
      ]
     },
     "execution_count": 14,
     "metadata": {},
     "output_type": "execute_result"
    }
   ],
   "source": [
    "# Accuracy\n",
    "ypred_mode = MLJ.predict_mode(mach1, X_test);\n",
    "accuracy(y_test, ypred_mode)"
   ]
  },
  {
   "cell_type": "markdown",
   "id": "f5a27380",
   "metadata": {
    "slideshow": {
     "slide_type": "slide"
    }
   },
   "source": [
    "## Classification\n",
    "\n",
    "### K-Nearest Neighbors Classifier\n",
    "\n",
    "And the Testing-Set confusion matrix now looks interesting:"
   ]
  },
  {
   "cell_type": "code",
   "execution_count": 15,
   "id": "80b8dca8",
   "metadata": {
    "scrolled": true
   },
   "outputs": [
    {
     "data": {
      "text/plain": [
       "          ┌───────────────┐\n",
       "          │ Ground Truth  │\n",
       "┌─────────┼───┬───┬───┬───┤\n",
       "│Predicted│ A │ N │ U │ Y │\n",
       "├─────────┼───┼───┼───┼───┤\n",
       "│    A    │ 0 │ 1 │ 4 │ 0 │\n",
       "├─────────┼───┼───┼───┼───┤\n",
       "│    N    │14 │152│36 │19 │\n",
       "├─────────┼───┼───┼───┼───┤\n",
       "│    U    │ 8 │10 │32 │18 │\n",
       "├─────────┼───┼───┼───┼───┤\n",
       "│    Y    │13 │10 │38 │130│\n",
       "└─────────┴───┴───┴───┴───┘\n"
      ]
     },
     "execution_count": 15,
     "metadata": {},
     "output_type": "execute_result"
    }
   ],
   "source": [
    "confusion_matrix(ypred_mode, y_test) "
   ]
  },
  {
   "cell_type": "markdown",
   "id": "77bca43c",
   "metadata": {
    "slideshow": {
     "slide_type": "slide"
    }
   },
   "source": [
    "## Classification\n",
    "\n",
    "### K-Nearest Neighbors Classifier\n",
    "\n",
    "**Grid Search**\n",
    "\n",
    "One last thing we do is to search for the best $K$ that maximizes (minimizes) some measure of interest. This is called Grid-Search.\n",
    "\n",
    "1. Instantiate the model\n",
    "1. Create the range of parameters to be searched\n",
    "1. Instantiate the self-tuning model (this creates a model that searches for the best hyperparameters automatically)\n",
    "1. Fit the machine\n",
    "\n",
    "Let us run this step-by-step."
   ]
  },
  {
   "cell_type": "code",
   "execution_count": 16,
   "id": "fc48e235",
   "metadata": {},
   "outputs": [
    {
     "data": {
      "text/plain": [
       "KNNClassifier(\n",
       "  K = 5, \n",
       "  algorithm = :kdtree, \n",
       "  metric = Distances.Euclidean(0.0), \n",
       "  leafsize = 10, \n",
       "  reorder = true, \n",
       "  weights = NearestNeighborModels.Uniform())"
      ]
     },
     "execution_count": 16,
     "metadata": {},
     "output_type": "execute_result"
    }
   ],
   "source": [
    "# Instantiate tuning KNN model\n",
    "knn = NearestNeighborModels.KNNClassifier()"
   ]
  },
  {
   "cell_type": "markdown",
   "id": "4db7d286",
   "metadata": {
    "slideshow": {
     "slide_type": "slide"
    }
   },
   "source": [
    "## Classification\n",
    "\n",
    "### K-Nearest Neighbors Classifier\n",
    "\n",
    "**Grid Search**"
   ]
  },
  {
   "cell_type": "code",
   "execution_count": 17,
   "id": "ad70e8ae",
   "metadata": {},
   "outputs": [
    {
     "data": {
      "text/plain": [
       "NumericRange(5 ≤ K ≤ 55; origin=30.0, unit=25.0)"
      ]
     },
     "execution_count": 17,
     "metadata": {},
     "output_type": "execute_result"
    }
   ],
   "source": [
    "# Instantiate the range of K for our search 5 to 55\n",
    "Ktune = range(knn, :K, lower=5, upper=55)"
   ]
  },
  {
   "cell_type": "markdown",
   "id": "97a620f8",
   "metadata": {
    "slideshow": {
     "slide_type": "slide"
    }
   },
   "source": [
    "## Classification\n",
    "\n",
    "### K-Nearest Neighbors Classifier\n",
    "\n",
    "**Grid Search**"
   ]
  },
  {
   "cell_type": "code",
   "execution_count": 18,
   "id": "6dbaff01",
   "metadata": {
    "scrolled": true,
    "tags": []
   },
   "outputs": [
    {
     "data": {
      "text/plain": [
       "ProbabilisticTunedModel(\n",
       "  model = KNNClassifier(\n",
       "        K = 5, \n",
       "        algorithm = :kdtree, \n",
       "        metric = Distances.Euclidean(0.0), \n",
       "        leafsize = 10, \n",
       "        reorder = true, \n",
       "        weights = NearestNeighborModels.Uniform()), \n",
       "  tuning = Grid(\n",
       "        goal = nothing, \n",
       "        resolution = 25, \n",
       "        shuffle = true, \n",
       "        rng = Random.MersenneTwister(598745978)), \n",
       "  resampling = CV(\n",
       "        nfolds = 3, \n",
       "        shuffle = true, \n",
       "        rng = Random.MersenneTwister(45321, (0, 3006, 2004, 720))), \n",
       "  measure = Accuracy(), \n",
       "  weights = nothing, \n",
       "  class_weights = nothing, \n",
       "  operation = nothing, \n",
       "  range = NumericRange(5 ≤ K ≤ 55; origin=30.0, unit=25.0), \n",
       "  selection_heuristic = MLJTuning.NaiveSelection(nothing), \n",
       "  train_best = true, \n",
       "  repeats = 1, \n",
       "  n = nothing, \n",
       "  acceleration = CPU1{Nothing}(nothing), \n",
       "  acceleration_resampling = CPU1{Nothing}(nothing), \n",
       "  check_measure = true, \n",
       "  cache = true)"
      ]
     },
     "execution_count": 18,
     "metadata": {},
     "output_type": "execute_result"
    }
   ],
   "source": [
    "# Instantiate the Self-Tuning Model\n",
    "self_tuning_knn = TunedModel(\n",
    "    model = knn,            ## Model\n",
    "    resampling = cv3,       ## Resampling strategy (use our 3-Fold CV)\n",
    "    tuning = Grid(          ## Tuning method\n",
    "        resolution = 25,       ## Tuning resolution (how to divide the range of searched parameters)\n",
    "        rng = 598745978        ## Random seed\n",
    "    ),\n",
    "    range = Ktune,          ## Hyperparameter to be tuned\n",
    "    measure = accuracy      ## Measure to focus when tuning the hyperparameter\n",
    ")"
   ]
  },
  {
   "cell_type": "markdown",
   "id": "d3da15d6",
   "metadata": {
    "slideshow": {
     "slide_type": "slide"
    }
   },
   "source": [
    "## Classification\n",
    "\n",
    "### K-Nearest Neighbors Classifier\n",
    "\n",
    "**Grid Search**"
   ]
  },
  {
   "cell_type": "code",
   "execution_count": 19,
   "id": "4eff10f0",
   "metadata": {},
   "outputs": [
    {
     "name": "stderr",
     "output_type": "stream",
     "text": [
      "\u001b[36m\u001b[1m[ \u001b[22m\u001b[39m\u001b[36m\u001b[1mInfo: \u001b[22m\u001b[39mTraining machine(ProbabilisticTunedModel(model = KNNClassifier(K = 5, …), …), …).\n",
      "\u001b[36m\u001b[1m[ \u001b[22m\u001b[39m\u001b[36m\u001b[1mInfo: \u001b[22m\u001b[39mAttempting to evaluate 25 models.\n",
      "\u001b[33mEvaluating over 25 metamodels:   0%[>                        ]  ETA: N/A\u001b[39m\u001b[33m\u001b[1m┌ \u001b[22m\u001b[39m\u001b[33m\u001b[1mWarning: \u001b[22m\u001b[39mThe number and/or types of data arguments do not match what the specified model\n",
      "\u001b[33m\u001b[1m│ \u001b[22m\u001b[39msupports. Suppress this type check by specifying `scitype_check_level=0`.\n",
      "\u001b[33m\u001b[1m│ \u001b[22m\u001b[39m\n",
      "\u001b[33m\u001b[1m│ \u001b[22m\u001b[39mRun `@doc NearestNeighborModels.KNNClassifier` to learn more about your model's requirements.\n",
      "\u001b[33m\u001b[1m│ \u001b[22m\u001b[39m\n",
      "\u001b[33m\u001b[1m│ \u001b[22m\u001b[39mCommonly, but non exclusively, supervised models are constructed using the syntax\n",
      "\u001b[33m\u001b[1m│ \u001b[22m\u001b[39m`machine(model, X, y)` or `machine(model, X, y, w)` while most other models are\n",
      "\u001b[33m\u001b[1m│ \u001b[22m\u001b[39mconstructed with `machine(model, X)`.  Here `X` are features, `y` a target, and `w`\n",
      "\u001b[33m\u001b[1m│ \u001b[22m\u001b[39msample or class weights.\n",
      "\u001b[33m\u001b[1m│ \u001b[22m\u001b[39m\n",
      "\u001b[33m\u001b[1m│ \u001b[22m\u001b[39mIn general, data in `machine(model, data...)` is expected to satisfy\n",
      "\u001b[33m\u001b[1m│ \u001b[22m\u001b[39m\n",
      "\u001b[33m\u001b[1m│ \u001b[22m\u001b[39m    scitype(data) <: MLJ.fit_data_scitype(model)\n",
      "\u001b[33m\u001b[1m│ \u001b[22m\u001b[39m\n",
      "\u001b[33m\u001b[1m│ \u001b[22m\u001b[39mIn the present case:\n",
      "\u001b[33m\u001b[1m│ \u001b[22m\u001b[39m\n",
      "\u001b[33m\u001b[1m│ \u001b[22m\u001b[39mscitype(data) = Tuple{Table{Union{AbstractVector{Continuous}, AbstractVector{Multiclass{2}}}}, AbstractVector{Multiclass{4}}}\n",
      "\u001b[33m\u001b[1m│ \u001b[22m\u001b[39m\n",
      "\u001b[33m\u001b[1m│ \u001b[22m\u001b[39mfit_data_scitype(model) = Union{Tuple{Table{<:AbstractVector{<:Continuous}}, AbstractVector{<:Finite}}, Tuple{Table{<:AbstractVector{<:Continuous}}, AbstractVector{<:Finite}, AbstractVector{<:Union{Continuous, Count}}}}\n",
      "\u001b[33m\u001b[1m└ \u001b[22m\u001b[39m\u001b[90m@ MLJBase ~/.julia/packages/MLJBase/mIaqI/src/machines.jl:231\u001b[39m\n",
      "\u001b[33mEvaluating over 25 metamodels: 100%[=========================] Time: 0:00:01\u001b[39m\n",
      "\u001b[33m\u001b[1m┌ \u001b[22m\u001b[39m\u001b[33m\u001b[1mWarning: \u001b[22m\u001b[39mThe number and/or types of data arguments do not match what the specified model\n",
      "\u001b[33m\u001b[1m│ \u001b[22m\u001b[39msupports. Suppress this type check by specifying `scitype_check_level=0`.\n",
      "\u001b[33m\u001b[1m│ \u001b[22m\u001b[39m\n",
      "\u001b[33m\u001b[1m│ \u001b[22m\u001b[39mRun `@doc NearestNeighborModels.KNNClassifier` to learn more about your model's requirements.\n",
      "\u001b[33m\u001b[1m│ \u001b[22m\u001b[39m\n",
      "\u001b[33m\u001b[1m│ \u001b[22m\u001b[39mCommonly, but non exclusively, supervised models are constructed using the syntax\n",
      "\u001b[33m\u001b[1m│ \u001b[22m\u001b[39m`machine(model, X, y)` or `machine(model, X, y, w)` while most other models are\n",
      "\u001b[33m\u001b[1m│ \u001b[22m\u001b[39mconstructed with `machine(model, X)`.  Here `X` are features, `y` a target, and `w`\n",
      "\u001b[33m\u001b[1m│ \u001b[22m\u001b[39msample or class weights.\n",
      "\u001b[33m\u001b[1m│ \u001b[22m\u001b[39m\n",
      "\u001b[33m\u001b[1m│ \u001b[22m\u001b[39mIn general, data in `machine(model, data...)` is expected to satisfy\n",
      "\u001b[33m\u001b[1m│ \u001b[22m\u001b[39m\n",
      "\u001b[33m\u001b[1m│ \u001b[22m\u001b[39m    scitype(data) <: MLJ.fit_data_scitype(model)\n",
      "\u001b[33m\u001b[1m│ \u001b[22m\u001b[39m\n",
      "\u001b[33m\u001b[1m│ \u001b[22m\u001b[39mIn the present case:\n",
      "\u001b[33m\u001b[1m│ \u001b[22m\u001b[39m\n",
      "\u001b[33m\u001b[1m│ \u001b[22m\u001b[39mscitype(data) = Tuple{Table{Union{AbstractVector{Continuous}, AbstractVector{Multiclass{2}}}}, AbstractVector{Multiclass{4}}}\n",
      "\u001b[33m\u001b[1m│ \u001b[22m\u001b[39m\n",
      "\u001b[33m\u001b[1m│ \u001b[22m\u001b[39mfit_data_scitype(model) = Union{Tuple{Table{<:AbstractVector{<:Continuous}}, AbstractVector{<:Finite}}, Tuple{Table{<:AbstractVector{<:Continuous}}, AbstractVector{<:Finite}, AbstractVector{<:Union{Continuous, Count}}}}\n",
      "\u001b[33m\u001b[1m└ \u001b[22m\u001b[39m\u001b[90m@ MLJBase ~/.julia/packages/MLJBase/mIaqI/src/machines.jl:231\u001b[39m\n"
     ]
    }
   ],
   "source": [
    "# Fitting the self-tuning machine\n",
    "mach2 = machine(self_tuning_knn, X_train, y_train, scitype_check_level = 0);\n",
    "MLJ.fit!(mach2);"
   ]
  },
  {
   "cell_type": "markdown",
   "id": "376aebef",
   "metadata": {
    "slideshow": {
     "slide_type": "slide"
    }
   },
   "source": [
    "## Classification\n",
    "\n",
    "### K-Nearest Neighbors Classifier\n",
    "\n",
    "**Grid Search**"
   ]
  },
  {
   "cell_type": "code",
   "execution_count": 20,
   "id": "ce0691ab",
   "metadata": {},
   "outputs": [
    {
     "data": {
      "image/png": "[encoded data removed]",
      "image/svg+xml": [
       "<?xml version=\"1.0\" encoding=\"utf-8\"?>\n",
       "<svg xmlns=\"http://www.w3.org/2000/svg\" xmlns:xlink=\"http://www.w3.org/1999/xlink\" width=\"275\" height=\"250\" viewBox=\"0 0 1100 1000\">\n",
       "<defs>\n",
       "  <clipPath id=\"clip000\">\n",
       "    <rect x=\"0\" y=\"0\" width=\"1100\" height=\"1000\"/>\n",
       "  </clipPath>\n",
       "</defs>\n",
       "<path clip-path=\"url(#clip000)\" d=\"M0 1000 L1100 1000 L1100 0 L0 0  Z\" fill=\"#ffffff\" fill-rule=\"evenodd\" fill-opacity=\"1\"/>\n",
       "<defs>\n",
       "  <clipPath id=\"clip001\">\n",
       "    <rect x=\"220\" y=\"10\" width=\"771\" height=\"771\"/>\n",
       "  </clipPath>\n",
       "</defs>\n",
       "<path clip-path=\"url(#clip000)\" d=\"M254.308 799.333 L1052.76 799.333 L1052.76 47.2441 L254.308 47.2441  Z\" fill=\"#ffffff\" fill-rule=\"evenodd\" fill-opacity=\"1\"/>\n",
       "<defs>\n",
       "  <clipPath id=\"clip002\">\n",
       "    <rect x=\"254\" y=\"47\" width=\"799\" height=\"753\"/>\n",
       "  </clipPath>\n",
       "</defs>\n",
       "<polyline clip-path=\"url(#clip002)\" style=\"stroke:#000000; stroke-linecap:round; stroke-linejoin:round; stroke-width:2; stroke-opacity:0.1; fill:none\" points=\"352.231,799.333 352.231,47.2441 \"/>\n",
       "<polyline clip-path=\"url(#clip002)\" style=\"stroke:#000000; stroke-linecap:round; stroke-linejoin:round; stroke-width:2; stroke-opacity:0.1; fill:none\" points=\"502.882,799.333 502.882,47.2441 \"/>\n",
       "<polyline clip-path=\"url(#clip002)\" style=\"stroke:#000000; stroke-linecap:round; stroke-linejoin:round; stroke-width:2; stroke-opacity:0.1; fill:none\" points=\"653.532,799.333 653.532,47.2441 \"/>\n",
       "<polyline clip-path=\"url(#clip002)\" style=\"stroke:#000000; stroke-linecap:round; stroke-linejoin:round; stroke-width:2; stroke-opacity:0.1; fill:none\" points=\"804.183,799.333 804.183,47.2441 \"/>\n",
       "<polyline clip-path=\"url(#clip002)\" style=\"stroke:#000000; stroke-linecap:round; stroke-linejoin:round; stroke-width:2; stroke-opacity:0.1; fill:none\" points=\"954.833,799.333 954.833,47.2441 \"/>\n",
       "<polyline clip-path=\"url(#clip000)\" style=\"stroke:#000000; stroke-linecap:round; stroke-linejoin:round; stroke-width:4; stroke-opacity:1; fill:none\" points=\"254.308,799.333 1052.76,799.333 \"/>\n",
       "<polyline clip-path=\"url(#clip000)\" style=\"stroke:#000000; stroke-linecap:round; stroke-linejoin:round; stroke-width:4; stroke-opacity:1; fill:none\" points=\"254.308,47.2441 1052.76,47.2441 \"/>\n",
       "<polyline clip-path=\"url(#clip000)\" style=\"stroke:#000000; stroke-linecap:round; stroke-linejoin:round; stroke-width:4; stroke-opacity:1; fill:none\" points=\"352.231,799.333 352.231,780.435 \"/>\n",
       "<polyline clip-path=\"url(#clip000)\" style=\"stroke:#000000; stroke-linecap:round; stroke-linejoin:round; stroke-width:4; stroke-opacity:1; fill:none\" points=\"502.882,799.333 502.882,780.435 \"/>\n",
       "<polyline clip-path=\"url(#clip000)\" style=\"stroke:#000000; stroke-linecap:round; stroke-linejoin:round; stroke-width:4; stroke-opacity:1; fill:none\" points=\"653.532,799.333 653.532,780.435 \"/>\n",
       "<polyline clip-path=\"url(#clip000)\" style=\"stroke:#000000; stroke-linecap:round; stroke-linejoin:round; stroke-width:4; stroke-opacity:1; fill:none\" points=\"804.183,799.333 804.183,780.435 \"/>\n",
       "<polyline clip-path=\"url(#clip000)\" style=\"stroke:#000000; stroke-linecap:round; stroke-linejoin:round; stroke-width:4; stroke-opacity:1; fill:none\" points=\"954.833,799.333 954.833,780.435 \"/>\n",
       "<path clip-path=\"url(#clip000)\" d=\"M326.919 847.397 L334.557 847.397 L334.557 821.032 L326.247 822.698 L326.247 818.439 L334.511 816.773 L339.187 816.773 L339.187 847.397 L346.826 847.397 L346.826 851.333 L326.919 851.333 L326.919 847.397 Z\" fill=\"#000000\" fill-rule=\"nonzero\" fill-opacity=\"1\" /><path clip-path=\"url(#clip000)\" d=\"M366.27 819.851 Q362.659 819.851 360.83 823.416 Q359.025 826.958 359.025 834.087 Q359.025 841.194 360.83 844.759 Q362.659 848.3 366.27 848.3 Q369.904 848.3 371.71 844.759 Q373.539 841.194 373.539 834.087 Q373.539 826.958 371.71 823.416 Q369.904 819.851 366.27 819.851 M366.27 816.148 Q372.08 816.148 375.136 820.754 Q378.215 825.337 378.215 834.087 Q378.215 842.814 375.136 847.421 Q372.08 852.004 366.27 852.004 Q360.46 852.004 357.381 847.421 Q354.326 842.814 354.326 834.087 Q354.326 825.337 357.381 820.754 Q360.46 816.148 366.27 816.148 Z\" fill=\"#000000\" fill-rule=\"nonzero\" fill-opacity=\"1\" /><path clip-path=\"url(#clip000)\" d=\"M481.655 847.397 L497.974 847.397 L497.974 851.333 L476.03 851.333 L476.03 847.397 Q478.692 844.643 483.275 840.013 Q487.882 835.36 489.062 834.018 Q491.307 831.495 492.187 829.759 Q493.09 827.999 493.09 826.31 Q493.09 823.555 491.145 821.819 Q489.224 820.083 486.122 820.083 Q483.923 820.083 481.47 820.847 Q479.039 821.611 476.261 823.161 L476.261 818.439 Q479.085 817.305 481.539 816.726 Q483.993 816.148 486.03 816.148 Q491.4 816.148 494.595 818.833 Q497.789 821.518 497.789 826.009 Q497.789 828.138 496.979 830.06 Q496.192 831.958 494.085 834.55 Q493.507 835.222 490.405 838.439 Q487.303 841.634 481.655 847.397 Z\" fill=\"#000000\" fill-rule=\"nonzero\" fill-opacity=\"1\" /><path clip-path=\"url(#clip000)\" d=\"M517.789 819.851 Q514.178 819.851 512.349 823.416 Q510.543 826.958 510.543 834.087 Q510.543 841.194 512.349 844.759 Q514.178 848.3 517.789 848.3 Q521.423 848.3 523.229 844.759 Q525.057 841.194 525.057 834.087 Q525.057 826.958 523.229 823.416 Q521.423 819.851 517.789 819.851 M517.789 816.148 Q523.599 816.148 526.655 820.754 Q529.733 825.337 529.733 834.087 Q529.733 842.814 526.655 847.421 Q523.599 852.004 517.789 852.004 Q511.979 852.004 508.9 847.421 Q505.844 842.814 505.844 834.087 Q505.844 825.337 508.9 820.754 Q511.979 816.148 517.789 816.148 Z\" fill=\"#000000\" fill-rule=\"nonzero\" fill-opacity=\"1\" /><path clip-path=\"url(#clip000)\" d=\"M642.375 832.698 Q645.731 833.416 647.606 835.685 Q649.504 837.953 649.504 841.286 Q649.504 846.402 645.986 849.203 Q642.467 852.004 635.986 852.004 Q633.81 852.004 631.495 851.564 Q629.203 851.147 626.75 850.291 L626.75 845.777 Q628.694 846.911 631.009 847.49 Q633.324 848.069 635.847 848.069 Q640.245 848.069 642.537 846.333 Q644.852 844.596 644.852 841.286 Q644.852 838.231 642.699 836.518 Q640.569 834.782 636.75 834.782 L632.722 834.782 L632.722 830.939 L636.935 830.939 Q640.384 830.939 642.213 829.573 Q644.041 828.185 644.041 825.592 Q644.041 822.93 642.143 821.518 Q640.268 820.083 636.75 820.083 Q634.828 820.083 632.629 820.499 Q630.43 820.916 627.791 821.796 L627.791 817.629 Q630.453 816.888 632.768 816.518 Q635.106 816.148 637.166 816.148 Q642.49 816.148 645.592 818.578 Q648.694 820.986 648.694 825.106 Q648.694 827.976 647.051 829.967 Q645.407 831.935 642.375 832.698 Z\" fill=\"#000000\" fill-rule=\"nonzero\" fill-opacity=\"1\" /><path clip-path=\"url(#clip000)\" d=\"M668.37 819.851 Q664.759 819.851 662.93 823.416 Q661.125 826.958 661.125 834.087 Q661.125 841.194 662.93 844.759 Q664.759 848.3 668.37 848.3 Q672.004 848.3 673.81 844.759 Q675.638 841.194 675.638 834.087 Q675.638 826.958 673.81 823.416 Q672.004 819.851 668.37 819.851 M668.37 816.148 Q674.18 816.148 677.236 820.754 Q680.314 825.337 680.314 834.087 Q680.314 842.814 677.236 847.421 Q674.18 852.004 668.37 852.004 Q662.56 852.004 659.481 847.421 Q656.426 842.814 656.426 834.087 Q656.426 825.337 659.481 820.754 Q662.56 816.148 668.37 816.148 Z\" fill=\"#000000\" fill-rule=\"nonzero\" fill-opacity=\"1\" /><path clip-path=\"url(#clip000)\" d=\"M792.354 820.847 L780.548 839.296 L792.354 839.296 L792.354 820.847 M791.127 816.773 L797.007 816.773 L797.007 839.296 L801.937 839.296 L801.937 843.184 L797.007 843.184 L797.007 851.333 L792.354 851.333 L792.354 843.184 L776.752 843.184 L776.752 838.671 L791.127 816.773 Z\" fill=\"#000000\" fill-rule=\"nonzero\" fill-opacity=\"1\" /><path clip-path=\"url(#clip000)\" d=\"M819.669 819.851 Q816.057 819.851 814.229 823.416 Q812.423 826.958 812.423 834.087 Q812.423 841.194 814.229 844.759 Q816.057 848.3 819.669 848.3 Q823.303 848.3 825.108 844.759 Q826.937 841.194 826.937 834.087 Q826.937 826.958 825.108 823.416 Q823.303 819.851 819.669 819.851 M819.669 816.148 Q825.479 816.148 828.534 820.754 Q831.613 825.337 831.613 834.087 Q831.613 842.814 828.534 847.421 Q825.479 852.004 819.669 852.004 Q813.858 852.004 810.78 847.421 Q807.724 842.814 807.724 834.087 Q807.724 825.337 810.78 820.754 Q813.858 816.148 819.669 816.148 Z\" fill=\"#000000\" fill-rule=\"nonzero\" fill-opacity=\"1\" /><path clip-path=\"url(#clip000)\" d=\"M929.532 816.773 L947.889 816.773 L947.889 820.708 L933.815 820.708 L933.815 829.18 Q934.833 828.833 935.852 828.671 Q936.87 828.485 937.889 828.485 Q943.676 828.485 947.055 831.657 Q950.435 834.828 950.435 840.245 Q950.435 845.823 946.963 848.925 Q943.491 852.004 937.171 852.004 Q934.995 852.004 932.727 851.633 Q930.481 851.263 928.074 850.522 L928.074 845.823 Q930.157 846.958 932.379 847.513 Q934.602 848.069 937.079 848.069 Q941.083 848.069 943.421 845.962 Q945.759 843.856 945.759 840.245 Q945.759 836.634 943.421 834.527 Q941.083 832.421 937.079 832.421 Q935.204 832.421 933.329 832.837 Q931.477 833.254 929.532 834.134 L929.532 816.773 Z\" fill=\"#000000\" fill-rule=\"nonzero\" fill-opacity=\"1\" /><path clip-path=\"url(#clip000)\" d=\"M969.648 819.851 Q966.037 819.851 964.208 823.416 Q962.402 826.958 962.402 834.087 Q962.402 841.194 964.208 844.759 Q966.037 848.3 969.648 848.3 Q973.282 848.3 975.088 844.759 Q976.916 841.194 976.916 834.087 Q976.916 826.958 975.088 823.416 Q973.282 819.851 969.648 819.851 M969.648 816.148 Q975.458 816.148 978.513 820.754 Q981.592 825.337 981.592 834.087 Q981.592 842.814 978.513 847.421 Q975.458 852.004 969.648 852.004 Q963.838 852.004 960.759 847.421 Q957.703 842.814 957.703 834.087 Q957.703 825.337 960.759 820.754 Q963.838 816.148 969.648 816.148 Z\" fill=\"#000000\" fill-rule=\"nonzero\" fill-opacity=\"1\" /><path clip-path=\"url(#clip000)\" d=\"M634.674 877.177 L641.103 877.177 L641.103 897.26 L662.428 877.177 L670.704 877.177 L647.119 899.329 L672.39 924.697 L663.924 924.697 L641.103 901.812 L641.103 924.697 L634.674 924.697 L634.674 877.177 Z\" fill=\"#000000\" fill-rule=\"nonzero\" fill-opacity=\"1\" /><polyline clip-path=\"url(#clip002)\" style=\"stroke:#000000; stroke-linecap:round; stroke-linejoin:round; stroke-width:2; stroke-opacity:0.1; fill:none\" points=\"254.308,702.838 1052.76,702.838 \"/>\n",
       "<polyline clip-path=\"url(#clip002)\" style=\"stroke:#000000; stroke-linecap:round; stroke-linejoin:round; stroke-width:2; stroke-opacity:0.1; fill:none\" points=\"254.308,564.766 1052.76,564.766 \"/>\n",
       "<polyline clip-path=\"url(#clip002)\" style=\"stroke:#000000; stroke-linecap:round; stroke-linejoin:round; stroke-width:2; stroke-opacity:0.1; fill:none\" points=\"254.308,426.694 1052.76,426.694 \"/>\n",
       "<polyline clip-path=\"url(#clip002)\" style=\"stroke:#000000; stroke-linecap:round; stroke-linejoin:round; stroke-width:2; stroke-opacity:0.1; fill:none\" points=\"254.308,288.622 1052.76,288.622 \"/>\n",
       "<polyline clip-path=\"url(#clip002)\" style=\"stroke:#000000; stroke-linecap:round; stroke-linejoin:round; stroke-width:2; stroke-opacity:0.1; fill:none\" points=\"254.308,150.55 1052.76,150.55 \"/>\n",
       "<polyline clip-path=\"url(#clip000)\" style=\"stroke:#000000; stroke-linecap:round; stroke-linejoin:round; stroke-width:4; stroke-opacity:1; fill:none\" points=\"254.308,799.333 254.308,47.2441 \"/>\n",
       "<polyline clip-path=\"url(#clip000)\" style=\"stroke:#000000; stroke-linecap:round; stroke-linejoin:round; stroke-width:4; stroke-opacity:1; fill:none\" points=\"1052.76,799.333 1052.76,47.2441 \"/>\n",
       "<polyline clip-path=\"url(#clip000)\" style=\"stroke:#000000; stroke-linecap:round; stroke-linejoin:round; stroke-width:4; stroke-opacity:1; fill:none\" points=\"254.308,702.838 273.206,702.838 \"/>\n",
       "<polyline clip-path=\"url(#clip000)\" style=\"stroke:#000000; stroke-linecap:round; stroke-linejoin:round; stroke-width:4; stroke-opacity:1; fill:none\" points=\"254.308,564.766 273.206,564.766 \"/>\n",
       "<polyline clip-path=\"url(#clip000)\" style=\"stroke:#000000; stroke-linecap:round; stroke-linejoin:round; stroke-width:4; stroke-opacity:1; fill:none\" points=\"254.308,426.694 273.206,426.694 \"/>\n",
       "<polyline clip-path=\"url(#clip000)\" style=\"stroke:#000000; stroke-linecap:round; stroke-linejoin:round; stroke-width:4; stroke-opacity:1; fill:none\" points=\"254.308,288.622 273.206,288.622 \"/>\n",
       "<polyline clip-path=\"url(#clip000)\" style=\"stroke:#000000; stroke-linecap:round; stroke-linejoin:round; stroke-width:4; stroke-opacity:1; fill:none\" points=\"254.308,150.55 273.206,150.55 \"/>\n",
       "<path clip-path=\"url(#clip000)\" d=\"M150.471 688.637 Q146.86 688.637 145.031 692.202 Q143.225 695.743 143.225 702.873 Q143.225 709.979 145.031 713.544 Q146.86 717.086 150.471 717.086 Q154.105 717.086 155.91 713.544 Q157.739 709.979 157.739 702.873 Q157.739 695.743 155.91 692.202 Q154.105 688.637 150.471 688.637 M150.471 684.933 Q156.281 684.933 159.336 689.54 Q162.415 694.123 162.415 702.873 Q162.415 711.6 159.336 716.206 Q156.281 720.789 150.471 720.789 Q144.66 720.789 141.582 716.206 Q138.526 711.6 138.526 702.873 Q138.526 694.123 141.582 689.54 Q144.66 684.933 150.471 684.933 Z\" fill=\"#000000\" fill-rule=\"nonzero\" fill-opacity=\"1\" /><path clip-path=\"url(#clip000)\" d=\"M170.633 714.239 L175.517 714.239 L175.517 720.118 L170.633 720.118 L170.633 714.239 Z\" fill=\"#000000\" fill-rule=\"nonzero\" fill-opacity=\"1\" /><path clip-path=\"url(#clip000)\" d=\"M196.281 700.975 Q193.132 700.975 191.281 703.128 Q189.452 705.28 189.452 709.03 Q189.452 712.757 191.281 714.933 Q193.132 717.086 196.281 717.086 Q199.429 717.086 201.257 714.933 Q203.109 712.757 203.109 709.03 Q203.109 705.28 201.257 703.128 Q199.429 700.975 196.281 700.975 M205.563 686.322 L205.563 690.581 Q203.804 689.748 201.998 689.308 Q200.216 688.868 198.457 688.868 Q193.827 688.868 191.373 691.993 Q188.943 695.118 188.595 701.438 Q189.961 699.424 192.021 698.359 Q194.082 697.271 196.558 697.271 Q201.767 697.271 204.776 700.442 Q207.808 703.591 207.808 709.03 Q207.808 714.354 204.66 717.572 Q201.512 720.789 196.281 720.789 Q190.285 720.789 187.114 716.206 Q183.943 711.6 183.943 702.873 Q183.943 694.679 187.832 689.817 Q191.72 684.933 198.271 684.933 Q200.031 684.933 201.813 685.28 Q203.619 685.628 205.563 686.322 Z\" fill=\"#000000\" fill-rule=\"nonzero\" fill-opacity=\"1\" /><path clip-path=\"url(#clip000)\" d=\"M225.864 688.637 Q222.253 688.637 220.424 692.202 Q218.618 695.743 218.618 702.873 Q218.618 709.979 220.424 713.544 Q222.253 717.086 225.864 717.086 Q229.498 717.086 231.304 713.544 Q233.132 709.979 233.132 702.873 Q233.132 695.743 231.304 692.202 Q229.498 688.637 225.864 688.637 M225.864 684.933 Q231.674 684.933 234.729 689.54 Q237.808 694.123 237.808 702.873 Q237.808 711.6 234.729 716.206 Q231.674 720.789 225.864 720.789 Q220.054 720.789 216.975 716.206 Q213.919 711.6 213.919 702.873 Q213.919 694.123 216.975 689.54 Q220.054 684.933 225.864 684.933 Z\" fill=\"#000000\" fill-rule=\"nonzero\" fill-opacity=\"1\" /><path clip-path=\"url(#clip000)\" d=\"M151.697 550.565 Q148.086 550.565 146.258 554.13 Q144.452 557.671 144.452 564.801 Q144.452 571.907 146.258 575.472 Q148.086 579.014 151.697 579.014 Q155.332 579.014 157.137 575.472 Q158.966 571.907 158.966 564.801 Q158.966 557.671 157.137 554.13 Q155.332 550.565 151.697 550.565 M151.697 546.861 Q157.508 546.861 160.563 551.468 Q163.642 556.051 163.642 564.801 Q163.642 573.528 160.563 578.134 Q157.508 582.717 151.697 582.717 Q145.887 582.717 142.809 578.134 Q139.753 573.528 139.753 564.801 Q139.753 556.051 142.809 551.468 Q145.887 546.861 151.697 546.861 Z\" fill=\"#000000\" fill-rule=\"nonzero\" fill-opacity=\"1\" /><path clip-path=\"url(#clip000)\" d=\"M171.859 576.167 L176.744 576.167 L176.744 582.046 L171.859 582.046 L171.859 576.167 Z\" fill=\"#000000\" fill-rule=\"nonzero\" fill-opacity=\"1\" /><path clip-path=\"url(#clip000)\" d=\"M197.507 562.903 Q194.359 562.903 192.507 565.055 Q190.679 567.208 190.679 570.958 Q190.679 574.685 192.507 576.861 Q194.359 579.014 197.507 579.014 Q200.656 579.014 202.484 576.861 Q204.336 574.685 204.336 570.958 Q204.336 567.208 202.484 565.055 Q200.656 562.903 197.507 562.903 M206.79 548.25 L206.79 552.509 Q205.031 551.676 203.225 551.236 Q201.443 550.796 199.683 550.796 Q195.054 550.796 192.6 553.921 Q190.17 557.046 189.822 563.366 Q191.188 561.352 193.248 560.287 Q195.308 559.199 197.785 559.199 Q202.994 559.199 206.003 562.37 Q209.035 565.518 209.035 570.958 Q209.035 576.282 205.887 579.5 Q202.739 582.717 197.507 582.717 Q191.512 582.717 188.341 578.134 Q185.17 573.528 185.17 564.801 Q185.17 556.606 189.058 551.745 Q192.947 546.861 199.498 546.861 Q201.257 546.861 203.04 547.208 Q204.845 547.556 206.79 548.25 Z\" fill=\"#000000\" fill-rule=\"nonzero\" fill-opacity=\"1\" /><path clip-path=\"url(#clip000)\" d=\"M217.901 578.111 L225.54 578.111 L225.54 551.745 L217.23 553.412 L217.23 549.153 L225.493 547.486 L230.169 547.486 L230.169 578.111 L237.808 578.111 L237.808 582.046 L217.901 582.046 L217.901 578.111 Z\" fill=\"#000000\" fill-rule=\"nonzero\" fill-opacity=\"1\" /><path clip-path=\"url(#clip000)\" d=\"M152.068 412.493 Q148.457 412.493 146.628 416.057 Q144.823 419.599 144.823 426.729 Q144.823 433.835 146.628 437.4 Q148.457 440.942 152.068 440.942 Q155.702 440.942 157.508 437.4 Q159.336 433.835 159.336 426.729 Q159.336 419.599 157.508 416.057 Q155.702 412.493 152.068 412.493 M152.068 408.789 Q157.878 408.789 160.934 413.395 Q164.012 417.979 164.012 426.729 Q164.012 435.456 160.934 440.062 Q157.878 444.645 152.068 444.645 Q146.258 444.645 143.179 440.062 Q140.123 435.456 140.123 426.729 Q140.123 417.979 143.179 413.395 Q146.258 408.789 152.068 408.789 Z\" fill=\"#000000\" fill-rule=\"nonzero\" fill-opacity=\"1\" /><path clip-path=\"url(#clip000)\" d=\"M172.23 438.094 L177.114 438.094 L177.114 443.974 L172.23 443.974 L172.23 438.094 Z\" fill=\"#000000\" fill-rule=\"nonzero\" fill-opacity=\"1\" /><path clip-path=\"url(#clip000)\" d=\"M197.878 424.831 Q194.73 424.831 192.878 426.983 Q191.049 429.136 191.049 432.886 Q191.049 436.613 192.878 438.789 Q194.73 440.942 197.878 440.942 Q201.026 440.942 202.855 438.789 Q204.706 436.613 204.706 432.886 Q204.706 429.136 202.855 426.983 Q201.026 424.831 197.878 424.831 M207.16 410.178 L207.16 414.437 Q205.401 413.604 203.595 413.164 Q201.813 412.724 200.054 412.724 Q195.424 412.724 192.97 415.849 Q190.54 418.974 190.193 425.294 Q191.558 423.28 193.619 422.215 Q195.679 421.127 198.156 421.127 Q203.364 421.127 206.373 424.298 Q209.406 427.446 209.406 432.886 Q209.406 438.21 206.257 441.428 Q203.109 444.645 197.878 444.645 Q191.882 444.645 188.711 440.062 Q185.54 435.456 185.54 426.729 Q185.54 418.534 189.429 413.673 Q193.318 408.789 199.869 408.789 Q201.628 408.789 203.41 409.136 Q205.216 409.483 207.16 410.178 Z\" fill=\"#000000\" fill-rule=\"nonzero\" fill-opacity=\"1\" /><path clip-path=\"url(#clip000)\" d=\"M221.489 440.039 L237.808 440.039 L237.808 443.974 L215.864 443.974 L215.864 440.039 Q218.526 437.284 223.109 432.655 Q227.716 428.002 228.896 426.659 Q231.142 424.136 232.021 422.4 Q232.924 420.641 232.924 418.951 Q232.924 416.196 230.979 414.46 Q229.058 412.724 225.956 412.724 Q223.757 412.724 221.304 413.488 Q218.873 414.252 216.095 415.803 L216.095 411.081 Q218.919 409.946 221.373 409.368 Q223.827 408.789 225.864 408.789 Q231.234 408.789 234.429 411.474 Q237.623 414.159 237.623 418.65 Q237.623 420.78 236.813 422.701 Q236.026 424.599 233.919 427.192 Q233.341 427.863 230.239 431.081 Q227.137 434.275 221.489 440.039 Z\" fill=\"#000000\" fill-rule=\"nonzero\" fill-opacity=\"1\" /><path clip-path=\"url(#clip000)\" d=\"M151.119 274.421 Q147.508 274.421 145.679 277.985 Q143.873 281.527 143.873 288.657 Q143.873 295.763 145.679 299.328 Q147.508 302.87 151.119 302.87 Q154.753 302.87 156.559 299.328 Q158.387 295.763 158.387 288.657 Q158.387 281.527 156.559 277.985 Q154.753 274.421 151.119 274.421 M151.119 270.717 Q156.929 270.717 159.984 275.323 Q163.063 279.907 163.063 288.657 Q163.063 297.383 159.984 301.99 Q156.929 306.573 151.119 306.573 Q145.309 306.573 142.23 301.99 Q139.174 297.383 139.174 288.657 Q139.174 279.907 142.23 275.323 Q145.309 270.717 151.119 270.717 Z\" fill=\"#000000\" fill-rule=\"nonzero\" fill-opacity=\"1\" /><path clip-path=\"url(#clip000)\" d=\"M171.281 300.022 L176.165 300.022 L176.165 305.902 L171.281 305.902 L171.281 300.022 Z\" fill=\"#000000\" fill-rule=\"nonzero\" fill-opacity=\"1\" /><path clip-path=\"url(#clip000)\" d=\"M196.929 286.759 Q193.781 286.759 191.929 288.911 Q190.1 291.064 190.1 294.814 Q190.1 298.541 191.929 300.717 Q193.781 302.87 196.929 302.87 Q200.077 302.87 201.906 300.717 Q203.757 298.541 203.757 294.814 Q203.757 291.064 201.906 288.911 Q200.077 286.759 196.929 286.759 M206.211 272.106 L206.211 276.365 Q204.452 275.532 202.646 275.092 Q200.864 274.652 199.105 274.652 Q194.475 274.652 192.021 277.777 Q189.591 280.902 189.244 287.221 Q190.609 285.208 192.669 284.143 Q194.73 283.055 197.207 283.055 Q202.415 283.055 205.424 286.226 Q208.456 289.374 208.456 294.814 Q208.456 300.138 205.308 303.356 Q202.16 306.573 196.929 306.573 Q190.933 306.573 187.762 301.99 Q184.591 297.383 184.591 288.657 Q184.591 280.462 188.48 275.601 Q192.369 270.717 198.919 270.717 Q200.679 270.717 202.461 271.064 Q204.267 271.411 206.211 272.106 Z\" fill=\"#000000\" fill-rule=\"nonzero\" fill-opacity=\"1\" /><path clip-path=\"url(#clip000)\" d=\"M230.679 287.268 Q234.035 287.985 235.91 290.254 Q237.808 292.522 237.808 295.856 Q237.808 300.971 234.29 303.772 Q230.771 306.573 224.29 306.573 Q222.114 306.573 219.799 306.133 Q217.507 305.717 215.054 304.86 L215.054 300.346 Q216.998 301.481 219.313 302.059 Q221.628 302.638 224.151 302.638 Q228.549 302.638 230.841 300.902 Q233.155 299.166 233.155 295.856 Q233.155 292.8 231.003 291.087 Q228.873 289.351 225.054 289.351 L221.026 289.351 L221.026 285.509 L225.239 285.509 Q228.688 285.509 230.517 284.143 Q232.345 282.754 232.345 280.161 Q232.345 277.499 230.447 276.087 Q228.572 274.652 225.054 274.652 Q223.132 274.652 220.933 275.069 Q218.734 275.485 216.095 276.365 L216.095 272.198 Q218.757 271.458 221.072 271.087 Q223.41 270.717 225.47 270.717 Q230.794 270.717 233.896 273.147 Q236.998 275.555 236.998 279.675 Q236.998 282.546 235.354 284.536 Q233.711 286.504 230.679 287.268 Z\" fill=\"#000000\" fill-rule=\"nonzero\" fill-opacity=\"1\" /><path clip-path=\"url(#clip000)\" d=\"M149.985 136.349 Q146.373 136.349 144.545 139.913 Q142.739 143.455 142.739 150.585 Q142.739 157.691 144.545 161.256 Q146.373 164.797 149.985 164.797 Q153.619 164.797 155.424 161.256 Q157.253 157.691 157.253 150.585 Q157.253 143.455 155.424 139.913 Q153.619 136.349 149.985 136.349 M149.985 132.645 Q155.795 132.645 158.85 137.251 Q161.929 141.835 161.929 150.585 Q161.929 159.311 158.85 163.918 Q155.795 168.501 149.985 168.501 Q144.174 168.501 141.096 163.918 Q138.04 159.311 138.04 150.585 Q138.04 141.835 141.096 137.251 Q144.174 132.645 149.985 132.645 Z\" fill=\"#000000\" fill-rule=\"nonzero\" fill-opacity=\"1\" /><path clip-path=\"url(#clip000)\" d=\"M170.146 161.95 L175.031 161.95 L175.031 167.83 L170.146 167.83 L170.146 161.95 Z\" fill=\"#000000\" fill-rule=\"nonzero\" fill-opacity=\"1\" /><path clip-path=\"url(#clip000)\" d=\"M195.794 148.686 Q192.646 148.686 190.795 150.839 Q188.966 152.992 188.966 156.742 Q188.966 160.469 190.795 162.645 Q192.646 164.797 195.794 164.797 Q198.943 164.797 200.771 162.645 Q202.623 160.469 202.623 156.742 Q202.623 152.992 200.771 150.839 Q198.943 148.686 195.794 148.686 M205.077 134.034 L205.077 138.293 Q203.318 137.46 201.512 137.02 Q199.73 136.58 197.97 136.58 Q193.341 136.58 190.887 139.705 Q188.457 142.83 188.109 149.149 Q189.475 147.135 191.535 146.071 Q193.595 144.983 196.072 144.983 Q201.281 144.983 204.29 148.154 Q207.322 151.302 207.322 156.742 Q207.322 162.066 204.174 165.284 Q201.026 168.501 195.794 168.501 Q189.799 168.501 186.628 163.918 Q183.457 159.311 183.457 150.585 Q183.457 142.39 187.345 137.529 Q191.234 132.645 197.785 132.645 Q199.544 132.645 201.327 132.992 Q203.132 133.339 205.077 134.034 Z\" fill=\"#000000\" fill-rule=\"nonzero\" fill-opacity=\"1\" /><path clip-path=\"url(#clip000)\" d=\"M228.225 137.344 L216.419 155.793 L228.225 155.793 L228.225 137.344 M226.998 133.27 L232.878 133.27 L232.878 155.793 L237.808 155.793 L237.808 159.682 L232.878 159.682 L232.878 167.83 L228.225 167.83 L228.225 159.682 L212.623 159.682 L212.623 155.168 L226.998 133.27 Z\" fill=\"#000000\" fill-rule=\"nonzero\" fill-opacity=\"1\" /><path clip-path=\"url(#clip000)\" d=\"M66.098 572.691 L89.7466 581.412 L89.7466 563.939 L66.098 572.691 M59.7642 576.32 L59.7642 569.031 L107.284 550.921 L107.284 557.605 L95.0938 561.933 L95.0938 583.354 L107.284 587.683 L107.284 594.462 L59.7642 576.32 Z\" fill=\"#000000\" fill-rule=\"nonzero\" fill-opacity=\"1\" /><path clip-path=\"url(#clip000)\" d=\"M73.0048 519.729 L78.4793 519.729 Q77.1107 522.211 76.4423 524.726 Q75.7421 527.208 75.7421 529.755 Q75.7421 535.452 79.3705 538.603 Q82.9672 541.754 89.492 541.754 Q96.0169 541.754 99.6453 538.603 Q103.242 535.452 103.242 529.755 Q103.242 527.208 102.574 524.726 Q101.873 522.211 100.505 519.729 L105.916 519.729 Q107.061 522.18 107.634 524.821 Q108.207 527.431 108.207 530.391 Q108.207 538.444 103.146 543.186 Q98.0857 547.929 89.492 547.929 Q80.771 547.929 75.7739 543.155 Q70.7768 538.348 70.7768 530.009 Q70.7768 527.304 71.3497 524.726 Q71.8908 522.148 73.0048 519.729 Z\" fill=\"#000000\" fill-rule=\"nonzero\" fill-opacity=\"1\" /><path clip-path=\"url(#clip000)\" d=\"M73.0048 483.89 L78.4793 483.89 Q77.1107 486.372 76.4423 488.887 Q75.7421 491.37 75.7421 493.916 Q75.7421 499.613 79.3705 502.764 Q82.9672 505.915 89.492 505.915 Q96.0169 505.915 99.6453 502.764 Q103.242 499.613 103.242 493.916 Q103.242 491.37 102.574 488.887 Q101.873 486.372 100.505 483.89 L105.916 483.89 Q107.061 486.341 107.634 488.982 Q108.207 491.592 108.207 494.552 Q108.207 502.605 103.146 507.347 Q98.0857 512.09 89.492 512.09 Q80.771 512.09 75.7739 507.316 Q70.7768 502.51 70.7768 494.17 Q70.7768 491.465 71.3497 488.887 Q71.8908 486.309 73.0048 483.89 Z\" fill=\"#000000\" fill-rule=\"nonzero\" fill-opacity=\"1\" /><path clip-path=\"url(#clip000)\" d=\"M93.2159 474.309 L71.6362 474.309 L71.6362 468.453 L92.9931 468.453 Q98.0539 468.453 100.6 466.48 Q103.115 464.506 103.115 460.56 Q103.115 455.817 100.091 453.08 Q97.0672 450.311 91.8473 450.311 L71.6362 450.311 L71.6362 444.454 L107.284 444.454 L107.284 450.311 L101.81 450.311 Q105.056 452.443 106.648 455.276 Q108.207 458.077 108.207 461.801 Q108.207 467.944 104.388 471.127 Q100.568 474.309 93.2159 474.309 M70.7768 459.573 L70.7768 459.573 Z\" fill=\"#000000\" fill-rule=\"nonzero\" fill-opacity=\"1\" /><path clip-path=\"url(#clip000)\" d=\"M77.1107 411.735 Q76.5378 412.721 76.2832 413.899 Q75.9967 415.045 75.9967 416.445 Q75.9967 421.41 79.2432 424.084 Q82.4579 426.726 88.5053 426.726 L107.284 426.726 L107.284 432.614 L71.6362 432.614 L71.6362 426.726 L77.1744 426.726 Q73.9279 424.88 72.3683 421.92 Q70.7768 418.96 70.7768 414.726 Q70.7768 414.122 70.8723 413.39 Q70.936 412.658 71.0951 411.766 L77.1107 411.735 Z\" fill=\"#000000\" fill-rule=\"nonzero\" fill-opacity=\"1\" /><path clip-path=\"url(#clip000)\" d=\"M89.3647 389.391 Q89.3647 396.489 90.9879 399.226 Q92.6112 401.963 96.5261 401.963 Q99.6453 401.963 101.491 399.926 Q103.306 397.857 103.306 394.324 Q103.306 389.455 99.8681 386.526 Q96.3988 383.566 90.6697 383.566 L89.3647 383.566 L89.3647 389.391 M86.9457 377.71 L107.284 377.71 L107.284 383.566 L101.873 383.566 Q105.12 385.572 106.679 388.563 Q108.207 391.555 108.207 395.884 Q108.207 401.358 105.152 404.605 Q102.064 407.82 96.9081 407.82 Q90.8925 407.82 87.8369 403.809 Q84.7814 399.767 84.7814 391.778 L84.7814 383.566 L84.2085 383.566 Q80.1662 383.566 77.9701 386.24 Q75.7421 388.882 75.7421 393.688 Q75.7421 396.743 76.4741 399.64 Q77.2062 402.536 78.6703 405.21 L73.2595 405.21 Q72.0181 401.995 71.4134 398.971 Q70.7768 395.948 70.7768 393.083 Q70.7768 385.349 74.7872 381.529 Q78.7976 377.71 86.9457 377.71 Z\" fill=\"#000000\" fill-rule=\"nonzero\" fill-opacity=\"1\" /><path clip-path=\"url(#clip000)\" d=\"M73.0048 339.993 L78.4793 339.993 Q77.1107 342.476 76.4423 344.99 Q75.7421 347.473 75.7421 350.019 Q75.7421 355.716 79.3705 358.867 Q82.9672 362.018 89.492 362.018 Q96.0169 362.018 99.6453 358.867 Q103.242 355.716 103.242 350.019 Q103.242 347.473 102.574 344.99 Q101.873 342.476 100.505 339.993 L105.916 339.993 Q107.061 342.444 107.634 345.086 Q108.207 347.696 108.207 350.656 Q108.207 358.708 103.146 363.451 Q98.0857 368.193 89.492 368.193 Q80.771 368.193 75.7739 363.419 Q70.7768 358.613 70.7768 350.274 Q70.7768 347.568 71.3497 344.99 Q71.8908 342.412 73.0048 339.993 Z\" fill=\"#000000\" fill-rule=\"nonzero\" fill-opacity=\"1\" /><path clip-path=\"url(#clip000)\" d=\"M110.594 314.976 Q116.96 317.458 118.902 319.814 Q120.843 322.169 120.843 326.116 L120.843 330.795 L115.942 330.795 L115.942 327.357 Q115.942 324.938 114.796 323.601 Q113.65 322.265 109.385 320.641 L106.711 319.591 L71.6362 334.009 L71.6362 327.803 L99.518 316.663 L71.6362 305.523 L71.6362 299.316 L110.594 314.976 Z\" fill=\"#000000\" fill-rule=\"nonzero\" fill-opacity=\"1\" /><path clip-path=\"url(#clip000)\" d=\"M57.8226 277.164 Q65.1432 281.429 72.3046 283.497 Q79.466 285.566 86.8184 285.566 Q94.1708 285.566 101.396 283.497 Q108.589 281.397 115.878 277.164 L115.878 282.256 Q108.398 287.03 101.173 289.418 Q93.948 291.773 86.8184 291.773 Q79.7206 291.773 72.5274 289.418 Q65.3342 287.062 57.8226 282.256 L57.8226 277.164 Z\" fill=\"#000000\" fill-rule=\"nonzero\" fill-opacity=\"1\" /><path clip-path=\"url(#clip000)\" d=\"M57.8226 266.724 L57.8226 261.631 Q65.3342 256.857 72.5274 254.502 Q79.7206 252.114 86.8184 252.114 Q93.948 252.114 101.173 254.502 Q108.398 256.857 115.878 261.631 L115.878 266.724 Q108.589 262.491 101.396 260.422 Q94.1708 258.321 86.8184 258.321 Q79.466 258.321 72.3046 260.422 Q65.1432 262.491 57.8226 266.724 Z\" fill=\"#000000\" fill-rule=\"nonzero\" fill-opacity=\"1\" /><circle clip-path=\"url(#clip002)\" cx=\"593.272\" cy=\"146.577\" r=\"14.4\" fill=\"#009af9\" fill-rule=\"evenodd\" fill-opacity=\"1\" stroke=\"#000000\" stroke-opacity=\"1\" stroke-width=\"2\"/>\n",
       "<circle clip-path=\"url(#clip002)\" cx=\"939.768\" cy=\"217.528\" r=\"14.4\" fill=\"#009af9\" fill-rule=\"evenodd\" fill-opacity=\"1\" stroke=\"#000000\" stroke-opacity=\"1\" stroke-width=\"2\"/>\n",
       "<circle clip-path=\"url(#clip002)\" cx=\"653.532\" cy=\"231.719\" r=\"14.4\" fill=\"#009af9\" fill-rule=\"evenodd\" fill-opacity=\"1\" stroke=\"#000000\" stroke-opacity=\"1\" stroke-width=\"2\"/>\n",
       "<circle clip-path=\"url(#clip002)\" cx=\"472.751\" cy=\"111.101\" r=\"14.4\" fill=\"#009af9\" fill-rule=\"evenodd\" fill-opacity=\"1\" stroke=\"#000000\" stroke-opacity=\"1\" stroke-width=\"2\"/>\n",
       "<circle clip-path=\"url(#clip002)\" cx=\"397.426\" cy=\"224.623\" r=\"14.4\" fill=\"#009af9\" fill-rule=\"evenodd\" fill-opacity=\"1\" stroke=\"#000000\" stroke-opacity=\"1\" stroke-width=\"2\"/>\n",
       "<circle clip-path=\"url(#clip002)\" cx=\"774.052\" cy=\"196.243\" r=\"14.4\" fill=\"#009af9\" fill-rule=\"evenodd\" fill-opacity=\"1\" stroke=\"#000000\" stroke-opacity=\"1\" stroke-width=\"2\"/>\n",
       "<circle clip-path=\"url(#clip002)\" cx=\"804.183\" cy=\"210.433\" r=\"14.4\" fill=\"#009af9\" fill-rule=\"evenodd\" fill-opacity=\"1\" stroke=\"#000000\" stroke-opacity=\"1\" stroke-width=\"2\"/>\n",
       "<circle clip-path=\"url(#clip002)\" cx=\"533.012\" cy=\"96.9103\" r=\"14.4\" fill=\"#009af9\" fill-rule=\"evenodd\" fill-opacity=\"1\" stroke=\"#000000\" stroke-opacity=\"1\" stroke-width=\"2\"/>\n",
       "<circle clip-path=\"url(#clip002)\" cx=\"969.898\" cy=\"210.433\" r=\"14.4\" fill=\"#009af9\" fill-rule=\"evenodd\" fill-opacity=\"1\" stroke=\"#000000\" stroke-opacity=\"1\" stroke-width=\"2\"/>\n",
       "<circle clip-path=\"url(#clip002)\" cx=\"1030.16\" cy=\"267.194\" r=\"14.4\" fill=\"#009af9\" fill-rule=\"evenodd\" fill-opacity=\"1\" stroke=\"#000000\" stroke-opacity=\"1\" stroke-width=\"2\"/>\n",
       "<circle clip-path=\"url(#clip002)\" cx=\"909.638\" cy=\"196.243\" r=\"14.4\" fill=\"#009af9\" fill-rule=\"evenodd\" fill-opacity=\"1\" stroke=\"#000000\" stroke-opacity=\"1\" stroke-width=\"2\"/>\n",
       "<circle clip-path=\"url(#clip002)\" cx=\"834.313\" cy=\"153.672\" r=\"14.4\" fill=\"#009af9\" fill-rule=\"evenodd\" fill-opacity=\"1\" stroke=\"#000000\" stroke-opacity=\"1\" stroke-width=\"2\"/>\n",
       "<circle clip-path=\"url(#clip002)\" cx=\"879.508\" cy=\"189.148\" r=\"14.4\" fill=\"#009af9\" fill-rule=\"evenodd\" fill-opacity=\"1\" stroke=\"#000000\" stroke-opacity=\"1\" stroke-width=\"2\"/>\n",
       "<circle clip-path=\"url(#clip002)\" cx=\"713.792\" cy=\"238.814\" r=\"14.4\" fill=\"#009af9\" fill-rule=\"evenodd\" fill-opacity=\"1\" stroke=\"#000000\" stroke-opacity=\"1\" stroke-width=\"2\"/>\n",
       "<circle clip-path=\"url(#clip002)\" cx=\"743.922\" cy=\"167.862\" r=\"14.4\" fill=\"#009af9\" fill-rule=\"evenodd\" fill-opacity=\"1\" stroke=\"#000000\" stroke-opacity=\"1\" stroke-width=\"2\"/>\n",
       "<circle clip-path=\"url(#clip002)\" cx=\"367.296\" cy=\"189.148\" r=\"14.4\" fill=\"#009af9\" fill-rule=\"evenodd\" fill-opacity=\"1\" stroke=\"#000000\" stroke-opacity=\"1\" stroke-width=\"2\"/>\n",
       "<circle clip-path=\"url(#clip002)\" cx=\"427.556\" cy=\"153.672\" r=\"14.4\" fill=\"#009af9\" fill-rule=\"evenodd\" fill-opacity=\"1\" stroke=\"#000000\" stroke-opacity=\"1\" stroke-width=\"2\"/>\n",
       "<circle clip-path=\"url(#clip002)\" cx=\"337.166\" cy=\"288.48\" r=\"14.4\" fill=\"#009af9\" fill-rule=\"evenodd\" fill-opacity=\"1\" stroke=\"#000000\" stroke-opacity=\"1\" stroke-width=\"2\"/>\n",
       "<circle clip-path=\"url(#clip002)\" cx=\"683.662\" cy=\"153.672\" r=\"14.4\" fill=\"#009af9\" fill-rule=\"evenodd\" fill-opacity=\"1\" stroke=\"#000000\" stroke-opacity=\"1\" stroke-width=\"2\"/>\n",
       "<circle clip-path=\"url(#clip002)\" cx=\"307.036\" cy=\"458.764\" r=\"14.4\" fill=\"#009af9\" fill-rule=\"evenodd\" fill-opacity=\"1\" stroke=\"#000000\" stroke-opacity=\"1\" stroke-width=\"2\"/>\n",
       "<circle clip-path=\"url(#clip002)\" cx=\"502.882\" cy=\"68.5296\" r=\"14.4\" fill=\"#009af9\" fill-rule=\"evenodd\" fill-opacity=\"1\" stroke=\"#000000\" stroke-opacity=\"1\" stroke-width=\"2\"/>\n",
       "<circle clip-path=\"url(#clip002)\" cx=\"276.906\" cy=\"778.047\" r=\"14.4\" fill=\"#009af9\" fill-rule=\"evenodd\" fill-opacity=\"1\" stroke=\"#000000\" stroke-opacity=\"1\" stroke-width=\"2\"/>\n",
       "<circle clip-path=\"url(#clip002)\" cx=\"623.402\" cy=\"196.243\" r=\"14.4\" fill=\"#009af9\" fill-rule=\"evenodd\" fill-opacity=\"1\" stroke=\"#000000\" stroke-opacity=\"1\" stroke-width=\"2\"/>\n",
       "<circle clip-path=\"url(#clip002)\" cx=\"563.142\" cy=\"174.957\" r=\"14.4\" fill=\"#009af9\" fill-rule=\"evenodd\" fill-opacity=\"1\" stroke=\"#000000\" stroke-opacity=\"1\" stroke-width=\"2\"/>\n",
       "<circle clip-path=\"url(#clip002)\" cx=\"1000.03\" cy=\"217.528\" r=\"14.4\" fill=\"#009af9\" fill-rule=\"evenodd\" fill-opacity=\"1\" stroke=\"#000000\" stroke-opacity=\"1\" stroke-width=\"2\"/>\n",
       "</svg>\n"
      ],
      "text/html": [
       "<?xml version=\"1.0\" encoding=\"utf-8\"?>\n",
       "<svg xmlns=\"http://www.w3.org/2000/svg\" xmlns:xlink=\"http://www.w3.org/1999/xlink\" width=\"275\" height=\"250\" viewBox=\"0 0 1100 1000\">\n",
       "<defs>\n",
       "  <clipPath id=\"clip050\">\n",
       "    <rect x=\"0\" y=\"0\" width=\"1100\" height=\"1000\"/>\n",
       "  </clipPath>\n",
       "</defs>\n",
       "<path clip-path=\"url(#clip050)\" d=\"M0 1000 L1100 1000 L1100 0 L0 0  Z\" fill=\"#ffffff\" fill-rule=\"evenodd\" fill-opacity=\"1\"/>\n",
       "<defs>\n",
       "  <clipPath id=\"clip051\">\n",
       "    <rect x=\"220\" y=\"10\" width=\"771\" height=\"771\"/>\n",
       "  </clipPath>\n",
       "</defs>\n",
       "<path clip-path=\"url(#clip050)\" d=\"M254.308 799.333 L1052.76 799.333 L1052.76 47.2441 L254.308 47.2441  Z\" fill=\"#ffffff\" fill-rule=\"evenodd\" fill-opacity=\"1\"/>\n",
       "<defs>\n",
       "  <clipPath id=\"clip052\">\n",
       "    <rect x=\"254\" y=\"47\" width=\"799\" height=\"753\"/>\n",
       "  </clipPath>\n",
       "</defs>\n",
       "<polyline clip-path=\"url(#clip052)\" style=\"stroke:#000000; stroke-linecap:round; stroke-linejoin:round; stroke-width:2; stroke-opacity:0.1; fill:none\" points=\"352.231,799.333 352.231,47.2441 \"/>\n",
       "<polyline clip-path=\"url(#clip052)\" style=\"stroke:#000000; stroke-linecap:round; stroke-linejoin:round; stroke-width:2; stroke-opacity:0.1; fill:none\" points=\"502.882,799.333 502.882,47.2441 \"/>\n",
       "<polyline clip-path=\"url(#clip052)\" style=\"stroke:#000000; stroke-linecap:round; stroke-linejoin:round; stroke-width:2; stroke-opacity:0.1; fill:none\" points=\"653.532,799.333 653.532,47.2441 \"/>\n",
       "<polyline clip-path=\"url(#clip052)\" style=\"stroke:#000000; stroke-linecap:round; stroke-linejoin:round; stroke-width:2; stroke-opacity:0.1; fill:none\" points=\"804.183,799.333 804.183,47.2441 \"/>\n",
       "<polyline clip-path=\"url(#clip052)\" style=\"stroke:#000000; stroke-linecap:round; stroke-linejoin:round; stroke-width:2; stroke-opacity:0.1; fill:none\" points=\"954.833,799.333 954.833,47.2441 \"/>\n",
       "<polyline clip-path=\"url(#clip050)\" style=\"stroke:#000000; stroke-linecap:round; stroke-linejoin:round; stroke-width:4; stroke-opacity:1; fill:none\" points=\"254.308,799.333 1052.76,799.333 \"/>\n",
       "<polyline clip-path=\"url(#clip050)\" style=\"stroke:#000000; stroke-linecap:round; stroke-linejoin:round; stroke-width:4; stroke-opacity:1; fill:none\" points=\"254.308,47.2441 1052.76,47.2441 \"/>\n",
       "<polyline clip-path=\"url(#clip050)\" style=\"stroke:#000000; stroke-linecap:round; stroke-linejoin:round; stroke-width:4; stroke-opacity:1; fill:none\" points=\"352.231,799.333 352.231,780.435 \"/>\n",
       "<polyline clip-path=\"url(#clip050)\" style=\"stroke:#000000; stroke-linecap:round; stroke-linejoin:round; stroke-width:4; stroke-opacity:1; fill:none\" points=\"502.882,799.333 502.882,780.435 \"/>\n",
       "<polyline clip-path=\"url(#clip050)\" style=\"stroke:#000000; stroke-linecap:round; stroke-linejoin:round; stroke-width:4; stroke-opacity:1; fill:none\" points=\"653.532,799.333 653.532,780.435 \"/>\n",
       "<polyline clip-path=\"url(#clip050)\" style=\"stroke:#000000; stroke-linecap:round; stroke-linejoin:round; stroke-width:4; stroke-opacity:1; fill:none\" points=\"804.183,799.333 804.183,780.435 \"/>\n",
       "<polyline clip-path=\"url(#clip050)\" style=\"stroke:#000000; stroke-linecap:round; stroke-linejoin:round; stroke-width:4; stroke-opacity:1; fill:none\" points=\"954.833,799.333 954.833,780.435 \"/>\n",
       "<path clip-path=\"url(#clip050)\" d=\"M326.919 847.397 L334.557 847.397 L334.557 821.032 L326.247 822.698 L326.247 818.439 L334.511 816.773 L339.187 816.773 L339.187 847.397 L346.826 847.397 L346.826 851.333 L326.919 851.333 L326.919 847.397 Z\" fill=\"#000000\" fill-rule=\"nonzero\" fill-opacity=\"1\" /><path clip-path=\"url(#clip050)\" d=\"M366.27 819.851 Q362.659 819.851 360.83 823.416 Q359.025 826.958 359.025 834.087 Q359.025 841.194 360.83 844.759 Q362.659 848.3 366.27 848.3 Q369.904 848.3 371.71 844.759 Q373.539 841.194 373.539 834.087 Q373.539 826.958 371.71 823.416 Q369.904 819.851 366.27 819.851 M366.27 816.148 Q372.08 816.148 375.136 820.754 Q378.215 825.337 378.215 834.087 Q378.215 842.814 375.136 847.421 Q372.08 852.004 366.27 852.004 Q360.46 852.004 357.381 847.421 Q354.326 842.814 354.326 834.087 Q354.326 825.337 357.381 820.754 Q360.46 816.148 366.27 816.148 Z\" fill=\"#000000\" fill-rule=\"nonzero\" fill-opacity=\"1\" /><path clip-path=\"url(#clip050)\" d=\"M481.655 847.397 L497.974 847.397 L497.974 851.333 L476.03 851.333 L476.03 847.397 Q478.692 844.643 483.275 840.013 Q487.882 835.36 489.062 834.018 Q491.307 831.495 492.187 829.759 Q493.09 827.999 493.09 826.31 Q493.09 823.555 491.145 821.819 Q489.224 820.083 486.122 820.083 Q483.923 820.083 481.47 820.847 Q479.039 821.611 476.261 823.161 L476.261 818.439 Q479.085 817.305 481.539 816.726 Q483.993 816.148 486.03 816.148 Q491.4 816.148 494.595 818.833 Q497.789 821.518 497.789 826.009 Q497.789 828.138 496.979 830.06 Q496.192 831.958 494.085 834.55 Q493.507 835.222 490.405 838.439 Q487.303 841.634 481.655 847.397 Z\" fill=\"#000000\" fill-rule=\"nonzero\" fill-opacity=\"1\" /><path clip-path=\"url(#clip050)\" d=\"M517.789 819.851 Q514.178 819.851 512.349 823.416 Q510.543 826.958 510.543 834.087 Q510.543 841.194 512.349 844.759 Q514.178 848.3 517.789 848.3 Q521.423 848.3 523.229 844.759 Q525.057 841.194 525.057 834.087 Q525.057 826.958 523.229 823.416 Q521.423 819.851 517.789 819.851 M517.789 816.148 Q523.599 816.148 526.655 820.754 Q529.733 825.337 529.733 834.087 Q529.733 842.814 526.655 847.421 Q523.599 852.004 517.789 852.004 Q511.979 852.004 508.9 847.421 Q505.844 842.814 505.844 834.087 Q505.844 825.337 508.9 820.754 Q511.979 816.148 517.789 816.148 Z\" fill=\"#000000\" fill-rule=\"nonzero\" fill-opacity=\"1\" /><path clip-path=\"url(#clip050)\" d=\"M642.375 832.698 Q645.731 833.416 647.606 835.685 Q649.504 837.953 649.504 841.286 Q649.504 846.402 645.986 849.203 Q642.467 852.004 635.986 852.004 Q633.81 852.004 631.495 851.564 Q629.203 851.147 626.75 850.291 L626.75 845.777 Q628.694 846.911 631.009 847.49 Q633.324 848.069 635.847 848.069 Q640.245 848.069 642.537 846.333 Q644.852 844.596 644.852 841.286 Q644.852 838.231 642.699 836.518 Q640.569 834.782 636.75 834.782 L632.722 834.782 L632.722 830.939 L636.935 830.939 Q640.384 830.939 642.213 829.573 Q644.041 828.185 644.041 825.592 Q644.041 822.93 642.143 821.518 Q640.268 820.083 636.75 820.083 Q634.828 820.083 632.629 820.499 Q630.43 820.916 627.791 821.796 L627.791 817.629 Q630.453 816.888 632.768 816.518 Q635.106 816.148 637.166 816.148 Q642.49 816.148 645.592 818.578 Q648.694 820.986 648.694 825.106 Q648.694 827.976 647.051 829.967 Q645.407 831.935 642.375 832.698 Z\" fill=\"#000000\" fill-rule=\"nonzero\" fill-opacity=\"1\" /><path clip-path=\"url(#clip050)\" d=\"M668.37 819.851 Q664.759 819.851 662.93 823.416 Q661.125 826.958 661.125 834.087 Q661.125 841.194 662.93 844.759 Q664.759 848.3 668.37 848.3 Q672.004 848.3 673.81 844.759 Q675.638 841.194 675.638 834.087 Q675.638 826.958 673.81 823.416 Q672.004 819.851 668.37 819.851 M668.37 816.148 Q674.18 816.148 677.236 820.754 Q680.314 825.337 680.314 834.087 Q680.314 842.814 677.236 847.421 Q674.18 852.004 668.37 852.004 Q662.56 852.004 659.481 847.421 Q656.426 842.814 656.426 834.087 Q656.426 825.337 659.481 820.754 Q662.56 816.148 668.37 816.148 Z\" fill=\"#000000\" fill-rule=\"nonzero\" fill-opacity=\"1\" /><path clip-path=\"url(#clip050)\" d=\"M792.354 820.847 L780.548 839.296 L792.354 839.296 L792.354 820.847 M791.127 816.773 L797.007 816.773 L797.007 839.296 L801.937 839.296 L801.937 843.184 L797.007 843.184 L797.007 851.333 L792.354 851.333 L792.354 843.184 L776.752 843.184 L776.752 838.671 L791.127 816.773 Z\" fill=\"#000000\" fill-rule=\"nonzero\" fill-opacity=\"1\" /><path clip-path=\"url(#clip050)\" d=\"M819.669 819.851 Q816.057 819.851 814.229 823.416 Q812.423 826.958 812.423 834.087 Q812.423 841.194 814.229 844.759 Q816.057 848.3 819.669 848.3 Q823.303 848.3 825.108 844.759 Q826.937 841.194 826.937 834.087 Q826.937 826.958 825.108 823.416 Q823.303 819.851 819.669 819.851 M819.669 816.148 Q825.479 816.148 828.534 820.754 Q831.613 825.337 831.613 834.087 Q831.613 842.814 828.534 847.421 Q825.479 852.004 819.669 852.004 Q813.858 852.004 810.78 847.421 Q807.724 842.814 807.724 834.087 Q807.724 825.337 810.78 820.754 Q813.858 816.148 819.669 816.148 Z\" fill=\"#000000\" fill-rule=\"nonzero\" fill-opacity=\"1\" /><path clip-path=\"url(#clip050)\" d=\"M929.532 816.773 L947.889 816.773 L947.889 820.708 L933.815 820.708 L933.815 829.18 Q934.833 828.833 935.852 828.671 Q936.87 828.485 937.889 828.485 Q943.676 828.485 947.055 831.657 Q950.435 834.828 950.435 840.245 Q950.435 845.823 946.963 848.925 Q943.491 852.004 937.171 852.004 Q934.995 852.004 932.727 851.633 Q930.481 851.263 928.074 850.522 L928.074 845.823 Q930.157 846.958 932.379 847.513 Q934.602 848.069 937.079 848.069 Q941.083 848.069 943.421 845.962 Q945.759 843.856 945.759 840.245 Q945.759 836.634 943.421 834.527 Q941.083 832.421 937.079 832.421 Q935.204 832.421 933.329 832.837 Q931.477 833.254 929.532 834.134 L929.532 816.773 Z\" fill=\"#000000\" fill-rule=\"nonzero\" fill-opacity=\"1\" /><path clip-path=\"url(#clip050)\" d=\"M969.648 819.851 Q966.037 819.851 964.208 823.416 Q962.402 826.958 962.402 834.087 Q962.402 841.194 964.208 844.759 Q966.037 848.3 969.648 848.3 Q973.282 848.3 975.088 844.759 Q976.916 841.194 976.916 834.087 Q976.916 826.958 975.088 823.416 Q973.282 819.851 969.648 819.851 M969.648 816.148 Q975.458 816.148 978.513 820.754 Q981.592 825.337 981.592 834.087 Q981.592 842.814 978.513 847.421 Q975.458 852.004 969.648 852.004 Q963.838 852.004 960.759 847.421 Q957.703 842.814 957.703 834.087 Q957.703 825.337 960.759 820.754 Q963.838 816.148 969.648 816.148 Z\" fill=\"#000000\" fill-rule=\"nonzero\" fill-opacity=\"1\" /><path clip-path=\"url(#clip050)\" d=\"M634.674 877.177 L641.103 877.177 L641.103 897.26 L662.428 877.177 L670.704 877.177 L647.119 899.329 L672.39 924.697 L663.924 924.697 L641.103 901.812 L641.103 924.697 L634.674 924.697 L634.674 877.177 Z\" fill=\"#000000\" fill-rule=\"nonzero\" fill-opacity=\"1\" /><polyline clip-path=\"url(#clip052)\" style=\"stroke:#000000; stroke-linecap:round; stroke-linejoin:round; stroke-width:2; stroke-opacity:0.1; fill:none\" points=\"254.308,702.838 1052.76,702.838 \"/>\n",
       "<polyline clip-path=\"url(#clip052)\" style=\"stroke:#000000; stroke-linecap:round; stroke-linejoin:round; stroke-width:2; stroke-opacity:0.1; fill:none\" points=\"254.308,564.766 1052.76,564.766 \"/>\n",
       "<polyline clip-path=\"url(#clip052)\" style=\"stroke:#000000; stroke-linecap:round; stroke-linejoin:round; stroke-width:2; stroke-opacity:0.1; fill:none\" points=\"254.308,426.694 1052.76,426.694 \"/>\n",
       "<polyline clip-path=\"url(#clip052)\" style=\"stroke:#000000; stroke-linecap:round; stroke-linejoin:round; stroke-width:2; stroke-opacity:0.1; fill:none\" points=\"254.308,288.622 1052.76,288.622 \"/>\n",
       "<polyline clip-path=\"url(#clip052)\" style=\"stroke:#000000; stroke-linecap:round; stroke-linejoin:round; stroke-width:2; stroke-opacity:0.1; fill:none\" points=\"254.308,150.55 1052.76,150.55 \"/>\n",
       "<polyline clip-path=\"url(#clip050)\" style=\"stroke:#000000; stroke-linecap:round; stroke-linejoin:round; stroke-width:4; stroke-opacity:1; fill:none\" points=\"254.308,799.333 254.308,47.2441 \"/>\n",
       "<polyline clip-path=\"url(#clip050)\" style=\"stroke:#000000; stroke-linecap:round; stroke-linejoin:round; stroke-width:4; stroke-opacity:1; fill:none\" points=\"1052.76,799.333 1052.76,47.2441 \"/>\n",
       "<polyline clip-path=\"url(#clip050)\" style=\"stroke:#000000; stroke-linecap:round; stroke-linejoin:round; stroke-width:4; stroke-opacity:1; fill:none\" points=\"254.308,702.838 273.206,702.838 \"/>\n",
       "<polyline clip-path=\"url(#clip050)\" style=\"stroke:#000000; stroke-linecap:round; stroke-linejoin:round; stroke-width:4; stroke-opacity:1; fill:none\" points=\"254.308,564.766 273.206,564.766 \"/>\n",
       "<polyline clip-path=\"url(#clip050)\" style=\"stroke:#000000; stroke-linecap:round; stroke-linejoin:round; stroke-width:4; stroke-opacity:1; fill:none\" points=\"254.308,426.694 273.206,426.694 \"/>\n",
       "<polyline clip-path=\"url(#clip050)\" style=\"stroke:#000000; stroke-linecap:round; stroke-linejoin:round; stroke-width:4; stroke-opacity:1; fill:none\" points=\"254.308,288.622 273.206,288.622 \"/>\n",
       "<polyline clip-path=\"url(#clip050)\" style=\"stroke:#000000; stroke-linecap:round; stroke-linejoin:round; stroke-width:4; stroke-opacity:1; fill:none\" points=\"254.308,150.55 273.206,150.55 \"/>\n",
       "<path clip-path=\"url(#clip050)\" d=\"M150.471 688.637 Q146.86 688.637 145.031 692.202 Q143.225 695.743 143.225 702.873 Q143.225 709.979 145.031 713.544 Q146.86 717.086 150.471 717.086 Q154.105 717.086 155.91 713.544 Q157.739 709.979 157.739 702.873 Q157.739 695.743 155.91 692.202 Q154.105 688.637 150.471 688.637 M150.471 684.933 Q156.281 684.933 159.336 689.54 Q162.415 694.123 162.415 702.873 Q162.415 711.6 159.336 716.206 Q156.281 720.789 150.471 720.789 Q144.66 720.789 141.582 716.206 Q138.526 711.6 138.526 702.873 Q138.526 694.123 141.582 689.54 Q144.66 684.933 150.471 684.933 Z\" fill=\"#000000\" fill-rule=\"nonzero\" fill-opacity=\"1\" /><path clip-path=\"url(#clip050)\" d=\"M170.633 714.239 L175.517 714.239 L175.517 720.118 L170.633 720.118 L170.633 714.239 Z\" fill=\"#000000\" fill-rule=\"nonzero\" fill-opacity=\"1\" /><path clip-path=\"url(#clip050)\" d=\"M196.281 700.975 Q193.132 700.975 191.281 703.128 Q189.452 705.28 189.452 709.03 Q189.452 712.757 191.281 714.933 Q193.132 717.086 196.281 717.086 Q199.429 717.086 201.257 714.933 Q203.109 712.757 203.109 709.03 Q203.109 705.28 201.257 703.128 Q199.429 700.975 196.281 700.975 M205.563 686.322 L205.563 690.581 Q203.804 689.748 201.998 689.308 Q200.216 688.868 198.457 688.868 Q193.827 688.868 191.373 691.993 Q188.943 695.118 188.595 701.438 Q189.961 699.424 192.021 698.359 Q194.082 697.271 196.558 697.271 Q201.767 697.271 204.776 700.442 Q207.808 703.591 207.808 709.03 Q207.808 714.354 204.66 717.572 Q201.512 720.789 196.281 720.789 Q190.285 720.789 187.114 716.206 Q183.943 711.6 183.943 702.873 Q183.943 694.679 187.832 689.817 Q191.72 684.933 198.271 684.933 Q200.031 684.933 201.813 685.28 Q203.619 685.628 205.563 686.322 Z\" fill=\"#000000\" fill-rule=\"nonzero\" fill-opacity=\"1\" /><path clip-path=\"url(#clip050)\" d=\"M225.864 688.637 Q222.253 688.637 220.424 692.202 Q218.618 695.743 218.618 702.873 Q218.618 709.979 220.424 713.544 Q222.253 717.086 225.864 717.086 Q229.498 717.086 231.304 713.544 Q233.132 709.979 233.132 702.873 Q233.132 695.743 231.304 692.202 Q229.498 688.637 225.864 688.637 M225.864 684.933 Q231.674 684.933 234.729 689.54 Q237.808 694.123 237.808 702.873 Q237.808 711.6 234.729 716.206 Q231.674 720.789 225.864 720.789 Q220.054 720.789 216.975 716.206 Q213.919 711.6 213.919 702.873 Q213.919 694.123 216.975 689.54 Q220.054 684.933 225.864 684.933 Z\" fill=\"#000000\" fill-rule=\"nonzero\" fill-opacity=\"1\" /><path clip-path=\"url(#clip050)\" d=\"M151.697 550.565 Q148.086 550.565 146.258 554.13 Q144.452 557.671 144.452 564.801 Q144.452 571.907 146.258 575.472 Q148.086 579.014 151.697 579.014 Q155.332 579.014 157.137 575.472 Q158.966 571.907 158.966 564.801 Q158.966 557.671 157.137 554.13 Q155.332 550.565 151.697 550.565 M151.697 546.861 Q157.508 546.861 160.563 551.468 Q163.642 556.051 163.642 564.801 Q163.642 573.528 160.563 578.134 Q157.508 582.717 151.697 582.717 Q145.887 582.717 142.809 578.134 Q139.753 573.528 139.753 564.801 Q139.753 556.051 142.809 551.468 Q145.887 546.861 151.697 546.861 Z\" fill=\"#000000\" fill-rule=\"nonzero\" fill-opacity=\"1\" /><path clip-path=\"url(#clip050)\" d=\"M171.859 576.167 L176.744 576.167 L176.744 582.046 L171.859 582.046 L171.859 576.167 Z\" fill=\"#000000\" fill-rule=\"nonzero\" fill-opacity=\"1\" /><path clip-path=\"url(#clip050)\" d=\"M197.507 562.903 Q194.359 562.903 192.507 565.055 Q190.679 567.208 190.679 570.958 Q190.679 574.685 192.507 576.861 Q194.359 579.014 197.507 579.014 Q200.656 579.014 202.484 576.861 Q204.336 574.685 204.336 570.958 Q204.336 567.208 202.484 565.055 Q200.656 562.903 197.507 562.903 M206.79 548.25 L206.79 552.509 Q205.031 551.676 203.225 551.236 Q201.443 550.796 199.683 550.796 Q195.054 550.796 192.6 553.921 Q190.17 557.046 189.822 563.366 Q191.188 561.352 193.248 560.287 Q195.308 559.199 197.785 559.199 Q202.994 559.199 206.003 562.37 Q209.035 565.518 209.035 570.958 Q209.035 576.282 205.887 579.5 Q202.739 582.717 197.507 582.717 Q191.512 582.717 188.341 578.134 Q185.17 573.528 185.17 564.801 Q185.17 556.606 189.058 551.745 Q192.947 546.861 199.498 546.861 Q201.257 546.861 203.04 547.208 Q204.845 547.556 206.79 548.25 Z\" fill=\"#000000\" fill-rule=\"nonzero\" fill-opacity=\"1\" /><path clip-path=\"url(#clip050)\" d=\"M217.901 578.111 L225.54 578.111 L225.54 551.745 L217.23 553.412 L217.23 549.153 L225.493 547.486 L230.169 547.486 L230.169 578.111 L237.808 578.111 L237.808 582.046 L217.901 582.046 L217.901 578.111 Z\" fill=\"#000000\" fill-rule=\"nonzero\" fill-opacity=\"1\" /><path clip-path=\"url(#clip050)\" d=\"M152.068 412.493 Q148.457 412.493 146.628 416.057 Q144.823 419.599 144.823 426.729 Q144.823 433.835 146.628 437.4 Q148.457 440.942 152.068 440.942 Q155.702 440.942 157.508 437.4 Q159.336 433.835 159.336 426.729 Q159.336 419.599 157.508 416.057 Q155.702 412.493 152.068 412.493 M152.068 408.789 Q157.878 408.789 160.934 413.395 Q164.012 417.979 164.012 426.729 Q164.012 435.456 160.934 440.062 Q157.878 444.645 152.068 444.645 Q146.258 444.645 143.179 440.062 Q140.123 435.456 140.123 426.729 Q140.123 417.979 143.179 413.395 Q146.258 408.789 152.068 408.789 Z\" fill=\"#000000\" fill-rule=\"nonzero\" fill-opacity=\"1\" /><path clip-path=\"url(#clip050)\" d=\"M172.23 438.094 L177.114 438.094 L177.114 443.974 L172.23 443.974 L172.23 438.094 Z\" fill=\"#000000\" fill-rule=\"nonzero\" fill-opacity=\"1\" /><path clip-path=\"url(#clip050)\" d=\"M197.878 424.831 Q194.73 424.831 192.878 426.983 Q191.049 429.136 191.049 432.886 Q191.049 436.613 192.878 438.789 Q194.73 440.942 197.878 440.942 Q201.026 440.942 202.855 438.789 Q204.706 436.613 204.706 432.886 Q204.706 429.136 202.855 426.983 Q201.026 424.831 197.878 424.831 M207.16 410.178 L207.16 414.437 Q205.401 413.604 203.595 413.164 Q201.813 412.724 200.054 412.724 Q195.424 412.724 192.97 415.849 Q190.54 418.974 190.193 425.294 Q191.558 423.28 193.619 422.215 Q195.679 421.127 198.156 421.127 Q203.364 421.127 206.373 424.298 Q209.406 427.446 209.406 432.886 Q209.406 438.21 206.257 441.428 Q203.109 444.645 197.878 444.645 Q191.882 444.645 188.711 440.062 Q185.54 435.456 185.54 426.729 Q185.54 418.534 189.429 413.673 Q193.318 408.789 199.869 408.789 Q201.628 408.789 203.41 409.136 Q205.216 409.483 207.16 410.178 Z\" fill=\"#000000\" fill-rule=\"nonzero\" fill-opacity=\"1\" /><path clip-path=\"url(#clip050)\" d=\"M221.489 440.039 L237.808 440.039 L237.808 443.974 L215.864 443.974 L215.864 440.039 Q218.526 437.284 223.109 432.655 Q227.716 428.002 228.896 426.659 Q231.142 424.136 232.021 422.4 Q232.924 420.641 232.924 418.951 Q232.924 416.196 230.979 414.46 Q229.058 412.724 225.956 412.724 Q223.757 412.724 221.304 413.488 Q218.873 414.252 216.095 415.803 L216.095 411.081 Q218.919 409.946 221.373 409.368 Q223.827 408.789 225.864 408.789 Q231.234 408.789 234.429 411.474 Q237.623 414.159 237.623 418.65 Q237.623 420.78 236.813 422.701 Q236.026 424.599 233.919 427.192 Q233.341 427.863 230.239 431.081 Q227.137 434.275 221.489 440.039 Z\" fill=\"#000000\" fill-rule=\"nonzero\" fill-opacity=\"1\" /><path clip-path=\"url(#clip050)\" d=\"M151.119 274.421 Q147.508 274.421 145.679 277.985 Q143.873 281.527 143.873 288.657 Q143.873 295.763 145.679 299.328 Q147.508 302.87 151.119 302.87 Q154.753 302.87 156.559 299.328 Q158.387 295.763 158.387 288.657 Q158.387 281.527 156.559 277.985 Q154.753 274.421 151.119 274.421 M151.119 270.717 Q156.929 270.717 159.984 275.323 Q163.063 279.907 163.063 288.657 Q163.063 297.383 159.984 301.99 Q156.929 306.573 151.119 306.573 Q145.309 306.573 142.23 301.99 Q139.174 297.383 139.174 288.657 Q139.174 279.907 142.23 275.323 Q145.309 270.717 151.119 270.717 Z\" fill=\"#000000\" fill-rule=\"nonzero\" fill-opacity=\"1\" /><path clip-path=\"url(#clip050)\" d=\"M171.281 300.022 L176.165 300.022 L176.165 305.902 L171.281 305.902 L171.281 300.022 Z\" fill=\"#000000\" fill-rule=\"nonzero\" fill-opacity=\"1\" /><path clip-path=\"url(#clip050)\" d=\"M196.929 286.759 Q193.781 286.759 191.929 288.911 Q190.1 291.064 190.1 294.814 Q190.1 298.541 191.929 300.717 Q193.781 302.87 196.929 302.87 Q200.077 302.87 201.906 300.717 Q203.757 298.541 203.757 294.814 Q203.757 291.064 201.906 288.911 Q200.077 286.759 196.929 286.759 M206.211 272.106 L206.211 276.365 Q204.452 275.532 202.646 275.092 Q200.864 274.652 199.105 274.652 Q194.475 274.652 192.021 277.777 Q189.591 280.902 189.244 287.221 Q190.609 285.208 192.669 284.143 Q194.73 283.055 197.207 283.055 Q202.415 283.055 205.424 286.226 Q208.456 289.374 208.456 294.814 Q208.456 300.138 205.308 303.356 Q202.16 306.573 196.929 306.573 Q190.933 306.573 187.762 301.99 Q184.591 297.383 184.591 288.657 Q184.591 280.462 188.48 275.601 Q192.369 270.717 198.919 270.717 Q200.679 270.717 202.461 271.064 Q204.267 271.411 206.211 272.106 Z\" fill=\"#000000\" fill-rule=\"nonzero\" fill-opacity=\"1\" /><path clip-path=\"url(#clip050)\" d=\"M230.679 287.268 Q234.035 287.985 235.91 290.254 Q237.808 292.522 237.808 295.856 Q237.808 300.971 234.29 303.772 Q230.771 306.573 224.29 306.573 Q222.114 306.573 219.799 306.133 Q217.507 305.717 215.054 304.86 L215.054 300.346 Q216.998 301.481 219.313 302.059 Q221.628 302.638 224.151 302.638 Q228.549 302.638 230.841 300.902 Q233.155 299.166 233.155 295.856 Q233.155 292.8 231.003 291.087 Q228.873 289.351 225.054 289.351 L221.026 289.351 L221.026 285.509 L225.239 285.509 Q228.688 285.509 230.517 284.143 Q232.345 282.754 232.345 280.161 Q232.345 277.499 230.447 276.087 Q228.572 274.652 225.054 274.652 Q223.132 274.652 220.933 275.069 Q218.734 275.485 216.095 276.365 L216.095 272.198 Q218.757 271.458 221.072 271.087 Q223.41 270.717 225.47 270.717 Q230.794 270.717 233.896 273.147 Q236.998 275.555 236.998 279.675 Q236.998 282.546 235.354 284.536 Q233.711 286.504 230.679 287.268 Z\" fill=\"#000000\" fill-rule=\"nonzero\" fill-opacity=\"1\" /><path clip-path=\"url(#clip050)\" d=\"M149.985 136.349 Q146.373 136.349 144.545 139.913 Q142.739 143.455 142.739 150.585 Q142.739 157.691 144.545 161.256 Q146.373 164.797 149.985 164.797 Q153.619 164.797 155.424 161.256 Q157.253 157.691 157.253 150.585 Q157.253 143.455 155.424 139.913 Q153.619 136.349 149.985 136.349 M149.985 132.645 Q155.795 132.645 158.85 137.251 Q161.929 141.835 161.929 150.585 Q161.929 159.311 158.85 163.918 Q155.795 168.501 149.985 168.501 Q144.174 168.501 141.096 163.918 Q138.04 159.311 138.04 150.585 Q138.04 141.835 141.096 137.251 Q144.174 132.645 149.985 132.645 Z\" fill=\"#000000\" fill-rule=\"nonzero\" fill-opacity=\"1\" /><path clip-path=\"url(#clip050)\" d=\"M170.146 161.95 L175.031 161.95 L175.031 167.83 L170.146 167.83 L170.146 161.95 Z\" fill=\"#000000\" fill-rule=\"nonzero\" fill-opacity=\"1\" /><path clip-path=\"url(#clip050)\" d=\"M195.794 148.686 Q192.646 148.686 190.795 150.839 Q188.966 152.992 188.966 156.742 Q188.966 160.469 190.795 162.645 Q192.646 164.797 195.794 164.797 Q198.943 164.797 200.771 162.645 Q202.623 160.469 202.623 156.742 Q202.623 152.992 200.771 150.839 Q198.943 148.686 195.794 148.686 M205.077 134.034 L205.077 138.293 Q203.318 137.46 201.512 137.02 Q199.73 136.58 197.97 136.58 Q193.341 136.58 190.887 139.705 Q188.457 142.83 188.109 149.149 Q189.475 147.135 191.535 146.071 Q193.595 144.983 196.072 144.983 Q201.281 144.983 204.29 148.154 Q207.322 151.302 207.322 156.742 Q207.322 162.066 204.174 165.284 Q201.026 168.501 195.794 168.501 Q189.799 168.501 186.628 163.918 Q183.457 159.311 183.457 150.585 Q183.457 142.39 187.345 137.529 Q191.234 132.645 197.785 132.645 Q199.544 132.645 201.327 132.992 Q203.132 133.339 205.077 134.034 Z\" fill=\"#000000\" fill-rule=\"nonzero\" fill-opacity=\"1\" /><path clip-path=\"url(#clip050)\" d=\"M228.225 137.344 L216.419 155.793 L228.225 155.793 L228.225 137.344 M226.998 133.27 L232.878 133.27 L232.878 155.793 L237.808 155.793 L237.808 159.682 L232.878 159.682 L232.878 167.83 L228.225 167.83 L228.225 159.682 L212.623 159.682 L212.623 155.168 L226.998 133.27 Z\" fill=\"#000000\" fill-rule=\"nonzero\" fill-opacity=\"1\" /><path clip-path=\"url(#clip050)\" d=\"M66.098 572.691 L89.7466 581.412 L89.7466 563.939 L66.098 572.691 M59.7642 576.32 L59.7642 569.031 L107.284 550.921 L107.284 557.605 L95.0938 561.933 L95.0938 583.354 L107.284 587.683 L107.284 594.462 L59.7642 576.32 Z\" fill=\"#000000\" fill-rule=\"nonzero\" fill-opacity=\"1\" /><path clip-path=\"url(#clip050)\" d=\"M73.0048 519.729 L78.4793 519.729 Q77.1107 522.211 76.4423 524.726 Q75.7421 527.208 75.7421 529.755 Q75.7421 535.452 79.3705 538.603 Q82.9672 541.754 89.492 541.754 Q96.0169 541.754 99.6453 538.603 Q103.242 535.452 103.242 529.755 Q103.242 527.208 102.574 524.726 Q101.873 522.211 100.505 519.729 L105.916 519.729 Q107.061 522.18 107.634 524.821 Q108.207 527.431 108.207 530.391 Q108.207 538.444 103.146 543.186 Q98.0857 547.929 89.492 547.929 Q80.771 547.929 75.7739 543.155 Q70.7768 538.348 70.7768 530.009 Q70.7768 527.304 71.3497 524.726 Q71.8908 522.148 73.0048 519.729 Z\" fill=\"#000000\" fill-rule=\"nonzero\" fill-opacity=\"1\" /><path clip-path=\"url(#clip050)\" d=\"M73.0048 483.89 L78.4793 483.89 Q77.1107 486.372 76.4423 488.887 Q75.7421 491.37 75.7421 493.916 Q75.7421 499.613 79.3705 502.764 Q82.9672 505.915 89.492 505.915 Q96.0169 505.915 99.6453 502.764 Q103.242 499.613 103.242 493.916 Q103.242 491.37 102.574 488.887 Q101.873 486.372 100.505 483.89 L105.916 483.89 Q107.061 486.341 107.634 488.982 Q108.207 491.592 108.207 494.552 Q108.207 502.605 103.146 507.347 Q98.0857 512.09 89.492 512.09 Q80.771 512.09 75.7739 507.316 Q70.7768 502.51 70.7768 494.17 Q70.7768 491.465 71.3497 488.887 Q71.8908 486.309 73.0048 483.89 Z\" fill=\"#000000\" fill-rule=\"nonzero\" fill-opacity=\"1\" /><path clip-path=\"url(#clip050)\" d=\"M93.2159 474.309 L71.6362 474.309 L71.6362 468.453 L92.9931 468.453 Q98.0539 468.453 100.6 466.48 Q103.115 464.506 103.115 460.56 Q103.115 455.817 100.091 453.08 Q97.0672 450.311 91.8473 450.311 L71.6362 450.311 L71.6362 444.454 L107.284 444.454 L107.284 450.311 L101.81 450.311 Q105.056 452.443 106.648 455.276 Q108.207 458.077 108.207 461.801 Q108.207 467.944 104.388 471.127 Q100.568 474.309 93.2159 474.309 M70.7768 459.573 L70.7768 459.573 Z\" fill=\"#000000\" fill-rule=\"nonzero\" fill-opacity=\"1\" /><path clip-path=\"url(#clip050)\" d=\"M77.1107 411.735 Q76.5378 412.721 76.2832 413.899 Q75.9967 415.045 75.9967 416.445 Q75.9967 421.41 79.2432 424.084 Q82.4579 426.726 88.5053 426.726 L107.284 426.726 L107.284 432.614 L71.6362 432.614 L71.6362 426.726 L77.1744 426.726 Q73.9279 424.88 72.3683 421.92 Q70.7768 418.96 70.7768 414.726 Q70.7768 414.122 70.8723 413.39 Q70.936 412.658 71.0951 411.766 L77.1107 411.735 Z\" fill=\"#000000\" fill-rule=\"nonzero\" fill-opacity=\"1\" /><path clip-path=\"url(#clip050)\" d=\"M89.3647 389.391 Q89.3647 396.489 90.9879 399.226 Q92.6112 401.963 96.5261 401.963 Q99.6453 401.963 101.491 399.926 Q103.306 397.857 103.306 394.324 Q103.306 389.455 99.8681 386.526 Q96.3988 383.566 90.6697 383.566 L89.3647 383.566 L89.3647 389.391 M86.9457 377.71 L107.284 377.71 L107.284 383.566 L101.873 383.566 Q105.12 385.572 106.679 388.563 Q108.207 391.555 108.207 395.884 Q108.207 401.358 105.152 404.605 Q102.064 407.82 96.9081 407.82 Q90.8925 407.82 87.8369 403.809 Q84.7814 399.767 84.7814 391.778 L84.7814 383.566 L84.2085 383.566 Q80.1662 383.566 77.9701 386.24 Q75.7421 388.882 75.7421 393.688 Q75.7421 396.743 76.4741 399.64 Q77.2062 402.536 78.6703 405.21 L73.2595 405.21 Q72.0181 401.995 71.4134 398.971 Q70.7768 395.948 70.7768 393.083 Q70.7768 385.349 74.7872 381.529 Q78.7976 377.71 86.9457 377.71 Z\" fill=\"#000000\" fill-rule=\"nonzero\" fill-opacity=\"1\" /><path clip-path=\"url(#clip050)\" d=\"M73.0048 339.993 L78.4793 339.993 Q77.1107 342.476 76.4423 344.99 Q75.7421 347.473 75.7421 350.019 Q75.7421 355.716 79.3705 358.867 Q82.9672 362.018 89.492 362.018 Q96.0169 362.018 99.6453 358.867 Q103.242 355.716 103.242 350.019 Q103.242 347.473 102.574 344.99 Q101.873 342.476 100.505 339.993 L105.916 339.993 Q107.061 342.444 107.634 345.086 Q108.207 347.696 108.207 350.656 Q108.207 358.708 103.146 363.451 Q98.0857 368.193 89.492 368.193 Q80.771 368.193 75.7739 363.419 Q70.7768 358.613 70.7768 350.274 Q70.7768 347.568 71.3497 344.99 Q71.8908 342.412 73.0048 339.993 Z\" fill=\"#000000\" fill-rule=\"nonzero\" fill-opacity=\"1\" /><path clip-path=\"url(#clip050)\" d=\"M110.594 314.976 Q116.96 317.458 118.902 319.814 Q120.843 322.169 120.843 326.116 L120.843 330.795 L115.942 330.795 L115.942 327.357 Q115.942 324.938 114.796 323.601 Q113.65 322.265 109.385 320.641 L106.711 319.591 L71.6362 334.009 L71.6362 327.803 L99.518 316.663 L71.6362 305.523 L71.6362 299.316 L110.594 314.976 Z\" fill=\"#000000\" fill-rule=\"nonzero\" fill-opacity=\"1\" /><path clip-path=\"url(#clip050)\" d=\"M57.8226 277.164 Q65.1432 281.429 72.3046 283.497 Q79.466 285.566 86.8184 285.566 Q94.1708 285.566 101.396 283.497 Q108.589 281.397 115.878 277.164 L115.878 282.256 Q108.398 287.03 101.173 289.418 Q93.948 291.773 86.8184 291.773 Q79.7206 291.773 72.5274 289.418 Q65.3342 287.062 57.8226 282.256 L57.8226 277.164 Z\" fill=\"#000000\" fill-rule=\"nonzero\" fill-opacity=\"1\" /><path clip-path=\"url(#clip050)\" d=\"M57.8226 266.724 L57.8226 261.631 Q65.3342 256.857 72.5274 254.502 Q79.7206 252.114 86.8184 252.114 Q93.948 252.114 101.173 254.502 Q108.398 256.857 115.878 261.631 L115.878 266.724 Q108.589 262.491 101.396 260.422 Q94.1708 258.321 86.8184 258.321 Q79.466 258.321 72.3046 260.422 Q65.1432 262.491 57.8226 266.724 Z\" fill=\"#000000\" fill-rule=\"nonzero\" fill-opacity=\"1\" /><circle clip-path=\"url(#clip052)\" cx=\"593.272\" cy=\"146.577\" r=\"14.4\" fill=\"#009af9\" fill-rule=\"evenodd\" fill-opacity=\"1\" stroke=\"#000000\" stroke-opacity=\"1\" stroke-width=\"2\"/>\n",
       "<circle clip-path=\"url(#clip052)\" cx=\"939.768\" cy=\"217.528\" r=\"14.4\" fill=\"#009af9\" fill-rule=\"evenodd\" fill-opacity=\"1\" stroke=\"#000000\" stroke-opacity=\"1\" stroke-width=\"2\"/>\n",
       "<circle clip-path=\"url(#clip052)\" cx=\"653.532\" cy=\"231.719\" r=\"14.4\" fill=\"#009af9\" fill-rule=\"evenodd\" fill-opacity=\"1\" stroke=\"#000000\" stroke-opacity=\"1\" stroke-width=\"2\"/>\n",
       "<circle clip-path=\"url(#clip052)\" cx=\"472.751\" cy=\"111.101\" r=\"14.4\" fill=\"#009af9\" fill-rule=\"evenodd\" fill-opacity=\"1\" stroke=\"#000000\" stroke-opacity=\"1\" stroke-width=\"2\"/>\n",
       "<circle clip-path=\"url(#clip052)\" cx=\"397.426\" cy=\"224.623\" r=\"14.4\" fill=\"#009af9\" fill-rule=\"evenodd\" fill-opacity=\"1\" stroke=\"#000000\" stroke-opacity=\"1\" stroke-width=\"2\"/>\n",
       "<circle clip-path=\"url(#clip052)\" cx=\"774.052\" cy=\"196.243\" r=\"14.4\" fill=\"#009af9\" fill-rule=\"evenodd\" fill-opacity=\"1\" stroke=\"#000000\" stroke-opacity=\"1\" stroke-width=\"2\"/>\n",
       "<circle clip-path=\"url(#clip052)\" cx=\"804.183\" cy=\"210.433\" r=\"14.4\" fill=\"#009af9\" fill-rule=\"evenodd\" fill-opacity=\"1\" stroke=\"#000000\" stroke-opacity=\"1\" stroke-width=\"2\"/>\n",
       "<circle clip-path=\"url(#clip052)\" cx=\"533.012\" cy=\"96.9103\" r=\"14.4\" fill=\"#009af9\" fill-rule=\"evenodd\" fill-opacity=\"1\" stroke=\"#000000\" stroke-opacity=\"1\" stroke-width=\"2\"/>\n",
       "<circle clip-path=\"url(#clip052)\" cx=\"969.898\" cy=\"210.433\" r=\"14.4\" fill=\"#009af9\" fill-rule=\"evenodd\" fill-opacity=\"1\" stroke=\"#000000\" stroke-opacity=\"1\" stroke-width=\"2\"/>\n",
       "<circle clip-path=\"url(#clip052)\" cx=\"1030.16\" cy=\"267.194\" r=\"14.4\" fill=\"#009af9\" fill-rule=\"evenodd\" fill-opacity=\"1\" stroke=\"#000000\" stroke-opacity=\"1\" stroke-width=\"2\"/>\n",
       "<circle clip-path=\"url(#clip052)\" cx=\"909.638\" cy=\"196.243\" r=\"14.4\" fill=\"#009af9\" fill-rule=\"evenodd\" fill-opacity=\"1\" stroke=\"#000000\" stroke-opacity=\"1\" stroke-width=\"2\"/>\n",
       "<circle clip-path=\"url(#clip052)\" cx=\"834.313\" cy=\"153.672\" r=\"14.4\" fill=\"#009af9\" fill-rule=\"evenodd\" fill-opacity=\"1\" stroke=\"#000000\" stroke-opacity=\"1\" stroke-width=\"2\"/>\n",
       "<circle clip-path=\"url(#clip052)\" cx=\"879.508\" cy=\"189.148\" r=\"14.4\" fill=\"#009af9\" fill-rule=\"evenodd\" fill-opacity=\"1\" stroke=\"#000000\" stroke-opacity=\"1\" stroke-width=\"2\"/>\n",
       "<circle clip-path=\"url(#clip052)\" cx=\"713.792\" cy=\"238.814\" r=\"14.4\" fill=\"#009af9\" fill-rule=\"evenodd\" fill-opacity=\"1\" stroke=\"#000000\" stroke-opacity=\"1\" stroke-width=\"2\"/>\n",
       "<circle clip-path=\"url(#clip052)\" cx=\"743.922\" cy=\"167.862\" r=\"14.4\" fill=\"#009af9\" fill-rule=\"evenodd\" fill-opacity=\"1\" stroke=\"#000000\" stroke-opacity=\"1\" stroke-width=\"2\"/>\n",
       "<circle clip-path=\"url(#clip052)\" cx=\"367.296\" cy=\"189.148\" r=\"14.4\" fill=\"#009af9\" fill-rule=\"evenodd\" fill-opacity=\"1\" stroke=\"#000000\" stroke-opacity=\"1\" stroke-width=\"2\"/>\n",
       "<circle clip-path=\"url(#clip052)\" cx=\"427.556\" cy=\"153.672\" r=\"14.4\" fill=\"#009af9\" fill-rule=\"evenodd\" fill-opacity=\"1\" stroke=\"#000000\" stroke-opacity=\"1\" stroke-width=\"2\"/>\n",
       "<circle clip-path=\"url(#clip052)\" cx=\"337.166\" cy=\"288.48\" r=\"14.4\" fill=\"#009af9\" fill-rule=\"evenodd\" fill-opacity=\"1\" stroke=\"#000000\" stroke-opacity=\"1\" stroke-width=\"2\"/>\n",
       "<circle clip-path=\"url(#clip052)\" cx=\"683.662\" cy=\"153.672\" r=\"14.4\" fill=\"#009af9\" fill-rule=\"evenodd\" fill-opacity=\"1\" stroke=\"#000000\" stroke-opacity=\"1\" stroke-width=\"2\"/>\n",
       "<circle clip-path=\"url(#clip052)\" cx=\"307.036\" cy=\"458.764\" r=\"14.4\" fill=\"#009af9\" fill-rule=\"evenodd\" fill-opacity=\"1\" stroke=\"#000000\" stroke-opacity=\"1\" stroke-width=\"2\"/>\n",
       "<circle clip-path=\"url(#clip052)\" cx=\"502.882\" cy=\"68.5296\" r=\"14.4\" fill=\"#009af9\" fill-rule=\"evenodd\" fill-opacity=\"1\" stroke=\"#000000\" stroke-opacity=\"1\" stroke-width=\"2\"/>\n",
       "<circle clip-path=\"url(#clip052)\" cx=\"276.906\" cy=\"778.047\" r=\"14.4\" fill=\"#009af9\" fill-rule=\"evenodd\" fill-opacity=\"1\" stroke=\"#000000\" stroke-opacity=\"1\" stroke-width=\"2\"/>\n",
       "<circle clip-path=\"url(#clip052)\" cx=\"623.402\" cy=\"196.243\" r=\"14.4\" fill=\"#009af9\" fill-rule=\"evenodd\" fill-opacity=\"1\" stroke=\"#000000\" stroke-opacity=\"1\" stroke-width=\"2\"/>\n",
       "<circle clip-path=\"url(#clip052)\" cx=\"563.142\" cy=\"174.957\" r=\"14.4\" fill=\"#009af9\" fill-rule=\"evenodd\" fill-opacity=\"1\" stroke=\"#000000\" stroke-opacity=\"1\" stroke-width=\"2\"/>\n",
       "<circle clip-path=\"url(#clip052)\" cx=\"1000.03\" cy=\"217.528\" r=\"14.4\" fill=\"#009af9\" fill-rule=\"evenodd\" fill-opacity=\"1\" stroke=\"#000000\" stroke-opacity=\"1\" stroke-width=\"2\"/>\n",
       "</svg>\n"
      ]
     },
     "execution_count": 20,
     "metadata": {},
     "output_type": "execute_result"
    }
   ],
   "source": [
    "# The plot\n",
    "Plots.plot(mach2)"
   ]
  },
  {
   "cell_type": "markdown",
   "id": "d69504fb",
   "metadata": {
    "slideshow": {
     "slide_type": "slide"
    }
   },
   "source": [
    "## Classification\n",
    "\n",
    "### K-Nearest Neighbors Classifier\n",
    "\n",
    "**Grid Search**"
   ]
  },
  {
   "cell_type": "code",
   "execution_count": 21,
   "id": "fea1cc03",
   "metadata": {},
   "outputs": [
    {
     "data": {
      "text/plain": [
       "KNNClassifier(\n",
       "  K = 20, \n",
       "  algorithm = :kdtree, \n",
       "  metric = Distances.Euclidean(0.0), \n",
       "  leafsize = 10, \n",
       "  reorder = true, \n",
       "  weights = NearestNeighborModels.Uniform())"
      ]
     },
     "execution_count": 21,
     "metadata": {},
     "output_type": "execute_result"
    }
   ],
   "source": [
    "# Best Model parameters (not needed)\n",
    "fitted_params(mach2).best_model"
   ]
  },
  {
   "cell_type": "markdown",
   "id": "c6ef8ecb",
   "metadata": {
    "slideshow": {
     "slide_type": "slide"
    }
   },
   "source": [
    "## Classification\n",
    "\n",
    "### K-Nearest Neighbors Classifier\n",
    "\n",
    "**Grid Search**"
   ]
  },
  {
   "cell_type": "code",
   "execution_count": 22,
   "id": "7ad5840d",
   "metadata": {},
   "outputs": [
    {
     "data": {
      "text/plain": [
       "0.6577319587628866"
      ]
     },
     "execution_count": 22,
     "metadata": {},
     "output_type": "execute_result"
    }
   ],
   "source": [
    "# Predicted accuracy of best model on testing set\n",
    "ypred_mode2 = MLJ.predict_mode(mach2, X_test);\n",
    "accuracy(y_test, ypred_mode2)"
   ]
  },
  {
   "cell_type": "code",
   "execution_count": 23,
   "id": "98fcd48d",
   "metadata": {},
   "outputs": [
    {
     "data": {
      "text/plain": [
       "          ┌───────────────┐\n",
       "          │ Ground Truth  │\n",
       "┌─────────┼───┬───┬───┬───┤\n",
       "│Predicted│ A │ N │ U │ Y │\n",
       "├─────────┼───┼───┼───┼───┤\n",
       "│    A    │ 0 │ 0 │ 0 │ 0 │\n",
       "├─────────┼───┼───┼───┼───┤\n",
       "│    N    │16 │156│43 │15 │\n",
       "├─────────┼───┼───┼───┼───┤\n",
       "│    U    │ 8 │ 6 │28 │17 │\n",
       "├─────────┼───┼───┼───┼───┤\n",
       "│    Y    │11 │11 │39 │135│\n",
       "└─────────┴───┴───┴───┴───┘\n"
      ]
     },
     "execution_count": 23,
     "metadata": {},
     "output_type": "execute_result"
    }
   ],
   "source": [
    "confusion_matrix(ypred_mode2, y_test) "
   ]
  },
  {
   "cell_type": "markdown",
   "id": "b496aa23",
   "metadata": {
    "slideshow": {
     "slide_type": "slide"
    }
   },
   "source": [
    "## Beyond Linearity"
   ]
  },
  {
   "cell_type": "markdown",
   "id": "bff5a223",
   "metadata": {
    "slideshow": {
     "slide_type": "slide"
    }
   },
   "source": [
    "## Beyond Linearity\n",
    "\n",
    "So far, we have focused on linear models.\n",
    "\n",
    "Most of the time, linear approximations are excellent:\n",
    "- Easy to interpret\n",
    "- Easy to run\n",
    "\n",
    "And all the GLM flavors afford lots of flexibility regarding how we deal with data.\n",
    "\n",
    "In the following two lectures, we relax the linearity assumption but keep it as simple as possible."
   ]
  },
  {
   "cell_type": "markdown",
   "id": "797cddd0",
   "metadata": {
    "slideshow": {
     "slide_type": "slide"
    }
   },
   "source": [
    "## Polynomial Regression\n",
    "\n",
    "Expands the default model ($y_i = \\beta_0 + \\beta_1x_i + \\varepsilon_i$) to consider a polynomial $d$:\n",
    "\n",
    "$$ y_i = \\beta_0 + \\beta_1x_i + \\beta_2x_i^2 +\\cdots + \\beta_dx_i^d + \\varepsilon_i $$\n",
    "                     \n",
    "Lots of flexibility here, but we seldom use $d>4$ because then it gets *excessively* flexible.\n",
    "\n",
    "Prediction very straightforward:\n",
    "\n",
    "$$ \\hat{f}(x_0) = \\hat{\\beta}_0 + \\hat{\\beta}_1x_0 + \\hat{\\beta}_2x_0^2 +\\cdots + \\hat{\\beta}_dx_0^d $$"
   ]
  },
  {
   "cell_type": "markdown",
   "id": "21a35d11",
   "metadata": {
    "slideshow": {
     "slide_type": "slide"
    }
   },
   "source": [
    "## Polynomial Regression\n",
    "\n",
    "![img](https://github.com/umbertomig/POLI175julia/blob/c9b0555e3e97778495bee72746aee43ddf3226d7/img/polyreg1.png?raw=true)"
   ]
  },
  {
   "cell_type": "markdown",
   "id": "ea01a5a8",
   "metadata": {
    "slideshow": {
     "slide_type": "slide"
    }
   },
   "source": [
    "## Polynomial Regression\n",
    "\n",
    "Let us try to explain `education` expenditure using per capita `income`."
   ]
  },
  {
   "cell_type": "code",
   "execution_count": null,
   "id": "5940e713",
   "metadata": {},
   "outputs": [],
   "source": [
    "# Checking\n",
    "first(educ, 3)"
   ]
  },
  {
   "cell_type": "markdown",
   "id": "dad4b2e4",
   "metadata": {
    "slideshow": {
     "slide_type": "slide"
    }
   },
   "source": [
    "## Polynomial Regression\n",
    "\n",
    "Let us try to explain `education` expenditure using per capita `income`."
   ]
  },
  {
   "cell_type": "code",
   "execution_count": null,
   "id": "0d101315",
   "metadata": {},
   "outputs": [],
   "source": [
    "educaux = educ[:, [\"education\", \"income\"]];\n",
    "educaux.income2 = educaux.income .^ 2;\n",
    "educaux.income3 = educaux.income .^ 3;\n",
    "educaux.income4 = educaux.income .^ 4;\n",
    "educaux.income5 = educaux.income .^ 5;\n",
    "educaux.income6 = educaux.income .^ 6;"
   ]
  },
  {
   "cell_type": "code",
   "execution_count": null,
   "id": "ac6064ce",
   "metadata": {},
   "outputs": [],
   "source": [
    "y, X = unpack(\n",
    "    educaux, ## Variables we need\n",
    "    ==(:education);                        ## Target (all else features...)\n",
    "    :education   => Continuous,            ## Var types\n",
    "    :income      => Continuous,\n",
    "    :income2     => Continuous,\n",
    "    :income3     => Continuous,\n",
    "    :income4     => Continuous,\n",
    "    :income5     => Continuous,\n",
    "    :income6     => Continuous,\n",
    ");"
   ]
  },
  {
   "cell_type": "markdown",
   "id": "63337094",
   "metadata": {
    "slideshow": {
     "slide_type": "slide"
    }
   },
   "source": [
    "## Polynomial Regression"
   ]
  },
  {
   "cell_type": "code",
   "execution_count": null,
   "id": "a87b88da",
   "metadata": {},
   "outputs": [],
   "source": [
    "linreg = MLJLinearModels.LinearRegressor()"
   ]
  },
  {
   "cell_type": "code",
   "execution_count": null,
   "id": "13ed0ff2",
   "metadata": {},
   "outputs": [],
   "source": [
    "# 3-Fold CV\n",
    "cv3 = CV(\n",
    "    nfolds = 3,  ## Number of cross-validating folds\n",
    "    rng = 45321  ## Random seed\n",
    ");"
   ]
  },
  {
   "cell_type": "markdown",
   "id": "949af29c",
   "metadata": {
    "slideshow": {
     "slide_type": "slide"
    }
   },
   "source": [
    "## Polynomial Regression"
   ]
  },
  {
   "cell_type": "code",
   "execution_count": null,
   "id": "af9bc09e",
   "metadata": {},
   "outputs": [],
   "source": [
    "## Evaluate the Model\n",
    "vars = Vector{String}()\n",
    "for i in (\"income\", \"income2\", \"income3\", \"income4\", \"income5\", \"income6\")\n",
    "    push!(vars, i)\n",
    "    println(\n",
    "        evaluate(linreg,                   ## Model\n",
    "            X[:, vars],                    ## Training features set\n",
    "            y,                             ## Training target set\n",
    "            resampling = cv3,              ## Resampling strategy (in this case, 3-Fold CV)\n",
    "            measure = [l2, rmse],          ## Measures\n",
    "            verbosity = 0)\n",
    "    )\n",
    "end"
   ]
  },
  {
   "cell_type": "markdown",
   "id": "b37251d5",
   "metadata": {},
   "source": [
    "I view the linear regression as the best for this relationship."
   ]
  },
  {
   "cell_type": "markdown",
   "id": "0cd5a4db",
   "metadata": {
    "slideshow": {
     "slide_type": "slide"
    }
   },
   "source": [
    "## Polynomial Regression\n",
    "\n",
    "**Your turn:** Do the same with the proportion of young."
   ]
  },
  {
   "cell_type": "code",
   "execution_count": null,
   "id": "fc8466f8",
   "metadata": {},
   "outputs": [],
   "source": [
    "# Your code here"
   ]
  },
  {
   "cell_type": "markdown",
   "id": "05794a41",
   "metadata": {
    "slideshow": {
     "slide_type": "slide"
    }
   },
   "source": [
    "## Basis Functions\n",
    "\n",
    "Family of transformations $b_i(X)$ such that, instead of fitting a regression model in $X$, we fit:\n",
    "\n",
    "$$ y_i \\ = \\ \\beta_0 + \\beta_1b_1(x_i) + \\beta_2b_2(x_i) + \\cdots + \\beta_kb_k(x_i) + \\varepsilon_i $$\n",
    "\n",
    "In this sense:\n",
    "- Polynomial Regression: $b_j(x_i) = x_i^j$\n",
    "- Constant-piecewise Regression: $b_j(x_i) = C_j(x_i) = I(c_j \\leq X < c_{j+1})$\n",
    "    \n",
    "Meaning: they are cases of a broader set of basis functions."
   ]
  },
  {
   "cell_type": "markdown",
   "id": "f697d9d7",
   "metadata": {
    "slideshow": {
     "slide_type": "slide"
    }
   },
   "source": [
    "## Basis Functions\n",
    "\n",
    "Cases:\n",
    "\n",
    "- [Piecewise Constant Regression](https://en.wikipedia.org/wiki/Step_function)\n",
    "- [Fourier series](https://en.wikipedia.org/wiki/Fourier_series)\n",
    "- [Splines](https://en.wikipedia.org/wiki/Spline_(mathematics))\n",
    "- [GAMs](https://en.wikipedia.org/wiki/Generalized_additive_model)\n",
    "    \n",
    "We are going to study a few of these in the next lecture."
   ]
  },
  {
   "cell_type": "markdown",
   "id": "d8eace45",
   "metadata": {
    "slideshow": {
     "slide_type": "slide"
    }
   },
   "source": [
    "# Questions?"
   ]
  },
  {
   "cell_type": "markdown",
   "id": "22d252e9",
   "metadata": {
    "slideshow": {
     "slide_type": "slide"
    }
   },
   "source": [
    "# See you next class\n"
   ]
  }
 ],
 "metadata": {
  "celltoolbar": "Slideshow",
  "kernelspec": {
   "display_name": "Julia 1.9.2",
   "language": "julia",
   "name": "julia-1.9"
  },
  "language_info": {
   "file_extension": ".jl",
   "mimetype": "application/julia",
   "name": "julia",
   "version": "1.9.2"
  }
 },
 "nbformat": 4,
 "nbformat_minor": 5
}
