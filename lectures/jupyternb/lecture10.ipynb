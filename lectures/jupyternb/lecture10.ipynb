{
 "cells": [
  {
   "cell_type": "markdown",
   "id": "243e38f9",
   "metadata": {
    "slideshow": {
     "slide_type": "slide"
    }
   },
   "source": [
    "# POLI 175 - Lecture 10\n",
    "\n",
    "## Resampling"
   ]
  },
  {
   "cell_type": "markdown",
   "id": "754b027f",
   "metadata": {
    "slideshow": {
     "slide_type": "slide"
    }
   },
   "source": [
    "# Resampling"
   ]
  },
  {
   "cell_type": "markdown",
   "id": "d3773c9f",
   "metadata": {
    "slideshow": {
     "slide_type": "slide"
    }
   },
   "source": [
    "## Resampling\n",
    "\n",
    "Involve repeatedly drawing `samples` for a `training dataset` to obtain fitting information.\n",
    "\n",
    "`Samples`: A randomly selected fraction of the original data. Do not mistake it for a different sample from a population.\n",
    "    \n",
    "`Training`: Training the model means to fit the model and find out the model's parameters. In a regression, this means identify the $\\beta$'s."
   ]
  },
  {
   "cell_type": "markdown",
   "id": "692b2555",
   "metadata": {
    "slideshow": {
     "slide_type": "slide"
    }
   },
   "source": [
    "## Resampling\n",
    "\n",
    "### Why not fit the model into the actual data?\n",
    "\n",
    "We need a measure of how well a model is doing.\n",
    "\n",
    "In the end, this matters! And it matters especially for the data that we did not train the model!\n",
    "\n",
    "Resampling is a clever trick to see how the model would do in the `real world`, without actually deploying it in the real world."
   ]
  },
  {
   "cell_type": "markdown",
   "id": "e82158a7",
   "metadata": {
    "slideshow": {
     "slide_type": "slide"
    }
   },
   "source": [
    "## Resampling\n",
    "\n",
    "Helps us to:\n",
    "\n",
    "1. Evaluate the performance of the model (`Model assessment`).\n",
    "2. Select the proper flexibility for our model (`Model selection`).\n",
    "\n",
    "**Drawback:** Resampling methods are computationally intensive. Resampling involves refitting the model again and again.\n",
    "    \n",
    "We are going to discuss the following:\n",
    "\n",
    "- `Cross-validation`: Measures the performance and selects appropriate flexibility (bias-variance trade-off).\n",
    "- `Bootstrap`: Measures the accuracy of parameters."
   ]
  },
  {
   "cell_type": "markdown",
   "id": "bb985516",
   "metadata": {
    "slideshow": {
     "slide_type": "slide"
    }
   },
   "source": [
    "## Class Examples\n",
    "\n",
    "1. Education expenditure dataset\n",
    "\n",
    "1. Pinochet voting dataset\n",
    "\n",
    "Let us load them all:"
   ]
  },
  {
   "cell_type": "code",
   "execution_count": 1,
   "id": "b55c5cf0",
   "metadata": {
    "slideshow": {
     "slide_type": "-"
    }
   },
   "outputs": [
    {
     "data": {
      "text/plain": [
       "onehot! (generic function with 2 methods)"
      ]
     },
     "execution_count": 1,
     "metadata": {},
     "output_type": "execute_result"
    }
   ],
   "source": [
    "## Packages Here\n",
    "using DataFrames\n",
    "using MLJ, MLJIteration\n",
    "import MLJLinearModels, MLJBase\n",
    "import MultivariateStats, MLJMultivariateStatsInterface\n",
    "import CSV, Plots, GLM, StatsBase, Random\n",
    "import LaTeXStrings, StatsPlots, Lowess, Gadfly, RegressionTables\n",
    "import CovarianceMatrices, Econometrics, LinearAlgebra, MixedModelsExtras\n",
    "import Missings, StatsAPI, FreqTables, EvalMetrics\n",
    "import NearestNeighborModels\n",
    "\n",
    "# Adapted from @xiaodaigh: https://github.com/xiaodaigh/DataConvenience.jl\n",
    "function onehot!(df::AbstractDataFrame, \n",
    "        col, cate = sort(unique(df[!, col])); \n",
    "        outnames = Symbol.(col, :_, cate))\n",
    "    transform!(df, @. col => ByRow(isequal(cate)) .=> outnames)\n",
    "end"
   ]
  },
  {
   "cell_type": "markdown",
   "id": "295b5c5e",
   "metadata": {
    "slideshow": {
     "slide_type": "slide"
    }
   },
   "source": [
    "## Class Examples"
   ]
  },
  {
   "cell_type": "code",
   "execution_count": 2,
   "id": "4704653f",
   "metadata": {
    "slideshow": {
     "slide_type": "-"
    }
   },
   "outputs": [
    {
     "data": {
      "text/html": [
       "<div><div style = \"float: left;\"><span>3×13 DataFrame</span></div><div style = \"clear: both;\"></div></div><div class = \"data-frame\" style = \"overflow-x: scroll;\"><table class = \"data-frame\" style = \"margin-bottom: 6px;\"><thead><tr class = \"header\"><th class = \"rowNumber\" style = \"font-weight: bold; text-align: right;\">Row</th><th style = \"text-align: left;\">population</th><th style = \"text-align: left;\">age</th><th style = \"text-align: left;\">income</th><th style = \"text-align: left;\">statusquo</th><th style = \"text-align: left;\">vote</th><th style = \"text-align: left;\">voteyes</th><th style = \"text-align: left;\">region_M</th><th style = \"text-align: left;\">region_N</th><th style = \"text-align: left;\">region_S</th><th style = \"text-align: left;\">region_SA</th><th style = \"text-align: left;\">education_PS</th><th style = \"text-align: left;\">education_S</th><th style = \"text-align: left;\">sex_F</th></tr><tr class = \"subheader headerLastRow\"><th class = \"rowNumber\" style = \"font-weight: bold; text-align: right;\"></th><th title = \"Int64\" style = \"text-align: left;\">Int64</th><th title = \"Int64\" style = \"text-align: left;\">Int64</th><th title = \"Int64\" style = \"text-align: left;\">Int64</th><th title = \"Float64\" style = \"text-align: left;\">Float64</th><th title = \"InlineStrings.String1\" style = \"text-align: left;\">String1</th><th title = \"Int64\" style = \"text-align: left;\">Int64</th><th title = \"Bool\" style = \"text-align: left;\">Bool</th><th title = \"Bool\" style = \"text-align: left;\">Bool</th><th title = \"Bool\" style = \"text-align: left;\">Bool</th><th title = \"Bool\" style = \"text-align: left;\">Bool</th><th title = \"Bool\" style = \"text-align: left;\">Bool</th><th title = \"Bool\" style = \"text-align: left;\">Bool</th><th title = \"Bool\" style = \"text-align: left;\">Bool</th></tr></thead><tbody><tr><td class = \"rowNumber\" style = \"font-weight: bold; text-align: right;\">1</td><td style = \"text-align: right;\">175000</td><td style = \"text-align: right;\">65</td><td style = \"text-align: right;\">35000</td><td style = \"text-align: right;\">1.0082</td><td style = \"text-align: left;\">Y</td><td style = \"text-align: right;\">1</td><td style = \"text-align: right;\">false</td><td style = \"text-align: right;\">true</td><td style = \"text-align: right;\">false</td><td style = \"text-align: right;\">false</td><td style = \"text-align: right;\">false</td><td style = \"text-align: right;\">false</td><td style = \"text-align: right;\">false</td></tr><tr><td class = \"rowNumber\" style = \"font-weight: bold; text-align: right;\">2</td><td style = \"text-align: right;\">175000</td><td style = \"text-align: right;\">29</td><td style = \"text-align: right;\">7500</td><td style = \"text-align: right;\">-1.29617</td><td style = \"text-align: left;\">N</td><td style = \"text-align: right;\">0</td><td style = \"text-align: right;\">false</td><td style = \"text-align: right;\">true</td><td style = \"text-align: right;\">false</td><td style = \"text-align: right;\">false</td><td style = \"text-align: right;\">true</td><td style = \"text-align: right;\">false</td><td style = \"text-align: right;\">false</td></tr><tr><td class = \"rowNumber\" style = \"font-weight: bold; text-align: right;\">3</td><td style = \"text-align: right;\">175000</td><td style = \"text-align: right;\">38</td><td style = \"text-align: right;\">15000</td><td style = \"text-align: right;\">1.23072</td><td style = \"text-align: left;\">Y</td><td style = \"text-align: right;\">1</td><td style = \"text-align: right;\">false</td><td style = \"text-align: right;\">true</td><td style = \"text-align: right;\">false</td><td style = \"text-align: right;\">false</td><td style = \"text-align: right;\">false</td><td style = \"text-align: right;\">false</td><td style = \"text-align: right;\">true</td></tr></tbody></table></div>"
      ],
      "text/latex": [
       "\\begin{tabular}{r|cccccccccc}\n",
       "\t& population & age & income & statusquo & vote & voteyes & region\\_M & region\\_N & region\\_S & \\\\\n",
       "\t\\hline\n",
       "\t& Int64 & Int64 & Int64 & Float64 & String1 & Int64 & Bool & Bool & Bool & \\\\\n",
       "\t\\hline\n",
       "\t1 & 175000 & 65 & 35000 & 1.0082 & Y & 1 & 0 & 1 & 0 & $\\dots$ \\\\\n",
       "\t2 & 175000 & 29 & 7500 & -1.29617 & N & 0 & 0 & 1 & 0 & $\\dots$ \\\\\n",
       "\t3 & 175000 & 38 & 15000 & 1.23072 & Y & 1 & 0 & 1 & 0 & $\\dots$ \\\\\n",
       "\\end{tabular}\n"
      ],
      "text/plain": [
       "\u001b[1m3×13 DataFrame\u001b[0m\n",
       "\u001b[1m Row \u001b[0m│\u001b[1m population \u001b[0m\u001b[1m age   \u001b[0m\u001b[1m income \u001b[0m\u001b[1m statusquo \u001b[0m\u001b[1m vote    \u001b[0m\u001b[1m voteyes \u001b[0m\u001b[1m region_M \u001b[0m\u001b[1m regio\u001b[0m ⋯\n",
       "     │\u001b[90m Int64      \u001b[0m\u001b[90m Int64 \u001b[0m\u001b[90m Int64  \u001b[0m\u001b[90m Float64   \u001b[0m\u001b[90m String1 \u001b[0m\u001b[90m Int64   \u001b[0m\u001b[90m Bool     \u001b[0m\u001b[90m Bool \u001b[0m ⋯\n",
       "─────┼──────────────────────────────────────────────────────────────────────────\n",
       "   1 │     175000     65   35000    1.0082   Y              1     false      t ⋯\n",
       "   2 │     175000     29    7500   -1.29617  N              0     false      t\n",
       "   3 │     175000     38   15000    1.23072  Y              1     false      t\n",
       "\u001b[36m                                                               6 columns omitted\u001b[0m"
      ]
     },
     "execution_count": 2,
     "metadata": {},
     "output_type": "execute_result"
    }
   ],
   "source": [
    "## Loading the data\n",
    "chile = CSV.read(\n",
    "    download(\"https://raw.githubusercontent.com/umbertomig/POLI175julia/main/data/chilesurvey.csv\"), \n",
    "    DataFrame,\n",
    "    missingstring = [\"NA\"]\n",
    "); dropmissing!(chile)\n",
    "chile.voteyes = ifelse.(chile.vote .== \"Y\", 1, 0)\n",
    "\n",
    "# One-hot encoding (we will learn a better way to do it later)\n",
    "onehot!(chile, :region);\n",
    "onehot!(chile, :education);\n",
    "onehot!(chile, :sex);\n",
    "\n",
    "# Drop reference categories\n",
    "select!(chile, Not(:region, :sex, :education, :region_C, :education_P, :sex_M))\n",
    "\n",
    "# Checking\n",
    "first(chile, 3)"
   ]
  },
  {
   "cell_type": "markdown",
   "id": "447a397f",
   "metadata": {
    "slideshow": {
     "slide_type": "slide"
    }
   },
   "source": [
    "## Class Examples"
   ]
  },
  {
   "cell_type": "code",
   "execution_count": 65,
   "id": "b696a377",
   "metadata": {
    "slideshow": {
     "slide_type": "-"
    }
   },
   "outputs": [
    {
     "data": {
      "text/html": [
       "<div><div style = \"float: left;\"><span>3×5 DataFrame</span></div><div style = \"clear: both;\"></div></div><div class = \"data-frame\" style = \"overflow-x: scroll;\"><table class = \"data-frame\" style = \"margin-bottom: 6px;\"><thead><tr class = \"header\"><th class = \"rowNumber\" style = \"font-weight: bold; text-align: right;\">Row</th><th style = \"text-align: left;\">states</th><th style = \"text-align: left;\">educ_log</th><th style = \"text-align: left;\">income_log</th><th style = \"text-align: left;\">urban_log</th><th style = \"text-align: left;\">young_log</th></tr><tr class = \"subheader headerLastRow\"><th class = \"rowNumber\" style = \"font-weight: bold; text-align: right;\"></th><th title = \"InlineStrings.String3\" style = \"text-align: left;\">String3</th><th title = \"Float64\" style = \"text-align: left;\">Float64</th><th title = \"Float64\" style = \"text-align: left;\">Float64</th><th title = \"Float64\" style = \"text-align: left;\">Float64</th><th title = \"Float64\" style = \"text-align: left;\">Float64</th></tr></thead><tbody><tr><td class = \"rowNumber\" style = \"font-weight: bold; text-align: right;\">1</td><td style = \"text-align: left;\">ME</td><td style = \"text-align: right;\">5.24175</td><td style = \"text-align: right;\">7.94591</td><td style = \"text-align: right;\">6.23048</td><td style = \"text-align: right;\">5.85993</td></tr><tr><td class = \"rowNumber\" style = \"font-weight: bold; text-align: right;\">2</td><td style = \"text-align: left;\">NH</td><td style = \"text-align: right;\">5.1299</td><td style = \"text-align: right;\">8.08918</td><td style = \"text-align: right;\">6.33505</td><td style = \"text-align: right;\">5.84615</td></tr><tr><td class = \"rowNumber\" style = \"font-weight: bold; text-align: right;\">3</td><td style = \"text-align: left;\">VT</td><td style = \"text-align: right;\">5.43808</td><td style = \"text-align: right;\">8.03008</td><td style = \"text-align: right;\">5.77455</td><td style = \"text-align: right;\">5.85364</td></tr></tbody></table></div>"
      ],
      "text/latex": [
       "\\begin{tabular}{r|ccccc}\n",
       "\t& states & educ\\_log & income\\_log & urban\\_log & young\\_log\\\\\n",
       "\t\\hline\n",
       "\t& String3 & Float64 & Float64 & Float64 & Float64\\\\\n",
       "\t\\hline\n",
       "\t1 & ME & 5.24175 & 7.94591 & 6.23048 & 5.85993 \\\\\n",
       "\t2 & NH & 5.1299 & 8.08918 & 6.33505 & 5.84615 \\\\\n",
       "\t3 & VT & 5.43808 & 8.03008 & 5.77455 & 5.85364 \\\\\n",
       "\\end{tabular}\n"
      ],
      "text/plain": [
       "\u001b[1m3×5 DataFrame\u001b[0m\n",
       "\u001b[1m Row \u001b[0m│\u001b[1m states  \u001b[0m\u001b[1m educ_log \u001b[0m\u001b[1m income_log \u001b[0m\u001b[1m urban_log \u001b[0m\u001b[1m young_log \u001b[0m\n",
       "     │\u001b[90m String3 \u001b[0m\u001b[90m Float64  \u001b[0m\u001b[90m Float64    \u001b[0m\u001b[90m Float64   \u001b[0m\u001b[90m Float64   \u001b[0m\n",
       "─────┼─────────────────────────────────────────────────────\n",
       "   1 │ ME        5.24175     7.94591    6.23048    5.85993\n",
       "   2 │ NH        5.1299      8.08918    6.33505    5.84615\n",
       "   3 │ VT        5.43808     8.03008    5.77455    5.85364"
      ]
     },
     "execution_count": 65,
     "metadata": {},
     "output_type": "execute_result"
    }
   ],
   "source": [
    "## Education Expenditure Dataset\n",
    "educ = CSV.read(download(\"https://raw.githubusercontent.com/umbertomig/POLI175julia/main/data/educexp.csv\"), DataFrame)\n",
    "\n",
    "# Processing\n",
    "educ.educ_log = log.(educ.education);\n",
    "educ.income_log = log.(educ.income)\n",
    "educ.urban_log = log.(educ.urban)\n",
    "educ.young_log = log.(educ.young)\n",
    "\n",
    "# Drop reference categories\n",
    "select!(educ, Not(:education, :income, :urban, :urban, :young))\n",
    "\n",
    "# Little unpacking\n",
    "educ_y, educ_X = unpack(\n",
    "    educ[:, Not(:states)],\n",
    "    ==(:educ_log);\n",
    "    :educ_log => Continuous, \n",
    "    :income_log => Continuous,\n",
    "    :urban_log => Continuous,\n",
    "    :young_log => Continuous\n",
    ");    \n",
    "\n",
    "# Checking\n",
    "first(educ, 3)"
   ]
  },
  {
   "cell_type": "markdown",
   "id": "6b72f2f6",
   "metadata": {
    "slideshow": {
     "slide_type": "slide"
    }
   },
   "source": [
    "## Cross-Validation\n",
    "\n",
    "In Class 02, we discussed two ideas, derived from splitting the data in two portions:\n",
    "\n",
    "1. `Training error rate`: The error when fitting the model to data that was used to train the parameters, and\n",
    "1. `Testing error rate`: The error associated with fitting the model to ***unseen*** data.\n",
    "\n",
    "As it should be intuitive, we can perform multiple types of cross-validation, all depending on how we split our data."
   ]
  },
  {
   "cell_type": "markdown",
   "id": "266e9a46",
   "metadata": {
    "slideshow": {
     "slide_type": "slide"
    }
   },
   "source": [
    "## Cross-Validation\n",
    "\n",
    "### Validation Set Approach\n",
    "\n",
    "Randomly split the data into two sets:\n",
    "\n",
    "- `Training set`: The data used to fit the model\n",
    "- `Testing set`: The data used to test the performance of the fitted model.\n",
    "\n",
    "One example is to split the sample in half-training--half-testing and running the estimation:\n",
    "\n",
    "![img vsa](https://github.com/umbertomig/POLI175julia/blob/c9b0555e3e97778495bee72746aee43ddf3226d7/img/cv1.png?raw=true)"
   ]
  },
  {
   "cell_type": "markdown",
   "id": "33edcd3c",
   "metadata": {
    "slideshow": {
     "slide_type": "slide"
    }
   },
   "source": [
    "## Cross-Validation\n",
    "\n",
    "### Validation Set Approach\n",
    "\n",
    "In Julia, we can use the command partition:\n",
    "\n",
    "```julia\n",
    "train, test = partition(data_frame, \n",
    "    share_train, \n",
    "    share_validation_optional,\n",
    "    rng = random_seed)\n",
    "```\n",
    "\n",
    "We are going to do the \"boring way\" first (i.e., like in Python's scikit-learn):"
   ]
  },
  {
   "cell_type": "code",
   "execution_count": 13,
   "id": "471610b6",
   "metadata": {},
   "outputs": [],
   "source": [
    "educ_train, educ_test = partition(\n",
    "    educ, \n",
    "    0.5, \n",
    "    rng = 123\n",
    ");"
   ]
  },
  {
   "cell_type": "markdown",
   "id": "fbffd91f",
   "metadata": {
    "slideshow": {
     "slide_type": "slide"
    }
   },
   "source": [
    "## Cross-Validation\n",
    "\n",
    "### Validation Set Approach\n",
    "\n",
    "Now we `unpack` (*create the target and the features*):"
   ]
  },
  {
   "cell_type": "code",
   "execution_count": 26,
   "id": "ddaa4c67",
   "metadata": {},
   "outputs": [],
   "source": [
    "educ_train_y, educ_train_X = unpack(\n",
    "    educ_train[:, Not(:states)],\n",
    "    ==(:educ_log);\n",
    "    :educ_log => Continuous, \n",
    "    :income_log => Continuous,\n",
    "    :urban_log => Continuous,\n",
    "    :young_log => Continuous\n",
    ");"
   ]
  },
  {
   "cell_type": "markdown",
   "id": "87033bf5",
   "metadata": {
    "slideshow": {
     "slide_type": "slide"
    }
   },
   "source": [
    "## Cross-Validation\n",
    "\n",
    "### Validation Set Approach\n",
    "\n",
    "Now we `unpack` (*create the target and the features*):"
   ]
  },
  {
   "cell_type": "code",
   "execution_count": 27,
   "id": "94c7567d",
   "metadata": {},
   "outputs": [],
   "source": [
    "educ_test_y, educ_test_X = unpack(\n",
    "    educ_test[:, Not(:states)],\n",
    "    ==(:educ_log);\n",
    "    :educ_log => Continuous, \n",
    "    :income_log => Continuous,\n",
    "    :urban_log => Continuous,\n",
    "    :young_log => Continuous\n",
    ");"
   ]
  },
  {
   "cell_type": "markdown",
   "id": "a1d84669",
   "metadata": {
    "slideshow": {
     "slide_type": "slide"
    }
   },
   "source": [
    "## Cross-Validation\n",
    "\n",
    "### Validation Set Approach\n",
    "\n",
    "Now, let us check how the following model performs:\n",
    "\n",
    "$$ \\log (education_i) = \\alpha + \\beta_1 \\log (income_i) + \\beta_2 \\log (young_i) + \\varepsilon_i $$ "
   ]
  },
  {
   "cell_type": "code",
   "execution_count": 42,
   "id": "6acd2f40",
   "metadata": {
    "slideshow": {
     "slide_type": "-"
    }
   },
   "outputs": [
    {
     "name": "stderr",
     "output_type": "stream",
     "text": [
      "\u001b[36m\u001b[1m[ \u001b[22m\u001b[39m\u001b[36m\u001b[1mInfo: \u001b[22m\u001b[39mTraining machine(LinearRegressor(fit_intercept = true, …), …).\n",
      "\u001b[36m\u001b[1m┌ \u001b[22m\u001b[39m\u001b[36m\u001b[1mInfo: \u001b[22m\u001b[39mSolver: MLJLinearModels.Analytical\n",
      "\u001b[36m\u001b[1m│ \u001b[22m\u001b[39m  iterative: Bool false\n",
      "\u001b[36m\u001b[1m└ \u001b[22m\u001b[39m  max_inner: Int64 200\n"
     ]
    }
   ],
   "source": [
    "## With 50% split (no urban_log)\n",
    "reg = MLJLinearModels.LinearRegressor()\n",
    "machine1 = machine(reg, \n",
    "    educ_train_X[:,Not(:urban_log)], \n",
    "    educ_train_y, \n",
    "    scitype_check_level = 0);\n",
    "MLJ.fit!(machine1);\n",
    "ypred1 = MLJ.predict(machine1, educ_test_X[:,Not(:urban_log)]);"
   ]
  },
  {
   "cell_type": "code",
   "execution_count": 66,
   "id": "d518d83f",
   "metadata": {},
   "outputs": [
    {
     "data": {
      "text/plain": [
       "0.3753283828349154"
      ]
     },
     "execution_count": 66,
     "metadata": {},
     "output_type": "execute_result"
    }
   ],
   "source": [
    "# Mean-Squared Error (what do we want from it?)\n",
    "sum((ypred1 .- educ_test_y) .^ 2)"
   ]
  },
  {
   "cell_type": "markdown",
   "id": "90ccc191",
   "metadata": {
    "slideshow": {
     "slide_type": "slide"
    }
   },
   "source": [
    "## Cross-Validation\n",
    "\n",
    "### Validation Set Approach\n",
    "\n",
    "Now, let us check how the full model performs:\n",
    "\n",
    "$$ \\log (education_i) = \\alpha + \\beta_1 \\log (income_i) + \\beta_2 \\log (young_i) + \\beta_3 \\log (urban_i) + \\varepsilon_i $$ "
   ]
  },
  {
   "cell_type": "code",
   "execution_count": 67,
   "id": "c2e6847d",
   "metadata": {
    "slideshow": {
     "slide_type": "-"
    }
   },
   "outputs": [
    {
     "name": "stderr",
     "output_type": "stream",
     "text": [
      "\u001b[36m\u001b[1m[ \u001b[22m\u001b[39m\u001b[36m\u001b[1mInfo: \u001b[22m\u001b[39mTraining machine(LinearRegressor(fit_intercept = true, …), …).\n",
      "\u001b[36m\u001b[1m┌ \u001b[22m\u001b[39m\u001b[36m\u001b[1mInfo: \u001b[22m\u001b[39mSolver: MLJLinearModels.Analytical\n",
      "\u001b[36m\u001b[1m│ \u001b[22m\u001b[39m  iterative: Bool false\n",
      "\u001b[36m\u001b[1m└ \u001b[22m\u001b[39m  max_inner: Int64 200\n"
     ]
    }
   ],
   "source": [
    "## 50% split CV (full model)\n",
    "machine2 = machine(reg, \n",
    "    educ_train_X, \n",
    "    educ_train_y, \n",
    "    scitype_check_level = 0);\n",
    "MLJ.fit!(machine2);\n",
    "ypred2 = MLJ.predict(machine2, educ_test_X);"
   ]
  },
  {
   "cell_type": "code",
   "execution_count": 45,
   "id": "1bc65258",
   "metadata": {},
   "outputs": [
    {
     "data": {
      "text/plain": [
       "0.30179359775968656"
      ]
     },
     "execution_count": 45,
     "metadata": {},
     "output_type": "execute_result"
    }
   ],
   "source": [
    "# Mean-Squared Error (what do we want from it?)\n",
    "sum((ypred2 .- educ_test_y) .^ 2)"
   ]
  },
  {
   "cell_type": "markdown",
   "id": "f37b8fbe",
   "metadata": {
    "slideshow": {
     "slide_type": "slide"
    }
   },
   "source": [
    "## Cross-Validation\n",
    "\n",
    "### Validation Set Approach\n",
    "\n",
    "What happened in here?\n",
    "\n",
    "To make things clear, your turn to try:"
   ]
  },
  {
   "cell_type": "code",
   "execution_count": 6,
   "id": "750ac6ed",
   "metadata": {
    "slideshow": {
     "slide_type": "-"
    }
   },
   "outputs": [],
   "source": [
    "## Check in: Check the MSE when removing income_log. Is it better?"
   ]
  },
  {
   "cell_type": "markdown",
   "id": "43173a8a",
   "metadata": {
    "slideshow": {
     "slide_type": "slide"
    }
   },
   "source": [
    "## Cross-Validation\n",
    "\n",
    "### Leave-One-Out Cross-Validation\n",
    "\n",
    "- It does what it says: leaves one observation out and fits the model with $n-1$ cases.\n",
    "\n",
    "- Then, it predicts the results in the case left out.\n",
    "\n",
    "- **Great** for small datasets and when prediction is critical.\n",
    "\n",
    "- **Bad** in terms of computational time.\n",
    "\n",
    "$$ CV_n \\ = \\ \\dfrac{1}{n}\\sum_i MSE_i $$"
   ]
  },
  {
   "cell_type": "markdown",
   "id": "36ae8ab3",
   "metadata": {
    "slideshow": {
     "slide_type": "slide"
    }
   },
   "source": [
    "## Cross-Validation\n",
    "\n",
    "### Leave-One-Out Cross-Validation\n",
    "\n",
    "![img](https://github.com/umbertomig/POLI175julia/blob/c9b0555e3e97778495bee72746aee43ddf3226d7/img/cv2.png?raw=true)"
   ]
  },
  {
   "cell_type": "markdown",
   "id": "a8ed0688",
   "metadata": {
    "slideshow": {
     "slide_type": "slide"
    }
   },
   "source": [
    "## Cross-Validation\n",
    "\n",
    "### Leave-One-Out Cross-Validation\n",
    "\n",
    "One cool thing about Julia is that we can work with indexes, instead of creating new training and testing sets.\n",
    "\n",
    "This frees up considerable memory.\n",
    "\n",
    "For example, to do LOOCV, we can do:\n",
    "\n",
    "```julia\n",
    "loo = CV(\n",
    "    nfolds = size(data_set)[1]-1, # All data but one observation\n",
    "    shuffle = true,\n",
    "    rng = 123\n",
    ")\n",
    "```"
   ]
  },
  {
   "cell_type": "code",
   "execution_count": 59,
   "id": "6c15b138",
   "metadata": {},
   "outputs": [],
   "source": [
    "## LOOCV\n",
    "loo = CV(\n",
    "    nfolds = size(educ)[1]-1,\n",
    "    shuffle = true,\n",
    "    rng = 123\n",
    ");"
   ]
  },
  {
   "cell_type": "markdown",
   "id": "f199bfa8",
   "metadata": {
    "slideshow": {
     "slide_type": "slide"
    }
   },
   "source": [
    "## Cross-Validation\n",
    "\n",
    "### Leave-One-Out Cross-Validation\n",
    "\n",
    "Evaluate function: provides the results rightaway, without the need for a machine (but you can do with a machine if you want to...):"
   ]
  },
  {
   "cell_type": "code",
   "execution_count": 74,
   "id": "c75f039a",
   "metadata": {
    "slideshow": {
     "slide_type": "-"
    }
   },
   "outputs": [
    {
     "data": {
      "text/plain": [
       "PerformanceEvaluation object with these fields:\n",
       "  model, measure, operation, measurement, per_fold,\n",
       "  per_observation, fitted_params_per_fold,\n",
       "  report_per_fold, train_test_rows, resampling, repeats\n",
       "Extract:\n",
       "┌────────────────────────┬───────────┬─────────────┬─────────┬──────────────────\n",
       "│\u001b[22m measure                \u001b[0m│\u001b[22m operation \u001b[0m│\u001b[22m measurement \u001b[0m│\u001b[22m 1.96*SE \u001b[0m│\u001b[22m per_fold       \u001b[0m ⋯\n",
       "├────────────────────────┼───────────┼─────────────┼─────────┼──────────────────\n",
       "│ RootMeanSquaredError() │ predict   │ 0.23        │ 0.042   │ [0.049, 0.0921, ⋯\n",
       "│ LPLoss(                │ predict   │ 0.0527      │ 0.0252  │ [0.0024, 0.0084 ⋯\n",
       "│   p = 2)               │           │             │         │                 ⋯\n",
       "└────────────────────────┴───────────┴─────────────┴─────────┴──────────────────\n",
       "\u001b[36m                                                                1 column omitted\u001b[0m\n"
      ]
     },
     "execution_count": 74,
     "metadata": {},
     "output_type": "execute_result"
    }
   ],
   "source": [
    "# No log income:\n",
    "evaluate(reg, \n",
    "    educ_X[:, Not(:income_log)], \n",
    "    educ_y, \n",
    "    resampling = loo,\n",
    "    measure = [rms, l2], \n",
    "    verbosity = 0)"
   ]
  },
  {
   "cell_type": "markdown",
   "id": "c15b7c92",
   "metadata": {
    "slideshow": {
     "slide_type": "slide"
    }
   },
   "source": [
    "## Cross-Validation\n",
    "\n",
    "### Leave-One-Out Cross-Validation"
   ]
  },
  {
   "cell_type": "code",
   "execution_count": 75,
   "id": "08e20fec",
   "metadata": {
    "slideshow": {
     "slide_type": "-"
    }
   },
   "outputs": [
    {
     "data": {
      "text/plain": [
       "PerformanceEvaluation object with these fields:\n",
       "  model, measure, operation, measurement, per_fold,\n",
       "  per_observation, fitted_params_per_fold,\n",
       "  report_per_fold, train_test_rows, resampling, repeats\n",
       "Extract:\n",
       "┌────────────────────────┬───────────┬─────────────┬─────────┬──────────────────\n",
       "│\u001b[22m measure                \u001b[0m│\u001b[22m operation \u001b[0m│\u001b[22m measurement \u001b[0m│\u001b[22m 1.96*SE \u001b[0m│\u001b[22m per_fold       \u001b[0m ⋯\n",
       "├────────────────────────┼───────────┼─────────────┼─────────┼──────────────────\n",
       "│ RootMeanSquaredError() │ predict   │ 0.135       │ 0.0233  │ [0.217, 0.266,  ⋯\n",
       "│ LPLoss(                │ predict   │ 0.0183      │ 0.00597 │ [0.047, 0.0706, ⋯\n",
       "│   p = 2)               │           │             │         │                 ⋯\n",
       "└────────────────────────┴───────────┴─────────────┴─────────┴──────────────────\n",
       "\u001b[36m                                                                1 column omitted\u001b[0m\n"
      ]
     },
     "execution_count": 75,
     "metadata": {},
     "output_type": "execute_result"
    }
   ],
   "source": [
    "# Full model\n",
    "evaluate(reg, \n",
    "    educ_X, \n",
    "    educ_y, \n",
    "    resampling = loo,\n",
    "    measure = [rms, l2], \n",
    "    verbosity = 0)"
   ]
  },
  {
   "cell_type": "markdown",
   "id": "b54bcd65",
   "metadata": {
    "slideshow": {
     "slide_type": "slide"
    }
   },
   "source": [
    "## Cross-Validation\n",
    "\n",
    "### Leave-One-Out Cross-Validation"
   ]
  },
  {
   "cell_type": "code",
   "execution_count": 10,
   "id": "34eb9e5f",
   "metadata": {
    "slideshow": {
     "slide_type": "-"
    }
   },
   "outputs": [],
   "source": [
    "## Your turn: compare the model with x without logs\n",
    "## Note: the target has to be the same!"
   ]
  },
  {
   "cell_type": "markdown",
   "id": "85cd4cbe",
   "metadata": {
    "slideshow": {
     "slide_type": "slide"
    }
   },
   "source": [
    "## Cross-Validation\n",
    "\n",
    "### Metrics\n",
    "\n",
    "To do the comparison, you need a metric.\n",
    "\n",
    "Let's check the metrics we have:"
   ]
  },
  {
   "cell_type": "code",
   "execution_count": 78,
   "id": "cbb2d6dd",
   "metadata": {
    "slideshow": {
     "slide_type": "-"
    }
   },
   "outputs": [
    {
     "data": {
      "text/plain": [
       "LittleDict{Any, Any, Vector{Any}, Vector{Any}} with 55 entries:\n",
       "  LPLoss                    => (aliases = (\"l1\", \"l2\", \"mae\", \"mav\", \"mean_abso…\n",
       "  MultitargetLPLoss         => (aliases = (\"multitarget_l1\", \"multitarget_l2\", …\n",
       "  LPSumLoss                 => (aliases = (\"l1_sum\", \"l2_sum\"), consumes_multip…\n",
       "  MultitargetLPSumLoss      => (aliases = (\"multitarget_l1_sum\", \"multitarget_l…\n",
       "  RootMeanSquaredError      => (aliases = (\"rms\", \"rmse\", \"root_mean_squared_er…\n",
       "  MultitargetRootMeanSquar… => (aliases = (\"multitarget_rms\", \"multitarget_rmse…\n",
       "  RootMeanSquaredLogError   => (aliases = (\"rmsl\", \"rmsle\", \"root_mean_squared_…\n",
       "  MultitargetRootMeanSquar… => (aliases = (\"multitarget_rmsl\", \"multitarget_rms…\n",
       "  RootMeanSquaredLogPropor… => (aliases = (\"rmslp1\",), consumes_multiple_observ…\n",
       "  MultitargetRootMeanSquar… => (aliases = (\"multitarget_rmslp1\",), consumes_mul…\n",
       "  RootMeanSquaredProportio… => (aliases = (\"rmsp\",), consumes_multiple_observat…\n",
       "  MultitargetRootMeanSquar… => (aliases = (\"multitarget_rmsp\",), consumes_multi…\n",
       "  MeanAbsoluteProportional… => (aliases = (\"mape\",), consumes_multiple_observat…\n",
       "  MultitargetMeanAbsoluteP… => (aliases = (\"multitarget_mape\",), consumes_multi…\n",
       "  LogCoshLoss               => (aliases = (\"log_cosh\", \"log_cosh_loss\"), consum…\n",
       "  MultitargetLogCoshLoss    => (aliases = (\"multitarget_mape\",), consumes_multi…\n",
       "  RSquared                  => (aliases = (\"rsq\", \"rsquared\"), consumes_multipl…\n",
       "  ConfusionMatrix           => (aliases = (\"confmat\", \"confusion_matrix\"), cons…\n",
       "  MisclassificationRate     => (aliases = (\"misclassification_rate\", \"mcr\"), co…\n",
       "  MultitargetMisclassifica… => (aliases = (\"multitarget_misclassification_rate\"…\n",
       "  Accuracy                  => (aliases = (\"accuracy\",), consumes_multiple_obse…\n",
       "  MultitargetAccuracy       => (aliases = (\"multitarget_accuracy\",), consumes_m…\n",
       "  BalancedAccuracy          => (aliases = (\"balanced_accuracy\", \"bacc\", \"bac\"),…\n",
       "  Kappa                     => (aliases = (\"kappa\",), consumes_multiple_observa…\n",
       "  MatthewsCorrelation       => (aliases = (\"matthews_correlation\", \"mcc\"), cons…\n",
       "  ⋮                         => ⋮"
      ]
     },
     "execution_count": 78,
     "metadata": {},
     "output_type": "execute_result"
    }
   ],
   "source": [
    "## Lots of stats to compute the error:\n",
    "measures()"
   ]
  },
  {
   "cell_type": "markdown",
   "id": "bfc1ca43",
   "metadata": {
    "slideshow": {
     "slide_type": "slide"
    }
   },
   "source": [
    "## Cross-Validation\n",
    "\n",
    "### Metrics\n",
    "\n",
    "And the LP loss with $p=2$ is the mean squared error:"
   ]
  },
  {
   "cell_type": "code",
   "execution_count": 84,
   "id": "f6b8c884",
   "metadata": {},
   "outputs": [
    {
     "data": {
      "text/plain": [
       "LittleDict{Any, Any, Vector{Any}, Vector{Any}} with 3 entries:\n",
       "  LPLoss            => (aliases = (\"l1\", \"l2\", \"mae\", \"mav\", \"mean_absolute_err…\n",
       "  MultitargetLPLoss => (aliases = (\"multitarget_l1\", \"multitarget_l2\", \"multita…\n",
       "  LPSumLoss         => (aliases = (\"l1_sum\", \"l2_sum\"), consumes_multiple_obser…"
      ]
     },
     "execution_count": 84,
     "metadata": {},
     "output_type": "execute_result"
    }
   ],
   "source": [
    "measures(\"LPLoss\")"
   ]
  },
  {
   "cell_type": "markdown",
   "id": "e48ff7bb",
   "metadata": {
    "slideshow": {
     "slide_type": "slide"
    }
   },
   "source": [
    "## Cross-Validation\n",
    "\n",
    "### Metrics"
   ]
  },
  {
   "cell_type": "code",
   "execution_count": 12,
   "id": "6cbf55dc",
   "metadata": {
    "slideshow": {
     "slide_type": "-"
    }
   },
   "outputs": [],
   "source": [
    "## Your turn: Find and use R-squared as the parameter for a\n",
    "## LOOCV. What is the difference?"
   ]
  },
  {
   "cell_type": "markdown",
   "id": "87217f23",
   "metadata": {
    "slideshow": {
     "slide_type": "slide"
    }
   },
   "source": [
    "## Cross-Validation\n",
    "\n",
    "### K-Fold Cross-Validation\n",
    "\n",
    "- Leaves $k$ groups out and fits the model with the observations outside each group.\n",
    "\n",
    "- Then, it predicts the results in the cases left out.\n",
    "\n",
    "- **Great** in most cases.\n",
    "\n",
    "- **Bad** *sometimes* computationally expensive.\n",
    "\n",
    "$$ CV_k \\ = \\ \\dfrac{1}{k}\\sum_i MSE_i $$"
   ]
  },
  {
   "cell_type": "markdown",
   "id": "f5b281b3",
   "metadata": {
    "slideshow": {
     "slide_type": "slide"
    }
   },
   "source": [
    "## Cross-Validation\n",
    "\n",
    "### K-Fold Cross-Validation\n",
    "\n",
    "![img](https://github.com/umbertomig/POLI175julia/blob/c9b0555e3e97778495bee72746aee43ddf3226d7/img/cv3.png?raw=true)"
   ]
  },
  {
   "cell_type": "markdown",
   "id": "48cd658e",
   "metadata": {
    "slideshow": {
     "slide_type": "slide"
    }
   },
   "source": [
    "## Cross-Validation\n",
    "\n",
    "### K-Fold Cross-Validation"
   ]
  },
  {
   "cell_type": "code",
   "execution_count": 86,
   "id": "89352b8e",
   "metadata": {},
   "outputs": [],
   "source": [
    "## 5-Fold CV\n",
    "cv5 = CV(\n",
    "    nfolds = 5,\n",
    "    rng = 123\n",
    ");"
   ]
  },
  {
   "cell_type": "markdown",
   "id": "76765b9f",
   "metadata": {
    "slideshow": {
     "slide_type": "slide"
    }
   },
   "source": [
    "## Cross-Validation\n",
    "\n",
    "### K-Fold Cross-Validation"
   ]
  },
  {
   "cell_type": "code",
   "execution_count": 88,
   "id": "77409b65",
   "metadata": {
    "slideshow": {
     "slide_type": "-"
    }
   },
   "outputs": [
    {
     "data": {
      "text/plain": [
       "PerformanceEvaluation object with these fields:\n",
       "  model, measure, operation, measurement, per_fold,\n",
       "  per_observation, fitted_params_per_fold,\n",
       "  report_per_fold, train_test_rows, resampling, repeats\n",
       "Extract:\n",
       "┌────────────────────────┬───────────┬─────────────┬─────────┬──────────────────\n",
       "│\u001b[22m measure                \u001b[0m│\u001b[22m operation \u001b[0m│\u001b[22m measurement \u001b[0m│\u001b[22m 1.96*SE \u001b[0m│\u001b[22m per_fold       \u001b[0m ⋯\n",
       "├────────────────────────┼───────────┼─────────────┼─────────┼──────────────────\n",
       "│ RootMeanSquaredError() │ predict   │ 0.144       │ 0.0271  │ [0.167, 0.151,  ⋯\n",
       "│ LPLoss(                │ predict   │ 0.0208      │ 0.00728 │ [0.0277, 0.0227 ⋯\n",
       "│   p = 2)               │           │             │         │                 ⋯\n",
       "└────────────────────────┴───────────┴─────────────┴─────────┴──────────────────\n",
       "\u001b[36m                                                                1 column omitted\u001b[0m\n"
      ]
     },
     "execution_count": 88,
     "metadata": {},
     "output_type": "execute_result"
    }
   ],
   "source": [
    "# No log urban:\n",
    "evaluate(reg, educ_X[:, Not(:urban_log)], educ_y, resampling = cv5, measure = [rms, l2], verbosity = 0)"
   ]
  },
  {
   "cell_type": "code",
   "execution_count": 89,
   "id": "8322242a",
   "metadata": {
    "slideshow": {
     "slide_type": "-"
    }
   },
   "outputs": [
    {
     "data": {
      "text/plain": [
       "PerformanceEvaluation object with these fields:\n",
       "  model, measure, operation, measurement, per_fold,\n",
       "  per_observation, fitted_params_per_fold,\n",
       "  report_per_fold, train_test_rows, resampling, repeats\n",
       "Extract:\n",
       "┌────────────────────────┬───────────┬─────────────┬─────────┬──────────────────\n",
       "│\u001b[22m measure                \u001b[0m│\u001b[22m operation \u001b[0m│\u001b[22m measurement \u001b[0m│\u001b[22m 1.96*SE \u001b[0m│\u001b[22m per_fold       \u001b[0m ⋯\n",
       "├────────────────────────┼───────────┼─────────────┼─────────┼──────────────────\n",
       "│ RootMeanSquaredError() │ predict   │ 0.134       │ 0.00863 │ [0.126, 0.13, 0 ⋯\n",
       "│ LPLoss(                │ predict   │ 0.0179      │ 0.00233 │ [0.0158, 0.017, ⋯\n",
       "│   p = 2)               │           │             │         │                 ⋯\n",
       "└────────────────────────┴───────────┴─────────────┴─────────┴──────────────────\n",
       "\u001b[36m                                                                1 column omitted\u001b[0m\n"
      ]
     },
     "execution_count": 89,
     "metadata": {},
     "output_type": "execute_result"
    }
   ],
   "source": [
    "# Full Model\n",
    "evaluate(reg, educ_X, educ_y, resampling = cv5, measure = [rms, l2], verbosity = 0)"
   ]
  },
  {
   "cell_type": "markdown",
   "id": "5cd03354",
   "metadata": {
    "slideshow": {
     "slide_type": "slide"
    }
   },
   "source": [
    "## Cross-Validation\n",
    "\n",
    "### K-Fold Cross-Validation"
   ]
  },
  {
   "cell_type": "code",
   "execution_count": 15,
   "id": "c8a3be41",
   "metadata": {
    "slideshow": {
     "slide_type": "-"
    }
   },
   "outputs": [],
   "source": [
    "## Your turn: Run a 10-fold CV? Any differences?"
   ]
  },
  {
   "cell_type": "markdown",
   "id": "05794a41",
   "metadata": {
    "slideshow": {
     "slide_type": "slide"
    }
   },
   "source": [
    "## Cross-Validation\n",
    "\n",
    "### Bias-Variance Trade-Off\n",
    "\n",
    "**K-Fold CV** is more computationally efficient than LOOCV. But how about Bias-Variance Trade-offs?\n",
    "\n",
    "Larger fractions in a two-split leads to high bias: over-estimates the error rates.\n",
    "\n",
    "**LOOCV**: Leaves just one, so it gives an unbiased estimate of the testing error rates; Very good for bias reduction!"
   ]
  },
  {
   "cell_type": "markdown",
   "id": "f697d9d7",
   "metadata": {
    "slideshow": {
     "slide_type": "slide"
    }
   },
   "source": [
    "## Cross-Validation\n",
    "\n",
    "### Bias-Variance Trade-Off\n",
    "\n",
    "**LOOCV**: High variance: Almost the same observations at each run!\n",
    "- Very bad for variance.\n",
    "    \n",
    "**K-Fold CV**:\n",
    "- Each subset is a *bit more different* than the other.\n",
    "- Leads to less correlation between each fold.\n",
    "- Good balance usually with $k=5$ or $k=10$."
   ]
  },
  {
   "cell_type": "markdown",
   "id": "ec711f60",
   "metadata": {
    "slideshow": {
     "slide_type": "slide"
    }
   },
   "source": [
    "## Cross-Validation\n",
    "\n",
    "### Bias-Variance Trade-off\n",
    "\n",
    "![img](https://github.com/umbertomig/POLI175julia/blob/c9b0555e3e97778495bee72746aee43ddf3226d7/img/cv4.png?raw=true)"
   ]
  },
  {
   "cell_type": "markdown",
   "id": "64bd57b5",
   "metadata": {
    "slideshow": {
     "slide_type": "slide"
    }
   },
   "source": [
    "## Cross-Validation\n",
    "\n",
    "### CV on Classification Problems\n",
    "\n",
    "When we have a classification, we must change how we evaluate the error.\n",
    "\n",
    "With classification, the LOOCV would look like this:\n",
    "\n",
    "$$ CV_n \\ = \\ \\dfrac{1}{n} \\sum_i I(y_i \\neq \\widehat{y}_i) $$\n",
    "\n",
    "And the `accuracy` measure will be $I(y_i = \\widehat{y}_i)$, so we need to subtract 1."
   ]
  },
  {
   "cell_type": "markdown",
   "id": "fe5f488f",
   "metadata": {
    "slideshow": {
     "slide_type": "slide"
    }
   },
   "source": [
    "## Cross-Validation\n",
    "\n",
    "### CV on Classification Problems\n",
    "\n",
    "![img](https://github.com/umbertomig/POLI175julia/blob/c9b0555e3e97778495bee72746aee43ddf3226d7/img/cv5.png?raw=true)"
   ]
  },
  {
   "cell_type": "markdown",
   "id": "d8eace45",
   "metadata": {
    "slideshow": {
     "slide_type": "slide"
    }
   },
   "source": [
    "# Questions?"
   ]
  },
  {
   "cell_type": "markdown",
   "id": "22d252e9",
   "metadata": {
    "slideshow": {
     "slide_type": "slide"
    }
   },
   "source": [
    "# See you next class\n"
   ]
  }
 ],
 "metadata": {
  "celltoolbar": "Slideshow",
  "kernelspec": {
   "display_name": "Julia 1.9.2",
   "language": "julia",
   "name": "julia-1.9"
  },
  "language_info": {
   "file_extension": ".jl",
   "mimetype": "application/julia",
   "name": "julia",
   "version": "1.9.2"
  }
 },
 "nbformat": 4,
 "nbformat_minor": 5
}
