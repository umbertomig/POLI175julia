{
 "cells": [
  {
   "cell_type": "markdown",
   "id": "243e38f9",
   "metadata": {
    "slideshow": {
     "slide_type": "slide"
    }
   },
   "source": [
    "# POLI 175 - Lecture 13\n",
    "\n",
    "## Beyond Linearity (cont'd) and Tree-based models"
   ]
  },
  {
   "cell_type": "markdown",
   "id": "79543cb5",
   "metadata": {
    "slideshow": {
     "slide_type": "slide"
    }
   },
   "source": [
    "## Class Examples"
   ]
  },
  {
   "cell_type": "code",
   "execution_count": 1,
   "id": "b55c5cf0",
   "metadata": {
    "slideshow": {
     "slide_type": "-"
    }
   },
   "outputs": [
    {
     "data": {
      "text/plain": [
       "onehot! (generic function with 2 methods)"
      ]
     },
     "execution_count": 1,
     "metadata": {},
     "output_type": "execute_result"
    }
   ],
   "source": [
    "## Packages Here\n",
    "using DataFrames\n",
    "using MLJ, MLJIteration\n",
    "import MLJLinearModels, MLJBase, MLJModels\n",
    "import MultivariateStats, MLJMultivariateStatsInterface\n",
    "import CSV, Plots, GLM, StatsBase, Random\n",
    "import LaTeXStrings, StatsPlots, Lowess, Gadfly, RegressionTables\n",
    "import CovarianceMatrices, Econometrics, LinearAlgebra, MixedModelsExtras\n",
    "import Missings, StatsAPI, FreqTables, EvalMetrics\n",
    "import NearestNeighborModels\n",
    "\n",
    "# Adapted from @xiaodaigh: https://github.com/xiaodaigh/DataConvenience.jl\n",
    "function onehot!(df::AbstractDataFrame, \n",
    "        col, cate = sort(unique(df[!, col])); \n",
    "        outnames = Symbol.(col, :_, cate))\n",
    "    transform!(df, @. col => ByRow(isequal(cate)) .=> outnames)\n",
    "end"
   ]
  },
  {
   "cell_type": "markdown",
   "id": "a72d4aa6",
   "metadata": {
    "slideshow": {
     "slide_type": "slide"
    }
   },
   "source": [
    "## Class Examples"
   ]
  },
  {
   "cell_type": "code",
   "execution_count": 2,
   "id": "4704653f",
   "metadata": {
    "slideshow": {
     "slide_type": "-"
    }
   },
   "outputs": [
    {
     "data": {
      "text/html": [
       "<div><div style = \"float: left;\"><span>3×11 DataFrame</span></div><div style = \"clear: both;\"></div></div><div class = \"data-frame\" style = \"overflow-x: scroll;\"><table class = \"data-frame\" style = \"margin-bottom: 6px;\"><thead><tr class = \"header\"><th class = \"rowNumber\" style = \"font-weight: bold; text-align: right;\">Row</th><th style = \"text-align: left;\">age</th><th style = \"text-align: left;\">statusquo</th><th style = \"text-align: left;\">vote</th><th style = \"text-align: left;\">voteyes</th><th style = \"text-align: left;\">region_M</th><th style = \"text-align: left;\">region_N</th><th style = \"text-align: left;\">region_S</th><th style = \"text-align: left;\">region_SA</th><th style = \"text-align: left;\">education_PS</th><th style = \"text-align: left;\">education_S</th><th style = \"text-align: left;\">sex_F</th></tr><tr class = \"subheader headerLastRow\"><th class = \"rowNumber\" style = \"font-weight: bold; text-align: right;\"></th><th title = \"Int64\" style = \"text-align: left;\">Int64</th><th title = \"Float64\" style = \"text-align: left;\">Float64</th><th title = \"InlineStrings.String1\" style = \"text-align: left;\">String1</th><th title = \"Int64\" style = \"text-align: left;\">Int64</th><th title = \"Bool\" style = \"text-align: left;\">Bool</th><th title = \"Bool\" style = \"text-align: left;\">Bool</th><th title = \"Bool\" style = \"text-align: left;\">Bool</th><th title = \"Bool\" style = \"text-align: left;\">Bool</th><th title = \"Bool\" style = \"text-align: left;\">Bool</th><th title = \"Bool\" style = \"text-align: left;\">Bool</th><th title = \"Bool\" style = \"text-align: left;\">Bool</th></tr></thead><tbody><tr><td class = \"rowNumber\" style = \"font-weight: bold; text-align: right;\">1</td><td style = \"text-align: right;\">65</td><td style = \"text-align: right;\">1.0082</td><td style = \"text-align: left;\">Y</td><td style = \"text-align: right;\">1</td><td style = \"text-align: right;\">false</td><td style = \"text-align: right;\">true</td><td style = \"text-align: right;\">false</td><td style = \"text-align: right;\">false</td><td style = \"text-align: right;\">false</td><td style = \"text-align: right;\">false</td><td style = \"text-align: right;\">false</td></tr><tr><td class = \"rowNumber\" style = \"font-weight: bold; text-align: right;\">2</td><td style = \"text-align: right;\">29</td><td style = \"text-align: right;\">-1.29617</td><td style = \"text-align: left;\">N</td><td style = \"text-align: right;\">0</td><td style = \"text-align: right;\">false</td><td style = \"text-align: right;\">true</td><td style = \"text-align: right;\">false</td><td style = \"text-align: right;\">false</td><td style = \"text-align: right;\">true</td><td style = \"text-align: right;\">false</td><td style = \"text-align: right;\">false</td></tr><tr><td class = \"rowNumber\" style = \"font-weight: bold; text-align: right;\">3</td><td style = \"text-align: right;\">38</td><td style = \"text-align: right;\">1.23072</td><td style = \"text-align: left;\">Y</td><td style = \"text-align: right;\">1</td><td style = \"text-align: right;\">false</td><td style = \"text-align: right;\">true</td><td style = \"text-align: right;\">false</td><td style = \"text-align: right;\">false</td><td style = \"text-align: right;\">false</td><td style = \"text-align: right;\">false</td><td style = \"text-align: right;\">true</td></tr></tbody></table></div>"
      ],
      "text/latex": [
       "\\begin{tabular}{r|cccccccccc}\n",
       "\t& age & statusquo & vote & voteyes & region\\_M & region\\_N & region\\_S & region\\_SA & education\\_PS & \\\\\n",
       "\t\\hline\n",
       "\t& Int64 & Float64 & String1 & Int64 & Bool & Bool & Bool & Bool & Bool & \\\\\n",
       "\t\\hline\n",
       "\t1 & 65 & 1.0082 & Y & 1 & 0 & 1 & 0 & 0 & 0 & $\\dots$ \\\\\n",
       "\t2 & 29 & -1.29617 & N & 0 & 0 & 1 & 0 & 0 & 1 & $\\dots$ \\\\\n",
       "\t3 & 38 & 1.23072 & Y & 1 & 0 & 1 & 0 & 0 & 0 & $\\dots$ \\\\\n",
       "\\end{tabular}\n"
      ],
      "text/plain": [
       "\u001b[1m3×11 DataFrame\u001b[0m\n",
       "\u001b[1m Row \u001b[0m│\u001b[1m age   \u001b[0m\u001b[1m statusquo \u001b[0m\u001b[1m vote    \u001b[0m\u001b[1m voteyes \u001b[0m\u001b[1m region_M \u001b[0m\u001b[1m region_N \u001b[0m\u001b[1m region_S \u001b[0m\u001b[1m regio\u001b[0m ⋯\n",
       "     │\u001b[90m Int64 \u001b[0m\u001b[90m Float64   \u001b[0m\u001b[90m String1 \u001b[0m\u001b[90m Int64   \u001b[0m\u001b[90m Bool     \u001b[0m\u001b[90m Bool     \u001b[0m\u001b[90m Bool     \u001b[0m\u001b[90m Bool \u001b[0m ⋯\n",
       "─────┼──────────────────────────────────────────────────────────────────────────\n",
       "   1 │    65    1.0082   Y              1     false      true     false      f ⋯\n",
       "   2 │    29   -1.29617  N              0     false      true     false      f\n",
       "   3 │    38    1.23072  Y              1     false      true     false      f\n",
       "\u001b[36m                                                               4 columns omitted\u001b[0m"
      ]
     },
     "execution_count": 2,
     "metadata": {},
     "output_type": "execute_result"
    }
   ],
   "source": [
    "## Loading the data\n",
    "chile = CSV.read(\n",
    "    download(\"https://raw.githubusercontent.com/umbertomig/POLI175julia/main/data/chilesurvey.csv\"), \n",
    "    DataFrame,\n",
    "    missingstring = [\"NA\"]\n",
    "); dropmissing!(chile)\n",
    "chile.voteyes = ifelse.(chile.vote .== \"Y\", 1, 0)\n",
    "\n",
    "# One-hot encoding (we will learn a better way to do it later)\n",
    "onehot!(chile, :region);\n",
    "onehot!(chile, :education);\n",
    "onehot!(chile, :sex);\n",
    "\n",
    "# Drop reference categories\n",
    "select!(chile, Not(:region, :income, :population, :sex, :education, :region_C, :education_P, :sex_M))\n",
    "\n",
    "# Checking\n",
    "first(chile, 3)"
   ]
  },
  {
   "cell_type": "markdown",
   "id": "c00f69ff",
   "metadata": {
    "slideshow": {
     "slide_type": "slide"
    }
   },
   "source": [
    "## Class Examples"
   ]
  },
  {
   "cell_type": "code",
   "execution_count": 3,
   "id": "b696a377",
   "metadata": {
    "slideshow": {
     "slide_type": "-"
    }
   },
   "outputs": [
    {
     "data": {
      "text/html": [
       "<div><div style = \"float: left;\"><span>3×9 DataFrame</span></div><div style = \"clear: both;\"></div></div><div class = \"data-frame\" style = \"overflow-x: scroll;\"><table class = \"data-frame\" style = \"margin-bottom: 6px;\"><thead><tr class = \"header\"><th class = \"rowNumber\" style = \"font-weight: bold; text-align: right;\">Row</th><th style = \"text-align: left;\">education</th><th style = \"text-align: left;\">income</th><th style = \"text-align: left;\">young</th><th style = \"text-align: left;\">urban</th><th style = \"text-align: left;\">states</th><th style = \"text-align: left;\">educ_log</th><th style = \"text-align: left;\">income_log</th><th style = \"text-align: left;\">urban_log</th><th style = \"text-align: left;\">young_log</th></tr><tr class = \"subheader headerLastRow\"><th class = \"rowNumber\" style = \"font-weight: bold; text-align: right;\"></th><th title = \"Int64\" style = \"text-align: left;\">Int64</th><th title = \"Int64\" style = \"text-align: left;\">Int64</th><th title = \"Float64\" style = \"text-align: left;\">Float64</th><th title = \"Int64\" style = \"text-align: left;\">Int64</th><th title = \"InlineStrings.String3\" style = \"text-align: left;\">String3</th><th title = \"Float64\" style = \"text-align: left;\">Float64</th><th title = \"Float64\" style = \"text-align: left;\">Float64</th><th title = \"Float64\" style = \"text-align: left;\">Float64</th><th title = \"Float64\" style = \"text-align: left;\">Float64</th></tr></thead><tbody><tr><td class = \"rowNumber\" style = \"font-weight: bold; text-align: right;\">1</td><td style = \"text-align: right;\">189</td><td style = \"text-align: right;\">2824</td><td style = \"text-align: right;\">350.7</td><td style = \"text-align: right;\">508</td><td style = \"text-align: left;\">ME</td><td style = \"text-align: right;\">5.24175</td><td style = \"text-align: right;\">7.94591</td><td style = \"text-align: right;\">6.23048</td><td style = \"text-align: right;\">5.85993</td></tr><tr><td class = \"rowNumber\" style = \"font-weight: bold; text-align: right;\">2</td><td style = \"text-align: right;\">169</td><td style = \"text-align: right;\">3259</td><td style = \"text-align: right;\">345.9</td><td style = \"text-align: right;\">564</td><td style = \"text-align: left;\">NH</td><td style = \"text-align: right;\">5.1299</td><td style = \"text-align: right;\">8.08918</td><td style = \"text-align: right;\">6.33505</td><td style = \"text-align: right;\">5.84615</td></tr><tr><td class = \"rowNumber\" style = \"font-weight: bold; text-align: right;\">3</td><td style = \"text-align: right;\">230</td><td style = \"text-align: right;\">3072</td><td style = \"text-align: right;\">348.5</td><td style = \"text-align: right;\">322</td><td style = \"text-align: left;\">VT</td><td style = \"text-align: right;\">5.43808</td><td style = \"text-align: right;\">8.03008</td><td style = \"text-align: right;\">5.77455</td><td style = \"text-align: right;\">5.85364</td></tr></tbody></table></div>"
      ],
      "text/latex": [
       "\\begin{tabular}{r|ccccccccc}\n",
       "\t& education & income & young & urban & states & educ\\_log & income\\_log & urban\\_log & young\\_log\\\\\n",
       "\t\\hline\n",
       "\t& Int64 & Int64 & Float64 & Int64 & String3 & Float64 & Float64 & Float64 & Float64\\\\\n",
       "\t\\hline\n",
       "\t1 & 189 & 2824 & 350.7 & 508 & ME & 5.24175 & 7.94591 & 6.23048 & 5.85993 \\\\\n",
       "\t2 & 169 & 3259 & 345.9 & 564 & NH & 5.1299 & 8.08918 & 6.33505 & 5.84615 \\\\\n",
       "\t3 & 230 & 3072 & 348.5 & 322 & VT & 5.43808 & 8.03008 & 5.77455 & 5.85364 \\\\\n",
       "\\end{tabular}\n"
      ],
      "text/plain": [
       "\u001b[1m3×9 DataFrame\u001b[0m\n",
       "\u001b[1m Row \u001b[0m│\u001b[1m education \u001b[0m\u001b[1m income \u001b[0m\u001b[1m young   \u001b[0m\u001b[1m urban \u001b[0m\u001b[1m states  \u001b[0m\u001b[1m educ_log \u001b[0m\u001b[1m income_log \u001b[0m\u001b[1m urban\u001b[0m ⋯\n",
       "     │\u001b[90m Int64     \u001b[0m\u001b[90m Int64  \u001b[0m\u001b[90m Float64 \u001b[0m\u001b[90m Int64 \u001b[0m\u001b[90m String3 \u001b[0m\u001b[90m Float64  \u001b[0m\u001b[90m Float64    \u001b[0m\u001b[90m Float\u001b[0m ⋯\n",
       "─────┼──────────────────────────────────────────────────────────────────────────\n",
       "   1 │       189    2824    350.7    508  ME        5.24175     7.94591    6.2 ⋯\n",
       "   2 │       169    3259    345.9    564  NH        5.1299      8.08918    6.3\n",
       "   3 │       230    3072    348.5    322  VT        5.43808     8.03008    5.7\n",
       "\u001b[36m                                                               2 columns omitted\u001b[0m"
      ]
     },
     "execution_count": 3,
     "metadata": {},
     "output_type": "execute_result"
    }
   ],
   "source": [
    "## Education Expenditure Dataset\n",
    "educ = CSV.read(download(\"https://raw.githubusercontent.com/umbertomig/POLI175julia/main/data/educexp.csv\"), DataFrame)\n",
    "\n",
    "# Processing\n",
    "educ.educ_log = log.(educ.education);\n",
    "educ.income_log = log.(educ.income)\n",
    "educ.urban_log = log.(educ.urban)\n",
    "educ.young_log = log.(educ.young)\n",
    "\n",
    "# Checking\n",
    "first(educ, 3)"
   ]
  },
  {
   "cell_type": "markdown",
   "id": "b496aa23",
   "metadata": {
    "slideshow": {
     "slide_type": "slide"
    }
   },
   "source": [
    "## Beyond Linearity"
   ]
  },
  {
   "cell_type": "markdown",
   "id": "05794a41",
   "metadata": {
    "slideshow": {
     "slide_type": "slide"
    }
   },
   "source": [
    "## Basis Functions\n",
    "\n",
    "Family of transformations $b_i(X)$ such that, instead of fitting a regression model in $X$, we fit:\n",
    "\n",
    "$$ y_i \\ = \\ \\beta_0 + \\beta_1b_1(x_i) + \\beta_2b_2(x_i) + \\cdots + \\beta_kb_k(x_i) + \\varepsilon_i $$\n",
    "\n",
    "In this sense:\n",
    "- Polynomial Regression: $b_j(x_i) = x_i^j$\n",
    "- Constant-piecewise Regression: $b_j(x_i) = C_j(x_i) = I(c_j \\leq X < c_{j+1})$\n",
    "    \n",
    "Meaning: they are cases of a broader set of basis functions."
   ]
  },
  {
   "cell_type": "markdown",
   "id": "797cddd0",
   "metadata": {
    "slideshow": {
     "slide_type": "slide"
    }
   },
   "source": [
    "## Polynomial Regression\n",
    "\n",
    "Expands the default model ($y_i = \\beta_0 + \\beta_1x_i + \\varepsilon_i$) to consider a polynomial $d$:\n",
    "\n",
    "$$ y_i = \\beta_0 + \\beta_1x_i + \\beta_2x_i^2 +\\cdots + \\beta_dx_i^d + \\varepsilon_i $$\n",
    "                     \n",
    "Lots of flexibility here, but we seldom use $d>4$ because then it gets *excessively* flexible.\n",
    "\n",
    "Prediction very straightforward:\n",
    "\n",
    "$$ \\hat{f}(x_0) = \\hat{\\beta}_0 + \\hat{\\beta}_1x_0 + \\hat{\\beta}_2x_0^2 +\\cdots + \\hat{\\beta}_dx_0^d $$"
   ]
  },
  {
   "cell_type": "markdown",
   "id": "21a35d11",
   "metadata": {
    "slideshow": {
     "slide_type": "slide"
    }
   },
   "source": [
    "## Polynomial Regression\n",
    "\n",
    "![img](https://github.com/umbertomig/POLI175julia/blob/c9b0555e3e97778495bee72746aee43ddf3226d7/img/polyreg1.png?raw=true)"
   ]
  },
  {
   "cell_type": "markdown",
   "id": "ea01a5a8",
   "metadata": {
    "slideshow": {
     "slide_type": "slide"
    }
   },
   "source": [
    "## Polynomial Regression\n",
    "\n",
    "Let us try to explain `education` expenditure using per capita `income`."
   ]
  },
  {
   "cell_type": "code",
   "execution_count": 1,
   "id": "5940e713",
   "metadata": {},
   "outputs": [
    {
     "ename": "NameError",
     "evalue": "name 'first' is not defined",
     "output_type": "error",
     "traceback": [
      "\u001b[0;31m---------------------------------------------------------------------------\u001b[0m",
      "\u001b[0;31mNameError\u001b[0m                                 Traceback (most recent call last)",
      "Cell \u001b[0;32mIn[1], line 2\u001b[0m\n\u001b[1;32m      1\u001b[0m \u001b[38;5;66;03m# Checking\u001b[39;00m\n\u001b[0;32m----> 2\u001b[0m \u001b[43mfirst\u001b[49m(educ, \u001b[38;5;241m3\u001b[39m)\n",
      "\u001b[0;31mNameError\u001b[0m: name 'first' is not defined"
     ]
    }
   ],
   "source": [
    "# Checking\n",
    "first(educ, 3)"
   ]
  },
  {
   "cell_type": "markdown",
   "id": "dad4b2e4",
   "metadata": {
    "slideshow": {
     "slide_type": "slide"
    }
   },
   "source": [
    "## Polynomial Regression\n",
    "\n",
    "Let us try to explain `education` expenditure using per capita `income`."
   ]
  },
  {
   "cell_type": "code",
   "execution_count": null,
   "id": "0d101315",
   "metadata": {},
   "outputs": [],
   "source": [
    "educaux = educ[:, [\"education\", \"income\"]];\n",
    "educaux.income2 = educaux.income .^ 2;\n",
    "educaux.income3 = educaux.income .^ 3;\n",
    "educaux.income4 = educaux.income .^ 4;\n",
    "educaux.income5 = educaux.income .^ 5;\n",
    "educaux.income6 = educaux.income .^ 6;"
   ]
  },
  {
   "cell_type": "code",
   "execution_count": null,
   "id": "ac6064ce",
   "metadata": {},
   "outputs": [],
   "source": [
    "y, X = unpack(\n",
    "    educaux, ## Variables we need\n",
    "    ==(:education);                        ## Target (all else features...)\n",
    "    :education   => Continuous,            ## Var types\n",
    "    :income      => Continuous,\n",
    "    :income2     => Continuous,\n",
    "    :income3     => Continuous,\n",
    "    :income4     => Continuous,\n",
    "    :income5     => Continuous,\n",
    "    :income6     => Continuous,\n",
    ");"
   ]
  },
  {
   "cell_type": "markdown",
   "id": "63337094",
   "metadata": {
    "slideshow": {
     "slide_type": "slide"
    }
   },
   "source": [
    "## Polynomial Regression"
   ]
  },
  {
   "cell_type": "code",
   "execution_count": null,
   "id": "a87b88da",
   "metadata": {},
   "outputs": [],
   "source": [
    "linreg = MLJLinearModels.LinearRegressor()"
   ]
  },
  {
   "cell_type": "code",
   "execution_count": null,
   "id": "13ed0ff2",
   "metadata": {},
   "outputs": [],
   "source": [
    "# 3-Fold CV\n",
    "cv3 = CV(\n",
    "    nfolds = 3,  ## Number of cross-validating folds\n",
    "    rng = 45321  ## Random seed\n",
    ");"
   ]
  },
  {
   "cell_type": "markdown",
   "id": "949af29c",
   "metadata": {
    "slideshow": {
     "slide_type": "slide"
    }
   },
   "source": [
    "## Polynomial Regression"
   ]
  },
  {
   "cell_type": "code",
   "execution_count": null,
   "id": "af9bc09e",
   "metadata": {},
   "outputs": [],
   "source": [
    "## Evaluate the Model\n",
    "vars = Vector{String}()\n",
    "for i in (\"income\", \"income2\", \"income3\", \"income4\", \"income5\", \"income6\")\n",
    "    push!(vars, i)\n",
    "    println(\n",
    "        evaluate(linreg,                   ## Model\n",
    "            X[:, vars],                    ## Training features set\n",
    "            y,                             ## Training target set\n",
    "            resampling = cv3,              ## Resampling strategy (in this case, 3-Fold CV)\n",
    "            measure = [l2, rmse],          ## Measures\n",
    "            verbosity = 0)\n",
    "    )\n",
    "end"
   ]
  },
  {
   "cell_type": "markdown",
   "id": "b37251d5",
   "metadata": {},
   "source": [
    "I view the linear regression as the best for this relationship."
   ]
  },
  {
   "cell_type": "markdown",
   "id": "d4046a13",
   "metadata": {
    "slideshow": {
     "slide_type": "slide"
    }
   },
   "source": [
    "# Tree-based methods"
   ]
  },
  {
   "cell_type": "markdown",
   "id": "7b879690",
   "metadata": {
    "slideshow": {
     "slide_type": "slide"
    }
   },
   "source": [
    "## Tree-based methods\n",
    "\n",
    "Tree-based methods consist of segmenting the predictors' space into many regions\n",
    "\n",
    "Then, use these regions to predict the target variable.\n",
    "- We use heuristics here, such as the variable's mean in the region.\n",
    "    \n",
    "This approach is called the `decision tree method`\n",
    "\n",
    "By itself it is terrible. But there are methods that improve efficiency considerably.\n",
    "- At the cost of interpretability"
   ]
  },
  {
   "cell_type": "markdown",
   "id": "dde1bd55",
   "metadata": {
    "slideshow": {
     "slide_type": "slide"
    }
   },
   "source": [
    "## Decision Trees\n",
    "\n",
    "May be applied to regression and classification.\n",
    "\n",
    "Example: Suppose you want to predict salary of baseball players using the numbers of years playing and the hits:\n",
    "\n",
    "A regression tree would perform the following predictions:\n",
    "\n",
    "![img](https://github.com/umbertomig/POLI175julia/blob/c9b0555e3e97778495bee72746aee43ddf3226d7/img/tree1.png?raw=true)"
   ]
  },
  {
   "cell_type": "markdown",
   "id": "639cf822",
   "metadata": {
    "slideshow": {
     "slide_type": "slide"
    }
   },
   "source": [
    "## Decision Trees\n",
    "\n",
    "This is how the fitted parameters segment the data:\n",
    "\n",
    "![tree2](https://github.com/umbertomig/POLI175julia/blob/c9b0555e3e97778495bee72746aee43ddf3226d7/img/tree2.png?raw=true)"
   ]
  },
  {
   "cell_type": "markdown",
   "id": "231d14c8",
   "metadata": {
    "slideshow": {
     "slide_type": "slide"
    }
   },
   "source": [
    "## Decision Trees\n",
    "\n",
    "Formally:\n",
    "\n",
    "1. Regression trees divide the predictors' space into distinct and non-overlapping regions $R_1$, $R_2$, $\\cdots$, $R_J$.\n",
    "\n",
    "2. For all observations within $R_j$, we make the same prediction.\n",
    "    \n",
    "How to construct the $R_1, R_2, \\cdots, R_J$ space?"
   ]
  },
  {
   "cell_type": "markdown",
   "id": "731da624",
   "metadata": {
    "slideshow": {
     "slide_type": "slide"
    }
   },
   "source": [
    "## Decision Trees\n",
    "\n",
    "One theoretical solution would be to fit a regression tree that search for regions that minimize the Residual Sum of Squares:\n",
    "\n",
    "$$ \\sum_{j=1}^J\\sum_{i \\in R_j} (y_i - \\hat{y}_{R_j})^2 $$\n",
    "\n",
    "But it is easy to see that solving this is computationally infeasible.\n",
    "\n",
    "- Multiple variables would amount to multiple regions.\n",
    "\n",
    "- Many combinations and regions would be possible."
   ]
  },
  {
   "cell_type": "markdown",
   "id": "8591f613",
   "metadata": {
    "slideshow": {
     "slide_type": "slide"
    }
   },
   "source": [
    "## Decision Trees\n",
    "\n",
    "The way we actually fit this is called the `greedy` approach:\n",
    "\n",
    "1. We consider one variable at a time.\n",
    "\n",
    "2. We split it recursively.\n",
    "\n",
    "3. We consider the regions that divide the space into two half-spaces:\n",
    "\n",
    "$$ R_1(j, s) = \\{X | X_j < s\\} \\quad and \\quad R_2(j, s) = \\{X | X_j \\geq s\\} $$"
   ]
  },
  {
   "cell_type": "markdown",
   "id": "d39388f7",
   "metadata": {
    "slideshow": {
     "slide_type": "slide"
    }
   },
   "source": [
    "## Decision Trees\n",
    "\n",
    "Minimizing:\n",
    "\n",
    "$$ \\sum_{i: \\ x_i \\in R_1(j,s)} (y_i - \\hat{y}_{R_1})^2 + \\sum_{i: \\ x_i \\in R_2(j,s)} (y_i - \\hat{y}_{R_2})^2$$\n",
    "\n",
    "With $\\hat{y}_{R_j}$ the mean of $y$ in the $j$-th half-space."
   ]
  },
  {
   "cell_type": "markdown",
   "id": "deaf8fcb",
   "metadata": {
    "slideshow": {
     "slide_type": "slide"
    }
   },
   "source": [
    "## Decision Trees\n",
    "\n",
    "This could be the optimal, but never the greedy approach:\n",
    "\n",
    "![tree3](https://github.com/umbertomig/POLI175julia/blob/c9b0555e3e97778495bee72746aee43ddf3226d7/img/tree3.png?raw=true)"
   ]
  },
  {
   "cell_type": "markdown",
   "id": "8ed46502",
   "metadata": {
    "slideshow": {
     "slide_type": "slide"
    }
   },
   "source": [
    "## Decision Trees\n",
    "\n",
    "This represents the greedy approach:\n",
    "\n",
    "![tree4](https://github.com/umbertomig/POLI175julia/blob/c9b0555e3e97778495bee72746aee43ddf3226d7/img/tree4.png?raw=true)"
   ]
  },
  {
   "cell_type": "markdown",
   "id": "60396a32",
   "metadata": {
    "slideshow": {
     "slide_type": "slide"
    }
   },
   "source": [
    "## Decision Trees\n",
    "\n",
    "And this is the levels / the regression tree:\n",
    "\n",
    "![tree5](https://github.com/umbertomig/POLI175julia/blob/c9b0555e3e97778495bee72746aee43ddf3226d7/img/tree5.png?raw=true)"
   ]
  },
  {
   "cell_type": "markdown",
   "id": "6033e7aa",
   "metadata": {
    "slideshow": {
     "slide_type": "slide"
    }
   },
   "source": [
    "## Decision Trees\n",
    "\n",
    "This approach will likely overfit the data. We need them to `prune` our tree a bit.\n",
    "\n",
    "This involves removing parts of our tree that are not being helpful in the testing set predictions.\n",
    "\n",
    "One heuristic is to use the size of the tree to penalize it. This is called `cost complexity pruning`\n",
    "\n",
    "For all $T \\subset T_0$:\n",
    "\n",
    "$$ \\sum_{m=1}^{|T|} \\sum_{i: \\ x_i \\in R_m} (y_i - \\hat{y}_{R_m})^2 + \\alpha |T| $$"
   ]
  },
  {
   "cell_type": "markdown",
   "id": "101c58bb",
   "metadata": {
    "slideshow": {
     "slide_type": "slide"
    }
   },
   "source": [
    "## Decision Trees\n",
    "\n",
    "**Regression Tree Algorithm:**\n",
    "\n",
    "1. Use recursive binary split (greedy approach) to grow a large tree on the training data. Stop when the terminal node reaches fewer than some threshold minimum number of observations.\n",
    "\n",
    "2. Apply the cost-complexity pruning to the large tree to obtain a sequence of trees $T_1 \\subset T_2 \\subset \\cdots \\subset T_0$, as a function of $\\alpha$."
   ]
  },
  {
   "cell_type": "markdown",
   "id": "716eec95",
   "metadata": {
    "slideshow": {
     "slide_type": "slide"
    }
   },
   "source": [
    "## Decision Trees\n",
    "\n",
    "**Regression Tree Algorithm:**\n",
    "\n",
    "3. Use K-fold cross-validation to choose $\\alpha$, i.e., for each $k \\in \\{1, 2, \\cdots, K\\}$:\n",
    "    - Repeat steps 1 and 2 on all but $k$th fold of training data\n",
    "    - Compute the MSE in the left-out fold\n",
    "    - Pick $\\alpha$ that minimizes the MSE.\n",
    "\n",
    "4. Fit the corresponding tree for the optimal $\\alpha$."
   ]
  },
  {
   "cell_type": "markdown",
   "id": "24850020",
   "metadata": {
    "slideshow": {
     "slide_type": "slide"
    }
   },
   "source": [
    "## Decision Trees\n",
    "\n",
    "![tree6](https://github.com/umbertomig/POLI175julia/blob/c9b0555e3e97778495bee72746aee43ddf3226d7/img/tree6.png?raw=true)"
   ]
  },
  {
   "cell_type": "markdown",
   "id": "c83a2ec1",
   "metadata": {
    "slideshow": {
     "slide_type": "slide"
    }
   },
   "source": [
    "## Classification Trees\n",
    "\n",
    "Very similar approach, but you change the prediction and the statistic we look at.\n",
    "\n",
    "1. We predict that all classes belong to the `most commonly occurring class` in the data.\n",
    "\n",
    "2. We look at the `classification error rates` to grow our trees."
   ]
  },
  {
   "cell_type": "markdown",
   "id": "5e76b1d2",
   "metadata": {
    "slideshow": {
     "slide_type": "slide"
    }
   },
   "source": [
    "## Classification Trees\n",
    "\n",
    "Let $\\hat{p}_{mk}$ the proportion of cases in the $m$-th region that belong to the $k$-th class.\n",
    "\n",
    "The error rate is:\n",
    "\n",
    "$$ E = 1 - \\max_k (\\hat{p}_{mk}) $$"
   ]
  },
  {
   "cell_type": "markdown",
   "id": "a9e2f0c3",
   "metadata": {
    "slideshow": {
     "slide_type": "slide"
    }
   },
   "source": [
    "## Classification Trees\n",
    "\n",
    "But, the classification error is sensitive to the size of the tree. Therefore, it is preferable to also look at the following:\n",
    "\n",
    "1. The `Gini index`:\n",
    "\n",
    "$$ G = \\sum_k \\hat{p}_{mk}(1 - \\hat{p}_{mk}) $$\n",
    "\n",
    "2. Or the `Entropy` level:\n",
    "    \n",
    "$$ D = - \\sum_k \\max_k \\hat{p}_{mk}\\log(\\hat{p}_{mk}) $$"
   ]
  },
  {
   "cell_type": "markdown",
   "id": "4cb5bf74",
   "metadata": {
    "slideshow": {
     "slide_type": "slide"
    }
   },
   "source": [
    "## Classification Trees\n",
    "\n",
    "[Gini index](https://en.wikipedia.org/wiki/Gini_coefficient): measure of *node purity*: \n",
    "\n",
    "- Small values indicate that all $\\hat{p}_{mk}$ are either close to zero or one.\n",
    "\n",
    "[Entropy](https://en.wikipedia.org/wiki/Entropy):\n",
    "\n",
    "- Easy to see that: $-\\hat{p}_{mk}\\log(\\hat{p}_{mk}) \\geq 0$\n",
    "\n",
    "- It will take values close to zero if $\\hat{p}_{mk}$ is close to either zero or one."
   ]
  },
  {
   "cell_type": "markdown",
   "id": "242428cc",
   "metadata": {
    "slideshow": {
     "slide_type": "slide"
    }
   },
   "source": [
    "## Classification Trees\n",
    "\n",
    "Feel free to use the measurement that you prefer.\n",
    "\n",
    "But, minimizing error rates could be preferable when classification accuracy is the target.\n",
    "\n",
    "In any case, you should cross-validate your analysis to pick the best parameters/tree size."
   ]
  },
  {
   "cell_type": "markdown",
   "id": "779a4ebe",
   "metadata": {
    "slideshow": {
     "slide_type": "slide"
    }
   },
   "source": [
    "## Classification Trees\n",
    "\n",
    "Classification in the book's heart disease data (before pruning):\n",
    "\n",
    "![tree7](https://github.com/umbertomig/POLI175julia/blob/c9b0555e3e97778495bee72746aee43ddf3226d7/img/tree7.png?raw=true)"
   ]
  },
  {
   "cell_type": "markdown",
   "id": "56912cd6",
   "metadata": {
    "slideshow": {
     "slide_type": "slide"
    }
   },
   "source": [
    "## Classification Trees\n",
    "\n",
    "Classification in the book's heart disease data (after pruning):\n",
    "\n",
    "![tree8](https://github.com/umbertomig/POLI175julia/blob/c9b0555e3e97778495bee72746aee43ddf3226d7/img/tree8.png?raw=true)"
   ]
  },
  {
   "cell_type": "markdown",
   "id": "655eaa21",
   "metadata": {
    "slideshow": {
     "slide_type": "slide"
    }
   },
   "source": [
    "## Decision Trees x Linear Models\n",
    "\n",
    "Linear regression:\n",
    "\n",
    "$$ f(X) \\ = \\ \\beta_0 + \\sum_{j=1}^p X_j\\beta_j $$\n",
    "\n",
    "Decision Trees:\n",
    "\n",
    "$$ f(X) \\ = \\ \\sum_{m=1}^M c_m \\cdot \\mathbb{1}(X \\in R_m) $$\n",
    "\n",
    "Which model is better? No easy answer."
   ]
  },
  {
   "cell_type": "markdown",
   "id": "8d203cdb",
   "metadata": {
    "slideshow": {
     "slide_type": "slide"
    }
   },
   "source": [
    "## Decision Trees x Linear Models\n",
    "\n",
    "Regression is better:\n",
    "\n",
    "![tree9](https://github.com/umbertomig/POLI175julia/blob/c9b0555e3e97778495bee72746aee43ddf3226d7/img/tree9.png?raw=true)"
   ]
  },
  {
   "cell_type": "markdown",
   "id": "2883eb16",
   "metadata": {
    "slideshow": {
     "slide_type": "slide"
    }
   },
   "source": [
    "## Decision Trees x Linear Models\n",
    "\n",
    "Decision tree is better:\n",
    "\n",
    "![tree10](https://github.com/umbertomig/POLI175julia/blob/c9b0555e3e97778495bee72746aee43ddf3226d7/img/tree10.png?raw=true)"
   ]
  },
  {
   "cell_type": "markdown",
   "id": "8d850f88",
   "metadata": {
    "slideshow": {
     "slide_type": "slide"
    }
   },
   "source": [
    "## Decision Trees\n",
    "\n",
    "**Pros**:\n",
    "\n",
    "1. Easy to explain.\n",
    "\n",
    "2. Some argue that it mirrors human decision-making.\n",
    "\n",
    "3. Allow for graphical display (kind of pretty, if you ask me...).\n",
    "\n",
    "4. Easily handle qualitative predictors."
   ]
  },
  {
   "cell_type": "markdown",
   "id": "3f5a1f25",
   "metadata": {
    "slideshow": {
     "slide_type": "slide"
    }
   },
   "source": [
    "## Decision Trees\n",
    "\n",
    "**Cons**:\n",
    "\n",
    "1. Do not have the same level of accuracy as some predictive regression models.\n",
    "    \n",
    "2. Can be *non-robust*: small changes in data make up to significant changes in final estimation."
   ]
  },
  {
   "cell_type": "markdown",
   "id": "d8eace45",
   "metadata": {
    "slideshow": {
     "slide_type": "slide"
    }
   },
   "source": [
    "# Questions?"
   ]
  },
  {
   "cell_type": "markdown",
   "id": "22d252e9",
   "metadata": {
    "slideshow": {
     "slide_type": "slide"
    }
   },
   "source": [
    "# See you next class\n"
   ]
  }
 ],
 "metadata": {
  "celltoolbar": "Slideshow",
  "kernelspec": {
   "display_name": "Python 3 (ipykernel)",
   "language": "python",
   "name": "python3"
  },
  "language_info": {
   "codemirror_mode": {
    "name": "ipython",
    "version": 3
   },
   "file_extension": ".py",
   "mimetype": "text/x-python",
   "name": "python",
   "nbconvert_exporter": "python",
   "pygments_lexer": "ipython3",
   "version": "3.10.12"
  }
 },
 "nbformat": 4,
 "nbformat_minor": 5
}
