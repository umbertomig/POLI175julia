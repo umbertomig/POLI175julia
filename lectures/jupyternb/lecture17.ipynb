{
 "cells": [
  {
   "cell_type": "markdown",
   "id": "243e38f9",
   "metadata": {
    "slideshow": {
     "slide_type": "slide"
    }
   },
   "source": [
    "# POLI 175 - Lecture 17\n",
    "\n",
    "## Support Vector Machines"
   ]
  },
  {
   "cell_type": "markdown",
   "id": "d4046a13",
   "metadata": {
    "slideshow": {
     "slide_type": "slide"
    }
   },
   "source": [
    "# Support Vector Machines II"
   ]
  },
  {
   "cell_type": "markdown",
   "id": "7b879690",
   "metadata": {
    "slideshow": {
     "slide_type": "slide"
    }
   },
   "source": [
    "## Support Vector Machines\n",
    "\n",
    "Today let's talk about how to estimate SVMs to data using Julia.\n",
    "\n",
    "Let's get started:"
   ]
  },
  {
   "cell_type": "markdown",
   "id": "7cd2ea31",
   "metadata": {
    "slideshow": {
     "slide_type": "slide"
    }
   },
   "source": [
    "## Support Vector Machines"
   ]
  },
  {
   "cell_type": "code",
   "execution_count": null,
   "id": "b55c5cf0",
   "metadata": {
    "slideshow": {
     "slide_type": "-"
    }
   },
   "outputs": [],
   "source": [
    "## Loading the packages (make sure you have those installed)\n",
    "using DataFrames\n",
    "using MLJ, MLJIteration\n",
    "using MLJModels\n",
    "import MLJLinearModels, MLJBase\n",
    "import MultivariateStats, MLJMultivariateStatsInterface\n",
    "import CSV, Plots, GLM, StatsBase, Random\n",
    "import LaTeXStrings, StatsPlots, Lowess, Gadfly, RegressionTables\n",
    "import CovarianceMatrices, Econometrics, LinearAlgebra, MixedModelsExtras\n",
    "import Missings, StatsAPI, FreqTables, EvalMetrics\n",
    "import DecisionTree, MLJDecisionTreeInterface\n",
    "import XGBoost, MLJXGBoostInterface\n",
    "import LIBSVM, MLJLIBSVMInterface\n",
    "\n",
    "# Solver (just in case)\n",
    "solver = MLJLinearModels.NewtonCG()\n",
    "\n",
    "## Loading the data\n",
    "chile = CSV.read(\n",
    "    download(\"https://raw.githubusercontent.com/umbertomig/POLI175julia/main/data/chilesurvey.csv\"), \n",
    "    DataFrame,\n",
    "    missingstring = [\"NA\"]\n",
    "); dropmissing!(chile)\n",
    "\n",
    "## Process target variable\n",
    "chile.voteyes = ifelse.(chile.vote .== \"Y\", \"Favor\", \"Against\")\n",
    "\n",
    "## Process statusquo a bit to lower prediction power (making things fun...)\n",
    "chile.statusquo = ifelse.(chile.statusquo .> 0, 1, 0)\n",
    "\n",
    "# Pre-process numeri cariables (log them)\n",
    "chile.income_log = log.(chile.income);\n",
    "chile.pop_log = log.(chile.population);\n",
    "\n",
    "select!(chile, Not(:vote, :income, :population));"
   ]
  },
  {
   "cell_type": "markdown",
   "id": "dde1bd55",
   "metadata": {
    "slideshow": {
     "slide_type": "slide"
    }
   },
   "source": [
    "## Support Vector Machines\n",
    "\n",
    "- If you recall from the previous class:\n",
    "    1. If we have perfect separation, we can use the Maximal Margin Classifier\n",
    "    2. Since this is usually not the case, we can use the Support Vector Classifiers (allows for a bit of misclassification to happen)\n",
    "    3. Since this only produces a linear decision boundary, we expand by changing the Euclidean inner product to a kernel estimator shaped to improve the classification.\n",
    "    \n",
    "- On our end, we will fit the second and the third cases since the first one needs a very particular structure: a separable classification problem."
   ]
  },
  {
   "cell_type": "markdown",
   "id": "639cf822",
   "metadata": {
    "slideshow": {
     "slide_type": "slide"
    }
   },
   "source": [
    "## Support Vector Machines\n",
    "\n",
    "Let us use SVM to classify the vote for Pinochet."
   ]
  },
  {
   "cell_type": "code",
   "execution_count": null,
   "id": "6629a71c",
   "metadata": {
    "slideshow": {
     "slide_type": "-"
    }
   },
   "outputs": [],
   "source": [
    "# Adapted from @xiaodaigh: https://github.com/xiaodaigh/DataConvenience.jl\n",
    "function onehot!(df::AbstractDataFrame, \n",
    "        col, cate = sort(unique(df[!, col])); \n",
    "        outnames = Symbol.(col, :_, cate))\n",
    "    transform!(df, @. col => ByRow(isequal(cate)) .=> outnames)\n",
    "end\n",
    "\n",
    "# One-hot encoding (we will learn a better way to do it later)\n",
    "onehot!(chile, :region);\n",
    "onehot!(chile, :education);\n",
    "onehot!(chile, :sex);\n",
    "\n",
    "# Little bit more\n",
    "chile.region_M = ifelse.(chile.region_M .== true, 1, 0)\n",
    "chile.region_N = ifelse.(chile.region_N .== true, 1, 0)\n",
    "chile.region_S = ifelse.(chile.region_S .== true, 1, 0)\n",
    "chile.region_SA = ifelse.(chile.region_SA .== true, 1, 0)\n",
    "chile.sex_F = ifelse.(chile.sex_F .== true, 1, 0)\n",
    "chile.education_S = ifelse.(chile.education_S .== true, 1, 0)\n",
    "chile.education_PS = ifelse.(chile.education_PS .== true, 1, 0)\n",
    "\n",
    "# Drop reference categories\n",
    "select!(chile, Not(:region, :sex, :education, :region_C, :education_P, :sex_M));"
   ]
  },
  {
   "cell_type": "markdown",
   "id": "12c702ee",
   "metadata": {
    "slideshow": {
     "slide_type": "slide"
    }
   },
   "source": [
    "## Support Vector Machines"
   ]
  },
  {
   "cell_type": "code",
   "execution_count": null,
   "id": "a85cf3f1",
   "metadata": {
    "slideshow": {
     "slide_type": "-"
    }
   },
   "outputs": [],
   "source": [
    "# Unpacking data\n",
    "y, X = unpack(\n",
    "    chile,\n",
    "    ==(:voteyes),\n",
    "    c -> true;\n",
    "    :voteyes      => Multiclass,\n",
    "    :income_log   => Continuous,\n",
    "    :statusquo    => Continuous,\n",
    "    :pop_log      => Continuous,\n",
    "    :age          => Continuous,\n",
    "    :region_M     => Continuous,\n",
    "    :region_N     => Continuous,\n",
    "    :region_S     => Continuous,\n",
    "    :region_SA    => Continuous,\n",
    "    :sex_F        => Continuous,\n",
    "    :education_S  => Continuous,\n",
    "    :education_PS => Continuous,\n",
    ");"
   ]
  },
  {
   "cell_type": "markdown",
   "id": "31d5ce74",
   "metadata": {
    "slideshow": {
     "slide_type": "slide"
    }
   },
   "source": [
    "## Support Vector Machines"
   ]
  },
  {
   "cell_type": "code",
   "execution_count": null,
   "id": "25bf08c8",
   "metadata": {
    "slideshow": {
     "slide_type": "-"
    }
   },
   "outputs": [],
   "source": [
    "# Train-test split\n",
    "train, test = partition(\n",
    "    eachindex(y),   ## Index with the eachindex(.) method\n",
    "    0.80,           ## Proportion in the training set\n",
    "    shuffle = true, ## Shuffle the data\n",
    "    stratify = y,   ## Stratify on the voting variable\n",
    "    rng = 74593     ## Random seed (ensure same results; not necessary)\n",
    ");"
   ]
  },
  {
   "cell_type": "code",
   "execution_count": null,
   "id": "b0d28ebf",
   "metadata": {
    "slideshow": {
     "slide_type": "-"
    }
   },
   "outputs": [],
   "source": [
    "# Target\n",
    "FreqTables.freqtable(y)"
   ]
  },
  {
   "cell_type": "markdown",
   "id": "741e2e14",
   "metadata": {
    "slideshow": {
     "slide_type": "slide"
    }
   },
   "source": [
    "## Support Vector Machines"
   ]
  },
  {
   "cell_type": "code",
   "execution_count": null,
   "id": "7e4f5431",
   "metadata": {
    "scrolled": true,
    "slideshow": {
     "slide_type": "-"
    }
   },
   "outputs": [],
   "source": [
    "# Features\n",
    "first(X, 3)"
   ]
  },
  {
   "cell_type": "markdown",
   "id": "55e25185",
   "metadata": {
    "slideshow": {
     "slide_type": "slide"
    }
   },
   "source": [
    "## Support Vector Machines"
   ]
  },
  {
   "cell_type": "code",
   "execution_count": null,
   "id": "bbbea768",
   "metadata": {
    "scrolled": true,
    "slideshow": {
     "slide_type": "-"
    }
   },
   "outputs": [],
   "source": [
    "## Instantiate the model\n",
    "# Supporting Vector Classifier with Linear Kernel\n",
    "svc_lin_ker = MLJLIBSVMInterface.SVC(kernel = LIBSVM.Kernel.Linear)"
   ]
  },
  {
   "cell_type": "code",
   "execution_count": null,
   "id": "5d1235c7",
   "metadata": {
    "scrolled": true,
    "slideshow": {
     "slide_type": "-"
    }
   },
   "outputs": [],
   "source": [
    "## Build and fit our machine\n",
    "mach = machine(svc_lin_ker, X, y, scitype_check_level = 0);\n",
    "fit!(mach, rows = train);\n",
    "y_pred_mode = predict(mach, rows = test);"
   ]
  },
  {
   "cell_type": "markdown",
   "id": "21f2af3b",
   "metadata": {
    "slideshow": {
     "slide_type": "slide"
    }
   },
   "source": [
    "## Support Vector Machines"
   ]
  },
  {
   "cell_type": "code",
   "execution_count": null,
   "id": "42eedbd8",
   "metadata": {
    "scrolled": true,
    "slideshow": {
     "slide_type": "-"
    }
   },
   "outputs": [],
   "source": [
    "accuracy(y_pred_mode, y[test])"
   ]
  },
  {
   "cell_type": "code",
   "execution_count": null,
   "id": "f90b24d5",
   "metadata": {
    "scrolled": true,
    "slideshow": {
     "slide_type": "-"
    }
   },
   "outputs": [],
   "source": [
    "f1score(y_pred_mode, y[test])"
   ]
  },
  {
   "cell_type": "code",
   "execution_count": null,
   "id": "d9643b29",
   "metadata": {
    "scrolled": true,
    "slideshow": {
     "slide_type": "-"
    }
   },
   "outputs": [],
   "source": [
    "confusion_matrix(y_pred_mode, y[test])"
   ]
  },
  {
   "cell_type": "markdown",
   "id": "3b980278",
   "metadata": {
    "slideshow": {
     "slide_type": "slide"
    }
   },
   "source": [
    "## Support Vector Machines\n",
    "\n",
    "**Your turn**: Fit a polynomial kernel SVM. I will instantiate it below.\n",
    "\n",
    "Is it better? Explain."
   ]
  },
  {
   "cell_type": "code",
   "execution_count": null,
   "id": "aacb3721",
   "metadata": {
    "slideshow": {
     "slide_type": "-"
    }
   },
   "outputs": [],
   "source": [
    "# Supporting Vector Classifier with Polynomial Kernel\n",
    "svc_poly_ker = MLJLIBSVMInterface.SVC(kernel = LIBSVM.Kernel.Polynomial, degree = Int32(3))"
   ]
  },
  {
   "cell_type": "code",
   "execution_count": null,
   "id": "b42bdf9e",
   "metadata": {
    "slideshow": {
     "slide_type": "-"
    }
   },
   "outputs": [],
   "source": [
    "## Your answers here"
   ]
  },
  {
   "cell_type": "markdown",
   "id": "1e848894",
   "metadata": {
    "slideshow": {
     "slide_type": "slide"
    }
   },
   "source": [
    "## Support Vector Machines\n",
    "\n",
    "How do we optimize these results?\n",
    "\n",
    "There are many ways to improve here. \n",
    "\n",
    "Let us learn how to check the default parameters."
   ]
  },
  {
   "cell_type": "code",
   "execution_count": null,
   "id": "0246562a",
   "metadata": {
    "slideshow": {
     "slide_type": "fragment"
    }
   },
   "outputs": [],
   "source": [
    "# Supporting Vector Classifier with Sigmoid Kernel (similar to logistic link, but with hyperbolic tangent function)\n",
    "svc_sigm_ker = MLJLIBSVMInterface.SVC(kernel = LIBSVM.Kernel.Sigmoid)"
   ]
  },
  {
   "cell_type": "markdown",
   "id": "f7c64568",
   "metadata": {
    "slideshow": {
     "slide_type": "slide"
    }
   },
   "source": [
    "## Support Vector Machines\n",
    "\n",
    "We usually focus on the cost parameter.\n",
    "\n",
    "Here, we will use *Search* to find the best cost parameter."
   ]
  },
  {
   "cell_type": "code",
   "execution_count": null,
   "id": "3af8d973",
   "metadata": {
    "slideshow": {
     "slide_type": "-"
    }
   },
   "outputs": [],
   "source": [
    "# Costs (in log scale!)\n",
    "cost_tune = range(svc_sigm_ker, :cost, lower=1, upper=10, scale = :log);"
   ]
  },
  {
   "cell_type": "code",
   "execution_count": null,
   "id": "6960b6b0",
   "metadata": {
    "slideshow": {
     "slide_type": "-"
    }
   },
   "outputs": [],
   "source": [
    "# Self Tuning Model\n",
    "self_tuning_sigmsvc = TunedModel(\n",
    "    model = svc_sigm_ker,\n",
    "    resampling = Holdout(fraction_train=0.75, shuffle = true, rng = 987123),\n",
    "    tuning = Grid(resolution = 20),\n",
    "    range = [cost_tune],\n",
    "    measure = accuracy\n",
    ")"
   ]
  },
  {
   "cell_type": "markdown",
   "id": "2690b012",
   "metadata": {
    "slideshow": {
     "slide_type": "slide"
    }
   },
   "source": [
    "## Support Vector Machines"
   ]
  },
  {
   "cell_type": "code",
   "execution_count": null,
   "id": "370a0b36",
   "metadata": {
    "scrolled": true,
    "slideshow": {
     "slide_type": "-"
    }
   },
   "outputs": [],
   "source": [
    "# Fitting the models\n",
    "mach = machine(self_tuning_sigmsvc, X, y, scitype_check_level = 0);\n",
    "MLJ.fit!(mach, rows = train);\n",
    "y_pred_mode = predict(mach, rows = test);"
   ]
  },
  {
   "cell_type": "markdown",
   "id": "f5b54ae5",
   "metadata": {
    "slideshow": {
     "slide_type": "slide"
    }
   },
   "source": [
    "## Support Vector Machines"
   ]
  },
  {
   "cell_type": "code",
   "execution_count": null,
   "id": "52b330d7",
   "metadata": {
    "scrolled": true,
    "slideshow": {
     "slide_type": "-"
    }
   },
   "outputs": [],
   "source": [
    "# Report\n",
    "report(mach)"
   ]
  },
  {
   "cell_type": "markdown",
   "id": "4bfe1d19",
   "metadata": {
    "slideshow": {
     "slide_type": "slide"
    }
   },
   "source": [
    "## Support Vector Machines"
   ]
  },
  {
   "cell_type": "code",
   "execution_count": null,
   "id": "e6b6db96",
   "metadata": {
    "slideshow": {
     "slide_type": "-"
    }
   },
   "outputs": [],
   "source": [
    "# Best Model Specs\n",
    "fitted_params(mach).best_model"
   ]
  },
  {
   "cell_type": "markdown",
   "id": "509ec9b9",
   "metadata": {
    "slideshow": {
     "slide_type": "slide"
    }
   },
   "source": [
    "## Support Vector Machines"
   ]
  },
  {
   "cell_type": "code",
   "execution_count": null,
   "id": "136e896c",
   "metadata": {
    "scrolled": true,
    "slideshow": {
     "slide_type": "-"
    }
   },
   "outputs": [],
   "source": [
    "accuracy(y_pred_mode, y[test])"
   ]
  },
  {
   "cell_type": "code",
   "execution_count": null,
   "id": "a453c6c9",
   "metadata": {
    "scrolled": true,
    "slideshow": {
     "slide_type": "-"
    }
   },
   "outputs": [],
   "source": [
    "f1score(y_pred_mode, y[test])"
   ]
  },
  {
   "cell_type": "code",
   "execution_count": null,
   "id": "8972dbe6",
   "metadata": {
    "scrolled": true,
    "slideshow": {
     "slide_type": "-"
    }
   },
   "outputs": [],
   "source": [
    "confusion_matrix(y_pred_mode, y[test])"
   ]
  },
  {
   "cell_type": "markdown",
   "id": "c09ff371",
   "metadata": {
    "slideshow": {
     "slide_type": "slide"
    }
   },
   "source": [
    "## Support Vector Machines\n",
    "\n",
    "**Your turn**: Fit a Radial Kernel SVM. I instantiated it below. Search for the best cost parameter. Is it better? Explain."
   ]
  },
  {
   "cell_type": "code",
   "execution_count": null,
   "id": "36c1f8c8",
   "metadata": {
    "slideshow": {
     "slide_type": "-"
    }
   },
   "outputs": [],
   "source": [
    "# Supporting Vector Classifier with Radial Kernel\n",
    "svc_radial_ker = MLJLIBSVMInterface.SVC()"
   ]
  },
  {
   "cell_type": "code",
   "execution_count": null,
   "id": "ed825e41",
   "metadata": {
    "slideshow": {
     "slide_type": "-"
    }
   },
   "outputs": [],
   "source": [
    "## Your answers here"
   ]
  },
  {
   "cell_type": "markdown",
   "id": "2883eb16",
   "metadata": {
    "slideshow": {
     "slide_type": "slide"
    }
   },
   "source": [
    "## Support Vector Machines\n",
    "\n",
    "This is pretty much it.\n",
    "\n",
    "There is something called **Support Vector Regression**, if you want to see the extension to this method to regression.\n",
    "\n",
    "Suggestion: Try this technique with the civil conflict dataset."
   ]
  },
  {
   "cell_type": "markdown",
   "id": "d8eace45",
   "metadata": {
    "slideshow": {
     "slide_type": "slide"
    }
   },
   "source": [
    "# Questions?"
   ]
  },
  {
   "cell_type": "markdown",
   "id": "22d252e9",
   "metadata": {
    "slideshow": {
     "slide_type": "slide"
    }
   },
   "source": [
    "# See you next class\n"
   ]
  }
 ],
 "metadata": {
  "celltoolbar": "Slideshow",
  "kernelspec": {
   "display_name": "Julia 1.9.2",
   "language": "julia",
   "name": "julia-1.9"
  },
  "language_info": {
   "file_extension": ".jl",
   "mimetype": "application/julia",
   "name": "julia",
   "version": "1.9.2"
  }
 },
 "nbformat": 4,
 "nbformat_minor": 5
}
