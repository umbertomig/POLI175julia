{
 "cells": [
  {
   "cell_type": "markdown",
   "id": "66a1628f-0686-4f23-ad5f-600b9548fa45",
   "metadata": {
    "slideshow": {
     "slide_type": "slide"
    },
    "tags": []
   },
   "source": [
    "# POLI 175\n",
    "\n",
    "## Class 04 - Some Julia (cont'd) and Regression\n",
    "\n",
    "Dr. Umberto Mignozzetti\n",
    "\n",
    "UCSD"
   ]
  },
  {
   "cell_type": "markdown",
   "id": "1280d845",
   "metadata": {
    "slideshow": {
     "slide_type": "slide"
    }
   },
   "source": [
    "# Julia"
   ]
  },
  {
   "cell_type": "markdown",
   "id": "261cf8ae-d589-48f9-a98e-273aad51cc30",
   "metadata": {
    "slideshow": {
     "slide_type": "slide"
    },
    "tags": []
   },
   "source": [
    "## [Libraries](https://juliadatascience.io/standardlibrary):"
   ]
  },
  {
   "cell_type": "code",
   "execution_count": 1,
   "id": "c44cab55-76b9-4cbd-99b0-73bb5d5de2b8",
   "metadata": {
    "tags": []
   },
   "outputs": [],
   "source": [
    "# Library for dates\n",
    "using Dates"
   ]
  },
  {
   "cell_type": "code",
   "execution_count": 2,
   "id": "1ace1f7d-fe52-4877-aaa6-bf0dabbfbf99",
   "metadata": {
    "tags": []
   },
   "outputs": [
    {
     "data": {
      "text/plain": [
       "1999-01-01"
      ]
     },
     "execution_count": 2,
     "metadata": {},
     "output_type": "execute_result"
    }
   ],
   "source": [
    "Date(1999)"
   ]
  },
  {
   "cell_type": "code",
   "execution_count": 3,
   "id": "5b7fe9da-1be8-43a0-b615-f38f70c43b6c",
   "metadata": {
    "tags": []
   },
   "outputs": [
    {
     "data": {
      "text/plain": [
       "1999-02-03"
      ]
     },
     "execution_count": 3,
     "metadata": {},
     "output_type": "execute_result"
    }
   ],
   "source": [
    "Date(1999, 02, 03)"
   ]
  },
  {
   "cell_type": "markdown",
   "id": "faa9d04e-d410-476d-bbfc-0fc3557b55ae",
   "metadata": {
    "slideshow": {
     "slide_type": "slide"
    },
    "tags": []
   },
   "source": [
    "## [Libraries](https://docs.julialang.org/en/v1/stdlib/Random/):"
   ]
  },
  {
   "cell_type": "code",
   "execution_count": 4,
   "id": "54f4715f-eb6f-4f7e-86b7-42b64725ccd2",
   "metadata": {
    "tags": []
   },
   "outputs": [],
   "source": [
    "# Library for random numbers\n",
    "using Random"
   ]
  },
  {
   "cell_type": "code",
   "execution_count": 5,
   "id": "4ef5ca32-e59a-4a7b-8ed6-6e8e4fd40408",
   "metadata": {
    "tags": []
   },
   "outputs": [
    {
     "data": {
      "text/plain": [
       "0.6660866940643375"
      ]
     },
     "execution_count": 5,
     "metadata": {},
     "output_type": "execute_result"
    }
   ],
   "source": [
    "# One random number between [0, 1)\n",
    "rand()"
   ]
  },
  {
   "cell_type": "code",
   "execution_count": 6,
   "id": "f950eb7d-844b-4c2a-a0af-d0acf3367f3c",
   "metadata": {
    "tags": []
   },
   "outputs": [
    {
     "data": {
      "text/plain": [
       "10-element Vector{Float64}:\n",
       " 0.6280451132986984\n",
       " 0.23715279962137892\n",
       " 0.28025725954548597\n",
       " 0.1674538911005825\n",
       " 0.7548718095844031\n",
       " 0.11961141654308549\n",
       " 0.7936465373857218\n",
       " 0.05479035599683324\n",
       " 0.5243735771042959\n",
       " 0.21123386051492088"
      ]
     },
     "execution_count": 6,
     "metadata": {},
     "output_type": "execute_result"
    }
   ],
   "source": [
    "# Two random numbers between [0, 1)\n",
    "rand(10)"
   ]
  },
  {
   "cell_type": "markdown",
   "id": "79149d4d",
   "metadata": {
    "slideshow": {
     "slide_type": "slide"
    },
    "tags": []
   },
   "source": [
    "## Install Libraries"
   ]
  },
  {
   "cell_type": "code",
   "execution_count": 7,
   "id": "1da03c3a-12ec-4f5e-be75-7c7245c937f0",
   "metadata": {
    "tags": []
   },
   "outputs": [],
   "source": [
    "# Library for Libraries\n",
    "using Pkg"
   ]
  },
  {
   "cell_type": "code",
   "execution_count": 8,
   "id": "46c6d386-076e-470d-81e6-222d52a15b99",
   "metadata": {
    "tags": []
   },
   "outputs": [
    {
     "ename": "LoadError",
     "evalue": "SystemError: opening file \"/opt/julia/logs/manifest_usage.toml\": Permission denied",
     "output_type": "error",
     "traceback": [
      "SystemError: opening file \"/opt/julia/logs/manifest_usage.toml\": Permission denied",
      "",
      "Stacktrace:",
      "  [1] systemerror(p::String, errno::Int32; extrainfo::Nothing)",
      "    @ Base ./error.jl:168",
      "  [2] #systemerror#62",
      "    @ ./error.jl:167 [inlined]",
      "  [3] systemerror",
      "    @ ./error.jl:167 [inlined]",
      "  [4] open(fname::String; lock::Bool, read::Nothing, write::Nothing, create::Nothing, truncate::Nothing, append::Bool)",
      "    @ Base ./iostream.jl:293",
      "  [5] open(f::Pkg.Types.var\"#41#43\"{String}, args::String; kwargs::Base.Iterators.Pairs{Symbol, Bool, Tuple{Symbol}, NamedTuple{(:append,), Tuple{Bool}}})",
      "    @ Base ./io.jl:328",
      "  [6] write_env_usage(source_file::String, usage_filepath::String)",
      "    @ Pkg.Types /buildworker/worker/package_linux64/build/usr/share/julia/stdlib/v1.6/Pkg/src/Types.jl:428",
      "  [7] Pkg.Types.EnvCache(env::Nothing)",
      "    @ Pkg.Types /buildworker/worker/package_linux64/build/usr/share/julia/stdlib/v1.6/Pkg/src/Types.jl:283",
      "  [8] EnvCache",
      "    @ /buildworker/worker/package_linux64/build/usr/share/julia/stdlib/v1.6/Pkg/src/Types.jl:263 [inlined]",
      "  [9] Context",
      "    @ ./util.jl:450 [inlined]",
      " [10] add(pkgs::Vector{Pkg.Types.PackageSpec}; io::IOContext{Base.PipeEndpoint}, kwargs::Base.Iterators.Pairs{Union{}, Union{}, Tuple{}, NamedTuple{(), Tuple{}}})",
      "    @ Pkg.API /buildworker/worker/package_linux64/build/usr/share/julia/stdlib/v1.6/Pkg/src/API.jl:77",
      " [11] add(pkgs::Vector{Pkg.Types.PackageSpec})",
      "    @ Pkg.API /buildworker/worker/package_linux64/build/usr/share/julia/stdlib/v1.6/Pkg/src/API.jl:77",
      " [12] #add#23",
      "    @ /buildworker/worker/package_linux64/build/usr/share/julia/stdlib/v1.6/Pkg/src/API.jl:75 [inlined]",
      " [13] add",
      "    @ /buildworker/worker/package_linux64/build/usr/share/julia/stdlib/v1.6/Pkg/src/API.jl:75 [inlined]",
      " [14] #add#22",
      "    @ /buildworker/worker/package_linux64/build/usr/share/julia/stdlib/v1.6/Pkg/src/API.jl:74 [inlined]",
      " [15] add(pkg::String)",
      "    @ Pkg.API /buildworker/worker/package_linux64/build/usr/share/julia/stdlib/v1.6/Pkg/src/API.jl:74",
      " [16] top-level scope",
      "    @ In[8]:2",
      " [17] eval",
      "    @ ./boot.jl:360 [inlined]",
      " [18] include_string(mapexpr::typeof(REPL.softscope), mod::Module, code::String, filename::String)",
      "    @ Base ./loading.jl:1094"
     ]
    }
   ],
   "source": [
    "# Install dataframes library\n",
    "Pkg.add(\"DataFrames\")\n",
    "\n",
    "# Install library for csv files\n",
    "Pkg.add(\"CSV\")\n",
    "\n",
    "# Install library for plotting\n",
    "Pkg.add(\"Plots\")\n",
    "\n",
    "# Install library for regression\n",
    "Pkg.add(\"GLM\")\n",
    "\n",
    "# Install library for regression\n",
    "Pkg.add(\"StatsBase\")"
   ]
  },
  {
   "cell_type": "markdown",
   "id": "fbcba312-c4e8-43c7-adef-07535bb035cb",
   "metadata": {
    "slideshow": {
     "slide_type": "slide"
    },
    "tags": []
   },
   "source": [
    "## Load CSV files"
   ]
  },
  {
   "cell_type": "code",
   "execution_count": 9,
   "id": "82e13551-f18f-491d-80fb-0621cf620083",
   "metadata": {
    "tags": []
   },
   "outputs": [
    {
     "ename": "LoadError",
     "evalue": "ArgumentError: Package CSV not found in current path:\n- Run `import Pkg; Pkg.add(\"CSV\")` to install the CSV package.\n",
     "output_type": "error",
     "traceback": [
      "ArgumentError: Package CSV not found in current path:\n- Run `import Pkg; Pkg.add(\"CSV\")` to install the CSV package.\n",
      "",
      "Stacktrace:",
      " [1] require(into::Module, mod::Symbol)",
      "   @ Base ./loading.jl:871",
      " [2] eval",
      "   @ ./boot.jl:360 [inlined]",
      " [3] include_string(mapexpr::typeof(REPL.softscope), mod::Module, code::String, filename::String)",
      "   @ Base ./loading.jl:1094"
     ]
    }
   ],
   "source": [
    "# Load packages\n",
    "using CSV, DataFrames, Plots, GLM, StatsBase"
   ]
  },
  {
   "cell_type": "code",
   "execution_count": 10,
   "id": "2c223123-52b3-4cd8-871c-58b578658e08",
   "metadata": {
    "tags": []
   },
   "outputs": [
    {
     "ename": "LoadError",
     "evalue": "UndefVarError: CSV not defined",
     "output_type": "error",
     "traceback": [
      "UndefVarError: CSV not defined",
      "",
      "Stacktrace:",
      " [1] top-level scope",
      "   @ In[10]:2",
      " [2] eval",
      "   @ ./boot.jl:360 [inlined]",
      " [3] include_string(mapexpr::typeof(REPL.softscope), mod::Module, code::String, filename::String)",
      "   @ Base ./loading.jl:1094"
     ]
    }
   ],
   "source": [
    "# Loading Education Expenditure dataset\n",
    "urldat = \"https://raw.githubusercontent.com/umbertomig/POLI175julia/main/data/educexp.csv\"\n",
    "educexp = CSV.read(download(urldat, DataFrame)"
   ]
  },
  {
   "cell_type": "markdown",
   "id": "a8b7a9df-1935-4595-a2b2-e05e71a8cf8b",
   "metadata": {
    "slideshow": {
     "slide_type": "slide"
    },
    "tags": []
   },
   "source": [
    "## Exploring"
   ]
  },
  {
   "cell_type": "code",
   "execution_count": 28,
   "id": "d265cc5e-080f-40ac-aa61-acb2e5106874",
   "metadata": {
    "tags": []
   },
   "outputs": [
    {
     "data": {
      "text/plain": [
       "(51, 5)"
      ]
     },
     "execution_count": 28,
     "metadata": {},
     "output_type": "execute_result"
    }
   ],
   "source": [
    "# Dataset dimension\n",
    "size(educexp)"
   ]
  },
  {
   "cell_type": "code",
   "execution_count": 29,
   "id": "93584f50-21a1-48e5-9995-4c8dd59a8353",
   "metadata": {
    "tags": []
   },
   "outputs": [
    {
     "data": {
      "text/plain": [
       "5-element Vector{String}:\n",
       " \"education\"\n",
       " \"income\"\n",
       " \"young\"\n",
       " \"urban\"\n",
       " \"states\""
      ]
     },
     "execution_count": 29,
     "metadata": {},
     "output_type": "execute_result"
    }
   ],
   "source": [
    "# Column names\n",
    "names(educexp)"
   ]
  },
  {
   "cell_type": "markdown",
   "id": "5775443a-b84e-4149-9f03-1d75506d12b0",
   "metadata": {
    "slideshow": {
     "slide_type": "slide"
    },
    "tags": []
   },
   "source": [
    "## Exploring"
   ]
  },
  {
   "cell_type": "code",
   "execution_count": 30,
   "id": "b8d1c10d-05ac-4939-a477-d195d0c2110d",
   "metadata": {
    "tags": []
   },
   "outputs": [
    {
     "data": {
      "text/html": [
       "<div><div style = \"float: left;\"><span>3×5 DataFrame</span></div><div style = \"clear: both;\"></div></div><div class = \"data-frame\" style = \"overflow-x: scroll;\"><table class = \"data-frame\" style = \"margin-bottom: 6px;\"><thead><tr class = \"header\"><th class = \"rowNumber\" style = \"font-weight: bold; text-align: right;\">Row</th><th style = \"text-align: left;\">education</th><th style = \"text-align: left;\">income</th><th style = \"text-align: left;\">young</th><th style = \"text-align: left;\">urban</th><th style = \"text-align: left;\">states</th></tr><tr class = \"subheader headerLastRow\"><th class = \"rowNumber\" style = \"font-weight: bold; text-align: right;\"></th><th title = \"Int64\" style = \"text-align: left;\">Int64</th><th title = \"Int64\" style = \"text-align: left;\">Int64</th><th title = \"Float64\" style = \"text-align: left;\">Float64</th><th title = \"Int64\" style = \"text-align: left;\">Int64</th><th title = \"String3\" style = \"text-align: left;\">String3</th></tr></thead><tbody><tr><td class = \"rowNumber\" style = \"font-weight: bold; text-align: right;\">1</td><td style = \"text-align: right;\">189</td><td style = \"text-align: right;\">2824</td><td style = \"text-align: right;\">350.7</td><td style = \"text-align: right;\">508</td><td style = \"text-align: left;\">ME</td></tr><tr><td class = \"rowNumber\" style = \"font-weight: bold; text-align: right;\">2</td><td style = \"text-align: right;\">169</td><td style = \"text-align: right;\">3259</td><td style = \"text-align: right;\">345.9</td><td style = \"text-align: right;\">564</td><td style = \"text-align: left;\">NH</td></tr><tr><td class = \"rowNumber\" style = \"font-weight: bold; text-align: right;\">3</td><td style = \"text-align: right;\">230</td><td style = \"text-align: right;\">3072</td><td style = \"text-align: right;\">348.5</td><td style = \"text-align: right;\">322</td><td style = \"text-align: left;\">VT</td></tr></tbody></table></div>"
      ],
      "text/latex": [
       "\\begin{tabular}{r|ccccc}\n",
       "\t& education & income & young & urban & states\\\\\n",
       "\t\\hline\n",
       "\t& Int64 & Int64 & Float64 & Int64 & String3\\\\\n",
       "\t\\hline\n",
       "\t1 & 189 & 2824 & 350.7 & 508 & ME \\\\\n",
       "\t2 & 169 & 3259 & 345.9 & 564 & NH \\\\\n",
       "\t3 & 230 & 3072 & 348.5 & 322 & VT \\\\\n",
       "\\end{tabular}\n"
      ],
      "text/plain": [
       "\u001b[1m3×5 DataFrame\u001b[0m\n",
       "\u001b[1m Row \u001b[0m│\u001b[1m education \u001b[0m\u001b[1m income \u001b[0m\u001b[1m young   \u001b[0m\u001b[1m urban \u001b[0m\u001b[1m states  \u001b[0m\n",
       "     │\u001b[90m Int64     \u001b[0m\u001b[90m Int64  \u001b[0m\u001b[90m Float64 \u001b[0m\u001b[90m Int64 \u001b[0m\u001b[90m String3 \u001b[0m\n",
       "─────┼────────────────────────────────────────────\n",
       "   1 │       189    2824    350.7    508  ME\n",
       "   2 │       169    3259    345.9    564  NH\n",
       "   3 │       230    3072    348.5    322  VT"
      ]
     },
     "execution_count": 30,
     "metadata": {},
     "output_type": "execute_result"
    }
   ],
   "source": [
    "# Head\n",
    "first(educexp, 3)"
   ]
  },
  {
   "cell_type": "code",
   "execution_count": 31,
   "id": "3d87eaab-d73d-49fe-828c-a3d5b7e3cfb0",
   "metadata": {
    "tags": []
   },
   "outputs": [
    {
     "data": {
      "text/html": [
       "<div><div style = \"float: left;\"><span>3×5 DataFrame</span></div><div style = \"clear: both;\"></div></div><div class = \"data-frame\" style = \"overflow-x: scroll;\"><table class = \"data-frame\" style = \"margin-bottom: 6px;\"><thead><tr class = \"header\"><th class = \"rowNumber\" style = \"font-weight: bold; text-align: right;\">Row</th><th style = \"text-align: left;\">education</th><th style = \"text-align: left;\">income</th><th style = \"text-align: left;\">young</th><th style = \"text-align: left;\">urban</th><th style = \"text-align: left;\">states</th></tr><tr class = \"subheader headerLastRow\"><th class = \"rowNumber\" style = \"font-weight: bold; text-align: right;\"></th><th title = \"Int64\" style = \"text-align: left;\">Int64</th><th title = \"Int64\" style = \"text-align: left;\">Int64</th><th title = \"Float64\" style = \"text-align: left;\">Float64</th><th title = \"Int64\" style = \"text-align: left;\">Int64</th><th title = \"String3\" style = \"text-align: left;\">String3</th></tr></thead><tbody><tr><td class = \"rowNumber\" style = \"font-weight: bold; text-align: right;\">1</td><td style = \"text-align: right;\">273</td><td style = \"text-align: right;\">3968</td><td style = \"text-align: right;\">348.4</td><td style = \"text-align: right;\">909</td><td style = \"text-align: left;\">CA</td></tr><tr><td class = \"rowNumber\" style = \"font-weight: bold; text-align: right;\">2</td><td style = \"text-align: right;\">372</td><td style = \"text-align: right;\">4146</td><td style = \"text-align: right;\">439.7</td><td style = \"text-align: right;\">484</td><td style = \"text-align: left;\">AK</td></tr><tr><td class = \"rowNumber\" style = \"font-weight: bold; text-align: right;\">3</td><td style = \"text-align: right;\">212</td><td style = \"text-align: right;\">3513</td><td style = \"text-align: right;\">382.9</td><td style = \"text-align: right;\">831</td><td style = \"text-align: left;\">HI</td></tr></tbody></table></div>"
      ],
      "text/latex": [
       "\\begin{tabular}{r|ccccc}\n",
       "\t& education & income & young & urban & states\\\\\n",
       "\t\\hline\n",
       "\t& Int64 & Int64 & Float64 & Int64 & String3\\\\\n",
       "\t\\hline\n",
       "\t1 & 273 & 3968 & 348.4 & 909 & CA \\\\\n",
       "\t2 & 372 & 4146 & 439.7 & 484 & AK \\\\\n",
       "\t3 & 212 & 3513 & 382.9 & 831 & HI \\\\\n",
       "\\end{tabular}\n"
      ],
      "text/plain": [
       "\u001b[1m3×5 DataFrame\u001b[0m\n",
       "\u001b[1m Row \u001b[0m│\u001b[1m education \u001b[0m\u001b[1m income \u001b[0m\u001b[1m young   \u001b[0m\u001b[1m urban \u001b[0m\u001b[1m states  \u001b[0m\n",
       "     │\u001b[90m Int64     \u001b[0m\u001b[90m Int64  \u001b[0m\u001b[90m Float64 \u001b[0m\u001b[90m Int64 \u001b[0m\u001b[90m String3 \u001b[0m\n",
       "─────┼────────────────────────────────────────────\n",
       "   1 │       273    3968    348.4    909  CA\n",
       "   2 │       372    4146    439.7    484  AK\n",
       "   3 │       212    3513    382.9    831  HI"
      ]
     },
     "execution_count": 31,
     "metadata": {},
     "output_type": "execute_result"
    }
   ],
   "source": [
    "# Tail\n",
    "last(educexp, 3)"
   ]
  },
  {
   "cell_type": "markdown",
   "id": "d340353f-de0f-44c4-ad2d-0f2d7a6f2235",
   "metadata": {
    "slideshow": {
     "slide_type": "slide"
    },
    "tags": []
   },
   "source": [
    "## Exploring"
   ]
  },
  {
   "cell_type": "code",
   "execution_count": 32,
   "id": "dd5ee98d-c709-4a21-a4c6-8b45e3022c63",
   "metadata": {
    "tags": []
   },
   "outputs": [
    {
     "data": {
      "text/html": [
       "<div><div style = \"float: left;\"><span>5×7 DataFrame</span></div><div style = \"clear: both;\"></div></div><div class = \"data-frame\" style = \"overflow-x: scroll;\"><table class = \"data-frame\" style = \"margin-bottom: 6px;\"><thead><tr class = \"header\"><th class = \"rowNumber\" style = \"font-weight: bold; text-align: right;\">Row</th><th style = \"text-align: left;\">variable</th><th style = \"text-align: left;\">mean</th><th style = \"text-align: left;\">min</th><th style = \"text-align: left;\">median</th><th style = \"text-align: left;\">max</th><th style = \"text-align: left;\">nmissing</th><th style = \"text-align: left;\">eltype</th></tr><tr class = \"subheader headerLastRow\"><th class = \"rowNumber\" style = \"font-weight: bold; text-align: right;\"></th><th title = \"Symbol\" style = \"text-align: left;\">Symbol</th><th title = \"Union{Nothing, Float64}\" style = \"text-align: left;\">Union…</th><th title = \"Any\" style = \"text-align: left;\">Any</th><th title = \"Union{Nothing, Float64}\" style = \"text-align: left;\">Union…</th><th title = \"Any\" style = \"text-align: left;\">Any</th><th title = \"Int64\" style = \"text-align: left;\">Int64</th><th title = \"DataType\" style = \"text-align: left;\">DataType</th></tr></thead><tbody><tr><td class = \"rowNumber\" style = \"font-weight: bold; text-align: right;\">1</td><td style = \"text-align: left;\">education</td><td style = \"text-align: left;\">196.314</td><td style = \"text-align: left;\">112</td><td style = \"text-align: left;\">192.0</td><td style = \"text-align: left;\">372</td><td style = \"text-align: right;\">0</td><td style = \"text-align: left;\">Int64</td></tr><tr><td class = \"rowNumber\" style = \"font-weight: bold; text-align: right;\">2</td><td style = \"text-align: left;\">income</td><td style = \"text-align: left;\">3225.29</td><td style = \"text-align: left;\">2081</td><td style = \"text-align: left;\">3257.0</td><td style = \"text-align: left;\">4425</td><td style = \"text-align: right;\">0</td><td style = \"text-align: left;\">Int64</td></tr><tr><td class = \"rowNumber\" style = \"font-weight: bold; text-align: right;\">3</td><td style = \"text-align: left;\">young</td><td style = \"text-align: left;\">358.886</td><td style = \"text-align: left;\">326.2</td><td style = \"text-align: left;\">354.1</td><td style = \"text-align: left;\">439.7</td><td style = \"text-align: right;\">0</td><td style = \"text-align: left;\">Float64</td></tr><tr><td class = \"rowNumber\" style = \"font-weight: bold; text-align: right;\">4</td><td style = \"text-align: left;\">urban</td><td style = \"text-align: left;\">664.51</td><td style = \"text-align: left;\">322</td><td style = \"text-align: left;\">664.0</td><td style = \"text-align: left;\">1000</td><td style = \"text-align: right;\">0</td><td style = \"text-align: left;\">Int64</td></tr><tr><td class = \"rowNumber\" style = \"font-weight: bold; text-align: right;\">5</td><td style = \"text-align: left;\">states</td><td style = \"font-style: italic; text-align: left;\"></td><td style = \"text-align: left;\">AK</td><td style = \"font-style: italic; text-align: left;\"></td><td style = \"text-align: left;\">WY</td><td style = \"text-align: right;\">0</td><td style = \"text-align: left;\">String3</td></tr></tbody></table></div>"
      ],
      "text/latex": [
       "\\begin{tabular}{r|ccccccc}\n",
       "\t& variable & mean & min & median & max & nmissing & eltype\\\\\n",
       "\t\\hline\n",
       "\t& Symbol & Union… & Any & Union… & Any & Int64 & DataType\\\\\n",
       "\t\\hline\n",
       "\t1 & education & 196.314 & 112 & 192.0 & 372 & 0 & Int64 \\\\\n",
       "\t2 & income & 3225.29 & 2081 & 3257.0 & 4425 & 0 & Int64 \\\\\n",
       "\t3 & young & 358.886 & 326.2 & 354.1 & 439.7 & 0 & Float64 \\\\\n",
       "\t4 & urban & 664.51 & 322 & 664.0 & 1000 & 0 & Int64 \\\\\n",
       "\t5 & states &  & AK &  & WY & 0 & String3 \\\\\n",
       "\\end{tabular}\n"
      ],
      "text/plain": [
       "\u001b[1m5×7 DataFrame\u001b[0m\n",
       "\u001b[1m Row \u001b[0m│\u001b[1m variable  \u001b[0m\u001b[1m mean    \u001b[0m\u001b[1m min   \u001b[0m\u001b[1m median \u001b[0m\u001b[1m max   \u001b[0m\u001b[1m nmissing \u001b[0m\u001b[1m eltype   \u001b[0m\n",
       "     │\u001b[90m Symbol    \u001b[0m\u001b[90m Union…  \u001b[0m\u001b[90m Any   \u001b[0m\u001b[90m Union… \u001b[0m\u001b[90m Any   \u001b[0m\u001b[90m Int64    \u001b[0m\u001b[90m DataType \u001b[0m\n",
       "─────┼──────────────────────────────────────────────────────────────\n",
       "   1 │ education  196.314  112    192.0   372           0  Int64\n",
       "   2 │ income     3225.29  2081   3257.0  4425          0  Int64\n",
       "   3 │ young      358.886  326.2  354.1   439.7         0  Float64\n",
       "   4 │ urban      664.51   322    664.0   1000          0  Int64\n",
       "   5 │ states    \u001b[90m         \u001b[0m AK    \u001b[90m        \u001b[0m WY            0  String3"
      ]
     },
     "execution_count": 32,
     "metadata": {},
     "output_type": "execute_result"
    }
   ],
   "source": [
    "describe(educexp)"
   ]
  },
  {
   "cell_type": "markdown",
   "id": "243e38f9",
   "metadata": {
    "slideshow": {
     "slide_type": "slide"
    }
   },
   "source": [
    "# Regression Analysis"
   ]
  },
  {
   "cell_type": "markdown",
   "id": "a185f0fb",
   "metadata": {
    "slideshow": {
     "slide_type": "slide"
    }
   },
   "source": [
    "# Regression\n",
    "\n",
    "- Regression analysis is one of the most studied approaches for Supervised ML.\n",
    "\n",
    "- It has been around for a long time: we know it well.\n",
    "\n",
    "- it is a great starting point for learning more sophisticated methods."
   ]
  },
  {
   "cell_type": "markdown",
   "id": "39960d02",
   "metadata": {
    "slideshow": {
     "slide_type": "slide"
    }
   },
   "source": [
    "# Regression\n",
    "\n",
    "- Consider that we run a survey to measure the `prestige` of several professions in the U.S. (We are going to study a survey like this in the next class.)\n",
    "\n",
    "- A few questions about `prestige`:\n",
    "    + Is there a relationship between `prestige` and `income`?\n",
    "    + How strong is the relationship between `prestige` and `income`?\n",
    "    + Which variables are associated with `prestige`?\n",
    "    + How can we accurately predict the prestige of professions not studied in this survey?\n",
    "    + Is the relationship linear?\n",
    "    + Is there a synergy among predictors?\n",
    "    \n",
    "- These are relevant questions, and regression analysis can help us here."
   ]
  },
  {
   "cell_type": "markdown",
   "id": "456be65d",
   "metadata": {
    "slideshow": {
     "slide_type": "slide"
    }
   },
   "source": [
    "## Simple Linear Regression\n",
    "\n",
    "### Estimation\n",
    "\n",
    "- It lives for its name! A very simple approach to regression:\n",
    "\n",
    "- Let:\n",
    "    + $y_i$ the variable we want to predict\n",
    "    + $x_i$ is the variable we will be using to make the prediction.\n",
    "    + And if we assume a linear relationship, we want to find a slope $\\beta_1$ and an intercept $\\beta_0$.\n",
    "    + $n$ the number of observations\n",
    "    + $i$ a given observation.\n",
    "    + Thus:\n",
    "\n",
    "$$ y_i \\approx \\beta_0 + \\beta_1 x_i $$"
   ]
  },
  {
   "cell_type": "markdown",
   "id": "3adc4ee7",
   "metadata": {
    "slideshow": {
     "slide_type": "slide"
    }
   },
   "source": [
    "## Simple Linear Regression\n",
    "\n",
    "### Estimation\n",
    "\n",
    "How do we estimate $\\beta_0$ and $\\beta_1$? \n",
    "\n",
    "![reg](https://github.com/umbertomig/POLI175julia/blob/e0a55ce2350643ed200a482a3581479c6a8e3f74/img/fig1.png?raw=true)"
   ]
  },
  {
   "cell_type": "markdown",
   "id": "edb0f584",
   "metadata": {
    "slideshow": {
     "slide_type": "slide"
    }
   },
   "source": [
    "## Simple Linear Regression\n",
    "\n",
    "### Estimation\n",
    "\n",
    "- We are searching, among all the possible lines, for the one that does `best`.\n",
    "\n",
    "- What does `best` mean in this context?\n",
    "\n",
    "- One concept: minimize the distance between the `predicted` values and the `actual` value.\n",
    "\n",
    "- Predicted value:\n",
    "\n",
    "$$ \\hat{y}_i = \\hat{\\beta}_0 + \\hat{\\beta}_1 x_i $$"
   ]
  },
  {
   "cell_type": "markdown",
   "id": "3c890012",
   "metadata": {
    "slideshow": {
     "slide_type": "slide"
    }
   },
   "source": [
    "## Simple Linear Regression\n",
    "\n",
    "### Estimation\n",
    "\n",
    "- Actual value:\n",
    "\n",
    "$$ y_i = \\hat{y}_i + e_i = \\hat{\\beta}_0 + \\hat{\\beta}_1 x_i + e_i $$\n",
    "\n",
    "- And `best` here will mean that we minimized the **residuals sum of squares**:\n",
    "\n",
    "$$ RSS \\ = \\ e_1^2 + e_2^2 + \\cdots + e_n^2 $$\n",
    "\n",
    "- It is a well-behaved function on $\\hat{\\beta}_0$ and $\\hat{\\beta}_1$."
   ]
  },
  {
   "cell_type": "markdown",
   "id": "93d60693",
   "metadata": {
    "slideshow": {
     "slide_type": "slide"
    }
   },
   "source": [
    "## Simple Linear Regression\n",
    "\n",
    "### Estimation\n",
    "\n",
    "- With simple optimization, we can find the $\\hat{\\beta}$s that minimize this.\n",
    "\n",
    "![reg](https://github.com/umbertomig/POLI175julia/blob/e0a55ce2350643ed200a482a3581479c6a8e3f74/img/fig2.png?raw=true)"
   ]
  },
  {
   "cell_type": "markdown",
   "id": "1fa65808",
   "metadata": {
    "slideshow": {
     "slide_type": "slide"
    }
   },
   "source": [
    "## Simple Linear Regression\n",
    "\n",
    "### Assessing the accuracy of the estimates\n",
    "\n",
    "We rarely know the true estimates $\\beta_1$ and $\\beta_0$ (we only do if we `cook the data`).\n",
    "\n",
    "How do we know how good these $\\hat{\\beta}_1$ and $\\hat{\\beta}_0$ are as an approximation of the true $\\beta$s?"
   ]
  },
  {
   "cell_type": "markdown",
   "id": "ab538779",
   "metadata": {
    "slideshow": {
     "slide_type": "slide"
    }
   },
   "source": [
    "## Simple Linear Regression\n",
    "\n",
    "### Assessing the accuracy of the estimates\n",
    "\n",
    "![reg](https://github.com/umbertomig/POLI175julia/blob/e0a55ce2350643ed200a482a3581479c6a8e3f74/img/fig3.png?raw=true)"
   ]
  },
  {
   "cell_type": "markdown",
   "id": "ed328f76",
   "metadata": {
    "slideshow": {
     "slide_type": "slide"
    }
   },
   "source": [
    "## Simple Linear Regression\n",
    "\n",
    "### Assessing the accuracy of the estimates\n",
    "\n",
    "- We find how precise our estimates are by computing the `standard error`.\n",
    "\n",
    "- In some sense, the standard error of the $\\beta_k$ in question is the square root of the variance of it.\n",
    "\n",
    "- The variance, for each of the $\\hat{\\beta}$s in here, is:\n",
    "\n",
    "$$ SE(\\hat{\\beta}_0)^2 = \\sigma^2\\left[\\dfrac{1}{n} + \\dfrac{\\overline{x}^2}{\\sum_i(x_i-\\overline{x})^2}\\right]\\ , \\quad SE(\\hat{\\beta}_1)^2 = \\dfrac{\\sigma^2}{\\sum_i(x_i-\\overline{x})^2}$$"
   ]
  },
  {
   "cell_type": "markdown",
   "id": "318e2d65",
   "metadata": {
    "slideshow": {
     "slide_type": "slide"
    }
   },
   "source": [
    "## Simple Linear Regression\n",
    "\n",
    "### Assessing the accuracy of the estimates\n",
    "\n",
    "- And since $\\sigma^2 = Var(\\varepsilon)$, i.e., the real error term, we need also to estimate it:\n",
    "\n",
    "$$ \\sigma \\ = \\ \\sqrt{\\dfrac{RSS}{n-2}} $$\n",
    "\n",
    "- These standard errors give us an idea of how much we can `trust` our estimates. The smaller, the better!"
   ]
  },
  {
   "cell_type": "markdown",
   "id": "070ea153",
   "metadata": {
    "slideshow": {
     "slide_type": "slide"
    }
   },
   "source": [
    "## Simple Linear Regression\n",
    "\n",
    "### Assessing the accuracy of the estimates\n",
    "\n",
    "#### Confidence Intervals\n",
    "\n",
    "- We can also put together a `confidence interval` for our estimates:\n",
    "\n",
    "- A 95\\% confidence interval looks like this:\n",
    "\n",
    "$$ \\hat{\\beta}_k \\pm 2 \\times SE(\\hat{\\beta}_k) $$\n",
    "\n",
    "- The number 2 would change depending on the confidence levels you choose.\n"
   ]
  },
  {
   "cell_type": "markdown",
   "id": "642c69d3",
   "metadata": {
    "slideshow": {
     "slide_type": "slide"
    }
   },
   "source": [
    "## Simple Linear Regression\n",
    "\n",
    "### Assessing the accuracy of the estimates\n",
    "\n",
    "#### Hypothesis testing\n",
    "\n",
    "- We can also test whether the coefficient could be considered `statistically different` than zero.\n",
    "\n",
    "- We test the hypothesis (called null hypothesis):\n",
    "\n",
    "$$ H_0: \\beta_k = 0 $$\n",
    "\n",
    "- Against the hypothesis (called an alternative hypothesis):\n",
    "\n",
    "$$ H_a: \\beta_k \\neq 0 $$"
   ]
  },
  {
   "cell_type": "markdown",
   "id": "df753641",
   "metadata": {
    "slideshow": {
     "slide_type": "slide"
    }
   },
   "source": [
    "## Simple Linear Regression\n",
    "\n",
    "### Assessing the accuracy of the estimates\n",
    "\n",
    "#### Hypothesis testing\n",
    "\n",
    "And to do that, we put together the `t-statistic`:\n",
    "\n",
    "$$ t = \\dfrac{\\hat{\\beta}_k - 0}{SE(\\hat{\\beta}_k)} \\ \\sim \\ \\text{Student's-T}(n-2) $$\n",
    "\n",
    "- And the p-value is the probability of finding a value larger than $t$ in the Student's-T distribution."
   ]
  },
  {
   "cell_type": "markdown",
   "id": "923b83c4",
   "metadata": {
    "slideshow": {
     "slide_type": "slide"
    }
   },
   "source": [
    "## Simple Linear Regression\n",
    "\n",
    "### Assessing the accuracy of the whole model\n",
    "\n",
    "#### RSE\n",
    "\n",
    "The residual standard error is one of the best measures of the fit quality.\n",
    "\n",
    "As we said in the second class, it is the criterium we use for most Supervised Machine Learning models.\n",
    "\n",
    "It is defined as:\n",
    "\n",
    "$$ \\text{RSE} \\ = \\ \\sqrt{\\dfrac{RSS}{n-2}} \\ = \\ \\sqrt{\\dfrac{\\sum_i(y_i - \\hat{y}_i)^2}{n-2}} $$\n",
    "\n",
    "The lower, the better."
   ]
  },
  {
   "cell_type": "markdown",
   "id": "67a594bc",
   "metadata": {
    "slideshow": {
     "slide_type": "slide"
    }
   },
   "source": [
    "## Simple Linear Regression\n",
    "\n",
    "### Assessing the accuracy of the whole model\n",
    "\n",
    "#### $R^2$\n",
    "\n",
    "The $R^2$ is a measure of goodness-of-fit.\n",
    "\n",
    "It is widely used because it is between zero and one.\n",
    "\n",
    "The proportion of the variability of $Y$ that is explained by modeling it using $X$.\n",
    "\n",
    "It is defined as:\n",
    "\n",
    "$$ \\text{R}^2 \\ = \\ \\dfrac{TSS - RSS}{TSS} \\  = \\ 1 - \\dfrac{RSS}{TSS} $$\n",
    "\n",
    "And the total sum of squares is defined as $TSS = \\sum_i(y_i-\\overline{y})^2$. \n",
    "\n",
    "The higher the $R^2$, the better."
   ]
  },
  {
   "cell_type": "markdown",
   "id": "29e86b76",
   "metadata": {
    "slideshow": {
     "slide_type": "slide"
    }
   },
   "source": [
    "## Simple Linear Regression\n",
    "\n",
    "### Assessing the accuracy of the whole model\n",
    "\n",
    "#### F-Statistic\n",
    "\n",
    "- Not now! First, multiple Linear Regression :)"
   ]
  },
  {
   "cell_type": "markdown",
   "id": "6629990c",
   "metadata": {
    "slideshow": {
     "slide_type": "slide"
    }
   },
   "source": [
    "## Multiple Linear Regression\n",
    "\n",
    "- We use multiple linear regression when we have multiple predictors for the same outcome variable.\n",
    "\n",
    "- Let:\n",
    "    + $y_i$ the variable we want to predict\n",
    "    + $x_{ik}$ are the variables we will use to make the prediction.\n",
    "    + $p$: number of predictors.\n",
    "    + And if we assume a linear relationship, we want to find a slope $\\beta_1$ and an intercept $\\beta_0$.\n",
    "    + $n$ the number of observations\n",
    "    + $i$ a given observation\n",
    "    + $k$ and $l$: given predictors\n",
    "    + Thus:\n",
    "    \n",
    "$$ y_i \\ = \\ \\beta_0 + \\beta_1x_{i1} + \\beta_2x_{i2} + \\cdots + \\beta_px_{ip} + \\varepsilon $$"
   ]
  },
  {
   "cell_type": "markdown",
   "id": "ddcdda5f",
   "metadata": {
    "slideshow": {
     "slide_type": "slide"
    }
   },
   "source": [
    "### Estimation\n",
    "\n",
    "- And the residual sum of squares is defined similarly as before, but we optimize over more parameters:\n",
    "\n",
    "$$ \\text{RSS} \\ = \\ \\sum_ie_i^2 \\ = \\ \\sum_i(y_i - \\hat{\\beta}_0 - \\hat{\\beta}_1x_{i1} - \\cdots - \\hat{\\beta}_px_{ip})^2 $$\n",
    "\n",
    "![reg](https://github.com/umbertomig/POLI175julia/blob/e0a55ce2350643ed200a482a3581479c6a8e3f74/img/fig4.png?raw=true)"
   ]
  },
  {
   "cell_type": "markdown",
   "id": "d44c985b",
   "metadata": {
    "slideshow": {
     "slide_type": "slide"
    }
   },
   "source": [
    "### Assessing accuracy\n",
    "\n",
    "#### F-Statistic\n",
    "\n",
    "- Now, yes! The F-Statistic tests whether at least one predictor are different from zero.\n",
    "\n",
    "- The null hypothesis is:\n",
    "\n",
    "$$ H_0: \\ \\beta_1 = \\beta_2 = \\cdots = \\beta_p $$"
   ]
  },
  {
   "cell_type": "markdown",
   "id": "44a2bbbf",
   "metadata": {
    "slideshow": {
     "slide_type": "slide"
    }
   },
   "source": [
    "### Assessing accuracy\n",
    "\n",
    "#### F-Statistic\n",
    "\n",
    "- And the alternative hypothesis is:\n",
    "\n",
    "$$ H_a: \\ \\exists k \\in \\{1, \\cdots, p\\}, \\ s.t. \\ \\beta_k \\neq 0 $$\n",
    "\n",
    "- And $F$ is equal to:\n",
    "\n",
    "$$ \\text{F} \\ = \\ \\dfrac{\\frac{TSS-RSS}{p}}{\\frac{RSS}{n-p-1}} \\ \\sim \\ F(p, n-p-1) $$"
   ]
  },
  {
   "cell_type": "markdown",
   "id": "42338272",
   "metadata": {
    "slideshow": {
     "slide_type": "slide"
    }
   },
   "source": [
    "### Assessing accuracy\n",
    "\n",
    "#### F-Statistic\n",
    "\n",
    "- Why is this a good test? Because under the null hypothesis:\n",
    "\n",
    "$$ \\mathbb{E}\\left[\\dfrac{TSS-RSS}{p}\\right] = \\mathbb{E}\\left[\\dfrac{RSS}{n-p-1}\\right] = \\sigma^2 $$\n",
    "\n",
    "- And so, $F \\approx 1$ under $H_0$.\n"
   ]
  },
  {
   "cell_type": "markdown",
   "id": "a81fba1b",
   "metadata": {
    "slideshow": {
     "slide_type": "slide"
    }
   },
   "source": [
    "#### F-Statistic for model selection\n",
    "\n",
    "- Suppose we have $\\{1, \\cdots, l \\}$ predictors, but we could add $\\{l+1, \\cdots, p \\}$ extra predictors in our model.\n",
    "\n",
    "- Does that make sense? We can test the RSS of the restricted model against the RSS of the full model.\n",
    "\n",
    "- The null hypothesis is:\n",
    "\n",
    "$$ H_0: \\ \\beta_{l+1} = \\cdots = \\beta_{p} = 0 $$\n",
    "\n",
    "- And the F-Stat:\n",
    "\n",
    "$$ \\text{F} \\ = \\ \\dfrac{\\frac{RSS_0-RSS}{p-l}}{\\frac{RSS}{n-p-1}} \\ \\sim \\ F(p-l, n-p-1) $$"
   ]
  },
  {
   "cell_type": "markdown",
   "id": "e7847b38-b837-4e57-b031-721c2ca7eb69",
   "metadata": {
    "slideshow": {
     "slide_type": "slide"
    },
    "tags": []
   },
   "source": [
    "## Scatterplot"
   ]
  },
  {
   "cell_type": "code",
   "execution_count": 36,
   "id": "165244e0-1031-4b0c-95ba-89dd00c5c0e8",
   "metadata": {
    "tags": []
   },
   "outputs": [
    {
     "data": {
      "image/png": "[encoded data removed]",
      "image/svg+xml": [
       "<?xml version=\"1.0\" encoding=\"utf-8\"?>\n",
       "<svg xmlns=\"http://www.w3.org/2000/svg\" xmlns:xlink=\"http://www.w3.org/1999/xlink\" width=\"600\" height=\"400\" viewBox=\"0 0 2400 1600\">\n",
       "<defs>\n",
       "  <clipPath id=\"clip080\">\n",
       "    <rect x=\"0\" y=\"0\" width=\"2400\" height=\"1600\"/>\n",
       "  </clipPath>\n",
       "</defs>\n",
       "<path clip-path=\"url(#clip080)\" d=\"M0 1600 L2400 1600 L2400 0 L0 0  Z\" fill=\"#ffffff\" fill-rule=\"evenodd\" fill-opacity=\"1\"/>\n",
       "<defs>\n",
       "  <clipPath id=\"clip081\">\n",
       "    <rect x=\"480\" y=\"0\" width=\"1681\" height=\"1600\"/>\n",
       "  </clipPath>\n",
       "</defs>\n",
       "<path clip-path=\"url(#clip080)\" d=\"M234.125 1423.18 L2352.76 1423.18 L2352.76 47.2441 L234.125 47.2441  Z\" fill=\"#ffffff\" fill-rule=\"evenodd\" fill-opacity=\"1\"/>\n",
       "<defs>\n",
       "  <clipPath id=\"clip082\">\n",
       "    <rect x=\"234\" y=\"47\" width=\"2120\" height=\"1377\"/>\n",
       "  </clipPath>\n",
       "</defs>\n",
       "<polyline clip-path=\"url(#clip082)\" style=\"stroke:#000000; stroke-linecap:round; stroke-linejoin:round; stroke-width:2; stroke-opacity:0.1; fill:none\" points=\"651.364,1423.18 651.364,47.2441 \"/>\n",
       "<polyline clip-path=\"url(#clip082)\" style=\"stroke:#000000; stroke-linecap:round; stroke-linejoin:round; stroke-width:2; stroke-opacity:0.1; fill:none\" points=\"1077.71,1423.18 1077.71,47.2441 \"/>\n",
       "<polyline clip-path=\"url(#clip082)\" style=\"stroke:#000000; stroke-linecap:round; stroke-linejoin:round; stroke-width:2; stroke-opacity:0.1; fill:none\" points=\"1504.06,1423.18 1504.06,47.2441 \"/>\n",
       "<polyline clip-path=\"url(#clip082)\" style=\"stroke:#000000; stroke-linecap:round; stroke-linejoin:round; stroke-width:2; stroke-opacity:0.1; fill:none\" points=\"1930.4,1423.18 1930.4,47.2441 \"/>\n",
       "<polyline clip-path=\"url(#clip080)\" style=\"stroke:#000000; stroke-linecap:round; stroke-linejoin:round; stroke-width:4; stroke-opacity:1; fill:none\" points=\"234.125,1423.18 2352.76,1423.18 \"/>\n",
       "<polyline clip-path=\"url(#clip080)\" style=\"stroke:#000000; stroke-linecap:round; stroke-linejoin:round; stroke-width:4; stroke-opacity:1; fill:none\" points=\"651.364,1423.18 651.364,1404.28 \"/>\n",
       "<polyline clip-path=\"url(#clip080)\" style=\"stroke:#000000; stroke-linecap:round; stroke-linejoin:round; stroke-width:4; stroke-opacity:1; fill:none\" points=\"1077.71,1423.18 1077.71,1404.28 \"/>\n",
       "<polyline clip-path=\"url(#clip080)\" style=\"stroke:#000000; stroke-linecap:round; stroke-linejoin:round; stroke-width:4; stroke-opacity:1; fill:none\" points=\"1504.06,1423.18 1504.06,1404.28 \"/>\n",
       "<polyline clip-path=\"url(#clip080)\" style=\"stroke:#000000; stroke-linecap:round; stroke-linejoin:round; stroke-width:4; stroke-opacity:1; fill:none\" points=\"1930.4,1423.18 1930.4,1404.28 \"/>\n",
       "<path clip-path=\"url(#clip080)\" d=\"M599.976 1481.64 L616.295 1481.64 L616.295 1485.58 L594.351 1485.58 L594.351 1481.64 Q597.013 1478.89 601.596 1474.26 Q606.202 1469.61 607.383 1468.27 Q609.628 1465.74 610.508 1464.01 Q611.411 1462.25 611.411 1460.56 Q611.411 1457.8 609.466 1456.07 Q607.545 1454.33 604.443 1454.33 Q602.244 1454.33 599.79 1455.09 Q597.36 1455.86 594.582 1457.41 L594.582 1452.69 Q597.406 1451.55 599.86 1450.97 Q602.314 1450.39 604.351 1450.39 Q609.721 1450.39 612.915 1453.08 Q616.11 1455.77 616.11 1460.26 Q616.11 1462.39 615.3 1464.31 Q614.513 1466.2 612.406 1468.8 Q611.827 1469.47 608.726 1472.69 Q605.624 1475.88 599.976 1481.64 Z\" fill=\"#000000\" fill-rule=\"nonzero\" fill-opacity=\"1\" /><path clip-path=\"url(#clip080)\" d=\"M626.156 1451.02 L644.512 1451.02 L644.512 1454.96 L630.438 1454.96 L630.438 1463.43 Q631.457 1463.08 632.475 1462.92 Q633.494 1462.73 634.513 1462.73 Q640.3 1462.73 643.679 1465.9 Q647.059 1469.08 647.059 1474.49 Q647.059 1480.07 643.587 1483.17 Q640.114 1486.25 633.795 1486.25 Q631.619 1486.25 629.35 1485.88 Q627.105 1485.51 624.698 1484.77 L624.698 1480.07 Q626.781 1481.2 629.003 1481.76 Q631.225 1482.32 633.702 1482.32 Q637.707 1482.32 640.045 1480.21 Q642.383 1478.1 642.383 1474.49 Q642.383 1470.88 640.045 1468.77 Q637.707 1466.67 633.702 1466.67 Q631.827 1466.67 629.952 1467.08 Q628.101 1467.5 626.156 1468.38 L626.156 1451.02 Z\" fill=\"#000000\" fill-rule=\"nonzero\" fill-opacity=\"1\" /><path clip-path=\"url(#clip080)\" d=\"M666.272 1454.1 Q662.661 1454.1 660.832 1457.66 Q659.026 1461.2 659.026 1468.33 Q659.026 1475.44 660.832 1479.01 Q662.661 1482.55 666.272 1482.55 Q669.906 1482.55 671.711 1479.01 Q673.54 1475.44 673.54 1468.33 Q673.54 1461.2 671.711 1457.66 Q669.906 1454.1 666.272 1454.1 M666.272 1450.39 Q672.082 1450.39 675.137 1455 Q678.216 1459.58 678.216 1468.33 Q678.216 1477.06 675.137 1481.67 Q672.082 1486.25 666.272 1486.25 Q660.461 1486.25 657.383 1481.67 Q654.327 1477.06 654.327 1468.33 Q654.327 1459.58 657.383 1455 Q660.461 1450.39 666.272 1450.39 Z\" fill=\"#000000\" fill-rule=\"nonzero\" fill-opacity=\"1\" /><path clip-path=\"url(#clip080)\" d=\"M696.433 1454.1 Q692.822 1454.1 690.994 1457.66 Q689.188 1461.2 689.188 1468.33 Q689.188 1475.44 690.994 1479.01 Q692.822 1482.55 696.433 1482.55 Q700.068 1482.55 701.873 1479.01 Q703.702 1475.44 703.702 1468.33 Q703.702 1461.2 701.873 1457.66 Q700.068 1454.1 696.433 1454.1 M696.433 1450.39 Q702.244 1450.39 705.299 1455 Q708.378 1459.58 708.378 1468.33 Q708.378 1477.06 705.299 1481.67 Q702.244 1486.25 696.433 1486.25 Q690.623 1486.25 687.545 1481.67 Q684.489 1477.06 684.489 1468.33 Q684.489 1459.58 687.545 1455 Q690.623 1450.39 696.433 1450.39 Z\" fill=\"#000000\" fill-rule=\"nonzero\" fill-opacity=\"1\" /><path clip-path=\"url(#clip080)\" d=\"M1036.39 1466.95 Q1039.75 1467.66 1041.62 1469.93 Q1043.52 1472.2 1043.52 1475.53 Q1043.52 1480.65 1040 1483.45 Q1036.48 1486.25 1030 1486.25 Q1027.83 1486.25 1025.51 1485.81 Q1023.22 1485.39 1020.77 1484.54 L1020.77 1480.02 Q1022.71 1481.16 1025.02 1481.74 Q1027.34 1482.32 1029.86 1482.32 Q1034.26 1482.32 1036.55 1480.58 Q1038.87 1478.84 1038.87 1475.53 Q1038.87 1472.48 1036.71 1470.77 Q1034.59 1469.03 1030.77 1469.03 L1026.74 1469.03 L1026.74 1465.19 L1030.95 1465.19 Q1034.4 1465.19 1036.23 1463.82 Q1038.06 1462.43 1038.06 1459.84 Q1038.06 1457.18 1036.16 1455.77 Q1034.28 1454.33 1030.77 1454.33 Q1028.84 1454.33 1026.65 1454.75 Q1024.45 1455.16 1021.81 1456.04 L1021.81 1451.88 Q1024.47 1451.14 1026.78 1450.77 Q1029.12 1450.39 1031.18 1450.39 Q1036.51 1450.39 1039.61 1452.83 Q1042.71 1455.23 1042.71 1459.35 Q1042.71 1462.22 1041.07 1464.21 Q1039.42 1466.18 1036.39 1466.95 Z\" fill=\"#000000\" fill-rule=\"nonzero\" fill-opacity=\"1\" /><path clip-path=\"url(#clip080)\" d=\"M1062.39 1454.1 Q1058.77 1454.1 1056.95 1457.66 Q1055.14 1461.2 1055.14 1468.33 Q1055.14 1475.44 1056.95 1479.01 Q1058.77 1482.55 1062.39 1482.55 Q1066.02 1482.55 1067.83 1479.01 Q1069.65 1475.44 1069.65 1468.33 Q1069.65 1461.2 1067.83 1457.66 Q1066.02 1454.1 1062.39 1454.1 M1062.39 1450.39 Q1068.2 1450.39 1071.25 1455 Q1074.33 1459.58 1074.33 1468.33 Q1074.33 1477.06 1071.25 1481.67 Q1068.2 1486.25 1062.39 1486.25 Q1056.58 1486.25 1053.5 1481.67 Q1050.44 1477.06 1050.44 1468.33 Q1050.44 1459.58 1053.5 1455 Q1056.58 1450.39 1062.39 1450.39 Z\" fill=\"#000000\" fill-rule=\"nonzero\" fill-opacity=\"1\" /><path clip-path=\"url(#clip080)\" d=\"M1092.55 1454.1 Q1088.94 1454.1 1087.11 1457.66 Q1085.3 1461.2 1085.3 1468.33 Q1085.3 1475.44 1087.11 1479.01 Q1088.94 1482.55 1092.55 1482.55 Q1096.18 1482.55 1097.99 1479.01 Q1099.82 1475.44 1099.82 1468.33 Q1099.82 1461.2 1097.99 1457.66 Q1096.18 1454.1 1092.55 1454.1 M1092.55 1450.39 Q1098.36 1450.39 1101.41 1455 Q1104.49 1459.58 1104.49 1468.33 Q1104.49 1477.06 1101.41 1481.67 Q1098.36 1486.25 1092.55 1486.25 Q1086.74 1486.25 1083.66 1481.67 Q1080.6 1477.06 1080.6 1468.33 Q1080.6 1459.58 1083.66 1455 Q1086.74 1450.39 1092.55 1450.39 Z\" fill=\"#000000\" fill-rule=\"nonzero\" fill-opacity=\"1\" /><path clip-path=\"url(#clip080)\" d=\"M1122.71 1454.1 Q1119.1 1454.1 1117.27 1457.66 Q1115.46 1461.2 1115.46 1468.33 Q1115.46 1475.44 1117.27 1479.01 Q1119.1 1482.55 1122.71 1482.55 Q1126.34 1482.55 1128.15 1479.01 Q1129.98 1475.44 1129.98 1468.33 Q1129.98 1461.2 1128.15 1457.66 Q1126.34 1454.1 1122.71 1454.1 M1122.71 1450.39 Q1128.52 1450.39 1131.58 1455 Q1134.65 1459.58 1134.65 1468.33 Q1134.65 1477.06 1131.58 1481.67 Q1128.52 1486.25 1122.71 1486.25 Q1116.9 1486.25 1113.82 1481.67 Q1110.77 1477.06 1110.77 1468.33 Q1110.77 1459.58 1113.82 1455 Q1116.9 1450.39 1122.71 1450.39 Z\" fill=\"#000000\" fill-rule=\"nonzero\" fill-opacity=\"1\" /><path clip-path=\"url(#clip080)\" d=\"M1462.74 1466.95 Q1466.09 1467.66 1467.97 1469.93 Q1469.87 1472.2 1469.87 1475.53 Q1469.87 1480.65 1466.35 1483.45 Q1462.83 1486.25 1456.35 1486.25 Q1454.17 1486.25 1451.86 1485.81 Q1449.56 1485.39 1447.11 1484.54 L1447.11 1480.02 Q1449.06 1481.16 1451.37 1481.74 Q1453.69 1482.32 1456.21 1482.32 Q1460.61 1482.32 1462.9 1480.58 Q1465.21 1478.84 1465.21 1475.53 Q1465.21 1472.48 1463.06 1470.77 Q1460.93 1469.03 1457.11 1469.03 L1453.08 1469.03 L1453.08 1465.19 L1457.3 1465.19 Q1460.75 1465.19 1462.57 1463.82 Q1464.4 1462.43 1464.4 1459.84 Q1464.4 1457.18 1462.5 1455.77 Q1460.63 1454.33 1457.11 1454.33 Q1455.19 1454.33 1452.99 1454.75 Q1450.79 1455.16 1448.15 1456.04 L1448.15 1451.88 Q1450.81 1451.14 1453.13 1450.77 Q1455.47 1450.39 1457.53 1450.39 Q1462.85 1450.39 1465.95 1452.83 Q1469.06 1455.23 1469.06 1459.35 Q1469.06 1462.22 1467.41 1464.21 Q1465.77 1466.18 1462.74 1466.95 Z\" fill=\"#000000\" fill-rule=\"nonzero\" fill-opacity=\"1\" /><path clip-path=\"url(#clip080)\" d=\"M1478.78 1451.02 L1497.13 1451.02 L1497.13 1454.96 L1483.06 1454.96 L1483.06 1463.43 Q1484.08 1463.08 1485.1 1462.92 Q1486.12 1462.73 1487.13 1462.73 Q1492.92 1462.73 1496.3 1465.9 Q1499.68 1469.08 1499.68 1474.49 Q1499.68 1480.07 1496.21 1483.17 Q1492.74 1486.25 1486.42 1486.25 Q1484.24 1486.25 1481.97 1485.88 Q1479.73 1485.51 1477.32 1484.77 L1477.32 1480.07 Q1479.4 1481.2 1481.62 1481.76 Q1483.85 1482.32 1486.32 1482.32 Q1490.33 1482.32 1492.67 1480.21 Q1495 1478.1 1495 1474.49 Q1495 1470.88 1492.67 1468.77 Q1490.33 1466.67 1486.32 1466.67 Q1484.45 1466.67 1482.57 1467.08 Q1480.72 1467.5 1478.78 1468.38 L1478.78 1451.02 Z\" fill=\"#000000\" fill-rule=\"nonzero\" fill-opacity=\"1\" /><path clip-path=\"url(#clip080)\" d=\"M1518.89 1454.1 Q1515.28 1454.1 1513.45 1457.66 Q1511.65 1461.2 1511.65 1468.33 Q1511.65 1475.44 1513.45 1479.01 Q1515.28 1482.55 1518.89 1482.55 Q1522.53 1482.55 1524.33 1479.01 Q1526.16 1475.44 1526.16 1468.33 Q1526.16 1461.2 1524.33 1457.66 Q1522.53 1454.1 1518.89 1454.1 M1518.89 1450.39 Q1524.7 1450.39 1527.76 1455 Q1530.84 1459.58 1530.84 1468.33 Q1530.84 1477.06 1527.76 1481.67 Q1524.7 1486.25 1518.89 1486.25 Q1513.08 1486.25 1510 1481.67 Q1506.95 1477.06 1506.95 1468.33 Q1506.95 1459.58 1510 1455 Q1513.08 1450.39 1518.89 1450.39 Z\" fill=\"#000000\" fill-rule=\"nonzero\" fill-opacity=\"1\" /><path clip-path=\"url(#clip080)\" d=\"M1549.06 1454.1 Q1545.44 1454.1 1543.62 1457.66 Q1541.81 1461.2 1541.81 1468.33 Q1541.81 1475.44 1543.62 1479.01 Q1545.44 1482.55 1549.06 1482.55 Q1552.69 1482.55 1554.49 1479.01 Q1556.32 1475.44 1556.32 1468.33 Q1556.32 1461.2 1554.49 1457.66 Q1552.69 1454.1 1549.06 1454.1 M1549.06 1450.39 Q1554.87 1450.39 1557.92 1455 Q1561 1459.58 1561 1468.33 Q1561 1477.06 1557.92 1481.67 Q1554.87 1486.25 1549.06 1486.25 Q1543.24 1486.25 1540.17 1481.67 Q1537.11 1477.06 1537.11 1468.33 Q1537.11 1459.58 1540.17 1455 Q1543.24 1450.39 1549.06 1450.39 Z\" fill=\"#000000\" fill-rule=\"nonzero\" fill-opacity=\"1\" /><path clip-path=\"url(#clip080)\" d=\"M1888.41 1455.09 L1876.6 1473.54 L1888.41 1473.54 L1888.41 1455.09 M1887.18 1451.02 L1893.06 1451.02 L1893.06 1473.54 L1897.99 1473.54 L1897.99 1477.43 L1893.06 1477.43 L1893.06 1485.58 L1888.41 1485.58 L1888.41 1477.43 L1872.81 1477.43 L1872.81 1472.92 L1887.18 1451.02 Z\" fill=\"#000000\" fill-rule=\"nonzero\" fill-opacity=\"1\" /><path clip-path=\"url(#clip080)\" d=\"M1915.73 1454.1 Q1912.11 1454.1 1910.29 1457.66 Q1908.48 1461.2 1908.48 1468.33 Q1908.48 1475.44 1910.29 1479.01 Q1912.11 1482.55 1915.73 1482.55 Q1919.36 1482.55 1921.16 1479.01 Q1922.99 1475.44 1922.99 1468.33 Q1922.99 1461.2 1921.16 1457.66 Q1919.36 1454.1 1915.73 1454.1 M1915.73 1450.39 Q1921.54 1450.39 1924.59 1455 Q1927.67 1459.58 1927.67 1468.33 Q1927.67 1477.06 1924.59 1481.67 Q1921.54 1486.25 1915.73 1486.25 Q1909.91 1486.25 1906.84 1481.67 Q1903.78 1477.06 1903.78 1468.33 Q1903.78 1459.58 1906.84 1455 Q1909.91 1450.39 1915.73 1450.39 Z\" fill=\"#000000\" fill-rule=\"nonzero\" fill-opacity=\"1\" /><path clip-path=\"url(#clip080)\" d=\"M1945.89 1454.1 Q1942.28 1454.1 1940.45 1457.66 Q1938.64 1461.2 1938.64 1468.33 Q1938.64 1475.44 1940.45 1479.01 Q1942.28 1482.55 1945.89 1482.55 Q1949.52 1482.55 1951.33 1479.01 Q1953.16 1475.44 1953.16 1468.33 Q1953.16 1461.2 1951.33 1457.66 Q1949.52 1454.1 1945.89 1454.1 M1945.89 1450.39 Q1951.7 1450.39 1954.75 1455 Q1957.83 1459.58 1957.83 1468.33 Q1957.83 1477.06 1954.75 1481.67 Q1951.7 1486.25 1945.89 1486.25 Q1940.08 1486.25 1937 1481.67 Q1933.94 1477.06 1933.94 1468.33 Q1933.94 1459.58 1937 1455 Q1940.08 1450.39 1945.89 1450.39 Z\" fill=\"#000000\" fill-rule=\"nonzero\" fill-opacity=\"1\" /><path clip-path=\"url(#clip080)\" d=\"M1976.05 1454.1 Q1972.44 1454.1 1970.61 1457.66 Q1968.8 1461.2 1968.8 1468.33 Q1968.8 1475.44 1970.61 1479.01 Q1972.44 1482.55 1976.05 1482.55 Q1979.68 1482.55 1981.49 1479.01 Q1983.32 1475.44 1983.32 1468.33 Q1983.32 1461.2 1981.49 1457.66 Q1979.68 1454.1 1976.05 1454.1 M1976.05 1450.39 Q1981.86 1450.39 1984.91 1455 Q1987.99 1459.58 1987.99 1468.33 Q1987.99 1477.06 1984.91 1481.67 Q1981.86 1486.25 1976.05 1486.25 Q1970.24 1486.25 1967.16 1481.67 Q1964.1 1477.06 1964.1 1468.33 Q1964.1 1459.58 1967.16 1455 Q1970.24 1450.39 1976.05 1450.39 Z\" fill=\"#000000\" fill-rule=\"nonzero\" fill-opacity=\"1\" /><path clip-path=\"url(#clip080)\" d=\"M1178.44 1520.52 L1184.87 1520.52 L1184.87 1568.04 L1178.44 1568.04 L1178.44 1520.52 Z\" fill=\"#000000\" fill-rule=\"nonzero\" fill-opacity=\"1\" /><path clip-path=\"url(#clip080)\" d=\"M1227.05 1546.53 L1227.05 1568.04 L1221.19 1568.04 L1221.19 1546.72 Q1221.19 1541.66 1219.22 1539.14 Q1217.24 1536.63 1213.3 1536.63 Q1208.55 1536.63 1205.82 1539.65 Q1203.08 1542.68 1203.08 1547.9 L1203.08 1568.04 L1197.19 1568.04 L1197.19 1532.4 L1203.08 1532.4 L1203.08 1537.93 Q1205.18 1534.72 1208.01 1533.13 Q1210.88 1531.54 1214.6 1531.54 Q1220.74 1531.54 1223.9 1535.36 Q1227.05 1539.14 1227.05 1546.53 Z\" fill=\"#000000\" fill-rule=\"nonzero\" fill-opacity=\"1\" /><path clip-path=\"url(#clip080)\" d=\"M1264.38 1533.76 L1264.38 1539.24 Q1261.9 1537.87 1259.38 1537.2 Q1256.9 1536.5 1254.36 1536.5 Q1248.66 1536.5 1245.51 1540.13 Q1242.36 1543.73 1242.36 1550.25 Q1242.36 1556.78 1245.51 1560.4 Q1248.66 1564 1254.36 1564 Q1256.9 1564 1259.38 1563.33 Q1261.9 1562.63 1264.38 1561.26 L1264.38 1566.68 Q1261.93 1567.82 1259.29 1568.39 Q1256.68 1568.97 1253.72 1568.97 Q1245.67 1568.97 1240.92 1563.91 Q1236.18 1558.85 1236.18 1550.25 Q1236.18 1541.53 1240.96 1536.53 Q1245.76 1531.54 1254.1 1531.54 Q1256.81 1531.54 1259.38 1532.11 Q1261.96 1532.65 1264.38 1533.76 Z\" fill=\"#000000\" fill-rule=\"nonzero\" fill-opacity=\"1\" /><path clip-path=\"url(#clip080)\" d=\"M1288.38 1536.5 Q1283.67 1536.5 1280.93 1540.19 Q1278.19 1543.85 1278.19 1550.25 Q1278.19 1556.65 1280.9 1560.34 Q1283.64 1564 1288.38 1564 Q1293.06 1564 1295.8 1560.31 Q1298.53 1556.62 1298.53 1550.25 Q1298.53 1543.92 1295.8 1540.23 Q1293.06 1536.5 1288.38 1536.5 M1288.38 1531.54 Q1296.02 1531.54 1300.38 1536.5 Q1304.74 1541.47 1304.74 1550.25 Q1304.74 1559 1300.38 1564 Q1296.02 1568.97 1288.38 1568.97 Q1280.71 1568.97 1276.35 1564 Q1272.02 1559 1272.02 1550.25 Q1272.02 1541.47 1276.35 1536.5 Q1280.71 1531.54 1288.38 1531.54 Z\" fill=\"#000000\" fill-rule=\"nonzero\" fill-opacity=\"1\" /><path clip-path=\"url(#clip080)\" d=\"M1342.2 1539.24 Q1344.4 1535.29 1347.45 1533.41 Q1350.51 1531.54 1354.65 1531.54 Q1360.22 1531.54 1363.24 1535.45 Q1366.26 1539.33 1366.26 1546.53 L1366.26 1568.04 L1360.38 1568.04 L1360.38 1546.72 Q1360.38 1541.59 1358.56 1539.11 Q1356.75 1536.63 1353.02 1536.63 Q1348.47 1536.63 1345.83 1539.65 Q1343.19 1542.68 1343.19 1547.9 L1343.19 1568.04 L1337.3 1568.04 L1337.3 1546.72 Q1337.3 1541.56 1335.49 1539.11 Q1333.67 1536.63 1329.88 1536.63 Q1325.4 1536.63 1322.75 1539.68 Q1320.11 1542.71 1320.11 1547.9 L1320.11 1568.04 L1314.22 1568.04 L1314.22 1532.4 L1320.11 1532.4 L1320.11 1537.93 Q1322.12 1534.66 1324.92 1533.1 Q1327.72 1531.54 1331.57 1531.54 Q1335.45 1531.54 1338.16 1533.51 Q1340.9 1535.48 1342.2 1539.24 Z\" fill=\"#000000\" fill-rule=\"nonzero\" fill-opacity=\"1\" /><path clip-path=\"url(#clip080)\" d=\"M1408.44 1548.76 L1408.44 1551.62 L1381.51 1551.62 Q1381.89 1557.67 1385.14 1560.85 Q1388.42 1564 1394.24 1564 Q1397.62 1564 1400.77 1563.17 Q1403.95 1562.35 1407.07 1560.69 L1407.07 1566.23 Q1403.92 1567.57 1400.61 1568.27 Q1397.3 1568.97 1393.89 1568.97 Q1385.36 1568.97 1380.36 1564 Q1375.4 1559.04 1375.4 1550.57 Q1375.4 1541.82 1380.11 1536.69 Q1384.85 1531.54 1392.87 1531.54 Q1400.07 1531.54 1404.24 1536.18 Q1408.44 1540.8 1408.44 1548.76 M1402.58 1547.04 Q1402.52 1542.23 1399.88 1539.37 Q1397.27 1536.5 1392.94 1536.5 Q1388.04 1536.5 1385.08 1539.27 Q1382.15 1542.04 1381.7 1547.07 L1402.58 1547.04 Z\" fill=\"#000000\" fill-rule=\"nonzero\" fill-opacity=\"1\" /><polyline clip-path=\"url(#clip082)\" style=\"stroke:#000000; stroke-linecap:round; stroke-linejoin:round; stroke-width:2; stroke-opacity:0.1; fill:none\" points=\"234.125,1194.52 2352.76,1194.52 \"/>\n",
       "<polyline clip-path=\"url(#clip082)\" style=\"stroke:#000000; stroke-linecap:round; stroke-linejoin:round; stroke-width:2; stroke-opacity:0.1; fill:none\" points=\"234.125,944.897 2352.76,944.897 \"/>\n",
       "<polyline clip-path=\"url(#clip082)\" style=\"stroke:#000000; stroke-linecap:round; stroke-linejoin:round; stroke-width:2; stroke-opacity:0.1; fill:none\" points=\"234.125,695.272 2352.76,695.272 \"/>\n",
       "<polyline clip-path=\"url(#clip082)\" style=\"stroke:#000000; stroke-linecap:round; stroke-linejoin:round; stroke-width:2; stroke-opacity:0.1; fill:none\" points=\"234.125,445.646 2352.76,445.646 \"/>\n",
       "<polyline clip-path=\"url(#clip082)\" style=\"stroke:#000000; stroke-linecap:round; stroke-linejoin:round; stroke-width:2; stroke-opacity:0.1; fill:none\" points=\"234.125,196.021 2352.76,196.021 \"/>\n",
       "<polyline clip-path=\"url(#clip080)\" style=\"stroke:#000000; stroke-linecap:round; stroke-linejoin:round; stroke-width:4; stroke-opacity:1; fill:none\" points=\"234.125,1423.18 234.125,47.2441 \"/>\n",
       "<polyline clip-path=\"url(#clip080)\" style=\"stroke:#000000; stroke-linecap:round; stroke-linejoin:round; stroke-width:4; stroke-opacity:1; fill:none\" points=\"234.125,1194.52 253.023,1194.52 \"/>\n",
       "<polyline clip-path=\"url(#clip080)\" style=\"stroke:#000000; stroke-linecap:round; stroke-linejoin:round; stroke-width:4; stroke-opacity:1; fill:none\" points=\"234.125,944.897 253.023,944.897 \"/>\n",
       "<polyline clip-path=\"url(#clip080)\" style=\"stroke:#000000; stroke-linecap:round; stroke-linejoin:round; stroke-width:4; stroke-opacity:1; fill:none\" points=\"234.125,695.272 253.023,695.272 \"/>\n",
       "<polyline clip-path=\"url(#clip080)\" style=\"stroke:#000000; stroke-linecap:round; stroke-linejoin:round; stroke-width:4; stroke-opacity:1; fill:none\" points=\"234.125,445.646 253.023,445.646 \"/>\n",
       "<polyline clip-path=\"url(#clip080)\" style=\"stroke:#000000; stroke-linecap:round; stroke-linejoin:round; stroke-width:4; stroke-opacity:1; fill:none\" points=\"234.125,196.021 253.023,196.021 \"/>\n",
       "<path clip-path=\"url(#clip080)\" d=\"M116.668 1207.87 L124.306 1207.87 L124.306 1181.5 L115.996 1183.17 L115.996 1178.91 L124.26 1177.24 L128.936 1177.24 L128.936 1207.87 L136.575 1207.87 L136.575 1211.8 L116.668 1211.8 L116.668 1207.87 Z\" fill=\"#000000\" fill-rule=\"nonzero\" fill-opacity=\"1\" /><path clip-path=\"url(#clip080)\" d=\"M146.066 1177.24 L164.422 1177.24 L164.422 1181.18 L150.348 1181.18 L150.348 1189.65 Q151.366 1189.3 152.385 1189.14 Q153.403 1188.96 154.422 1188.96 Q160.209 1188.96 163.589 1192.13 Q166.968 1195.3 166.968 1200.71 Q166.968 1206.29 163.496 1209.4 Q160.024 1212.47 153.704 1212.47 Q151.528 1212.47 149.26 1212.1 Q147.015 1211.73 144.607 1210.99 L144.607 1206.29 Q146.691 1207.43 148.913 1207.98 Q151.135 1208.54 153.612 1208.54 Q157.616 1208.54 159.954 1206.43 Q162.292 1204.33 162.292 1200.71 Q162.292 1197.1 159.954 1195 Q157.616 1192.89 153.612 1192.89 Q151.737 1192.89 149.862 1193.31 Q148.01 1193.72 146.066 1194.6 L146.066 1177.24 Z\" fill=\"#000000\" fill-rule=\"nonzero\" fill-opacity=\"1\" /><path clip-path=\"url(#clip080)\" d=\"M186.181 1180.32 Q182.57 1180.32 180.741 1183.89 Q178.936 1187.43 178.936 1194.56 Q178.936 1201.66 180.741 1205.23 Q182.57 1208.77 186.181 1208.77 Q189.815 1208.77 191.621 1205.23 Q193.45 1201.66 193.45 1194.56 Q193.45 1187.43 191.621 1183.89 Q189.815 1180.32 186.181 1180.32 M186.181 1176.62 Q191.991 1176.62 195.047 1181.22 Q198.125 1185.81 198.125 1194.56 Q198.125 1203.28 195.047 1207.89 Q191.991 1212.47 186.181 1212.47 Q180.371 1212.47 177.292 1207.89 Q174.237 1203.28 174.237 1194.56 Q174.237 1185.81 177.292 1181.22 Q180.371 1176.62 186.181 1176.62 Z\" fill=\"#000000\" fill-rule=\"nonzero\" fill-opacity=\"1\" /><path clip-path=\"url(#clip080)\" d=\"M119.885 958.242 L136.204 958.242 L136.204 962.177 L114.26 962.177 L114.26 958.242 Q116.922 955.488 121.505 950.858 Q126.112 946.205 127.292 944.863 Q129.538 942.34 130.417 940.603 Q131.32 938.844 131.32 937.154 Q131.32 934.4 129.376 932.664 Q127.455 930.928 124.353 930.928 Q122.154 930.928 119.7 931.691 Q117.269 932.455 114.492 934.006 L114.492 929.284 Q117.316 928.15 119.769 927.571 Q122.223 926.992 124.26 926.992 Q129.63 926.992 132.825 929.678 Q136.019 932.363 136.019 936.853 Q136.019 938.983 135.209 940.904 Q134.422 942.802 132.316 945.395 Q131.737 946.066 128.635 949.284 Q125.533 952.478 119.885 958.242 Z\" fill=\"#000000\" fill-rule=\"nonzero\" fill-opacity=\"1\" /><path clip-path=\"url(#clip080)\" d=\"M156.019 930.696 Q152.408 930.696 150.579 934.261 Q148.774 937.803 148.774 944.932 Q148.774 952.039 150.579 955.603 Q152.408 959.145 156.019 959.145 Q159.653 959.145 161.459 955.603 Q163.288 952.039 163.288 944.932 Q163.288 937.803 161.459 934.261 Q159.653 930.696 156.019 930.696 M156.019 926.992 Q161.829 926.992 164.885 931.599 Q167.964 936.182 167.964 944.932 Q167.964 953.659 164.885 958.265 Q161.829 962.849 156.019 962.849 Q150.209 962.849 147.13 958.265 Q144.075 953.659 144.075 944.932 Q144.075 936.182 147.13 931.599 Q150.209 926.992 156.019 926.992 Z\" fill=\"#000000\" fill-rule=\"nonzero\" fill-opacity=\"1\" /><path clip-path=\"url(#clip080)\" d=\"M186.181 930.696 Q182.57 930.696 180.741 934.261 Q178.936 937.803 178.936 944.932 Q178.936 952.039 180.741 955.603 Q182.57 959.145 186.181 959.145 Q189.815 959.145 191.621 955.603 Q193.45 952.039 193.45 944.932 Q193.45 937.803 191.621 934.261 Q189.815 930.696 186.181 930.696 M186.181 926.992 Q191.991 926.992 195.047 931.599 Q198.125 936.182 198.125 944.932 Q198.125 953.659 195.047 958.265 Q191.991 962.849 186.181 962.849 Q180.371 962.849 177.292 958.265 Q174.237 953.659 174.237 944.932 Q174.237 936.182 177.292 931.599 Q180.371 926.992 186.181 926.992 Z\" fill=\"#000000\" fill-rule=\"nonzero\" fill-opacity=\"1\" /><path clip-path=\"url(#clip080)\" d=\"M119.885 708.617 L136.204 708.617 L136.204 712.552 L114.26 712.552 L114.26 708.617 Q116.922 705.862 121.505 701.233 Q126.112 696.58 127.292 695.237 Q129.538 692.714 130.417 690.978 Q131.32 689.219 131.32 687.529 Q131.32 684.774 129.376 683.038 Q127.455 681.302 124.353 681.302 Q122.154 681.302 119.7 682.066 Q117.269 682.83 114.492 684.381 L114.492 679.659 Q117.316 678.524 119.769 677.946 Q122.223 677.367 124.26 677.367 Q129.63 677.367 132.825 680.052 Q136.019 682.737 136.019 687.228 Q136.019 689.358 135.209 691.279 Q134.422 693.177 132.316 695.77 Q131.737 696.441 128.635 699.658 Q125.533 702.853 119.885 708.617 Z\" fill=\"#000000\" fill-rule=\"nonzero\" fill-opacity=\"1\" /><path clip-path=\"url(#clip080)\" d=\"M146.066 677.992 L164.422 677.992 L164.422 681.927 L150.348 681.927 L150.348 690.399 Q151.366 690.052 152.385 689.89 Q153.403 689.705 154.422 689.705 Q160.209 689.705 163.589 692.876 Q166.968 696.047 166.968 701.464 Q166.968 707.043 163.496 710.144 Q160.024 713.223 153.704 713.223 Q151.528 713.223 149.26 712.853 Q147.015 712.482 144.607 711.742 L144.607 707.043 Q146.691 708.177 148.913 708.732 Q151.135 709.288 153.612 709.288 Q157.616 709.288 159.954 707.182 Q162.292 705.075 162.292 701.464 Q162.292 697.853 159.954 695.746 Q157.616 693.64 153.612 693.64 Q151.737 693.64 149.862 694.057 Q148.01 694.473 146.066 695.353 L146.066 677.992 Z\" fill=\"#000000\" fill-rule=\"nonzero\" fill-opacity=\"1\" /><path clip-path=\"url(#clip080)\" d=\"M186.181 681.071 Q182.57 681.071 180.741 684.635 Q178.936 688.177 178.936 695.307 Q178.936 702.413 180.741 705.978 Q182.57 709.519 186.181 709.519 Q189.815 709.519 191.621 705.978 Q193.45 702.413 193.45 695.307 Q193.45 688.177 191.621 684.635 Q189.815 681.071 186.181 681.071 M186.181 677.367 Q191.991 677.367 195.047 681.973 Q198.125 686.557 198.125 695.307 Q198.125 704.033 195.047 708.64 Q191.991 713.223 186.181 713.223 Q180.371 713.223 177.292 708.64 Q174.237 704.033 174.237 695.307 Q174.237 686.557 177.292 681.973 Q180.371 677.367 186.181 677.367 Z\" fill=\"#000000\" fill-rule=\"nonzero\" fill-opacity=\"1\" /><path clip-path=\"url(#clip080)\" d=\"M130.024 444.292 Q133.38 445.01 135.255 447.278 Q137.154 449.547 137.154 452.88 Q137.154 457.996 133.635 460.797 Q130.117 463.598 123.635 463.598 Q121.459 463.598 119.144 463.158 Q116.853 462.741 114.399 461.885 L114.399 457.371 Q116.343 458.505 118.658 459.084 Q120.973 459.663 123.496 459.663 Q127.894 459.663 130.186 457.926 Q132.501 456.19 132.501 452.88 Q132.501 449.825 130.348 448.112 Q128.218 446.376 124.399 446.376 L120.371 446.376 L120.371 442.533 L124.584 442.533 Q128.033 442.533 129.862 441.167 Q131.691 439.778 131.691 437.186 Q131.691 434.524 129.792 433.112 Q127.917 431.677 124.399 431.677 Q122.478 431.677 120.279 432.093 Q118.08 432.51 115.441 433.39 L115.441 429.223 Q118.103 428.482 120.418 428.112 Q122.755 427.741 124.816 427.741 Q130.14 427.741 133.242 430.172 Q136.343 432.579 136.343 436.7 Q136.343 439.57 134.7 441.561 Q133.056 443.528 130.024 444.292 Z\" fill=\"#000000\" fill-rule=\"nonzero\" fill-opacity=\"1\" /><path clip-path=\"url(#clip080)\" d=\"M156.019 431.445 Q152.408 431.445 150.579 435.01 Q148.774 438.552 148.774 445.681 Q148.774 452.788 150.579 456.352 Q152.408 459.894 156.019 459.894 Q159.653 459.894 161.459 456.352 Q163.288 452.788 163.288 445.681 Q163.288 438.552 161.459 435.01 Q159.653 431.445 156.019 431.445 M156.019 427.741 Q161.829 427.741 164.885 432.348 Q167.964 436.931 167.964 445.681 Q167.964 454.408 164.885 459.014 Q161.829 463.598 156.019 463.598 Q150.209 463.598 147.13 459.014 Q144.075 454.408 144.075 445.681 Q144.075 436.931 147.13 432.348 Q150.209 427.741 156.019 427.741 Z\" fill=\"#000000\" fill-rule=\"nonzero\" fill-opacity=\"1\" /><path clip-path=\"url(#clip080)\" d=\"M186.181 431.445 Q182.57 431.445 180.741 435.01 Q178.936 438.552 178.936 445.681 Q178.936 452.788 180.741 456.352 Q182.57 459.894 186.181 459.894 Q189.815 459.894 191.621 456.352 Q193.45 452.788 193.45 445.681 Q193.45 438.552 191.621 435.01 Q189.815 431.445 186.181 431.445 M186.181 427.741 Q191.991 427.741 195.047 432.348 Q198.125 436.931 198.125 445.681 Q198.125 454.408 195.047 459.014 Q191.991 463.598 186.181 463.598 Q180.371 463.598 177.292 459.014 Q174.237 454.408 174.237 445.681 Q174.237 436.931 177.292 432.348 Q180.371 427.741 186.181 427.741 Z\" fill=\"#000000\" fill-rule=\"nonzero\" fill-opacity=\"1\" /><path clip-path=\"url(#clip080)\" d=\"M130.024 194.667 Q133.38 195.384 135.255 197.653 Q137.154 199.921 137.154 203.255 Q137.154 208.37 133.635 211.171 Q130.117 213.972 123.635 213.972 Q121.459 213.972 119.144 213.532 Q116.853 213.116 114.399 212.259 L114.399 207.745 Q116.343 208.88 118.658 209.458 Q120.973 210.037 123.496 210.037 Q127.894 210.037 130.186 208.301 Q132.501 206.565 132.501 203.255 Q132.501 200.199 130.348 198.486 Q128.218 196.75 124.399 196.75 L120.371 196.75 L120.371 192.907 L124.584 192.907 Q128.033 192.907 129.862 191.542 Q131.691 190.153 131.691 187.56 Q131.691 184.898 129.792 183.486 Q127.917 182.051 124.399 182.051 Q122.478 182.051 120.279 182.468 Q118.08 182.884 115.441 183.764 L115.441 179.597 Q118.103 178.857 120.418 178.486 Q122.755 178.116 124.816 178.116 Q130.14 178.116 133.242 180.546 Q136.343 182.954 136.343 187.074 Q136.343 189.945 134.7 191.935 Q133.056 193.903 130.024 194.667 Z\" fill=\"#000000\" fill-rule=\"nonzero\" fill-opacity=\"1\" /><path clip-path=\"url(#clip080)\" d=\"M146.066 178.741 L164.422 178.741 L164.422 182.676 L150.348 182.676 L150.348 191.148 Q151.366 190.801 152.385 190.639 Q153.403 190.454 154.422 190.454 Q160.209 190.454 163.589 193.625 Q166.968 196.796 166.968 202.213 Q166.968 207.792 163.496 210.893 Q160.024 213.972 153.704 213.972 Q151.528 213.972 149.26 213.602 Q147.015 213.231 144.607 212.491 L144.607 207.792 Q146.691 208.926 148.913 209.481 Q151.135 210.037 153.612 210.037 Q157.616 210.037 159.954 207.931 Q162.292 205.824 162.292 202.213 Q162.292 198.602 159.954 196.495 Q157.616 194.389 153.612 194.389 Q151.737 194.389 149.862 194.806 Q148.01 195.222 146.066 196.102 L146.066 178.741 Z\" fill=\"#000000\" fill-rule=\"nonzero\" fill-opacity=\"1\" /><path clip-path=\"url(#clip080)\" d=\"M186.181 181.82 Q182.57 181.82 180.741 185.384 Q178.936 188.926 178.936 196.056 Q178.936 203.162 180.741 206.727 Q182.57 210.269 186.181 210.269 Q189.815 210.269 191.621 206.727 Q193.45 203.162 193.45 196.056 Q193.45 188.926 191.621 185.384 Q189.815 181.82 186.181 181.82 M186.181 178.116 Q191.991 178.116 195.047 182.722 Q198.125 187.306 198.125 196.056 Q198.125 204.782 195.047 209.389 Q191.991 213.972 186.181 213.972 Q180.371 213.972 177.292 209.389 Q174.237 204.782 174.237 196.056 Q174.237 187.306 177.292 182.722 Q180.371 178.116 186.181 178.116 Z\" fill=\"#000000\" fill-rule=\"nonzero\" fill-opacity=\"1\" /><path clip-path=\"url(#clip080)\" d=\"M16.4842 1100.09 L16.4842 1070.05 L21.895 1070.05 L21.895 1093.66 L35.9632 1093.66 L35.9632 1071.03 L41.3741 1071.03 L41.3741 1093.66 L58.5933 1093.66 L58.5933 1069.48 L64.0042 1069.48 L64.0042 1100.09 L16.4842 1100.09 Z\" fill=\"#000000\" fill-rule=\"nonzero\" fill-opacity=\"1\" /><path clip-path=\"url(#clip080)\" d=\"M33.7671 1035.71 L14.479 1035.71 L14.479 1029.85 L64.0042 1029.85 L64.0042 1035.71 L58.657 1035.71 Q61.8398 1037.55 63.3994 1040.38 Q64.9272 1043.18 64.9272 1047.13 Q64.9272 1053.59 59.771 1057.67 Q54.6147 1061.71 46.212 1061.71 Q37.8093 1061.71 32.6531 1057.67 Q27.4968 1053.59 27.4968 1047.13 Q27.4968 1043.18 29.0564 1040.38 Q30.5842 1037.55 33.7671 1035.71 M46.212 1055.66 Q52.6732 1055.66 56.3653 1053.02 Q60.0256 1050.35 60.0256 1045.7 Q60.0256 1041.05 56.3653 1038.38 Q52.6732 1035.71 46.212 1035.71 Q39.7508 1035.71 36.0905 1038.38 Q32.3984 1041.05 32.3984 1045.7 Q32.3984 1050.35 36.0905 1053.02 Q39.7508 1055.66 46.212 1055.66 Z\" fill=\"#000000\" fill-rule=\"nonzero\" fill-opacity=\"1\" /><path clip-path=\"url(#clip080)\" d=\"M49.9359 1018.39 L28.3562 1018.39 L28.3562 1012.53 L49.7131 1012.53 Q54.7739 1012.53 57.3202 1010.56 Q59.8346 1008.59 59.8346 1004.64 Q59.8346 999.898 56.8109 997.161 Q53.7872 994.392 48.5673 994.392 L28.3562 994.392 L28.3562 988.535 L64.0042 988.535 L64.0042 994.392 L58.5296 994.392 Q61.7762 996.524 63.3676 999.357 Q64.9272 1002.16 64.9272 1005.88 Q64.9272 1012.02 61.1078 1015.21 Q57.2883 1018.39 49.9359 1018.39 M27.4968 1003.65 L27.4968 1003.65 Z\" fill=\"#000000\" fill-rule=\"nonzero\" fill-opacity=\"1\" /><path clip-path=\"url(#clip080)\" d=\"M29.7248 950.818 L35.1993 950.818 Q33.8307 953.301 33.1623 955.816 Q32.4621 958.298 32.4621 960.844 Q32.4621 966.542 36.0905 969.693 Q39.6872 972.844 46.212 972.844 Q52.7369 972.844 56.3653 969.693 Q59.9619 966.542 59.9619 960.844 Q59.9619 958.298 59.2935 955.816 Q58.5933 953.301 57.2247 950.818 L62.6355 950.818 Q63.7814 953.269 64.3543 955.911 Q64.9272 958.521 64.9272 961.481 Q64.9272 969.534 59.8664 974.276 Q54.8057 979.019 46.212 979.019 Q37.491 979.019 32.4939 974.244 Q27.4968 969.438 27.4968 961.099 Q27.4968 958.394 28.0697 955.816 Q28.6108 953.237 29.7248 950.818 Z\" fill=\"#000000\" fill-rule=\"nonzero\" fill-opacity=\"1\" /><path clip-path=\"url(#clip080)\" d=\"M46.0847 924.433 Q46.0847 931.53 47.7079 934.268 Q49.3312 937.005 53.2461 937.005 Q56.3653 937.005 58.2114 934.968 Q60.0256 932.899 60.0256 929.366 Q60.0256 924.496 56.5881 921.568 Q53.1188 918.608 47.3897 918.608 L46.0847 918.608 L46.0847 924.433 M43.6657 912.752 L64.0042 912.752 L64.0042 918.608 L58.5933 918.608 Q61.8398 920.613 63.3994 923.605 Q64.9272 926.597 64.9272 930.926 Q64.9272 936.4 61.8716 939.647 Q58.7843 942.861 53.6281 942.861 Q47.6125 942.861 44.5569 938.851 Q41.5014 934.809 41.5014 926.82 L41.5014 918.608 L40.9285 918.608 Q36.8862 918.608 34.6901 921.282 Q32.4621 923.923 32.4621 928.729 Q32.4621 931.785 33.1941 934.681 Q33.9262 937.578 35.3903 940.251 L29.9795 940.251 Q28.7381 937.037 28.1334 934.013 Q27.4968 930.989 27.4968 928.125 Q27.4968 920.39 31.5072 916.571 Q35.5176 912.752 43.6657 912.752 Z\" fill=\"#000000\" fill-rule=\"nonzero\" fill-opacity=\"1\" /><path clip-path=\"url(#clip080)\" d=\"M18.2347 894.896 L28.3562 894.896 L28.3562 882.833 L32.9077 882.833 L32.9077 894.896 L52.2594 894.896 Q56.6199 894.896 57.8613 893.718 Q59.1026 892.509 59.1026 888.848 L59.1026 882.833 L64.0042 882.833 L64.0042 888.848 Q64.0042 895.628 61.4897 898.206 Q58.9434 900.784 52.2594 900.784 L32.9077 900.784 L32.9077 905.081 L28.3562 905.081 L28.3562 900.784 L18.2347 900.784 L18.2347 894.896 Z\" fill=\"#000000\" fill-rule=\"nonzero\" fill-opacity=\"1\" /><path clip-path=\"url(#clip080)\" d=\"M28.3562 875.13 L28.3562 869.274 L64.0042 869.274 L64.0042 875.13 L28.3562 875.13 M14.479 875.13 L14.479 869.274 L21.895 869.274 L21.895 875.13 L14.479 875.13 Z\" fill=\"#000000\" fill-rule=\"nonzero\" fill-opacity=\"1\" /><path clip-path=\"url(#clip080)\" d=\"M32.4621 843.206 Q32.4621 847.917 36.1542 850.654 Q39.8145 853.391 46.212 853.391 Q52.6095 853.391 56.3017 850.686 Q59.9619 847.949 59.9619 843.206 Q59.9619 838.527 56.2698 835.79 Q52.5777 833.053 46.212 833.053 Q39.8781 833.053 36.186 835.79 Q32.4621 838.527 32.4621 843.206 M27.4968 843.206 Q27.4968 835.567 32.4621 831.207 Q37.4273 826.846 46.212 826.846 Q54.9649 826.846 59.9619 831.207 Q64.9272 835.567 64.9272 843.206 Q64.9272 850.877 59.9619 855.237 Q54.9649 859.566 46.212 859.566 Q37.4273 859.566 32.4621 855.237 Q27.4968 850.877 27.4968 843.206 Z\" fill=\"#000000\" fill-rule=\"nonzero\" fill-opacity=\"1\" /><path clip-path=\"url(#clip080)\" d=\"M42.4881 787.506 L64.0042 787.506 L64.0042 793.363 L42.679 793.363 Q37.6183 793.363 35.1038 795.336 Q32.5894 797.309 32.5894 801.256 Q32.5894 805.999 35.6131 808.736 Q38.6368 811.473 43.8567 811.473 L64.0042 811.473 L64.0042 817.361 L28.3562 817.361 L28.3562 811.473 L33.8944 811.473 Q30.6797 809.372 29.0883 806.54 Q27.4968 803.675 27.4968 799.951 Q27.4968 793.808 31.3163 790.657 Q35.1038 787.506 42.4881 787.506 Z\" fill=\"#000000\" fill-rule=\"nonzero\" fill-opacity=\"1\" /><path clip-path=\"url(#clip080)\" d=\"M16.4842 754.85 L16.4842 724.804 L21.895 724.804 L21.895 748.421 L35.9632 748.421 L35.9632 725.791 L41.3741 725.791 L41.3741 748.421 L58.5933 748.421 L58.5933 724.231 L64.0042 724.231 L64.0042 754.85 L16.4842 754.85 Z\" fill=\"#000000\" fill-rule=\"nonzero\" fill-opacity=\"1\" /><path clip-path=\"url(#clip080)\" d=\"M28.3562 684.286 L45.7028 697.177 L64.0042 683.618 L64.0042 690.525 L49.9996 700.901 L64.0042 711.277 L64.0042 718.184 L45.3526 704.338 L28.3562 717.006 L28.3562 710.099 L41.0558 700.646 L28.3562 691.193 L28.3562 684.286 Z\" fill=\"#000000\" fill-rule=\"nonzero\" fill-opacity=\"1\" /><path clip-path=\"url(#clip080)\" d=\"M58.657 669.677 L77.5631 669.677 L77.5631 675.565 L28.3562 675.565 L28.3562 669.677 L33.7671 669.677 Q30.5842 667.831 29.0564 665.03 Q27.4968 662.197 27.4968 658.282 Q27.4968 651.789 32.6531 647.747 Q37.8093 643.673 46.212 643.673 Q54.6147 643.673 59.771 647.747 Q64.9272 651.789 64.9272 658.282 Q64.9272 662.197 63.3994 665.03 Q61.8398 667.831 58.657 669.677 M46.212 649.752 Q39.7508 649.752 36.0905 652.426 Q32.3984 655.068 32.3984 659.715 Q32.3984 664.362 36.0905 667.035 Q39.7508 669.677 46.212 669.677 Q52.6732 669.677 56.3653 667.035 Q60.0256 664.362 60.0256 659.715 Q60.0256 655.068 56.3653 652.426 Q52.6732 649.752 46.212 649.752 Z\" fill=\"#000000\" fill-rule=\"nonzero\" fill-opacity=\"1\" /><path clip-path=\"url(#clip080)\" d=\"M44.7161 603.474 L47.5806 603.474 L47.5806 630.401 Q53.6281 630.019 56.8109 626.772 Q59.9619 623.494 59.9619 617.669 Q59.9619 614.295 59.1344 611.144 Q58.3069 607.961 56.6518 604.842 L62.1899 604.842 Q63.5267 607.993 64.227 611.303 Q64.9272 614.614 64.9272 618.019 Q64.9272 626.549 59.9619 631.546 Q54.9967 636.512 46.5303 636.512 Q37.7774 636.512 32.6531 631.801 Q27.4968 627.059 27.4968 619.038 Q27.4968 611.845 32.1438 607.675 Q36.7589 603.474 44.7161 603.474 M42.9973 609.33 Q38.1912 609.394 35.3266 612.036 Q32.4621 614.645 32.4621 618.974 Q32.4621 623.876 35.2312 626.836 Q38.0002 629.764 43.0292 630.21 L42.9973 609.33 Z\" fill=\"#000000\" fill-rule=\"nonzero\" fill-opacity=\"1\" /><path clip-path=\"url(#clip080)\" d=\"M42.4881 564.229 L64.0042 564.229 L64.0042 570.086 L42.679 570.086 Q37.6183 570.086 35.1038 572.059 Q32.5894 574.032 32.5894 577.979 Q32.5894 582.721 35.6131 585.459 Q38.6368 588.196 43.8567 588.196 L64.0042 588.196 L64.0042 594.084 L28.3562 594.084 L28.3562 588.196 L33.8944 588.196 Q30.6797 586.095 29.0883 583.263 Q27.4968 580.398 27.4968 576.674 Q27.4968 570.531 31.3163 567.38 Q35.1038 564.229 42.4881 564.229 Z\" fill=\"#000000\" fill-rule=\"nonzero\" fill-opacity=\"1\" /><path clip-path=\"url(#clip080)\" d=\"M33.7671 529.09 L14.479 529.09 L14.479 523.234 L64.0042 523.234 L64.0042 529.09 L58.657 529.09 Q61.8398 530.936 63.3994 533.769 Q64.9272 536.57 64.9272 540.517 Q64.9272 546.978 59.771 551.052 Q54.6147 555.094 46.212 555.094 Q37.8093 555.094 32.6531 551.052 Q27.4968 546.978 27.4968 540.517 Q27.4968 536.57 29.0564 533.769 Q30.5842 530.936 33.7671 529.09 M46.212 549.047 Q52.6732 549.047 56.3653 546.405 Q60.0256 543.732 60.0256 539.085 Q60.0256 534.438 56.3653 531.764 Q52.6732 529.09 46.212 529.09 Q39.7508 529.09 36.0905 531.764 Q32.3984 534.438 32.3984 539.085 Q32.3984 543.732 36.0905 546.405 Q39.7508 549.047 46.212 549.047 Z\" fill=\"#000000\" fill-rule=\"nonzero\" fill-opacity=\"1\" /><path clip-path=\"url(#clip080)\" d=\"M28.3562 511.171 L28.3562 505.314 L64.0042 505.314 L64.0042 511.171 L28.3562 511.171 M14.479 511.171 L14.479 505.314 L21.895 505.314 L21.895 511.171 L14.479 511.171 Z\" fill=\"#000000\" fill-rule=\"nonzero\" fill-opacity=\"1\" /><path clip-path=\"url(#clip080)\" d=\"M18.2347 487.268 L28.3562 487.268 L28.3562 475.205 L32.9077 475.205 L32.9077 487.268 L52.2594 487.268 Q56.6199 487.268 57.8613 486.09 Q59.1026 484.881 59.1026 481.22 L59.1026 475.205 L64.0042 475.205 L64.0042 481.22 Q64.0042 488 61.4897 490.578 Q58.9434 493.156 52.2594 493.156 L32.9077 493.156 L32.9077 497.453 L28.3562 497.453 L28.3562 493.156 L18.2347 493.156 L18.2347 487.268 Z\" fill=\"#000000\" fill-rule=\"nonzero\" fill-opacity=\"1\" /><path clip-path=\"url(#clip080)\" d=\"M49.9359 468.107 L28.3562 468.107 L28.3562 462.25 L49.7131 462.25 Q54.7739 462.25 57.3202 460.277 Q59.8346 458.304 59.8346 454.357 Q59.8346 449.615 56.8109 446.877 Q53.7872 444.108 48.5673 444.108 L28.3562 444.108 L28.3562 438.252 L64.0042 438.252 L64.0042 444.108 L58.5296 444.108 Q61.7762 446.241 63.3676 449.073 Q64.9272 451.874 64.9272 455.598 Q64.9272 461.741 61.1078 464.924 Q57.2883 468.107 49.9359 468.107 M27.4968 453.37 L27.4968 453.37 Z\" fill=\"#000000\" fill-rule=\"nonzero\" fill-opacity=\"1\" /><path clip-path=\"url(#clip080)\" d=\"M33.8307 405.532 Q33.2578 406.519 33.0032 407.696 Q32.7167 408.842 32.7167 410.243 Q32.7167 415.208 35.9632 417.881 Q39.1779 420.523 45.2253 420.523 L64.0042 420.523 L64.0042 426.412 L28.3562 426.412 L28.3562 420.523 L33.8944 420.523 Q30.6479 418.677 29.0883 415.717 Q27.4968 412.757 27.4968 408.524 Q27.4968 407.919 27.5923 407.187 Q27.656 406.455 27.8151 405.564 L33.8307 405.532 Z\" fill=\"#000000\" fill-rule=\"nonzero\" fill-opacity=\"1\" /><path clip-path=\"url(#clip080)\" d=\"M44.7161 370.33 L47.5806 370.33 L47.5806 397.257 Q53.6281 396.875 56.8109 393.628 Q59.9619 390.35 59.9619 384.525 Q59.9619 381.151 59.1344 378 Q58.3069 374.817 56.6518 371.698 L62.1899 371.698 Q63.5267 374.849 64.227 378.159 Q64.9272 381.47 64.9272 384.875 Q64.9272 393.405 59.9619 398.402 Q54.9967 403.368 46.5303 403.368 Q37.7774 403.368 32.6531 398.657 Q27.4968 393.915 27.4968 385.894 Q27.4968 378.701 32.1438 374.531 Q36.7589 370.33 44.7161 370.33 M42.9973 376.186 Q38.1912 376.25 35.3266 378.892 Q32.4621 381.501 32.4621 385.83 Q32.4621 390.732 35.2312 393.692 Q38.0002 396.62 43.0292 397.066 L42.9973 376.186 Z\" fill=\"#000000\" fill-rule=\"nonzero\" fill-opacity=\"1\" /><circle clip-path=\"url(#clip082)\" cx=\"927.636\" cy=\"999.815\" r=\"14.4\" fill=\"#009af9\" fill-rule=\"evenodd\" fill-opacity=\"1\" stroke=\"#000000\" stroke-opacity=\"1\" stroke-width=\"3.2\"/>\n",
       "<circle clip-path=\"url(#clip082)\" cx=\"1298.56\" cy=\"1099.67\" r=\"14.4\" fill=\"#009af9\" fill-rule=\"evenodd\" fill-opacity=\"1\" stroke=\"#000000\" stroke-opacity=\"1\" stroke-width=\"3.2\"/>\n",
       "<circle clip-path=\"url(#clip082)\" cx=\"1139.1\" cy=\"795.122\" r=\"14.4\" fill=\"#009af9\" fill-rule=\"evenodd\" fill-opacity=\"1\" stroke=\"#000000\" stroke-opacity=\"1\" stroke-width=\"3.2\"/>\n",
       "<circle clip-path=\"url(#clip082)\" cx=\"1789.71\" cy=\"1104.66\" r=\"14.4\" fill=\"#009af9\" fill-rule=\"evenodd\" fill-opacity=\"1\" stroke=\"#000000\" stroke-opacity=\"1\" stroke-width=\"3.2\"/>\n",
       "<circle clip-path=\"url(#clip082)\" cx=\"1545.84\" cy=\"1044.75\" r=\"14.4\" fill=\"#009af9\" fill-rule=\"evenodd\" fill-opacity=\"1\" stroke=\"#000000\" stroke-opacity=\"1\" stroke-width=\"3.2\"/>\n",
       "<circle clip-path=\"url(#clip082)\" cx=\"2148.69\" cy=\"979.845\" r=\"14.4\" fill=\"#009af9\" fill-rule=\"evenodd\" fill-opacity=\"1\" stroke=\"#000000\" stroke-opacity=\"1\" stroke-width=\"3.2\"/>\n",
       "<circle clip-path=\"url(#clip082)\" cx=\"2059.16\" cy=\"640.354\" r=\"14.4\" fill=\"#009af9\" fill-rule=\"evenodd\" fill-opacity=\"1\" stroke=\"#000000\" stroke-opacity=\"1\" stroke-width=\"3.2\"/>\n",
       "<circle clip-path=\"url(#clip082)\" cx=\"1891.18\" cy=\"875.002\" r=\"14.4\" fill=\"#009af9\" fill-rule=\"evenodd\" fill-opacity=\"1\" stroke=\"#000000\" stroke-opacity=\"1\" stroke-width=\"3.2\"/>\n",
       "<circle clip-path=\"url(#clip082)\" cx=\"1434.99\" cy=\"939.905\" r=\"14.4\" fill=\"#009af9\" fill-rule=\"evenodd\" fill-opacity=\"1\" stroke=\"#000000\" stroke-opacity=\"1\" stroke-width=\"3.2\"/>\n",
       "<circle clip-path=\"url(#clip082)\" cx=\"1511.73\" cy=\"1084.69\" r=\"14.4\" fill=\"#009af9\" fill-rule=\"evenodd\" fill-opacity=\"1\" stroke=\"#000000\" stroke-opacity=\"1\" stroke-width=\"3.2\"/>\n",
       "<circle clip-path=\"url(#clip082)\" cx=\"1429.02\" cy=\"974.852\" r=\"14.4\" fill=\"#009af9\" fill-rule=\"evenodd\" fill-opacity=\"1\" stroke=\"#000000\" stroke-opacity=\"1\" stroke-width=\"3.2\"/>\n",
       "<circle clip-path=\"url(#clip082)\" cx=\"1914.2\" cy=\"999.815\" r=\"14.4\" fill=\"#009af9\" fill-rule=\"evenodd\" fill-opacity=\"1\" stroke=\"#000000\" stroke-opacity=\"1\" stroke-width=\"3.2\"/>\n",
       "<circle clip-path=\"url(#clip082)\" cx=\"1653.28\" cy=\"780.145\" r=\"14.4\" fill=\"#009af9\" fill-rule=\"evenodd\" fill-opacity=\"1\" stroke=\"#000000\" stroke-opacity=\"1\" stroke-width=\"3.2\"/>\n",
       "<circle clip-path=\"url(#clip082)\" cx=\"1387.24\" cy=\"899.965\" r=\"14.4\" fill=\"#009af9\" fill-rule=\"evenodd\" fill-opacity=\"1\" stroke=\"#000000\" stroke-opacity=\"1\" stroke-width=\"3.2\"/>\n",
       "<circle clip-path=\"url(#clip082)\" cx=\"1368.48\" cy=\"635.362\" r=\"14.4\" fill=\"#009af9\" fill-rule=\"evenodd\" fill-opacity=\"1\" stroke=\"#000000\" stroke-opacity=\"1\" stroke-width=\"3.2\"/>\n",
       "<circle clip-path=\"url(#clip082)\" cx=\"1303.67\" cy=\"775.152\" r=\"14.4\" fill=\"#009af9\" fill-rule=\"evenodd\" fill-opacity=\"1\" stroke=\"#000000\" stroke-opacity=\"1\" stroke-width=\"3.2\"/>\n",
       "<circle clip-path=\"url(#clip082)\" cx=\"1296.85\" cy=\"1059.73\" r=\"14.4\" fill=\"#009af9\" fill-rule=\"evenodd\" fill-opacity=\"1\" stroke=\"#000000\" stroke-opacity=\"1\" stroke-width=\"3.2\"/>\n",
       "<circle clip-path=\"url(#clip082)\" cx=\"847.483\" cy=\"1059.73\" r=\"14.4\" fill=\"#009af9\" fill-rule=\"evenodd\" fill-opacity=\"1\" stroke=\"#000000\" stroke-opacity=\"1\" stroke-width=\"3.2\"/>\n",
       "<circle clip-path=\"url(#clip082)\" cx=\"971.976\" cy=\"1009.8\" r=\"14.4\" fill=\"#009af9\" fill-rule=\"evenodd\" fill-opacity=\"1\" stroke=\"#000000\" stroke-opacity=\"1\" stroke-width=\"3.2\"/>\n",
       "<circle clip-path=\"url(#clip082)\" cx=\"1281.5\" cy=\"1204.51\" r=\"14.4\" fill=\"#009af9\" fill-rule=\"evenodd\" fill-opacity=\"1\" stroke=\"#000000\" stroke-opacity=\"1\" stroke-width=\"3.2\"/>\n",
       "<circle clip-path=\"url(#clip082)\" cx=\"1336.08\" cy=\"964.867\" r=\"14.4\" fill=\"#009af9\" fill-rule=\"evenodd\" fill-opacity=\"1\" stroke=\"#000000\" stroke-opacity=\"1\" stroke-width=\"3.2\"/>\n",
       "<circle clip-path=\"url(#clip082)\" cx=\"1755.6\" cy=\"705.257\" r=\"14.4\" fill=\"#009af9\" fill-rule=\"evenodd\" fill-opacity=\"1\" stroke=\"#000000\" stroke-opacity=\"1\" stroke-width=\"3.2\"/>\n",
       "<circle clip-path=\"url(#clip082)\" cx=\"1710.41\" cy=\"710.249\" r=\"14.4\" fill=\"#009af9\" fill-rule=\"evenodd\" fill-opacity=\"1\" stroke=\"#000000\" stroke-opacity=\"1\" stroke-width=\"3.2\"/>\n",
       "<circle clip-path=\"url(#clip082)\" cx=\"2292.79\" cy=\"715.242\" r=\"14.4\" fill=\"#009af9\" fill-rule=\"evenodd\" fill-opacity=\"1\" stroke=\"#000000\" stroke-opacity=\"1\" stroke-width=\"3.2\"/>\n",
       "<circle clip-path=\"url(#clip082)\" cx=\"1135.69\" cy=\"1044.75\" r=\"14.4\" fill=\"#009af9\" fill-rule=\"evenodd\" fill-opacity=\"1\" stroke=\"#000000\" stroke-opacity=\"1\" stroke-width=\"3.2\"/>\n",
       "<circle clip-path=\"url(#clip082)\" cx=\"625.784\" cy=\"1199.52\" r=\"14.4\" fill=\"#009af9\" fill-rule=\"evenodd\" fill-opacity=\"1\" stroke=\"#000000\" stroke-opacity=\"1\" stroke-width=\"3.2\"/>\n",
       "<circle clip-path=\"url(#clip082)\" cx=\"791.206\" cy=\"1169.56\" r=\"14.4\" fill=\"#009af9\" fill-rule=\"evenodd\" fill-opacity=\"1\" stroke=\"#000000\" stroke-opacity=\"1\" stroke-width=\"3.2\"/>\n",
       "<circle clip-path=\"url(#clip082)\" cx=\"549.041\" cy=\"1199.52\" r=\"14.4\" fill=\"#009af9\" fill-rule=\"evenodd\" fill-opacity=\"1\" stroke=\"#000000\" stroke-opacity=\"1\" stroke-width=\"3.2\"/>\n",
       "<circle clip-path=\"url(#clip082)\" cx=\"890.97\" cy=\"1164.57\" r=\"14.4\" fill=\"#009af9\" fill-rule=\"evenodd\" fill-opacity=\"1\" stroke=\"#000000\" stroke-opacity=\"1\" stroke-width=\"3.2\"/>\n",
       "<circle clip-path=\"url(#clip082)\" cx=\"1240.57\" cy=\"989.83\" r=\"14.4\" fill=\"#009af9\" fill-rule=\"evenodd\" fill-opacity=\"1\" stroke=\"#000000\" stroke-opacity=\"1\" stroke-width=\"3.2\"/>\n",
       "<circle clip-path=\"url(#clip082)\" cx=\"775.004\" cy=\"1244.45\" r=\"14.4\" fill=\"#009af9\" fill-rule=\"evenodd\" fill-opacity=\"1\" stroke=\"#000000\" stroke-opacity=\"1\" stroke-width=\"3.2\"/>\n",
       "<circle clip-path=\"url(#clip082)\" cx=\"718.727\" cy=\"1259.43\" r=\"14.4\" fill=\"#009af9\" fill-rule=\"evenodd\" fill-opacity=\"1\" stroke=\"#000000\" stroke-opacity=\"1\" stroke-width=\"3.2\"/>\n",
       "<circle clip-path=\"url(#clip082)\" cx=\"512.376\" cy=\"1384.24\" r=\"14.4\" fill=\"#009af9\" fill-rule=\"evenodd\" fill-opacity=\"1\" stroke=\"#000000\" stroke-opacity=\"1\" stroke-width=\"3.2\"/>\n",
       "<circle clip-path=\"url(#clip082)\" cx=\"294.087\" cy=\"1294.37\" r=\"14.4\" fill=\"#009af9\" fill-rule=\"evenodd\" fill-opacity=\"1\" stroke=\"#000000\" stroke-opacity=\"1\" stroke-width=\"3.2\"/>\n",
       "<circle clip-path=\"url(#clip082)\" cx=\"499.585\" cy=\"1274.4\" r=\"14.4\" fill=\"#009af9\" fill-rule=\"evenodd\" fill-opacity=\"1\" stroke=\"#000000\" stroke-opacity=\"1\" stroke-width=\"3.2\"/>\n",
       "<circle clip-path=\"url(#clip082)\" cx=\"765.625\" cy=\"1134.61\" r=\"14.4\" fill=\"#009af9\" fill-rule=\"evenodd\" fill-opacity=\"1\" stroke=\"#000000\" stroke-opacity=\"1\" stroke-width=\"3.2\"/>\n",
       "<circle clip-path=\"url(#clip082)\" cx=\"975.387\" cy=\"1269.41\" r=\"14.4\" fill=\"#009af9\" fill-rule=\"evenodd\" fill-opacity=\"1\" stroke=\"#000000\" stroke-opacity=\"1\" stroke-width=\"3.2\"/>\n",
       "<circle clip-path=\"url(#clip082)\" cx=\"1102.44\" cy=\"1169.56\" r=\"14.4\" fill=\"#009af9\" fill-rule=\"evenodd\" fill-opacity=\"1\" stroke=\"#000000\" stroke-opacity=\"1\" stroke-width=\"3.2\"/>\n",
       "<circle clip-path=\"url(#clip082)\" cx=\"1028.25\" cy=\"755.182\" r=\"14.4\" fill=\"#009af9\" fill-rule=\"evenodd\" fill-opacity=\"1\" stroke=\"#000000\" stroke-opacity=\"1\" stroke-width=\"3.2\"/>\n",
       "<circle clip-path=\"url(#clip082)\" cx=\"794.616\" cy=\"1094.67\" r=\"14.4\" fill=\"#009af9\" fill-rule=\"evenodd\" fill-opacity=\"1\" stroke=\"#000000\" stroke-opacity=\"1\" stroke-width=\"3.2\"/>\n",
       "<circle clip-path=\"url(#clip082)\" cx=\"1239.72\" cy=\"755.182\" r=\"14.4\" fill=\"#009af9\" fill-rule=\"evenodd\" fill-opacity=\"1\" stroke=\"#000000\" stroke-opacity=\"1\" stroke-width=\"3.2\"/>\n",
       "<circle clip-path=\"url(#clip082)\" cx=\"1367.62\" cy=\"984.837\" r=\"14.4\" fill=\"#009af9\" fill-rule=\"evenodd\" fill-opacity=\"1\" stroke=\"#000000\" stroke-opacity=\"1\" stroke-width=\"3.2\"/>\n",
       "<circle clip-path=\"url(#clip082)\" cx=\"780.121\" cy=\"810.1\" r=\"14.4\" fill=\"#009af9\" fill-rule=\"evenodd\" fill-opacity=\"1\" stroke=\"#000000\" stroke-opacity=\"1\" stroke-width=\"3.2\"/>\n",
       "<circle clip-path=\"url(#clip082)\" cx=\"1100.73\" cy=\"909.95\" r=\"14.4\" fill=\"#009af9\" fill-rule=\"evenodd\" fill-opacity=\"1\" stroke=\"#000000\" stroke-opacity=\"1\" stroke-width=\"3.2\"/>\n",
       "<circle clip-path=\"url(#clip082)\" cx=\"898.645\" cy=\"939.905\" r=\"14.4\" fill=\"#009af9\" fill-rule=\"evenodd\" fill-opacity=\"1\" stroke=\"#000000\" stroke-opacity=\"1\" stroke-width=\"3.2\"/>\n",
       "<circle clip-path=\"url(#clip082)\" cx=\"1893.74\" cy=\"820.085\" r=\"14.4\" fill=\"#009af9\" fill-rule=\"evenodd\" fill-opacity=\"1\" stroke=\"#000000\" stroke-opacity=\"1\" stroke-width=\"3.2\"/>\n",
       "<circle clip-path=\"url(#clip082)\" cx=\"1664.36\" cy=\"870.01\" r=\"14.4\" fill=\"#009af9\" fill-rule=\"evenodd\" fill-opacity=\"1\" stroke=\"#000000\" stroke-opacity=\"1\" stroke-width=\"3.2\"/>\n",
       "<circle clip-path=\"url(#clip082)\" cx=\"1348.01\" cy=\"780.145\" r=\"14.4\" fill=\"#009af9\" fill-rule=\"evenodd\" fill-opacity=\"1\" stroke=\"#000000\" stroke-opacity=\"1\" stroke-width=\"3.2\"/>\n",
       "<circle clip-path=\"url(#clip082)\" cx=\"1903.11\" cy=\"580.444\" r=\"14.4\" fill=\"#009af9\" fill-rule=\"evenodd\" fill-opacity=\"1\" stroke=\"#000000\" stroke-opacity=\"1\" stroke-width=\"3.2\"/>\n",
       "<circle clip-path=\"url(#clip082)\" cx=\"2054.89\" cy=\"86.1857\" r=\"14.4\" fill=\"#009af9\" fill-rule=\"evenodd\" fill-opacity=\"1\" stroke=\"#000000\" stroke-opacity=\"1\" stroke-width=\"3.2\"/>\n",
       "<circle clip-path=\"url(#clip082)\" cx=\"1515.14\" cy=\"884.987\" r=\"14.4\" fill=\"#009af9\" fill-rule=\"evenodd\" fill-opacity=\"1\" stroke=\"#000000\" stroke-opacity=\"1\" stroke-width=\"3.2\"/>\n",
       "</svg>\n"
      ],
      "text/html": [
       "<?xml version=\"1.0\" encoding=\"utf-8\"?>\n",
       "<svg xmlns=\"http://www.w3.org/2000/svg\" xmlns:xlink=\"http://www.w3.org/1999/xlink\" width=\"600\" height=\"400\" viewBox=\"0 0 2400 1600\">\n",
       "<defs>\n",
       "  <clipPath id=\"clip130\">\n",
       "    <rect x=\"0\" y=\"0\" width=\"2400\" height=\"1600\"/>\n",
       "  </clipPath>\n",
       "</defs>\n",
       "<path clip-path=\"url(#clip130)\" d=\"M0 1600 L2400 1600 L2400 0 L0 0  Z\" fill=\"#ffffff\" fill-rule=\"evenodd\" fill-opacity=\"1\"/>\n",
       "<defs>\n",
       "  <clipPath id=\"clip131\">\n",
       "    <rect x=\"480\" y=\"0\" width=\"1681\" height=\"1600\"/>\n",
       "  </clipPath>\n",
       "</defs>\n",
       "<path clip-path=\"url(#clip130)\" d=\"M234.125 1423.18 L2352.76 1423.18 L2352.76 47.2441 L234.125 47.2441  Z\" fill=\"#ffffff\" fill-rule=\"evenodd\" fill-opacity=\"1\"/>\n",
       "<defs>\n",
       "  <clipPath id=\"clip132\">\n",
       "    <rect x=\"234\" y=\"47\" width=\"2120\" height=\"1377\"/>\n",
       "  </clipPath>\n",
       "</defs>\n",
       "<polyline clip-path=\"url(#clip132)\" style=\"stroke:#000000; stroke-linecap:round; stroke-linejoin:round; stroke-width:2; stroke-opacity:0.1; fill:none\" points=\"651.364,1423.18 651.364,47.2441 \"/>\n",
       "<polyline clip-path=\"url(#clip132)\" style=\"stroke:#000000; stroke-linecap:round; stroke-linejoin:round; stroke-width:2; stroke-opacity:0.1; fill:none\" points=\"1077.71,1423.18 1077.71,47.2441 \"/>\n",
       "<polyline clip-path=\"url(#clip132)\" style=\"stroke:#000000; stroke-linecap:round; stroke-linejoin:round; stroke-width:2; stroke-opacity:0.1; fill:none\" points=\"1504.06,1423.18 1504.06,47.2441 \"/>\n",
       "<polyline clip-path=\"url(#clip132)\" style=\"stroke:#000000; stroke-linecap:round; stroke-linejoin:round; stroke-width:2; stroke-opacity:0.1; fill:none\" points=\"1930.4,1423.18 1930.4,47.2441 \"/>\n",
       "<polyline clip-path=\"url(#clip130)\" style=\"stroke:#000000; stroke-linecap:round; stroke-linejoin:round; stroke-width:4; stroke-opacity:1; fill:none\" points=\"234.125,1423.18 2352.76,1423.18 \"/>\n",
       "<polyline clip-path=\"url(#clip130)\" style=\"stroke:#000000; stroke-linecap:round; stroke-linejoin:round; stroke-width:4; stroke-opacity:1; fill:none\" points=\"651.364,1423.18 651.364,1404.28 \"/>\n",
       "<polyline clip-path=\"url(#clip130)\" style=\"stroke:#000000; stroke-linecap:round; stroke-linejoin:round; stroke-width:4; stroke-opacity:1; fill:none\" points=\"1077.71,1423.18 1077.71,1404.28 \"/>\n",
       "<polyline clip-path=\"url(#clip130)\" style=\"stroke:#000000; stroke-linecap:round; stroke-linejoin:round; stroke-width:4; stroke-opacity:1; fill:none\" points=\"1504.06,1423.18 1504.06,1404.28 \"/>\n",
       "<polyline clip-path=\"url(#clip130)\" style=\"stroke:#000000; stroke-linecap:round; stroke-linejoin:round; stroke-width:4; stroke-opacity:1; fill:none\" points=\"1930.4,1423.18 1930.4,1404.28 \"/>\n",
       "<path clip-path=\"url(#clip130)\" d=\"M599.976 1481.64 L616.295 1481.64 L616.295 1485.58 L594.351 1485.58 L594.351 1481.64 Q597.013 1478.89 601.596 1474.26 Q606.202 1469.61 607.383 1468.27 Q609.628 1465.74 610.508 1464.01 Q611.411 1462.25 611.411 1460.56 Q611.411 1457.8 609.466 1456.07 Q607.545 1454.33 604.443 1454.33 Q602.244 1454.33 599.79 1455.09 Q597.36 1455.86 594.582 1457.41 L594.582 1452.69 Q597.406 1451.55 599.86 1450.97 Q602.314 1450.39 604.351 1450.39 Q609.721 1450.39 612.915 1453.08 Q616.11 1455.77 616.11 1460.26 Q616.11 1462.39 615.3 1464.31 Q614.513 1466.2 612.406 1468.8 Q611.827 1469.47 608.726 1472.69 Q605.624 1475.88 599.976 1481.64 Z\" fill=\"#000000\" fill-rule=\"nonzero\" fill-opacity=\"1\" /><path clip-path=\"url(#clip130)\" d=\"M626.156 1451.02 L644.512 1451.02 L644.512 1454.96 L630.438 1454.96 L630.438 1463.43 Q631.457 1463.08 632.475 1462.92 Q633.494 1462.73 634.513 1462.73 Q640.3 1462.73 643.679 1465.9 Q647.059 1469.08 647.059 1474.49 Q647.059 1480.07 643.587 1483.17 Q640.114 1486.25 633.795 1486.25 Q631.619 1486.25 629.35 1485.88 Q627.105 1485.51 624.698 1484.77 L624.698 1480.07 Q626.781 1481.2 629.003 1481.76 Q631.225 1482.32 633.702 1482.32 Q637.707 1482.32 640.045 1480.21 Q642.383 1478.1 642.383 1474.49 Q642.383 1470.88 640.045 1468.77 Q637.707 1466.67 633.702 1466.67 Q631.827 1466.67 629.952 1467.08 Q628.101 1467.5 626.156 1468.38 L626.156 1451.02 Z\" fill=\"#000000\" fill-rule=\"nonzero\" fill-opacity=\"1\" /><path clip-path=\"url(#clip130)\" d=\"M666.272 1454.1 Q662.661 1454.1 660.832 1457.66 Q659.026 1461.2 659.026 1468.33 Q659.026 1475.44 660.832 1479.01 Q662.661 1482.55 666.272 1482.55 Q669.906 1482.55 671.711 1479.01 Q673.54 1475.44 673.54 1468.33 Q673.54 1461.2 671.711 1457.66 Q669.906 1454.1 666.272 1454.1 M666.272 1450.39 Q672.082 1450.39 675.137 1455 Q678.216 1459.58 678.216 1468.33 Q678.216 1477.06 675.137 1481.67 Q672.082 1486.25 666.272 1486.25 Q660.461 1486.25 657.383 1481.67 Q654.327 1477.06 654.327 1468.33 Q654.327 1459.58 657.383 1455 Q660.461 1450.39 666.272 1450.39 Z\" fill=\"#000000\" fill-rule=\"nonzero\" fill-opacity=\"1\" /><path clip-path=\"url(#clip130)\" d=\"M696.433 1454.1 Q692.822 1454.1 690.994 1457.66 Q689.188 1461.2 689.188 1468.33 Q689.188 1475.44 690.994 1479.01 Q692.822 1482.55 696.433 1482.55 Q700.068 1482.55 701.873 1479.01 Q703.702 1475.44 703.702 1468.33 Q703.702 1461.2 701.873 1457.66 Q700.068 1454.1 696.433 1454.1 M696.433 1450.39 Q702.244 1450.39 705.299 1455 Q708.378 1459.58 708.378 1468.33 Q708.378 1477.06 705.299 1481.67 Q702.244 1486.25 696.433 1486.25 Q690.623 1486.25 687.545 1481.67 Q684.489 1477.06 684.489 1468.33 Q684.489 1459.58 687.545 1455 Q690.623 1450.39 696.433 1450.39 Z\" fill=\"#000000\" fill-rule=\"nonzero\" fill-opacity=\"1\" /><path clip-path=\"url(#clip130)\" d=\"M1036.39 1466.95 Q1039.75 1467.66 1041.62 1469.93 Q1043.52 1472.2 1043.52 1475.53 Q1043.52 1480.65 1040 1483.45 Q1036.48 1486.25 1030 1486.25 Q1027.83 1486.25 1025.51 1485.81 Q1023.22 1485.39 1020.77 1484.54 L1020.77 1480.02 Q1022.71 1481.16 1025.02 1481.74 Q1027.34 1482.32 1029.86 1482.32 Q1034.26 1482.32 1036.55 1480.58 Q1038.87 1478.84 1038.87 1475.53 Q1038.87 1472.48 1036.71 1470.77 Q1034.59 1469.03 1030.77 1469.03 L1026.74 1469.03 L1026.74 1465.19 L1030.95 1465.19 Q1034.4 1465.19 1036.23 1463.82 Q1038.06 1462.43 1038.06 1459.84 Q1038.06 1457.18 1036.16 1455.77 Q1034.28 1454.33 1030.77 1454.33 Q1028.84 1454.33 1026.65 1454.75 Q1024.45 1455.16 1021.81 1456.04 L1021.81 1451.88 Q1024.47 1451.14 1026.78 1450.77 Q1029.12 1450.39 1031.18 1450.39 Q1036.51 1450.39 1039.61 1452.83 Q1042.71 1455.23 1042.71 1459.35 Q1042.71 1462.22 1041.07 1464.21 Q1039.42 1466.18 1036.39 1466.95 Z\" fill=\"#000000\" fill-rule=\"nonzero\" fill-opacity=\"1\" /><path clip-path=\"url(#clip130)\" d=\"M1062.39 1454.1 Q1058.77 1454.1 1056.95 1457.66 Q1055.14 1461.2 1055.14 1468.33 Q1055.14 1475.44 1056.95 1479.01 Q1058.77 1482.55 1062.39 1482.55 Q1066.02 1482.55 1067.83 1479.01 Q1069.65 1475.44 1069.65 1468.33 Q1069.65 1461.2 1067.83 1457.66 Q1066.02 1454.1 1062.39 1454.1 M1062.39 1450.39 Q1068.2 1450.39 1071.25 1455 Q1074.33 1459.58 1074.33 1468.33 Q1074.33 1477.06 1071.25 1481.67 Q1068.2 1486.25 1062.39 1486.25 Q1056.58 1486.25 1053.5 1481.67 Q1050.44 1477.06 1050.44 1468.33 Q1050.44 1459.58 1053.5 1455 Q1056.58 1450.39 1062.39 1450.39 Z\" fill=\"#000000\" fill-rule=\"nonzero\" fill-opacity=\"1\" /><path clip-path=\"url(#clip130)\" d=\"M1092.55 1454.1 Q1088.94 1454.1 1087.11 1457.66 Q1085.3 1461.2 1085.3 1468.33 Q1085.3 1475.44 1087.11 1479.01 Q1088.94 1482.55 1092.55 1482.55 Q1096.18 1482.55 1097.99 1479.01 Q1099.82 1475.44 1099.82 1468.33 Q1099.82 1461.2 1097.99 1457.66 Q1096.18 1454.1 1092.55 1454.1 M1092.55 1450.39 Q1098.36 1450.39 1101.41 1455 Q1104.49 1459.58 1104.49 1468.33 Q1104.49 1477.06 1101.41 1481.67 Q1098.36 1486.25 1092.55 1486.25 Q1086.74 1486.25 1083.66 1481.67 Q1080.6 1477.06 1080.6 1468.33 Q1080.6 1459.58 1083.66 1455 Q1086.74 1450.39 1092.55 1450.39 Z\" fill=\"#000000\" fill-rule=\"nonzero\" fill-opacity=\"1\" /><path clip-path=\"url(#clip130)\" d=\"M1122.71 1454.1 Q1119.1 1454.1 1117.27 1457.66 Q1115.46 1461.2 1115.46 1468.33 Q1115.46 1475.44 1117.27 1479.01 Q1119.1 1482.55 1122.71 1482.55 Q1126.34 1482.55 1128.15 1479.01 Q1129.98 1475.44 1129.98 1468.33 Q1129.98 1461.2 1128.15 1457.66 Q1126.34 1454.1 1122.71 1454.1 M1122.71 1450.39 Q1128.52 1450.39 1131.58 1455 Q1134.65 1459.58 1134.65 1468.33 Q1134.65 1477.06 1131.58 1481.67 Q1128.52 1486.25 1122.71 1486.25 Q1116.9 1486.25 1113.82 1481.67 Q1110.77 1477.06 1110.77 1468.33 Q1110.77 1459.58 1113.82 1455 Q1116.9 1450.39 1122.71 1450.39 Z\" fill=\"#000000\" fill-rule=\"nonzero\" fill-opacity=\"1\" /><path clip-path=\"url(#clip130)\" d=\"M1462.74 1466.95 Q1466.09 1467.66 1467.97 1469.93 Q1469.87 1472.2 1469.87 1475.53 Q1469.87 1480.65 1466.35 1483.45 Q1462.83 1486.25 1456.35 1486.25 Q1454.17 1486.25 1451.86 1485.81 Q1449.56 1485.39 1447.11 1484.54 L1447.11 1480.02 Q1449.06 1481.16 1451.37 1481.74 Q1453.69 1482.32 1456.21 1482.32 Q1460.61 1482.32 1462.9 1480.58 Q1465.21 1478.84 1465.21 1475.53 Q1465.21 1472.48 1463.06 1470.77 Q1460.93 1469.03 1457.11 1469.03 L1453.08 1469.03 L1453.08 1465.19 L1457.3 1465.19 Q1460.75 1465.19 1462.57 1463.82 Q1464.4 1462.43 1464.4 1459.84 Q1464.4 1457.18 1462.5 1455.77 Q1460.63 1454.33 1457.11 1454.33 Q1455.19 1454.33 1452.99 1454.75 Q1450.79 1455.16 1448.15 1456.04 L1448.15 1451.88 Q1450.81 1451.14 1453.13 1450.77 Q1455.47 1450.39 1457.53 1450.39 Q1462.85 1450.39 1465.95 1452.83 Q1469.06 1455.23 1469.06 1459.35 Q1469.06 1462.22 1467.41 1464.21 Q1465.77 1466.18 1462.74 1466.95 Z\" fill=\"#000000\" fill-rule=\"nonzero\" fill-opacity=\"1\" /><path clip-path=\"url(#clip130)\" d=\"M1478.78 1451.02 L1497.13 1451.02 L1497.13 1454.96 L1483.06 1454.96 L1483.06 1463.43 Q1484.08 1463.08 1485.1 1462.92 Q1486.12 1462.73 1487.13 1462.73 Q1492.92 1462.73 1496.3 1465.9 Q1499.68 1469.08 1499.68 1474.49 Q1499.68 1480.07 1496.21 1483.17 Q1492.74 1486.25 1486.42 1486.25 Q1484.24 1486.25 1481.97 1485.88 Q1479.73 1485.51 1477.32 1484.77 L1477.32 1480.07 Q1479.4 1481.2 1481.62 1481.76 Q1483.85 1482.32 1486.32 1482.32 Q1490.33 1482.32 1492.67 1480.21 Q1495 1478.1 1495 1474.49 Q1495 1470.88 1492.67 1468.77 Q1490.33 1466.67 1486.32 1466.67 Q1484.45 1466.67 1482.57 1467.08 Q1480.72 1467.5 1478.78 1468.38 L1478.78 1451.02 Z\" fill=\"#000000\" fill-rule=\"nonzero\" fill-opacity=\"1\" /><path clip-path=\"url(#clip130)\" d=\"M1518.89 1454.1 Q1515.28 1454.1 1513.45 1457.66 Q1511.65 1461.2 1511.65 1468.33 Q1511.65 1475.44 1513.45 1479.01 Q1515.28 1482.55 1518.89 1482.55 Q1522.53 1482.55 1524.33 1479.01 Q1526.16 1475.44 1526.16 1468.33 Q1526.16 1461.2 1524.33 1457.66 Q1522.53 1454.1 1518.89 1454.1 M1518.89 1450.39 Q1524.7 1450.39 1527.76 1455 Q1530.84 1459.58 1530.84 1468.33 Q1530.84 1477.06 1527.76 1481.67 Q1524.7 1486.25 1518.89 1486.25 Q1513.08 1486.25 1510 1481.67 Q1506.95 1477.06 1506.95 1468.33 Q1506.95 1459.58 1510 1455 Q1513.08 1450.39 1518.89 1450.39 Z\" fill=\"#000000\" fill-rule=\"nonzero\" fill-opacity=\"1\" /><path clip-path=\"url(#clip130)\" d=\"M1549.06 1454.1 Q1545.44 1454.1 1543.62 1457.66 Q1541.81 1461.2 1541.81 1468.33 Q1541.81 1475.44 1543.62 1479.01 Q1545.44 1482.55 1549.06 1482.55 Q1552.69 1482.55 1554.49 1479.01 Q1556.32 1475.44 1556.32 1468.33 Q1556.32 1461.2 1554.49 1457.66 Q1552.69 1454.1 1549.06 1454.1 M1549.06 1450.39 Q1554.87 1450.39 1557.92 1455 Q1561 1459.58 1561 1468.33 Q1561 1477.06 1557.92 1481.67 Q1554.87 1486.25 1549.06 1486.25 Q1543.24 1486.25 1540.17 1481.67 Q1537.11 1477.06 1537.11 1468.33 Q1537.11 1459.58 1540.17 1455 Q1543.24 1450.39 1549.06 1450.39 Z\" fill=\"#000000\" fill-rule=\"nonzero\" fill-opacity=\"1\" /><path clip-path=\"url(#clip130)\" d=\"M1888.41 1455.09 L1876.6 1473.54 L1888.41 1473.54 L1888.41 1455.09 M1887.18 1451.02 L1893.06 1451.02 L1893.06 1473.54 L1897.99 1473.54 L1897.99 1477.43 L1893.06 1477.43 L1893.06 1485.58 L1888.41 1485.58 L1888.41 1477.43 L1872.81 1477.43 L1872.81 1472.92 L1887.18 1451.02 Z\" fill=\"#000000\" fill-rule=\"nonzero\" fill-opacity=\"1\" /><path clip-path=\"url(#clip130)\" d=\"M1915.73 1454.1 Q1912.11 1454.1 1910.29 1457.66 Q1908.48 1461.2 1908.48 1468.33 Q1908.48 1475.44 1910.29 1479.01 Q1912.11 1482.55 1915.73 1482.55 Q1919.36 1482.55 1921.16 1479.01 Q1922.99 1475.44 1922.99 1468.33 Q1922.99 1461.2 1921.16 1457.66 Q1919.36 1454.1 1915.73 1454.1 M1915.73 1450.39 Q1921.54 1450.39 1924.59 1455 Q1927.67 1459.58 1927.67 1468.33 Q1927.67 1477.06 1924.59 1481.67 Q1921.54 1486.25 1915.73 1486.25 Q1909.91 1486.25 1906.84 1481.67 Q1903.78 1477.06 1903.78 1468.33 Q1903.78 1459.58 1906.84 1455 Q1909.91 1450.39 1915.73 1450.39 Z\" fill=\"#000000\" fill-rule=\"nonzero\" fill-opacity=\"1\" /><path clip-path=\"url(#clip130)\" d=\"M1945.89 1454.1 Q1942.28 1454.1 1940.45 1457.66 Q1938.64 1461.2 1938.64 1468.33 Q1938.64 1475.44 1940.45 1479.01 Q1942.28 1482.55 1945.89 1482.55 Q1949.52 1482.55 1951.33 1479.01 Q1953.16 1475.44 1953.16 1468.33 Q1953.16 1461.2 1951.33 1457.66 Q1949.52 1454.1 1945.89 1454.1 M1945.89 1450.39 Q1951.7 1450.39 1954.75 1455 Q1957.83 1459.58 1957.83 1468.33 Q1957.83 1477.06 1954.75 1481.67 Q1951.7 1486.25 1945.89 1486.25 Q1940.08 1486.25 1937 1481.67 Q1933.94 1477.06 1933.94 1468.33 Q1933.94 1459.58 1937 1455 Q1940.08 1450.39 1945.89 1450.39 Z\" fill=\"#000000\" fill-rule=\"nonzero\" fill-opacity=\"1\" /><path clip-path=\"url(#clip130)\" d=\"M1976.05 1454.1 Q1972.44 1454.1 1970.61 1457.66 Q1968.8 1461.2 1968.8 1468.33 Q1968.8 1475.44 1970.61 1479.01 Q1972.44 1482.55 1976.05 1482.55 Q1979.68 1482.55 1981.49 1479.01 Q1983.32 1475.44 1983.32 1468.33 Q1983.32 1461.2 1981.49 1457.66 Q1979.68 1454.1 1976.05 1454.1 M1976.05 1450.39 Q1981.86 1450.39 1984.91 1455 Q1987.99 1459.58 1987.99 1468.33 Q1987.99 1477.06 1984.91 1481.67 Q1981.86 1486.25 1976.05 1486.25 Q1970.24 1486.25 1967.16 1481.67 Q1964.1 1477.06 1964.1 1468.33 Q1964.1 1459.58 1967.16 1455 Q1970.24 1450.39 1976.05 1450.39 Z\" fill=\"#000000\" fill-rule=\"nonzero\" fill-opacity=\"1\" /><path clip-path=\"url(#clip130)\" d=\"M1178.44 1520.52 L1184.87 1520.52 L1184.87 1568.04 L1178.44 1568.04 L1178.44 1520.52 Z\" fill=\"#000000\" fill-rule=\"nonzero\" fill-opacity=\"1\" /><path clip-path=\"url(#clip130)\" d=\"M1227.05 1546.53 L1227.05 1568.04 L1221.19 1568.04 L1221.19 1546.72 Q1221.19 1541.66 1219.22 1539.14 Q1217.24 1536.63 1213.3 1536.63 Q1208.55 1536.63 1205.82 1539.65 Q1203.08 1542.68 1203.08 1547.9 L1203.08 1568.04 L1197.19 1568.04 L1197.19 1532.4 L1203.08 1532.4 L1203.08 1537.93 Q1205.18 1534.72 1208.01 1533.13 Q1210.88 1531.54 1214.6 1531.54 Q1220.74 1531.54 1223.9 1535.36 Q1227.05 1539.14 1227.05 1546.53 Z\" fill=\"#000000\" fill-rule=\"nonzero\" fill-opacity=\"1\" /><path clip-path=\"url(#clip130)\" d=\"M1264.38 1533.76 L1264.38 1539.24 Q1261.9 1537.87 1259.38 1537.2 Q1256.9 1536.5 1254.36 1536.5 Q1248.66 1536.5 1245.51 1540.13 Q1242.36 1543.73 1242.36 1550.25 Q1242.36 1556.78 1245.51 1560.4 Q1248.66 1564 1254.36 1564 Q1256.9 1564 1259.38 1563.33 Q1261.9 1562.63 1264.38 1561.26 L1264.38 1566.68 Q1261.93 1567.82 1259.29 1568.39 Q1256.68 1568.97 1253.72 1568.97 Q1245.67 1568.97 1240.92 1563.91 Q1236.18 1558.85 1236.18 1550.25 Q1236.18 1541.53 1240.96 1536.53 Q1245.76 1531.54 1254.1 1531.54 Q1256.81 1531.54 1259.38 1532.11 Q1261.96 1532.65 1264.38 1533.76 Z\" fill=\"#000000\" fill-rule=\"nonzero\" fill-opacity=\"1\" /><path clip-path=\"url(#clip130)\" d=\"M1288.38 1536.5 Q1283.67 1536.5 1280.93 1540.19 Q1278.19 1543.85 1278.19 1550.25 Q1278.19 1556.65 1280.9 1560.34 Q1283.64 1564 1288.38 1564 Q1293.06 1564 1295.8 1560.31 Q1298.53 1556.62 1298.53 1550.25 Q1298.53 1543.92 1295.8 1540.23 Q1293.06 1536.5 1288.38 1536.5 M1288.38 1531.54 Q1296.02 1531.54 1300.38 1536.5 Q1304.74 1541.47 1304.74 1550.25 Q1304.74 1559 1300.38 1564 Q1296.02 1568.97 1288.38 1568.97 Q1280.71 1568.97 1276.35 1564 Q1272.02 1559 1272.02 1550.25 Q1272.02 1541.47 1276.35 1536.5 Q1280.71 1531.54 1288.38 1531.54 Z\" fill=\"#000000\" fill-rule=\"nonzero\" fill-opacity=\"1\" /><path clip-path=\"url(#clip130)\" d=\"M1342.2 1539.24 Q1344.4 1535.29 1347.45 1533.41 Q1350.51 1531.54 1354.65 1531.54 Q1360.22 1531.54 1363.24 1535.45 Q1366.26 1539.33 1366.26 1546.53 L1366.26 1568.04 L1360.38 1568.04 L1360.38 1546.72 Q1360.38 1541.59 1358.56 1539.11 Q1356.75 1536.63 1353.02 1536.63 Q1348.47 1536.63 1345.83 1539.65 Q1343.19 1542.68 1343.19 1547.9 L1343.19 1568.04 L1337.3 1568.04 L1337.3 1546.72 Q1337.3 1541.56 1335.49 1539.11 Q1333.67 1536.63 1329.88 1536.63 Q1325.4 1536.63 1322.75 1539.68 Q1320.11 1542.71 1320.11 1547.9 L1320.11 1568.04 L1314.22 1568.04 L1314.22 1532.4 L1320.11 1532.4 L1320.11 1537.93 Q1322.12 1534.66 1324.92 1533.1 Q1327.72 1531.54 1331.57 1531.54 Q1335.45 1531.54 1338.16 1533.51 Q1340.9 1535.48 1342.2 1539.24 Z\" fill=\"#000000\" fill-rule=\"nonzero\" fill-opacity=\"1\" /><path clip-path=\"url(#clip130)\" d=\"M1408.44 1548.76 L1408.44 1551.62 L1381.51 1551.62 Q1381.89 1557.67 1385.14 1560.85 Q1388.42 1564 1394.24 1564 Q1397.62 1564 1400.77 1563.17 Q1403.95 1562.35 1407.07 1560.69 L1407.07 1566.23 Q1403.92 1567.57 1400.61 1568.27 Q1397.3 1568.97 1393.89 1568.97 Q1385.36 1568.97 1380.36 1564 Q1375.4 1559.04 1375.4 1550.57 Q1375.4 1541.82 1380.11 1536.69 Q1384.85 1531.54 1392.87 1531.54 Q1400.07 1531.54 1404.24 1536.18 Q1408.44 1540.8 1408.44 1548.76 M1402.58 1547.04 Q1402.52 1542.23 1399.88 1539.37 Q1397.27 1536.5 1392.94 1536.5 Q1388.04 1536.5 1385.08 1539.27 Q1382.15 1542.04 1381.7 1547.07 L1402.58 1547.04 Z\" fill=\"#000000\" fill-rule=\"nonzero\" fill-opacity=\"1\" /><polyline clip-path=\"url(#clip132)\" style=\"stroke:#000000; stroke-linecap:round; stroke-linejoin:round; stroke-width:2; stroke-opacity:0.1; fill:none\" points=\"234.125,1194.52 2352.76,1194.52 \"/>\n",
       "<polyline clip-path=\"url(#clip132)\" style=\"stroke:#000000; stroke-linecap:round; stroke-linejoin:round; stroke-width:2; stroke-opacity:0.1; fill:none\" points=\"234.125,944.897 2352.76,944.897 \"/>\n",
       "<polyline clip-path=\"url(#clip132)\" style=\"stroke:#000000; stroke-linecap:round; stroke-linejoin:round; stroke-width:2; stroke-opacity:0.1; fill:none\" points=\"234.125,695.272 2352.76,695.272 \"/>\n",
       "<polyline clip-path=\"url(#clip132)\" style=\"stroke:#000000; stroke-linecap:round; stroke-linejoin:round; stroke-width:2; stroke-opacity:0.1; fill:none\" points=\"234.125,445.646 2352.76,445.646 \"/>\n",
       "<polyline clip-path=\"url(#clip132)\" style=\"stroke:#000000; stroke-linecap:round; stroke-linejoin:round; stroke-width:2; stroke-opacity:0.1; fill:none\" points=\"234.125,196.021 2352.76,196.021 \"/>\n",
       "<polyline clip-path=\"url(#clip130)\" style=\"stroke:#000000; stroke-linecap:round; stroke-linejoin:round; stroke-width:4; stroke-opacity:1; fill:none\" points=\"234.125,1423.18 234.125,47.2441 \"/>\n",
       "<polyline clip-path=\"url(#clip130)\" style=\"stroke:#000000; stroke-linecap:round; stroke-linejoin:round; stroke-width:4; stroke-opacity:1; fill:none\" points=\"234.125,1194.52 253.023,1194.52 \"/>\n",
       "<polyline clip-path=\"url(#clip130)\" style=\"stroke:#000000; stroke-linecap:round; stroke-linejoin:round; stroke-width:4; stroke-opacity:1; fill:none\" points=\"234.125,944.897 253.023,944.897 \"/>\n",
       "<polyline clip-path=\"url(#clip130)\" style=\"stroke:#000000; stroke-linecap:round; stroke-linejoin:round; stroke-width:4; stroke-opacity:1; fill:none\" points=\"234.125,695.272 253.023,695.272 \"/>\n",
       "<polyline clip-path=\"url(#clip130)\" style=\"stroke:#000000; stroke-linecap:round; stroke-linejoin:round; stroke-width:4; stroke-opacity:1; fill:none\" points=\"234.125,445.646 253.023,445.646 \"/>\n",
       "<polyline clip-path=\"url(#clip130)\" style=\"stroke:#000000; stroke-linecap:round; stroke-linejoin:round; stroke-width:4; stroke-opacity:1; fill:none\" points=\"234.125,196.021 253.023,196.021 \"/>\n",
       "<path clip-path=\"url(#clip130)\" d=\"M116.668 1207.87 L124.306 1207.87 L124.306 1181.5 L115.996 1183.17 L115.996 1178.91 L124.26 1177.24 L128.936 1177.24 L128.936 1207.87 L136.575 1207.87 L136.575 1211.8 L116.668 1211.8 L116.668 1207.87 Z\" fill=\"#000000\" fill-rule=\"nonzero\" fill-opacity=\"1\" /><path clip-path=\"url(#clip130)\" d=\"M146.066 1177.24 L164.422 1177.24 L164.422 1181.18 L150.348 1181.18 L150.348 1189.65 Q151.366 1189.3 152.385 1189.14 Q153.403 1188.96 154.422 1188.96 Q160.209 1188.96 163.589 1192.13 Q166.968 1195.3 166.968 1200.71 Q166.968 1206.29 163.496 1209.4 Q160.024 1212.47 153.704 1212.47 Q151.528 1212.47 149.26 1212.1 Q147.015 1211.73 144.607 1210.99 L144.607 1206.29 Q146.691 1207.43 148.913 1207.98 Q151.135 1208.54 153.612 1208.54 Q157.616 1208.54 159.954 1206.43 Q162.292 1204.33 162.292 1200.71 Q162.292 1197.1 159.954 1195 Q157.616 1192.89 153.612 1192.89 Q151.737 1192.89 149.862 1193.31 Q148.01 1193.72 146.066 1194.6 L146.066 1177.24 Z\" fill=\"#000000\" fill-rule=\"nonzero\" fill-opacity=\"1\" /><path clip-path=\"url(#clip130)\" d=\"M186.181 1180.32 Q182.57 1180.32 180.741 1183.89 Q178.936 1187.43 178.936 1194.56 Q178.936 1201.66 180.741 1205.23 Q182.57 1208.77 186.181 1208.77 Q189.815 1208.77 191.621 1205.23 Q193.45 1201.66 193.45 1194.56 Q193.45 1187.43 191.621 1183.89 Q189.815 1180.32 186.181 1180.32 M186.181 1176.62 Q191.991 1176.62 195.047 1181.22 Q198.125 1185.81 198.125 1194.56 Q198.125 1203.28 195.047 1207.89 Q191.991 1212.47 186.181 1212.47 Q180.371 1212.47 177.292 1207.89 Q174.237 1203.28 174.237 1194.56 Q174.237 1185.81 177.292 1181.22 Q180.371 1176.62 186.181 1176.62 Z\" fill=\"#000000\" fill-rule=\"nonzero\" fill-opacity=\"1\" /><path clip-path=\"url(#clip130)\" d=\"M119.885 958.242 L136.204 958.242 L136.204 962.177 L114.26 962.177 L114.26 958.242 Q116.922 955.488 121.505 950.858 Q126.112 946.205 127.292 944.863 Q129.538 942.34 130.417 940.603 Q131.32 938.844 131.32 937.154 Q131.32 934.4 129.376 932.664 Q127.455 930.928 124.353 930.928 Q122.154 930.928 119.7 931.691 Q117.269 932.455 114.492 934.006 L114.492 929.284 Q117.316 928.15 119.769 927.571 Q122.223 926.992 124.26 926.992 Q129.63 926.992 132.825 929.678 Q136.019 932.363 136.019 936.853 Q136.019 938.983 135.209 940.904 Q134.422 942.802 132.316 945.395 Q131.737 946.066 128.635 949.284 Q125.533 952.478 119.885 958.242 Z\" fill=\"#000000\" fill-rule=\"nonzero\" fill-opacity=\"1\" /><path clip-path=\"url(#clip130)\" d=\"M156.019 930.696 Q152.408 930.696 150.579 934.261 Q148.774 937.803 148.774 944.932 Q148.774 952.039 150.579 955.603 Q152.408 959.145 156.019 959.145 Q159.653 959.145 161.459 955.603 Q163.288 952.039 163.288 944.932 Q163.288 937.803 161.459 934.261 Q159.653 930.696 156.019 930.696 M156.019 926.992 Q161.829 926.992 164.885 931.599 Q167.964 936.182 167.964 944.932 Q167.964 953.659 164.885 958.265 Q161.829 962.849 156.019 962.849 Q150.209 962.849 147.13 958.265 Q144.075 953.659 144.075 944.932 Q144.075 936.182 147.13 931.599 Q150.209 926.992 156.019 926.992 Z\" fill=\"#000000\" fill-rule=\"nonzero\" fill-opacity=\"1\" /><path clip-path=\"url(#clip130)\" d=\"M186.181 930.696 Q182.57 930.696 180.741 934.261 Q178.936 937.803 178.936 944.932 Q178.936 952.039 180.741 955.603 Q182.57 959.145 186.181 959.145 Q189.815 959.145 191.621 955.603 Q193.45 952.039 193.45 944.932 Q193.45 937.803 191.621 934.261 Q189.815 930.696 186.181 930.696 M186.181 926.992 Q191.991 926.992 195.047 931.599 Q198.125 936.182 198.125 944.932 Q198.125 953.659 195.047 958.265 Q191.991 962.849 186.181 962.849 Q180.371 962.849 177.292 958.265 Q174.237 953.659 174.237 944.932 Q174.237 936.182 177.292 931.599 Q180.371 926.992 186.181 926.992 Z\" fill=\"#000000\" fill-rule=\"nonzero\" fill-opacity=\"1\" /><path clip-path=\"url(#clip130)\" d=\"M119.885 708.617 L136.204 708.617 L136.204 712.552 L114.26 712.552 L114.26 708.617 Q116.922 705.862 121.505 701.233 Q126.112 696.58 127.292 695.237 Q129.538 692.714 130.417 690.978 Q131.32 689.219 131.32 687.529 Q131.32 684.774 129.376 683.038 Q127.455 681.302 124.353 681.302 Q122.154 681.302 119.7 682.066 Q117.269 682.83 114.492 684.381 L114.492 679.659 Q117.316 678.524 119.769 677.946 Q122.223 677.367 124.26 677.367 Q129.63 677.367 132.825 680.052 Q136.019 682.737 136.019 687.228 Q136.019 689.358 135.209 691.279 Q134.422 693.177 132.316 695.77 Q131.737 696.441 128.635 699.658 Q125.533 702.853 119.885 708.617 Z\" fill=\"#000000\" fill-rule=\"nonzero\" fill-opacity=\"1\" /><path clip-path=\"url(#clip130)\" d=\"M146.066 677.992 L164.422 677.992 L164.422 681.927 L150.348 681.927 L150.348 690.399 Q151.366 690.052 152.385 689.89 Q153.403 689.705 154.422 689.705 Q160.209 689.705 163.589 692.876 Q166.968 696.047 166.968 701.464 Q166.968 707.043 163.496 710.144 Q160.024 713.223 153.704 713.223 Q151.528 713.223 149.26 712.853 Q147.015 712.482 144.607 711.742 L144.607 707.043 Q146.691 708.177 148.913 708.732 Q151.135 709.288 153.612 709.288 Q157.616 709.288 159.954 707.182 Q162.292 705.075 162.292 701.464 Q162.292 697.853 159.954 695.746 Q157.616 693.64 153.612 693.64 Q151.737 693.64 149.862 694.057 Q148.01 694.473 146.066 695.353 L146.066 677.992 Z\" fill=\"#000000\" fill-rule=\"nonzero\" fill-opacity=\"1\" /><path clip-path=\"url(#clip130)\" d=\"M186.181 681.071 Q182.57 681.071 180.741 684.635 Q178.936 688.177 178.936 695.307 Q178.936 702.413 180.741 705.978 Q182.57 709.519 186.181 709.519 Q189.815 709.519 191.621 705.978 Q193.45 702.413 193.45 695.307 Q193.45 688.177 191.621 684.635 Q189.815 681.071 186.181 681.071 M186.181 677.367 Q191.991 677.367 195.047 681.973 Q198.125 686.557 198.125 695.307 Q198.125 704.033 195.047 708.64 Q191.991 713.223 186.181 713.223 Q180.371 713.223 177.292 708.64 Q174.237 704.033 174.237 695.307 Q174.237 686.557 177.292 681.973 Q180.371 677.367 186.181 677.367 Z\" fill=\"#000000\" fill-rule=\"nonzero\" fill-opacity=\"1\" /><path clip-path=\"url(#clip130)\" d=\"M130.024 444.292 Q133.38 445.01 135.255 447.278 Q137.154 449.547 137.154 452.88 Q137.154 457.996 133.635 460.797 Q130.117 463.598 123.635 463.598 Q121.459 463.598 119.144 463.158 Q116.853 462.741 114.399 461.885 L114.399 457.371 Q116.343 458.505 118.658 459.084 Q120.973 459.663 123.496 459.663 Q127.894 459.663 130.186 457.926 Q132.501 456.19 132.501 452.88 Q132.501 449.825 130.348 448.112 Q128.218 446.376 124.399 446.376 L120.371 446.376 L120.371 442.533 L124.584 442.533 Q128.033 442.533 129.862 441.167 Q131.691 439.778 131.691 437.186 Q131.691 434.524 129.792 433.112 Q127.917 431.677 124.399 431.677 Q122.478 431.677 120.279 432.093 Q118.08 432.51 115.441 433.39 L115.441 429.223 Q118.103 428.482 120.418 428.112 Q122.755 427.741 124.816 427.741 Q130.14 427.741 133.242 430.172 Q136.343 432.579 136.343 436.7 Q136.343 439.57 134.7 441.561 Q133.056 443.528 130.024 444.292 Z\" fill=\"#000000\" fill-rule=\"nonzero\" fill-opacity=\"1\" /><path clip-path=\"url(#clip130)\" d=\"M156.019 431.445 Q152.408 431.445 150.579 435.01 Q148.774 438.552 148.774 445.681 Q148.774 452.788 150.579 456.352 Q152.408 459.894 156.019 459.894 Q159.653 459.894 161.459 456.352 Q163.288 452.788 163.288 445.681 Q163.288 438.552 161.459 435.01 Q159.653 431.445 156.019 431.445 M156.019 427.741 Q161.829 427.741 164.885 432.348 Q167.964 436.931 167.964 445.681 Q167.964 454.408 164.885 459.014 Q161.829 463.598 156.019 463.598 Q150.209 463.598 147.13 459.014 Q144.075 454.408 144.075 445.681 Q144.075 436.931 147.13 432.348 Q150.209 427.741 156.019 427.741 Z\" fill=\"#000000\" fill-rule=\"nonzero\" fill-opacity=\"1\" /><path clip-path=\"url(#clip130)\" d=\"M186.181 431.445 Q182.57 431.445 180.741 435.01 Q178.936 438.552 178.936 445.681 Q178.936 452.788 180.741 456.352 Q182.57 459.894 186.181 459.894 Q189.815 459.894 191.621 456.352 Q193.45 452.788 193.45 445.681 Q193.45 438.552 191.621 435.01 Q189.815 431.445 186.181 431.445 M186.181 427.741 Q191.991 427.741 195.047 432.348 Q198.125 436.931 198.125 445.681 Q198.125 454.408 195.047 459.014 Q191.991 463.598 186.181 463.598 Q180.371 463.598 177.292 459.014 Q174.237 454.408 174.237 445.681 Q174.237 436.931 177.292 432.348 Q180.371 427.741 186.181 427.741 Z\" fill=\"#000000\" fill-rule=\"nonzero\" fill-opacity=\"1\" /><path clip-path=\"url(#clip130)\" d=\"M130.024 194.667 Q133.38 195.384 135.255 197.653 Q137.154 199.921 137.154 203.255 Q137.154 208.37 133.635 211.171 Q130.117 213.972 123.635 213.972 Q121.459 213.972 119.144 213.532 Q116.853 213.116 114.399 212.259 L114.399 207.745 Q116.343 208.88 118.658 209.458 Q120.973 210.037 123.496 210.037 Q127.894 210.037 130.186 208.301 Q132.501 206.565 132.501 203.255 Q132.501 200.199 130.348 198.486 Q128.218 196.75 124.399 196.75 L120.371 196.75 L120.371 192.907 L124.584 192.907 Q128.033 192.907 129.862 191.542 Q131.691 190.153 131.691 187.56 Q131.691 184.898 129.792 183.486 Q127.917 182.051 124.399 182.051 Q122.478 182.051 120.279 182.468 Q118.08 182.884 115.441 183.764 L115.441 179.597 Q118.103 178.857 120.418 178.486 Q122.755 178.116 124.816 178.116 Q130.14 178.116 133.242 180.546 Q136.343 182.954 136.343 187.074 Q136.343 189.945 134.7 191.935 Q133.056 193.903 130.024 194.667 Z\" fill=\"#000000\" fill-rule=\"nonzero\" fill-opacity=\"1\" /><path clip-path=\"url(#clip130)\" d=\"M146.066 178.741 L164.422 178.741 L164.422 182.676 L150.348 182.676 L150.348 191.148 Q151.366 190.801 152.385 190.639 Q153.403 190.454 154.422 190.454 Q160.209 190.454 163.589 193.625 Q166.968 196.796 166.968 202.213 Q166.968 207.792 163.496 210.893 Q160.024 213.972 153.704 213.972 Q151.528 213.972 149.26 213.602 Q147.015 213.231 144.607 212.491 L144.607 207.792 Q146.691 208.926 148.913 209.481 Q151.135 210.037 153.612 210.037 Q157.616 210.037 159.954 207.931 Q162.292 205.824 162.292 202.213 Q162.292 198.602 159.954 196.495 Q157.616 194.389 153.612 194.389 Q151.737 194.389 149.862 194.806 Q148.01 195.222 146.066 196.102 L146.066 178.741 Z\" fill=\"#000000\" fill-rule=\"nonzero\" fill-opacity=\"1\" /><path clip-path=\"url(#clip130)\" d=\"M186.181 181.82 Q182.57 181.82 180.741 185.384 Q178.936 188.926 178.936 196.056 Q178.936 203.162 180.741 206.727 Q182.57 210.269 186.181 210.269 Q189.815 210.269 191.621 206.727 Q193.45 203.162 193.45 196.056 Q193.45 188.926 191.621 185.384 Q189.815 181.82 186.181 181.82 M186.181 178.116 Q191.991 178.116 195.047 182.722 Q198.125 187.306 198.125 196.056 Q198.125 204.782 195.047 209.389 Q191.991 213.972 186.181 213.972 Q180.371 213.972 177.292 209.389 Q174.237 204.782 174.237 196.056 Q174.237 187.306 177.292 182.722 Q180.371 178.116 186.181 178.116 Z\" fill=\"#000000\" fill-rule=\"nonzero\" fill-opacity=\"1\" /><path clip-path=\"url(#clip130)\" d=\"M16.4842 1100.09 L16.4842 1070.05 L21.895 1070.05 L21.895 1093.66 L35.9632 1093.66 L35.9632 1071.03 L41.3741 1071.03 L41.3741 1093.66 L58.5933 1093.66 L58.5933 1069.48 L64.0042 1069.48 L64.0042 1100.09 L16.4842 1100.09 Z\" fill=\"#000000\" fill-rule=\"nonzero\" fill-opacity=\"1\" /><path clip-path=\"url(#clip130)\" d=\"M33.7671 1035.71 L14.479 1035.71 L14.479 1029.85 L64.0042 1029.85 L64.0042 1035.71 L58.657 1035.71 Q61.8398 1037.55 63.3994 1040.38 Q64.9272 1043.18 64.9272 1047.13 Q64.9272 1053.59 59.771 1057.67 Q54.6147 1061.71 46.212 1061.71 Q37.8093 1061.71 32.6531 1057.67 Q27.4968 1053.59 27.4968 1047.13 Q27.4968 1043.18 29.0564 1040.38 Q30.5842 1037.55 33.7671 1035.71 M46.212 1055.66 Q52.6732 1055.66 56.3653 1053.02 Q60.0256 1050.35 60.0256 1045.7 Q60.0256 1041.05 56.3653 1038.38 Q52.6732 1035.71 46.212 1035.71 Q39.7508 1035.71 36.0905 1038.38 Q32.3984 1041.05 32.3984 1045.7 Q32.3984 1050.35 36.0905 1053.02 Q39.7508 1055.66 46.212 1055.66 Z\" fill=\"#000000\" fill-rule=\"nonzero\" fill-opacity=\"1\" /><path clip-path=\"url(#clip130)\" d=\"M49.9359 1018.39 L28.3562 1018.39 L28.3562 1012.53 L49.7131 1012.53 Q54.7739 1012.53 57.3202 1010.56 Q59.8346 1008.59 59.8346 1004.64 Q59.8346 999.898 56.8109 997.161 Q53.7872 994.392 48.5673 994.392 L28.3562 994.392 L28.3562 988.535 L64.0042 988.535 L64.0042 994.392 L58.5296 994.392 Q61.7762 996.524 63.3676 999.357 Q64.9272 1002.16 64.9272 1005.88 Q64.9272 1012.02 61.1078 1015.21 Q57.2883 1018.39 49.9359 1018.39 M27.4968 1003.65 L27.4968 1003.65 Z\" fill=\"#000000\" fill-rule=\"nonzero\" fill-opacity=\"1\" /><path clip-path=\"url(#clip130)\" d=\"M29.7248 950.818 L35.1993 950.818 Q33.8307 953.301 33.1623 955.816 Q32.4621 958.298 32.4621 960.844 Q32.4621 966.542 36.0905 969.693 Q39.6872 972.844 46.212 972.844 Q52.7369 972.844 56.3653 969.693 Q59.9619 966.542 59.9619 960.844 Q59.9619 958.298 59.2935 955.816 Q58.5933 953.301 57.2247 950.818 L62.6355 950.818 Q63.7814 953.269 64.3543 955.911 Q64.9272 958.521 64.9272 961.481 Q64.9272 969.534 59.8664 974.276 Q54.8057 979.019 46.212 979.019 Q37.491 979.019 32.4939 974.244 Q27.4968 969.438 27.4968 961.099 Q27.4968 958.394 28.0697 955.816 Q28.6108 953.237 29.7248 950.818 Z\" fill=\"#000000\" fill-rule=\"nonzero\" fill-opacity=\"1\" /><path clip-path=\"url(#clip130)\" d=\"M46.0847 924.433 Q46.0847 931.53 47.7079 934.268 Q49.3312 937.005 53.2461 937.005 Q56.3653 937.005 58.2114 934.968 Q60.0256 932.899 60.0256 929.366 Q60.0256 924.496 56.5881 921.568 Q53.1188 918.608 47.3897 918.608 L46.0847 918.608 L46.0847 924.433 M43.6657 912.752 L64.0042 912.752 L64.0042 918.608 L58.5933 918.608 Q61.8398 920.613 63.3994 923.605 Q64.9272 926.597 64.9272 930.926 Q64.9272 936.4 61.8716 939.647 Q58.7843 942.861 53.6281 942.861 Q47.6125 942.861 44.5569 938.851 Q41.5014 934.809 41.5014 926.82 L41.5014 918.608 L40.9285 918.608 Q36.8862 918.608 34.6901 921.282 Q32.4621 923.923 32.4621 928.729 Q32.4621 931.785 33.1941 934.681 Q33.9262 937.578 35.3903 940.251 L29.9795 940.251 Q28.7381 937.037 28.1334 934.013 Q27.4968 930.989 27.4968 928.125 Q27.4968 920.39 31.5072 916.571 Q35.5176 912.752 43.6657 912.752 Z\" fill=\"#000000\" fill-rule=\"nonzero\" fill-opacity=\"1\" /><path clip-path=\"url(#clip130)\" d=\"M18.2347 894.896 L28.3562 894.896 L28.3562 882.833 L32.9077 882.833 L32.9077 894.896 L52.2594 894.896 Q56.6199 894.896 57.8613 893.718 Q59.1026 892.509 59.1026 888.848 L59.1026 882.833 L64.0042 882.833 L64.0042 888.848 Q64.0042 895.628 61.4897 898.206 Q58.9434 900.784 52.2594 900.784 L32.9077 900.784 L32.9077 905.081 L28.3562 905.081 L28.3562 900.784 L18.2347 900.784 L18.2347 894.896 Z\" fill=\"#000000\" fill-rule=\"nonzero\" fill-opacity=\"1\" /><path clip-path=\"url(#clip130)\" d=\"M28.3562 875.13 L28.3562 869.274 L64.0042 869.274 L64.0042 875.13 L28.3562 875.13 M14.479 875.13 L14.479 869.274 L21.895 869.274 L21.895 875.13 L14.479 875.13 Z\" fill=\"#000000\" fill-rule=\"nonzero\" fill-opacity=\"1\" /><path clip-path=\"url(#clip130)\" d=\"M32.4621 843.206 Q32.4621 847.917 36.1542 850.654 Q39.8145 853.391 46.212 853.391 Q52.6095 853.391 56.3017 850.686 Q59.9619 847.949 59.9619 843.206 Q59.9619 838.527 56.2698 835.79 Q52.5777 833.053 46.212 833.053 Q39.8781 833.053 36.186 835.79 Q32.4621 838.527 32.4621 843.206 M27.4968 843.206 Q27.4968 835.567 32.4621 831.207 Q37.4273 826.846 46.212 826.846 Q54.9649 826.846 59.9619 831.207 Q64.9272 835.567 64.9272 843.206 Q64.9272 850.877 59.9619 855.237 Q54.9649 859.566 46.212 859.566 Q37.4273 859.566 32.4621 855.237 Q27.4968 850.877 27.4968 843.206 Z\" fill=\"#000000\" fill-rule=\"nonzero\" fill-opacity=\"1\" /><path clip-path=\"url(#clip130)\" d=\"M42.4881 787.506 L64.0042 787.506 L64.0042 793.363 L42.679 793.363 Q37.6183 793.363 35.1038 795.336 Q32.5894 797.309 32.5894 801.256 Q32.5894 805.999 35.6131 808.736 Q38.6368 811.473 43.8567 811.473 L64.0042 811.473 L64.0042 817.361 L28.3562 817.361 L28.3562 811.473 L33.8944 811.473 Q30.6797 809.372 29.0883 806.54 Q27.4968 803.675 27.4968 799.951 Q27.4968 793.808 31.3163 790.657 Q35.1038 787.506 42.4881 787.506 Z\" fill=\"#000000\" fill-rule=\"nonzero\" fill-opacity=\"1\" /><path clip-path=\"url(#clip130)\" d=\"M16.4842 754.85 L16.4842 724.804 L21.895 724.804 L21.895 748.421 L35.9632 748.421 L35.9632 725.791 L41.3741 725.791 L41.3741 748.421 L58.5933 748.421 L58.5933 724.231 L64.0042 724.231 L64.0042 754.85 L16.4842 754.85 Z\" fill=\"#000000\" fill-rule=\"nonzero\" fill-opacity=\"1\" /><path clip-path=\"url(#clip130)\" d=\"M28.3562 684.286 L45.7028 697.177 L64.0042 683.618 L64.0042 690.525 L49.9996 700.901 L64.0042 711.277 L64.0042 718.184 L45.3526 704.338 L28.3562 717.006 L28.3562 710.099 L41.0558 700.646 L28.3562 691.193 L28.3562 684.286 Z\" fill=\"#000000\" fill-rule=\"nonzero\" fill-opacity=\"1\" /><path clip-path=\"url(#clip130)\" d=\"M58.657 669.677 L77.5631 669.677 L77.5631 675.565 L28.3562 675.565 L28.3562 669.677 L33.7671 669.677 Q30.5842 667.831 29.0564 665.03 Q27.4968 662.197 27.4968 658.282 Q27.4968 651.789 32.6531 647.747 Q37.8093 643.673 46.212 643.673 Q54.6147 643.673 59.771 647.747 Q64.9272 651.789 64.9272 658.282 Q64.9272 662.197 63.3994 665.03 Q61.8398 667.831 58.657 669.677 M46.212 649.752 Q39.7508 649.752 36.0905 652.426 Q32.3984 655.068 32.3984 659.715 Q32.3984 664.362 36.0905 667.035 Q39.7508 669.677 46.212 669.677 Q52.6732 669.677 56.3653 667.035 Q60.0256 664.362 60.0256 659.715 Q60.0256 655.068 56.3653 652.426 Q52.6732 649.752 46.212 649.752 Z\" fill=\"#000000\" fill-rule=\"nonzero\" fill-opacity=\"1\" /><path clip-path=\"url(#clip130)\" d=\"M44.7161 603.474 L47.5806 603.474 L47.5806 630.401 Q53.6281 630.019 56.8109 626.772 Q59.9619 623.494 59.9619 617.669 Q59.9619 614.295 59.1344 611.144 Q58.3069 607.961 56.6518 604.842 L62.1899 604.842 Q63.5267 607.993 64.227 611.303 Q64.9272 614.614 64.9272 618.019 Q64.9272 626.549 59.9619 631.546 Q54.9967 636.512 46.5303 636.512 Q37.7774 636.512 32.6531 631.801 Q27.4968 627.059 27.4968 619.038 Q27.4968 611.845 32.1438 607.675 Q36.7589 603.474 44.7161 603.474 M42.9973 609.33 Q38.1912 609.394 35.3266 612.036 Q32.4621 614.645 32.4621 618.974 Q32.4621 623.876 35.2312 626.836 Q38.0002 629.764 43.0292 630.21 L42.9973 609.33 Z\" fill=\"#000000\" fill-rule=\"nonzero\" fill-opacity=\"1\" /><path clip-path=\"url(#clip130)\" d=\"M42.4881 564.229 L64.0042 564.229 L64.0042 570.086 L42.679 570.086 Q37.6183 570.086 35.1038 572.059 Q32.5894 574.032 32.5894 577.979 Q32.5894 582.721 35.6131 585.459 Q38.6368 588.196 43.8567 588.196 L64.0042 588.196 L64.0042 594.084 L28.3562 594.084 L28.3562 588.196 L33.8944 588.196 Q30.6797 586.095 29.0883 583.263 Q27.4968 580.398 27.4968 576.674 Q27.4968 570.531 31.3163 567.38 Q35.1038 564.229 42.4881 564.229 Z\" fill=\"#000000\" fill-rule=\"nonzero\" fill-opacity=\"1\" /><path clip-path=\"url(#clip130)\" d=\"M33.7671 529.09 L14.479 529.09 L14.479 523.234 L64.0042 523.234 L64.0042 529.09 L58.657 529.09 Q61.8398 530.936 63.3994 533.769 Q64.9272 536.57 64.9272 540.517 Q64.9272 546.978 59.771 551.052 Q54.6147 555.094 46.212 555.094 Q37.8093 555.094 32.6531 551.052 Q27.4968 546.978 27.4968 540.517 Q27.4968 536.57 29.0564 533.769 Q30.5842 530.936 33.7671 529.09 M46.212 549.047 Q52.6732 549.047 56.3653 546.405 Q60.0256 543.732 60.0256 539.085 Q60.0256 534.438 56.3653 531.764 Q52.6732 529.09 46.212 529.09 Q39.7508 529.09 36.0905 531.764 Q32.3984 534.438 32.3984 539.085 Q32.3984 543.732 36.0905 546.405 Q39.7508 549.047 46.212 549.047 Z\" fill=\"#000000\" fill-rule=\"nonzero\" fill-opacity=\"1\" /><path clip-path=\"url(#clip130)\" d=\"M28.3562 511.171 L28.3562 505.314 L64.0042 505.314 L64.0042 511.171 L28.3562 511.171 M14.479 511.171 L14.479 505.314 L21.895 505.314 L21.895 511.171 L14.479 511.171 Z\" fill=\"#000000\" fill-rule=\"nonzero\" fill-opacity=\"1\" /><path clip-path=\"url(#clip130)\" d=\"M18.2347 487.268 L28.3562 487.268 L28.3562 475.205 L32.9077 475.205 L32.9077 487.268 L52.2594 487.268 Q56.6199 487.268 57.8613 486.09 Q59.1026 484.881 59.1026 481.22 L59.1026 475.205 L64.0042 475.205 L64.0042 481.22 Q64.0042 488 61.4897 490.578 Q58.9434 493.156 52.2594 493.156 L32.9077 493.156 L32.9077 497.453 L28.3562 497.453 L28.3562 493.156 L18.2347 493.156 L18.2347 487.268 Z\" fill=\"#000000\" fill-rule=\"nonzero\" fill-opacity=\"1\" /><path clip-path=\"url(#clip130)\" d=\"M49.9359 468.107 L28.3562 468.107 L28.3562 462.25 L49.7131 462.25 Q54.7739 462.25 57.3202 460.277 Q59.8346 458.304 59.8346 454.357 Q59.8346 449.615 56.8109 446.877 Q53.7872 444.108 48.5673 444.108 L28.3562 444.108 L28.3562 438.252 L64.0042 438.252 L64.0042 444.108 L58.5296 444.108 Q61.7762 446.241 63.3676 449.073 Q64.9272 451.874 64.9272 455.598 Q64.9272 461.741 61.1078 464.924 Q57.2883 468.107 49.9359 468.107 M27.4968 453.37 L27.4968 453.37 Z\" fill=\"#000000\" fill-rule=\"nonzero\" fill-opacity=\"1\" /><path clip-path=\"url(#clip130)\" d=\"M33.8307 405.532 Q33.2578 406.519 33.0032 407.696 Q32.7167 408.842 32.7167 410.243 Q32.7167 415.208 35.9632 417.881 Q39.1779 420.523 45.2253 420.523 L64.0042 420.523 L64.0042 426.412 L28.3562 426.412 L28.3562 420.523 L33.8944 420.523 Q30.6479 418.677 29.0883 415.717 Q27.4968 412.757 27.4968 408.524 Q27.4968 407.919 27.5923 407.187 Q27.656 406.455 27.8151 405.564 L33.8307 405.532 Z\" fill=\"#000000\" fill-rule=\"nonzero\" fill-opacity=\"1\" /><path clip-path=\"url(#clip130)\" d=\"M44.7161 370.33 L47.5806 370.33 L47.5806 397.257 Q53.6281 396.875 56.8109 393.628 Q59.9619 390.35 59.9619 384.525 Q59.9619 381.151 59.1344 378 Q58.3069 374.817 56.6518 371.698 L62.1899 371.698 Q63.5267 374.849 64.227 378.159 Q64.9272 381.47 64.9272 384.875 Q64.9272 393.405 59.9619 398.402 Q54.9967 403.368 46.5303 403.368 Q37.7774 403.368 32.6531 398.657 Q27.4968 393.915 27.4968 385.894 Q27.4968 378.701 32.1438 374.531 Q36.7589 370.33 44.7161 370.33 M42.9973 376.186 Q38.1912 376.25 35.3266 378.892 Q32.4621 381.501 32.4621 385.83 Q32.4621 390.732 35.2312 393.692 Q38.0002 396.62 43.0292 397.066 L42.9973 376.186 Z\" fill=\"#000000\" fill-rule=\"nonzero\" fill-opacity=\"1\" /><circle clip-path=\"url(#clip132)\" cx=\"927.636\" cy=\"999.815\" r=\"14.4\" fill=\"#009af9\" fill-rule=\"evenodd\" fill-opacity=\"1\" stroke=\"#000000\" stroke-opacity=\"1\" stroke-width=\"3.2\"/>\n",
       "<circle clip-path=\"url(#clip132)\" cx=\"1298.56\" cy=\"1099.67\" r=\"14.4\" fill=\"#009af9\" fill-rule=\"evenodd\" fill-opacity=\"1\" stroke=\"#000000\" stroke-opacity=\"1\" stroke-width=\"3.2\"/>\n",
       "<circle clip-path=\"url(#clip132)\" cx=\"1139.1\" cy=\"795.122\" r=\"14.4\" fill=\"#009af9\" fill-rule=\"evenodd\" fill-opacity=\"1\" stroke=\"#000000\" stroke-opacity=\"1\" stroke-width=\"3.2\"/>\n",
       "<circle clip-path=\"url(#clip132)\" cx=\"1789.71\" cy=\"1104.66\" r=\"14.4\" fill=\"#009af9\" fill-rule=\"evenodd\" fill-opacity=\"1\" stroke=\"#000000\" stroke-opacity=\"1\" stroke-width=\"3.2\"/>\n",
       "<circle clip-path=\"url(#clip132)\" cx=\"1545.84\" cy=\"1044.75\" r=\"14.4\" fill=\"#009af9\" fill-rule=\"evenodd\" fill-opacity=\"1\" stroke=\"#000000\" stroke-opacity=\"1\" stroke-width=\"3.2\"/>\n",
       "<circle clip-path=\"url(#clip132)\" cx=\"2148.69\" cy=\"979.845\" r=\"14.4\" fill=\"#009af9\" fill-rule=\"evenodd\" fill-opacity=\"1\" stroke=\"#000000\" stroke-opacity=\"1\" stroke-width=\"3.2\"/>\n",
       "<circle clip-path=\"url(#clip132)\" cx=\"2059.16\" cy=\"640.354\" r=\"14.4\" fill=\"#009af9\" fill-rule=\"evenodd\" fill-opacity=\"1\" stroke=\"#000000\" stroke-opacity=\"1\" stroke-width=\"3.2\"/>\n",
       "<circle clip-path=\"url(#clip132)\" cx=\"1891.18\" cy=\"875.002\" r=\"14.4\" fill=\"#009af9\" fill-rule=\"evenodd\" fill-opacity=\"1\" stroke=\"#000000\" stroke-opacity=\"1\" stroke-width=\"3.2\"/>\n",
       "<circle clip-path=\"url(#clip132)\" cx=\"1434.99\" cy=\"939.905\" r=\"14.4\" fill=\"#009af9\" fill-rule=\"evenodd\" fill-opacity=\"1\" stroke=\"#000000\" stroke-opacity=\"1\" stroke-width=\"3.2\"/>\n",
       "<circle clip-path=\"url(#clip132)\" cx=\"1511.73\" cy=\"1084.69\" r=\"14.4\" fill=\"#009af9\" fill-rule=\"evenodd\" fill-opacity=\"1\" stroke=\"#000000\" stroke-opacity=\"1\" stroke-width=\"3.2\"/>\n",
       "<circle clip-path=\"url(#clip132)\" cx=\"1429.02\" cy=\"974.852\" r=\"14.4\" fill=\"#009af9\" fill-rule=\"evenodd\" fill-opacity=\"1\" stroke=\"#000000\" stroke-opacity=\"1\" stroke-width=\"3.2\"/>\n",
       "<circle clip-path=\"url(#clip132)\" cx=\"1914.2\" cy=\"999.815\" r=\"14.4\" fill=\"#009af9\" fill-rule=\"evenodd\" fill-opacity=\"1\" stroke=\"#000000\" stroke-opacity=\"1\" stroke-width=\"3.2\"/>\n",
       "<circle clip-path=\"url(#clip132)\" cx=\"1653.28\" cy=\"780.145\" r=\"14.4\" fill=\"#009af9\" fill-rule=\"evenodd\" fill-opacity=\"1\" stroke=\"#000000\" stroke-opacity=\"1\" stroke-width=\"3.2\"/>\n",
       "<circle clip-path=\"url(#clip132)\" cx=\"1387.24\" cy=\"899.965\" r=\"14.4\" fill=\"#009af9\" fill-rule=\"evenodd\" fill-opacity=\"1\" stroke=\"#000000\" stroke-opacity=\"1\" stroke-width=\"3.2\"/>\n",
       "<circle clip-path=\"url(#clip132)\" cx=\"1368.48\" cy=\"635.362\" r=\"14.4\" fill=\"#009af9\" fill-rule=\"evenodd\" fill-opacity=\"1\" stroke=\"#000000\" stroke-opacity=\"1\" stroke-width=\"3.2\"/>\n",
       "<circle clip-path=\"url(#clip132)\" cx=\"1303.67\" cy=\"775.152\" r=\"14.4\" fill=\"#009af9\" fill-rule=\"evenodd\" fill-opacity=\"1\" stroke=\"#000000\" stroke-opacity=\"1\" stroke-width=\"3.2\"/>\n",
       "<circle clip-path=\"url(#clip132)\" cx=\"1296.85\" cy=\"1059.73\" r=\"14.4\" fill=\"#009af9\" fill-rule=\"evenodd\" fill-opacity=\"1\" stroke=\"#000000\" stroke-opacity=\"1\" stroke-width=\"3.2\"/>\n",
       "<circle clip-path=\"url(#clip132)\" cx=\"847.483\" cy=\"1059.73\" r=\"14.4\" fill=\"#009af9\" fill-rule=\"evenodd\" fill-opacity=\"1\" stroke=\"#000000\" stroke-opacity=\"1\" stroke-width=\"3.2\"/>\n",
       "<circle clip-path=\"url(#clip132)\" cx=\"971.976\" cy=\"1009.8\" r=\"14.4\" fill=\"#009af9\" fill-rule=\"evenodd\" fill-opacity=\"1\" stroke=\"#000000\" stroke-opacity=\"1\" stroke-width=\"3.2\"/>\n",
       "<circle clip-path=\"url(#clip132)\" cx=\"1281.5\" cy=\"1204.51\" r=\"14.4\" fill=\"#009af9\" fill-rule=\"evenodd\" fill-opacity=\"1\" stroke=\"#000000\" stroke-opacity=\"1\" stroke-width=\"3.2\"/>\n",
       "<circle clip-path=\"url(#clip132)\" cx=\"1336.08\" cy=\"964.867\" r=\"14.4\" fill=\"#009af9\" fill-rule=\"evenodd\" fill-opacity=\"1\" stroke=\"#000000\" stroke-opacity=\"1\" stroke-width=\"3.2\"/>\n",
       "<circle clip-path=\"url(#clip132)\" cx=\"1755.6\" cy=\"705.257\" r=\"14.4\" fill=\"#009af9\" fill-rule=\"evenodd\" fill-opacity=\"1\" stroke=\"#000000\" stroke-opacity=\"1\" stroke-width=\"3.2\"/>\n",
       "<circle clip-path=\"url(#clip132)\" cx=\"1710.41\" cy=\"710.249\" r=\"14.4\" fill=\"#009af9\" fill-rule=\"evenodd\" fill-opacity=\"1\" stroke=\"#000000\" stroke-opacity=\"1\" stroke-width=\"3.2\"/>\n",
       "<circle clip-path=\"url(#clip132)\" cx=\"2292.79\" cy=\"715.242\" r=\"14.4\" fill=\"#009af9\" fill-rule=\"evenodd\" fill-opacity=\"1\" stroke=\"#000000\" stroke-opacity=\"1\" stroke-width=\"3.2\"/>\n",
       "<circle clip-path=\"url(#clip132)\" cx=\"1135.69\" cy=\"1044.75\" r=\"14.4\" fill=\"#009af9\" fill-rule=\"evenodd\" fill-opacity=\"1\" stroke=\"#000000\" stroke-opacity=\"1\" stroke-width=\"3.2\"/>\n",
       "<circle clip-path=\"url(#clip132)\" cx=\"625.784\" cy=\"1199.52\" r=\"14.4\" fill=\"#009af9\" fill-rule=\"evenodd\" fill-opacity=\"1\" stroke=\"#000000\" stroke-opacity=\"1\" stroke-width=\"3.2\"/>\n",
       "<circle clip-path=\"url(#clip132)\" cx=\"791.206\" cy=\"1169.56\" r=\"14.4\" fill=\"#009af9\" fill-rule=\"evenodd\" fill-opacity=\"1\" stroke=\"#000000\" stroke-opacity=\"1\" stroke-width=\"3.2\"/>\n",
       "<circle clip-path=\"url(#clip132)\" cx=\"549.041\" cy=\"1199.52\" r=\"14.4\" fill=\"#009af9\" fill-rule=\"evenodd\" fill-opacity=\"1\" stroke=\"#000000\" stroke-opacity=\"1\" stroke-width=\"3.2\"/>\n",
       "<circle clip-path=\"url(#clip132)\" cx=\"890.97\" cy=\"1164.57\" r=\"14.4\" fill=\"#009af9\" fill-rule=\"evenodd\" fill-opacity=\"1\" stroke=\"#000000\" stroke-opacity=\"1\" stroke-width=\"3.2\"/>\n",
       "<circle clip-path=\"url(#clip132)\" cx=\"1240.57\" cy=\"989.83\" r=\"14.4\" fill=\"#009af9\" fill-rule=\"evenodd\" fill-opacity=\"1\" stroke=\"#000000\" stroke-opacity=\"1\" stroke-width=\"3.2\"/>\n",
       "<circle clip-path=\"url(#clip132)\" cx=\"775.004\" cy=\"1244.45\" r=\"14.4\" fill=\"#009af9\" fill-rule=\"evenodd\" fill-opacity=\"1\" stroke=\"#000000\" stroke-opacity=\"1\" stroke-width=\"3.2\"/>\n",
       "<circle clip-path=\"url(#clip132)\" cx=\"718.727\" cy=\"1259.43\" r=\"14.4\" fill=\"#009af9\" fill-rule=\"evenodd\" fill-opacity=\"1\" stroke=\"#000000\" stroke-opacity=\"1\" stroke-width=\"3.2\"/>\n",
       "<circle clip-path=\"url(#clip132)\" cx=\"512.376\" cy=\"1384.24\" r=\"14.4\" fill=\"#009af9\" fill-rule=\"evenodd\" fill-opacity=\"1\" stroke=\"#000000\" stroke-opacity=\"1\" stroke-width=\"3.2\"/>\n",
       "<circle clip-path=\"url(#clip132)\" cx=\"294.087\" cy=\"1294.37\" r=\"14.4\" fill=\"#009af9\" fill-rule=\"evenodd\" fill-opacity=\"1\" stroke=\"#000000\" stroke-opacity=\"1\" stroke-width=\"3.2\"/>\n",
       "<circle clip-path=\"url(#clip132)\" cx=\"499.585\" cy=\"1274.4\" r=\"14.4\" fill=\"#009af9\" fill-rule=\"evenodd\" fill-opacity=\"1\" stroke=\"#000000\" stroke-opacity=\"1\" stroke-width=\"3.2\"/>\n",
       "<circle clip-path=\"url(#clip132)\" cx=\"765.625\" cy=\"1134.61\" r=\"14.4\" fill=\"#009af9\" fill-rule=\"evenodd\" fill-opacity=\"1\" stroke=\"#000000\" stroke-opacity=\"1\" stroke-width=\"3.2\"/>\n",
       "<circle clip-path=\"url(#clip132)\" cx=\"975.387\" cy=\"1269.41\" r=\"14.4\" fill=\"#009af9\" fill-rule=\"evenodd\" fill-opacity=\"1\" stroke=\"#000000\" stroke-opacity=\"1\" stroke-width=\"3.2\"/>\n",
       "<circle clip-path=\"url(#clip132)\" cx=\"1102.44\" cy=\"1169.56\" r=\"14.4\" fill=\"#009af9\" fill-rule=\"evenodd\" fill-opacity=\"1\" stroke=\"#000000\" stroke-opacity=\"1\" stroke-width=\"3.2\"/>\n",
       "<circle clip-path=\"url(#clip132)\" cx=\"1028.25\" cy=\"755.182\" r=\"14.4\" fill=\"#009af9\" fill-rule=\"evenodd\" fill-opacity=\"1\" stroke=\"#000000\" stroke-opacity=\"1\" stroke-width=\"3.2\"/>\n",
       "<circle clip-path=\"url(#clip132)\" cx=\"794.616\" cy=\"1094.67\" r=\"14.4\" fill=\"#009af9\" fill-rule=\"evenodd\" fill-opacity=\"1\" stroke=\"#000000\" stroke-opacity=\"1\" stroke-width=\"3.2\"/>\n",
       "<circle clip-path=\"url(#clip132)\" cx=\"1239.72\" cy=\"755.182\" r=\"14.4\" fill=\"#009af9\" fill-rule=\"evenodd\" fill-opacity=\"1\" stroke=\"#000000\" stroke-opacity=\"1\" stroke-width=\"3.2\"/>\n",
       "<circle clip-path=\"url(#clip132)\" cx=\"1367.62\" cy=\"984.837\" r=\"14.4\" fill=\"#009af9\" fill-rule=\"evenodd\" fill-opacity=\"1\" stroke=\"#000000\" stroke-opacity=\"1\" stroke-width=\"3.2\"/>\n",
       "<circle clip-path=\"url(#clip132)\" cx=\"780.121\" cy=\"810.1\" r=\"14.4\" fill=\"#009af9\" fill-rule=\"evenodd\" fill-opacity=\"1\" stroke=\"#000000\" stroke-opacity=\"1\" stroke-width=\"3.2\"/>\n",
       "<circle clip-path=\"url(#clip132)\" cx=\"1100.73\" cy=\"909.95\" r=\"14.4\" fill=\"#009af9\" fill-rule=\"evenodd\" fill-opacity=\"1\" stroke=\"#000000\" stroke-opacity=\"1\" stroke-width=\"3.2\"/>\n",
       "<circle clip-path=\"url(#clip132)\" cx=\"898.645\" cy=\"939.905\" r=\"14.4\" fill=\"#009af9\" fill-rule=\"evenodd\" fill-opacity=\"1\" stroke=\"#000000\" stroke-opacity=\"1\" stroke-width=\"3.2\"/>\n",
       "<circle clip-path=\"url(#clip132)\" cx=\"1893.74\" cy=\"820.085\" r=\"14.4\" fill=\"#009af9\" fill-rule=\"evenodd\" fill-opacity=\"1\" stroke=\"#000000\" stroke-opacity=\"1\" stroke-width=\"3.2\"/>\n",
       "<circle clip-path=\"url(#clip132)\" cx=\"1664.36\" cy=\"870.01\" r=\"14.4\" fill=\"#009af9\" fill-rule=\"evenodd\" fill-opacity=\"1\" stroke=\"#000000\" stroke-opacity=\"1\" stroke-width=\"3.2\"/>\n",
       "<circle clip-path=\"url(#clip132)\" cx=\"1348.01\" cy=\"780.145\" r=\"14.4\" fill=\"#009af9\" fill-rule=\"evenodd\" fill-opacity=\"1\" stroke=\"#000000\" stroke-opacity=\"1\" stroke-width=\"3.2\"/>\n",
       "<circle clip-path=\"url(#clip132)\" cx=\"1903.11\" cy=\"580.444\" r=\"14.4\" fill=\"#009af9\" fill-rule=\"evenodd\" fill-opacity=\"1\" stroke=\"#000000\" stroke-opacity=\"1\" stroke-width=\"3.2\"/>\n",
       "<circle clip-path=\"url(#clip132)\" cx=\"2054.89\" cy=\"86.1857\" r=\"14.4\" fill=\"#009af9\" fill-rule=\"evenodd\" fill-opacity=\"1\" stroke=\"#000000\" stroke-opacity=\"1\" stroke-width=\"3.2\"/>\n",
       "<circle clip-path=\"url(#clip132)\" cx=\"1515.14\" cy=\"884.987\" r=\"14.4\" fill=\"#009af9\" fill-rule=\"evenodd\" fill-opacity=\"1\" stroke=\"#000000\" stroke-opacity=\"1\" stroke-width=\"3.2\"/>\n",
       "</svg>\n"
      ]
     },
     "execution_count": 36,
     "metadata": {},
     "output_type": "execute_result"
    }
   ],
   "source": [
    "scatter(\n",
    "    educexp.income,\n",
    "    educexp.education,\n",
    "    xlabel = \"Income\", \n",
    "    ylabel = \"Education Expenditure\",\n",
    "    legend = false\n",
    ")"
   ]
  },
  {
   "cell_type": "markdown",
   "id": "6c739d2f-3a0a-4090-993e-690d1c1c3038",
   "metadata": {
    "slideshow": {
     "slide_type": "slide"
    },
    "tags": []
   },
   "source": [
    "## Linear Regression"
   ]
  },
  {
   "cell_type": "code",
   "execution_count": 38,
   "id": "7d858381-3097-4a8d-8632-1efd7c42ad59",
   "metadata": {
    "scrolled": true,
    "tags": []
   },
   "outputs": [
    {
     "data": {
      "text/plain": [
       "StatsModels.TableRegressionModel{LinearModel{GLM.LmResp{Vector{Float64}}, GLM.DensePredChol{Float64, LinearAlgebra.CholeskyPivoted{Float64, Matrix{Float64}, Vector{Int64}}}}, Matrix{Float64}}\n",
       "\n",
       "education ~ 1 + income\n",
       "\n",
       "Coefficients:\n",
       "─────────────────────────────────────────────────────────────────────────────\n",
       "                  Coef.   Std. Error     t  Pr(>|t|)    Lower 95%   Upper 95%\n",
       "─────────────────────────────────────────────────────────────────────────────\n",
       "(Intercept)  17.71       28.8738      0.61    0.5425  -40.3141     75.7342\n",
       "income        0.0553759   0.00882287  6.28    <1e-07    0.0376457   0.0731062\n",
       "─────────────────────────────────────────────────────────────────────────────"
      ]
     },
     "execution_count": 38,
     "metadata": {},
     "output_type": "execute_result"
    }
   ],
   "source": [
    "fm = @formula(education ~ income)\n",
    "mod = lm(\n",
    "    fm,\n",
    "    educexp\n",
    ")"
   ]
  },
  {
   "cell_type": "markdown",
   "id": "19f51dc8",
   "metadata": {
    "slideshow": {
     "slide_type": "slide"
    },
    "tags": []
   },
   "source": [
    "## Linear Regression"
   ]
  },
  {
   "cell_type": "code",
   "execution_count": 38,
   "id": "5c00bac9",
   "metadata": {
    "scrolled": false,
    "tags": []
   },
   "outputs": [
    {
     "data": {
      "text/plain": [
       "StatsModels.TableRegressionModel{LinearModel{GLM.LmResp{Vector{Float64}}, GLM.DensePredChol{Float64, LinearAlgebra.CholeskyPivoted{Float64, Matrix{Float64}, Vector{Int64}}}}, Matrix{Float64}}\n",
       "\n",
       "education ~ 1 + income\n",
       "\n",
       "Coefficients:\n",
       "─────────────────────────────────────────────────────────────────────────────\n",
       "                  Coef.   Std. Error     t  Pr(>|t|)    Lower 95%   Upper 95%\n",
       "─────────────────────────────────────────────────────────────────────────────\n",
       "(Intercept)  17.71       28.8738      0.61    0.5425  -40.3141     75.7342\n",
       "income        0.0553759   0.00882287  6.28    <1e-07    0.0376457   0.0731062\n",
       "─────────────────────────────────────────────────────────────────────────────"
      ]
     },
     "execution_count": 38,
     "metadata": {},
     "output_type": "execute_result"
    }
   ],
   "source": [
    "# Standard errors\n",
    "stderr(mod)"
   ]
  },
  {
   "cell_type": "code",
   "execution_count": 38,
   "id": "2135fa81",
   "metadata": {
    "scrolled": false,
    "tags": []
   },
   "outputs": [
    {
     "data": {
      "text/plain": [
       "StatsModels.TableRegressionModel{LinearModel{GLM.LmResp{Vector{Float64}}, GLM.DensePredChol{Float64, LinearAlgebra.CholeskyPivoted{Float64, Matrix{Float64}, Vector{Int64}}}}, Matrix{Float64}}\n",
       "\n",
       "education ~ 1 + income\n",
       "\n",
       "Coefficients:\n",
       "─────────────────────────────────────────────────────────────────────────────\n",
       "                  Coef.   Std. Error     t  Pr(>|t|)    Lower 95%   Upper 95%\n",
       "─────────────────────────────────────────────────────────────────────────────\n",
       "(Intercept)  17.71       28.8738      0.61    0.5425  -40.3141     75.7342\n",
       "income        0.0553759   0.00882287  6.28    <1e-07    0.0376457   0.0731062\n",
       "─────────────────────────────────────────────────────────────────────────────"
      ]
     },
     "execution_count": 38,
     "metadata": {},
     "output_type": "execute_result"
    }
   ],
   "source": [
    "# Predicted values for each state\n",
    "println(predict(mod))"
   ]
  },
  {
   "cell_type": "code",
   "execution_count": null,
   "id": "7e16d626",
   "metadata": {},
   "outputs": [],
   "source": [
    "# R2\n",
    "r2(mod)"
   ]
  },
  {
   "cell_type": "markdown",
   "id": "49ad2def",
   "metadata": {
    "slideshow": {
     "slide_type": "slide"
    },
    "tags": []
   },
   "source": [
    "## Linear Regression"
   ]
  },
  {
   "cell_type": "code",
   "execution_count": 38,
   "id": "4f59e57d",
   "metadata": {
    "scrolled": true,
    "tags": []
   },
   "outputs": [
    {
     "data": {
      "text/plain": [
       "StatsModels.TableRegressionModel{LinearModel{GLM.LmResp{Vector{Float64}}, GLM.DensePredChol{Float64, LinearAlgebra.CholeskyPivoted{Float64, Matrix{Float64}, Vector{Int64}}}}, Matrix{Float64}}\n",
       "\n",
       "education ~ 1 + income\n",
       "\n",
       "Coefficients:\n",
       "─────────────────────────────────────────────────────────────────────────────\n",
       "                  Coef.   Std. Error     t  Pr(>|t|)    Lower 95%   Upper 95%\n",
       "─────────────────────────────────────────────────────────────────────────────\n",
       "(Intercept)  17.71       28.8738      0.61    0.5425  -40.3141     75.7342\n",
       "income        0.0553759   0.00882287  6.28    <1e-07    0.0376457   0.0731062\n",
       "─────────────────────────────────────────────────────────────────────────────"
      ]
     },
     "execution_count": 38,
     "metadata": {},
     "output_type": "execute_result"
    }
   ],
   "source": [
    "fm = @formula(education ~ income + young)\n",
    "mod2 = lm(\n",
    "    fm,\n",
    "    educexp\n",
    ")"
   ]
  },
  {
   "cell_type": "markdown",
   "id": "511b8ef9",
   "metadata": {
    "slideshow": {
     "slide_type": "slide"
    },
    "tags": []
   },
   "source": [
    "## Linear Regression\n",
    "\n",
    "Your turn: Run the regression with all variables but states."
   ]
  },
  {
   "cell_type": "code",
   "execution_count": null,
   "id": "8c528403",
   "metadata": {},
   "outputs": [],
   "source": [
    "# Your code here"
   ]
  },
  {
   "cell_type": "markdown",
   "id": "d8eace45",
   "metadata": {
    "slideshow": {
     "slide_type": "slide"
    }
   },
   "source": [
    "# Questions?"
   ]
  },
  {
   "cell_type": "markdown",
   "id": "22d252e9",
   "metadata": {
    "slideshow": {
     "slide_type": "slide"
    }
   },
   "source": [
    "# See you next class\n"
   ]
  }
 ],
 "metadata": {
  "celltoolbar": "Slideshow",
  "citation-manager": {
   "items": {}
  },
  "kernelspec": {
   "display_name": "Julia 1.6.1",
   "language": "julia",
   "name": "julia-1.6"
  },
  "language_info": {
   "file_extension": ".jl",
   "mimetype": "application/julia",
   "name": "julia",
   "version": "1.6.1"
  }
 },
 "nbformat": 4,
 "nbformat_minor": 5
}
