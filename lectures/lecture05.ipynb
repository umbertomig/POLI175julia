{
 "cells": [
  {
   "cell_type": "markdown",
   "id": "66a1628f-0686-4f23-ad5f-600b9548fa45",
   "metadata": {
    "slideshow": {
     "slide_type": "slide"
    },
    "tags": []
   },
   "source": [
    "# POLI 175\n",
    "\n",
    "## Class 05 - More Julia and More Regression\n",
    "\n",
    "Dr. Umberto Mignozzetti\n",
    "\n",
    "UCSD"
   ]
  },
  {
   "cell_type": "markdown",
   "id": "1280d845",
   "metadata": {
    "slideshow": {
     "slide_type": "slide"
    }
   },
   "source": [
    "# Julia"
   ]
  },
  {
   "cell_type": "markdown",
   "id": "fbcba312-c4e8-43c7-adef-07535bb035cb",
   "metadata": {
    "slideshow": {
     "slide_type": "slide"
    },
    "tags": []
   },
   "source": [
    "## Load CSV files"
   ]
  },
  {
   "cell_type": "code",
   "execution_count": null,
   "id": "82e13551-f18f-491d-80fb-0621cf620083",
   "metadata": {
    "tags": []
   },
   "outputs": [],
   "source": [
    "# Load packages\n",
    "import Pkg; Pkg.add(\"LaTeXStrings\"); Pkg.add(\"StatsPlots\")\n",
    "using CSV, DataFrames, Plots, GLM, StatsBase, Random, LaTeXStrings, StatsPlots\n",
    "\n",
    "# Auxiliar function\n",
    "function pairplot(df)\n",
    "    _, cols = size(df)\n",
    "    plots = []\n",
    "    for row = 1:cols, col = 1:cols\n",
    "        push!(\n",
    "            plots,\n",
    "            scatter(\n",
    "                df[:, row],\n",
    "                df[:, col],\n",
    "                xtickfont = font(4),\n",
    "                ytickfont = font(4),\n",
    "                legend = false,\n",
    "            ),\n",
    "        )\n",
    "    end\n",
    "    plot(plots..., layout = (cols, cols))\n",
    "end"
   ]
  },
  {
   "cell_type": "code",
   "execution_count": null,
   "id": "2c223123-52b3-4cd8-871c-58b578658e08",
   "metadata": {
    "tags": []
   },
   "outputs": [],
   "source": [
    "# Loading Prestige dataset\n",
    "urldat = \"https://raw.githubusercontent.com/umbertomig/POLI175julia/main/data/Duncan.csv\"\n",
    "dat = CSV.read(download(urldat), DataFrame)"
   ]
  },
  {
   "cell_type": "markdown",
   "id": "a8b7a9df-1935-4595-a2b2-e05e71a8cf8b",
   "metadata": {
    "slideshow": {
     "slide_type": "slide"
    },
    "tags": []
   },
   "source": [
    "## Exploring"
   ]
  },
  {
   "cell_type": "code",
   "execution_count": null,
   "id": "d265cc5e-080f-40ac-aa61-acb2e5106874",
   "metadata": {
    "tags": []
   },
   "outputs": [],
   "source": [
    "# Dataset dimension\n",
    "size(dat)"
   ]
  },
  {
   "cell_type": "code",
   "execution_count": null,
   "id": "93584f50-21a1-48e5-9995-4c8dd59a8353",
   "metadata": {
    "tags": []
   },
   "outputs": [],
   "source": [
    "# Column names\n",
    "names(dat)"
   ]
  },
  {
   "cell_type": "markdown",
   "id": "5775443a-b84e-4149-9f03-1d75506d12b0",
   "metadata": {
    "slideshow": {
     "slide_type": "slide"
    },
    "tags": []
   },
   "source": [
    "## Exploring"
   ]
  },
  {
   "cell_type": "code",
   "execution_count": null,
   "id": "b8d1c10d-05ac-4939-a477-d195d0c2110d",
   "metadata": {
    "tags": []
   },
   "outputs": [],
   "source": [
    "# Head\n",
    "first(dat, 3)"
   ]
  },
  {
   "cell_type": "code",
   "execution_count": null,
   "id": "3d87eaab-d73d-49fe-828c-a3d5b7e3cfb0",
   "metadata": {
    "tags": []
   },
   "outputs": [],
   "source": [
    "# Tail\n",
    "last(dat, 3)"
   ]
  },
  {
   "cell_type": "markdown",
   "id": "d340353f-de0f-44c4-ad2d-0f2d7a6f2235",
   "metadata": {
    "slideshow": {
     "slide_type": "slide"
    },
    "tags": []
   },
   "source": [
    "## Exploring"
   ]
  },
  {
   "cell_type": "code",
   "execution_count": null,
   "id": "dd5ee98d-c709-4a21-a4c6-8b45e3022c63",
   "metadata": {
    "tags": []
   },
   "outputs": [],
   "source": [
    "describe(dat)"
   ]
  },
  {
   "cell_type": "markdown",
   "id": "243e38f9",
   "metadata": {
    "slideshow": {
     "slide_type": "slide"
    }
   },
   "source": [
    "# Regression Analysis"
   ]
  },
  {
   "cell_type": "markdown",
   "id": "39960d02",
   "metadata": {
    "slideshow": {
     "slide_type": "slide"
    }
   },
   "source": [
    "# Regression\n",
    "\n",
    "A few questions about `prestige`:\n",
    "\n",
    "1. Is there a relationship between `prestige` and `income`?\n",
    "1. How strong is the relationship between `prestige` and `income`?\n",
    "1. Which variables are associated with `prestige`?\n",
    "1. How can we accurately predict the prestige of professions not studied in this survey?\n",
    "1. Is the relationship linear?\n",
    "1. Is there a synergy among predictors?"
   ]
  },
  {
   "cell_type": "markdown",
   "id": "456be65d",
   "metadata": {
    "slideshow": {
     "slide_type": "slide"
    }
   },
   "source": [
    "## Simple Linear Regression\n",
    "\n",
    "### Is there a relationship between `prestige` and `income`?"
   ]
  },
  {
   "cell_type": "code",
   "execution_count": null,
   "id": "df840dbe",
   "metadata": {},
   "outputs": [],
   "source": [
    "scatter(\n",
    "    dat.income, dat.prestige,\n",
    "    xlabel = \"Income\", ylabel = \"Prestige\",\n",
    "    series_annotations = text.(dat.profession, :bottom, 8),\n",
    "    legend = false\n",
    ")"
   ]
  },
  {
   "cell_type": "markdown",
   "id": "f4f74c7e",
   "metadata": {
    "slideshow": {
     "slide_type": "slide"
    }
   },
   "source": [
    "## Simple Linear Regression\n",
    "\n",
    "### Is there a relationship between `prestige` and `income`?\n",
    "\n",
    "$$ \\widehat{prestige}_i = \\widehat{\\beta}_0 + \\widehat{\\beta}_1 income_i $$"
   ]
  },
  {
   "cell_type": "code",
   "execution_count": null,
   "id": "7d858381-3097-4a8d-8632-1efd7c42ad59",
   "metadata": {
    "scrolled": true,
    "tags": []
   },
   "outputs": [],
   "source": [
    "mod = lm(@formula(prestige ~ income), dat)"
   ]
  },
  {
   "cell_type": "markdown",
   "id": "edb0f584",
   "metadata": {
    "slideshow": {
     "slide_type": "-"
    }
   },
   "source": [
    "Now, where to look to decide if there is a relationship between both?"
   ]
  },
  {
   "cell_type": "markdown",
   "id": "ed328f76",
   "metadata": {
    "slideshow": {
     "slide_type": "slide"
    }
   },
   "source": [
    "## Simple Linear Regression\n",
    "\n",
    "### Is there a relationship between `prestige` and `income`?\n",
    "\n",
    "**Coefficient:** Is it statistically equal or different than zero?\n",
    "\n",
    "I bet this sound silly... You may be thinking: \"What do you mean? I see a 2.46 and a 1.08 there. They are different than zero.\"\n",
    "\n",
    "Not true. Let me cook some data to show you."
   ]
  },
  {
   "cell_type": "code",
   "execution_count": null,
   "id": "8b2778c4",
   "metadata": {},
   "outputs": [],
   "source": [
    "# No relationship between X and Y\n",
    "Random.seed!(12345)\n",
    "df = DataFrame(x = randn(10), y = randn(10))\n",
    "lm(@formula(x ~ y), df)"
   ]
  },
  {
   "cell_type": "code",
   "execution_count": null,
   "id": "5a6c5066",
   "metadata": {},
   "outputs": [],
   "source": [
    "# Again, no relationship between X and Y\n",
    "df = DataFrame(x = randn(10), y = randn(10))\n",
    "lm(@formula(x ~ y), df)"
   ]
  },
  {
   "cell_type": "markdown",
   "id": "3c890012",
   "metadata": {
    "slideshow": {
     "slide_type": "slide"
    }
   },
   "source": [
    "## Simple Linear Regression\n",
    "\n",
    "### Is there a relationship between `prestige` and `income`?\n",
    "\n",
    "We need to know how precise are our coefficients. We find that by computing the `standard errors`.\n",
    "\n",
    "$$ SE(\\hat{\\beta}_0) = \\sqrt{\\sigma^2\\left[\\dfrac{1}{n} + \\dfrac{\\overline{x}^2}{\\sum_i(x_i-\\overline{x})^2}\\right]}\\ , \\quad SE(\\hat{\\beta}_1) = \\sqrt{\\dfrac{\\sigma^2}{\\sum_i(x_i-\\overline{x})^2}}$$\n",
    "\n",
    "If our coefficients are normally distributed, with mean = coeff and variance equals the square of the standard error. We can benchmark how common is it that we see a \"zero\" relationship!"
   ]
  },
  {
   "cell_type": "code",
   "execution_count": null,
   "id": "6a0667ac",
   "metadata": {
    "slideshow": {
     "slide_type": "-"
    }
   },
   "outputs": [],
   "source": [
    "#= \n",
    "First cooked regression, repeated 100 \n",
    "times under the same parameters found\n",
    "=#\n",
    "Random.seed!(12345)  \n",
    "p1 = histogram(-0.277385 .+ (0.290078 .* randn(100)))\n",
    "vline!([-0.277385, 0], linewidth = 4)\n",
    "p2 = histogram(-0.487333 .+ (0.255324 .* randn(100)))\n",
    "vline!([-0.487333, 0], linewidth = 4)\n",
    "plot(p1, p2, layout = (1, 2))"
   ]
  },
  {
   "cell_type": "markdown",
   "id": "507227a3",
   "metadata": {
    "slideshow": {
     "slide_type": "slide"
    }
   },
   "source": [
    "## Simple Linear Regression\n",
    "\n",
    "### Is there a relationship between `prestige` and `income`?\n",
    "\n",
    "***Question:*** How common is zero in the 100 trials?"
   ]
  },
  {
   "cell_type": "code",
   "execution_count": null,
   "id": "f1809887",
   "metadata": {
    "slideshow": {
     "slide_type": "-"
    }
   },
   "outputs": [],
   "source": [
    "#= \n",
    "Second cooked regression, repeated 100 \n",
    "times under the same parameters found\n",
    "=#\n",
    "Random.seed!(12345)\n",
    "p1 = histogram(-0.106654 .+ (0.175614 .* randn(100)))\n",
    "vline!([-0.106654, 0], linewidth = 4)\n",
    "p2 = histogram(0.169026 .+ (0.227732 .* randn(100)))\n",
    "vline!([0.169026, 0], linewidth = 4)\n",
    "plot(p1, p2, layout = (1, 2))"
   ]
  },
  {
   "cell_type": "markdown",
   "id": "5abe3489",
   "metadata": {
    "slideshow": {
     "slide_type": "slide"
    }
   },
   "source": [
    "## Simple Linear Regression\n",
    "\n",
    "### Is there a relationship between `prestige` and `income`?\n",
    "\n",
    "Now we can answer this question:"
   ]
  },
  {
   "cell_type": "code",
   "execution_count": null,
   "id": "46f725c8",
   "metadata": {
    "scrolled": false,
    "tags": []
   },
   "outputs": [],
   "source": [
    "mod = lm(@formula(prestige ~ income), dat)"
   ]
  },
  {
   "cell_type": "code",
   "execution_count": null,
   "id": "f089ed57",
   "metadata": {
    "slideshow": {
     "slide_type": "slide"
    }
   },
   "outputs": [],
   "source": [
    "Random.seed!(12345)\n",
    "p1 = histogram(2.45657 .+ (5.19006 .* randn(100)), label = latexstring(\"\\\\widehat{\\\\beta}_0\"))\n",
    "vline!([2.45657, 0], linewidth = 4, label = latexstring(\"\\\\widehat{\\\\beta}_0\"))\n",
    "p2 = histogram(1.08039 .+ (0.107369 .* randn(100)), label = latexstring(\"\\\\widehat{\\\\beta}_1\"))\n",
    "vline!([1.08039, 0], linewidth = 4, label = latexstring(\"\\\\widehat{\\\\beta}_1\"))\n",
    "plot(p1, p2, layout = (1, 2))"
   ]
  },
  {
   "cell_type": "markdown",
   "id": "93d60693",
   "metadata": {
    "slideshow": {
     "slide_type": "slide"
    }
   },
   "source": [
    "# Regression\n",
    "\n",
    "## Simple Linear Regression\n",
    "\n",
    "A few questions about `prestige`:\n",
    "\n",
    "1. *Is there a relationship between `prestige` and `income`?* **Yes!**\n",
    "1. How strong is the relationship between `prestige` and `income`?\n",
    "1. Which variables are associated with `prestige`?\n",
    "1. How can we accurately predict the prestige of professions not studied in this survey?\n",
    "1. Is the relationship linear?\n",
    "1. Is there a synergy among predictors?\n",
    "\n",
    "\n",
    "## Simple Linear Regression\n",
    "\n",
    "### Estimation\n",
    "\n",
    "- Actual value:\n",
    "\n",
    "$$ y_i = \\hat{y}_i + e_i = \\hat{\\beta}_0 + \\hat{\\beta}_1 x_i + e_i $$\n",
    "\n",
    "- And `best` here will mean that we minimized the **residuals sum of squares**:\n",
    "\n",
    "$$ RSS \\ = \\ e_1^2 + e_2^2 + \\cdots + e_n^2 $$\n",
    "\n",
    "- It is a well-behaved function on $\\hat{\\beta}_0$ and $\\hat{\\beta}_1$.\n",
    "\n",
    "## Simple Linear Regression\n",
    "\n",
    "### Estimation\n",
    "\n",
    "- With simple optimization, we can find the $\\hat{\\beta}$s that minimize this.\n",
    "\n",
    "![reg](https://github.com/umbertomig/POLI175julia/blob/e0a55ce2350643ed200a482a3581479c6a8e3f74/img/fig2.png?raw=true)"
   ]
  },
  {
   "cell_type": "markdown",
   "id": "a975ebe3",
   "metadata": {
    "slideshow": {
     "slide_type": "slide"
    }
   },
   "source": [
    "## Simple Linear Regression\n",
    "\n",
    "### How strong is the relationship between `prestige` and `income`?\n",
    "\n",
    "There are three ways to study this question in the regression framework:\n",
    "\n",
    "1. What is the magnitude of the effect?\n",
    "1. Are there bounds for the effects? What are they?\n",
    "1. What proportion of variation in prestige that may be explained by income?"
   ]
  },
  {
   "cell_type": "markdown",
   "id": "7d7fd2e3",
   "metadata": {
    "slideshow": {
     "slide_type": "slide"
    }
   },
   "source": [
    "## Simple Linear Regression\n",
    "\n",
    "### How strong is the relationship between `prestige` and `income`?\n",
    "\n",
    "What is the magnitude of the effect?"
   ]
  },
  {
   "cell_type": "code",
   "execution_count": null,
   "id": "e51f975e",
   "metadata": {},
   "outputs": [],
   "source": [
    "scatter(dat.income, dat.prestige, xlabel = \"Income\", \n",
    "    ylabel = \"Prestige\", smooth = :true, legend = false)\n",
    "annotate!(20, 70, \n",
    "    latexstring(\"\\\\widehat{pr} = $(round(coef(mod)[1], digits = 2)) + \\\\textbf{$(round(coef(mod)[2], digits = 2))}inc\"), :darkblue)"
   ]
  },
  {
   "cell_type": "markdown",
   "id": "67a594bc",
   "metadata": {
    "slideshow": {
     "slide_type": "slide"
    }
   },
   "source": [
    "## Simple Linear Regression\n",
    "\n",
    "### Assessing the accuracy of the whole model\n",
    "\n",
    "$R^2$: Measure of goodness-of-fit.\n",
    "\n",
    "It is widely used because it is between zero and one.\n",
    "\n",
    "The proportion of the variability of $Y$ that is explained by modeling it using $X$.\n",
    "\n",
    "It is defined as:\n",
    "\n",
    "$$ \\text{R}^2 \\ = \\ \\dfrac{TSS - RSS}{TSS} \\  = \\ 1 - \\dfrac{RSS}{TSS} $$\n",
    "\n",
    "And the total sum of squares is defined as $TSS = \\sum_i(y_i-\\overline{y})^2$. \n",
    "\n",
    "The higher the $R^2$, the better."
   ]
  },
  {
   "cell_type": "code",
   "execution_count": null,
   "id": "0bf6629f",
   "metadata": {},
   "outputs": [],
   "source": [
    "r2(mod)"
   ]
  },
  {
   "cell_type": "code",
   "execution_count": null,
   "id": "373544de",
   "metadata": {},
   "outputs": [],
   "source": [
    "# Alternatively\n",
    "TSS = sum((dat.prestige .- mean(dat.prestige)).^2)\n",
    "RSS = sum((residuals(mod)).^2)\n",
    "1 - RSS / TSS"
   ]
  },
  {
   "cell_type": "markdown",
   "id": "923b83c4",
   "metadata": {
    "slideshow": {
     "slide_type": "slide"
    }
   },
   "source": [
    "## Simple Linear Regression\n",
    "\n",
    "### Assessing the accuracy of the whole model\n",
    "\n",
    "#### RMSE\n",
    "\n",
    "The residual standard error (root mean squared error) is one of the best measures of the fit quality.\n",
    "\n",
    "As we said in the second class, it is the criterium we use for most Supervised Machine Learning models.\n",
    "\n",
    "It is defined as:\n",
    "\n",
    "$$ \\text{RMSE (or RSE)} \\ = \\ \\sqrt{\\dfrac{RSS}{n-2}} \\ = \\ \\sqrt{\\dfrac{\\sum_i(y_i - \\hat{y}_i)^2}{n-2}} $$\n",
    "\n",
    "The lower, the better."
   ]
  },
  {
   "cell_type": "code",
   "execution_count": null,
   "id": "0635d510",
   "metadata": {},
   "outputs": [],
   "source": [
    "# MSE\n",
    "RSS/dof_residual(mod)"
   ]
  },
  {
   "cell_type": "code",
   "execution_count": null,
   "id": "044bf016",
   "metadata": {},
   "outputs": [],
   "source": [
    "# RMSE\n",
    "sqrt(RSS/dof_residual(mod))"
   ]
  },
  {
   "cell_type": "markdown",
   "id": "e9545cea",
   "metadata": {
    "slideshow": {
     "slide_type": "slide"
    }
   },
   "source": [
    "## Simple Linear Regression\n",
    "\n",
    "### How strong is the relationship between `prestige` and `income`?\n",
    "\n",
    "What is the magnitude of the effect? + What proportion of variation in prestige that may be explained by income?"
   ]
  },
  {
   "cell_type": "code",
   "execution_count": null,
   "id": "93f70ed8",
   "metadata": {},
   "outputs": [],
   "source": [
    "scatter(dat.income, dat.prestige, xlabel = \"Income\", \n",
    "    ylabel = \"Prestige\", smooth = :true, legend = false)\n",
    "annotate!(20, 70, \n",
    "    latexstring(\"\\\\widehat{pr} = $(round(coef(mod)[1], digits = 2)) + $(round(coef(mod)[2], digits = 2))inc\"), :darkblue)\n",
    "annotate!(20, 60, \n",
    "    latexstring(\"R^2 = $(round(r2(mod), digits = 3))\"), :darkblue)"
   ]
  },
  {
   "cell_type": "markdown",
   "id": "c07dcf17",
   "metadata": {
    "slideshow": {
     "slide_type": "slide"
    }
   },
   "source": [
    "## Simple Linear Regression\n",
    "\n",
    "### How strong is the relationship between `prestige` and `income`?\n",
    "\n",
    "Are there bounds for the effects? What are they?\n",
    "\n",
    "The natural bound for our estimates is called `confidence interval`.\n",
    "\n",
    "A 95% confidence interval looks like this:\n",
    "\n",
    "$$ \\hat{\\beta}_k \\pm 1.96 \\times SE(\\hat{\\beta}_k) $$\n",
    "\n",
    "You may use the number 2 instead of 1.96. This number would change depending on the confidence levels you choose: 95% = 1.96; 90% = 1.645; 99% = 2.807, etc.."
   ]
  },
  {
   "cell_type": "code",
   "execution_count": null,
   "id": "d86f0186",
   "metadata": {},
   "outputs": [],
   "source": [
    "mod"
   ]
  },
  {
   "cell_type": "code",
   "execution_count": null,
   "id": "9a1c767d",
   "metadata": {},
   "outputs": [],
   "source": [
    "round.(confint(mod), digits = 3)"
   ]
  },
  {
   "cell_type": "markdown",
   "id": "abbc3d59",
   "metadata": {
    "slideshow": {
     "slide_type": "slide"
    }
   },
   "source": [
    "## Simple Linear Regression\n",
    "\n",
    "### How strong is the relationship between `prestige` and `income`?\n",
    "\n",
    "What is the magnitude of the effect? + What proportion of variation in prestige that may be explained by income? + Effect bounds\n",
    "\n",
    "About Confidence x Predition intervals, see [this](https://real-statistics.com/regression/confidence-and-prediction-intervals/).\n"
   ]
  },
  {
   "cell_type": "code",
   "execution_count": null,
   "id": "548c1d29",
   "metadata": {},
   "outputs": [],
   "source": [
    "scatter(dat.income, dat.prestige, xlabel = \"Income\", \n",
    "    ylabel = \"Prestige\", smooth = :true, legend = :bottomright)\n",
    "pred = DataFrame(income = minimum(dat.income .- 2):0.01:maximum(dat.income .+ 2));\n",
    "pr = predict(mod, pred, interval = :confidence, level = 0.95)\n",
    "plot!(pred.income, pr.prediction, label=\"confidence\", linewidth=3, seriesalpha = 0.2,\n",
    "        ribbon = (pr.prediction .- pr.lower, pr.upper .- pr.prediction), color = :red)\n",
    "pr = predict(mod, pred, interval = :prediction, level = 0.95)\n",
    "plot!(pred.income, pr.prediction, label=\"prediction\", linewidth=3, seriesalpha = 0.2,\n",
    "        ribbon = (pr.prediction .- pr.lower, pr.upper .- pr.prediction), color = :purple)\n",
    "annotate!(20, 110, \n",
    "    latexstring(\"\\\\widehat{pr} = $(round(coef(mod)[1], digits = 2)) + $(round(coef(mod)[2], digits = 2))inc\"), :darkblue)\n",
    "annotate!(20, 100, \n",
    "    latexstring(\"R^2 = $(round(r2(mod), digits = 3))\"), :darkblue)"
   ]
  },
  {
   "cell_type": "markdown",
   "id": "7c126166",
   "metadata": {
    "slideshow": {
     "slide_type": "slide"
    }
   },
   "source": [
    "# Regression\n",
    "\n",
    "## Simple Linear Regression\n",
    "\n",
    "A few questions about `prestige`:\n",
    "\n",
    "1. *Is there a relationship between `prestige` and `income`?* **Yes!**\n",
    "1. *How strong is the relationship between `prestige` and `income`?* **I'd say strong, but no baseline makes it harder for a good comparison**.\n",
    "1. Which variables are associated with `prestige`?\n",
    "1. How can we accurately predict the prestige of professions not studied in this survey?\n",
    "1. Is the relationship linear?\n",
    "1. Is there a synergy among predictors?"
   ]
  },
  {
   "cell_type": "markdown",
   "id": "6629990c",
   "metadata": {
    "slideshow": {
     "slide_type": "slide"
    }
   },
   "source": [
    "## Multiple Linear Regression\n",
    "\n",
    "- We use multiple linear regression when we have multiple predictors for the same outcome variable.\n",
    "\n",
    "- Let:\n",
    "    + $y_i$ the variable we want to predict\n",
    "    + $x_{ik}$ are the variables we will use to make the prediction.\n",
    "    + $p$: number of predictors.\n",
    "    + And if we assume a linear relationship, we want to find a slope $\\beta_1$ and an intercept $\\beta_0$.\n",
    "    + $n$ the number of observations\n",
    "    + $i$ a given observation\n",
    "    + $k$ and $l$: given predictors\n",
    "    + Thus:\n",
    "    \n",
    "$$ y_i \\ = \\ \\beta_0 + \\beta_1x_{i1} + \\beta_2x_{i2} + \\cdots + \\beta_px_{ip} + \\varepsilon $$"
   ]
  },
  {
   "cell_type": "markdown",
   "id": "ddcdda5f",
   "metadata": {
    "slideshow": {
     "slide_type": "slide"
    }
   },
   "source": [
    "### Estimation\n",
    "\n",
    "- And the residual sum of squares is defined similarly as before, but we optimize over more parameters:\n",
    "\n",
    "$$ \\text{RSS} \\ = \\ \\sum_ie_i^2 \\ = \\ \\sum_i(y_i - \\hat{\\beta}_0 - \\hat{\\beta}_1x_{i1} - \\cdots - \\hat{\\beta}_px_{ip})^2 $$\n",
    "\n",
    "![reg](https://github.com/umbertomig/POLI175julia/blob/e0a55ce2350643ed200a482a3581479c6a8e3f74/img/fig4.png?raw=true)"
   ]
  },
  {
   "cell_type": "markdown",
   "id": "5e7eac96",
   "metadata": {
    "slideshow": {
     "slide_type": "slide"
    }
   },
   "source": [
    "## Multiple Linear Regression\n",
    "\n",
    "Let us cook the following model:\n",
    "\n",
    "$$ y_i = 1 + 5x_{1i} - 10.5 x_{2i} + \\varepsilon_i $$"
   ]
  },
  {
   "cell_type": "code",
   "execution_count": null,
   "id": "212371e9",
   "metadata": {},
   "outputs": [],
   "source": [
    "Random.seed!(4321)\n",
    "df = DataFrame(x1 = rand(100), x2 = rand(100))\n",
    "df.y = 1 .+ 5 .* df.x1 .- 10.5 .* df.x2 .+ randn(100)\n",
    "describe(df)"
   ]
  },
  {
   "cell_type": "code",
   "execution_count": null,
   "id": "3d8475d3",
   "metadata": {},
   "outputs": [],
   "source": [
    "pairplot(df)"
   ]
  },
  {
   "cell_type": "markdown",
   "id": "b76fd909",
   "metadata": {
    "slideshow": {
     "slide_type": "slide"
    }
   },
   "source": [
    "## Multiple Linear Regression\n",
    "\n",
    "A simple regression would give us:"
   ]
  },
  {
   "cell_type": "code",
   "execution_count": null,
   "id": "535d9411",
   "metadata": {},
   "outputs": [],
   "source": [
    "cookm = lm(@formula(y ~ x1 + x2), df)"
   ]
  },
  {
   "cell_type": "markdown",
   "id": "73fb90a9",
   "metadata": {},
   "source": [
    "Interpretation?"
   ]
  },
  {
   "cell_type": "markdown",
   "id": "b526c4d8",
   "metadata": {
    "slideshow": {
     "slide_type": "slide"
    }
   },
   "source": [
    "# Regression\n",
    "\n",
    "## Simple Linear Regression\n",
    "\n",
    "A few questions about `prestige`:\n",
    "\n",
    "1. *Is there a relationship between `prestige` and `income`?* **Yes!**\n",
    "1. *How strong is the relationship between `prestige` and `income`?* **I'd say strong, but no baseline makes it harder for a good comparison**.\n",
    "1. Which variables are associated with `prestige`?\n",
    "1. How can we accurately predict the prestige of professions not studied in this survey?\n",
    "1. Is the relationship linear?\n",
    "1. Is there a synergy among predictors?"
   ]
  },
  {
   "cell_type": "markdown",
   "id": "e661f74a",
   "metadata": {
    "slideshow": {
     "slide_type": "slide"
    }
   },
   "source": [
    "# Regression\n",
    "\n",
    "## Which variables are associated with `prestige`?"
   ]
  },
  {
   "cell_type": "code",
   "execution_count": null,
   "id": "c4f546f9",
   "metadata": {},
   "outputs": [],
   "source": [
    "pairplot(dat[:, Not(\"profession\")])"
   ]
  },
  {
   "cell_type": "markdown",
   "id": "4c95e614",
   "metadata": {
    "slideshow": {
     "slide_type": "slide"
    }
   },
   "source": [
    "# Regression\n",
    "\n",
    "## Which variables are associated with `prestige`?\n",
    "\n",
    "Let's try `income` and the `type` of the profession:"
   ]
  },
  {
   "cell_type": "code",
   "execution_count": null,
   "id": "e624bd17",
   "metadata": {},
   "outputs": [],
   "source": [
    "mod2 = lm(@formula(prestige ~ income + type), dat)"
   ]
  },
  {
   "cell_type": "markdown",
   "id": "d44c985b",
   "metadata": {
    "slideshow": {
     "slide_type": "slide"
    }
   },
   "source": [
    "# Regression\n",
    "\n",
    "## Which variables are associated with `prestige`?\n",
    "\n",
    "Is this model better than the previous one?\n",
    "\n",
    "### F-Statistic\n",
    "\n",
    "The F-Statistic tests whether at least one predictor is different from zero. The null hypothesis is:\n",
    "\n",
    "$$ H_0: \\ \\beta_1 = \\beta_2 = \\cdots = \\beta_p = 0 $$\n",
    "\n",
    "The alternative hypothesis is:\n",
    "\n",
    "$$ H_a: \\ \\exists k \\in \\{1, \\cdots, p\\}, \\ s.t. \\ \\beta_k \\neq 0 $$\n",
    "\n",
    "The F-Statistic is equal to:\n",
    "\n",
    "$$ \\text{F} \\ = \\ \\dfrac{\\frac{TSS-RSS}{p}}{\\frac{RSS}{n-p-1}} \\ \\sim \\ F(p, n-p-1) $$"
   ]
  },
  {
   "cell_type": "markdown",
   "id": "42338272",
   "metadata": {
    "slideshow": {
     "slide_type": "slide"
    }
   },
   "source": [
    "## Which variables are associated with `prestige`?\n",
    "\n",
    "### F-Statistic\n",
    "\n",
    "Why is this a good test? Because under the null hypothesis:\n",
    "\n",
    "$$ \\mathbb{E}\\left[\\dfrac{TSS-RSS}{p}\\right] = \\mathbb{E}\\left[\\dfrac{RSS}{n-p-1}\\right] = \\sigma^2 $$\n",
    "\n",
    "And so, $F \\approx 1$ under $H_0$."
   ]
  },
  {
   "cell_type": "code",
   "execution_count": null,
   "id": "6124bbcc",
   "metadata": {},
   "outputs": [],
   "source": [
    "ftest(mod2.model)"
   ]
  },
  {
   "cell_type": "markdown",
   "id": "a81fba1b",
   "metadata": {
    "slideshow": {
     "slide_type": "slide"
    }
   },
   "source": [
    "## Which variables are associated with `prestige`?\n",
    "\n",
    "But the best thing about F is that it allows us to compare two models, and check if we improved when moving from one to the other.\n",
    "\n",
    "In this case, we can question: Are we improving our fitting when adding `type` of profession to our model?"
   ]
  },
  {
   "cell_type": "markdown",
   "id": "e7847b38-b837-4e57-b031-721c2ca7eb69",
   "metadata": {
    "slideshow": {
     "slide_type": "slide"
    },
    "tags": []
   },
   "source": [
    "## Which variables are associated with `prestige`?\n",
    "\n",
    "### F-Statistic for model selection\n",
    "\n",
    "Suppose we have $\\{1, \\cdots, l \\}$ predictors, but we could add $\\{l+1, \\cdots, p \\}$ extra predictors to our model.\n",
    "\n",
    "We can test the *RSS of the restricted model* against the RSS of the full model*.\n",
    "\n",
    "The null hypothesis is:\n",
    "\n",
    "$$ H_0: \\ \\beta_{l+1} = \\cdots = \\beta_{p} = 0 $$\n",
    "\n",
    "And the F-Stat:\n",
    "\n",
    "$$ \\text{F} \\ = \\ \\dfrac{\\frac{RSS_0-RSS}{p-l}}{\\frac{RSS}{n-p-1}} \\ \\sim \\ F(p-l, n-p-1) $$"
   ]
  },
  {
   "cell_type": "code",
   "execution_count": null,
   "id": "165244e0-1031-4b0c-95ba-89dd00c5c0e8",
   "metadata": {
    "tags": []
   },
   "outputs": [],
   "source": [
    "ftest(mod.model, mod2.model)"
   ]
  },
  {
   "cell_type": "markdown",
   "id": "6c739d2f-3a0a-4090-993e-690d1c1c3038",
   "metadata": {
    "slideshow": {
     "slide_type": "slide"
    },
    "tags": []
   },
   "source": [
    "## Which variables are associated with `prestige`?\n",
    "\n",
    "Your turn. Add `education` and study the result.\n",
    "\n",
    "1. How to interpret it?\n",
    "1. Run the F-test. Any improvements?\n",
    "1. Answer the main Q: ***Which variables are associated with `prestige`?***"
   ]
  },
  {
   "cell_type": "code",
   "execution_count": null,
   "id": "5c00bac9",
   "metadata": {
    "scrolled": false,
    "tags": []
   },
   "outputs": [],
   "source": [
    "# Your code here"
   ]
  },
  {
   "cell_type": "markdown",
   "id": "d8eace45",
   "metadata": {
    "slideshow": {
     "slide_type": "slide"
    }
   },
   "source": [
    "# Questions?"
   ]
  },
  {
   "cell_type": "markdown",
   "id": "22d252e9",
   "metadata": {
    "slideshow": {
     "slide_type": "slide"
    }
   },
   "source": [
    "# See you next class\n"
   ]
  }
 ],
 "metadata": {
  "celltoolbar": "Slideshow",
  "citation-manager": {
   "items": {}
  },
  "kernelspec": {
   "display_name": "Julia 1.9.2",
   "language": "julia",
   "name": "julia-1.9"
  },
  "language_info": {
   "file_extension": ".jl",
   "mimetype": "application/julia",
   "name": "julia",
   "version": "1.9.2"
  }
 },
 "nbformat": 4,
 "nbformat_minor": 5
}
