{
 "cells": [
  {
   "cell_type": "markdown",
   "id": "66a1628f-0686-4f23-ad5f-600b9548fa45",
   "metadata": {
    "slideshow": {
     "slide_type": "slide"
    },
    "tags": []
   },
   "source": [
    "# POLI 175\n",
    "\n",
    "## Class 01 - Introduction\n",
    "\n",
    "Dr. Umberto Mignozzetti\n",
    "\n",
    "UCSD"
   ]
  },
  {
   "cell_type": "markdown",
   "id": "1c5a9773",
   "metadata": {
    "slideshow": {
     "slide_type": "slide"
    }
   },
   "source": [
    "## Introduction\n",
    "\n",
    "Welcome! This is **POLI 175 - Machine Learning for Social Scientists**\n",
    "\n",
    "We are in the age of data-driven decisions. \n",
    "\n",
    "Every day, we produce 2.5 quintillion bytes of data.\n",
    "\n",
    "But how much is that?"
   ]
  },
  {
   "cell_type": "markdown",
   "id": "59aa1253",
   "metadata": {
    "slideshow": {
     "slide_type": "slide"
    }
   },
   "source": [
    "## Introduction\n",
    "\n",
    "My computer is competent. \n",
    "\n",
    "It is (relatively) new, fast, and reliable. It is capable of storing 1.0 Terabytes.\n",
    "\n",
    "But one quintillion bytes is equal to 1,000,000 Terabytes.\n",
    "\n",
    "***Every day, we produce the equivalent of 2.5 million computers like mine of data!***"
   ]
  },
  {
   "cell_type": "markdown",
   "id": "819d3163",
   "metadata": {
    "slideshow": {
     "slide_type": "slide"
    }
   },
   "source": [
    "## Introduction\n",
    "\n",
    "This is popularly known as *Big Data*.\n",
    "\n",
    "However, data per se means nothing! Big data is just a passive description of the world we live in now.\n",
    "\n",
    "To prove that, try to take a large dataset and learn something from it.\n",
    "\n",
    "If you want inspiration, take all your pictures and try to create coherent slides of moments of your life."
   ]
  },
  {
   "cell_type": "markdown",
   "id": "e45f26ab",
   "metadata": {
    "slideshow": {
     "slide_type": "slide"
    }
   },
   "source": [
    "## Introduction\n",
    "\n",
    "This will be hard and time-consuming. You would spend days doing it.\n",
    "\n",
    "But interestingly, your phone does that to you every day.\n",
    "\n",
    "Almost every week, I open up my iPhone, and it shows me a slide show with music and pictures of my family and me.\n",
    "\n",
    "How does it do that? Machine Learning!"
   ]
  },
  {
   "cell_type": "markdown",
   "id": "afed4070",
   "metadata": {
    "slideshow": {
     "slide_type": "slide"
    }
   },
   "source": [
    "## Introduction\n",
    "\n",
    "> *Machine Learning is a branch of Artificial Intelligence that uses **data** and **algorithms** to imitate how humans learn (IBM).*\n",
    "\n",
    "**Algorithm**: Short for *recipe*: If you bake a cake, you are following an algorithm.\n",
    "\n",
    "**Data**: Can be anything: tables, videos, pictures, sounds, texts, etc.\n",
    "\n",
    "**And note the intent:** *Learn* here means both make sense of things, uncover patterns, and predict things."
   ]
  },
  {
   "cell_type": "markdown",
   "id": "6d048e05",
   "metadata": {
    "slideshow": {
     "slide_type": "slide"
    }
   },
   "source": [
    "## Introduction\n",
    "\n",
    "How can we use this as Social Scientists?\n",
    "\n",
    "- Communications: [Fake News Detection](https://iopscience.iop.org/article/10.1088/1757-899X/1099/1/012040/meta)\n",
    "    \n",
    "- Economics: [Warning systems for welfare](https://onlinelibrary.wiley.com/doi/abs/10.1111/obes.12550)\n",
    "\n",
    "- Environmental Sciences: [Forest fire detection](https://www.mdpi.com/1999-4907/12/2/217)\n",
    "\n",
    "- Political Science: [Prediction of Civil Wars](https://journals.sagepub.com/doi/full/10.1177/0022002720918923)\n",
    "\n",
    "- Sociology: [Racial bias in algorithms](https://www.emerald.com/insight/content/doi/10.1108/JICES-06-2018-0056/full/html)\n",
    "    \n",
    "And so on..."
   ]
  },
  {
   "attachments": {},
   "cell_type": "markdown",
   "id": "bf98add8",
   "metadata": {
    "slideshow": {
     "slide_type": "slide"
    }
   },
   "source": [
    "## Introduction\n",
    "\n",
    "We will use a few books:\n",
    "\n",
    "1. [**ESL**] Hastie et al. (2017) [The Elements of Statistical Learning. Second Edition. Springer.](https://hastie.su.domains/Papers/ESLII.pdf) (Hard. If too hard, go to **ISL**. Has the same content, but a bit easier to digest.)\n",
    "\n",
    "1. [**SJ**] Klok and Nazarathy. (2021) [Statistics with Julia: Fundamentals for data science, machine learning, and artificial intelligence. Springer.](https://github.com/h-Klok/StatsWithJuliaBook)\n",
    "\n",
    "1. [**JDA**] Storopoli, Huijzer and Alonso. (2021) [Julia Data Science](https://juliadatascience.io/). The book is also available freely as static HTML and PDF at <https://juliadatascience.io>.\n",
    "\n",
    "1. [**ISL**] James et al. (second edition, 2021) [Introduction to Statistical Learning with Applications in Python. Springer](https://www.statlearning.com)\n",
    "\n",
    "All great books, and free. If you are a paper-book-person, they might be pricey, but good ones to have for future reference."
   ]
  },
  {
   "cell_type": "markdown",
   "id": "f3483d8e",
   "metadata": {
    "slideshow": {
     "slide_type": "slide"
    }
   },
   "source": [
    "## Introduction\n",
    "\n",
    "**Grading:**\n",
    "\n",
    "1. **Participation (4%)**: We will have 20 lectures during the quarter. You can miss four and still get full marks on attendance.\n",
    "\n",
    "1. **Quizzes (48%)**: There will be 8 quizzes, that are going to be posted as Jupyter Notebooks on something called DataHub.\n",
    "    + I will post those one week before they are due (usually with content of the previous week)\n",
    "    + Those are easy assignments, just to keep the ball rolling.\n",
    "    \n",
    "\n",
    "1. **Problem-Sets (48%)**: There will be four problem-sets. Also posted on DataHub.\n",
    "    + Harder than quizzes, usually involving an academic paper replication or data processing.\n",
    "\n",
    "1. **Extra-credit (5%)**: If 90% of you fill-out the evaluation forms, I will give 5% of points to all students by the end of the quarter.\n",
    "    + Hardest assignment, if you ask me...\n",
    "    \n",
    "No exams... You are welcome!"
   ]
  },
  {
   "cell_type": "markdown",
   "id": "705e8b13",
   "metadata": {
    "slideshow": {
     "slide_type": "slide"
    }
   },
   "source": [
    "## Introduction\n",
    "\n",
    "**Grading:**\n",
    "\n",
    "Grading is done by a combination of auto-graders and manual grading.\n",
    "\n",
    "Auto-graders check the results to see if they conform. This is all automated, and has two tiers: public tests (tests you can see) and private tests (tests you cannot see).\n",
    "\n",
    "Because auto-graders are build in this way, you may fail to get marks even when you pass public tests.\n",
    "\n",
    "Regrading: Fine before the next assignment's due date. And for the last assignment, the regrading date is a week before the quarter ends. After that, grades are final."
   ]
  },
  {
   "cell_type": "markdown",
   "id": "1e2c5ddc",
   "metadata": {
    "slideshow": {
     "slide_type": "slide"
    }
   },
   "source": [
    "## Introduction\n",
    "\n",
    "**Communication expectations:**\n",
    "\n",
    "Calendly Link: <https://calendly.com/umbertomig/office-hours>\n",
    "\n",
    "Office Hours: Tuesdays and Fridays, from 6:00 PM to 8:00 PM\n",
    "\n",
    "Emails: Because I miss emails, I ask you to send them to the TA. Let them send me emails, so we keep things organized."
   ]
  },
  {
   "cell_type": "markdown",
   "id": "515ebe26",
   "metadata": {
    "slideshow": {
     "slide_type": "slide"
    }
   },
   "source": [
    "## Introduction\n",
    "\n",
    "**Syllabus:**\n",
    "\n",
    "Check it on Canvas.\n",
    "\n",
    "It is subject to change (most likely, every other week).\n",
    "\n",
    "But I'll tell you what I'm changing there."
   ]
  },
  {
   "cell_type": "markdown",
   "id": "047dbc49",
   "metadata": {
    "slideshow": {
     "slide_type": "slide"
    }
   },
   "source": [
    "## Introduction\n",
    "\n",
    "**General Overview:**\n",
    "\n",
    "1. Julia programming language\n",
    "1. What is ML?\n",
    "1. Regression\n",
    "1. Classification\n",
    "1. Tweaking (resampling, model selection, regularization, non-linear models)\n",
    "1. Tree-based models\n",
    "1. SVM\n",
    "1. Neural Networks\n",
    "1. High-dimensional problems"
   ]
  },
  {
   "cell_type": "markdown",
   "id": "235be97c",
   "metadata": {
    "slideshow": {
     "slide_type": "slide"
    }
   },
   "source": [
    "# Introduction\n",
    "\n",
    "**About me:**\n",
    "\n",
    "I am from Brazil, and I hold a Ph.D. in Political Science from New York University.\n",
    "\n",
    "I work on political methodology and comparative political economy. \n",
    "\n",
    "I mostly apply stats techniques to understand how how political institutions affect social welfare and the environment in developing economies.\n",
    "\n",
    "I like to (~~play~~) watch soccer in my free time."
   ]
  },
  {
   "cell_type": "markdown",
   "id": "33defc5a",
   "metadata": {
    "slideshow": {
     "slide_type": "slide"
    }
   },
   "source": [
    "# Introduction\n",
    "\n",
    "**About you:**\n",
    "\n",
    "- What is your name?\n",
    "\n",
    "- What is your major / minor / field of study / academic interests?\n",
    "\n",
    "- What do you expect from this class?\n",
    "\n",
    "- What do you like to do in your free time?"
   ]
  },
  {
   "cell_type": "markdown",
   "id": "70995808",
   "metadata": {
    "slideshow": {
     "slide_type": "slide"
    }
   },
   "source": [
    "# Introduction\n",
    "\n",
    "**To do:**\n",
    "\n",
    "1. Install Anaconda: <https://www.anaconda.com/download>.\n",
    "\n",
    "1. Install Julia in your computer: <https://julialang.org/downloads/>.\n",
    "\n",
    "1. Add Julia to your Jupyter Notebook: <https://datatofish.com/add-julia-to-jupyter/>.\n",
    "\n",
    "1. Get your participation quiz done (pin on the board).\n",
    "\n",
    "1. Make sure you have both of the main books we will be using: **ESL** and **ISL** downloaded."
   ]
  },
  {
   "cell_type": "markdown",
   "id": "1280d845",
   "metadata": {
    "slideshow": {
     "slide_type": "slide"
    }
   },
   "source": [
    "# Questions?"
   ]
  },
  {
   "cell_type": "markdown",
   "id": "16edb64c",
   "metadata": {
    "slideshow": {
     "slide_type": "slide"
    }
   },
   "source": [
    "# See you in the next class!"
   ]
  }
 ],
 "metadata": {
  "celltoolbar": "Slideshow",
  "kernelspec": {
   "display_name": "Python 3 (ipykernel)",
   "language": "python",
   "name": "python3"
  },
  "language_info": {
   "codemirror_mode": {
    "name": "ipython",
    "version": 3
   },
   "file_extension": ".py",
   "mimetype": "text/x-python",
   "name": "python",
   "nbconvert_exporter": "python",
   "pygments_lexer": "ipython3",
   "version": "3.10.12"
  }
 },
 "nbformat": 4,
 "nbformat_minor": 5
}
