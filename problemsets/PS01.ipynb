{
 "cells": [
  {
   "cell_type": "markdown",
   "id": "63b0705d",
   "metadata": {},
   "source": [
    "# Problem Set 01\n",
    "\n",
    "## POLI 175 - Machine Learning for Social Scientists\n",
    "\n",
    "In this problem set we will play with the Education Expenditure dataset. You can find it in [here](https://github.com/umbertomig/POLI175julia/blob/main/data/educexp.csv).\n",
    "\n",
    "Here is a quick description of the dataset:\n",
    "\n",
    "| **Variable** | **Meaning**                                 |\n",
    "|--------------|---------------------------------------------|\n",
    "| education    | Per-capita education expenditures, dollars. |\n",
    "| income       | Per-capita income, dollars.                 |\n",
    "| young        | Proportion under 18, per 1000.              |\n",
    "| urban        | Proportion urban, per 1000.                 |\n",
    "| states       | US State                                    |"
   ]
  },
  {
   "cell_type": "markdown",
   "id": "7e46df86",
   "metadata": {},
   "source": [
    "# 01. Loading Packages (1pt)\n",
    "\n",
    "Load:\n",
    "\n",
    "- CSV\n",
    "- Plots\n",
    "- GLM\n",
    "- DataFrames\n",
    "- Gadfly"
   ]
  },
  {
   "cell_type": "code",
   "execution_count": null,
   "id": "63c4cc27",
   "metadata": {},
   "outputs": [],
   "source": [
    "# Your solutions here"
   ]
  },
  {
   "cell_type": "markdown",
   "id": "9fe02f52",
   "metadata": {},
   "source": [
    "# 02. Loading Data (1pt)\n",
    "\n",
    "Load the dataset and save it in an object called `dat`.\n",
    "\n",
    "**Hint:** Use the URL (https://raw.githubusercontent.com/umbertomig/POLI175julia/main/data/educexp.csv)"
   ]
  },
  {
   "cell_type": "code",
   "execution_count": null,
   "id": "a29c4165",
   "metadata": {},
   "outputs": [],
   "source": [
    "# Your solutions here"
   ]
  },
  {
   "cell_type": "markdown",
   "id": "b2a0b99c",
   "metadata": {},
   "source": [
    "# 03. Check the first few observations of the dataset (1pt)"
   ]
  },
  {
   "cell_type": "code",
   "execution_count": null,
   "id": "72bea219",
   "metadata": {},
   "outputs": [],
   "source": [
    "# Your solutions here"
   ]
  },
  {
   "cell_type": "markdown",
   "id": "47380249",
   "metadata": {},
   "source": [
    "# 04. Describe the dataset (1pt)\n",
    "\n",
    "Use the function `describe`."
   ]
  },
  {
   "cell_type": "code",
   "execution_count": null,
   "id": "c0e7d087",
   "metadata": {},
   "outputs": [],
   "source": [
    "# Your solutions here"
   ]
  },
  {
   "cell_type": "markdown",
   "id": "498a16a2",
   "metadata": {},
   "source": [
    "# 05. Scatterplots (1pt)\n",
    "\n",
    "Create a scatterplot of `education` (y-axis) x `income` (x-axis). Do the same graphs for the logged variables. Any trends worth noting?"
   ]
  },
  {
   "cell_type": "code",
   "execution_count": null,
   "id": "afbe11fe",
   "metadata": {},
   "outputs": [],
   "source": [
    "# Your solutions here"
   ]
  },
  {
   "cell_type": "markdown",
   "id": "b347c23b",
   "metadata": {},
   "source": [
    "# 06. Pairs-plot (1pt)\n",
    "\n",
    "Make a `pairplot` of `education`, `income`, `young`, and `urban`. Any trends? How about the logged variables? Any trends there?"
   ]
  },
  {
   "cell_type": "code",
   "execution_count": null,
   "id": "dfc5b3b1",
   "metadata": {},
   "outputs": [],
   "source": [
    "# Auxiliar function\n",
    "function pairplot(df)\n",
    "    _, cols = size(df)\n",
    "    plots = []\n",
    "    for row = 1:cols, col = 1:cols\n",
    "        push!(\n",
    "            plots,\n",
    "            Plots.scatter(\n",
    "                df[:, row],\n",
    "                df[:, col],\n",
    "                xtickfont = font(4),\n",
    "                ytickfont = font(4),\n",
    "                legend = false,\n",
    "            ),\n",
    "        )\n",
    "    end\n",
    "    Plots.plot(plots..., layout = (cols, cols))\n",
    "end"
   ]
  },
  {
   "cell_type": "code",
   "execution_count": null,
   "id": "d4284d10",
   "metadata": {},
   "outputs": [],
   "source": [
    "# Your solutions here"
   ]
  },
  {
   "cell_type": "markdown",
   "id": "c6030224",
   "metadata": {},
   "source": [
    "# 07. Plot with trend line (1pt)\n",
    "\n",
    "Plot a scatterplot with trend line for the `education` expenduture explained by `income`."
   ]
  },
  {
   "cell_type": "code",
   "execution_count": null,
   "id": "63ce0579",
   "metadata": {},
   "outputs": [],
   "source": [
    "# Your solutions here"
   ]
  },
  {
   "cell_type": "markdown",
   "id": "b0119845",
   "metadata": {},
   "source": [
    "# 08. Regression with dataset variables (1pt)\n",
    "\n",
    "Run a regression using `income`, `young`, and `urban` to explain the `education` expenditure. Explain your findings."
   ]
  },
  {
   "cell_type": "code",
   "execution_count": null,
   "id": "0e99a5f0",
   "metadata": {},
   "outputs": [],
   "source": [
    "# Your solutions here"
   ]
  },
  {
   "cell_type": "markdown",
   "id": "605d708f",
   "metadata": {},
   "source": [
    "# 09. Regression with logged variables (1pt)\n",
    "\n",
    "Now run a regression using `log(income)`, `log(young)`, and `log(urban)` to explain the `log(education)` expenditure. Explain your findings.\n",
    "\n",
    "**Hint:** When you log all variables, the explanation changes slightly. Here is how to interpret the changes: https://library.virginia.edu/data/articles/interpreting-log-transformations-in-a-linear-model"
   ]
  },
  {
   "cell_type": "code",
   "execution_count": null,
   "id": "e91e6ee1",
   "metadata": {},
   "outputs": [],
   "source": [
    "# Your solutions here"
   ]
  },
  {
   "cell_type": "markdown",
   "id": "91add8fb",
   "metadata": {},
   "source": [
    "# 10. Regression diagnostics (1pt)\n",
    "\n",
    "Plot the fitted x the residual for the regressions in Q8 and Q9. If you were to suggest a regression model based on diagnostics plots, which one would you suggest?\n",
    "\n",
    "**Hint 1:** Check this here to stack plots. I used `hstack(p1, p2)` in my solution after creating `p1` and `p2` consistently.\n",
    "\n",
    "**Hint 2:** You may also plot labels of the states to check for outliers. If you use Gadfly, here is how it is done:\n",
    "\n",
    "```julia\n",
    "Gadfly.plot(\n",
    "    y = y_variable,\n",
    "    x = x_variable,\n",
    "    label = variable_with_names,\n",
    "    Geom.point,\n",
    "    Geom.smooth,\n",
    "    Geom.label\n",
    ")\n",
    "```"
   ]
  },
  {
   "cell_type": "code",
   "execution_count": null,
   "id": "b04dd72a",
   "metadata": {},
   "outputs": [],
   "source": [
    "# Your solutions here"
   ]
  },
  {
   "cell_type": "markdown",
   "id": "a1ef2270",
   "metadata": {},
   "source": [
    "# That's all folks!"
   ]
  }
 ],
 "metadata": {
  "kernelspec": {
   "display_name": "Julia 1.9.2",
   "language": "julia",
   "name": "julia-1.9"
  },
  "language_info": {
   "file_extension": ".jl",
   "mimetype": "application/julia",
   "name": "julia",
   "version": "1.9.2"
  }
 },
 "nbformat": 4,
 "nbformat_minor": 5
}
