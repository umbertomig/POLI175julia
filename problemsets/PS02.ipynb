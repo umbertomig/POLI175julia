{
 "cells": [
  {
   "cell_type": "markdown",
   "id": "204e79e5",
   "metadata": {},
   "source": [
    "# Problem Set 2\n",
    "\n",
    "## POLI 175 - Machine Learning for Political Scientists\n",
    "\n",
    "In this problem set we will work with the Civil Conflict dataset. You can find it in [here](https://github.com/umbertomig/POLI175public/tree/main/data/mshk-pa-2017).\n",
    "\n",
    "The file you are going to use for this PS is the `SambanisImp.csv`. The code book is also on the folder.\n",
    "\n",
    "The full paper compares Random Forests with Logistic Regressions to predict civil conflict. You can find it in here: [full paper](https://doi.org/10.1093/pan/mpv024)"
   ]
  },
  {
   "cell_type": "markdown",
   "id": "b7a4b48b",
   "metadata": {},
   "source": [
    "## 1. Loading Packages (1 pt)\n",
    "\n",
    "Load with `using`:\n",
    "\n",
    "- DataFrames\n",
    "- MLJ\n",
    "- MLJIteration\n",
    "\n",
    "Load with `import`:\n",
    "\n",
    "- MLJLinearModels\n",
    "- MLJBase\n",
    "- MLJModels\n",
    "- MultivariateStats\n",
    "- MLJMultivariateStatsInterface\n",
    "- CSV\n",
    "- Plots\n",
    "- GLM\n",
    "- StatsBase\n",
    "- Random\n",
    "- LaTeXStrings\n",
    "- StatsPlots\n",
    "- Lowess\n",
    "- Gadfly\n",
    "- RegressionTables\n",
    "- CovarianceMatrices\n",
    "- Econometrics\n",
    "- LinearAlgebra\n",
    "- MixedModelsExtras\n",
    "- Missings\n",
    "- StatsAPI\n",
    "- FreqTables\n",
    "- EvalMetrics\n",
    "- NearestNeighborModels\n",
    "- NaiveBayes\n",
    "- Optim\n",
    "\n",
    "**Hint**: If you happen to not have any of these packages, install them."
   ]
  },
  {
   "cell_type": "code",
   "execution_count": 1,
   "id": "99c207e3",
   "metadata": {},
   "outputs": [],
   "source": [
    "# Your answers here"
   ]
  },
  {
   "cell_type": "markdown",
   "id": "0ebe97ca",
   "metadata": {},
   "source": [
    "After correctly loading the packages, the instantiated models below have to run smoothly."
   ]
  },
  {
   "cell_type": "code",
   "execution_count": 4,
   "id": "b3ab0691",
   "metadata": {},
   "outputs": [],
   "source": [
    "# Solver\n",
    "solver = MLJLinearModels.NewtonCG()\n",
    "\n",
    "# Linear Regressor\n",
    "linreg = MLJLinearModels.LinearRegressor();\n",
    "\n",
    "# Logistic Classifier\n",
    "logreg = MLJLinearModels.LogisticClassifier(lambda = 0, gamma = 0, solver = solver);\n",
    "\n",
    "# Linear Discriminant Analysis\n",
    "lda = MLJMultivariateStatsInterface.LDA();\n",
    "\n",
    "# 10-NN Classifier\n",
    "knn = NearestNeighborModels.KNNClassifier(K = 10)\n",
    "\n",
    "# Naïve Bayes Classifier\n",
    "nb = MLJNaiveBayesInterface.GaussianNBClassifier();\n",
    "\n",
    "# Logistic Classifier with Lasso Penalty\n",
    "# Check https://juliaai.github.io/MLJLinearModels.jl/dev/api/#MLJLinearModels.LogisticRegression\n",
    "logreglasso = MLJLinearModels.LogisticClassifier(lambda = 0, gamma = 0.5, solver = solver);\n",
    "\n",
    "# Logistic Classifier with Ridge Penalty\n",
    "# Check https://juliaai.github.io/MLJLinearModels.jl/dev/api/#MLJLinearModels.LogisticRegression\n",
    "logregridge = MLJLinearModels.LogisticClassifier(lambda = 0.5, gamma = 0, solver = solver);"
   ]
  },
  {
   "cell_type": "markdown",
   "id": "fbcba312-c4e8-43c7-adef-07535bb035cb",
   "metadata": {
    "slideshow": {
     "slide_type": "slide"
    },
    "tags": []
   },
   "source": [
    "## 2. Loading Data (1pt)\n",
    "\n",
    "Load the dataset and save it in an object called `dat`."
   ]
  },
  {
   "cell_type": "code",
   "execution_count": 5,
   "id": "fe2de244",
   "metadata": {},
   "outputs": [],
   "source": [
    "# URL data\n",
    "urldat = \"https://raw.githubusercontent.com/umbertomig/POLI175julia/main/data/mshk-pa-2017/SambanisImp.csv\";"
   ]
  },
  {
   "cell_type": "code",
   "execution_count": 6,
   "id": "10ddb624",
   "metadata": {},
   "outputs": [],
   "source": [
    "# Your answers here"
   ]
  },
  {
   "cell_type": "markdown",
   "id": "a8b7a9df-1935-4595-a2b2-e05e71a8cf8b",
   "metadata": {
    "slideshow": {
     "slide_type": "slide"
    },
    "tags": []
   },
   "source": [
    "## 3. Subsetting (1pt)\n",
    "\n",
    "There are too many variables, and some of them not useful. We are going to use only a few variables. Subset your data to only keep these variables.\n",
    "\n",
    "Create the `X` (features) and the `y` (targets) sets."
   ]
  },
  {
   "cell_type": "code",
   "execution_count": 8,
   "id": "3853e0e6",
   "metadata": {},
   "outputs": [],
   "source": [
    "## Target variable\n",
    "target = \"warstds\";\n",
    "\n",
    "## Predictors\n",
    "predictors = [\n",
    "    \"ager\",\"autonomy\", \"coldwar\", \"demch98\", \"dlang\", \"ef\", \n",
    "    \"expgdp\", \"fuelexp\", \"gdpgrowth\", \"illiteracy\", \n",
    "    \"infant\", \"lmtnest\", \"lpopns\", \"milper\", \"trade\"];\n",
    "\n",
    "allvars = [predictors; target];"
   ]
  },
  {
   "cell_type": "code",
   "execution_count": 9,
   "id": "d654fc40",
   "metadata": {},
   "outputs": [],
   "source": [
    "# Your answers here"
   ]
  },
  {
   "cell_type": "markdown",
   "id": "acb8bac6",
   "metadata": {},
   "source": [
    "If you do it correctly, you should be able to unpack as below:"
   ]
  },
  {
   "cell_type": "code",
   "execution_count": 11,
   "id": "7d857377",
   "metadata": {},
   "outputs": [],
   "source": [
    "# Unpacking\n",
    "y, X = unpack(\n",
    "    dat,\n",
    "    ==(:warstds);\n",
    "    :warstds => Multiclass, \n",
    "    :ager => Continuous,\n",
    "    :autonomy => Continuous,\n",
    "    :coldwar => Multiclass,\n",
    "    :demch98 => Multiclass,\n",
    "    :dlang => Continuous,\n",
    "    :ef => Continuous,\n",
    "    :fuelexp => Continuous,\n",
    "    :gdpgrowth => Continuous,\n",
    "    :illiteracy => Continuous,\n",
    "    :infant => Continuous,\n",
    "    :lmtnest => Continuous,\n",
    "    :lpopns => Continuous,\n",
    "    :milper => Continuous,\n",
    "    :trade => Continuous,\n",
    ");"
   ]
  },
  {
   "cell_type": "code",
   "execution_count": 12,
   "id": "ab8783ac",
   "metadata": {},
   "outputs": [
    {
     "data": {
      "text/html": [
       "<div><div style = \"float: left;\"><span>3×15 DataFrame</span></div><div style = \"clear: both;\"></div></div><div class = \"data-frame\" style = \"overflow-x: scroll;\"><table class = \"data-frame\" style = \"margin-bottom: 6px;\"><thead><tr class = \"header\"><th class = \"rowNumber\" style = \"font-weight: bold; text-align: right;\">Row</th><th style = \"text-align: left;\">ager</th><th style = \"text-align: left;\">autonomy</th><th style = \"text-align: left;\">coldwar</th><th style = \"text-align: left;\">demch98</th><th style = \"text-align: left;\">dlang</th><th style = \"text-align: left;\">ef</th><th style = \"text-align: left;\">expgdp</th><th style = \"text-align: left;\">fuelexp</th><th style = \"text-align: left;\">gdpgrowth</th><th style = \"text-align: left;\">illiteracy</th><th style = \"text-align: left;\">infant</th><th style = \"text-align: left;\">lmtnest</th><th style = \"text-align: left;\">lpopns</th><th style = \"text-align: left;\">milper</th><th style = \"text-align: left;\">trade</th></tr><tr class = \"subheader headerLastRow\"><th class = \"rowNumber\" style = \"font-weight: bold; text-align: right;\"></th><th title = \"Float64\" style = \"text-align: left;\">Float64</th><th title = \"Float64\" style = \"text-align: left;\">Float64</th><th title = \"CategoricalArrays.CategoricalValue{Int64, UInt32}\" style = \"text-align: left;\">Cat…</th><th title = \"CategoricalArrays.CategoricalValue{Int64, UInt32}\" style = \"text-align: left;\">Cat…</th><th title = \"Float64\" style = \"text-align: left;\">Float64</th><th title = \"Float64\" style = \"text-align: left;\">Float64</th><th title = \"Float64\" style = \"text-align: left;\">Float64</th><th title = \"Float64\" style = \"text-align: left;\">Float64</th><th title = \"Float64\" style = \"text-align: left;\">Float64</th><th title = \"Float64\" style = \"text-align: left;\">Float64</th><th title = \"Float64\" style = \"text-align: left;\">Float64</th><th title = \"Float64\" style = \"text-align: left;\">Float64</th><th title = \"Float64\" style = \"text-align: left;\">Float64</th><th title = \"Float64\" style = \"text-align: left;\">Float64</th><th title = \"Float64\" style = \"text-align: left;\">Float64</th></tr></thead><tbody><tr><td class = \"rowNumber\" style = \"font-weight: bold; text-align: right;\">1</td><td style = \"text-align: right;\">34.4618</td><td style = \"text-align: right;\">0.00515082</td><td style = \"text-align: left;\">1</td><td style = \"text-align: left;\">0</td><td style = \"text-align: right;\">70.0</td><td style = \"text-align: right;\">0.750797</td><td style = \"text-align: right;\">33.5924</td><td style = \"text-align: right;\">15.3879</td><td style = \"text-align: right;\">0.022562</td><td style = \"text-align: right;\">34.0206</td><td style = \"text-align: right;\">68.6554</td><td style = \"text-align: right;\">4.19871</td><td style = \"text-align: right;\">16.0941</td><td style = \"text-align: right;\">121.087</td><td style = \"text-align: right;\">72.8814</td></tr><tr><td class = \"rowNumber\" style = \"font-weight: bold; text-align: right;\">2</td><td style = \"text-align: right;\">34.3463</td><td style = \"text-align: right;\">0.0</td><td style = \"text-align: left;\">1</td><td style = \"text-align: left;\">0</td><td style = \"text-align: right;\">70.0</td><td style = \"text-align: right;\">0.750797</td><td style = \"text-align: right;\">33.5616</td><td style = \"text-align: right;\">15.5946</td><td style = \"text-align: right;\">0.0224471</td><td style = \"text-align: right;\">34.1299</td><td style = \"text-align: right;\">68.918</td><td style = \"text-align: right;\">4.19871</td><td style = \"text-align: right;\">16.1163</td><td style = \"text-align: right;\">121.885</td><td style = \"text-align: right;\">72.9001</td></tr><tr><td class = \"rowNumber\" style = \"font-weight: bold; text-align: right;\">3</td><td style = \"text-align: right;\">77.0</td><td style = \"text-align: right;\">0.0</td><td style = \"text-align: left;\">1</td><td style = \"text-align: left;\">0</td><td style = \"text-align: right;\">70.0</td><td style = \"text-align: right;\">0.750797</td><td style = \"text-align: right;\">33.5771</td><td style = \"text-align: right;\">15.6018</td><td style = \"text-align: right;\">0.0223715</td><td style = \"text-align: right;\">34.1833</td><td style = \"text-align: right;\">69.0175</td><td style = \"text-align: right;\">4.19871</td><td style = \"text-align: right;\">16.1383</td><td style = \"text-align: right;\">122.781</td><td style = \"text-align: right;\">72.9629</td></tr></tbody></table></div>"
      ],
      "text/latex": [
       "\\begin{tabular}{r|cccccccccc}\n",
       "\t& ager & autonomy & coldwar & demch98 & dlang & ef & expgdp & fuelexp & gdpgrowth & \\\\\n",
       "\t\\hline\n",
       "\t& Float64 & Float64 & Cat… & Cat… & Float64 & Float64 & Float64 & Float64 & Float64 & \\\\\n",
       "\t\\hline\n",
       "\t1 & 34.4618 & 0.00515082 & 1 & 0 & 70.0 & 0.750797 & 33.5924 & 15.3879 & 0.022562 & $\\dots$ \\\\\n",
       "\t2 & 34.3463 & 0.0 & 1 & 0 & 70.0 & 0.750797 & 33.5616 & 15.5946 & 0.0224471 & $\\dots$ \\\\\n",
       "\t3 & 77.0 & 0.0 & 1 & 0 & 70.0 & 0.750797 & 33.5771 & 15.6018 & 0.0223715 & $\\dots$ \\\\\n",
       "\\end{tabular}\n"
      ],
      "text/plain": [
       "\u001b[1m3×15 DataFrame\u001b[0m\n",
       "\u001b[1m Row \u001b[0m│\u001b[1m ager    \u001b[0m\u001b[1m autonomy   \u001b[0m\u001b[1m coldwar \u001b[0m\u001b[1m demch98 \u001b[0m\u001b[1m dlang   \u001b[0m\u001b[1m ef       \u001b[0m\u001b[1m expgdp  \u001b[0m\u001b[1m fuel\u001b[0m ⋯\n",
       "     │\u001b[90m Float64 \u001b[0m\u001b[90m Float64    \u001b[0m\u001b[90m Cat…    \u001b[0m\u001b[90m Cat…    \u001b[0m\u001b[90m Float64 \u001b[0m\u001b[90m Float64  \u001b[0m\u001b[90m Float64 \u001b[0m\u001b[90m Floa\u001b[0m ⋯\n",
       "─────┼──────────────────────────────────────────────────────────────────────────\n",
       "   1 │ 34.4618  0.00515082  1        0           70.0  0.750797  33.5924  15.3 ⋯\n",
       "   2 │ 34.3463  0.0         1        0           70.0  0.750797  33.5616  15.5\n",
       "   3 │ 77.0     0.0         1        0           70.0  0.750797  33.5771  15.6\n",
       "\u001b[36m                                                               8 columns omitted\u001b[0m"
      ]
     },
     "execution_count": 12,
     "metadata": {},
     "output_type": "execute_result"
    }
   ],
   "source": [
    "first(X, 3)"
   ]
  },
  {
   "cell_type": "markdown",
   "id": "243e38f9",
   "metadata": {
    "slideshow": {
     "slide_type": "slide"
    }
   },
   "source": [
    "## 4. Linear Regression (1pt)\n",
    "\n",
    "Your target variable in here is `warstds`, which means whether a country is experiencing conflict or not. I saved it in an object called `target`. All the predictors are called `predictors`. Run a Linear Regression using MLJ to try to explain conflict based on all the predictors. Then, find the predicted outcomes and recode them with the following heuristics:\n",
    "\n",
    "- 0 if prediction below or equal 0.5\n",
    "- 1 if prediction above 0.5\n",
    "\n",
    "Make a confusion matrix of your results. Compute the accuracy.\n",
    "\n",
    "Do you have a good prediction model? Explain.\n",
    "\n",
    "**Hint 1**: I instantiated the model for you in the top as `linreg`. Save your mode predictions as `y_pred_linreg`.\n",
    "\n",
    "**Hint 2:** One way to create a binary variable is:\n",
    "\n",
    "```julia\n",
    "y_pred_lingreg = predict(my_machine, dataset) .> threshold_number\n",
    "```\n",
    "\n",
    "**Hint 3:** If you want, the F1-Score is a good metric to evaluate whether the model is good or not.\n",
    "\n",
    "**Hint 4:** Use `Vector{Int64}(y)` instead of `y`."
   ]
  },
  {
   "cell_type": "code",
   "execution_count": 13,
   "id": "c4b76b6a",
   "metadata": {},
   "outputs": [],
   "source": [
    "# Your answers here"
   ]
  },
  {
   "cell_type": "markdown",
   "id": "c82407c2",
   "metadata": {
    "slideshow": {
     "slide_type": "slide"
    }
   },
   "source": [
    "## 5. Logistic Regression (1pt)\n",
    "\n",
    "Fit the same model using a logistic regression. Make a confusion matrix of your results; check the accuracy. Do you have a good prediction model? Explain.\n",
    "\n",
    "**Important**: I instantiate the model for you as `logreg`. Save the mode prediction as `y_pred_logreg`."
   ]
  },
  {
   "cell_type": "code",
   "execution_count": 20,
   "id": "9ed81d46",
   "metadata": {},
   "outputs": [],
   "source": [
    "# Your answers here"
   ]
  },
  {
   "cell_type": "markdown",
   "id": "a5a0ba2b",
   "metadata": {
    "slideshow": {
     "slide_type": "slide"
    }
   },
   "source": [
    "## 6. Linear Discriminant Analysis (1pt)\n",
    "\n",
    "Fit the same model using a linear discriminant analysis. Make a confusion matrix of your results. Do you have a good prediction model? Explain.\n",
    "\n",
    "**Important**: I instantiate the model for you as `lda`. Save the mode prediction as `y_pred_lda`."
   ]
  },
  {
   "cell_type": "code",
   "execution_count": 27,
   "id": "66631ae1",
   "metadata": {},
   "outputs": [],
   "source": [
    "# Your answers here"
   ]
  },
  {
   "cell_type": "markdown",
   "id": "0d3e728a",
   "metadata": {
    "slideshow": {
     "slide_type": "slide"
    }
   },
   "source": [
    "## 7. Naïve Bayes Classifier\n",
    "\n",
    "Fit the same model using the Gaussian Naïve Bayes classifier. Make a confusion matrix and check the accuracy of your results. Do you have a good prediction model? Explain.\n",
    "\n",
    "**Important**: I instantiate the model for you as `nb`. Save the mode prediction as `y_pred_nb`."
   ]
  },
  {
   "cell_type": "code",
   "execution_count": 34,
   "id": "0481a05e",
   "metadata": {},
   "outputs": [],
   "source": [
    "# Your answers here"
   ]
  },
  {
   "cell_type": "markdown",
   "id": "db67a993",
   "metadata": {
    "slideshow": {
     "slide_type": "slide"
    }
   },
   "source": [
    "## 8. K-Nearest Neighborhood Classifier (1pt)\n",
    "\n",
    "Fit the same model using a $10$-Nearest Neighborhood Classifier. \n",
    "\n",
    "Make a confusion matrix and check the accuracy of your results. Do you have a good prediction model? Explain.\n",
    "\n",
    "**Important**: I instantiate the model for you as `knn`. Save the mode prediction as `y_pred_knn`."
   ]
  },
  {
   "cell_type": "code",
   "execution_count": 41,
   "id": "e5842fc0",
   "metadata": {},
   "outputs": [],
   "source": [
    "# Your answers here"
   ]
  },
  {
   "cell_type": "markdown",
   "id": "5e5d944c",
   "metadata": {
    "slideshow": {
     "slide_type": "slide"
    }
   },
   "source": [
    "## 9. Lasso Logistic Regression (1pt)\n",
    "\n",
    "Fit a logistic regression applying a Lasso penalty.\n",
    "\n",
    "Make a confusion matrix and check the accuracy of your results. Do you have a good prediction model? Explain.\n",
    "\n",
    "**Important**: I instantiate the model for you as `logreglasso`. Save the mode prediction as `y_pred_logreglasso`."
   ]
  },
  {
   "cell_type": "code",
   "execution_count": 48,
   "id": "3e1003fa",
   "metadata": {},
   "outputs": [],
   "source": [
    "# Your answers here"
   ]
  },
  {
   "cell_type": "markdown",
   "id": "7c25c814",
   "metadata": {
    "slideshow": {
     "slide_type": "slide"
    }
   },
   "source": [
    "## 10. Ridge Logistic Regression (1pt)\n",
    "\n",
    "Fit a logistic regression applying a Ridge penalty.\n",
    "\n",
    "Make a confusion matrix and check the accuracy of your results. Do you have a good prediction model? Explain.\n",
    "\n",
    "**Important**: I instantiate the model for you as `logregridge`. Save the mode prediction as `y_pred_logregridge`."
   ]
  },
  {
   "cell_type": "code",
   "execution_count": 55,
   "id": "ce8eaacc",
   "metadata": {},
   "outputs": [],
   "source": [
    "# Your answers here"
   ]
  },
  {
   "cell_type": "markdown",
   "id": "edb0f584",
   "metadata": {
    "slideshow": {
     "slide_type": "-"
    }
   },
   "source": [
    "**Look back to your results**.\n",
    "\n",
    "Answer to yourself (or to us, if you like :-)\n",
    "\n",
    "*Are any of these models good? Why?*\n",
    "\n",
    "***"
   ]
  },
  {
   "cell_type": "markdown",
   "id": "a3e5ae18",
   "metadata": {},
   "source": [
    "***Your comments here***"
   ]
  },
  {
   "cell_type": "markdown",
   "id": "5f27744d",
   "metadata": {
    "slideshow": {
     "slide_type": "-"
    }
   },
   "source": [
    "***\n",
    "\n",
    "**Great work!**"
   ]
  }
 ],
 "metadata": {
  "kernelspec": {
   "display_name": "Julia 1.9.2",
   "language": "julia",
   "name": "julia-1.9"
  },
  "language_info": {
   "file_extension": ".jl",
   "mimetype": "application/julia",
   "name": "julia",
   "version": "1.9.2"
  }
 },
 "nbformat": 4,
 "nbformat_minor": 5
}
