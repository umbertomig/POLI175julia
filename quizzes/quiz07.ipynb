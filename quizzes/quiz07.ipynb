{
 "cells": [
  {
   "cell_type": "markdown",
   "id": "66a1628f-0686-4f23-ad5f-600b9548fa45",
   "metadata": {
    "slideshow": {
     "slide_type": "slide"
    },
    "tags": []
   },
   "source": [
    "# POLI 175 - Quiz 07\n",
    "\n",
    "In this quiz, you will run Supporting Vector Machines to classify vote for Pinochet.\n",
    "\n",
    "Due date: Mar 17, 2024\n",
    "\n",
    "Again: The grading for the quiz is:\n",
    "\n",
    "$$ 0.7 \\times \\text{TRY} + 0.3 \\times \\text{CORRECT} $$\n",
    "\n",
    "The points below refer to the correctness part.\n",
    "\n",
    "**Note:** This Quiz is optional, and will substitute your lower grade only if the scores in it is higher than in your lower grade."
   ]
  },
  {
   "cell_type": "markdown",
   "id": "f41c4e3e",
   "metadata": {},
   "source": [
    "## Running Dataset\n",
    "\n",
    "### [Chile Survey](https://en.wikipedia.org/wiki/Chile)\n",
    "\n",
    "In 1988, the [Chilean Dictator](https://en.wikipedia.org/wiki/Military_dictatorship_of_Chile) [Augusto Pinochet](https://en.wikipedia.org/wiki/Augusto_Pinochet) conducted a [referendum to whether he should step out](https://en.wikipedia.org/wiki/1988_Chilean_presidential_referendum).\n",
    "\n",
    "The [FLACSO](https://en.wikipedia.org/wiki/Latin_American_Faculty_of_Social_Sciences) in Chile conducted a surver on 2700 respondents. We are going to build a model to predict their voting intentions.\n",
    "\n",
    "| **Variable** | **Meaning** |\n",
    "|:---:|---|\n",
    "| region | A factor with levels:<br>- `C`, Central; <br>- `M`, Metropolitan Santiago area; <br>- `N`, North; <br>- `S`, South; <br>- `SA`, city of Santiago. |\n",
    "| population | The population size of respondent's community. |\n",
    "| sex | A factor with levels: <br>- `F`, female; <br>- `M`, male. |\n",
    "| age | The respondent's age in years. |\n",
    "| education | A factor with levels: <br>- `P`, Primary; <br>- `S`, Secondary; <br>- `PS`, Post-secondary. |\n",
    "| income | The respondent's monthly income, in Pesos. |\n",
    "| statusquo | A scale of support for the status-quo. |\n",
    "| voteyes | A dummy variable with one<br>meaning a vote in favor of Pinochet |\n",
    "\n",
    "Let me pre-process the data a bit for you."
   ]
  },
  {
   "cell_type": "code",
   "execution_count": 1,
   "id": "c65c001c",
   "metadata": {},
   "outputs": [],
   "source": [
    "## Loading the packages (make sure you have those installed)\n",
    "using DataFrames\n",
    "using MLJ, MLJIteration\n",
    "using MLJModels\n",
    "import MLJLinearModels, MLJBase\n",
    "import MultivariateStats, MLJMultivariateStatsInterface\n",
    "import CSV, Plots, GLM, StatsBase, Random\n",
    "import LaTeXStrings, StatsPlots, Lowess, Gadfly, RegressionTables\n",
    "import CovarianceMatrices, Econometrics, LinearAlgebra, MixedModelsExtras\n",
    "import Missings, StatsAPI, FreqTables, EvalMetrics\n",
    "import DecisionTree, MLJDecisionTreeInterface\n",
    "import XGBoost, MLJXGBoostInterface\n",
    "import LIBSVM, MLJLIBSVMInterface\n",
    "\n",
    "# Solver (just in case)\n",
    "solver = MLJLinearModels.NewtonCG()\n",
    "\n",
    "## Loading the data\n",
    "chile = CSV.read(\n",
    "    download(\"https://raw.githubusercontent.com/umbertomig/POLI175julia/main/data/chilesurvey.csv\"), \n",
    "    DataFrame,\n",
    "    missingstring = [\"NA\"]\n",
    "); dropmissing!(chile)\n",
    "\n",
    "## Process target variable\n",
    "chile.voteyes = ifelse.(chile.vote .== \"Y\", \"Favor\", \"Against\")\n",
    "\n",
    "## Process statusquo a bit to lower prediction power (making things fun...)\n",
    "chile.statusquo = ifelse.(chile.statusquo .> 0, 1, 0)\n",
    "\n",
    "# Pre-process numeri cariables (log them)\n",
    "chile.income_log = log.(chile.income);\n",
    "chile.pop_log = log.(chile.population);\n",
    "\n",
    "select!(chile, Not(:vote, :income, :population));"
   ]
  },
  {
   "cell_type": "code",
   "execution_count": 2,
   "id": "1601aa26",
   "metadata": {},
   "outputs": [],
   "source": [
    "# Adapted from @xiaodaigh: https://github.com/xiaodaigh/DataConvenience.jl\n",
    "function onehot!(df::AbstractDataFrame, \n",
    "        col, cate = sort(unique(df[!, col])); \n",
    "        outnames = Symbol.(col, :_, cate))\n",
    "    transform!(df, @. col => ByRow(isequal(cate)) .=> outnames)\n",
    "end\n",
    "\n",
    "# One-hot encoding (we will learn a better way to do it later)\n",
    "onehot!(chile, :region);\n",
    "onehot!(chile, :education);\n",
    "onehot!(chile, :sex);\n",
    "\n",
    "# Little bit more\n",
    "chile.region_M = ifelse.(chile.region_M .== true, 1, 0)\n",
    "chile.region_N = ifelse.(chile.region_N .== true, 1, 0)\n",
    "chile.region_S = ifelse.(chile.region_S .== true, 1, 0)\n",
    "chile.region_SA = ifelse.(chile.region_SA .== true, 1, 0)\n",
    "chile.sex_F = ifelse.(chile.sex_F .== true, 1, 0)\n",
    "chile.education_S = ifelse.(chile.education_S .== true, 1, 0)\n",
    "chile.education_PS = ifelse.(chile.education_PS .== true, 1, 0)\n",
    "\n",
    "# Drop reference categories\n",
    "select!(chile, Not(:region, :sex, :education, :region_C, :education_P, :sex_M));"
   ]
  },
  {
   "cell_type": "markdown",
   "id": "92474b46",
   "metadata": {},
   "source": [
    "And to facilitate, I will create three feature groups for you. One for each question."
   ]
  },
  {
   "cell_type": "code",
   "execution_count": 3,
   "id": "252f890e",
   "metadata": {},
   "outputs": [],
   "source": [
    "# Full Specification\n",
    "y, X = unpack(\n",
    "    chile,\n",
    "    ==(:voteyes),\n",
    "    c -> true;\n",
    "    :voteyes      => Multiclass,\n",
    "    :income_log   => Continuous,\n",
    "    :statusquo    => Continuous,\n",
    "    :pop_log      => Continuous,\n",
    "    :age          => Continuous,\n",
    "    :region_M     => Continuous,\n",
    "    :region_N     => Continuous,\n",
    "    :region_S     => Continuous,\n",
    "    :region_SA    => Continuous,\n",
    "    :sex_F        => Continuous,\n",
    "    :education_S  => Continuous,\n",
    "    :education_PS => Continuous,\n",
    ");"
   ]
  },
  {
   "cell_type": "code",
   "execution_count": 4,
   "id": "a492768d",
   "metadata": {},
   "outputs": [],
   "source": [
    "# Train-test split\n",
    "train, test = partition(\n",
    "    eachindex(y),   ## Index with the eachindex(.) method\n",
    "    0.75,           ## Proportion in the training set\n",
    "    shuffle = true, ## Shuffle the data\n",
    "    stratify = y,   ## Stratify on the voting variable\n",
    "    rng = 74593     ## Random seed (ensure same results; not necessary)\n",
    ");"
   ]
  },
  {
   "cell_type": "code",
   "execution_count": 5,
   "id": "2996de81",
   "metadata": {},
   "outputs": [
    {
     "data": {
      "text/plain": [
       "2-element Named Vector{Int64}\n",
       "Dim1    │ \n",
       "────────┼─────\n",
       "Against │ 1595\n",
       "Favor   │  836"
      ]
     },
     "execution_count": 5,
     "metadata": {},
     "output_type": "execute_result"
    }
   ],
   "source": [
    "# Target\n",
    "FreqTables.freqtable(y)"
   ]
  },
  {
   "cell_type": "code",
   "execution_count": 6,
   "id": "c5aebeb4",
   "metadata": {},
   "outputs": [
    {
     "data": {
      "text/html": [
       "<div><div style = \"float: left;\"><span>3×11 DataFrame</span></div><div style = \"clear: both;\"></div></div><div class = \"data-frame\" style = \"overflow-x: scroll;\"><table class = \"data-frame\" style = \"margin-bottom: 6px;\"><thead><tr class = \"header\"><th class = \"rowNumber\" style = \"font-weight: bold; text-align: right;\">Row</th><th style = \"text-align: left;\">age</th><th style = \"text-align: left;\">statusquo</th><th style = \"text-align: left;\">income_log</th><th style = \"text-align: left;\">pop_log</th><th style = \"text-align: left;\">region_M</th><th style = \"text-align: left;\">region_N</th><th style = \"text-align: left;\">region_S</th><th style = \"text-align: left;\">region_SA</th><th style = \"text-align: left;\">education_PS</th><th style = \"text-align: left;\">education_S</th><th style = \"text-align: left;\">sex_F</th></tr><tr class = \"subheader headerLastRow\"><th class = \"rowNumber\" style = \"font-weight: bold; text-align: right;\"></th><th title = \"Float64\" style = \"text-align: left;\">Float64</th><th title = \"Float64\" style = \"text-align: left;\">Float64</th><th title = \"Float64\" style = \"text-align: left;\">Float64</th><th title = \"Float64\" style = \"text-align: left;\">Float64</th><th title = \"Float64\" style = \"text-align: left;\">Float64</th><th title = \"Float64\" style = \"text-align: left;\">Float64</th><th title = \"Float64\" style = \"text-align: left;\">Float64</th><th title = \"Float64\" style = \"text-align: left;\">Float64</th><th title = \"Float64\" style = \"text-align: left;\">Float64</th><th title = \"Float64\" style = \"text-align: left;\">Float64</th><th title = \"Float64\" style = \"text-align: left;\">Float64</th></tr></thead><tbody><tr><td class = \"rowNumber\" style = \"font-weight: bold; text-align: right;\">1</td><td style = \"text-align: right;\">65.0</td><td style = \"text-align: right;\">1.0</td><td style = \"text-align: right;\">10.4631</td><td style = \"text-align: right;\">12.0725</td><td style = \"text-align: right;\">0.0</td><td style = \"text-align: right;\">1.0</td><td style = \"text-align: right;\">0.0</td><td style = \"text-align: right;\">0.0</td><td style = \"text-align: right;\">0.0</td><td style = \"text-align: right;\">0.0</td><td style = \"text-align: right;\">0.0</td></tr><tr><td class = \"rowNumber\" style = \"font-weight: bold; text-align: right;\">2</td><td style = \"text-align: right;\">29.0</td><td style = \"text-align: right;\">0.0</td><td style = \"text-align: right;\">8.92266</td><td style = \"text-align: right;\">12.0725</td><td style = \"text-align: right;\">0.0</td><td style = \"text-align: right;\">1.0</td><td style = \"text-align: right;\">0.0</td><td style = \"text-align: right;\">0.0</td><td style = \"text-align: right;\">1.0</td><td style = \"text-align: right;\">0.0</td><td style = \"text-align: right;\">0.0</td></tr><tr><td class = \"rowNumber\" style = \"font-weight: bold; text-align: right;\">3</td><td style = \"text-align: right;\">38.0</td><td style = \"text-align: right;\">1.0</td><td style = \"text-align: right;\">9.61581</td><td style = \"text-align: right;\">12.0725</td><td style = \"text-align: right;\">0.0</td><td style = \"text-align: right;\">1.0</td><td style = \"text-align: right;\">0.0</td><td style = \"text-align: right;\">0.0</td><td style = \"text-align: right;\">0.0</td><td style = \"text-align: right;\">0.0</td><td style = \"text-align: right;\">1.0</td></tr></tbody></table></div>"
      ],
      "text/latex": [
       "\\begin{tabular}{r|ccccccccc}\n",
       "\t& age & statusquo & income\\_log & pop\\_log & region\\_M & region\\_N & region\\_S & region\\_SA & \\\\\n",
       "\t\\hline\n",
       "\t& Float64 & Float64 & Float64 & Float64 & Float64 & Float64 & Float64 & Float64 & \\\\\n",
       "\t\\hline\n",
       "\t1 & 65.0 & 1.0 & 10.4631 & 12.0725 & 0.0 & 1.0 & 0.0 & 0.0 & $\\dots$ \\\\\n",
       "\t2 & 29.0 & 0.0 & 8.92266 & 12.0725 & 0.0 & 1.0 & 0.0 & 0.0 & $\\dots$ \\\\\n",
       "\t3 & 38.0 & 1.0 & 9.61581 & 12.0725 & 0.0 & 1.0 & 0.0 & 0.0 & $\\dots$ \\\\\n",
       "\\end{tabular}\n"
      ],
      "text/plain": [
       "\u001b[1m3×11 DataFrame\u001b[0m\n",
       "\u001b[1m Row \u001b[0m│\u001b[1m age     \u001b[0m\u001b[1m statusquo \u001b[0m\u001b[1m income_log \u001b[0m\u001b[1m pop_log \u001b[0m\u001b[1m region_M \u001b[0m\u001b[1m region_N \u001b[0m\u001b[1m region_S \u001b[0m\u001b[1m \u001b[0m ⋯\n",
       "     │\u001b[90m Float64 \u001b[0m\u001b[90m Float64   \u001b[0m\u001b[90m Float64    \u001b[0m\u001b[90m Float64 \u001b[0m\u001b[90m Float64  \u001b[0m\u001b[90m Float64  \u001b[0m\u001b[90m Float64  \u001b[0m\u001b[90m \u001b[0m ⋯\n",
       "─────┼──────────────────────────────────────────────────────────────────────────\n",
       "   1 │    65.0        1.0    10.4631   12.0725       0.0       1.0       0.0   ⋯\n",
       "   2 │    29.0        0.0     8.92266  12.0725       0.0       1.0       0.0\n",
       "   3 │    38.0        1.0     9.61581  12.0725       0.0       1.0       0.0\n",
       "\u001b[36m                                                               4 columns omitted\u001b[0m"
      ]
     },
     "execution_count": 6,
     "metadata": {},
     "output_type": "execute_result"
    }
   ],
   "source": [
    "# Features\n",
    "first(X, 3)"
   ]
  },
  {
   "cell_type": "markdown",
   "id": "729e5d3d",
   "metadata": {},
   "source": [
    "### Helpers\n",
    "\n",
    "To save you time, I am instantiating below:\n",
    "\n",
    "1. Supporting Vector Classifier using a Linear Kernel (`svc_lin_ker`).\n",
    "1. Supporting Vector Classifier using a Cubic Polynomial Kernel (`svc_poly_ker`).\n",
    "1. Supporting Vector Classifier using a Sigmoid Kernel (`svc_sigm_ker`).\n",
    "1. Supporting Vector Classifier using a Radial Basis Kernel (`svc_radial_ker`)."
   ]
  },
  {
   "cell_type": "code",
   "execution_count": 7,
   "id": "788d648e",
   "metadata": {},
   "outputs": [
    {
     "data": {
      "text/plain": [
       "SVC(\n",
       "  kernel = LIBSVM.Kernel.Linear, \n",
       "  gamma = 0.0, \n",
       "  cost = 1.0, \n",
       "  cachesize = 200.0, \n",
       "  degree = 3, \n",
       "  coef0 = 0.0, \n",
       "  tolerance = 0.001, \n",
       "  shrinking = true)"
      ]
     },
     "execution_count": 7,
     "metadata": {},
     "output_type": "execute_result"
    }
   ],
   "source": [
    "# Supporting Vector Classifier with Linear Kernel\n",
    "svc_lin_ker = MLJLIBSVMInterface.SVC(kernel = LIBSVM.Kernel.Linear)"
   ]
  },
  {
   "cell_type": "code",
   "execution_count": 8,
   "id": "ea688412",
   "metadata": {},
   "outputs": [
    {
     "data": {
      "text/plain": [
       "SVC(\n",
       "  kernel = LIBSVM.Kernel.Polynomial, \n",
       "  gamma = 0.0, \n",
       "  cost = 1.0, \n",
       "  cachesize = 200.0, \n",
       "  degree = 3, \n",
       "  coef0 = 0.0, \n",
       "  tolerance = 0.001, \n",
       "  shrinking = true)"
      ]
     },
     "execution_count": 8,
     "metadata": {},
     "output_type": "execute_result"
    }
   ],
   "source": [
    "# Supporting Vector Classifier with Polynomial Kernel\n",
    "svc_poly_ker = MLJLIBSVMInterface.SVC(kernel = LIBSVM.Kernel.Polynomial, degree = Int32(3))"
   ]
  },
  {
   "cell_type": "code",
   "execution_count": 9,
   "id": "c38d9365",
   "metadata": {},
   "outputs": [
    {
     "data": {
      "text/plain": [
       "SVC(\n",
       "  kernel = LIBSVM.Kernel.Sigmoid, \n",
       "  gamma = 0.0, \n",
       "  cost = 1.0, \n",
       "  cachesize = 200.0, \n",
       "  degree = 3, \n",
       "  coef0 = 0.0, \n",
       "  tolerance = 0.001, \n",
       "  shrinking = true)"
      ]
     },
     "execution_count": 9,
     "metadata": {},
     "output_type": "execute_result"
    }
   ],
   "source": [
    "# Supporting Vector Classifier with Sigmoid Kernel (similar to logistic link, but with hyperbolic tangent function)\n",
    "svc_sigm_ker = MLJLIBSVMInterface.SVC(kernel = LIBSVM.Kernel.Sigmoid)"
   ]
  },
  {
   "cell_type": "code",
   "execution_count": 10,
   "id": "9a63b29a",
   "metadata": {},
   "outputs": [
    {
     "data": {
      "text/plain": [
       "SVC(\n",
       "  kernel = LIBSVM.Kernel.RadialBasis, \n",
       "  gamma = 0.0, \n",
       "  cost = 1.0, \n",
       "  cachesize = 200.0, \n",
       "  degree = 3, \n",
       "  coef0 = 0.0, \n",
       "  tolerance = 0.001, \n",
       "  shrinking = true)"
      ]
     },
     "execution_count": 10,
     "metadata": {},
     "output_type": "execute_result"
    }
   ],
   "source": [
    "# Supporting Vector Classifier with Radial Kernel\n",
    "svc_radial_ker = MLJLIBSVMInterface.SVC()"
   ]
  },
  {
   "cell_type": "markdown",
   "id": "fbcba312-c4e8-43c7-adef-07535bb035cb",
   "metadata": {
    "slideshow": {
     "slide_type": "slide"
    },
    "tags": []
   },
   "source": [
    "## Question 01: Run a Supporting Vector Classifier with a Linear Kernel (2 pts)\n",
    "\n",
    "1. The model has been instantiated for you, with cost $= 1$. Use it. (0.5 pts)\n",
    "\n",
    "1. Fit the model in the training set (1 pts)\n",
    "\n",
    "1. Compute the cross-validated (testing set) `accuracy`, `confusion_matrix`, and `f1score` (0.5 pts)"
   ]
  },
  {
   "cell_type": "code",
   "execution_count": 11,
   "id": "10ddb624",
   "metadata": {},
   "outputs": [],
   "source": [
    "# Your answers here"
   ]
  },
  {
   "cell_type": "code",
   "execution_count": 12,
   "id": "3139b390",
   "metadata": {},
   "outputs": [
    {
     "name": "stderr",
     "output_type": "stream",
     "text": [
      "\u001b[36m\u001b[1m[ \u001b[22m\u001b[39m\u001b[36m\u001b[1mInfo: \u001b[22m\u001b[39mTraining machine(SVC(kernel = Linear, …), …).\n",
      "\n",
      "WARNING: reaching max number of iterations\n"
     ]
    }
   ],
   "source": [
    "mach_q1 = machine(svc_lin_ker, X, y, scitype_check_level = 0);\n",
    "fit!(mach_q1, rows = train);"
   ]
  },
  {
   "cell_type": "code",
   "execution_count": 13,
   "id": "fbf3fae3",
   "metadata": {},
   "outputs": [],
   "source": [
    "# Predictions\n",
    "y_pred_mode_q1 = predict(mach_q1, rows = test);"
   ]
  },
  {
   "cell_type": "code",
   "execution_count": 14,
   "id": "df7e2633",
   "metadata": {},
   "outputs": [
    {
     "data": {
      "text/plain": [
       "0.7582236842105263"
      ]
     },
     "execution_count": 14,
     "metadata": {},
     "output_type": "execute_result"
    }
   ],
   "source": [
    "accuracy(y_pred_mode_q1, y[test])"
   ]
  },
  {
   "cell_type": "code",
   "execution_count": 15,
   "id": "faddd561",
   "metadata": {},
   "outputs": [
    {
     "name": "stderr",
     "output_type": "stream",
     "text": [
      "\u001b[33m\u001b[1m┌ \u001b[22m\u001b[39m\u001b[33m\u001b[1mWarning: \u001b[22m\u001b[39mLevels not explicitly ordered. Using the order CategoricalArrays.CategoricalValue{String, UInt32}[\"Against\", \"Favor\"]. The \"positive\" level is Favor. \n",
      "\u001b[33m\u001b[1m└ \u001b[22m\u001b[39m\u001b[90m@ StatisticalMeasures.ConfusionMatrices ~/.julia/packages/StatisticalMeasures/hPDX2/src/confusion_matrices.jl:339\u001b[39m\n"
     ]
    },
    {
     "data": {
      "text/plain": [
       "0.7167630057803468"
      ]
     },
     "execution_count": 15,
     "metadata": {},
     "output_type": "execute_result"
    }
   ],
   "source": [
    "f1score(y_pred_mode_q1, y[test])"
   ]
  },
  {
   "cell_type": "code",
   "execution_count": 16,
   "id": "f96d961e",
   "metadata": {},
   "outputs": [
    {
     "data": {
      "text/plain": [
       "          ┌───────────────┐\n",
       "          │ Ground Truth  │\n",
       "┌─────────┼───────┬───────┤\n",
       "│Predicted│Against│ Favor │\n",
       "├─────────┼───────┼───────┤\n",
       "│ Against │  275  │  23   │\n",
       "├─────────┼───────┼───────┤\n",
       "│  Favor  │  124  │  186  │\n",
       "└─────────┴───────┴───────┘\n"
      ]
     },
     "execution_count": 16,
     "metadata": {},
     "output_type": "execute_result"
    }
   ],
   "source": [
    "confusion_matrix(y_pred_mode_q1, y[test])"
   ]
  },
  {
   "cell_type": "code",
   "execution_count": 17,
   "id": "0c36fe22",
   "metadata": {},
   "outputs": [],
   "source": [
    "#= Interpretation:\n",
    "\n",
    "Linear Kernel SVM Classifier does well in classify people in favor of Pinochet.\n",
    "\n",
    "=#"
   ]
  },
  {
   "cell_type": "markdown",
   "id": "a8b7a9df-1935-4595-a2b2-e05e71a8cf8b",
   "metadata": {
    "slideshow": {
     "slide_type": "slide"
    },
    "tags": []
   },
   "source": [
    "## Question 02: Fit a Supporting Vector Classifier with Polynomial Kernel (2pts)\n",
    "\n",
    "1. The model has been instantiated for you, with cost $= 1$. Use it. (0.5 pts)\n",
    "\n",
    "1. Fit the model in the training set (1 pts)\n",
    "\n",
    "1. Compute the cross-validated (testing set) `accuracy`, `confusion_matrix`, and `f1score` (0.5 pts)"
   ]
  },
  {
   "cell_type": "code",
   "execution_count": 18,
   "id": "d654fc40",
   "metadata": {},
   "outputs": [],
   "source": [
    "# Your answers here"
   ]
  },
  {
   "cell_type": "code",
   "execution_count": 19,
   "id": "7ef9d0f9",
   "metadata": {},
   "outputs": [
    {
     "name": "stderr",
     "output_type": "stream",
     "text": [
      "\u001b[36m\u001b[1m[ \u001b[22m\u001b[39m\u001b[36m\u001b[1mInfo: \u001b[22m\u001b[39mTraining machine(SVC(kernel = Polynomial, …), …).\n"
     ]
    }
   ],
   "source": [
    "mach_q2 = machine(svc_poly_ker, X, y, scitype_check_level = 0);\n",
    "fit!(mach_q2, rows = train);"
   ]
  },
  {
   "cell_type": "code",
   "execution_count": 20,
   "id": "e46c5e61",
   "metadata": {},
   "outputs": [],
   "source": [
    "# Predictions\n",
    "y_pred_mode_q2 = predict(mach_q2, rows = test);"
   ]
  },
  {
   "cell_type": "code",
   "execution_count": 21,
   "id": "d49f5915",
   "metadata": {},
   "outputs": [
    {
     "data": {
      "text/plain": [
       "0.7023026315789473"
      ]
     },
     "execution_count": 21,
     "metadata": {},
     "output_type": "execute_result"
    }
   ],
   "source": [
    "accuracy(y_pred_mode_q2, y[test])"
   ]
  },
  {
   "cell_type": "code",
   "execution_count": 22,
   "id": "b4142baf",
   "metadata": {},
   "outputs": [
    {
     "name": "stderr",
     "output_type": "stream",
     "text": [
      "\u001b[33m\u001b[1m┌ \u001b[22m\u001b[39m\u001b[33m\u001b[1mWarning: \u001b[22m\u001b[39mLevels not explicitly ordered. Using the order CategoricalArrays.CategoricalValue{String, UInt32}[\"Against\", \"Favor\"]. The \"positive\" level is Favor. \n",
      "\u001b[33m\u001b[1m└ \u001b[22m\u001b[39m\u001b[90m@ StatisticalMeasures.ConfusionMatrices ~/.julia/packages/StatisticalMeasures/hPDX2/src/confusion_matrices.jl:339\u001b[39m\n"
     ]
    },
    {
     "data": {
      "text/plain": [
       "0.39464882943143814"
      ]
     },
     "execution_count": 22,
     "metadata": {},
     "output_type": "execute_result"
    }
   ],
   "source": [
    "f1score(y_pred_mode_q2, y[test])"
   ]
  },
  {
   "cell_type": "code",
   "execution_count": 23,
   "id": "98d6d628",
   "metadata": {},
   "outputs": [
    {
     "data": {
      "text/plain": [
       "          ┌───────────────┐\n",
       "          │ Ground Truth  │\n",
       "┌─────────┼───────┬───────┤\n",
       "│Predicted│Against│ Favor │\n",
       "├─────────┼───────┼───────┤\n",
       "│ Against │  368  │  150  │\n",
       "├─────────┼───────┼───────┤\n",
       "│  Favor  │  31   │  59   │\n",
       "└─────────┴───────┴───────┘\n"
      ]
     },
     "execution_count": 23,
     "metadata": {},
     "output_type": "execute_result"
    }
   ],
   "source": [
    "confusion_matrix(y_pred_mode_q2, y[test])"
   ]
  },
  {
   "cell_type": "code",
   "execution_count": 24,
   "id": "00243396",
   "metadata": {},
   "outputs": [],
   "source": [
    "#= Interpretation:\n",
    "\n",
    "Cubic Kernel SV Classifier does not do that well.\n",
    "\n",
    "=#"
   ]
  },
  {
   "cell_type": "markdown",
   "id": "243e38f9",
   "metadata": {
    "slideshow": {
     "slide_type": "slide"
    }
   },
   "source": [
    "## Question 03: Fit a Supporting Vector Classifier with Sigmoid Kernel (2pts)\n",
    "\n",
    "1. The model has been instantiated for you, with cost $= 1$. Use it. (0.5 pts)\n",
    "\n",
    "1. Fit the model in the training set (1 pts)\n",
    "\n",
    "1. Compute the cross-validated (testing set) `accuracy`, `confusion_matrix`, and `f1score` (0.5 pts)"
   ]
  },
  {
   "cell_type": "code",
   "execution_count": 25,
   "id": "c4b76b6a",
   "metadata": {},
   "outputs": [],
   "source": [
    "# Your answers here"
   ]
  },
  {
   "cell_type": "code",
   "execution_count": 26,
   "id": "18e62848",
   "metadata": {
    "scrolled": true
   },
   "outputs": [
    {
     "name": "stderr",
     "output_type": "stream",
     "text": [
      "\u001b[36m\u001b[1m[ \u001b[22m\u001b[39m\u001b[36m\u001b[1mInfo: \u001b[22m\u001b[39mTraining machine(SVC(kernel = Sigmoid, …), …).\n"
     ]
    }
   ],
   "source": [
    "mach_q3 = machine(svc_sigm_ker, X, y, scitype_check_level = 0);\n",
    "fit!(mach_q3, rows = train);"
   ]
  },
  {
   "cell_type": "code",
   "execution_count": 27,
   "id": "0ffc2d50",
   "metadata": {},
   "outputs": [],
   "source": [
    "# Predictions\n",
    "y_pred_mode_q3 = predict(mach_q3, rows = test);"
   ]
  },
  {
   "cell_type": "code",
   "execution_count": 28,
   "id": "58326364",
   "metadata": {},
   "outputs": [
    {
     "data": {
      "text/plain": [
       "0.555921052631579"
      ]
     },
     "execution_count": 28,
     "metadata": {},
     "output_type": "execute_result"
    }
   ],
   "source": [
    "accuracy(y_pred_mode_q3, y[test])"
   ]
  },
  {
   "cell_type": "code",
   "execution_count": 29,
   "id": "d5489c95",
   "metadata": {},
   "outputs": [
    {
     "name": "stderr",
     "output_type": "stream",
     "text": [
      "\u001b[33m\u001b[1m┌ \u001b[22m\u001b[39m\u001b[33m\u001b[1mWarning: \u001b[22m\u001b[39mLevels not explicitly ordered. Using the order CategoricalArrays.CategoricalValue{String, UInt32}[\"Against\", \"Favor\"]. The \"positive\" level is Favor. \n",
      "\u001b[33m\u001b[1m└ \u001b[22m\u001b[39m\u001b[90m@ StatisticalMeasures.ConfusionMatrices ~/.julia/packages/StatisticalMeasures/hPDX2/src/confusion_matrices.jl:339\u001b[39m\n"
     ]
    },
    {
     "data": {
      "text/plain": [
       "0.36018957345971564"
      ]
     },
     "execution_count": 29,
     "metadata": {},
     "output_type": "execute_result"
    }
   ],
   "source": [
    "f1score(y_pred_mode_q3, y[test])"
   ]
  },
  {
   "cell_type": "code",
   "execution_count": 30,
   "id": "eaef477c",
   "metadata": {},
   "outputs": [
    {
     "data": {
      "text/plain": [
       "          ┌───────────────┐\n",
       "          │ Ground Truth  │\n",
       "┌─────────┼───────┬───────┤\n",
       "│Predicted│Against│ Favor │\n",
       "├─────────┼───────┼───────┤\n",
       "│ Against │  262  │  133  │\n",
       "├─────────┼───────┼───────┤\n",
       "│  Favor  │  137  │  76   │\n",
       "└─────────┴───────┴───────┘\n"
      ]
     },
     "execution_count": 30,
     "metadata": {},
     "output_type": "execute_result"
    }
   ],
   "source": [
    "confusion_matrix(y_pred_mode_q3, y[test])"
   ]
  },
  {
   "cell_type": "code",
   "execution_count": 31,
   "id": "912f936c",
   "metadata": {},
   "outputs": [],
   "source": [
    "#= Interpretation:\n",
    "\n",
    "Sigmoid Kernel SVC also performs poorly.\n",
    "\n",
    "=#"
   ]
  },
  {
   "cell_type": "markdown",
   "id": "c82407c2",
   "metadata": {
    "slideshow": {
     "slide_type": "slide"
    }
   },
   "source": [
    "## Question 04: Fit a Supporting Vector Classifier with Radial Basis Kernel (2pts)\n",
    "\n",
    "1. The model has been instantiated for you, with cost $= 1$. Use it. (0.5 pts)\n",
    "\n",
    "1. Fit the model in the training set (1 pts)\n",
    "\n",
    "1. Compute the cross-validated (testing set) `accuracy`, `confusion_matrix`, and `f1score` (0.5 pts)\n",
    "\n",
    "**Interesting:** This is usually the default kernel choice for SVCs."
   ]
  },
  {
   "cell_type": "code",
   "execution_count": 32,
   "id": "9ed81d46",
   "metadata": {},
   "outputs": [],
   "source": [
    "# Your answers here"
   ]
  },
  {
   "cell_type": "code",
   "execution_count": 33,
   "id": "9cb8386f",
   "metadata": {
    "scrolled": true
   },
   "outputs": [
    {
     "name": "stderr",
     "output_type": "stream",
     "text": [
      "\u001b[36m\u001b[1m[ \u001b[22m\u001b[39m\u001b[36m\u001b[1mInfo: \u001b[22m\u001b[39mTraining machine(SVC(kernel = RadialBasis, …), …).\n"
     ]
    }
   ],
   "source": [
    "mach_q4 = machine(svc_radial_ker, X, y, scitype_check_level = 0);\n",
    "fit!(mach_q4, rows = train);"
   ]
  },
  {
   "cell_type": "code",
   "execution_count": 34,
   "id": "fab836b8",
   "metadata": {},
   "outputs": [],
   "source": [
    "# Predictions\n",
    "y_pred_mode_q4 = predict(mach_q4, rows = test);"
   ]
  },
  {
   "cell_type": "code",
   "execution_count": 35,
   "id": "636318db",
   "metadata": {},
   "outputs": [
    {
     "data": {
      "text/plain": [
       "0.65625"
      ]
     },
     "execution_count": 35,
     "metadata": {},
     "output_type": "execute_result"
    }
   ],
   "source": [
    "accuracy(y_pred_mode_q4, y[test])"
   ]
  },
  {
   "cell_type": "code",
   "execution_count": 36,
   "id": "cb1b6b68",
   "metadata": {},
   "outputs": [
    {
     "name": "stderr",
     "output_type": "stream",
     "text": [
      "\u001b[33m\u001b[1m┌ \u001b[22m\u001b[39m\u001b[33m\u001b[1mWarning: \u001b[22m\u001b[39mLevels not explicitly ordered. Using the order CategoricalArrays.CategoricalValue{String, UInt32}[\"Against\", \"Favor\"]. The \"positive\" level is Favor. \n",
      "\u001b[33m\u001b[1m└ \u001b[22m\u001b[39m\u001b[90m@ StatisticalMeasures.ConfusionMatrices ~/.julia/packages/StatisticalMeasures/hPDX2/src/confusion_matrices.jl:339\u001b[39m\n"
     ]
    },
    {
     "data": {
      "text/plain": [
       "0.0"
      ]
     },
     "execution_count": 36,
     "metadata": {},
     "output_type": "execute_result"
    }
   ],
   "source": [
    "f1score(y_pred_mode_q4, y[test])"
   ]
  },
  {
   "cell_type": "code",
   "execution_count": 37,
   "id": "e4d029e8",
   "metadata": {},
   "outputs": [
    {
     "data": {
      "text/plain": [
       "          ┌───────────────┐\n",
       "          │ Ground Truth  │\n",
       "┌─────────┼───────┬───────┤\n",
       "│Predicted│Against│ Favor │\n",
       "├─────────┼───────┼───────┤\n",
       "│ Against │  399  │  209  │\n",
       "├─────────┼───────┼───────┤\n",
       "│  Favor  │   0   │   0   │\n",
       "└─────────┴───────┴───────┘\n"
      ]
     },
     "execution_count": 37,
     "metadata": {},
     "output_type": "execute_result"
    }
   ],
   "source": [
    "confusion_matrix(y_pred_mode_q4, y[test])"
   ]
  },
  {
   "cell_type": "code",
   "execution_count": 38,
   "id": "fcf5d69f",
   "metadata": {},
   "outputs": [],
   "source": [
    "#= Interpretation:\n",
    "\n",
    "Radial Basis Kernel SVC does even worse.\n",
    "\n",
    "=#"
   ]
  },
  {
   "cell_type": "markdown",
   "id": "5ec3f02d",
   "metadata": {
    "slideshow": {
     "slide_type": "slide"
    },
    "tags": []
   },
   "source": [
    "## Question 05: If you were to choose among the four models above, which one would you choose? Explain. (2 pts)"
   ]
  },
  {
   "cell_type": "code",
   "execution_count": 39,
   "id": "0ef0902d",
   "metadata": {},
   "outputs": [],
   "source": [
    "# Your answers here"
   ]
  },
  {
   "cell_type": "code",
   "execution_count": 40,
   "id": "e0daa27b",
   "metadata": {},
   "outputs": [],
   "source": [
    "#= Best model:\n",
    "\n",
    "(best)  Linear SVC\n",
    "        tie between Polynomial SVC and Sigmoid SVC\n",
    "(worst) Radial Basis SVC\n",
    "\n",
    "=#"
   ]
  },
  {
   "cell_type": "markdown",
   "id": "edb0f584",
   "metadata": {
    "slideshow": {
     "slide_type": "-"
    }
   },
   "source": [
    "**Great work!**"
   ]
  }
 ],
 "metadata": {
  "citation-manager": {
   "items": {}
  },
  "kernelspec": {
   "display_name": "Julia 1.9.2",
   "language": "julia",
   "name": "julia-1.9"
  },
  "language_info": {
   "file_extension": ".jl",
   "mimetype": "application/julia",
   "name": "julia",
   "version": "1.9.2"
  }
 },
 "nbformat": 4,
 "nbformat_minor": 5
}
