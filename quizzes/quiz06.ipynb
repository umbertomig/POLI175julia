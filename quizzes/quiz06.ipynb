{
 "cells": [
  {
   "cell_type": "markdown",
   "id": "66a1628f-0686-4f23-ad5f-600b9548fa45",
   "metadata": {
    "slideshow": {
     "slide_type": "slide"
    },
    "tags": []
   },
   "source": [
    "# POLI 175 - Quiz 05\n",
    "\n",
    "In this quiz, you will fit a few Ensemble models.\n",
    "\n",
    "Due date: Mar 12, 2024\n",
    "\n",
    "Again: The grading for the quiz is:\n",
    "\n",
    "$$ 0.7 \\times \\text{TRY} + 0.3 \\times \\text{CORRECT} $$\n",
    "\n",
    "The points below refer to the correctness part."
   ]
  },
  {
   "cell_type": "markdown",
   "id": "f41c4e3e",
   "metadata": {},
   "source": [
    "## Running Dataset\n",
    "\n",
    "### [Chile Survey](https://en.wikipedia.org/wiki/Chile)\n",
    "\n",
    "In 1988, the [Chilean Dictator](https://en.wikipedia.org/wiki/Military_dictatorship_of_Chile) [Augusto Pinochet](https://en.wikipedia.org/wiki/Augusto_Pinochet) conducted a [referendum to whether he should step out](https://en.wikipedia.org/wiki/1988_Chilean_presidential_referendum).\n",
    "\n",
    "The [FLACSO](https://en.wikipedia.org/wiki/Latin_American_Faculty_of_Social_Sciences) in Chile conducted a surver on 2700 respondents. We are going to build a model to predict their voting intentions.\n",
    "\n",
    "| **Variable** | **Meaning** |\n",
    "|:---:|---|\n",
    "| region | A factor with levels:<br>- `C`, Central; <br>- `M`, Metropolitan Santiago area; <br>- `N`, North; <br>- `S`, South; <br>- `SA`, city of Santiago. |\n",
    "| population | The population size of respondent's community. |\n",
    "| sex | A factor with levels: <br>- `F`, female; <br>- `M`, male. |\n",
    "| age | The respondent's age in years. |\n",
    "| education | A factor with levels: <br>- `P`, Primary; <br>- `S`, Secondary; <br>- `PS`, Post-secondary. |\n",
    "| income | The respondent's monthly income, in Pesos. |\n",
    "| statusquo | A scale of support for the status-quo. |\n",
    "| voteyes | A dummy variable with one<br>meaning a vote in favor of Pinochet |\n",
    "\n",
    "Let me pre-process the data a bit for you."
   ]
  },
  {
   "cell_type": "code",
   "execution_count": 1,
   "id": "c65c001c",
   "metadata": {},
   "outputs": [],
   "source": [
    "## Loading the packages (make sure you have those installed)\n",
    "using DataFrames\n",
    "using MLJ, MLJIteration\n",
    "using MLJModels\n",
    "import MLJLinearModels, MLJBase\n",
    "import MultivariateStats, MLJMultivariateStatsInterface\n",
    "import CSV, Plots, GLM, StatsBase, Random\n",
    "import LaTeXStrings, StatsPlots, Lowess, Gadfly, RegressionTables\n",
    "import CovarianceMatrices, Econometrics, LinearAlgebra, MixedModelsExtras\n",
    "import Missings, StatsAPI, FreqTables, EvalMetrics\n",
    "import DecisionTree, MLJDecisionTreeInterface\n",
    "import XGBoost, MLJXGBoostInterface\n",
    "\n",
    "# Solver\n",
    "solver = MLJLinearModels.NewtonCG()\n",
    "\n",
    "## Loading the data\n",
    "chile = CSV.read(\n",
    "    download(\"https://raw.githubusercontent.com/umbertomig/POLI175julia/main/data/chilesurvey.csv\"), \n",
    "    DataFrame,\n",
    "    missingstring = [\"NA\"]\n",
    "); dropmissing!(chile)\n",
    "\n",
    "## Process target variable\n",
    "chile.voteyes = ifelse.(chile.vote .== \"Y\", 1, 0)\n",
    "\n",
    "# Pre-process numeri cariables (log them)\n",
    "chile.income_log = log.(chile.income);\n",
    "chile.pop_log = log.(chile.population);\n",
    "\n",
    "select!(chile, Not(:vote, :income, :population));"
   ]
  },
  {
   "cell_type": "code",
   "execution_count": 2,
   "id": "1601aa26",
   "metadata": {},
   "outputs": [],
   "source": [
    "# Adapted from @xiaodaigh: https://github.com/xiaodaigh/DataConvenience.jl\n",
    "function onehot!(df::AbstractDataFrame, \n",
    "        col, cate = sort(unique(df[!, col])); \n",
    "        outnames = Symbol.(col, :_, cate))\n",
    "    transform!(df, @. col => ByRow(isequal(cate)) .=> outnames)\n",
    "end\n",
    "\n",
    "# One-hot encoding (we will learn a better way to do it later)\n",
    "onehot!(chile, :region);\n",
    "onehot!(chile, :education);\n",
    "onehot!(chile, :sex);\n",
    "\n",
    "# Drop reference categories\n",
    "select!(chile, Not(:region, :sex, :education, :region_C, :education_P, :sex_M));"
   ]
  },
  {
   "cell_type": "markdown",
   "id": "92474b46",
   "metadata": {},
   "source": [
    "And to facilitate, I will create three feature groups for you. One for each question."
   ]
  },
  {
   "cell_type": "code",
   "execution_count": 3,
   "id": "252f890e",
   "metadata": {},
   "outputs": [],
   "source": [
    "# Full Specification\n",
    "y, X = unpack(\n",
    "    chile,\n",
    "    ==(:voteyes),\n",
    "    c -> true;\n",
    "    :voteyes      => Multiclass,\n",
    "    :income_log   => Continuous,\n",
    "    :statusquo    => Continuous,\n",
    "    :pop_log      => Continuous,\n",
    "    :age          => Continuous,\n",
    "    :region_M     => Multiclass,\n",
    "    :region_N     => Multiclass,\n",
    "    :region_S     => Multiclass,\n",
    "    :region_SA    => Multiclass,\n",
    "    :sex_F        => Multiclass,\n",
    "    :education_S  => Multiclass,\n",
    "    :education_PS => Multiclass,\n",
    ");"
   ]
  },
  {
   "cell_type": "code",
   "execution_count": 4,
   "id": "2996de81",
   "metadata": {},
   "outputs": [
    {
     "data": {
      "text/plain": [
       "2-element Named Vector{Int64}\n",
       "Dim1  │ \n",
       "──────┼─────\n",
       "0     │ 1595\n",
       "1     │  836"
      ]
     },
     "execution_count": 4,
     "metadata": {},
     "output_type": "execute_result"
    }
   ],
   "source": [
    "# Target\n",
    "FreqTables.freqtable(y)"
   ]
  },
  {
   "cell_type": "code",
   "execution_count": 5,
   "id": "c5aebeb4",
   "metadata": {},
   "outputs": [
    {
     "data": {
      "text/html": [
       "<div><div style = \"float: left;\"><span>3×11 DataFrame</span></div><div style = \"clear: both;\"></div></div><div class = \"data-frame\" style = \"overflow-x: scroll;\"><table class = \"data-frame\" style = \"margin-bottom: 6px;\"><thead><tr class = \"header\"><th class = \"rowNumber\" style = \"font-weight: bold; text-align: right;\">Row</th><th style = \"text-align: left;\">age</th><th style = \"text-align: left;\">statusquo</th><th style = \"text-align: left;\">income_log</th><th style = \"text-align: left;\">pop_log</th><th style = \"text-align: left;\">region_M</th><th style = \"text-align: left;\">region_N</th><th style = \"text-align: left;\">region_S</th><th style = \"text-align: left;\">region_SA</th><th style = \"text-align: left;\">education_PS</th><th style = \"text-align: left;\">education_S</th><th style = \"text-align: left;\">sex_F</th></tr><tr class = \"subheader headerLastRow\"><th class = \"rowNumber\" style = \"font-weight: bold; text-align: right;\"></th><th title = \"Float64\" style = \"text-align: left;\">Float64</th><th title = \"Float64\" style = \"text-align: left;\">Float64</th><th title = \"Float64\" style = \"text-align: left;\">Float64</th><th title = \"Float64\" style = \"text-align: left;\">Float64</th><th title = \"CategoricalArrays.CategoricalValue{Bool, UInt32}\" style = \"text-align: left;\">Cat…</th><th title = \"CategoricalArrays.CategoricalValue{Bool, UInt32}\" style = \"text-align: left;\">Cat…</th><th title = \"CategoricalArrays.CategoricalValue{Bool, UInt32}\" style = \"text-align: left;\">Cat…</th><th title = \"CategoricalArrays.CategoricalValue{Bool, UInt32}\" style = \"text-align: left;\">Cat…</th><th title = \"CategoricalArrays.CategoricalValue{Bool, UInt32}\" style = \"text-align: left;\">Cat…</th><th title = \"CategoricalArrays.CategoricalValue{Bool, UInt32}\" style = \"text-align: left;\">Cat…</th><th title = \"CategoricalArrays.CategoricalValue{Bool, UInt32}\" style = \"text-align: left;\">Cat…</th></tr></thead><tbody><tr><td class = \"rowNumber\" style = \"font-weight: bold; text-align: right;\">1</td><td style = \"text-align: right;\">65.0</td><td style = \"text-align: right;\">1.0082</td><td style = \"text-align: right;\">10.4631</td><td style = \"text-align: right;\">12.0725</td><td style = \"text-align: left;\">false</td><td style = \"text-align: left;\">true</td><td style = \"text-align: left;\">false</td><td style = \"text-align: left;\">false</td><td style = \"text-align: left;\">false</td><td style = \"text-align: left;\">false</td><td style = \"text-align: left;\">false</td></tr><tr><td class = \"rowNumber\" style = \"font-weight: bold; text-align: right;\">2</td><td style = \"text-align: right;\">29.0</td><td style = \"text-align: right;\">-1.29617</td><td style = \"text-align: right;\">8.92266</td><td style = \"text-align: right;\">12.0725</td><td style = \"text-align: left;\">false</td><td style = \"text-align: left;\">true</td><td style = \"text-align: left;\">false</td><td style = \"text-align: left;\">false</td><td style = \"text-align: left;\">true</td><td style = \"text-align: left;\">false</td><td style = \"text-align: left;\">false</td></tr><tr><td class = \"rowNumber\" style = \"font-weight: bold; text-align: right;\">3</td><td style = \"text-align: right;\">38.0</td><td style = \"text-align: right;\">1.23072</td><td style = \"text-align: right;\">9.61581</td><td style = \"text-align: right;\">12.0725</td><td style = \"text-align: left;\">false</td><td style = \"text-align: left;\">true</td><td style = \"text-align: left;\">false</td><td style = \"text-align: left;\">false</td><td style = \"text-align: left;\">false</td><td style = \"text-align: left;\">false</td><td style = \"text-align: left;\">true</td></tr></tbody></table></div>"
      ],
      "text/latex": [
       "\\begin{tabular}{r|ccccccccc}\n",
       "\t& age & statusquo & income\\_log & pop\\_log & region\\_M & region\\_N & region\\_S & region\\_SA & \\\\\n",
       "\t\\hline\n",
       "\t& Float64 & Float64 & Float64 & Float64 & Cat… & Cat… & Cat… & Cat… & \\\\\n",
       "\t\\hline\n",
       "\t1 & 65.0 & 1.0082 & 10.4631 & 12.0725 & false & true & false & false & $\\dots$ \\\\\n",
       "\t2 & 29.0 & -1.29617 & 8.92266 & 12.0725 & false & true & false & false & $\\dots$ \\\\\n",
       "\t3 & 38.0 & 1.23072 & 9.61581 & 12.0725 & false & true & false & false & $\\dots$ \\\\\n",
       "\\end{tabular}\n"
      ],
      "text/plain": [
       "\u001b[1m3×11 DataFrame\u001b[0m\n",
       "\u001b[1m Row \u001b[0m│\u001b[1m age     \u001b[0m\u001b[1m statusquo \u001b[0m\u001b[1m income_log \u001b[0m\u001b[1m pop_log \u001b[0m\u001b[1m region_M \u001b[0m\u001b[1m region_N \u001b[0m\u001b[1m region_S \u001b[0m\u001b[1m \u001b[0m ⋯\n",
       "     │\u001b[90m Float64 \u001b[0m\u001b[90m Float64   \u001b[0m\u001b[90m Float64    \u001b[0m\u001b[90m Float64 \u001b[0m\u001b[90m Cat…     \u001b[0m\u001b[90m Cat…     \u001b[0m\u001b[90m Cat…     \u001b[0m\u001b[90m \u001b[0m ⋯\n",
       "─────┼──────────────────────────────────────────────────────────────────────────\n",
       "   1 │    65.0    1.0082     10.4631   12.0725  false     true      false      ⋯\n",
       "   2 │    29.0   -1.29617     8.92266  12.0725  false     true      false\n",
       "   3 │    38.0    1.23072     9.61581  12.0725  false     true      false\n",
       "\u001b[36m                                                               4 columns omitted\u001b[0m"
      ]
     },
     "execution_count": 5,
     "metadata": {},
     "output_type": "execute_result"
    }
   ],
   "source": [
    "# Features\n",
    "first(X, 3)"
   ]
  },
  {
   "cell_type": "markdown",
   "id": "729e5d3d",
   "metadata": {},
   "source": [
    "### Helpers\n",
    "\n",
    "To save you time, I am instantiating below:\n",
    "\n",
    "1. Decision Tree Classifier (`tree_model`).\n",
    "1. AdaBoostStupClassifier (`adaboost_model`): AdaBoost Classifier using a stump (decision tree with just one leaf, i.e., a binary tree).\n",
    "1. A Extreme Gradient Boost Classifier (`xgboost_model`)\n",
    "1. A Random Forest model (`rf_model`).\n",
    "1. A 70%-30% train-test split (`train`, `test`). It uses the indexes on `y`."
   ]
  },
  {
   "cell_type": "code",
   "execution_count": 6,
   "id": "788d648e",
   "metadata": {},
   "outputs": [],
   "source": [
    "## Initialized for you\n",
    "\n",
    "# Decision tree\n",
    "tree_model = MLJDecisionTreeInterface.DecisionTreeClassifier();\n",
    "\n",
    "# AdaBoostStump\n",
    "adaboost_model = MLJDecisionTreeInterface.AdaBoostStumpClassifier();\n",
    "\n",
    "# XGBoost\n",
    "xgboost_model = MLJXGBoostInterface.XGBoostClassifier(num_round = 50);\n",
    "\n",
    "# Random forest\n",
    "rf_model = MLJDecisionTreeInterface.RandomForestClassifier();\n",
    "\n",
    "# Train-test split\n",
    "train, test = partition(eachindex(y), 0.7, shuffle = true, stratify = y, rng = 98765);"
   ]
  },
  {
   "cell_type": "markdown",
   "id": "fbcba312-c4e8-43c7-adef-07535bb035cb",
   "metadata": {
    "slideshow": {
     "slide_type": "slide"
    },
    "tags": []
   },
   "source": [
    "## Question 01: Run a Bagging Classifier (2 pts)\n",
    "\n",
    "1. Instantiate the Bagging Ensemble Model with 50 bags (0.5 pts)\n",
    "\n",
    "1. Fit the model in the training set (0.5 pts)\n",
    "\n",
    "1. Compute the cross-validated (testing set) `accuracy`, `confusion_matrix`, and `f1score` (0.5 pts)\n",
    "\n",
    "1. Print the ROC curve (testing set) (0.5 pts)"
   ]
  },
  {
   "cell_type": "code",
   "execution_count": 7,
   "id": "10ddb624",
   "metadata": {},
   "outputs": [],
   "source": [
    "# Your answers here"
   ]
  },
  {
   "cell_type": "markdown",
   "id": "a8b7a9df-1935-4595-a2b2-e05e71a8cf8b",
   "metadata": {
    "slideshow": {
     "slide_type": "slide"
    },
    "tags": []
   },
   "source": [
    "## Question 02: Run a Random Forest Ensemble Classifier (2pts)\n",
    "\n",
    "1. The model is instantiated for you. You should use the one I provided. (0.5 pts)\n",
    "\n",
    "1. Fit the model in the training set (0.5 pts)\n",
    "\n",
    "1. Compute the cross-validated (testing set) `accuracy`, `confusion_matrix`, and `f1score` (0.5 pts)\n",
    "\n",
    "1. Print the ROC curve (testing set) (0.5 pts)"
   ]
  },
  {
   "cell_type": "code",
   "execution_count": 16,
   "id": "d654fc40",
   "metadata": {},
   "outputs": [],
   "source": [
    "# Your answers here"
   ]
  },
  {
   "cell_type": "markdown",
   "id": "243e38f9",
   "metadata": {
    "slideshow": {
     "slide_type": "slide"
    }
   },
   "source": [
    "## Question 03: Run an AdaBoost Classifier (2pts)\n",
    "\n",
    "1. I have instantiated the AdaBoost model for you. You should use the one I provided. (0.5 pts)\n",
    "\n",
    "1. Fit the model in the training set (0.5 pts)\n",
    "\n",
    "1. Compute the cross-validated (testing set) `accuracy`, `confusion_matrix`, and `f1score` (0.5 pts)\n",
    "\n",
    "1. Print the ROC curve (testing set) (0.5 pts)"
   ]
  },
  {
   "cell_type": "code",
   "execution_count": 24,
   "id": "c4b76b6a",
   "metadata": {},
   "outputs": [],
   "source": [
    "# Your answers here"
   ]
  },
  {
   "cell_type": "markdown",
   "id": "c82407c2",
   "metadata": {
    "slideshow": {
     "slide_type": "slide"
    }
   },
   "source": [
    "## Question 04: Run a eXtreme Gradient Boost Classifier (2pts)\n",
    "\n",
    "1. I have instantiated the `xgboost_model` for you. You should use the one I provided. (0.5 pts)\n",
    "\n",
    "1. Fit the model in the training set (0.5 pts)\n",
    "\n",
    "1. Compute the cross-validated (testing set) `accuracy`, `confusion_matrix`, and `f1score` (0.5 pts)\n",
    "\n",
    "1. Print the ROC curve (testing set) (0.5 pts)\n",
    "\n",
    "**Hint:** It shows the history of the training. No need to panic 🙂."
   ]
  },
  {
   "cell_type": "code",
   "execution_count": 32,
   "id": "9ed81d46",
   "metadata": {},
   "outputs": [],
   "source": [
    "# Your answers here"
   ]
  },
  {
   "cell_type": "markdown",
   "id": "5ec3f02d",
   "metadata": {
    "slideshow": {
     "slide_type": "slide"
    },
    "tags": []
   },
   "source": [
    "## Question 05: Put all the classifiers in the same ROC curve (2 pts)\n",
    "\n",
    "1. (0.5 pts) Save the predicted values as:\n",
    "    1. `y_pred_prob_q1`: Bagging Classifier\n",
    "    1. `y_pred_prob_q2`: Random Forest Classifier\n",
    "    1. `y_pred_prob_q3`: AdaBoosting Classifier\n",
    "    1. `y_pred_prob_q4`: XGBoost Classifier\n",
    "\n",
    "1. Print the ROC curves in the same plot (1.0 pts)\n",
    "\n",
    "1. Which model is the best? (0.5 pts)\n",
    "\n",
    "**Hint**: Here is some code to get you started:\n",
    "\n",
    "```julia\n",
    "EvalMetrics.rocplot(\n",
    "    [\n",
    "        Vector{Int64}(y[test]), \n",
    "        Vector{Int64}(y[test]), \n",
    "        Vector{Int64}(y[test]), \n",
    "        Vector{Int64}(y[test])\n",
    "    ], \n",
    "    [\n",
    "        y_pred_prob_q1, \n",
    "        y_pred_prob_q2, \n",
    "        y_pred_prob_?, \n",
    "        y_pred_prob_?\n",
    "    ], \n",
    "    label = [\"?\" \"??\" \"???\" \"????\";], \n",
    "    diagonal = true)\n",
    "```"
   ]
  },
  {
   "cell_type": "code",
   "execution_count": 40,
   "id": "0ef0902d",
   "metadata": {},
   "outputs": [],
   "source": [
    "# Your answers here"
   ]
  },
  {
   "cell_type": "markdown",
   "id": "edb0f584",
   "metadata": {
    "slideshow": {
     "slide_type": "-"
    }
   },
   "source": [
    "**Great work!**"
   ]
  }
 ],
 "metadata": {
  "citation-manager": {
   "items": {}
  },
  "kernelspec": {
   "display_name": "Julia 1.9.2",
   "language": "julia",
   "name": "julia-1.9"
  },
  "language_info": {
   "file_extension": ".jl",
   "mimetype": "application/julia",
   "name": "julia",
   "version": "1.9.2"
  }
 },
 "nbformat": 4,
 "nbformat_minor": 5
}
