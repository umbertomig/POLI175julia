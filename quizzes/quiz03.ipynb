{
 "cells": [
  {
   "cell_type": "markdown",
   "id": "66a1628f-0686-4f23-ad5f-600b9548fa45",
   "metadata": {
    "slideshow": {
     "slide_type": "slide"
    },
    "tags": []
   },
   "source": [
    "# POLI 175 - Quiz 03\n",
    "\n",
    "In this quiz, you will run a classification model in Julia\n",
    "\n",
    "Due date: Feb 16, 2024\n",
    "\n",
    "Again: The grading for the quiz is:\n",
    "\n",
    "$$ 0.7 \\times \\text{TRY} + 0.3 \\times \\text{CORRECT} $$\n",
    "\n",
    "The points below refer to the correctness part."
   ]
  },
  {
   "cell_type": "markdown",
   "id": "f41c4e3e",
   "metadata": {},
   "source": [
    "## Running Dataset\n",
    "\n",
    "### [Chile Survey](https://en.wikipedia.org/wiki/Chile)\n",
    "\n",
    "In 1988, the [Chilean Dictator](https://en.wikipedia.org/wiki/Military_dictatorship_of_Chile) [Augusto Pinochet](https://en.wikipedia.org/wiki/Augusto_Pinochet) conducted a [referendum to whether he should step out](https://en.wikipedia.org/wiki/1988_Chilean_presidential_referendum).\n",
    "\n",
    "The [FLACSO](https://en.wikipedia.org/wiki/Latin_American_Faculty_of_Social_Sciences) in Chile conducted a surver on 2700 respondents. We are going to build a model to predict their voting intentions.\n",
    "\n",
    "| **Variable** | **Meaning** |\n",
    "|:---:|---|\n",
    "| region | A factor with levels:<br>- `C`, Central; <br>- `M`, Metropolitan Santiago area; <br>- `N`, North; <br>- `S`, South; <br>- `SA`, city of Santiago. |\n",
    "| population | The population size of respondent's community. |\n",
    "| sex | A factor with levels: <br>- `F`, female; <br>- `M`, male. |\n",
    "| age | The respondent's age in years. |\n",
    "| education | A factor with levels: <br>- `P`, Primary; <br>- `S`, Secondary; <br>- `PS`, Post-secondary. |\n",
    "| income | The respondent's monthly income, in Pesos. |\n",
    "| statusquo | A scale of support for the status-quo. |\n",
    "| voteyes | A dummy variable with one<br>meaning a vote in favor of Pinochet |\n",
    "\n",
    "Let me pre-process the data a bit for you."
   ]
  },
  {
   "cell_type": "code",
   "execution_count": 1,
   "id": "c65c001c",
   "metadata": {},
   "outputs": [
    {
     "name": "stdout",
     "output_type": "stream",
     "text": [
      "┌─────────┬─────────┬───────┬───────────┬────────────┬─────────┬────────────┬────────────┐\n",
      "│\u001b[1m region  \u001b[0m│\u001b[1m sex     \u001b[0m│\u001b[1m age   \u001b[0m│\u001b[1m education \u001b[0m│\u001b[1m statusquo  \u001b[0m│\u001b[1m voteyes \u001b[0m│\u001b[1m income_log \u001b[0m│\u001b[1m pop_log    \u001b[0m│\n",
      "│\u001b[90m String3 \u001b[0m│\u001b[90m String1 \u001b[0m│\u001b[90m Int64 \u001b[0m│\u001b[90m String3   \u001b[0m│\u001b[90m Float64    \u001b[0m│\u001b[90m Int64   \u001b[0m│\u001b[90m Float64    \u001b[0m│\u001b[90m Float64    \u001b[0m│\n",
      "│\u001b[90m Textual \u001b[0m│\u001b[90m Textual \u001b[0m│\u001b[90m Count \u001b[0m│\u001b[90m Textual   \u001b[0m│\u001b[90m Continuous \u001b[0m│\u001b[90m Count   \u001b[0m│\u001b[90m Continuous \u001b[0m│\u001b[90m Continuous \u001b[0m│\n",
      "├─────────┼─────────┼───────┼───────────┼────────────┼─────────┼────────────┼────────────┤\n",
      "│ N       │ M       │ 65    │ P         │ 1.0082     │ 1       │ 10.4631    │ 12.0725    │\n",
      "│ N       │ M       │ 29    │ PS        │ -1.29617   │ 0       │ 8.92266    │ 12.0725    │\n",
      "│ N       │ F       │ 38    │ P         │ 1.23072    │ 1       │ 9.61581    │ 12.0725    │\n",
      "└─────────┴─────────┴───────┴───────────┴────────────┴─────────┴────────────┴────────────┘\n"
     ]
    }
   ],
   "source": [
    "## Loading the packages (make sure you have those installed)\n",
    "using DataFrames\n",
    "using MLJ, MLJIteration\n",
    "import MLJLinearModels, MLJBase\n",
    "import MultivariateStats, MLJMultivariateStatsInterface\n",
    "import CSV, Plots, GLM, StatsBase, Random\n",
    "import LaTeXStrings, StatsPlots, Lowess, Gadfly, RegressionTables\n",
    "import CovarianceMatrices, Econometrics, LinearAlgebra, MixedModelsExtras\n",
    "import Missings, StatsAPI, FreqTables, EvalMetrics\n",
    "import NearestNeighborModels\n",
    "\n",
    "## Loading the data\n",
    "chile = CSV.read(\n",
    "    download(\"https://raw.githubusercontent.com/umbertomig/POLI175julia/main/data/chilesurvey.csv\"), \n",
    "    DataFrame,\n",
    "    missingstring = [\"NA\"]\n",
    "); dropmissing!(chile)\n",
    "\n",
    "## Process target variable\n",
    "chile.voteyes = ifelse.(chile.vote .== \"Y\", 1, 0)\n",
    "\n",
    "# Pre-process numeri cariables (log them)\n",
    "chile.income_log = log.(chile.income);\n",
    "chile.pop_log = log.(chile.population);\n",
    "\n",
    "select!(chile, Not(:vote, :income, :population))\n",
    "first(chile, 3) |> pretty"
   ]
  },
  {
   "cell_type": "code",
   "execution_count": 2,
   "id": "1601aa26",
   "metadata": {},
   "outputs": [
    {
     "data": {
      "text/html": [
       "<div><div style = \"float: left;\"><span>3×12 DataFrame</span></div><div style = \"clear: both;\"></div></div><div class = \"data-frame\" style = \"overflow-x: scroll;\"><table class = \"data-frame\" style = \"margin-bottom: 6px;\"><thead><tr class = \"header\"><th class = \"rowNumber\" style = \"font-weight: bold; text-align: right;\">Row</th><th style = \"text-align: left;\">age</th><th style = \"text-align: left;\">statusquo</th><th style = \"text-align: left;\">voteyes</th><th style = \"text-align: left;\">income_log</th><th style = \"text-align: left;\">pop_log</th><th style = \"text-align: left;\">region_M</th><th style = \"text-align: left;\">region_N</th><th style = \"text-align: left;\">region_S</th><th style = \"text-align: left;\">region_SA</th><th style = \"text-align: left;\">education_PS</th><th style = \"text-align: left;\">education_S</th><th style = \"text-align: left;\">sex_F</th></tr><tr class = \"subheader headerLastRow\"><th class = \"rowNumber\" style = \"font-weight: bold; text-align: right;\"></th><th title = \"Int64\" style = \"text-align: left;\">Int64</th><th title = \"Float64\" style = \"text-align: left;\">Float64</th><th title = \"Int64\" style = \"text-align: left;\">Int64</th><th title = \"Float64\" style = \"text-align: left;\">Float64</th><th title = \"Float64\" style = \"text-align: left;\">Float64</th><th title = \"Bool\" style = \"text-align: left;\">Bool</th><th title = \"Bool\" style = \"text-align: left;\">Bool</th><th title = \"Bool\" style = \"text-align: left;\">Bool</th><th title = \"Bool\" style = \"text-align: left;\">Bool</th><th title = \"Bool\" style = \"text-align: left;\">Bool</th><th title = \"Bool\" style = \"text-align: left;\">Bool</th><th title = \"Bool\" style = \"text-align: left;\">Bool</th></tr></thead><tbody><tr><td class = \"rowNumber\" style = \"font-weight: bold; text-align: right;\">1</td><td style = \"text-align: right;\">65</td><td style = \"text-align: right;\">1.0082</td><td style = \"text-align: right;\">1</td><td style = \"text-align: right;\">10.4631</td><td style = \"text-align: right;\">12.0725</td><td style = \"text-align: right;\">false</td><td style = \"text-align: right;\">true</td><td style = \"text-align: right;\">false</td><td style = \"text-align: right;\">false</td><td style = \"text-align: right;\">false</td><td style = \"text-align: right;\">false</td><td style = \"text-align: right;\">false</td></tr><tr><td class = \"rowNumber\" style = \"font-weight: bold; text-align: right;\">2</td><td style = \"text-align: right;\">29</td><td style = \"text-align: right;\">-1.29617</td><td style = \"text-align: right;\">0</td><td style = \"text-align: right;\">8.92266</td><td style = \"text-align: right;\">12.0725</td><td style = \"text-align: right;\">false</td><td style = \"text-align: right;\">true</td><td style = \"text-align: right;\">false</td><td style = \"text-align: right;\">false</td><td style = \"text-align: right;\">true</td><td style = \"text-align: right;\">false</td><td style = \"text-align: right;\">false</td></tr><tr><td class = \"rowNumber\" style = \"font-weight: bold; text-align: right;\">3</td><td style = \"text-align: right;\">38</td><td style = \"text-align: right;\">1.23072</td><td style = \"text-align: right;\">1</td><td style = \"text-align: right;\">9.61581</td><td style = \"text-align: right;\">12.0725</td><td style = \"text-align: right;\">false</td><td style = \"text-align: right;\">true</td><td style = \"text-align: right;\">false</td><td style = \"text-align: right;\">false</td><td style = \"text-align: right;\">false</td><td style = \"text-align: right;\">false</td><td style = \"text-align: right;\">true</td></tr></tbody></table></div>"
      ],
      "text/latex": [
       "\\begin{tabular}{r|cccccccccc}\n",
       "\t& age & statusquo & voteyes & income\\_log & pop\\_log & region\\_M & region\\_N & region\\_S & region\\_SA & \\\\\n",
       "\t\\hline\n",
       "\t& Int64 & Float64 & Int64 & Float64 & Float64 & Bool & Bool & Bool & Bool & \\\\\n",
       "\t\\hline\n",
       "\t1 & 65 & 1.0082 & 1 & 10.4631 & 12.0725 & 0 & 1 & 0 & 0 & $\\dots$ \\\\\n",
       "\t2 & 29 & -1.29617 & 0 & 8.92266 & 12.0725 & 0 & 1 & 0 & 0 & $\\dots$ \\\\\n",
       "\t3 & 38 & 1.23072 & 1 & 9.61581 & 12.0725 & 0 & 1 & 0 & 0 & $\\dots$ \\\\\n",
       "\\end{tabular}\n"
      ],
      "text/plain": [
       "\u001b[1m3×12 DataFrame\u001b[0m\n",
       "\u001b[1m Row \u001b[0m│\u001b[1m age   \u001b[0m\u001b[1m statusquo \u001b[0m\u001b[1m voteyes \u001b[0m\u001b[1m income_log \u001b[0m\u001b[1m pop_log \u001b[0m\u001b[1m region_M \u001b[0m\u001b[1m region_N \u001b[0m\u001b[1m reg\u001b[0m ⋯\n",
       "     │\u001b[90m Int64 \u001b[0m\u001b[90m Float64   \u001b[0m\u001b[90m Int64   \u001b[0m\u001b[90m Float64    \u001b[0m\u001b[90m Float64 \u001b[0m\u001b[90m Bool     \u001b[0m\u001b[90m Bool     \u001b[0m\u001b[90m Boo\u001b[0m ⋯\n",
       "─────┼──────────────────────────────────────────────────────────────────────────\n",
       "   1 │    65    1.0082         1    10.4631   12.0725     false      true      ⋯\n",
       "   2 │    29   -1.29617        0     8.92266  12.0725     false      true\n",
       "   3 │    38    1.23072        1     9.61581  12.0725     false      true\n",
       "\u001b[36m                                                               5 columns omitted\u001b[0m"
      ]
     },
     "execution_count": 2,
     "metadata": {},
     "output_type": "execute_result"
    }
   ],
   "source": [
    "# Adapted from @xiaodaigh: https://github.com/xiaodaigh/DataConvenience.jl\n",
    "function onehot!(df::AbstractDataFrame, \n",
    "        col, cate = sort(unique(df[!, col])); \n",
    "        outnames = Symbol.(col, :_, cate))\n",
    "    transform!(df, @. col => ByRow(isequal(cate)) .=> outnames)\n",
    "end\n",
    "\n",
    "# One-hot encoding (we will learn a better way to do it later)\n",
    "onehot!(chile, :region);\n",
    "onehot!(chile, :education);\n",
    "onehot!(chile, :sex);\n",
    "\n",
    "# Drop reference categories\n",
    "select!(chile, Not(:region, :sex, :education, :region_C, :education_P, :sex_M))\n",
    "\n",
    "# Checking\n",
    "first(chile, 3)"
   ]
  },
  {
   "cell_type": "markdown",
   "id": "92474b46",
   "metadata": {},
   "source": [
    "And to facilitate, I will create three feature groups for you. One for each question."
   ]
  },
  {
   "cell_type": "code",
   "execution_count": 3,
   "id": "252f890e",
   "metadata": {},
   "outputs": [],
   "source": [
    "# Full Specification\n",
    "y, X_full = unpack(\n",
    "    chile,\n",
    "    ==(:voteyes),\n",
    "    c -> true;\n",
    "    :voteyes      => Multiclass,\n",
    "    :income_log   => Continuous,\n",
    "    :pop_log      => Continuous,\n",
    "    :age          => Continuous,\n",
    "    :statusquo    => Continuous,\n",
    "    :region_M     => Multiclass,\n",
    "    :region_N     => Multiclass,\n",
    "    :region_S     => Multiclass,\n",
    "    :region_SA    => Multiclass,\n",
    "    :sex_F        => Multiclass,\n",
    "    :education_S  => Multiclass,\n",
    "    :education_PS => Multiclass,\n",
    ");\n",
    "\n",
    "# Q1: statusquo only\n",
    "X_q1 = select(X_full, :statusquo);\n",
    "\n",
    "# Q2: continuous only\n",
    "X_q2 = select(X_full, :income_log, :pop_log, :age, :statusquo);"
   ]
  },
  {
   "cell_type": "code",
   "execution_count": 4,
   "id": "2996de81",
   "metadata": {},
   "outputs": [
    {
     "data": {
      "text/plain": [
       "2-element Named Vector{Int64}\n",
       "Dim1  │ \n",
       "──────┼─────\n",
       "0     │ 1595\n",
       "1     │  836"
      ]
     },
     "execution_count": 4,
     "metadata": {},
     "output_type": "execute_result"
    }
   ],
   "source": [
    "# Target\n",
    "FreqTables.freqtable(y)"
   ]
  },
  {
   "cell_type": "code",
   "execution_count": 5,
   "id": "c5aebeb4",
   "metadata": {},
   "outputs": [
    {
     "data": {
      "text/html": [
       "<div><div style = \"float: left;\"><span>3×1 DataFrame</span></div><div style = \"clear: both;\"></div></div><div class = \"data-frame\" style = \"overflow-x: scroll;\"><table class = \"data-frame\" style = \"margin-bottom: 6px;\"><thead><tr class = \"header\"><th class = \"rowNumber\" style = \"font-weight: bold; text-align: right;\">Row</th><th style = \"text-align: left;\">statusquo</th></tr><tr class = \"subheader headerLastRow\"><th class = \"rowNumber\" style = \"font-weight: bold; text-align: right;\"></th><th title = \"Float64\" style = \"text-align: left;\">Float64</th></tr></thead><tbody><tr><td class = \"rowNumber\" style = \"font-weight: bold; text-align: right;\">1</td><td style = \"text-align: right;\">1.0082</td></tr><tr><td class = \"rowNumber\" style = \"font-weight: bold; text-align: right;\">2</td><td style = \"text-align: right;\">-1.29617</td></tr><tr><td class = \"rowNumber\" style = \"font-weight: bold; text-align: right;\">3</td><td style = \"text-align: right;\">1.23072</td></tr></tbody></table></div>"
      ],
      "text/latex": [
       "\\begin{tabular}{r|c}\n",
       "\t& statusquo\\\\\n",
       "\t\\hline\n",
       "\t& Float64\\\\\n",
       "\t\\hline\n",
       "\t1 & 1.0082 \\\\\n",
       "\t2 & -1.29617 \\\\\n",
       "\t3 & 1.23072 \\\\\n",
       "\\end{tabular}\n"
      ],
      "text/plain": [
       "\u001b[1m3×1 DataFrame\u001b[0m\n",
       "\u001b[1m Row \u001b[0m│\u001b[1m statusquo \u001b[0m\n",
       "     │\u001b[90m Float64   \u001b[0m\n",
       "─────┼───────────\n",
       "   1 │   1.0082\n",
       "   2 │  -1.29617\n",
       "   3 │   1.23072"
      ]
     },
     "execution_count": 5,
     "metadata": {},
     "output_type": "execute_result"
    }
   ],
   "source": [
    "# Question 1 feature\n",
    "first(X_q1, 3)"
   ]
  },
  {
   "cell_type": "code",
   "execution_count": 6,
   "id": "f4d2383a",
   "metadata": {},
   "outputs": [
    {
     "data": {
      "text/html": [
       "<div><div style = \"float: left;\"><span>3×4 DataFrame</span></div><div style = \"clear: both;\"></div></div><div class = \"data-frame\" style = \"overflow-x: scroll;\"><table class = \"data-frame\" style = \"margin-bottom: 6px;\"><thead><tr class = \"header\"><th class = \"rowNumber\" style = \"font-weight: bold; text-align: right;\">Row</th><th style = \"text-align: left;\">income_log</th><th style = \"text-align: left;\">pop_log</th><th style = \"text-align: left;\">age</th><th style = \"text-align: left;\">statusquo</th></tr><tr class = \"subheader headerLastRow\"><th class = \"rowNumber\" style = \"font-weight: bold; text-align: right;\"></th><th title = \"Float64\" style = \"text-align: left;\">Float64</th><th title = \"Float64\" style = \"text-align: left;\">Float64</th><th title = \"Float64\" style = \"text-align: left;\">Float64</th><th title = \"Float64\" style = \"text-align: left;\">Float64</th></tr></thead><tbody><tr><td class = \"rowNumber\" style = \"font-weight: bold; text-align: right;\">1</td><td style = \"text-align: right;\">10.4631</td><td style = \"text-align: right;\">12.0725</td><td style = \"text-align: right;\">65.0</td><td style = \"text-align: right;\">1.0082</td></tr><tr><td class = \"rowNumber\" style = \"font-weight: bold; text-align: right;\">2</td><td style = \"text-align: right;\">8.92266</td><td style = \"text-align: right;\">12.0725</td><td style = \"text-align: right;\">29.0</td><td style = \"text-align: right;\">-1.29617</td></tr><tr><td class = \"rowNumber\" style = \"font-weight: bold; text-align: right;\">3</td><td style = \"text-align: right;\">9.61581</td><td style = \"text-align: right;\">12.0725</td><td style = \"text-align: right;\">38.0</td><td style = \"text-align: right;\">1.23072</td></tr></tbody></table></div>"
      ],
      "text/latex": [
       "\\begin{tabular}{r|cccc}\n",
       "\t& income\\_log & pop\\_log & age & statusquo\\\\\n",
       "\t\\hline\n",
       "\t& Float64 & Float64 & Float64 & Float64\\\\\n",
       "\t\\hline\n",
       "\t1 & 10.4631 & 12.0725 & 65.0 & 1.0082 \\\\\n",
       "\t2 & 8.92266 & 12.0725 & 29.0 & -1.29617 \\\\\n",
       "\t3 & 9.61581 & 12.0725 & 38.0 & 1.23072 \\\\\n",
       "\\end{tabular}\n"
      ],
      "text/plain": [
       "\u001b[1m3×4 DataFrame\u001b[0m\n",
       "\u001b[1m Row \u001b[0m│\u001b[1m income_log \u001b[0m\u001b[1m pop_log \u001b[0m\u001b[1m age     \u001b[0m\u001b[1m statusquo \u001b[0m\n",
       "     │\u001b[90m Float64    \u001b[0m\u001b[90m Float64 \u001b[0m\u001b[90m Float64 \u001b[0m\u001b[90m Float64   \u001b[0m\n",
       "─────┼─────────────────────────────────────────\n",
       "   1 │   10.4631   12.0725     65.0    1.0082\n",
       "   2 │    8.92266  12.0725     29.0   -1.29617\n",
       "   3 │    9.61581  12.0725     38.0    1.23072"
      ]
     },
     "execution_count": 6,
     "metadata": {},
     "output_type": "execute_result"
    }
   ],
   "source": [
    "# Question 2 features\n",
    "first(X_q2, 3)"
   ]
  },
  {
   "cell_type": "code",
   "execution_count": 7,
   "id": "baa867fa",
   "metadata": {},
   "outputs": [
    {
     "data": {
      "text/html": [
       "<div><div style = \"float: left;\"><span>3×11 DataFrame</span></div><div style = \"clear: both;\"></div></div><div class = \"data-frame\" style = \"overflow-x: scroll;\"><table class = \"data-frame\" style = \"margin-bottom: 6px;\"><thead><tr class = \"header\"><th class = \"rowNumber\" style = \"font-weight: bold; text-align: right;\">Row</th><th style = \"text-align: left;\">age</th><th style = \"text-align: left;\">statusquo</th><th style = \"text-align: left;\">income_log</th><th style = \"text-align: left;\">pop_log</th><th style = \"text-align: left;\">region_M</th><th style = \"text-align: left;\">region_N</th><th style = \"text-align: left;\">region_S</th><th style = \"text-align: left;\">region_SA</th><th style = \"text-align: left;\">education_PS</th><th style = \"text-align: left;\">education_S</th><th style = \"text-align: left;\">sex_F</th></tr><tr class = \"subheader headerLastRow\"><th class = \"rowNumber\" style = \"font-weight: bold; text-align: right;\"></th><th title = \"Float64\" style = \"text-align: left;\">Float64</th><th title = \"Float64\" style = \"text-align: left;\">Float64</th><th title = \"Float64\" style = \"text-align: left;\">Float64</th><th title = \"Float64\" style = \"text-align: left;\">Float64</th><th title = \"CategoricalArrays.CategoricalValue{Bool, UInt32}\" style = \"text-align: left;\">Cat…</th><th title = \"CategoricalArrays.CategoricalValue{Bool, UInt32}\" style = \"text-align: left;\">Cat…</th><th title = \"CategoricalArrays.CategoricalValue{Bool, UInt32}\" style = \"text-align: left;\">Cat…</th><th title = \"CategoricalArrays.CategoricalValue{Bool, UInt32}\" style = \"text-align: left;\">Cat…</th><th title = \"CategoricalArrays.CategoricalValue{Bool, UInt32}\" style = \"text-align: left;\">Cat…</th><th title = \"CategoricalArrays.CategoricalValue{Bool, UInt32}\" style = \"text-align: left;\">Cat…</th><th title = \"CategoricalArrays.CategoricalValue{Bool, UInt32}\" style = \"text-align: left;\">Cat…</th></tr></thead><tbody><tr><td class = \"rowNumber\" style = \"font-weight: bold; text-align: right;\">1</td><td style = \"text-align: right;\">65.0</td><td style = \"text-align: right;\">1.0082</td><td style = \"text-align: right;\">10.4631</td><td style = \"text-align: right;\">12.0725</td><td style = \"text-align: left;\">false</td><td style = \"text-align: left;\">true</td><td style = \"text-align: left;\">false</td><td style = \"text-align: left;\">false</td><td style = \"text-align: left;\">false</td><td style = \"text-align: left;\">false</td><td style = \"text-align: left;\">false</td></tr><tr><td class = \"rowNumber\" style = \"font-weight: bold; text-align: right;\">2</td><td style = \"text-align: right;\">29.0</td><td style = \"text-align: right;\">-1.29617</td><td style = \"text-align: right;\">8.92266</td><td style = \"text-align: right;\">12.0725</td><td style = \"text-align: left;\">false</td><td style = \"text-align: left;\">true</td><td style = \"text-align: left;\">false</td><td style = \"text-align: left;\">false</td><td style = \"text-align: left;\">true</td><td style = \"text-align: left;\">false</td><td style = \"text-align: left;\">false</td></tr><tr><td class = \"rowNumber\" style = \"font-weight: bold; text-align: right;\">3</td><td style = \"text-align: right;\">38.0</td><td style = \"text-align: right;\">1.23072</td><td style = \"text-align: right;\">9.61581</td><td style = \"text-align: right;\">12.0725</td><td style = \"text-align: left;\">false</td><td style = \"text-align: left;\">true</td><td style = \"text-align: left;\">false</td><td style = \"text-align: left;\">false</td><td style = \"text-align: left;\">false</td><td style = \"text-align: left;\">false</td><td style = \"text-align: left;\">true</td></tr></tbody></table></div>"
      ],
      "text/latex": [
       "\\begin{tabular}{r|ccccccccc}\n",
       "\t& age & statusquo & income\\_log & pop\\_log & region\\_M & region\\_N & region\\_S & region\\_SA & \\\\\n",
       "\t\\hline\n",
       "\t& Float64 & Float64 & Float64 & Float64 & Cat… & Cat… & Cat… & Cat… & \\\\\n",
       "\t\\hline\n",
       "\t1 & 65.0 & 1.0082 & 10.4631 & 12.0725 & false & true & false & false & $\\dots$ \\\\\n",
       "\t2 & 29.0 & -1.29617 & 8.92266 & 12.0725 & false & true & false & false & $\\dots$ \\\\\n",
       "\t3 & 38.0 & 1.23072 & 9.61581 & 12.0725 & false & true & false & false & $\\dots$ \\\\\n",
       "\\end{tabular}\n"
      ],
      "text/plain": [
       "\u001b[1m3×11 DataFrame\u001b[0m\n",
       "\u001b[1m Row \u001b[0m│\u001b[1m age     \u001b[0m\u001b[1m statusquo \u001b[0m\u001b[1m income_log \u001b[0m\u001b[1m pop_log \u001b[0m\u001b[1m region_M \u001b[0m\u001b[1m region_N \u001b[0m\u001b[1m region_S \u001b[0m\u001b[1m \u001b[0m ⋯\n",
       "     │\u001b[90m Float64 \u001b[0m\u001b[90m Float64   \u001b[0m\u001b[90m Float64    \u001b[0m\u001b[90m Float64 \u001b[0m\u001b[90m Cat…     \u001b[0m\u001b[90m Cat…     \u001b[0m\u001b[90m Cat…     \u001b[0m\u001b[90m \u001b[0m ⋯\n",
       "─────┼──────────────────────────────────────────────────────────────────────────\n",
       "   1 │    65.0    1.0082     10.4631   12.0725  false     true      false      ⋯\n",
       "   2 │    29.0   -1.29617     8.92266  12.0725  false     true      false\n",
       "   3 │    38.0    1.23072     9.61581  12.0725  false     true      false\n",
       "\u001b[36m                                                               4 columns omitted\u001b[0m"
      ]
     },
     "execution_count": 7,
     "metadata": {},
     "output_type": "execute_result"
    }
   ],
   "source": [
    "# Questions 3 to 5 features\n",
    "first(X_full, 3)"
   ]
  },
  {
   "cell_type": "markdown",
   "id": "1280d845",
   "metadata": {
    "slideshow": {
     "slide_type": "slide"
    }
   },
   "source": [
    "## Question 01: Logistic Regression with `statusquo` only (2pts)\n",
    "\n",
    "Run a logistic regression with only the `statusquo` variable. Evaluate the predictive power of your regression.\n",
    "\n",
    "**Hint 1:**\n",
    "\n",
    "Remember the steps:\n",
    "\n",
    "1. Instantiate the model\n",
    "1. Build and fit the model\n",
    "1. Make predictions and analyze them\n",
    "\n",
    "For predictions and evaluations, I suggest you to check (see Lectures 08 and 09):\n",
    "\n",
    "- Confusion Matrix\n",
    "- Accuracy\n",
    "- F1-Score\n",
    "- ROC Curve\n",
    "\n",
    "**Hint 2:**\n",
    "\n",
    "Save your machine and your predictions with `_q1` in their object names. This will come handy later.\n",
    "\n",
    "**Hint 3:**\n",
    "\n",
    "Use the `X_q1`as your feature dataset."
   ]
  },
  {
   "cell_type": "code",
   "execution_count": 8,
   "id": "99c207e3",
   "metadata": {},
   "outputs": [],
   "source": [
    "# Your answers here"
   ]
  },
  {
   "cell_type": "markdown",
   "id": "fbcba312-c4e8-43c7-adef-07535bb035cb",
   "metadata": {
    "slideshow": {
     "slide_type": "slide"
    },
    "tags": []
   },
   "source": [
    "## Question 02: Logistic Regression with Continuous Variables (2pts)\n",
    "\n",
    "Run a logistic regression with all the continuous variables. Evaluate the predictive power of your regression. Any improvements compared with Question 01?\n",
    "\n",
    "**Hint 1:**\n",
    "\n",
    "Remember the steps:\n",
    "\n",
    "1. Instantiate the model\n",
    "1. Build and fit the model\n",
    "1. Make predictions and analyze them\n",
    "\n",
    "For predictions and evaluations, I suggest you to check (see Lectures 08 and 09):\n",
    "\n",
    "- Confusion Matrix\n",
    "- Accuracy\n",
    "- F1-Score\n",
    "- ROC Curve\n",
    "\n",
    "**Hint 2:**\n",
    "\n",
    "Save your machine and your predictions with `_q2` in their object names. This will come handy later.\n",
    "\n",
    "**Hint 3:**\n",
    "\n",
    "Use the `X_q2`as your feature dataset."
   ]
  },
  {
   "cell_type": "code",
   "execution_count": 15,
   "id": "10ddb624",
   "metadata": {},
   "outputs": [],
   "source": [
    "# Your answers here"
   ]
  },
  {
   "cell_type": "markdown",
   "id": "a8b7a9df-1935-4595-a2b2-e05e71a8cf8b",
   "metadata": {
    "slideshow": {
     "slide_type": "slide"
    },
    "tags": []
   },
   "source": [
    "## Question 03: Logistic Regression with Full Model Specification (2pt)\n",
    "\n",
    "Run a logistic regression with all variables. Evaluate the predictive power of your regression. Any improvements compared with Question 01?\n",
    "\n",
    "**Hint 1:**\n",
    "\n",
    "Remember the steps:\n",
    "\n",
    "1. Instantiate the model\n",
    "1. Build and fit the model\n",
    "1. Make predictions and analyze them\n",
    "\n",
    "For predictions and evaluations, I suggest you to check (see Lectures 08 and 09):\n",
    "\n",
    "- Confusion Matrix\n",
    "- Accuracy\n",
    "- F1-Score\n",
    "- ROC Curve\n",
    "\n",
    "**Hint 2:**\n",
    "\n",
    "Save your machine and your predictions with `_q3` in their object names. This will come handy later.\n",
    "\n",
    "**Hint 3:**\n",
    "\n",
    "Use the `X_full`as your feature dataset."
   ]
  },
  {
   "cell_type": "code",
   "execution_count": 22,
   "id": "d654fc40",
   "metadata": {},
   "outputs": [],
   "source": [
    "# Your answers here"
   ]
  },
  {
   "cell_type": "markdown",
   "id": "243e38f9",
   "metadata": {
    "slideshow": {
     "slide_type": "slide"
    }
   },
   "source": [
    "## Question 04: Linear Discriminant Analysis and 5-Nearest Neighborhood Classifier (2 pt)\n",
    "\n",
    "Run a LDA and a 5-NN classifiers with all variables. Evaluate the predictive power of your regression. Any improvements compared with Question 01?\n",
    "\n",
    "**Hint 1:**\n",
    "\n",
    "Remember the steps:\n",
    "\n",
    "1. Instantiate the model\n",
    "1. Build and fit the model\n",
    "1. Make predictions and analyze them\n",
    "\n",
    "For predictions and evaluations, I suggest you to check (see Lectures 08 and 09):\n",
    "\n",
    "- Confusion Matrix\n",
    "- Accuracy\n",
    "- F1-Score\n",
    "- ROC Curve\n",
    "\n",
    "**Hint 2:**\n",
    "\n",
    "Save your machine and your predictions with `_q4_lda` (LDA) and `q4_5nn` (5-NN) in their object names. This will come handy later.\n",
    "\n",
    "**Hint 3:**\n",
    "\n",
    "Use the `X_full`as your feature dataset."
   ]
  },
  {
   "cell_type": "code",
   "execution_count": 29,
   "id": "c4b76b6a",
   "metadata": {},
   "outputs": [],
   "source": [
    "# Your answers here"
   ]
  },
  {
   "cell_type": "markdown",
   "id": "c82407c2",
   "metadata": {
    "slideshow": {
     "slide_type": "slide"
    }
   },
   "source": [
    "## Question 05: Model Selection (2pts)\n",
    "\n",
    "Which model is best? Plot the ROC curve for all the models, and find the best."
   ]
  },
  {
   "cell_type": "code",
   "execution_count": 41,
   "id": "9ed81d46",
   "metadata": {},
   "outputs": [],
   "source": [
    "# Your answers here"
   ]
  },
  {
   "cell_type": "markdown",
   "id": "a2731baa",
   "metadata": {},
   "source": [
    "**Great work!**"
   ]
  }
 ],
 "metadata": {
  "citation-manager": {
   "items": {}
  },
  "kernelspec": {
   "display_name": "Julia 1.9.2",
   "language": "julia",
   "name": "julia-1.9"
  },
  "language_info": {
   "file_extension": ".jl",
   "mimetype": "application/julia",
   "name": "julia",
   "version": "1.9.2"
  }
 },
 "nbformat": 4,
 "nbformat_minor": 5
}
