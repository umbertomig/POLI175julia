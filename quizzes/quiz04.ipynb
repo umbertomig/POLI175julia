{
 "cells": [
  {
   "cell_type": "markdown",
   "id": "66a1628f-0686-4f23-ad5f-600b9548fa45",
   "metadata": {
    "slideshow": {
     "slide_type": "slide"
    },
    "tags": []
   },
   "source": [
    "# POLI 175 - Quiz 04\n",
    "\n",
    "In this quiz, you will run a K-Nearest Neighborhood Classifier and perform Cross Validation to find the best $K$.\n",
    "\n",
    "Due date: Feb 23, 2024\n",
    "\n",
    "Again: The grading for the quiz is:\n",
    "\n",
    "$$ 0.7 \\times \\text{TRY} + 0.3 \\times \\text{CORRECT} $$\n",
    "\n",
    "The points below refer to the correctness part."
   ]
  },
  {
   "cell_type": "markdown",
   "id": "f41c4e3e",
   "metadata": {},
   "source": [
    "## Running Dataset\n",
    "\n",
    "### [Chile Survey](https://en.wikipedia.org/wiki/Chile)\n",
    "\n",
    "In 1988, the [Chilean Dictator](https://en.wikipedia.org/wiki/Military_dictatorship_of_Chile) [Augusto Pinochet](https://en.wikipedia.org/wiki/Augusto_Pinochet) conducted a [referendum to whether he should step out](https://en.wikipedia.org/wiki/1988_Chilean_presidential_referendum).\n",
    "\n",
    "The [FLACSO](https://en.wikipedia.org/wiki/Latin_American_Faculty_of_Social_Sciences) in Chile conducted a surver on 2700 respondents. We are going to build a model to predict their voting intentions.\n",
    "\n",
    "| **Variable** | **Meaning** |\n",
    "|:---:|---|\n",
    "| region | A factor with levels:<br>- `C`, Central; <br>- `M`, Metropolitan Santiago area; <br>- `N`, North; <br>- `S`, South; <br>- `SA`, city of Santiago. |\n",
    "| population | The population size of respondent's community. |\n",
    "| sex | A factor with levels: <br>- `F`, female; <br>- `M`, male. |\n",
    "| age | The respondent's age in years. |\n",
    "| education | A factor with levels: <br>- `P`, Primary; <br>- `S`, Secondary; <br>- `PS`, Post-secondary. |\n",
    "| income | The respondent's monthly income, in Pesos. |\n",
    "| statusquo | A scale of support for the status-quo. |\n",
    "| voteyes | A dummy variable with one<br>meaning a vote in favor of Pinochet |\n",
    "\n",
    "Let me pre-process the data a bit for you."
   ]
  },
  {
   "cell_type": "code",
   "execution_count": 1,
   "id": "c65c001c",
   "metadata": {},
   "outputs": [
    {
     "name": "stdout",
     "output_type": "stream",
     "text": [
      "┌─────────┬─────────┬───────┬───────────┬────────────┬─────────┬────────────┬────────────┐\n",
      "│\u001b[1m region  \u001b[0m│\u001b[1m sex     \u001b[0m│\u001b[1m age   \u001b[0m│\u001b[1m education \u001b[0m│\u001b[1m statusquo  \u001b[0m│\u001b[1m voteyes \u001b[0m│\u001b[1m income_log \u001b[0m│\u001b[1m pop_log    \u001b[0m│\n",
      "│\u001b[90m String3 \u001b[0m│\u001b[90m String1 \u001b[0m│\u001b[90m Int64 \u001b[0m│\u001b[90m String3   \u001b[0m│\u001b[90m Float64    \u001b[0m│\u001b[90m Int64   \u001b[0m│\u001b[90m Float64    \u001b[0m│\u001b[90m Float64    \u001b[0m│\n",
      "│\u001b[90m Textual \u001b[0m│\u001b[90m Textual \u001b[0m│\u001b[90m Count \u001b[0m│\u001b[90m Textual   \u001b[0m│\u001b[90m Continuous \u001b[0m│\u001b[90m Count   \u001b[0m│\u001b[90m Continuous \u001b[0m│\u001b[90m Continuous \u001b[0m│\n",
      "├─────────┼─────────┼───────┼───────────┼────────────┼─────────┼────────────┼────────────┤\n",
      "│ N       │ M       │ 65    │ P         │ 1.0082     │ 1       │ 10.4631    │ 12.0725    │\n",
      "│ N       │ M       │ 29    │ PS        │ -1.29617   │ 0       │ 8.92266    │ 12.0725    │\n",
      "│ N       │ F       │ 38    │ P         │ 1.23072    │ 1       │ 9.61581    │ 12.0725    │\n",
      "└─────────┴─────────┴───────┴───────────┴────────────┴─────────┴────────────┴────────────┘\n"
     ]
    }
   ],
   "source": [
    "## Loading the packages (make sure you have those installed)\n",
    "using DataFrames\n",
    "using MLJ, MLJIteration\n",
    "import MLJLinearModels, MLJBase\n",
    "import MultivariateStats, MLJMultivariateStatsInterface\n",
    "import CSV, Plots, GLM, StatsBase, Random\n",
    "import LaTeXStrings, StatsPlots, Lowess, Gadfly, RegressionTables\n",
    "import CovarianceMatrices, Econometrics, LinearAlgebra, MixedModelsExtras\n",
    "import Missings, StatsAPI, FreqTables, EvalMetrics\n",
    "import NearestNeighborModels\n",
    "\n",
    "## Loading the data\n",
    "chile = CSV.read(\n",
    "    download(\"https://raw.githubusercontent.com/umbertomig/POLI175julia/main/data/chilesurvey.csv\"), \n",
    "    DataFrame,\n",
    "    missingstring = [\"NA\"]\n",
    "); dropmissing!(chile)\n",
    "\n",
    "## Process target variable\n",
    "chile.voteyes = ifelse.(chile.vote .== \"Y\", 1, 0)\n",
    "\n",
    "# Pre-process numeri cariables (log them)\n",
    "chile.income_log = log.(chile.income);\n",
    "chile.pop_log = log.(chile.population);\n",
    "\n",
    "select!(chile, Not(:vote, :income, :population))\n",
    "first(chile, 3) |> pretty"
   ]
  },
  {
   "cell_type": "code",
   "execution_count": 2,
   "id": "1601aa26",
   "metadata": {},
   "outputs": [
    {
     "data": {
      "text/html": [
       "<div><div style = \"float: left;\"><span>3×12 DataFrame</span></div><div style = \"clear: both;\"></div></div><div class = \"data-frame\" style = \"overflow-x: scroll;\"><table class = \"data-frame\" style = \"margin-bottom: 6px;\"><thead><tr class = \"header\"><th class = \"rowNumber\" style = \"font-weight: bold; text-align: right;\">Row</th><th style = \"text-align: left;\">age</th><th style = \"text-align: left;\">statusquo</th><th style = \"text-align: left;\">voteyes</th><th style = \"text-align: left;\">income_log</th><th style = \"text-align: left;\">pop_log</th><th style = \"text-align: left;\">region_M</th><th style = \"text-align: left;\">region_N</th><th style = \"text-align: left;\">region_S</th><th style = \"text-align: left;\">region_SA</th><th style = \"text-align: left;\">education_PS</th><th style = \"text-align: left;\">education_S</th><th style = \"text-align: left;\">sex_F</th></tr><tr class = \"subheader headerLastRow\"><th class = \"rowNumber\" style = \"font-weight: bold; text-align: right;\"></th><th title = \"Int64\" style = \"text-align: left;\">Int64</th><th title = \"Float64\" style = \"text-align: left;\">Float64</th><th title = \"Int64\" style = \"text-align: left;\">Int64</th><th title = \"Float64\" style = \"text-align: left;\">Float64</th><th title = \"Float64\" style = \"text-align: left;\">Float64</th><th title = \"Bool\" style = \"text-align: left;\">Bool</th><th title = \"Bool\" style = \"text-align: left;\">Bool</th><th title = \"Bool\" style = \"text-align: left;\">Bool</th><th title = \"Bool\" style = \"text-align: left;\">Bool</th><th title = \"Bool\" style = \"text-align: left;\">Bool</th><th title = \"Bool\" style = \"text-align: left;\">Bool</th><th title = \"Bool\" style = \"text-align: left;\">Bool</th></tr></thead><tbody><tr><td class = \"rowNumber\" style = \"font-weight: bold; text-align: right;\">1</td><td style = \"text-align: right;\">65</td><td style = \"text-align: right;\">1.0082</td><td style = \"text-align: right;\">1</td><td style = \"text-align: right;\">10.4631</td><td style = \"text-align: right;\">12.0725</td><td style = \"text-align: right;\">false</td><td style = \"text-align: right;\">true</td><td style = \"text-align: right;\">false</td><td style = \"text-align: right;\">false</td><td style = \"text-align: right;\">false</td><td style = \"text-align: right;\">false</td><td style = \"text-align: right;\">false</td></tr><tr><td class = \"rowNumber\" style = \"font-weight: bold; text-align: right;\">2</td><td style = \"text-align: right;\">29</td><td style = \"text-align: right;\">-1.29617</td><td style = \"text-align: right;\">0</td><td style = \"text-align: right;\">8.92266</td><td style = \"text-align: right;\">12.0725</td><td style = \"text-align: right;\">false</td><td style = \"text-align: right;\">true</td><td style = \"text-align: right;\">false</td><td style = \"text-align: right;\">false</td><td style = \"text-align: right;\">true</td><td style = \"text-align: right;\">false</td><td style = \"text-align: right;\">false</td></tr><tr><td class = \"rowNumber\" style = \"font-weight: bold; text-align: right;\">3</td><td style = \"text-align: right;\">38</td><td style = \"text-align: right;\">1.23072</td><td style = \"text-align: right;\">1</td><td style = \"text-align: right;\">9.61581</td><td style = \"text-align: right;\">12.0725</td><td style = \"text-align: right;\">false</td><td style = \"text-align: right;\">true</td><td style = \"text-align: right;\">false</td><td style = \"text-align: right;\">false</td><td style = \"text-align: right;\">false</td><td style = \"text-align: right;\">false</td><td style = \"text-align: right;\">true</td></tr></tbody></table></div>"
      ],
      "text/latex": [
       "\\begin{tabular}{r|cccccccccc}\n",
       "\t& age & statusquo & voteyes & income\\_log & pop\\_log & region\\_M & region\\_N & region\\_S & region\\_SA & \\\\\n",
       "\t\\hline\n",
       "\t& Int64 & Float64 & Int64 & Float64 & Float64 & Bool & Bool & Bool & Bool & \\\\\n",
       "\t\\hline\n",
       "\t1 & 65 & 1.0082 & 1 & 10.4631 & 12.0725 & 0 & 1 & 0 & 0 & $\\dots$ \\\\\n",
       "\t2 & 29 & -1.29617 & 0 & 8.92266 & 12.0725 & 0 & 1 & 0 & 0 & $\\dots$ \\\\\n",
       "\t3 & 38 & 1.23072 & 1 & 9.61581 & 12.0725 & 0 & 1 & 0 & 0 & $\\dots$ \\\\\n",
       "\\end{tabular}\n"
      ],
      "text/plain": [
       "\u001b[1m3×12 DataFrame\u001b[0m\n",
       "\u001b[1m Row \u001b[0m│\u001b[1m age   \u001b[0m\u001b[1m statusquo \u001b[0m\u001b[1m voteyes \u001b[0m\u001b[1m income_log \u001b[0m\u001b[1m pop_log \u001b[0m\u001b[1m region_M \u001b[0m\u001b[1m region_N \u001b[0m\u001b[1m reg\u001b[0m ⋯\n",
       "     │\u001b[90m Int64 \u001b[0m\u001b[90m Float64   \u001b[0m\u001b[90m Int64   \u001b[0m\u001b[90m Float64    \u001b[0m\u001b[90m Float64 \u001b[0m\u001b[90m Bool     \u001b[0m\u001b[90m Bool     \u001b[0m\u001b[90m Boo\u001b[0m ⋯\n",
       "─────┼──────────────────────────────────────────────────────────────────────────\n",
       "   1 │    65    1.0082         1    10.4631   12.0725     false      true      ⋯\n",
       "   2 │    29   -1.29617        0     8.92266  12.0725     false      true\n",
       "   3 │    38    1.23072        1     9.61581  12.0725     false      true\n",
       "\u001b[36m                                                               5 columns omitted\u001b[0m"
      ]
     },
     "execution_count": 2,
     "metadata": {},
     "output_type": "execute_result"
    }
   ],
   "source": [
    "# Adapted from @xiaodaigh: https://github.com/xiaodaigh/DataConvenience.jl\n",
    "function onehot!(df::AbstractDataFrame, \n",
    "        col, cate = sort(unique(df[!, col])); \n",
    "        outnames = Symbol.(col, :_, cate))\n",
    "    transform!(df, @. col => ByRow(isequal(cate)) .=> outnames)\n",
    "end\n",
    "\n",
    "# One-hot encoding (we will learn a better way to do it later)\n",
    "onehot!(chile, :region);\n",
    "onehot!(chile, :education);\n",
    "onehot!(chile, :sex);\n",
    "\n",
    "# Drop reference categories\n",
    "select!(chile, Not(:region, :sex, :education, :region_C, :education_P, :sex_M))\n",
    "\n",
    "# Checking\n",
    "first(chile, 3)"
   ]
  },
  {
   "cell_type": "markdown",
   "id": "92474b46",
   "metadata": {},
   "source": [
    "And to facilitate, I will create three feature groups for you. One for each question."
   ]
  },
  {
   "cell_type": "code",
   "execution_count": 3,
   "id": "252f890e",
   "metadata": {},
   "outputs": [],
   "source": [
    "# Full Specification\n",
    "y, X = unpack(\n",
    "    chile,\n",
    "    ==(:voteyes),\n",
    "    c -> true;\n",
    "    :voteyes      => Multiclass,\n",
    "    :income_log   => Continuous,\n",
    "    :pop_log      => Continuous,\n",
    "    :age          => Continuous,\n",
    "    :statusquo    => Continuous,\n",
    "    :region_M     => Multiclass,\n",
    "    :region_N     => Multiclass,\n",
    "    :region_S     => Multiclass,\n",
    "    :region_SA    => Multiclass,\n",
    "    :sex_F        => Multiclass,\n",
    "    :education_S  => Multiclass,\n",
    "    :education_PS => Multiclass,\n",
    ");"
   ]
  },
  {
   "cell_type": "code",
   "execution_count": 4,
   "id": "2996de81",
   "metadata": {},
   "outputs": [
    {
     "data": {
      "text/plain": [
       "2-element Named Vector{Int64}\n",
       "Dim1  │ \n",
       "──────┼─────\n",
       "0     │ 1595\n",
       "1     │  836"
      ]
     },
     "execution_count": 4,
     "metadata": {},
     "output_type": "execute_result"
    }
   ],
   "source": [
    "# Target\n",
    "FreqTables.freqtable(y)"
   ]
  },
  {
   "cell_type": "code",
   "execution_count": 5,
   "id": "c5aebeb4",
   "metadata": {},
   "outputs": [
    {
     "data": {
      "text/html": [
       "<div><div style = \"float: left;\"><span>3×11 DataFrame</span></div><div style = \"clear: both;\"></div></div><div class = \"data-frame\" style = \"overflow-x: scroll;\"><table class = \"data-frame\" style = \"margin-bottom: 6px;\"><thead><tr class = \"header\"><th class = \"rowNumber\" style = \"font-weight: bold; text-align: right;\">Row</th><th style = \"text-align: left;\">age</th><th style = \"text-align: left;\">statusquo</th><th style = \"text-align: left;\">income_log</th><th style = \"text-align: left;\">pop_log</th><th style = \"text-align: left;\">region_M</th><th style = \"text-align: left;\">region_N</th><th style = \"text-align: left;\">region_S</th><th style = \"text-align: left;\">region_SA</th><th style = \"text-align: left;\">education_PS</th><th style = \"text-align: left;\">education_S</th><th style = \"text-align: left;\">sex_F</th></tr><tr class = \"subheader headerLastRow\"><th class = \"rowNumber\" style = \"font-weight: bold; text-align: right;\"></th><th title = \"Float64\" style = \"text-align: left;\">Float64</th><th title = \"Float64\" style = \"text-align: left;\">Float64</th><th title = \"Float64\" style = \"text-align: left;\">Float64</th><th title = \"Float64\" style = \"text-align: left;\">Float64</th><th title = \"CategoricalArrays.CategoricalValue{Bool, UInt32}\" style = \"text-align: left;\">Cat…</th><th title = \"CategoricalArrays.CategoricalValue{Bool, UInt32}\" style = \"text-align: left;\">Cat…</th><th title = \"CategoricalArrays.CategoricalValue{Bool, UInt32}\" style = \"text-align: left;\">Cat…</th><th title = \"CategoricalArrays.CategoricalValue{Bool, UInt32}\" style = \"text-align: left;\">Cat…</th><th title = \"CategoricalArrays.CategoricalValue{Bool, UInt32}\" style = \"text-align: left;\">Cat…</th><th title = \"CategoricalArrays.CategoricalValue{Bool, UInt32}\" style = \"text-align: left;\">Cat…</th><th title = \"CategoricalArrays.CategoricalValue{Bool, UInt32}\" style = \"text-align: left;\">Cat…</th></tr></thead><tbody><tr><td class = \"rowNumber\" style = \"font-weight: bold; text-align: right;\">1</td><td style = \"text-align: right;\">65.0</td><td style = \"text-align: right;\">1.0082</td><td style = \"text-align: right;\">10.4631</td><td style = \"text-align: right;\">12.0725</td><td style = \"text-align: left;\">false</td><td style = \"text-align: left;\">true</td><td style = \"text-align: left;\">false</td><td style = \"text-align: left;\">false</td><td style = \"text-align: left;\">false</td><td style = \"text-align: left;\">false</td><td style = \"text-align: left;\">false</td></tr><tr><td class = \"rowNumber\" style = \"font-weight: bold; text-align: right;\">2</td><td style = \"text-align: right;\">29.0</td><td style = \"text-align: right;\">-1.29617</td><td style = \"text-align: right;\">8.92266</td><td style = \"text-align: right;\">12.0725</td><td style = \"text-align: left;\">false</td><td style = \"text-align: left;\">true</td><td style = \"text-align: left;\">false</td><td style = \"text-align: left;\">false</td><td style = \"text-align: left;\">true</td><td style = \"text-align: left;\">false</td><td style = \"text-align: left;\">false</td></tr><tr><td class = \"rowNumber\" style = \"font-weight: bold; text-align: right;\">3</td><td style = \"text-align: right;\">38.0</td><td style = \"text-align: right;\">1.23072</td><td style = \"text-align: right;\">9.61581</td><td style = \"text-align: right;\">12.0725</td><td style = \"text-align: left;\">false</td><td style = \"text-align: left;\">true</td><td style = \"text-align: left;\">false</td><td style = \"text-align: left;\">false</td><td style = \"text-align: left;\">false</td><td style = \"text-align: left;\">false</td><td style = \"text-align: left;\">true</td></tr></tbody></table></div>"
      ],
      "text/latex": [
       "\\begin{tabular}{r|ccccccccc}\n",
       "\t& age & statusquo & income\\_log & pop\\_log & region\\_M & region\\_N & region\\_S & region\\_SA & \\\\\n",
       "\t\\hline\n",
       "\t& Float64 & Float64 & Float64 & Float64 & Cat… & Cat… & Cat… & Cat… & \\\\\n",
       "\t\\hline\n",
       "\t1 & 65.0 & 1.0082 & 10.4631 & 12.0725 & false & true & false & false & $\\dots$ \\\\\n",
       "\t2 & 29.0 & -1.29617 & 8.92266 & 12.0725 & false & true & false & false & $\\dots$ \\\\\n",
       "\t3 & 38.0 & 1.23072 & 9.61581 & 12.0725 & false & true & false & false & $\\dots$ \\\\\n",
       "\\end{tabular}\n"
      ],
      "text/plain": [
       "\u001b[1m3×11 DataFrame\u001b[0m\n",
       "\u001b[1m Row \u001b[0m│\u001b[1m age     \u001b[0m\u001b[1m statusquo \u001b[0m\u001b[1m income_log \u001b[0m\u001b[1m pop_log \u001b[0m\u001b[1m region_M \u001b[0m\u001b[1m region_N \u001b[0m\u001b[1m region_S \u001b[0m\u001b[1m \u001b[0m ⋯\n",
       "     │\u001b[90m Float64 \u001b[0m\u001b[90m Float64   \u001b[0m\u001b[90m Float64    \u001b[0m\u001b[90m Float64 \u001b[0m\u001b[90m Cat…     \u001b[0m\u001b[90m Cat…     \u001b[0m\u001b[90m Cat…     \u001b[0m\u001b[90m \u001b[0m ⋯\n",
       "─────┼──────────────────────────────────────────────────────────────────────────\n",
       "   1 │    65.0    1.0082     10.4631   12.0725  false     true      false      ⋯\n",
       "   2 │    29.0   -1.29617     8.92266  12.0725  false     true      false\n",
       "   3 │    38.0    1.23072     9.61581  12.0725  false     true      false\n",
       "\u001b[36m                                                               4 columns omitted\u001b[0m"
      ]
     },
     "execution_count": 5,
     "metadata": {},
     "output_type": "execute_result"
    }
   ],
   "source": [
    "# Features\n",
    "first(X, 3)"
   ]
  },
  {
   "cell_type": "markdown",
   "id": "1280d845",
   "metadata": {
    "slideshow": {
     "slide_type": "slide"
    }
   },
   "source": [
    "## Question 01: Split sample (2 pts)\n",
    "\n",
    "Split the sample, following the rules below:\n",
    "\n",
    "1. (0.5 pts) Using the `partition` function, split the data into training and testing sets.\n",
    "1. (0.5 pts) The training set has to have 75% of the data.\n",
    "1. (0.5 pts) Stratify using the $y$ variable (voting for Pinochet). This step ensures that we have the same proportion of yays and nays in both datasets.\n",
    "1. (0.5 pts) Save the objects with the names `X_train`, `X_test`, `y_train`, and `y_test`.\n",
    "\n",
    "Use `12345` as seed (not strictly necessary, but helps the results to be closer to mine)."
   ]
  },
  {
   "cell_type": "code",
   "execution_count": 6,
   "id": "99c207e3",
   "metadata": {},
   "outputs": [],
   "source": [
    "# Your answers here"
   ]
  },
  {
   "cell_type": "markdown",
   "id": "fbcba312-c4e8-43c7-adef-07535bb035cb",
   "metadata": {
    "slideshow": {
     "slide_type": "slide"
    },
    "tags": []
   },
   "source": [
    "## Question 02: 5-Nearest Neighborhood (2pt)\n",
    "\n",
    "1. (0.5pts) Run a 5-Nearest Neighborhood model.\n",
    "1. (0.5pts) Compute the cross-validated classification accuracy. Use a 5-Fold Cross-Validation to evaluate your results (I build that for you already). Use the training set.\n",
    "1. (0.5pts) Fit the model in the entire training set data.\n",
    "1. (0.5pts) Evaluate its accuracy in the testing set.\n",
    "\n",
    "**Hint:** The metrics you should use now are different than the ones we use for regression. Check this source here: https://juliaai.github.io/StatisticalMeasures.jl/dev/auto_generated_list_of_measures/#aliases. Accuracy should be one of the first."
   ]
  },
  {
   "cell_type": "code",
   "execution_count": 8,
   "id": "61bc8c5c",
   "metadata": {},
   "outputs": [],
   "source": [
    "# 5-Fold CV\n",
    "cv5 = CV(\n",
    "    nfolds = 5,\n",
    "    rng = 54321\n",
    ");"
   ]
  },
  {
   "cell_type": "code",
   "execution_count": 9,
   "id": "10ddb624",
   "metadata": {},
   "outputs": [],
   "source": [
    "# Your answers here"
   ]
  },
  {
   "cell_type": "markdown",
   "id": "a8b7a9df-1935-4595-a2b2-e05e71a8cf8b",
   "metadata": {
    "slideshow": {
     "slide_type": "slide"
    },
    "tags": []
   },
   "source": [
    "## Question 03: ROC Curves (2pts)\n",
    "\n",
    "1. (1.0 pt) Compute the ROC curve on the training set\n",
    "1. (1.0 pt) Compute the ROC curve on the testing set\n",
    "\n",
    "What did you find?"
   ]
  },
  {
   "cell_type": "code",
   "execution_count": 14,
   "id": "d654fc40",
   "metadata": {},
   "outputs": [],
   "source": [
    "# Your answers here"
   ]
  },
  {
   "cell_type": "markdown",
   "id": "243e38f9",
   "metadata": {
    "slideshow": {
     "slide_type": "slide"
    }
   },
   "source": [
    "## Question 04: 20-Nearest Neighborhood (2pts)\n",
    "\n",
    "1. (0.5 pts) Run a 20-Nearest Neighborhood model on the data\n",
    "1. (0.5 pts) Compute the cross-validated classification accuracy\n",
    "1. (0.5 pts) Compute the ROC curves for the training and testing sets\n",
    "1. (0.5 pts) Compare your results with the results in the previous questions. \n",
    "\n",
    "What did you learn from this exercise?"
   ]
  },
  {
   "cell_type": "code",
   "execution_count": 18,
   "id": "c4b76b6a",
   "metadata": {},
   "outputs": [],
   "source": [
    "# Your answers here"
   ]
  },
  {
   "cell_type": "markdown",
   "id": "c82407c2",
   "metadata": {
    "slideshow": {
     "slide_type": "slide"
    }
   },
   "source": [
    "## Question 05: Search for Best $K$\n",
    "\n",
    "In this exercise, we will search the best $K$ for our $K$-Nearest Neighborhood model.\n",
    "\n",
    "1. (0.25 pts) Instantiate the model.\n",
    "1. (0.25 pts) Instantiate the range from 1 to 101.\n",
    "1. (0.5 pts) Create the self-tunning KNN using the function `TunedModel`. Use `accuracy` as the optimization measure.\n",
    "1. (0.5 pts) Search for the $K$ that maximizes the cross-validated accuracy in the training set using $K$ between 1 and 101. Set the Grid to have resolution of 100.\n",
    "1. (0.25 pts) Build a plot of the $K$ (x-axis) versus the cross-validated accuracy (y-axis).\n",
    "1. (0.25 pts) Deploy the best model to predict the testing set.\n",
    "\n",
    "**Hint 1:** Check [Lecture 12](https://github.com/umbertomig/POLI175julia/blob/main/lectures/jupyternb/lecture12.ipynb)\n",
    "\n",
    "**Hint 2:** I used some of the documentation in [here](https://alan-turing-institute.github.io/MLJ.jl/dev/tuning_models/#Overview) to build this problem. It even has a KNN tuning in it.\n",
    "\n",
    "**Hint 3:** Because of randomness, your best $K$ may be different than mine. This is fine. In all my tests, $K$ was between 5 and 25. For me, in most cases, it was 19."
   ]
  },
  {
   "cell_type": "code",
   "execution_count": 26,
   "id": "9ed81d46",
   "metadata": {},
   "outputs": [],
   "source": [
    "# Your answers here"
   ]
  },
  {
   "cell_type": "markdown",
   "id": "edb0f584",
   "metadata": {
    "slideshow": {
     "slide_type": "-"
    }
   },
   "source": [
    "**Great work!**"
   ]
  }
 ],
 "metadata": {
  "citation-manager": {
   "items": {}
  },
  "kernelspec": {
   "display_name": "Julia 1.9.2",
   "language": "julia",
   "name": "julia-1.9"
  },
  "language_info": {
   "file_extension": ".jl",
   "mimetype": "application/julia",
   "name": "julia",
   "version": "1.9.2"
  }
 },
 "nbformat": 4,
 "nbformat_minor": 5
}
