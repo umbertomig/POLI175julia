{
 "cells": [
  {
   "cell_type": "markdown",
   "id": "66a1628f-0686-4f23-ad5f-600b9548fa45",
   "metadata": {
    "slideshow": {
     "slide_type": "slide"
    },
    "tags": []
   },
   "source": [
    "# POLI 175 - Quiz 02\n",
    "\n",
    "In this quiz, you will diagnose regressions in Julia.\n",
    "\n",
    "Due date: Feb 09, 2024"
   ]
  },
  {
   "cell_type": "code",
   "execution_count": 1,
   "id": "fb2aacfa",
   "metadata": {},
   "outputs": [
    {
     "data": {
      "text/plain": [
       "pairplot (generic function with 1 method)"
      ]
     },
     "execution_count": 1,
     "metadata": {},
     "output_type": "execute_result"
    }
   ],
   "source": [
    "# If doesn't have packages\n",
    "#using Pkg; Pkg.add(\"name_of_package\");\n",
    "using CSV, DataFrames, Gadfly, GLM, StatsBase, Random, LaTeXStrings, StatsPlots\n",
    "import Plots, RegressionTables, CovarianceMatrices, Econometrics, LinearAlgebra, MixedModelsExtras\n",
    "\n",
    "# Loading DataFrame\n",
    "dat = CSV.read(download(\"https://raw.githubusercontent.com/umbertomig/POLI175julia/main/data/data1.csv\"), DataFrame);\n",
    "\n",
    "# Auxiliar function\n",
    "function pairplot(df)\n",
    "    _, cols = size(df)\n",
    "    plots = []\n",
    "    for row = 1:cols, col = 1:cols\n",
    "        push!(\n",
    "            plots,\n",
    "            scatter(\n",
    "                df[:, row],\n",
    "                df[:, col],\n",
    "                xtickfont = font(4),\n",
    "                ytickfont = font(4),\n",
    "                legend = false,\n",
    "            ),\n",
    "        )\n",
    "    end\n",
    "    Plots.plot(plots..., layout = (cols, cols))\n",
    "end"
   ]
  },
  {
   "cell_type": "markdown",
   "id": "1280d845",
   "metadata": {
    "slideshow": {
     "slide_type": "slide"
    }
   },
   "source": [
    "## Question 01: Explore the dataset (2pts)\n",
    "\n",
    "What are the descriptive statistics you usually run to explore a dataset? Run these for your dataset and explain your findings.\n",
    "\n",
    "**Note:** This is an open question, and you can answer in multiple ways. I usually do basic descriptive stats (e.g., number of rows, number of colums, names of the columns, mean, median, max, min, etc. Maybe a few histograms or other plots). Then I document things I believe are off, or other patterns I believe are worth noting."
   ]
  },
  {
   "cell_type": "code",
   "execution_count": 2,
   "id": "99c207e3",
   "metadata": {},
   "outputs": [],
   "source": [
    "# Your answers here"
   ]
  },
  {
   "cell_type": "markdown",
   "id": "fbcba312-c4e8-43c7-adef-07535bb035cb",
   "metadata": {
    "slideshow": {
     "slide_type": "slide"
    },
    "tags": []
   },
   "source": [
    "## Question 02: Pairplot (2pts)\n",
    "\n",
    "Do a pairplot of the dataset. Anything worth noting? Explain.\n",
    "\n",
    "**Note**: When I say explain, I mean type a sentence, either as a comment in your code, or a markdown typed explanation, telling us what you found."
   ]
  },
  {
   "cell_type": "code",
   "execution_count": 4,
   "id": "10ddb624",
   "metadata": {},
   "outputs": [],
   "source": [
    "# Your answers here"
   ]
  },
  {
   "cell_type": "markdown",
   "id": "a8b7a9df-1935-4595-a2b2-e05e71a8cf8b",
   "metadata": {
    "slideshow": {
     "slide_type": "slide"
    },
    "tags": []
   },
   "source": [
    "## Question 03: Regression (2pts)\n",
    "\n",
    "Run a linear regression of:\n",
    "\n",
    "- target: $y$\n",
    "- features: $x1$ and $x2$\n",
    "\n",
    "You will see that nothing comes out significant. Explain how I know that.\n",
    "\n",
    "**Note**: Use $\\alpha = 0.05$ as your threshold for significance."
   ]
  },
  {
   "cell_type": "code",
   "execution_count": 6,
   "id": "d654fc40",
   "metadata": {},
   "outputs": [],
   "source": [
    "# Your answers here"
   ]
  },
  {
   "cell_type": "markdown",
   "id": "243e38f9",
   "metadata": {
    "slideshow": {
     "slide_type": "slide"
    }
   },
   "source": [
    "## Question 04: Error Plot and diagnostics (2pts)\n",
    "\n",
    "For this regression, plot the fitted against the residuals. You will see that there is an outlier. Find it, remove it, and redo the regression and diagnostics plot.\n",
    "\n",
    "- Plot (0.5pt)\n",
    "- Find outlier (0.5pts)\n",
    "- Remove and redo regression (0.5pts)\n",
    "- Plot the residual x fitted again (0.5pts)\n",
    "\n",
    "**Hint**: \n",
    "\n",
    "1. Save the dataset without the outlier as dat2.\n",
    "1. Save the new regression as mod2.\n",
    "1. To find maximums: https://www.educative.io/answers/how-to-find-maxima-and-its-indices-in-julia-array\n",
    "1. Remove row: https://stackoverflow.com/questions/17298586/how-to-delete-a-row-of-matrix-in-julia?noredirect=1&lq=1"
   ]
  },
  {
   "cell_type": "code",
   "execution_count": 8,
   "id": "c4b76b6a",
   "metadata": {},
   "outputs": [],
   "source": [
    "# Your answers here"
   ]
  },
  {
   "cell_type": "markdown",
   "id": "c82407c2",
   "metadata": {
    "slideshow": {
     "slide_type": "slide"
    }
   },
   "source": [
    "## Question 05: Diagnostics further (2pts)\n",
    "\n",
    "1. (0.5 pts) Can we discard any of the variables from the last model in Q4? You will see that yes, but I want you to explain why. Run a new regression without the variable you discarded. Call it mod3.\n",
    "1. (0.5 pts) To cook the data, I may have used up to the 5th order polynomials in the variable you kept in `mod3`. Find out the correct specification. Save the correct one (which should be the most parcimonious) in `mod4`.\n",
    "1. (1.0 pts) Plot the fitted x residual in `mod4`. Anything worth noting? *Hint:* You should see that yes, but I want you to discuss."
   ]
  },
  {
   "cell_type": "code",
   "execution_count": 14,
   "id": "9ed81d46",
   "metadata": {},
   "outputs": [],
   "source": [
    "# Your answers here"
   ]
  },
  {
   "cell_type": "markdown",
   "id": "edb0f584",
   "metadata": {
    "slideshow": {
     "slide_type": "-"
    }
   },
   "source": [
    "**Great work!**"
   ]
  }
 ],
 "metadata": {
  "citation-manager": {
   "items": {}
  },
  "kernelspec": {
   "display_name": "Julia 1.9.2",
   "language": "julia",
   "name": "julia-1.9"
  },
  "language_info": {
   "file_extension": ".jl",
   "mimetype": "application/julia",
   "name": "julia",
   "version": "1.9.2"
  }
 },
 "nbformat": 4,
 "nbformat_minor": 5
}
