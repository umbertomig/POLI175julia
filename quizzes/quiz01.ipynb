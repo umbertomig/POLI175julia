{
 "cells": [
  {
   "cell_type": "markdown",
   "id": "66a1628f-0686-4f23-ad5f-600b9548fa45",
   "metadata": {
    "slideshow": {
     "slide_type": "slide"
    },
    "tags": []
   },
   "source": [
    "# POLI 175 - Quiz 01\n",
    "\n",
    "In this quiz, you will run a simple and a multiple linear regression in Julia.\n",
    "\n",
    "Due date: Jan 30, 2024\n",
    "\n",
    "Again: The grading for the quiz is:\n",
    "\n",
    "$$ 0.7 \\times \\text{TRY} + 0.3 \\times \\text{CORRECT} $$\n",
    "\n",
    "The points below refer to the correctness part."
   ]
  },
  {
   "cell_type": "markdown",
   "id": "1280d845",
   "metadata": {
    "slideshow": {
     "slide_type": "slide"
    }
   },
   "source": [
    "## Question 01: Load the packages (2pts)\n",
    "\n",
    "Load the following packages:\n",
    "\n",
    "- CSV\n",
    "- DataFrames\n",
    "- Plots\n",
    "- GLM\n",
    "- StatsBase\n",
    "- Random\n",
    "- LaTeXStrings\n",
    "- StatsPlots\n",
    "\n",
    "Install if you don't have them."
   ]
  },
  {
   "cell_type": "code",
   "execution_count": 1,
   "id": "99c207e3",
   "metadata": {},
   "outputs": [],
   "source": [
    "# Your answers here"
   ]
  },
  {
   "cell_type": "markdown",
   "id": "fbcba312-c4e8-43c7-adef-07535bb035cb",
   "metadata": {
    "slideshow": {
     "slide_type": "slide"
    },
    "tags": []
   },
   "source": [
    "## Question 02: Load the dataset (2pts)\n",
    "\n",
    "The dataset is in the following URL:\n",
    "\n",
    "```\n",
    "urldat = \"https://raw.githubusercontent.com/umbertomig/POLI175julia/main/data/Duncan.csv\"\n",
    "```\n",
    "\n",
    "To load, you need to do something like this:\n",
    "\n",
    "```\n",
    "dat = CSV.read(download(urldat), DataFrame)\n",
    "```\n",
    "\n",
    "Do that, and make sure that a preview of the dataset shows up."
   ]
  },
  {
   "cell_type": "code",
   "execution_count": 2,
   "id": "10ddb624",
   "metadata": {},
   "outputs": [],
   "source": [
    "# Your answers here"
   ]
  },
  {
   "cell_type": "markdown",
   "id": "a8b7a9df-1935-4595-a2b2-e05e71a8cf8b",
   "metadata": {
    "slideshow": {
     "slide_type": "slide"
    },
    "tags": []
   },
   "source": [
    "## Question 03: Exploring the dataset (2pts)\n",
    "\n",
    "Explore the dataset. Show us:\n",
    "\n",
    "1. (0.5 pts) Size of the dataset\n",
    "1. (0.5 pts) Variable names\n",
    "1. (0.5 pts) First (or last) few observations\n",
    "1. (0.5 pts) Descriptive statistics"
   ]
  },
  {
   "cell_type": "code",
   "execution_count": 3,
   "id": "d654fc40",
   "metadata": {},
   "outputs": [],
   "source": [
    "# Your answers here"
   ]
  },
  {
   "cell_type": "markdown",
   "id": "243e38f9",
   "metadata": {
    "slideshow": {
     "slide_type": "slide"
    }
   },
   "source": [
    "## Question 04: Run a simple regression using education to explain prestige (2pts)\n",
    "\n",
    "1. (0.5 pts) Run the regression\n",
    "1. (0.5 pts) Show the formula (you should adapt my code from class)\n",
    "1. (0.5 pts) Discuss the statistical significance\n",
    "1. (0.5 pts) Discuss the $R^2$."
   ]
  },
  {
   "cell_type": "code",
   "execution_count": 4,
   "id": "c4b76b6a",
   "metadata": {},
   "outputs": [],
   "source": [
    "# Your answers here"
   ]
  },
  {
   "cell_type": "markdown",
   "id": "c82407c2",
   "metadata": {
    "slideshow": {
     "slide_type": "slide"
    }
   },
   "source": [
    "## Question 05: Run the full model (2pts)\n",
    "\n",
    "1. (0.5 pts) Run the regression\n",
    "1. (0.5 pts) Show the formula (you should adapt my code from class)\n",
    "1. (1.0 pt) Is this model better than the one you ran in Q4. Discuss."
   ]
  },
  {
   "cell_type": "code",
   "execution_count": 5,
   "id": "9ed81d46",
   "metadata": {},
   "outputs": [],
   "source": [
    "# Your answers here"
   ]
  },
  {
   "cell_type": "markdown",
   "id": "edb0f584",
   "metadata": {
    "slideshow": {
     "slide_type": "-"
    }
   },
   "source": [
    "That's all, folks! Watch my video on how to submit it.\n",
    "\n",
    "**Great work!**"
   ]
  }
 ],
 "metadata": {
  "citation-manager": {
   "items": {}
  },
  "kernelspec": {
   "display_name": "Julia 1.9.2",
   "language": "julia",
   "name": "julia-1.9"
  },
  "language_info": {
   "file_extension": ".jl",
   "mimetype": "application/julia",
   "name": "julia",
   "version": "1.9.2"
  }
 },
 "nbformat": 4,
 "nbformat_minor": 5
}
